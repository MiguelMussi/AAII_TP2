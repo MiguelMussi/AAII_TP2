{
  "metadata": {
    "kernelspec": {
      "language": "python",
      "display_name": "Python 3",
      "name": "python3"
    },
    "language_info": {
      "name": "python",
      "version": "3.10.13",
      "mimetype": "text/x-python",
      "codemirror_mode": {
        "name": "ipython",
        "version": 3
      },
      "pygments_lexer": "ipython3",
      "nbconvert_exporter": "python",
      "file_extension": ".py"
    },
    "kaggle": {
      "accelerator": "gpu",
      "dataSources": [],
      "dockerImageVersionId": 30732,
      "isInternetEnabled": true,
      "language": "python",
      "sourceType": "notebook",
      "isGpuEnabled": true
    },
    "colab": {
      "provenance": []
    }
  },
  "nbformat_minor": 0,
  "nbformat": 4,
  "cells": [
    {
      "cell_type": "markdown",
      "source": [
        "# TUIA / AAII - TP2: Redes Recurrentes y Transformers - Problema 2b"
      ],
      "metadata": {
        "id": "jWlZ7721duqu"
      }
    },
    {
      "cell_type": "markdown",
      "source": [
        "> *Modelo de generación de textos basados en RNN para escribir noticias falsas.*\n"
      ],
      "metadata": {
        "id": "Vtw3MW0wdxLt"
      }
    },
    {
      "cell_type": "markdown",
      "source": [
        "# Procedimientos Previos"
      ],
      "metadata": {
        "id": "xGw7z-H0d38E"
      }
    },
    {
      "cell_type": "markdown",
      "source": [
        "## Preparación del entorno"
      ],
      "metadata": {
        "id": "TMKEgqk4d6U-"
      }
    },
    {
      "cell_type": "markdown",
      "source": [
        "### Librerías"
      ],
      "metadata": {
        "id": "GPpmTpHTd88s"
      }
    },
    {
      "cell_type": "code",
      "source": [
        "# Data\n",
        "import numpy as np\n",
        "import os\n",
        "import re\n",
        "import tensorflow as tf\n",
        "import tensorflow_datasets as tfds\n",
        "\n",
        "# Redes Neuronales\n",
        "from tensorflow.keras.models import Model\n",
        "from tensorflow.keras.layers import Input, Embedding, LSTM, Dense, Dropout\n",
        "from tensorflow.keras.preprocessing.sequence import pad_sequences\n",
        "from tensorflow.keras.utils import to_categorical\n",
        "from tensorflow.keras.preprocessing.text import Tokenizer\n",
        "from tensorflow.keras.callbacks import ModelCheckpoint, EarlyStopping, ReduceLROnPlateau\n",
        "from sklearn.model_selection import train_test_split"
      ],
      "metadata": {
        "_uuid": "8f2839f25d086af736a60e9eeb907d3b93b6e0e5",
        "_cell_guid": "b1076dfc-b9ad-4769-8c92-a6c4dae69d19",
        "execution": {
          "iopub.status.busy": "2024-07-04T11:29:09.474197Z",
          "iopub.execute_input": "2024-07-04T11:29:09.475065Z",
          "iopub.status.idle": "2024-07-04T11:29:24.154413Z",
          "shell.execute_reply.started": "2024-07-04T11:29:09.475032Z",
          "shell.execute_reply": "2024-07-04T11:29:24.153528Z"
        },
        "trusted": true,
        "id": "m_Cc3inJdhbA",
        "outputId": "5633b11a-aa47-40f2-b563-dd5d890a62f3"
      },
      "execution_count": null,
      "outputs": [
        {
          "name": "stderr",
          "text": "2024-07-04 11:29:11.229389: E external/local_xla/xla/stream_executor/cuda/cuda_dnn.cc:9261] Unable to register cuDNN factory: Attempting to register factory for plugin cuDNN when one has already been registered\n2024-07-04 11:29:11.229520: E external/local_xla/xla/stream_executor/cuda/cuda_fft.cc:607] Unable to register cuFFT factory: Attempting to register factory for plugin cuFFT when one has already been registered\n2024-07-04 11:29:11.367659: E external/local_xla/xla/stream_executor/cuda/cuda_blas.cc:1515] Unable to register cuBLAS factory: Attempting to register factory for plugin cuBLAS when one has already been registered\n",
          "output_type": "stream"
        }
      ]
    },
    {
      "cell_type": "markdown",
      "source": [
        "### GPU"
      ],
      "metadata": {
        "id": "vzFu_pPEeRs-"
      }
    },
    {
      "cell_type": "code",
      "source": [
        "# Configurar para que TensorFlow utilice la GPU por defecto\n",
        "gpus = tf.config.experimental.list_physical_devices('GPU')\n",
        "if gpus:\n",
        "    try:\n",
        "        # Configurar para que TensorFlow asigne memoria dinámicamente\n",
        "        for gpu in gpus:\n",
        "            tf.config.experimental.set_memory_growth(gpu, True)\n",
        "        # Especificar la GPU por defecto\n",
        "        logical_gpus = tf.config.experimental.list_logical_devices('GPU')\n",
        "        print(len(gpus), \"Physical GPUs,\", len(logical_gpus), \"Logical GPUs\")\n",
        "    except RuntimeError as e:\n",
        "        # Manejar error\n",
        "        print(e)"
      ],
      "metadata": {
        "id": "zaRAhwd5eNkk"
      },
      "execution_count": null,
      "outputs": []
    },
    {
      "cell_type": "markdown",
      "source": [
        "## Dataset"
      ],
      "metadata": {
        "id": "wRURxFMOePUn"
      }
    },
    {
      "cell_type": "markdown",
      "source": [
        "El dataset proporcionado incluye 120000 artículos correspondientes a 4 categorías distintas. En este caso, la categoría no es relevante, sólo utilizaremos el dataset como un cuerpo de texto para entrenar un modelo recurrente de generación de texto.\n",
        "https://www.tensorflow.org/datasets/catalog/ag_news_subset"
      ],
      "metadata": {
        "id": "f6-BoQpPeXzN"
      }
    },
    {
      "cell_type": "code",
      "source": [
        "df, info = tfds.load('ag_news_subset', with_info=True,\n",
        "                          as_supervised=True)\n",
        "train_ds, val_ds = df['train'], df['test']"
      ],
      "metadata": {
        "execution": {
          "iopub.status.busy": "2024-07-04T11:29:24.156257Z",
          "iopub.execute_input": "2024-07-04T11:29:24.157020Z",
          "iopub.status.idle": "2024-07-04T11:29:55.337030Z",
          "shell.execute_reply.started": "2024-07-04T11:29:24.156985Z",
          "shell.execute_reply": "2024-07-04T11:29:55.336041Z"
        },
        "trusted": true,
        "id": "cB4cOyVKdhbG",
        "outputId": "14864f32-de6b-4f5a-cbb1-3575622d3468",
        "colab": {
          "referenced_widgets": [
            "5da602bea100490aaee490dd203a199f",
            "386f7cadc60c4301baacb73e3dc0b56a",
            "321b67f83526441ab5523bf80ee17885",
            ""
          ]
        }
      },
      "execution_count": null,
      "outputs": [
        {
          "name": "stdout",
          "text": "\u001b[1mDownloading and preparing dataset 11.24 MiB (download: 11.24 MiB, generated: 35.79 MiB, total: 47.03 MiB) to /root/tensorflow_datasets/ag_news_subset/1.0.0...\u001b[0m\n",
          "output_type": "stream"
        },
        {
          "output_type": "display_data",
          "data": {
            "text/plain": "Dl Completed...: 0 url [00:00, ? url/s]",
            "application/vnd.jupyter.widget-view+json": {
              "version_major": 2,
              "version_minor": 0,
              "model_id": "5da602bea100490aaee490dd203a199f"
            }
          },
          "metadata": {}
        },
        {
          "output_type": "display_data",
          "data": {
            "text/plain": "Dl Size...: 0 MiB [00:00, ? MiB/s]",
            "application/vnd.jupyter.widget-view+json": {
              "version_major": 2,
              "version_minor": 0,
              "model_id": "386f7cadc60c4301baacb73e3dc0b56a"
            }
          },
          "metadata": {}
        },
        {
          "output_type": "display_data",
          "data": {
            "text/plain": "Extraction completed...: 0 file [00:00, ? file/s]",
            "application/vnd.jupyter.widget-view+json": {
              "version_major": 2,
              "version_minor": 0,
              "model_id": "321b67f83526441ab5523bf80ee17885"
            }
          },
          "metadata": {}
        },
        {
          "output_type": "display_data",
          "data": {
            "text/plain": "Generating splits...:   0%|          | 0/2 [00:00<?, ? splits/s]",
            "application/vnd.jupyter.widget-view+json": {
              "version_major": 2,
              "version_minor": 0,
              "model_id": ""
            }
          },
          "metadata": {}
        },
        {
          "output_type": "display_data",
          "data": {
            "text/plain": "Generating train examples...:   0%|          | 0/120000 [00:00<?, ? examples/s]",
            "application/vnd.jupyter.widget-view+json": {
              "version_major": 2,
              "version_minor": 0,
              "model_id": ""
            }
          },
          "metadata": {}
        },
        {
          "output_type": "display_data",
          "data": {
            "text/plain": "Shuffling /root/tensorflow_datasets/ag_news_subset/1.0.0.incompleteULKK7J/ag_news_subset-train.tfrecord*...:  …",
            "application/vnd.jupyter.widget-view+json": {
              "version_major": 2,
              "version_minor": 0,
              "model_id": ""
            }
          },
          "metadata": {}
        },
        {
          "output_type": "display_data",
          "data": {
            "text/plain": "Generating test examples...:   0%|          | 0/7600 [00:00<?, ? examples/s]",
            "application/vnd.jupyter.widget-view+json": {
              "version_major": 2,
              "version_minor": 0,
              "model_id": ""
            }
          },
          "metadata": {}
        },
        {
          "output_type": "display_data",
          "data": {
            "text/plain": "Shuffling /root/tensorflow_datasets/ag_news_subset/1.0.0.incompleteULKK7J/ag_news_subset-test.tfrecord*...:   …",
            "application/vnd.jupyter.widget-view+json": {
              "version_major": 2,
              "version_minor": 0,
              "model_id": ""
            }
          },
          "metadata": {}
        },
        {
          "name": "stdout",
          "text": "\u001b[1mDataset ag_news_subset downloaded and prepared to /root/tensorflow_datasets/ag_news_subset/1.0.0. Subsequent calls will reuse this data.\u001b[0m\n",
          "output_type": "stream"
        }
      ]
    },
    {
      "cell_type": "code",
      "source": [
        "# Función para extraer el texto del dataset\n",
        "def extract_text(data):\n",
        "    text = ''\n",
        "    for article, _ in data:\n",
        "        text += article.numpy().decode('utf-8') + ' '\n",
        "    return text\n",
        "\n",
        "# Extraer el texto de los conjuntos de entrenamiento y prueba\n",
        "train_text = extract_text(train_ds)\n",
        "test_text = extract_text(val_ds)\n",
        "\n",
        "# Unir todos los textos en uno solo\n",
        "text = train_text + test_text\n",
        "\n",
        "# Mostrar una muestra del texto\n",
        "print(text[:500])"
      ],
      "metadata": {
        "execution": {
          "iopub.status.busy": "2024-07-04T11:29:55.338258Z",
          "iopub.execute_input": "2024-07-04T11:29:55.338548Z",
          "iopub.status.idle": "2024-07-04T11:30:32.069824Z",
          "shell.execute_reply.started": "2024-07-04T11:29:55.338516Z",
          "shell.execute_reply": "2024-07-04T11:30:32.068827Z"
        },
        "trusted": true,
        "id": "nIRoa5LBdhbH",
        "outputId": "cd1e2252-702e-4862-de89-d9dd3037dc18"
      },
      "execution_count": null,
      "outputs": [
        {
          "name": "stdout",
          "text": "AMD #39;s new dual-core Opteron chip is designed mainly for corporate computing applications, including databases, Web services, and financial transactions. Reuters - Major League Baseball\\Monday announced a decision on the appeal filed by Chicago Cubs\\pitcher Kerry Wood regarding a suspension stemming from an\\incident earlier this season. President Bush #39;s  quot;revenue-neutral quot; tax reform needs losers to balance its winners, and people claiming the federal deduction for state and local\n",
          "output_type": "stream"
        }
      ]
    },
    {
      "cell_type": "markdown",
      "source": [
        "### Limpieza"
      ],
      "metadata": {
        "id": "hTVMzFVOefMl"
      }
    },
    {
      "cell_type": "code",
      "source": [
        "def clean_text(text):\n",
        "    # Conservar solo letras, números, espacios y ciertos caracteres de puntuación\n",
        "    text = re.sub(r'[^a-zA-Z0-9.,!? ]+', '', text)\n",
        "    text = re.sub(r'\\s+', ' ', text).strip()\n",
        "    text = re.sub(r'\\[UNK\\]', ' ', text)\n",
        "    return text\n",
        "\n",
        "\n",
        "# Aplicar limpieza al texto\n",
        "cleaned_text = clean_text(text)\n",
        "\n",
        "# Verificación de la limpieza\n",
        "print(\"Texto original:\", text[:500])  # Mostrar una muestra del texto original\n",
        "print(\"Texto limpio:\", cleaned_text[:500])  # Mostrar una muestra del texto limpio"
      ],
      "metadata": {
        "execution": {
          "iopub.status.busy": "2024-07-04T11:30:32.071853Z",
          "iopub.execute_input": "2024-07-04T11:30:32.072163Z",
          "iopub.status.idle": "2024-07-04T11:30:34.965009Z",
          "shell.execute_reply.started": "2024-07-04T11:30:32.072138Z",
          "shell.execute_reply": "2024-07-04T11:30:34.964061Z"
        },
        "trusted": true,
        "id": "9QAJ2YqHdhbI",
        "outputId": "a30ac144-784a-4550-d70c-8e132df3525e"
      },
      "execution_count": null,
      "outputs": [
        {
          "name": "stdout",
          "text": "Texto original: AMD #39;s new dual-core Opteron chip is designed mainly for corporate computing applications, including databases, Web services, and financial transactions. Reuters - Major League Baseball\\Monday announced a decision on the appeal filed by Chicago Cubs\\pitcher Kerry Wood regarding a suspension stemming from an\\incident earlier this season. President Bush #39;s  quot;revenue-neutral quot; tax reform needs losers to balance its winners, and people claiming the federal deduction for state and local\nTexto limpio: AMD 39s new dualcore Opteron chip is designed mainly for corporate computing applications, including databases, Web services, and financial transactions. Reuters Major League BaseballMonday announced a decision on the appeal filed by Chicago Cubspitcher Kerry Wood regarding a suspension stemming from anincident earlier this season. President Bush 39s quotrevenueneutral quot tax reform needs losers to balance its winners, and people claiming the federal deduction for state and local taxes may be \n",
          "output_type": "stream"
        }
      ]
    },
    {
      "cell_type": "markdown",
      "source": [
        "### Procesamiento"
      ],
      "metadata": {
        "id": "5S4GCVyeehDs"
      }
    },
    {
      "cell_type": "code",
      "source": [
        "# Función para agregar tokens de inicio y fin a cada oración\n",
        "def add_start_end_tokens(sentences):\n",
        "    return ['<start> ' + sentence + ' <end>' for sentence in sentences]\n",
        "\n",
        "# Crear tokenizer y ajustarlo a las oraciones con tokens\n",
        "def create_tokenizer(sentences):\n",
        "    tokenizer = Tokenizer()\n",
        "    tokenizer.fit_on_texts(sentences)\n",
        "    return tokenizer\n",
        "\n",
        "# Calcular la longitud máxima de las descripciones\n",
        "def max_length(sentences):\n",
        "    return max(len(sentence.split()) for sentence in sentences)\n",
        "\n",
        "# Crear vocabulario a partir de las oraciones\n",
        "def text_vocabulary(sentences):\n",
        "    vocab = set()\n",
        "    for sentence in sentences:\n",
        "        vocab.update(sentence.split())\n",
        "    return vocab\n",
        "\n",
        "def reduce_sentences(sentences):\n",
        "    percentage = 5  # Ajusta este porcentaje según sea necesario\n",
        "    subset_size = int(len(sentences) * (percentage / 100))\n",
        "    reduced_sentences = [sentence.strip() for sentence in sentences[:subset_size] if sentence.strip()]\n",
        "    return reduced_sentences"
      ],
      "metadata": {
        "execution": {
          "iopub.status.busy": "2024-07-04T11:30:34.966721Z",
          "iopub.execute_input": "2024-07-04T11:30:34.967557Z",
          "iopub.status.idle": "2024-07-04T11:30:34.975034Z",
          "shell.execute_reply.started": "2024-07-04T11:30:34.967513Z",
          "shell.execute_reply": "2024-07-04T11:30:34.974155Z"
        },
        "trusted": true,
        "id": "tahQcB_wdhbK"
      },
      "execution_count": null,
      "outputs": []
    },
    {
      "cell_type": "code",
      "source": [
        "print(\"Longitud de cleaned_text:\", len(cleaned_text))\n",
        "# Dividir el texto limpiado en oraciones utilizando el punto como delimitador\n",
        "sentences = cleaned_text.split('.')\n",
        "print(\"Número de oraciones después de dividir por puntos:\", len(sentences))"
      ],
      "metadata": {
        "execution": {
          "iopub.status.busy": "2024-07-04T11:30:34.976243Z",
          "iopub.execute_input": "2024-07-04T11:30:34.976524Z",
          "iopub.status.idle": "2024-07-04T11:30:35.015375Z",
          "shell.execute_reply.started": "2024-07-04T11:30:34.976500Z",
          "shell.execute_reply": "2024-07-04T11:30:35.014557Z"
        },
        "trusted": true,
        "id": "DqcFYgFHdhbN",
        "outputId": "1d3c1dd7-da1f-494a-fdc8-e942d5b2403e"
      },
      "execution_count": null,
      "outputs": [
        {
          "name": "stdout",
          "text": "Longitud de cleaned_text: 24265313\nNúmero de oraciones después de dividir por puntos: 219461\n",
          "output_type": "stream"
        }
      ]
    },
    {
      "cell_type": "code",
      "source": [
        "# Reducir las oraciones y almacenar en una variable diferente\n",
        "reduced_sentences_list = reduce_sentences(sentences)\n",
        "\n",
        "# Agregar tokens de inicio y fin a cada oración reducida\n",
        "reduced_sentences_with_tokens = add_start_end_tokens(reduced_sentences_list)\n",
        "\n",
        "# Crear un tokenizer usando las oraciones con tokens\n",
        "tokenizer = create_tokenizer(reduced_sentences_with_tokens)\n",
        "\n",
        "# Crear vocabulario a partir de las oraciones\n",
        "vocab = text_vocabulary(reduced_sentences_with_tokens)\n",
        "vocab_size = len(vocab) + 1  # +1 para la palabra desconocida\n",
        "\n",
        "# Calcular la longitud máxima de las oraciones\n",
        "max_sentence_length = max_length(reduced_sentences_with_tokens)\n",
        "\n",
        "print(\"Vocabulario size:\", vocab_size)\n",
        "print(\"Longitud máxima de oraciones:\", max_sentence_length)"
      ],
      "metadata": {
        "execution": {
          "iopub.status.busy": "2024-07-04T11:30:35.016389Z",
          "iopub.execute_input": "2024-07-04T11:30:35.016660Z",
          "iopub.status.idle": "2024-07-04T11:30:35.379706Z",
          "shell.execute_reply.started": "2024-07-04T11:30:35.016626Z",
          "shell.execute_reply": "2024-07-04T11:30:35.378804Z"
        },
        "trusted": true,
        "id": "3Wp_pNykdhbO",
        "outputId": "1bc8b377-5105-415f-d716-d9d40d967126"
      },
      "execution_count": null,
      "outputs": [
        {
          "name": "stdout",
          "text": "Vocabulario size: 26994\nLongitud máxima de oraciones: 122\n",
          "output_type": "stream"
        }
      ]
    },
    {
      "cell_type": "markdown",
      "source": [
        "## Modelo"
      ],
      "metadata": {
        "id": "xbrD2xYce8DE"
      }
    },
    {
      "cell_type": "markdown",
      "source": [
        "### Definición"
      ],
      "metadata": {
        "id": "wwWsmHN9e99u"
      }
    },
    {
      "cell_type": "code",
      "source": [
        "# Modelo de generación de texto\n",
        "def define_model(vocab_size, max_length):\n",
        "    inputs = Input(shape=(max_length,))\n",
        "    x = Embedding(vocab_size, 256, mask_zero=True)(inputs)\n",
        "    x = Dropout(0.3)(x)\n",
        "    x = LSTM(256, return_sequences=True, use_cudnn=False)(x)  # Desactivar cuDNN aquí\n",
        "    x = Dropout(0.3)(x)\n",
        "    x = LSTM(256, use_cudnn=False)(x)  # Desactivar cuDNN aquí\n",
        "    x = Dense(256, activation='relu')(x)\n",
        "    x = Dropout(0.3)(x)\n",
        "    outputs = Dense(vocab_size, activation='softmax')(x)\n",
        "    model = Model(inputs, outputs)\n",
        "    model.compile(loss='categorical_crossentropy', optimizer='adam')\n",
        "    return model\n",
        "\n",
        "model = define_model(vocab_size, max_sentence_length)\n",
        "model.summary()"
      ],
      "metadata": {
        "execution": {
          "iopub.status.busy": "2024-07-04T11:30:35.380974Z",
          "iopub.execute_input": "2024-07-04T11:30:35.381267Z",
          "iopub.status.idle": "2024-07-04T11:30:36.024686Z",
          "shell.execute_reply.started": "2024-07-04T11:30:35.381242Z",
          "shell.execute_reply": "2024-07-04T11:30:36.023722Z"
        },
        "trusted": true,
        "id": "k9-miBtzdhbQ",
        "outputId": "8a2d03b3-f3f6-4232-d67e-b1119855343b"
      },
      "execution_count": null,
      "outputs": [
        {
          "output_type": "display_data",
          "data": {
            "text/plain": "\u001b[1mModel: \"functional_1\"\u001b[0m\n",
            "text/html": "<pre style=\"white-space:pre;overflow-x:auto;line-height:normal;font-family:Menlo,'DejaVu Sans Mono',consolas,'Courier New',monospace\"><span style=\"font-weight: bold\">Model: \"functional_1\"</span>\n</pre>\n"
          },
          "metadata": {}
        },
        {
          "output_type": "display_data",
          "data": {
            "text/plain": "┏━━━━━━━━━━━━━━━━━━━━━┳━━━━━━━━━━━━━━━━━━━┳━━━━━━━━━━━━┳━━━━━━━━━━━━━━━━━━━┓\n┃\u001b[1m \u001b[0m\u001b[1mLayer (type)       \u001b[0m\u001b[1m \u001b[0m┃\u001b[1m \u001b[0m\u001b[1mOutput Shape     \u001b[0m\u001b[1m \u001b[0m┃\u001b[1m \u001b[0m\u001b[1m   Param #\u001b[0m\u001b[1m \u001b[0m┃\u001b[1m \u001b[0m\u001b[1mConnected to     \u001b[0m\u001b[1m \u001b[0m┃\n┡━━━━━━━━━━━━━━━━━━━━━╇━━━━━━━━━━━━━━━━━━━╇━━━━━━━━━━━━╇━━━━━━━━━━━━━━━━━━━┩\n│ input_layer         │ (\u001b[38;5;45mNone\u001b[0m, \u001b[38;5;34m122\u001b[0m)       │          \u001b[38;5;34m0\u001b[0m │ -                 │\n│ (\u001b[38;5;33mInputLayer\u001b[0m)        │                   │            │                   │\n├─────────────────────┼───────────────────┼────────────┼───────────────────┤\n│ embedding           │ (\u001b[38;5;45mNone\u001b[0m, \u001b[38;5;34m122\u001b[0m, \u001b[38;5;34m256\u001b[0m)  │  \u001b[38;5;34m6,910,464\u001b[0m │ input_layer[\u001b[38;5;34m0\u001b[0m][\u001b[38;5;34m0\u001b[0m] │\n│ (\u001b[38;5;33mEmbedding\u001b[0m)         │                   │            │                   │\n├─────────────────────┼───────────────────┼────────────┼───────────────────┤\n│ dropout (\u001b[38;5;33mDropout\u001b[0m)   │ (\u001b[38;5;45mNone\u001b[0m, \u001b[38;5;34m122\u001b[0m, \u001b[38;5;34m256\u001b[0m)  │          \u001b[38;5;34m0\u001b[0m │ embedding[\u001b[38;5;34m0\u001b[0m][\u001b[38;5;34m0\u001b[0m]   │\n├─────────────────────┼───────────────────┼────────────┼───────────────────┤\n│ not_equal           │ (\u001b[38;5;45mNone\u001b[0m, \u001b[38;5;34m122\u001b[0m)       │          \u001b[38;5;34m0\u001b[0m │ input_layer[\u001b[38;5;34m0\u001b[0m][\u001b[38;5;34m0\u001b[0m] │\n│ (\u001b[38;5;33mNotEqual\u001b[0m)          │                   │            │                   │\n├─────────────────────┼───────────────────┼────────────┼───────────────────┤\n│ lstm (\u001b[38;5;33mLSTM\u001b[0m)         │ (\u001b[38;5;45mNone\u001b[0m, \u001b[38;5;34m122\u001b[0m, \u001b[38;5;34m256\u001b[0m)  │    \u001b[38;5;34m525,312\u001b[0m │ dropout[\u001b[38;5;34m0\u001b[0m][\u001b[38;5;34m0\u001b[0m],    │\n│                     │                   │            │ not_equal[\u001b[38;5;34m0\u001b[0m][\u001b[38;5;34m0\u001b[0m]   │\n├─────────────────────┼───────────────────┼────────────┼───────────────────┤\n│ dropout_1 (\u001b[38;5;33mDropout\u001b[0m) │ (\u001b[38;5;45mNone\u001b[0m, \u001b[38;5;34m122\u001b[0m, \u001b[38;5;34m256\u001b[0m)  │          \u001b[38;5;34m0\u001b[0m │ lstm[\u001b[38;5;34m0\u001b[0m][\u001b[38;5;34m0\u001b[0m]        │\n├─────────────────────┼───────────────────┼────────────┼───────────────────┤\n│ lstm_1 (\u001b[38;5;33mLSTM\u001b[0m)       │ (\u001b[38;5;45mNone\u001b[0m, \u001b[38;5;34m256\u001b[0m)       │    \u001b[38;5;34m525,312\u001b[0m │ dropout_1[\u001b[38;5;34m0\u001b[0m][\u001b[38;5;34m0\u001b[0m],  │\n│                     │                   │            │ not_equal[\u001b[38;5;34m0\u001b[0m][\u001b[38;5;34m0\u001b[0m]   │\n├─────────────────────┼───────────────────┼────────────┼───────────────────┤\n│ dense (\u001b[38;5;33mDense\u001b[0m)       │ (\u001b[38;5;45mNone\u001b[0m, \u001b[38;5;34m256\u001b[0m)       │     \u001b[38;5;34m65,792\u001b[0m │ lstm_1[\u001b[38;5;34m0\u001b[0m][\u001b[38;5;34m0\u001b[0m]      │\n├─────────────────────┼───────────────────┼────────────┼───────────────────┤\n│ dropout_2 (\u001b[38;5;33mDropout\u001b[0m) │ (\u001b[38;5;45mNone\u001b[0m, \u001b[38;5;34m256\u001b[0m)       │          \u001b[38;5;34m0\u001b[0m │ dense[\u001b[38;5;34m0\u001b[0m][\u001b[38;5;34m0\u001b[0m]       │\n├─────────────────────┼───────────────────┼────────────┼───────────────────┤\n│ dense_1 (\u001b[38;5;33mDense\u001b[0m)     │ (\u001b[38;5;45mNone\u001b[0m, \u001b[38;5;34m26994\u001b[0m)     │  \u001b[38;5;34m6,937,458\u001b[0m │ dropout_2[\u001b[38;5;34m0\u001b[0m][\u001b[38;5;34m0\u001b[0m]   │\n└─────────────────────┴───────────────────┴────────────┴───────────────────┘\n",
            "text/html": "<pre style=\"white-space:pre;overflow-x:auto;line-height:normal;font-family:Menlo,'DejaVu Sans Mono',consolas,'Courier New',monospace\">┏━━━━━━━━━━━━━━━━━━━━━┳━━━━━━━━━━━━━━━━━━━┳━━━━━━━━━━━━┳━━━━━━━━━━━━━━━━━━━┓\n┃<span style=\"font-weight: bold\"> Layer (type)        </span>┃<span style=\"font-weight: bold\"> Output Shape      </span>┃<span style=\"font-weight: bold\">    Param # </span>┃<span style=\"font-weight: bold\"> Connected to      </span>┃\n┡━━━━━━━━━━━━━━━━━━━━━╇━━━━━━━━━━━━━━━━━━━╇━━━━━━━━━━━━╇━━━━━━━━━━━━━━━━━━━┩\n│ input_layer         │ (<span style=\"color: #00d7ff; text-decoration-color: #00d7ff\">None</span>, <span style=\"color: #00af00; text-decoration-color: #00af00\">122</span>)       │          <span style=\"color: #00af00; text-decoration-color: #00af00\">0</span> │ -                 │\n│ (<span style=\"color: #0087ff; text-decoration-color: #0087ff\">InputLayer</span>)        │                   │            │                   │\n├─────────────────────┼───────────────────┼────────────┼───────────────────┤\n│ embedding           │ (<span style=\"color: #00d7ff; text-decoration-color: #00d7ff\">None</span>, <span style=\"color: #00af00; text-decoration-color: #00af00\">122</span>, <span style=\"color: #00af00; text-decoration-color: #00af00\">256</span>)  │  <span style=\"color: #00af00; text-decoration-color: #00af00\">6,910,464</span> │ input_layer[<span style=\"color: #00af00; text-decoration-color: #00af00\">0</span>][<span style=\"color: #00af00; text-decoration-color: #00af00\">0</span>] │\n│ (<span style=\"color: #0087ff; text-decoration-color: #0087ff\">Embedding</span>)         │                   │            │                   │\n├─────────────────────┼───────────────────┼────────────┼───────────────────┤\n│ dropout (<span style=\"color: #0087ff; text-decoration-color: #0087ff\">Dropout</span>)   │ (<span style=\"color: #00d7ff; text-decoration-color: #00d7ff\">None</span>, <span style=\"color: #00af00; text-decoration-color: #00af00\">122</span>, <span style=\"color: #00af00; text-decoration-color: #00af00\">256</span>)  │          <span style=\"color: #00af00; text-decoration-color: #00af00\">0</span> │ embedding[<span style=\"color: #00af00; text-decoration-color: #00af00\">0</span>][<span style=\"color: #00af00; text-decoration-color: #00af00\">0</span>]   │\n├─────────────────────┼───────────────────┼────────────┼───────────────────┤\n│ not_equal           │ (<span style=\"color: #00d7ff; text-decoration-color: #00d7ff\">None</span>, <span style=\"color: #00af00; text-decoration-color: #00af00\">122</span>)       │          <span style=\"color: #00af00; text-decoration-color: #00af00\">0</span> │ input_layer[<span style=\"color: #00af00; text-decoration-color: #00af00\">0</span>][<span style=\"color: #00af00; text-decoration-color: #00af00\">0</span>] │\n│ (<span style=\"color: #0087ff; text-decoration-color: #0087ff\">NotEqual</span>)          │                   │            │                   │\n├─────────────────────┼───────────────────┼────────────┼───────────────────┤\n│ lstm (<span style=\"color: #0087ff; text-decoration-color: #0087ff\">LSTM</span>)         │ (<span style=\"color: #00d7ff; text-decoration-color: #00d7ff\">None</span>, <span style=\"color: #00af00; text-decoration-color: #00af00\">122</span>, <span style=\"color: #00af00; text-decoration-color: #00af00\">256</span>)  │    <span style=\"color: #00af00; text-decoration-color: #00af00\">525,312</span> │ dropout[<span style=\"color: #00af00; text-decoration-color: #00af00\">0</span>][<span style=\"color: #00af00; text-decoration-color: #00af00\">0</span>],    │\n│                     │                   │            │ not_equal[<span style=\"color: #00af00; text-decoration-color: #00af00\">0</span>][<span style=\"color: #00af00; text-decoration-color: #00af00\">0</span>]   │\n├─────────────────────┼───────────────────┼────────────┼───────────────────┤\n│ dropout_1 (<span style=\"color: #0087ff; text-decoration-color: #0087ff\">Dropout</span>) │ (<span style=\"color: #00d7ff; text-decoration-color: #00d7ff\">None</span>, <span style=\"color: #00af00; text-decoration-color: #00af00\">122</span>, <span style=\"color: #00af00; text-decoration-color: #00af00\">256</span>)  │          <span style=\"color: #00af00; text-decoration-color: #00af00\">0</span> │ lstm[<span style=\"color: #00af00; text-decoration-color: #00af00\">0</span>][<span style=\"color: #00af00; text-decoration-color: #00af00\">0</span>]        │\n├─────────────────────┼───────────────────┼────────────┼───────────────────┤\n│ lstm_1 (<span style=\"color: #0087ff; text-decoration-color: #0087ff\">LSTM</span>)       │ (<span style=\"color: #00d7ff; text-decoration-color: #00d7ff\">None</span>, <span style=\"color: #00af00; text-decoration-color: #00af00\">256</span>)       │    <span style=\"color: #00af00; text-decoration-color: #00af00\">525,312</span> │ dropout_1[<span style=\"color: #00af00; text-decoration-color: #00af00\">0</span>][<span style=\"color: #00af00; text-decoration-color: #00af00\">0</span>],  │\n│                     │                   │            │ not_equal[<span style=\"color: #00af00; text-decoration-color: #00af00\">0</span>][<span style=\"color: #00af00; text-decoration-color: #00af00\">0</span>]   │\n├─────────────────────┼───────────────────┼────────────┼───────────────────┤\n│ dense (<span style=\"color: #0087ff; text-decoration-color: #0087ff\">Dense</span>)       │ (<span style=\"color: #00d7ff; text-decoration-color: #00d7ff\">None</span>, <span style=\"color: #00af00; text-decoration-color: #00af00\">256</span>)       │     <span style=\"color: #00af00; text-decoration-color: #00af00\">65,792</span> │ lstm_1[<span style=\"color: #00af00; text-decoration-color: #00af00\">0</span>][<span style=\"color: #00af00; text-decoration-color: #00af00\">0</span>]      │\n├─────────────────────┼───────────────────┼────────────┼───────────────────┤\n│ dropout_2 (<span style=\"color: #0087ff; text-decoration-color: #0087ff\">Dropout</span>) │ (<span style=\"color: #00d7ff; text-decoration-color: #00d7ff\">None</span>, <span style=\"color: #00af00; text-decoration-color: #00af00\">256</span>)       │          <span style=\"color: #00af00; text-decoration-color: #00af00\">0</span> │ dense[<span style=\"color: #00af00; text-decoration-color: #00af00\">0</span>][<span style=\"color: #00af00; text-decoration-color: #00af00\">0</span>]       │\n├─────────────────────┼───────────────────┼────────────┼───────────────────┤\n│ dense_1 (<span style=\"color: #0087ff; text-decoration-color: #0087ff\">Dense</span>)     │ (<span style=\"color: #00d7ff; text-decoration-color: #00d7ff\">None</span>, <span style=\"color: #00af00; text-decoration-color: #00af00\">26994</span>)     │  <span style=\"color: #00af00; text-decoration-color: #00af00\">6,937,458</span> │ dropout_2[<span style=\"color: #00af00; text-decoration-color: #00af00\">0</span>][<span style=\"color: #00af00; text-decoration-color: #00af00\">0</span>]   │\n└─────────────────────┴───────────────────┴────────────┴───────────────────┘\n</pre>\n"
          },
          "metadata": {}
        },
        {
          "output_type": "display_data",
          "data": {
            "text/plain": "\u001b[1m Total params: \u001b[0m\u001b[38;5;34m14,964,338\u001b[0m (57.08 MB)\n",
            "text/html": "<pre style=\"white-space:pre;overflow-x:auto;line-height:normal;font-family:Menlo,'DejaVu Sans Mono',consolas,'Courier New',monospace\"><span style=\"font-weight: bold\"> Total params: </span><span style=\"color: #00af00; text-decoration-color: #00af00\">14,964,338</span> (57.08 MB)\n</pre>\n"
          },
          "metadata": {}
        },
        {
          "output_type": "display_data",
          "data": {
            "text/plain": "\u001b[1m Trainable params: \u001b[0m\u001b[38;5;34m14,964,338\u001b[0m (57.08 MB)\n",
            "text/html": "<pre style=\"white-space:pre;overflow-x:auto;line-height:normal;font-family:Menlo,'DejaVu Sans Mono',consolas,'Courier New',monospace\"><span style=\"font-weight: bold\"> Trainable params: </span><span style=\"color: #00af00; text-decoration-color: #00af00\">14,964,338</span> (57.08 MB)\n</pre>\n"
          },
          "metadata": {}
        },
        {
          "output_type": "display_data",
          "data": {
            "text/plain": "\u001b[1m Non-trainable params: \u001b[0m\u001b[38;5;34m0\u001b[0m (0.00 B)\n",
            "text/html": "<pre style=\"white-space:pre;overflow-x:auto;line-height:normal;font-family:Menlo,'DejaVu Sans Mono',consolas,'Courier New',monospace\"><span style=\"font-weight: bold\"> Non-trainable params: </span><span style=\"color: #00af00; text-decoration-color: #00af00\">0</span> (0.00 B)\n</pre>\n"
          },
          "metadata": {}
        }
      ]
    },
    {
      "cell_type": "code",
      "source": [
        "# Función generadora de datos\n",
        "def data_generator(tokenizer, max_length, sentences, batch_size):\n",
        "    while True:\n",
        "        for i in range(0, len(sentences), batch_size):\n",
        "            batch_sentences = sentences[i:i+batch_size]\n",
        "            X, y = create_sequences(tokenizer, max_length, batch_sentences)\n",
        "            yield X, y\n",
        "\n",
        "# Crear secuencias de entrada y salida para el entrenamiento\n",
        "def create_sequences(tokenizer, max_length, sentences):\n",
        "    X, y = [], []\n",
        "    for sentence in sentences:\n",
        "        encoded = tokenizer.texts_to_sequences([sentence])[0]\n",
        "        for i in range(1, len(encoded)):\n",
        "            X.append(pad_sequences([encoded[:i]], maxlen=max_length, padding='pre')[0])\n",
        "            y.append(to_categorical([encoded[i]], num_classes=vocab_size)[0])\n",
        "    return np.array(X), np.array(y)"
      ],
      "metadata": {
        "execution": {
          "iopub.status.busy": "2024-07-04T11:30:36.026021Z",
          "iopub.execute_input": "2024-07-04T11:30:36.026282Z",
          "iopub.status.idle": "2024-07-04T11:30:36.033663Z",
          "shell.execute_reply.started": "2024-07-04T11:30:36.026260Z",
          "shell.execute_reply": "2024-07-04T11:30:36.032796Z"
        },
        "trusted": true,
        "id": "o5scnTx9dhbR"
      },
      "execution_count": null,
      "outputs": []
    },
    {
      "cell_type": "markdown",
      "source": [
        "### Entrenamiento"
      ],
      "metadata": {
        "id": "B4avcGMQfCwe"
      }
    },
    {
      "cell_type": "code",
      "source": [
        "checkpoint = ModelCheckpoint('model_best.keras', monitor='val_loss', save_best_only=True)\n",
        "early_stopping = EarlyStopping(monitor='val_loss', patience=10)\n",
        "reduce_lr = ReduceLROnPlateau(monitor='val_loss', factor=0.2, patience=5)"
      ],
      "metadata": {
        "execution": {
          "iopub.status.busy": "2024-07-04T11:30:36.036202Z",
          "iopub.execute_input": "2024-07-04T11:30:36.036506Z",
          "iopub.status.idle": "2024-07-04T11:30:36.045425Z",
          "shell.execute_reply.started": "2024-07-04T11:30:36.036479Z",
          "shell.execute_reply": "2024-07-04T11:30:36.044669Z"
        },
        "trusted": true,
        "id": "2gf_T053dhbS"
      },
      "execution_count": null,
      "outputs": []
    },
    {
      "cell_type": "code",
      "source": [
        "batch_size = 32\n",
        "generator = data_generator(tokenizer, max_sentence_length, reduced_sentences_with_tokens, batch_size)\n",
        "model.fit(generator, steps_per_epoch=len(reduced_sentences_with_tokens) // batch_size, epochs=300, callbacks=[checkpoint, early_stopping, reduce_lr])\n",
        "\n",
        "# Guardar el modelo\n",
        "model.save(\"WordLevelTextGenModel.h5\")\n",
        "\n",
        "# Generar texto\n",
        "def generate_text(model, tokenizer, input_text, max_length, num_words=30):\n",
        "    for _ in range(num_words):\n",
        "        encoded = tokenizer.texts_to_sequences([input_text])[0]\n",
        "        encoded = pad_sequences([encoded], maxlen=max_length, padding='pre')\n",
        "        prediction = np.argmax(model.predict(encoded), axis=-1)\n",
        "        predicted_word = tokenizer.index_word[prediction[0]] if prediction[0] > 0 else ''\n",
        "        if predicted_word == 'end':\n",
        "            break\n",
        "        input_text += ' ' + predicted_word\n",
        "    return input_text\n",
        "\n",
        "generated_text = generate_text(model, tokenizer, '<start> a man', max_sentence_length)\n",
        "print(\"Generated text:\", generated_text)"
      ],
      "metadata": {
        "execution": {
          "iopub.status.busy": "2024-07-04T11:30:36.046699Z",
          "iopub.execute_input": "2024-07-04T11:30:36.047286Z",
          "iopub.status.idle": "2024-07-04T18:24:54.818594Z",
          "shell.execute_reply.started": "2024-07-04T11:30:36.047253Z",
          "shell.execute_reply": "2024-07-04T18:24:54.817638Z"
        },
        "trusted": true,
        "id": "wxiU_XiDdhbS",
        "outputId": "37a0c8eb-8a39-4048-fbc6-94aa355881de"
      },
      "execution_count": null,
      "outputs": [
        {
          "name": "stdout",
          "text": "Epoch 1/300\n",
          "output_type": "stream"
        },
        {
          "name": "stderr",
          "text": "WARNING: All log messages before absl::InitializeLog() is called are written to STDERR\nI0000 00:00:1720092646.418492     120 device_compiler.h:186] Compiled cluster using XLA!  This line is logged at most once for the lifetime of the process.\nW0000 00:00:1720092646.449497     120 graph_launch.cc:671] Fallback to op-by-op mode because memset node breaks graph update\nW0000 00:00:1720092646.471928     120 graph_launch.cc:671] Fallback to op-by-op mode because memset node breaks graph update\nW0000 00:00:1720092646.527311     120 graph_launch.cc:671] Fallback to op-by-op mode because memset node breaks graph update\nW0000 00:00:1720092646.584665     120 graph_launch.cc:671] Fallback to op-by-op mode because memset node breaks graph update\n",
          "output_type": "stream"
        },
        {
          "name": "stdout",
          "text": "\u001b[1m  3/324\u001b[0m \u001b[37m━━━━━━━━━━━━━━━━━━━━\u001b[0m \u001b[1m34:00\u001b[0m 6s/step - loss: 10.2027",
          "output_type": "stream"
        },
        {
          "name": "stderr",
          "text": "W0000 00:00:1720092659.201100     121 graph_launch.cc:671] Fallback to op-by-op mode because memset node breaks graph update\nW0000 00:00:1720092665.572141     123 graph_launch.cc:671] Fallback to op-by-op mode because memset node breaks graph update\nW0000 00:00:1720092665.645386     123 graph_launch.cc:671] Fallback to op-by-op mode because memset node breaks graph update\nW0000 00:00:1720092665.703992     123 graph_launch.cc:671] Fallback to op-by-op mode because memset node breaks graph update\n",
          "output_type": "stream"
        },
        {
          "name": "stdout",
          "text": "\u001b[1m  4/324\u001b[0m \u001b[37m━━━━━━━━━━━━━━━━━━━━\u001b[0m \u001b[1m33:59\u001b[0m 6s/step - loss: 10.2023",
          "output_type": "stream"
        },
        {
          "name": "stderr",
          "text": "W0000 00:00:1720092671.978933     122 graph_launch.cc:671] Fallback to op-by-op mode because memset node breaks graph update\nW0000 00:00:1720092672.052621     122 graph_launch.cc:671] Fallback to op-by-op mode because memset node breaks graph update\nW0000 00:00:1720092672.111479     122 graph_launch.cc:671] Fallback to op-by-op mode because memset node breaks graph update\n",
          "output_type": "stream"
        },
        {
          "name": "stdout",
          "text": "\u001b[1m  6/324\u001b[0m \u001b[37m━━━━━━━━━━━━━━━━━━━━\u001b[0m \u001b[1m33:47\u001b[0m 6s/step - loss: 10.2012",
          "output_type": "stream"
        },
        {
          "name": "stderr",
          "text": "W0000 00:00:1720092678.374742     121 graph_launch.cc:671] Fallback to op-by-op mode because memset node breaks graph update\n",
          "output_type": "stream"
        },
        {
          "name": "stdout",
          "text": "\u001b[1m  7/324\u001b[0m \u001b[37m━━━━━━━━━━━━━━━━━━━━\u001b[0m \u001b[1m33:51\u001b[0m 6s/step - loss: 10.2003",
          "output_type": "stream"
        },
        {
          "name": "stderr",
          "text": "W0000 00:00:1720092684.983998     123 graph_launch.cc:671] Fallback to op-by-op mode because memset node breaks graph update\nW0000 00:00:1720092685.036764     123 graph_launch.cc:671] Fallback to op-by-op mode because memset node breaks graph update\n",
          "output_type": "stream"
        },
        {
          "name": "stdout",
          "text": "\u001b[1m  8/324\u001b[0m \u001b[37m━━━━━━━━━━━━━━━━━━━━\u001b[0m \u001b[1m33:41\u001b[0m 6s/step - loss: 10.1988",
          "output_type": "stream"
        },
        {
          "name": "stderr",
          "text": "W0000 00:00:1720092691.277025     120 graph_launch.cc:671] Fallback to op-by-op mode because memset node breaks graph update\nW0000 00:00:1720092697.861176     123 graph_launch.cc:671] Fallback to op-by-op mode because memset node breaks graph update\n",
          "output_type": "stream"
        },
        {
          "name": "stdout",
          "text": "\u001b[1m 10/324\u001b[0m \u001b[37m━━━━━━━━━━━━━━━━━━━━\u001b[0m \u001b[1m33:43\u001b[0m 6s/step - loss: 10.1888",
          "output_type": "stream"
        },
        {
          "name": "stderr",
          "text": "W0000 00:00:1720092704.487555     122 graph_launch.cc:671] Fallback to op-by-op mode because memset node breaks graph update\nW0000 00:00:1720092711.371364     122 graph_launch.cc:671] Fallback to op-by-op mode because memset node breaks graph update\nW0000 00:00:1720092711.446519     122 graph_launch.cc:671] Fallback to op-by-op mode because memset node breaks graph update\nW0000 00:00:1720092711.506188     122 graph_launch.cc:671] Fallback to op-by-op mode because memset node breaks graph update\n",
          "output_type": "stream"
        },
        {
          "name": "stdout",
          "text": "\u001b[1m 12/324\u001b[0m \u001b[37m━━━━━━━━━━━━━━━━━━━━\u001b[0m \u001b[1m33:57\u001b[0m 7s/step - loss: 10.1622",
          "output_type": "stream"
        },
        {
          "name": "stderr",
          "text": "W0000 00:00:1720092718.282229     123 graph_launch.cc:671] Fallback to op-by-op mode because memset node breaks graph update\nW0000 00:00:1720092718.350687     123 graph_launch.cc:671] Fallback to op-by-op mode because memset node breaks graph update\nW0000 00:00:1720092718.407423     123 graph_launch.cc:671] Fallback to op-by-op mode because memset node breaks graph update\n",
          "output_type": "stream"
        },
        {
          "name": "stdout",
          "text": "\u001b[1m 13/324\u001b[0m \u001b[37m━━━━━━━━━━━━━━━━━━━━\u001b[0m \u001b[1m33:57\u001b[0m 7s/step - loss: 10.1438",
          "output_type": "stream"
        },
        {
          "name": "stderr",
          "text": "W0000 00:00:1720092725.106179     123 graph_launch.cc:671] Fallback to op-by-op mode because memset node breaks graph update\n",
          "output_type": "stream"
        },
        {
          "name": "stdout",
          "text": "\u001b[1m 14/324\u001b[0m \u001b[37m━━━━━━━━━━━━━━━━━━━━\u001b[0m \u001b[1m33:53\u001b[0m 7s/step - loss: 10.1209",
          "output_type": "stream"
        },
        {
          "name": "stderr",
          "text": "W0000 00:00:1720092731.759202     122 graph_launch.cc:671] Fallback to op-by-op mode because memset node breaks graph update\n",
          "output_type": "stream"
        },
        {
          "name": "stdout",
          "text": "\u001b[1m 15/324\u001b[0m \u001b[37m━━━━━━━━━━━━━━━━━━━━\u001b[0m \u001b[1m33:51\u001b[0m 7s/step - loss: 10.0942",
          "output_type": "stream"
        },
        {
          "name": "stderr",
          "text": "W0000 00:00:1720092738.558824     123 graph_launch.cc:671] Fallback to op-by-op mode because memset node breaks graph update\nW0000 00:00:1720092745.223791     121 graph_launch.cc:671] Fallback to op-by-op mode because memset node breaks graph update\n",
          "output_type": "stream"
        },
        {
          "name": "stdout",
          "text": "\u001b[1m 17/324\u001b[0m \u001b[32m━\u001b[0m\u001b[37m━━━━━━━━━━━━━━━━━━━\u001b[0m \u001b[1m33:41\u001b[0m 7s/step - loss: 10.0337",
          "output_type": "stream"
        },
        {
          "name": "stderr",
          "text": "W0000 00:00:1720092751.858907     120 graph_launch.cc:671] Fallback to op-by-op mode because memset node breaks graph update\n",
          "output_type": "stream"
        },
        {
          "name": "stdout",
          "text": "\u001b[1m 18/324\u001b[0m \u001b[32m━\u001b[0m\u001b[37m━━━━━━━━━━━━━━━━━━━\u001b[0m \u001b[1m33:36\u001b[0m 7s/step - loss: 10.0029",
          "output_type": "stream"
        },
        {
          "name": "stderr",
          "text": "W0000 00:00:1720092758.574265     122 graph_launch.cc:671] Fallback to op-by-op mode because memset node breaks graph update\nW0000 00:00:1720092758.627793     122 graph_launch.cc:671] Fallback to op-by-op mode because memset node breaks graph update\n",
          "output_type": "stream"
        },
        {
          "name": "stdout",
          "text": "\u001b[1m 19/324\u001b[0m \u001b[32m━\u001b[0m\u001b[37m━━━━━━━━━━━━━━━━━━━\u001b[0m \u001b[1m33:32\u001b[0m 7s/step - loss: 9.9711 ",
          "output_type": "stream"
        },
        {
          "name": "stderr",
          "text": "W0000 00:00:1720092765.236063     122 graph_launch.cc:671] Fallback to op-by-op mode because memset node breaks graph update\nW0000 00:00:1720092772.104219     123 graph_launch.cc:671] Fallback to op-by-op mode because memset node breaks graph update\nW0000 00:00:1720092772.176753     123 graph_launch.cc:671] Fallback to op-by-op mode because memset node breaks graph update\nW0000 00:00:1720092772.236420     123 graph_launch.cc:671] Fallback to op-by-op mode because memset node breaks graph update\n",
          "output_type": "stream"
        },
        {
          "name": "stdout",
          "text": "\u001b[1m 20/324\u001b[0m \u001b[32m━\u001b[0m\u001b[37m━━━━━━━━━━━━━━━━━━━\u001b[0m \u001b[1m33:30\u001b[0m 7s/step - loss: 9.9386",
          "output_type": "stream"
        },
        {
          "name": "stderr",
          "text": "W0000 00:00:1720092779.013760     121 graph_launch.cc:671] Fallback to op-by-op mode because memset node breaks graph update\nW0000 00:00:1720092779.091157     121 graph_launch.cc:671] Fallback to op-by-op mode because memset node breaks graph update\nW0000 00:00:1720092779.147318     121 graph_launch.cc:671] Fallback to op-by-op mode because memset node breaks graph update\n",
          "output_type": "stream"
        },
        {
          "name": "stdout",
          "text": "\u001b[1m 22/324\u001b[0m \u001b[32m━\u001b[0m\u001b[37m━━━━━━━━━━━━━━━━━━━\u001b[0m \u001b[1m33:24\u001b[0m 7s/step - loss: 9.8730",
          "output_type": "stream"
        },
        {
          "name": "stderr",
          "text": "W0000 00:00:1720092785.851563     123 graph_launch.cc:671] Fallback to op-by-op mode because memset node breaks graph update\n",
          "output_type": "stream"
        },
        {
          "name": "stdout",
          "text": "\u001b[1m 23/324\u001b[0m \u001b[32m━\u001b[0m\u001b[37m━━━━━━━━━━━━━━━━━━━\u001b[0m \u001b[1m33:20\u001b[0m 7s/step - loss: 9.8408",
          "output_type": "stream"
        },
        {
          "name": "stderr",
          "text": "W0000 00:00:1720092792.700612     121 graph_launch.cc:671] Fallback to op-by-op mode because memset node breaks graph update\nW0000 00:00:1720092792.763182     121 graph_launch.cc:671] Fallback to op-by-op mode because memset node breaks graph update\nW0000 00:00:1720092792.813954     121 graph_launch.cc:671] Fallback to op-by-op mode because memset node breaks graph update\n",
          "output_type": "stream"
        },
        {
          "name": "stdout",
          "text": "\u001b[1m 24/324\u001b[0m \u001b[32m━\u001b[0m\u001b[37m━━━━━━━━━━━━━━━━━━━\u001b[0m \u001b[1m33:15\u001b[0m 7s/step - loss: 9.8102",
          "output_type": "stream"
        },
        {
          "name": "stderr",
          "text": "W0000 00:00:1720092799.503002     123 graph_launch.cc:671] Fallback to op-by-op mode because memset node breaks graph update\n",
          "output_type": "stream"
        },
        {
          "name": "stdout",
          "text": "\u001b[1m 25/324\u001b[0m \u001b[32m━\u001b[0m\u001b[37m━━━━━━━━━━━━━━━━━━━\u001b[0m \u001b[1m33:10\u001b[0m 7s/step - loss: 9.7802",
          "output_type": "stream"
        },
        {
          "name": "stderr",
          "text": "W0000 00:00:1720092806.230567     121 graph_launch.cc:671] Fallback to op-by-op mode because memset node breaks graph update\n",
          "output_type": "stream"
        },
        {
          "name": "stdout",
          "text": "\u001b[1m 26/324\u001b[0m \u001b[32m━\u001b[0m\u001b[37m━━━━━━━━━━━━━━━━━━━\u001b[0m \u001b[1m33:06\u001b[0m 7s/step - loss: 9.7510",
          "output_type": "stream"
        },
        {
          "name": "stderr",
          "text": "W0000 00:00:1720092813.213913     122 graph_launch.cc:671] Fallback to op-by-op mode because memset node breaks graph update\nW0000 00:00:1720092813.267432     122 graph_launch.cc:671] Fallback to op-by-op mode because memset node breaks graph update\nW0000 00:00:1720092819.627452     120 graph_launch.cc:671] Fallback to op-by-op mode because memset node breaks graph update\nW0000 00:00:1720092819.702036     120 graph_launch.cc:671] Fallback to op-by-op mode because memset node breaks graph update\nW0000 00:00:1720092819.761553     120 graph_launch.cc:671] Fallback to op-by-op mode because memset node breaks graph update\n",
          "output_type": "stream"
        },
        {
          "name": "stdout",
          "text": "\u001b[1m 28/324\u001b[0m \u001b[32m━\u001b[0m\u001b[37m━━━━━━━━━━━━━━━━━━━\u001b[0m \u001b[1m32:52\u001b[0m 7s/step - loss: 9.6946",
          "output_type": "stream"
        },
        {
          "name": "stderr",
          "text": "W0000 00:00:1720092826.414188     121 graph_launch.cc:671] Fallback to op-by-op mode because memset node breaks graph update\n",
          "output_type": "stream"
        },
        {
          "name": "stdout",
          "text": "\u001b[1m 30/324\u001b[0m \u001b[32m━\u001b[0m\u001b[37m━━━━━━━━━━━━━━━━━━━\u001b[0m \u001b[1m31:33\u001b[0m 6s/step - loss: 9.6414",
          "output_type": "stream"
        },
        {
          "name": "stderr",
          "text": "W0000 00:00:1720092833.302754     123 graph_launch.cc:671] Fallback to op-by-op mode because memset node breaks graph update\n",
          "output_type": "stream"
        },
        {
          "name": "stdout",
          "text": "\u001b[1m 31/324\u001b[0m \u001b[32m━\u001b[0m\u001b[37m━━━━━━━━━━━━━━━━━━━\u001b[0m \u001b[1m31:29\u001b[0m 6s/step - loss: 9.6159",
          "output_type": "stream"
        },
        {
          "name": "stderr",
          "text": "W0000 00:00:1720092839.976582     123 graph_launch.cc:671] Fallback to op-by-op mode because memset node breaks graph update\n",
          "output_type": "stream"
        },
        {
          "name": "stdout",
          "text": "\u001b[1m 32/324\u001b[0m \u001b[32m━\u001b[0m\u001b[37m━━━━━━━━━━━━━━━━━━━\u001b[0m \u001b[1m31:26\u001b[0m 6s/step - loss: 9.5912",
          "output_type": "stream"
        },
        {
          "name": "stderr",
          "text": "W0000 00:00:1720092846.801333     123 graph_launch.cc:671] Fallback to op-by-op mode because memset node breaks graph update\n",
          "output_type": "stream"
        },
        {
          "name": "stdout",
          "text": "\u001b[1m 33/324\u001b[0m \u001b[32m━━\u001b[0m\u001b[37m━━━━━━━━━━━━━━━━━━\u001b[0m \u001b[1m31:21\u001b[0m 6s/step - loss: 9.5672",
          "output_type": "stream"
        },
        {
          "name": "stderr",
          "text": "W0000 00:00:1720092853.456633     123 graph_launch.cc:671] Fallback to op-by-op mode because memset node breaks graph update\n",
          "output_type": "stream"
        },
        {
          "name": "stdout",
          "text": "\u001b[1m 35/324\u001b[0m \u001b[32m━━\u001b[0m\u001b[37m━━━━━━━━━━━━━━━━━━\u001b[0m \u001b[1m30:24\u001b[0m 6s/step - loss: 9.5210",
          "output_type": "stream"
        },
        {
          "name": "stderr",
          "text": "W0000 00:00:1720092861.084765     123 graph_launch.cc:671] Fallback to op-by-op mode because memset node breaks graph update\n",
          "output_type": "stream"
        },
        {
          "name": "stdout",
          "text": "\u001b[1m 36/324\u001b[0m \u001b[32m━━\u001b[0m\u001b[37m━━━━━━━━━━━━━━━━━━\u001b[0m \u001b[1m30:20\u001b[0m 6s/step - loss: 9.4988",
          "output_type": "stream"
        },
        {
          "name": "stderr",
          "text": "W0000 00:00:1720092867.733254     120 graph_launch.cc:671] Fallback to op-by-op mode because memset node breaks graph update\n",
          "output_type": "stream"
        },
        {
          "name": "stdout",
          "text": "\u001b[1m 37/324\u001b[0m \u001b[32m━━\u001b[0m\u001b[37m━━━━━━━━━━━━━━━━━━\u001b[0m \u001b[1m30:19\u001b[0m 6s/step - loss: 9.4772",
          "output_type": "stream"
        },
        {
          "name": "stderr",
          "text": "W0000 00:00:1720092874.760704     123 graph_launch.cc:671] Fallback to op-by-op mode because memset node breaks graph update\n",
          "output_type": "stream"
        },
        {
          "name": "stdout",
          "text": "\u001b[1m 38/324\u001b[0m \u001b[32m━━\u001b[0m\u001b[37m━━━━━━━━━━━━━━━━━━\u001b[0m \u001b[1m30:18\u001b[0m 6s/step - loss: 9.4562",
          "output_type": "stream"
        },
        {
          "name": "stderr",
          "text": "W0000 00:00:1720092881.784485     123 graph_launch.cc:671] Fallback to op-by-op mode because memset node breaks graph update\n",
          "output_type": "stream"
        },
        {
          "name": "stdout",
          "text": "\u001b[1m 39/324\u001b[0m \u001b[32m━━\u001b[0m\u001b[37m━━━━━━━━━━━━━━━━━━\u001b[0m \u001b[1m30:17\u001b[0m 6s/step - loss: 9.4357",
          "output_type": "stream"
        },
        {
          "name": "stderr",
          "text": "W0000 00:00:1720092888.766196     121 graph_launch.cc:671] Fallback to op-by-op mode because memset node breaks graph update\n",
          "output_type": "stream"
        },
        {
          "name": "stdout",
          "text": "\u001b[1m 40/324\u001b[0m \u001b[32m━━\u001b[0m\u001b[37m━━━━━━━━━━━━━━━━━━\u001b[0m \u001b[1m30:13\u001b[0m 6s/step - loss: 9.4158",
          "output_type": "stream"
        },
        {
          "name": "stderr",
          "text": "W0000 00:00:1720092895.532957     121 graph_launch.cc:671] Fallback to op-by-op mode because memset node breaks graph update\n",
          "output_type": "stream"
        },
        {
          "name": "stdout",
          "text": "\u001b[1m 41/324\u001b[0m \u001b[32m━━\u001b[0m\u001b[37m━━━━━━━━━━━━━━━━━━\u001b[0m \u001b[1m30:10\u001b[0m 6s/step - loss: 9.3961",
          "output_type": "stream"
        },
        {
          "name": "stderr",
          "text": "W0000 00:00:1720092902.388438     120 graph_launch.cc:671] Fallback to op-by-op mode because memset node breaks graph update\nW0000 00:00:1720092909.140291     120 graph_launch.cc:671] Fallback to op-by-op mode because memset node breaks graph update\n",
          "output_type": "stream"
        },
        {
          "name": "stdout",
          "text": "\u001b[1m 42/324\u001b[0m \u001b[32m━━\u001b[0m\u001b[37m━━━━━━━━━━━━━━━━━━\u001b[0m \u001b[1m30:06\u001b[0m 6s/step - loss: 9.3768",
          "output_type": "stream"
        },
        {
          "name": "stderr",
          "text": "W0000 00:00:1720092915.986846     121 graph_launch.cc:671] Fallback to op-by-op mode because memset node breaks graph update\n",
          "output_type": "stream"
        },
        {
          "name": "stdout",
          "text": "\u001b[1m 44/324\u001b[0m \u001b[32m━━\u001b[0m\u001b[37m━━━━━━━━━━━━━━━━━━\u001b[0m \u001b[1m29:59\u001b[0m 6s/step - loss: 9.3394",
          "output_type": "stream"
        },
        {
          "name": "stderr",
          "text": "W0000 00:00:1720092922.783656     122 graph_launch.cc:671] Fallback to op-by-op mode because memset node breaks graph update\n",
          "output_type": "stream"
        },
        {
          "name": "stdout",
          "text": "\u001b[1m 45/324\u001b[0m \u001b[32m━━\u001b[0m\u001b[37m━━━━━━━━━━━━━━━━━━\u001b[0m \u001b[1m29:55\u001b[0m 6s/step - loss: 9.3215",
          "output_type": "stream"
        },
        {
          "name": "stderr",
          "text": "W0000 00:00:1720092929.653179     123 graph_launch.cc:671] Fallback to op-by-op mode because memset node breaks graph update\n",
          "output_type": "stream"
        },
        {
          "name": "stdout",
          "text": "\u001b[1m 47/324\u001b[0m \u001b[32m━━\u001b[0m\u001b[37m━━━━━━━━━━━━━━━━━━\u001b[0m \u001b[1m29:08\u001b[0m 6s/step - loss: 9.2868",
          "output_type": "stream"
        },
        {
          "name": "stderr",
          "text": "W0000 00:00:1720092936.835131     122 graph_launch.cc:671] Fallback to op-by-op mode because memset node breaks graph update\n",
          "output_type": "stream"
        },
        {
          "name": "stdout",
          "text": "\u001b[1m 48/324\u001b[0m \u001b[32m━━\u001b[0m\u001b[37m━━━━━━━━━━━━━━━━━━\u001b[0m \u001b[1m29:04\u001b[0m 6s/step - loss: 9.2701",
          "output_type": "stream"
        },
        {
          "name": "stderr",
          "text": "W0000 00:00:1720092943.530350     120 graph_launch.cc:671] Fallback to op-by-op mode because memset node breaks graph update\n",
          "output_type": "stream"
        },
        {
          "name": "stdout",
          "text": "\u001b[1m 49/324\u001b[0m \u001b[32m━━━\u001b[0m\u001b[37m━━━━━━━━━━━━━━━━━\u001b[0m \u001b[1m29:01\u001b[0m 6s/step - loss: 9.2538",
          "output_type": "stream"
        },
        {
          "name": "stderr",
          "text": "W0000 00:00:1720092950.480298     123 graph_launch.cc:671] Fallback to op-by-op mode because memset node breaks graph update\n",
          "output_type": "stream"
        },
        {
          "name": "stdout",
          "text": "\u001b[1m 50/324\u001b[0m \u001b[32m━━━\u001b[0m\u001b[37m━━━━━━━━━━━━━━━━━\u001b[0m \u001b[1m28:58\u001b[0m 6s/step - loss: 9.2379",
          "output_type": "stream"
        },
        {
          "name": "stderr",
          "text": "W0000 00:00:1720092957.419956     122 graph_launch.cc:671] Fallback to op-by-op mode because memset node breaks graph update\n",
          "output_type": "stream"
        },
        {
          "name": "stdout",
          "text": "\u001b[1m 51/324\u001b[0m \u001b[32m━━━\u001b[0m\u001b[37m━━━━━━━━━━━━━━━━━\u001b[0m \u001b[1m28:54\u001b[0m 6s/step - loss: 9.2223",
          "output_type": "stream"
        },
        {
          "name": "stderr",
          "text": "W0000 00:00:1720092964.241740     122 graph_launch.cc:671] Fallback to op-by-op mode because memset node breaks graph update\n",
          "output_type": "stream"
        },
        {
          "name": "stdout",
          "text": "\u001b[1m 53/324\u001b[0m \u001b[32m━━━\u001b[0m\u001b[37m━━━━━━━━━━━━━━━━━\u001b[0m \u001b[1m28:46\u001b[0m 6s/step - loss: 9.1919",
          "output_type": "stream"
        },
        {
          "name": "stderr",
          "text": "W0000 00:00:1720092984.549716     121 graph_launch.cc:671] Fallback to op-by-op mode because memset node breaks graph update\nW0000 00:00:1720092984.626328     121 graph_launch.cc:671] Fallback to op-by-op mode because memset node breaks graph update\nW0000 00:00:1720092984.682315     121 graph_launch.cc:671] Fallback to op-by-op mode because memset node breaks graph update\n",
          "output_type": "stream"
        },
        {
          "name": "stdout",
          "text": "\u001b[1m 55/324\u001b[0m \u001b[32m━━━\u001b[0m\u001b[37m━━━━━━━━━━━━━━━━━\u001b[0m \u001b[1m28:37\u001b[0m 6s/step - loss: 9.1625",
          "output_type": "stream"
        },
        {
          "name": "stderr",
          "text": "W0000 00:00:1720092991.222610     120 graph_launch.cc:671] Fallback to op-by-op mode because memset node breaks graph update\n",
          "output_type": "stream"
        },
        {
          "name": "stdout",
          "text": "\u001b[1m 56/324\u001b[0m \u001b[32m━━━\u001b[0m\u001b[37m━━━━━━━━━━━━━━━━━\u001b[0m \u001b[1m28:32\u001b[0m 6s/step - loss: 9.1483",
          "output_type": "stream"
        },
        {
          "name": "stderr",
          "text": "W0000 00:00:1720092998.018980     121 graph_launch.cc:671] Fallback to op-by-op mode because memset node breaks graph update\n",
          "output_type": "stream"
        },
        {
          "name": "stdout",
          "text": "\u001b[1m 57/324\u001b[0m \u001b[32m━━━\u001b[0m\u001b[37m━━━━━━━━━━━━━━━━━\u001b[0m \u001b[1m28:27\u001b[0m 6s/step - loss: 9.1344",
          "output_type": "stream"
        },
        {
          "name": "stderr",
          "text": "W0000 00:00:1720093004.757555     121 graph_launch.cc:671] Fallback to op-by-op mode because memset node breaks graph update\nW0000 00:00:1720093004.811378     121 graph_launch.cc:671] Fallback to op-by-op mode because memset node breaks graph update\n",
          "output_type": "stream"
        },
        {
          "name": "stdout",
          "text": "\u001b[1m 59/324\u001b[0m \u001b[32m━━━\u001b[0m\u001b[37m━━━━━━━━━━━━━━━━━\u001b[0m \u001b[1m27:48\u001b[0m 6s/step - loss: 9.1075",
          "output_type": "stream"
        },
        {
          "name": "stderr",
          "text": "W0000 00:00:1720093011.575165     120 graph_launch.cc:671] Fallback to op-by-op mode because memset node breaks graph update\nW0000 00:00:1720093018.323277     123 graph_launch.cc:671] Fallback to op-by-op mode because memset node breaks graph update\n",
          "output_type": "stream"
        },
        {
          "name": "stdout",
          "text": "\u001b[1m 60/324\u001b[0m \u001b[32m━━━\u001b[0m\u001b[37m━━━━━━━━━━━━━━━━━\u001b[0m \u001b[1m27:43\u001b[0m 6s/step - loss: 9.0944",
          "output_type": "stream"
        },
        {
          "name": "stderr",
          "text": "W0000 00:00:1720093025.110916     121 graph_launch.cc:671] Fallback to op-by-op mode because memset node breaks graph update\n",
          "output_type": "stream"
        },
        {
          "name": "stdout",
          "text": "\u001b[1m 62/324\u001b[0m \u001b[32m━━━\u001b[0m\u001b[37m━━━━━━━━━━━━━━━━━\u001b[0m \u001b[1m27:35\u001b[0m 6s/step - loss: 9.0690",
          "output_type": "stream"
        },
        {
          "name": "stderr",
          "text": "W0000 00:00:1720093032.024740     121 graph_launch.cc:671] Fallback to op-by-op mode because memset node breaks graph update\nW0000 00:00:1720093032.080393     121 graph_launch.cc:671] Fallback to op-by-op mode because memset node breaks graph update\nW0000 00:00:1720093032.125544     121 graph_launch.cc:671] Fallback to op-by-op mode because memset node breaks graph update\n",
          "output_type": "stream"
        },
        {
          "name": "stdout",
          "text": "\u001b[1m 64/324\u001b[0m \u001b[32m━━━\u001b[0m\u001b[37m━━━━━━━━━━━━━━━━━\u001b[0m \u001b[1m27:26\u001b[0m 6s/step - loss: 9.0447",
          "output_type": "stream"
        },
        {
          "name": "stderr",
          "text": "W0000 00:00:1720093045.539840     122 graph_launch.cc:671] Fallback to op-by-op mode because memset node breaks graph update\n",
          "output_type": "stream"
        },
        {
          "name": "stdout",
          "text": "\u001b[1m 65/324\u001b[0m \u001b[32m━━━━\u001b[0m\u001b[37m━━━━━━━━━━━━━━━━\u001b[0m \u001b[1m27:21\u001b[0m 6s/step - loss: 9.0330",
          "output_type": "stream"
        },
        {
          "name": "stderr",
          "text": "W0000 00:00:1720093052.183957     120 graph_launch.cc:671] Fallback to op-by-op mode because memset node breaks graph update\n",
          "output_type": "stream"
        },
        {
          "name": "stdout",
          "text": "\u001b[1m 66/324\u001b[0m \u001b[32m━━━━\u001b[0m\u001b[37m━━━━━━━━━━━━━━━━\u001b[0m \u001b[1m27:17\u001b[0m 6s/step - loss: 9.0215",
          "output_type": "stream"
        },
        {
          "name": "stderr",
          "text": "W0000 00:00:1720093058.918017     123 graph_launch.cc:671] Fallback to op-by-op mode because memset node breaks graph update\n",
          "output_type": "stream"
        },
        {
          "name": "stdout",
          "text": "\u001b[1m 67/324\u001b[0m \u001b[32m━━━━\u001b[0m\u001b[37m━━━━━━━━━━━━━━━━\u001b[0m \u001b[1m27:12\u001b[0m 6s/step - loss: 9.0101",
          "output_type": "stream"
        },
        {
          "name": "stderr",
          "text": "W0000 00:00:1720093065.611249     120 graph_launch.cc:671] Fallback to op-by-op mode because memset node breaks graph update\n",
          "output_type": "stream"
        },
        {
          "name": "stdout",
          "text": "\u001b[1m 68/324\u001b[0m \u001b[32m━━━━\u001b[0m\u001b[37m━━━━━━━━━━━━━━━━\u001b[0m \u001b[1m27:07\u001b[0m 6s/step - loss: 8.9990",
          "output_type": "stream"
        },
        {
          "name": "stderr",
          "text": "W0000 00:00:1720093072.372976     122 graph_launch.cc:671] Fallback to op-by-op mode because memset node breaks graph update\n",
          "output_type": "stream"
        },
        {
          "name": "stdout",
          "text": "\u001b[1m 69/324\u001b[0m \u001b[32m━━━━\u001b[0m\u001b[37m━━━━━━━━━━━━━━━━\u001b[0m \u001b[1m27:02\u001b[0m 6s/step - loss: 8.9880",
          "output_type": "stream"
        },
        {
          "name": "stderr",
          "text": "W0000 00:00:1720093079.047553     122 graph_launch.cc:671] Fallback to op-by-op mode because memset node breaks graph update\n",
          "output_type": "stream"
        },
        {
          "name": "stdout",
          "text": "\u001b[1m 70/324\u001b[0m \u001b[32m━━━━\u001b[0m\u001b[37m━━━━━━━━━━━━━━━━\u001b[0m \u001b[1m26:56\u001b[0m 6s/step - loss: 8.9772",
          "output_type": "stream"
        },
        {
          "name": "stderr",
          "text": "W0000 00:00:1720093085.695107     120 graph_launch.cc:671] Fallback to op-by-op mode because memset node breaks graph update\nW0000 00:00:1720093085.755318     120 graph_launch.cc:671] Fallback to op-by-op mode because memset node breaks graph update\nW0000 00:00:1720093085.804490     120 graph_launch.cc:671] Fallback to op-by-op mode because memset node breaks graph update\nW0000 00:00:1720093092.640827     123 graph_launch.cc:671] Fallback to op-by-op mode because memset node breaks graph update\n",
          "output_type": "stream"
        },
        {
          "name": "stdout",
          "text": "\u001b[1m 73/324\u001b[0m \u001b[32m━━━━\u001b[0m\u001b[37m━━━━━━━━━━━━━━━━\u001b[0m \u001b[1m26:42\u001b[0m 6s/step - loss: 8.9461",
          "output_type": "stream"
        },
        {
          "name": "stderr",
          "text": "W0000 00:00:1720093106.159819     122 graph_launch.cc:671] Fallback to op-by-op mode because memset node breaks graph update\n",
          "output_type": "stream"
        },
        {
          "name": "stdout",
          "text": "\u001b[1m 74/324\u001b[0m \u001b[32m━━━━\u001b[0m\u001b[37m━━━━━━━━━━━━━━━━\u001b[0m \u001b[1m26:37\u001b[0m 6s/step - loss: 8.9361",
          "output_type": "stream"
        },
        {
          "name": "stderr",
          "text": "W0000 00:00:1720093112.922123     123 graph_launch.cc:671] Fallback to op-by-op mode because memset node breaks graph update\nW0000 00:00:1720093119.674547     123 graph_launch.cc:671] Fallback to op-by-op mode because memset node breaks graph update\nW0000 00:00:1720093119.752262     123 graph_launch.cc:671] Fallback to op-by-op mode because memset node breaks graph update\nW0000 00:00:1720093119.813800     123 graph_launch.cc:671] Fallback to op-by-op mode because memset node breaks graph update\n",
          "output_type": "stream"
        },
        {
          "name": "stdout",
          "text": "\u001b[1m 76/324\u001b[0m \u001b[32m━━━━\u001b[0m\u001b[37m━━━━━━━━━━━━━━━━\u001b[0m \u001b[1m26:27\u001b[0m 6s/step - loss: 8.9167",
          "output_type": "stream"
        },
        {
          "name": "stderr",
          "text": "W0000 00:00:1720093126.585609     121 graph_launch.cc:671] Fallback to op-by-op mode because memset node breaks graph update\nW0000 00:00:1720093126.638848     121 graph_launch.cc:671] Fallback to op-by-op mode because memset node breaks graph update\n",
          "output_type": "stream"
        },
        {
          "name": "stdout",
          "text": "\u001b[1m 77/324\u001b[0m \u001b[32m━━━━\u001b[0m\u001b[37m━━━━━━━━━━━━━━━━\u001b[0m \u001b[1m26:21\u001b[0m 6s/step - loss: 8.9072",
          "output_type": "stream"
        },
        {
          "name": "stderr",
          "text": "W0000 00:00:1720093133.231632     120 graph_launch.cc:671] Fallback to op-by-op mode because memset node breaks graph update\n",
          "output_type": "stream"
        },
        {
          "name": "stdout",
          "text": "\u001b[1m 79/324\u001b[0m \u001b[32m━━━━\u001b[0m\u001b[37m━━━━━━━━━━━━━━━━\u001b[0m \u001b[1m25:50\u001b[0m 6s/step - loss: 8.8888",
          "output_type": "stream"
        },
        {
          "name": "stderr",
          "text": "W0000 00:00:1720093140.179818     123 graph_launch.cc:671] Fallback to op-by-op mode because memset node breaks graph update\n",
          "output_type": "stream"
        },
        {
          "name": "stdout",
          "text": "\u001b[1m 80/324\u001b[0m \u001b[32m━━━━\u001b[0m\u001b[37m━━━━━━━━━━━━━━━━\u001b[0m \u001b[1m25:45\u001b[0m 6s/step - loss: 8.8798",
          "output_type": "stream"
        },
        {
          "name": "stderr",
          "text": "W0000 00:00:1720093146.941544     122 graph_launch.cc:671] Fallback to op-by-op mode because memset node breaks graph update\n",
          "output_type": "stream"
        },
        {
          "name": "stdout",
          "text": "\u001b[1m 81/324\u001b[0m \u001b[32m━━━━━\u001b[0m\u001b[37m━━━━━━━━━━━━━━━\u001b[0m \u001b[1m25:20\u001b[0m 6s/step - loss: 8.8709",
          "output_type": "stream"
        },
        {
          "name": "stderr",
          "text": "W0000 00:00:1720093154.114111     123 graph_launch.cc:671] Fallback to op-by-op mode because memset node breaks graph update\n",
          "output_type": "stream"
        },
        {
          "name": "stdout",
          "text": "\u001b[1m 83/324\u001b[0m \u001b[32m━━━━━\u001b[0m\u001b[37m━━━━━━━━━━━━━━━\u001b[0m \u001b[1m25:11\u001b[0m 6s/step - loss: 8.8536",
          "output_type": "stream"
        },
        {
          "name": "stderr",
          "text": "W0000 00:00:1720093160.931023     123 graph_launch.cc:671] Fallback to op-by-op mode because memset node breaks graph update\nW0000 00:00:1720093160.991352     123 graph_launch.cc:671] Fallback to op-by-op mode because memset node breaks graph update\nW0000 00:00:1720093161.040867     123 graph_launch.cc:671] Fallback to op-by-op mode because memset node breaks graph update\n",
          "output_type": "stream"
        },
        {
          "name": "stdout",
          "text": "\u001b[1m 84/324\u001b[0m \u001b[32m━━━━━\u001b[0m\u001b[37m━━━━━━━━━━━━━━━\u001b[0m \u001b[1m25:06\u001b[0m 6s/step - loss: 8.8451",
          "output_type": "stream"
        },
        {
          "name": "stderr",
          "text": "W0000 00:00:1720093167.604751     122 graph_launch.cc:671] Fallback to op-by-op mode because memset node breaks graph update\n",
          "output_type": "stream"
        },
        {
          "name": "stdout",
          "text": "\u001b[1m 86/324\u001b[0m \u001b[32m━━━━━\u001b[0m\u001b[37m━━━━━━━━━━━━━━━\u001b[0m \u001b[1m24:38\u001b[0m 6s/step - loss: 8.8285",
          "output_type": "stream"
        },
        {
          "name": "stderr",
          "text": "W0000 00:00:1720093174.511127     122 graph_launch.cc:671] Fallback to op-by-op mode because memset node breaks graph update\n",
          "output_type": "stream"
        },
        {
          "name": "stdout",
          "text": "\u001b[1m 87/324\u001b[0m \u001b[32m━━━━━\u001b[0m\u001b[37m━━━━━━━━━━━━━━━\u001b[0m \u001b[1m24:33\u001b[0m 6s/step - loss: 8.8204",
          "output_type": "stream"
        },
        {
          "name": "stderr",
          "text": "W0000 00:00:1720093181.218377     120 graph_launch.cc:671] Fallback to op-by-op mode because memset node breaks graph update\nW0000 00:00:1720093181.280768     120 graph_launch.cc:671] Fallback to op-by-op mode because memset node breaks graph update\nW0000 00:00:1720093181.331413     120 graph_launch.cc:671] Fallback to op-by-op mode because memset node breaks graph update\nW0000 00:00:1720093188.166451     122 graph_launch.cc:671] Fallback to op-by-op mode because memset node breaks graph update\n",
          "output_type": "stream"
        },
        {
          "name": "stdout",
          "text": "\u001b[1m 88/324\u001b[0m \u001b[32m━━━━━\u001b[0m\u001b[37m━━━━━━━━━━━━━━━\u001b[0m \u001b[1m24:29\u001b[0m 6s/step - loss: 8.8124",
          "output_type": "stream"
        },
        {
          "name": "stderr",
          "text": "W0000 00:00:1720093195.106874     123 graph_launch.cc:671] Fallback to op-by-op mode because memset node breaks graph update\nW0000 00:00:1720093195.183582     123 graph_launch.cc:671] Fallback to op-by-op mode because memset node breaks graph update\nW0000 00:00:1720093195.246231     123 graph_launch.cc:671] Fallback to op-by-op mode because memset node breaks graph update\n",
          "output_type": "stream"
        },
        {
          "name": "stdout",
          "text": "\u001b[1m 90/324\u001b[0m \u001b[32m━━━━━\u001b[0m\u001b[37m━━━━━━━━━━━━━━━\u001b[0m \u001b[1m24:20\u001b[0m 6s/step - loss: 8.7968",
          "output_type": "stream"
        },
        {
          "name": "stderr",
          "text": "W0000 00:00:1720093202.027769     121 graph_launch.cc:671] Fallback to op-by-op mode because memset node breaks graph update\nW0000 00:00:1720093202.087563     121 graph_launch.cc:671] Fallback to op-by-op mode because memset node breaks graph update\nW0000 00:00:1720093202.135402     121 graph_launch.cc:671] Fallback to op-by-op mode because memset node breaks graph update\nW0000 00:00:1720093208.930767     123 graph_launch.cc:671] Fallback to op-by-op mode because memset node breaks graph update\nW0000 00:00:1720093209.006505     123 graph_launch.cc:671] Fallback to op-by-op mode because memset node breaks graph update\nW0000 00:00:1720093209.067855     123 graph_launch.cc:671] Fallback to op-by-op mode because memset node breaks graph update\n",
          "output_type": "stream"
        },
        {
          "name": "stdout",
          "text": "\u001b[1m 92/324\u001b[0m \u001b[32m━━━━━\u001b[0m\u001b[37m━━━━━━━━━━━━━━━\u001b[0m \u001b[1m24:11\u001b[0m 6s/step - loss: 8.7817",
          "output_type": "stream"
        },
        {
          "name": "stderr",
          "text": "W0000 00:00:1720093215.943661     123 graph_launch.cc:671] Fallback to op-by-op mode because memset node breaks graph update\nW0000 00:00:1720093222.976970     121 graph_launch.cc:671] Fallback to op-by-op mode because memset node breaks graph update\n",
          "output_type": "stream"
        },
        {
          "name": "stdout",
          "text": "\u001b[1m 94/324\u001b[0m \u001b[32m━━━━━\u001b[0m\u001b[37m━━━━━━━━━━━━━━━\u001b[0m \u001b[1m24:02\u001b[0m 6s/step - loss: 8.7671",
          "output_type": "stream"
        },
        {
          "name": "stderr",
          "text": "W0000 00:00:1720093229.906057     123 graph_launch.cc:671] Fallback to op-by-op mode because memset node breaks graph update\n",
          "output_type": "stream"
        },
        {
          "name": "stdout",
          "text": "\u001b[1m 96/324\u001b[0m \u001b[32m━━━━━\u001b[0m\u001b[37m━━━━━━━━━━━━━━━\u001b[0m \u001b[1m23:37\u001b[0m 6s/step - loss: 8.7529",
          "output_type": "stream"
        },
        {
          "name": "stderr",
          "text": "W0000 00:00:1720093237.141522     122 graph_launch.cc:671] Fallback to op-by-op mode because memset node breaks graph update\n",
          "output_type": "stream"
        },
        {
          "name": "stdout",
          "text": "\u001b[1m 97/324\u001b[0m \u001b[32m━━━━━\u001b[0m\u001b[37m━━━━━━━━━━━━━━━\u001b[0m \u001b[1m23:32\u001b[0m 6s/step - loss: 8.7459",
          "output_type": "stream"
        },
        {
          "name": "stderr",
          "text": "W0000 00:00:1720093243.988090     120 graph_launch.cc:671] Fallback to op-by-op mode because memset node breaks graph update\n",
          "output_type": "stream"
        },
        {
          "name": "stdout",
          "text": "\u001b[1m 98/324\u001b[0m \u001b[32m━━━━━━\u001b[0m\u001b[37m━━━━━━━━━━━━━━\u001b[0m \u001b[1m23:28\u001b[0m 6s/step - loss: 8.7390",
          "output_type": "stream"
        },
        {
          "name": "stderr",
          "text": "W0000 00:00:1720093251.107756     121 graph_launch.cc:671] Fallback to op-by-op mode because memset node breaks graph update\nW0000 00:00:1720093258.100154     122 graph_launch.cc:671] Fallback to op-by-op mode because memset node breaks graph update\n",
          "output_type": "stream"
        },
        {
          "name": "stdout",
          "text": "\u001b[1m100/324\u001b[0m \u001b[32m━━━━━━\u001b[0m\u001b[37m━━━━━━━━━━━━━━\u001b[0m \u001b[1m23:19\u001b[0m 6s/step - loss: 8.7256",
          "output_type": "stream"
        },
        {
          "name": "stderr",
          "text": "W0000 00:00:1720093265.018478     120 graph_launch.cc:671] Fallback to op-by-op mode because memset node breaks graph update\n",
          "output_type": "stream"
        },
        {
          "name": "stdout",
          "text": "\u001b[1m102/324\u001b[0m \u001b[32m━━━━━━\u001b[0m\u001b[37m━━━━━━━━━━━━━━\u001b[0m \u001b[1m22:55\u001b[0m 6s/step - loss: 8.7124",
          "output_type": "stream"
        },
        {
          "name": "stderr",
          "text": "W0000 00:00:1720093272.378681     123 graph_launch.cc:671] Fallback to op-by-op mode because memset node breaks graph update\nW0000 00:00:1720093272.433631     123 graph_launch.cc:671] Fallback to op-by-op mode because memset node breaks graph update\nW0000 00:00:1720093272.477295     123 graph_launch.cc:671] Fallback to op-by-op mode because memset node breaks graph update\n",
          "output_type": "stream"
        },
        {
          "name": "stdout",
          "text": "\u001b[1m103/324\u001b[0m \u001b[32m━━━━━━\u001b[0m\u001b[37m━━━━━━━━━━━━━━\u001b[0m \u001b[1m22:50\u001b[0m 6s/step - loss: 8.7060",
          "output_type": "stream"
        },
        {
          "name": "stderr",
          "text": "W0000 00:00:1720093279.203012     120 graph_launch.cc:671] Fallback to op-by-op mode because memset node breaks graph update\n",
          "output_type": "stream"
        },
        {
          "name": "stdout",
          "text": "\u001b[1m104/324\u001b[0m \u001b[32m━━━━━━\u001b[0m\u001b[37m━━━━━━━━━━━━━━\u001b[0m \u001b[1m22:45\u001b[0m 6s/step - loss: 8.6997",
          "output_type": "stream"
        },
        {
          "name": "stderr",
          "text": "W0000 00:00:1720093285.970139     120 graph_launch.cc:671] Fallback to op-by-op mode because memset node breaks graph update\nW0000 00:00:1720093285.988686     120 graph_launch.cc:671] Fallback to op-by-op mode because memset node breaks graph update\nW0000 00:00:1720093286.016373     120 graph_launch.cc:671] Fallback to op-by-op mode because memset node breaks graph update\n",
          "output_type": "stream"
        },
        {
          "name": "stdout",
          "text": "\u001b[1m106/324\u001b[0m \u001b[32m━━━━━━\u001b[0m\u001b[37m━━━━━━━━━━━━━━\u001b[0m \u001b[1m22:22\u001b[0m 6s/step - loss: 8.6872",
          "output_type": "stream"
        },
        {
          "name": "stderr",
          "text": "W0000 00:00:1720093293.179359     120 graph_launch.cc:671] Fallback to op-by-op mode because memset node breaks graph update\nW0000 00:00:1720093293.233556     120 graph_launch.cc:671] Fallback to op-by-op mode because memset node breaks graph update\n",
          "output_type": "stream"
        },
        {
          "name": "stdout",
          "text": "\u001b[1m107/324\u001b[0m \u001b[32m━━━━━━\u001b[0m\u001b[37m━━━━━━━━━━━━━━\u001b[0m \u001b[1m22:17\u001b[0m 6s/step - loss: 8.6811",
          "output_type": "stream"
        },
        {
          "name": "stderr",
          "text": "W0000 00:00:1720093300.073503     122 graph_launch.cc:671] Fallback to op-by-op mode because memset node breaks graph update\nW0000 00:00:1720093306.952287     120 graph_launch.cc:671] Fallback to op-by-op mode because memset node breaks graph update\nW0000 00:00:1720093307.030211     120 graph_launch.cc:671] Fallback to op-by-op mode because memset node breaks graph update\nW0000 00:00:1720093307.086173     120 graph_launch.cc:671] Fallback to op-by-op mode because memset node breaks graph update\n",
          "output_type": "stream"
        },
        {
          "name": "stdout",
          "text": "\u001b[1m109/324\u001b[0m \u001b[32m━━━━━━\u001b[0m\u001b[37m━━━━━━━━━━━━━━\u001b[0m \u001b[1m22:08\u001b[0m 6s/step - loss: 8.6691",
          "output_type": "stream"
        },
        {
          "name": "stderr",
          "text": "W0000 00:00:1720093313.938898     120 graph_launch.cc:671] Fallback to op-by-op mode because memset node breaks graph update\n",
          "output_type": "stream"
        },
        {
          "name": "stdout",
          "text": "\u001b[1m110/324\u001b[0m \u001b[32m━━━━━━\u001b[0m\u001b[37m━━━━━━━━━━━━━━\u001b[0m \u001b[1m22:04\u001b[0m 6s/step - loss: 8.6632",
          "output_type": "stream"
        },
        {
          "name": "stderr",
          "text": "W0000 00:00:1720093320.984222     121 graph_launch.cc:671] Fallback to op-by-op mode because memset node breaks graph update\nW0000 00:00:1720093321.037311     121 graph_launch.cc:671] Fallback to op-by-op mode because memset node breaks graph update\n",
          "output_type": "stream"
        },
        {
          "name": "stdout",
          "text": "\u001b[1m111/324\u001b[0m \u001b[32m━━━━━━\u001b[0m\u001b[37m━━━━━━━━━━━━━━\u001b[0m \u001b[1m21:59\u001b[0m 6s/step - loss: 8.6574",
          "output_type": "stream"
        },
        {
          "name": "stderr",
          "text": "W0000 00:00:1720093327.873663     121 graph_launch.cc:671] Fallback to op-by-op mode because memset node breaks graph update\nW0000 00:00:1720093327.927112     121 graph_launch.cc:671] Fallback to op-by-op mode because memset node breaks graph update\nW0000 00:00:1720093327.970828     121 graph_launch.cc:671] Fallback to op-by-op mode because memset node breaks graph update\n",
          "output_type": "stream"
        },
        {
          "name": "stdout",
          "text": "\u001b[1m112/324\u001b[0m \u001b[32m━━━━━━\u001b[0m\u001b[37m━━━━━━━━━━━━━━\u001b[0m \u001b[1m21:54\u001b[0m 6s/step - loss: 8.6517",
          "output_type": "stream"
        },
        {
          "name": "stderr",
          "text": "W0000 00:00:1720093334.676392     122 graph_launch.cc:671] Fallback to op-by-op mode because memset node breaks graph update\n",
          "output_type": "stream"
        },
        {
          "name": "stdout",
          "text": "\u001b[1m113/324\u001b[0m \u001b[32m━━━━━━\u001b[0m\u001b[37m━━━━━━━━━━━━━━\u001b[0m \u001b[1m21:49\u001b[0m 6s/step - loss: 8.6460",
          "output_type": "stream"
        },
        {
          "name": "stderr",
          "text": "W0000 00:00:1720093341.697163     121 graph_launch.cc:671] Fallback to op-by-op mode because memset node breaks graph update\n",
          "output_type": "stream"
        },
        {
          "name": "stdout",
          "text": "\u001b[1m114/324\u001b[0m \u001b[32m━━━━━━━\u001b[0m\u001b[37m━━━━━━━━━━━━━\u001b[0m \u001b[1m21:44\u001b[0m 6s/step - loss: 8.6404",
          "output_type": "stream"
        },
        {
          "name": "stderr",
          "text": "W0000 00:00:1720093348.407638     121 graph_launch.cc:671] Fallback to op-by-op mode because memset node breaks graph update\nW0000 00:00:1720093348.422959     121 graph_launch.cc:671] Fallback to op-by-op mode because memset node breaks graph update\nW0000 00:00:1720093348.445822     121 graph_launch.cc:671] Fallback to op-by-op mode because memset node breaks graph update\n",
          "output_type": "stream"
        },
        {
          "name": "stdout",
          "text": "\u001b[1m115/324\u001b[0m \u001b[32m━━━━━━━\u001b[0m\u001b[37m━━━━━━━━━━━━━\u001b[0m \u001b[1m21:39\u001b[0m 6s/step - loss: 8.6349",
          "output_type": "stream"
        },
        {
          "name": "stderr",
          "text": "W0000 00:00:1720093355.473314     121 graph_launch.cc:671] Fallback to op-by-op mode because memset node breaks graph update\nW0000 00:00:1720093355.526687     121 graph_launch.cc:671] Fallback to op-by-op mode because memset node breaks graph update\nW0000 00:00:1720093362.462595     123 graph_launch.cc:671] Fallback to op-by-op mode because memset node breaks graph update\n",
          "output_type": "stream"
        },
        {
          "name": "stdout",
          "text": "\u001b[1m118/324\u001b[0m \u001b[32m━━━━━━━\u001b[0m\u001b[37m━━━━━━━━━━━━━\u001b[0m \u001b[1m21:13\u001b[0m 6s/step - loss: 8.6186",
          "output_type": "stream"
        },
        {
          "name": "stderr",
          "text": "W0000 00:00:1720093376.776065     121 graph_launch.cc:671] Fallback to op-by-op mode because memset node breaks graph update\nW0000 00:00:1720093376.852907     121 graph_launch.cc:671] Fallback to op-by-op mode because memset node breaks graph update\nW0000 00:00:1720093376.915434     121 graph_launch.cc:671] Fallback to op-by-op mode because memset node breaks graph update\n",
          "output_type": "stream"
        },
        {
          "name": "stdout",
          "text": "\u001b[1m121/324\u001b[0m \u001b[32m━━━━━━━\u001b[0m\u001b[37m━━━━━━━━━━━━━\u001b[0m \u001b[1m20:47\u001b[0m 6s/step - loss: 8.6029",
          "output_type": "stream"
        },
        {
          "name": "stderr",
          "text": "W0000 00:00:1720093383.838921     122 graph_launch.cc:671] Fallback to op-by-op mode because memset node breaks graph update\nW0000 00:00:1720093390.737105     123 graph_launch.cc:671] Fallback to op-by-op mode because memset node breaks graph update\n",
          "output_type": "stream"
        },
        {
          "name": "stdout",
          "text": "\u001b[1m123/324\u001b[0m \u001b[32m━━━━━━━\u001b[0m\u001b[37m━━━━━━━━━━━━━\u001b[0m \u001b[1m20:37\u001b[0m 6s/step - loss: 8.5927",
          "output_type": "stream"
        },
        {
          "name": "stderr",
          "text": "W0000 00:00:1720093397.704001     122 graph_launch.cc:671] Fallback to op-by-op mode because memset node breaks graph update\n",
          "output_type": "stream"
        },
        {
          "name": "stdout",
          "text": "\u001b[1m124/324\u001b[0m \u001b[32m━━━━━━━\u001b[0m\u001b[37m━━━━━━━━━━━━━\u001b[0m \u001b[1m20:33\u001b[0m 6s/step - loss: 8.5877",
          "output_type": "stream"
        },
        {
          "name": "stderr",
          "text": "W0000 00:00:1720093404.817990     121 graph_launch.cc:671] Fallback to op-by-op mode because memset node breaks graph update\nW0000 00:00:1720093411.761432     122 graph_launch.cc:671] Fallback to op-by-op mode because memset node breaks graph update\nW0000 00:00:1720093411.838562     122 graph_launch.cc:671] Fallback to op-by-op mode because memset node breaks graph update\nW0000 00:00:1720093411.900135     122 graph_launch.cc:671] Fallback to op-by-op mode because memset node breaks graph update\n",
          "output_type": "stream"
        },
        {
          "name": "stdout",
          "text": "\u001b[1m126/324\u001b[0m \u001b[32m━━━━━━━\u001b[0m\u001b[37m━━━━━━━━━━━━━\u001b[0m \u001b[1m20:23\u001b[0m 6s/step - loss: 8.5778",
          "output_type": "stream"
        },
        {
          "name": "stderr",
          "text": "W0000 00:00:1720093418.787670     121 graph_launch.cc:671] Fallback to op-by-op mode because memset node breaks graph update\n",
          "output_type": "stream"
        },
        {
          "name": "stdout",
          "text": "\u001b[1m127/324\u001b[0m \u001b[32m━━━━━━━\u001b[0m\u001b[37m━━━━━━━━━━━━━\u001b[0m \u001b[1m20:07\u001b[0m 6s/step - loss: 8.5730",
          "output_type": "stream"
        },
        {
          "name": "stderr",
          "text": "W0000 00:00:1720093425.970225     121 graph_launch.cc:671] Fallback to op-by-op mode because memset node breaks graph update\n",
          "output_type": "stream"
        },
        {
          "name": "stdout",
          "text": "\u001b[1m128/324\u001b[0m \u001b[32m━━━━━━━\u001b[0m\u001b[37m━━━━━━━━━━━━━\u001b[0m \u001b[1m20:03\u001b[0m 6s/step - loss: 8.5681",
          "output_type": "stream"
        },
        {
          "name": "stderr",
          "text": "W0000 00:00:1720093432.937252     120 graph_launch.cc:671] Fallback to op-by-op mode because memset node breaks graph update\n",
          "output_type": "stream"
        },
        {
          "name": "stdout",
          "text": "\u001b[1m129/324\u001b[0m \u001b[32m━━━━━━━\u001b[0m\u001b[37m━━━━━━━━━━━━━\u001b[0m \u001b[1m19:58\u001b[0m 6s/step - loss: 8.5634",
          "output_type": "stream"
        },
        {
          "name": "stderr",
          "text": "W0000 00:00:1720093440.051414     120 graph_launch.cc:671] Fallback to op-by-op mode because memset node breaks graph update\n",
          "output_type": "stream"
        },
        {
          "name": "stdout",
          "text": "\u001b[1m130/324\u001b[0m \u001b[32m━━━━━━━━\u001b[0m\u001b[37m━━━━━━━━━━━━\u001b[0m \u001b[1m19:53\u001b[0m 6s/step - loss: 8.5586",
          "output_type": "stream"
        },
        {
          "name": "stderr",
          "text": "W0000 00:00:1720093447.063449     121 graph_launch.cc:671] Fallback to op-by-op mode because memset node breaks graph update\n",
          "output_type": "stream"
        },
        {
          "name": "stdout",
          "text": "\u001b[1m134/324\u001b[0m \u001b[32m━━━━━━━━\u001b[0m\u001b[37m━━━━━━━━━━━━\u001b[0m \u001b[1m19:14\u001b[0m 6s/step - loss: 8.5402",
          "output_type": "stream"
        },
        {
          "name": "stderr",
          "text": "W0000 00:00:1720093454.395652     122 graph_launch.cc:671] Fallback to op-by-op mode because memset node breaks graph update\n",
          "output_type": "stream"
        },
        {
          "name": "stdout",
          "text": "\u001b[1m136/324\u001b[0m \u001b[32m━━━━━━━━\u001b[0m\u001b[37m━━━━━━━━━━━━\u001b[0m \u001b[1m19:04\u001b[0m 6s/step - loss: 8.5313",
          "output_type": "stream"
        },
        {
          "name": "stderr",
          "text": "W0000 00:00:1720093468.237640     122 graph_launch.cc:671] Fallback to op-by-op mode because memset node breaks graph update\nW0000 00:00:1720093468.290857     122 graph_launch.cc:671] Fallback to op-by-op mode because memset node breaks graph update\nW0000 00:00:1720093468.333235     122 graph_launch.cc:671] Fallback to op-by-op mode because memset node breaks graph update\n",
          "output_type": "stream"
        },
        {
          "name": "stdout",
          "text": "\u001b[1m137/324\u001b[0m \u001b[32m━━━━━━━━\u001b[0m\u001b[37m━━━━━━━━━━━━\u001b[0m \u001b[1m18:59\u001b[0m 6s/step - loss: 8.5269",
          "output_type": "stream"
        },
        {
          "name": "stderr",
          "text": "W0000 00:00:1720093475.088981     120 graph_launch.cc:671] Fallback to op-by-op mode because memset node breaks graph update\nW0000 00:00:1720093475.143973     120 graph_launch.cc:671] Fallback to op-by-op mode because memset node breaks graph update\nW0000 00:00:1720093475.187612     120 graph_launch.cc:671] Fallback to op-by-op mode because memset node breaks graph update\n",
          "output_type": "stream"
        },
        {
          "name": "stdout",
          "text": "\u001b[1m138/324\u001b[0m \u001b[32m━━━━━━━━\u001b[0m\u001b[37m━━━━━━━━━━━━\u001b[0m \u001b[1m18:54\u001b[0m 6s/step - loss: 8.5226",
          "output_type": "stream"
        },
        {
          "name": "stderr",
          "text": "W0000 00:00:1720093481.991734     121 graph_launch.cc:671] Fallback to op-by-op mode because memset node breaks graph update\nW0000 00:00:1720093482.058806     121 graph_launch.cc:671] Fallback to op-by-op mode because memset node breaks graph update\nW0000 00:00:1720093482.113476     121 graph_launch.cc:671] Fallback to op-by-op mode because memset node breaks graph update\n",
          "output_type": "stream"
        },
        {
          "name": "stdout",
          "text": "\u001b[1m139/324\u001b[0m \u001b[32m━━━━━━━━\u001b[0m\u001b[37m━━━━━━━━━━━━\u001b[0m \u001b[1m18:49\u001b[0m 6s/step - loss: 8.5183",
          "output_type": "stream"
        },
        {
          "name": "stderr",
          "text": "W0000 00:00:1720093488.969473     120 graph_launch.cc:671] Fallback to op-by-op mode because memset node breaks graph update\nW0000 00:00:1720093496.084030     120 graph_launch.cc:671] Fallback to op-by-op mode because memset node breaks graph update\nW0000 00:00:1720093496.161434     120 graph_launch.cc:671] Fallback to op-by-op mode because memset node breaks graph update\nW0000 00:00:1720093496.224388     120 graph_launch.cc:671] Fallback to op-by-op mode because memset node breaks graph update\n",
          "output_type": "stream"
        },
        {
          "name": "stdout",
          "text": "\u001b[1m140/324\u001b[0m \u001b[32m━━━━━━━━\u001b[0m\u001b[37m━━━━━━━━━━━━\u001b[0m \u001b[1m18:44\u001b[0m 6s/step - loss: 8.5140",
          "output_type": "stream"
        },
        {
          "name": "stderr",
          "text": "W0000 00:00:1720093503.204399     122 graph_launch.cc:671] Fallback to op-by-op mode because memset node breaks graph update\n",
          "output_type": "stream"
        },
        {
          "name": "stdout",
          "text": "\u001b[1m142/324\u001b[0m \u001b[32m━━━━━━━━\u001b[0m\u001b[37m━━━━━━━━━━━━\u001b[0m \u001b[1m18:34\u001b[0m 6s/step - loss: 8.5056",
          "output_type": "stream"
        },
        {
          "name": "stderr",
          "text": "W0000 00:00:1720093510.133075     123 graph_launch.cc:671] Fallback to op-by-op mode because memset node breaks graph update\n",
          "output_type": "stream"
        },
        {
          "name": "stdout",
          "text": "\u001b[1m145/324\u001b[0m \u001b[32m━━━━━━━━\u001b[0m\u001b[37m━━━━━━━━━━━━\u001b[0m \u001b[1m18:10\u001b[0m 6s/step - loss: 8.4933",
          "output_type": "stream"
        },
        {
          "name": "stderr",
          "text": "W0000 00:00:1720093524.156408     123 graph_launch.cc:671] Fallback to op-by-op mode because memset node breaks graph update\n",
          "output_type": "stream"
        },
        {
          "name": "stdout",
          "text": "\u001b[1m147/324\u001b[0m \u001b[32m━━━━━━━━━\u001b[0m\u001b[37m━━━━━━━━━━━\u001b[0m \u001b[1m17:52\u001b[0m 6s/step - loss: 8.4852",
          "output_type": "stream"
        },
        {
          "name": "stderr",
          "text": "W0000 00:00:1720093531.475118     120 graph_launch.cc:671] Fallback to op-by-op mode because memset node breaks graph update\nW0000 00:00:1720093531.529164     120 graph_launch.cc:671] Fallback to op-by-op mode because memset node breaks graph update\n",
          "output_type": "stream"
        },
        {
          "name": "stdout",
          "text": "\u001b[1m149/324\u001b[0m \u001b[32m━━━━━━━━━\u001b[0m\u001b[37m━━━━━━━━━━━\u001b[0m \u001b[1m17:34\u001b[0m 6s/step - loss: 8.4773",
          "output_type": "stream"
        },
        {
          "name": "stderr",
          "text": "W0000 00:00:1720093538.626435     122 graph_launch.cc:671] Fallback to op-by-op mode because memset node breaks graph update\nW0000 00:00:1720093545.543412     120 graph_launch.cc:671] Fallback to op-by-op mode because memset node breaks graph update\n",
          "output_type": "stream"
        },
        {
          "name": "stdout",
          "text": "\u001b[1m151/324\u001b[0m \u001b[32m━━━━━━━━━\u001b[0m\u001b[37m━━━━━━━━━━━\u001b[0m \u001b[1m17:24\u001b[0m 6s/step - loss: 8.4696",
          "output_type": "stream"
        },
        {
          "name": "stderr",
          "text": "W0000 00:00:1720093552.342009     123 graph_launch.cc:671] Fallback to op-by-op mode because memset node breaks graph update\n",
          "output_type": "stream"
        },
        {
          "name": "stdout",
          "text": "\u001b[1m152/324\u001b[0m \u001b[32m━━━━━━━━━\u001b[0m\u001b[37m━━━━━━━━━━━\u001b[0m \u001b[1m17:19\u001b[0m 6s/step - loss: 8.4657",
          "output_type": "stream"
        },
        {
          "name": "stderr",
          "text": "W0000 00:00:1720093559.235188     121 graph_launch.cc:671] Fallback to op-by-op mode because memset node breaks graph update\n",
          "output_type": "stream"
        },
        {
          "name": "stdout",
          "text": "\u001b[1m153/324\u001b[0m \u001b[32m━━━━━━━━━\u001b[0m\u001b[37m━━━━━━━━━━━\u001b[0m \u001b[1m17:14\u001b[0m 6s/step - loss: 8.4620",
          "output_type": "stream"
        },
        {
          "name": "stderr",
          "text": "W0000 00:00:1720093566.164913     120 graph_launch.cc:671] Fallback to op-by-op mode because memset node breaks graph update\n",
          "output_type": "stream"
        },
        {
          "name": "stdout",
          "text": "\u001b[1m154/324\u001b[0m \u001b[32m━━━━━━━━━\u001b[0m\u001b[37m━━━━━━━━━━━\u001b[0m \u001b[1m17:02\u001b[0m 6s/step - loss: 8.4582",
          "output_type": "stream"
        },
        {
          "name": "stderr",
          "text": "W0000 00:00:1720093573.391125     123 graph_launch.cc:671] Fallback to op-by-op mode because memset node breaks graph update\n",
          "output_type": "stream"
        },
        {
          "name": "stdout",
          "text": "\u001b[1m156/324\u001b[0m \u001b[32m━━━━━━━━━\u001b[0m\u001b[37m━━━━━━━━━━━\u001b[0m \u001b[1m16:52\u001b[0m 6s/step - loss: 8.4508",
          "output_type": "stream"
        },
        {
          "name": "stderr",
          "text": "W0000 00:00:1720093580.365168     122 graph_launch.cc:671] Fallback to op-by-op mode because memset node breaks graph update\nW0000 00:00:1720093587.293786     122 graph_launch.cc:671] Fallback to op-by-op mode because memset node breaks graph update\n",
          "output_type": "stream"
        },
        {
          "name": "stdout",
          "text": "\u001b[1m157/324\u001b[0m \u001b[32m━━━━━━━━━\u001b[0m\u001b[37m━━━━━━━━━━━\u001b[0m \u001b[1m16:47\u001b[0m 6s/step - loss: 8.4472",
          "output_type": "stream"
        },
        {
          "name": "stderr",
          "text": "W0000 00:00:1720093594.266085     122 graph_launch.cc:671] Fallback to op-by-op mode because memset node breaks graph update\n",
          "output_type": "stream"
        },
        {
          "name": "stdout",
          "text": "\u001b[1m159/324\u001b[0m \u001b[32m━━━━━━━━━\u001b[0m\u001b[37m━━━━━━━━━━━\u001b[0m \u001b[1m16:37\u001b[0m 6s/step - loss: 8.4400",
          "output_type": "stream"
        },
        {
          "name": "stderr",
          "text": "W0000 00:00:1720093601.216086     122 graph_launch.cc:671] Fallback to op-by-op mode because memset node breaks graph update\n",
          "output_type": "stream"
        },
        {
          "name": "stdout",
          "text": "\u001b[1m160/324\u001b[0m \u001b[32m━━━━━━━━━\u001b[0m\u001b[37m━━━━━━━━━━━\u001b[0m \u001b[1m16:24\u001b[0m 6s/step - loss: 8.4364",
          "output_type": "stream"
        },
        {
          "name": "stderr",
          "text": "W0000 00:00:1720093608.439245     122 graph_launch.cc:671] Fallback to op-by-op mode because memset node breaks graph update\n",
          "output_type": "stream"
        },
        {
          "name": "stdout",
          "text": "\u001b[1m162/324\u001b[0m \u001b[32m━━━━━━━━━━\u001b[0m\u001b[37m━━━━━━━━━━\u001b[0m \u001b[1m16:15\u001b[0m 6s/step - loss: 8.4294",
          "output_type": "stream"
        },
        {
          "name": "stderr",
          "text": "W0000 00:00:1720093615.585009     120 graph_launch.cc:671] Fallback to op-by-op mode because memset node breaks graph update\nW0000 00:00:1720093622.893614     121 graph_launch.cc:671] Fallback to op-by-op mode because memset node breaks graph update\n",
          "output_type": "stream"
        },
        {
          "name": "stdout",
          "text": "\u001b[1m164/324\u001b[0m \u001b[32m━━━━━━━━━━\u001b[0m\u001b[37m━━━━━━━━━━\u001b[0m \u001b[1m16:05\u001b[0m 6s/step - loss: 8.4224",
          "output_type": "stream"
        },
        {
          "name": "stderr",
          "text": "W0000 00:00:1720093630.088188     120 graph_launch.cc:671] Fallback to op-by-op mode because memset node breaks graph update\n",
          "output_type": "stream"
        },
        {
          "name": "stdout",
          "text": "\u001b[1m165/324\u001b[0m \u001b[32m━━━━━━━━━━\u001b[0m\u001b[37m━━━━━━━━━━\u001b[0m \u001b[1m16:00\u001b[0m 6s/step - loss: 8.4190",
          "output_type": "stream"
        },
        {
          "name": "stderr",
          "text": "W0000 00:00:1720093637.270752     121 graph_launch.cc:671] Fallback to op-by-op mode because memset node breaks graph update\n",
          "output_type": "stream"
        },
        {
          "name": "stdout",
          "text": "\u001b[1m167/324\u001b[0m \u001b[32m━━━━━━━━━━\u001b[0m\u001b[37m━━━━━━━━━━\u001b[0m \u001b[1m15:44\u001b[0m 6s/step - loss: 8.4122",
          "output_type": "stream"
        },
        {
          "name": "stderr",
          "text": "W0000 00:00:1720093644.659265     123 graph_launch.cc:671] Fallback to op-by-op mode because memset node breaks graph update\nW0000 00:00:1720093651.874330     123 graph_launch.cc:671] Fallback to op-by-op mode because memset node breaks graph update\n",
          "output_type": "stream"
        },
        {
          "name": "stdout",
          "text": "\u001b[1m169/324\u001b[0m \u001b[32m━━━━━━━━━━\u001b[0m\u001b[37m━━━━━━━━━━\u001b[0m \u001b[1m15:34\u001b[0m 6s/step - loss: 8.4056",
          "output_type": "stream"
        },
        {
          "name": "stderr",
          "text": "W0000 00:00:1720093659.007667     121 graph_launch.cc:671] Fallback to op-by-op mode because memset node breaks graph update\n",
          "output_type": "stream"
        },
        {
          "name": "stdout",
          "text": "\u001b[1m171/324\u001b[0m \u001b[32m━━━━━━━━━━\u001b[0m\u001b[37m━━━━━━━━━━\u001b[0m \u001b[1m15:17\u001b[0m 6s/step - loss: 8.3990",
          "output_type": "stream"
        },
        {
          "name": "stderr",
          "text": "W0000 00:00:1720093666.274046     122 graph_launch.cc:671] Fallback to op-by-op mode because memset node breaks graph update\n",
          "output_type": "stream"
        },
        {
          "name": "stdout",
          "text": "\u001b[1m174/324\u001b[0m \u001b[32m━━━━━━━━━━\u001b[0m\u001b[37m━━━━━━━━━━\u001b[0m \u001b[1m14:50\u001b[0m 6s/step - loss: 8.3894",
          "output_type": "stream"
        },
        {
          "name": "stderr",
          "text": "W0000 00:00:1720093673.812571     122 graph_launch.cc:671] Fallback to op-by-op mode because memset node breaks graph update\n",
          "output_type": "stream"
        },
        {
          "name": "stdout",
          "text": "\u001b[1m176/324\u001b[0m \u001b[32m━━━━━━━━━━\u001b[0m\u001b[37m━━━━━━━━━━\u001b[0m \u001b[1m14:35\u001b[0m 6s/step - loss: 8.3831",
          "output_type": "stream"
        },
        {
          "name": "stderr",
          "text": "W0000 00:00:1720093681.152117     121 graph_launch.cc:671] Fallback to op-by-op mode because memset node breaks graph update\n",
          "output_type": "stream"
        },
        {
          "name": "stdout",
          "text": "\u001b[1m177/324\u001b[0m \u001b[32m━━━━━━━━━━\u001b[0m\u001b[37m━━━━━━━━━━\u001b[0m \u001b[1m14:30\u001b[0m 6s/step - loss: 8.3800",
          "output_type": "stream"
        },
        {
          "name": "stderr",
          "text": "W0000 00:00:1720093688.334917     121 graph_launch.cc:671] Fallback to op-by-op mode because memset node breaks graph update\nW0000 00:00:1720093695.440064     123 graph_launch.cc:671] Fallback to op-by-op mode because memset node breaks graph update\nW0000 00:00:1720093695.514419     123 graph_launch.cc:671] Fallback to op-by-op mode because memset node breaks graph update\nW0000 00:00:1720093695.574951     123 graph_launch.cc:671] Fallback to op-by-op mode because memset node breaks graph update\n",
          "output_type": "stream"
        },
        {
          "name": "stdout",
          "text": "\u001b[1m180/324\u001b[0m \u001b[32m━━━━━━━━━━━\u001b[0m\u001b[37m━━━━━━━━━\u001b[0m \u001b[1m14:09\u001b[0m 6s/step - loss: 8.3708",
          "output_type": "stream"
        },
        {
          "name": "stderr",
          "text": "W0000 00:00:1720093702.751293     123 graph_launch.cc:671] Fallback to op-by-op mode because memset node breaks graph update\nW0000 00:00:1720093709.783877     122 graph_launch.cc:671] Fallback to op-by-op mode because memset node breaks graph update\n",
          "output_type": "stream"
        },
        {
          "name": "stdout",
          "text": "\u001b[1m182/324\u001b[0m \u001b[32m━━━━━━━━━━━\u001b[0m\u001b[37m━━━━━━━━━\u001b[0m \u001b[1m13:59\u001b[0m 6s/step - loss: 8.3647",
          "output_type": "stream"
        },
        {
          "name": "stderr",
          "text": "W0000 00:00:1720093716.874547     123 graph_launch.cc:671] Fallback to op-by-op mode because memset node breaks graph update\n",
          "output_type": "stream"
        },
        {
          "name": "stdout",
          "text": "\u001b[1m187/324\u001b[0m \u001b[32m━━━━━━━━━━━\u001b[0m\u001b[37m━━━━━━━━━\u001b[0m \u001b[1m13:14\u001b[0m 6s/step - loss: 8.3500",
          "output_type": "stream"
        },
        {
          "name": "stderr",
          "text": "W0000 00:00:1720093724.895596     121 graph_launch.cc:671] Fallback to op-by-op mode because memset node breaks graph update\n",
          "output_type": "stream"
        },
        {
          "name": "stdout",
          "text": "\u001b[1m188/324\u001b[0m \u001b[32m━━━━━━━━━━━\u001b[0m\u001b[37m━━━━━━━━━\u001b[0m \u001b[1m13:04\u001b[0m 6s/step - loss: 8.3471",
          "output_type": "stream"
        },
        {
          "name": "stderr",
          "text": "W0000 00:00:1720093732.130133     123 graph_launch.cc:671] Fallback to op-by-op mode because memset node breaks graph update\n",
          "output_type": "stream"
        },
        {
          "name": "stdout",
          "text": "\u001b[1m190/324\u001b[0m \u001b[32m━━━━━━━━━━━\u001b[0m\u001b[37m━━━━━━━━━\u001b[0m \u001b[1m12:54\u001b[0m 6s/step - loss: 8.3414",
          "output_type": "stream"
        },
        {
          "name": "stderr",
          "text": "W0000 00:00:1720093739.255850     120 graph_launch.cc:671] Fallback to op-by-op mode because memset node breaks graph update\n",
          "output_type": "stream"
        },
        {
          "name": "stdout",
          "text": "\u001b[1m191/324\u001b[0m \u001b[32m━━━━━━━━━━━\u001b[0m\u001b[37m━━━━━━━━━\u001b[0m \u001b[1m12:49\u001b[0m 6s/step - loss: 8.3386",
          "output_type": "stream"
        },
        {
          "name": "stderr",
          "text": "W0000 00:00:1720093746.368574     121 graph_launch.cc:671] Fallback to op-by-op mode because memset node breaks graph update\n",
          "output_type": "stream"
        },
        {
          "name": "stdout",
          "text": "\u001b[1m192/324\u001b[0m \u001b[32m━━━━━━━━━━━\u001b[0m\u001b[37m━━━━━━━━━\u001b[0m \u001b[1m12:44\u001b[0m 6s/step - loss: 8.3358",
          "output_type": "stream"
        },
        {
          "name": "stderr",
          "text": "W0000 00:00:1720093753.393043     121 graph_launch.cc:671] Fallback to op-by-op mode because memset node breaks graph update\n",
          "output_type": "stream"
        },
        {
          "name": "stdout",
          "text": "\u001b[1m193/324\u001b[0m \u001b[32m━━━━━━━━━━━\u001b[0m\u001b[37m━━━━━━━━━\u001b[0m \u001b[1m12:35\u001b[0m 6s/step - loss: 8.3330",
          "output_type": "stream"
        },
        {
          "name": "stderr",
          "text": "W0000 00:00:1720093760.650726     123 graph_launch.cc:671] Fallback to op-by-op mode because memset node breaks graph update\nW0000 00:00:1720093760.734769     123 graph_launch.cc:671] Fallback to op-by-op mode because memset node breaks graph update\nW0000 00:00:1720093760.794761     123 graph_launch.cc:671] Fallback to op-by-op mode because memset node breaks graph update\n",
          "output_type": "stream"
        },
        {
          "name": "stdout",
          "text": "\u001b[1m195/324\u001b[0m \u001b[32m━━━━━━━━━━━━\u001b[0m\u001b[37m━━━━━━━━\u001b[0m \u001b[1m12:25\u001b[0m 6s/step - loss: 8.3275",
          "output_type": "stream"
        },
        {
          "name": "stderr",
          "text": "W0000 00:00:1720093767.534569     123 graph_launch.cc:671] Fallback to op-by-op mode because memset node breaks graph update\n",
          "output_type": "stream"
        },
        {
          "name": "stdout",
          "text": "\u001b[1m198/324\u001b[0m \u001b[32m━━━━━━━━━━━━\u001b[0m\u001b[37m━━━━━━━━\u001b[0m \u001b[1m12:01\u001b[0m 6s/step - loss: 8.3194",
          "output_type": "stream"
        },
        {
          "name": "stderr",
          "text": "W0000 00:00:1720093775.010657     120 graph_launch.cc:671] Fallback to op-by-op mode because memset node breaks graph update\n",
          "output_type": "stream"
        },
        {
          "name": "stdout",
          "text": "\u001b[1m199/324\u001b[0m \u001b[32m━━━━━━━━━━━━\u001b[0m\u001b[37m━━━━━━━━\u001b[0m \u001b[1m11:56\u001b[0m 6s/step - loss: 8.3167",
          "output_type": "stream"
        },
        {
          "name": "stderr",
          "text": "W0000 00:00:1720093781.851907     120 graph_launch.cc:671] Fallback to op-by-op mode because memset node breaks graph update\nW0000 00:00:1720093781.897103     120 graph_launch.cc:671] Fallback to op-by-op mode because memset node breaks graph update\nW0000 00:00:1720093781.937992     120 graph_launch.cc:671] Fallback to op-by-op mode because memset node breaks graph update\n",
          "output_type": "stream"
        },
        {
          "name": "stdout",
          "text": "\u001b[1m200/324\u001b[0m \u001b[32m━━━━━━━━━━━━\u001b[0m\u001b[37m━━━━━━━━\u001b[0m \u001b[1m11:51\u001b[0m 6s/step - loss: 8.3141",
          "output_type": "stream"
        },
        {
          "name": "stderr",
          "text": "W0000 00:00:1720093788.673500     122 graph_launch.cc:671] Fallback to op-by-op mode because memset node breaks graph update\nW0000 00:00:1720093795.594923     120 graph_launch.cc:671] Fallback to op-by-op mode because memset node breaks graph update\nW0000 00:00:1720093795.674501     120 graph_launch.cc:671] Fallback to op-by-op mode because memset node breaks graph update\nW0000 00:00:1720093795.731111     120 graph_launch.cc:671] Fallback to op-by-op mode because memset node breaks graph update\n",
          "output_type": "stream"
        },
        {
          "name": "stdout",
          "text": "\u001b[1m203/324\u001b[0m \u001b[32m━━━━━━━━━━━━\u001b[0m\u001b[37m━━━━━━━━\u001b[0m \u001b[1m11:32\u001b[0m 6s/step - loss: 8.3062",
          "output_type": "stream"
        },
        {
          "name": "stderr",
          "text": "W0000 00:00:1720093802.852049     121 graph_launch.cc:671] Fallback to op-by-op mode because memset node breaks graph update\n",
          "output_type": "stream"
        },
        {
          "name": "stdout",
          "text": "\u001b[1m204/324\u001b[0m \u001b[32m━━━━━━━━━━━━\u001b[0m\u001b[37m━━━━━━━━\u001b[0m \u001b[1m11:27\u001b[0m 6s/step - loss: 8.3037",
          "output_type": "stream"
        },
        {
          "name": "stderr",
          "text": "W0000 00:00:1720093809.727909     120 graph_launch.cc:671] Fallback to op-by-op mode because memset node breaks graph update\n",
          "output_type": "stream"
        },
        {
          "name": "stdout",
          "text": "\u001b[1m205/324\u001b[0m \u001b[32m━━━━━━━━━━━━\u001b[0m\u001b[37m━━━━━━━━\u001b[0m \u001b[1m11:22\u001b[0m 6s/step - loss: 8.3011",
          "output_type": "stream"
        },
        {
          "name": "stderr",
          "text": "W0000 00:00:1720093816.665251     121 graph_launch.cc:671] Fallback to op-by-op mode because memset node breaks graph update\nW0000 00:00:1720093816.734151     121 graph_launch.cc:671] Fallback to op-by-op mode because memset node breaks graph update\nW0000 00:00:1720093816.789610     121 graph_launch.cc:671] Fallback to op-by-op mode because memset node breaks graph update\n",
          "output_type": "stream"
        },
        {
          "name": "stdout",
          "text": "\u001b[1m206/324\u001b[0m \u001b[32m━━━━━━━━━━━━\u001b[0m\u001b[37m━━━━━━━━\u001b[0m \u001b[1m11:17\u001b[0m 6s/step - loss: 8.2986",
          "output_type": "stream"
        },
        {
          "name": "stderr",
          "text": "W0000 00:00:1720093823.480517     121 graph_launch.cc:671] Fallback to op-by-op mode because memset node breaks graph update\n",
          "output_type": "stream"
        },
        {
          "name": "stdout",
          "text": "\u001b[1m207/324\u001b[0m \u001b[32m━━━━━━━━━━━━\u001b[0m\u001b[37m━━━━━━━━\u001b[0m \u001b[1m11:12\u001b[0m 6s/step - loss: 8.2960",
          "output_type": "stream"
        },
        {
          "name": "stderr",
          "text": "W0000 00:00:1720093830.114966     122 graph_launch.cc:671] Fallback to op-by-op mode because memset node breaks graph update\nW0000 00:00:1720093836.995363     122 graph_launch.cc:671] Fallback to op-by-op mode because memset node breaks graph update\n",
          "output_type": "stream"
        },
        {
          "name": "stdout",
          "text": "\u001b[1m209/324\u001b[0m \u001b[32m━━━━━━━━━━━━\u001b[0m\u001b[37m━━━━━━━━\u001b[0m \u001b[1m10:58\u001b[0m 6s/step - loss: 8.2910",
          "output_type": "stream"
        },
        {
          "name": "stderr",
          "text": "W0000 00:00:1720093844.419523     122 graph_launch.cc:671] Fallback to op-by-op mode because memset node breaks graph update\nW0000 00:00:1720093844.496185     122 graph_launch.cc:671] Fallback to op-by-op mode because memset node breaks graph update\nW0000 00:00:1720093844.557554     122 graph_launch.cc:671] Fallback to op-by-op mode because memset node breaks graph update\n",
          "output_type": "stream"
        },
        {
          "name": "stdout",
          "text": "\u001b[1m210/324\u001b[0m \u001b[32m━━━━━━━━━━━━\u001b[0m\u001b[37m━━━━━━━━\u001b[0m \u001b[1m10:53\u001b[0m 6s/step - loss: 8.2886",
          "output_type": "stream"
        },
        {
          "name": "stderr",
          "text": "W0000 00:00:1720093851.476105     120 graph_launch.cc:671] Fallback to op-by-op mode because memset node breaks graph update\nW0000 00:00:1720093851.559646     120 graph_launch.cc:671] Fallback to op-by-op mode because memset node breaks graph update\nW0000 00:00:1720093851.617979     120 graph_launch.cc:671] Fallback to op-by-op mode because memset node breaks graph update\n",
          "output_type": "stream"
        },
        {
          "name": "stdout",
          "text": "\u001b[1m213/324\u001b[0m \u001b[32m━━━━━━━━━━━━━\u001b[0m\u001b[37m━━━━━━━\u001b[0m \u001b[1m10:34\u001b[0m 6s/step - loss: 8.2812",
          "output_type": "stream"
        },
        {
          "name": "stderr",
          "text": "W0000 00:00:1720093858.564339     121 graph_launch.cc:671] Fallback to op-by-op mode because memset node breaks graph update\n",
          "output_type": "stream"
        },
        {
          "name": "stdout",
          "text": "\u001b[1m215/324\u001b[0m \u001b[32m━━━━━━━━━━━━━\u001b[0m\u001b[37m━━━━━━━\u001b[0m \u001b[1m10:20\u001b[0m 6s/step - loss: 8.2764",
          "output_type": "stream"
        },
        {
          "name": "stderr",
          "text": "W0000 00:00:1720093865.664866     120 graph_launch.cc:671] Fallback to op-by-op mode because memset node breaks graph update\n",
          "output_type": "stream"
        },
        {
          "name": "stdout",
          "text": "\u001b[1m216/324\u001b[0m \u001b[32m━━━━━━━━━━━━━\u001b[0m\u001b[37m━━━━━━━\u001b[0m \u001b[1m10:15\u001b[0m 6s/step - loss: 8.2740",
          "output_type": "stream"
        },
        {
          "name": "stderr",
          "text": "W0000 00:00:1720093872.558964     123 graph_launch.cc:671] Fallback to op-by-op mode because memset node breaks graph update\n",
          "output_type": "stream"
        },
        {
          "name": "stdout",
          "text": "\u001b[1m218/324\u001b[0m \u001b[32m━━━━━━━━━━━━━\u001b[0m\u001b[37m━━━━━━━\u001b[0m \u001b[1m10:02\u001b[0m 6s/step - loss: 8.2693",
          "output_type": "stream"
        },
        {
          "name": "stderr",
          "text": "W0000 00:00:1720093879.747862     120 graph_launch.cc:671] Fallback to op-by-op mode because memset node breaks graph update\n",
          "output_type": "stream"
        },
        {
          "name": "stdout",
          "text": "\u001b[1m219/324\u001b[0m \u001b[32m━━━━━━━━━━━━━\u001b[0m\u001b[37m━━━━━━━\u001b[0m \u001b[1m9:54\u001b[0m 6s/step - loss: 8.2669 ",
          "output_type": "stream"
        },
        {
          "name": "stderr",
          "text": "W0000 00:00:1720093886.896645     120 graph_launch.cc:671] Fallback to op-by-op mode because memset node breaks graph update\nW0000 00:00:1720093886.973586     120 graph_launch.cc:671] Fallback to op-by-op mode because memset node breaks graph update\nW0000 00:00:1720093887.034858     120 graph_launch.cc:671] Fallback to op-by-op mode because memset node breaks graph update\n",
          "output_type": "stream"
        },
        {
          "name": "stdout",
          "text": "\u001b[1m220/324\u001b[0m \u001b[32m━━━━━━━━━━━━━\u001b[0m\u001b[37m━━━━━━━\u001b[0m \u001b[1m9:49\u001b[0m 6s/step - loss: 8.2646",
          "output_type": "stream"
        },
        {
          "name": "stderr",
          "text": "W0000 00:00:1720093893.930388     121 graph_launch.cc:671] Fallback to op-by-op mode because memset node breaks graph update\n",
          "output_type": "stream"
        },
        {
          "name": "stdout",
          "text": "\u001b[1m222/324\u001b[0m \u001b[32m━━━━━━━━━━━━━\u001b[0m\u001b[37m━━━━━━━\u001b[0m \u001b[1m9:38\u001b[0m 6s/step - loss: 8.2600",
          "output_type": "stream"
        },
        {
          "name": "stderr",
          "text": "W0000 00:00:1720093900.977431     122 graph_launch.cc:671] Fallback to op-by-op mode because memset node breaks graph update\n",
          "output_type": "stream"
        },
        {
          "name": "stdout",
          "text": "\u001b[1m223/324\u001b[0m \u001b[32m━━━━━━━━━━━━━\u001b[0m\u001b[37m━━━━━━━\u001b[0m \u001b[1m9:33\u001b[0m 6s/step - loss: 8.2577",
          "output_type": "stream"
        },
        {
          "name": "stderr",
          "text": "W0000 00:00:1720093907.972011     121 graph_launch.cc:671] Fallback to op-by-op mode because memset node breaks graph update\n",
          "output_type": "stream"
        },
        {
          "name": "stdout",
          "text": "\u001b[1m230/324\u001b[0m \u001b[32m━━━━━━━━━━━━━━\u001b[0m\u001b[37m━━━━━━\u001b[0m \u001b[1m8:41\u001b[0m 6s/step - loss: 8.2421",
          "output_type": "stream"
        },
        {
          "name": "stderr",
          "text": "W0000 00:00:1720093916.135724     122 graph_launch.cc:671] Fallback to op-by-op mode because memset node breaks graph update\n",
          "output_type": "stream"
        },
        {
          "name": "stdout",
          "text": "\u001b[1m231/324\u001b[0m \u001b[32m━━━━━━━━━━━━━━\u001b[0m\u001b[37m━━━━━━\u001b[0m \u001b[1m8:36\u001b[0m 6s/step - loss: 8.2399",
          "output_type": "stream"
        },
        {
          "name": "stderr",
          "text": "W0000 00:00:1720093922.955854     121 graph_launch.cc:671] Fallback to op-by-op mode because memset node breaks graph update\n",
          "output_type": "stream"
        },
        {
          "name": "stdout",
          "text": "\u001b[1m232/324\u001b[0m \u001b[32m━━━━━━━━━━━━━━\u001b[0m\u001b[37m━━━━━━\u001b[0m \u001b[1m8:31\u001b[0m 6s/step - loss: 8.2377",
          "output_type": "stream"
        },
        {
          "name": "stderr",
          "text": "W0000 00:00:1720093930.040467     121 graph_launch.cc:671] Fallback to op-by-op mode because memset node breaks graph update\n",
          "output_type": "stream"
        },
        {
          "name": "stdout",
          "text": "\u001b[1m233/324\u001b[0m \u001b[32m━━━━━━━━━━━━━━\u001b[0m\u001b[37m━━━━━━\u001b[0m \u001b[1m8:26\u001b[0m 6s/step - loss: 8.2356",
          "output_type": "stream"
        },
        {
          "name": "stderr",
          "text": "W0000 00:00:1720093937.147509     120 graph_launch.cc:671] Fallback to op-by-op mode because memset node breaks graph update\nW0000 00:00:1720093944.211093     122 graph_launch.cc:671] Fallback to op-by-op mode because memset node breaks graph update\n",
          "output_type": "stream"
        },
        {
          "name": "stdout",
          "text": "\u001b[1m234/324\u001b[0m \u001b[32m━━━━━━━━━━━━━━\u001b[0m\u001b[37m━━━━━━\u001b[0m \u001b[1m8:21\u001b[0m 6s/step - loss: 8.2334",
          "output_type": "stream"
        },
        {
          "name": "stderr",
          "text": "W0000 00:00:1720093951.339918     120 graph_launch.cc:671] Fallback to op-by-op mode because memset node breaks graph update\n",
          "output_type": "stream"
        },
        {
          "name": "stdout",
          "text": "\u001b[1m238/324\u001b[0m \u001b[32m━━━━━━━━━━━━━━\u001b[0m\u001b[37m━━━━━━\u001b[0m \u001b[1m7:56\u001b[0m 6s/step - loss: 8.2250",
          "output_type": "stream"
        },
        {
          "name": "stderr",
          "text": "W0000 00:00:1720093958.900705     120 graph_launch.cc:671] Fallback to op-by-op mode because memset node breaks graph update\nW0000 00:00:1720093958.954872     120 graph_launch.cc:671] Fallback to op-by-op mode because memset node breaks graph update\n",
          "output_type": "stream"
        },
        {
          "name": "stdout",
          "text": "\u001b[1m239/324\u001b[0m \u001b[32m━━━━━━━━━━━━━━\u001b[0m\u001b[37m━━━━━━\u001b[0m \u001b[1m7:48\u001b[0m 6s/step - loss: 8.2229",
          "output_type": "stream"
        },
        {
          "name": "stderr",
          "text": "W0000 00:00:1720093966.288015     123 graph_launch.cc:671] Fallback to op-by-op mode because memset node breaks graph update\nW0000 00:00:1720093966.364024     123 graph_launch.cc:671] Fallback to op-by-op mode because memset node breaks graph update\nW0000 00:00:1720093966.425742     123 graph_launch.cc:671] Fallback to op-by-op mode because memset node breaks graph update\n",
          "output_type": "stream"
        },
        {
          "name": "stdout",
          "text": "\u001b[1m243/324\u001b[0m \u001b[32m━━━━━━━━━━━━━━━\u001b[0m\u001b[37m━━━━━\u001b[0m \u001b[1m7:24\u001b[0m 5s/step - loss: 8.2146",
          "output_type": "stream"
        },
        {
          "name": "stderr",
          "text": "W0000 00:00:1720093973.795630     120 graph_launch.cc:671] Fallback to op-by-op mode because memset node breaks graph update\n",
          "output_type": "stream"
        },
        {
          "name": "stdout",
          "text": "\u001b[1m244/324\u001b[0m \u001b[32m━━━━━━━━━━━━━━━\u001b[0m\u001b[37m━━━━━\u001b[0m \u001b[1m7:19\u001b[0m 5s/step - loss: 8.2126",
          "output_type": "stream"
        },
        {
          "name": "stderr",
          "text": "W0000 00:00:1720093980.856264     121 graph_launch.cc:671] Fallback to op-by-op mode because memset node breaks graph update\nW0000 00:00:1720093987.880837     122 graph_launch.cc:671] Fallback to op-by-op mode because memset node breaks graph update\n",
          "output_type": "stream"
        },
        {
          "name": "stdout",
          "text": "\u001b[1m245/324\u001b[0m \u001b[32m━━━━━━━━━━━━━━━\u001b[0m\u001b[37m━━━━━\u001b[0m \u001b[1m7:14\u001b[0m 5s/step - loss: 8.2106",
          "output_type": "stream"
        },
        {
          "name": "stderr",
          "text": "W0000 00:00:1720093995.157176     120 graph_launch.cc:671] Fallback to op-by-op mode because memset node breaks graph update\nW0000 00:00:1720093995.236682     120 graph_launch.cc:671] Fallback to op-by-op mode because memset node breaks graph update\nW0000 00:00:1720093995.294493     120 graph_launch.cc:671] Fallback to op-by-op mode because memset node breaks graph update\n",
          "output_type": "stream"
        },
        {
          "name": "stdout",
          "text": "\u001b[1m251/324\u001b[0m \u001b[32m━━━━━━━━━━━━━━━\u001b[0m\u001b[37m━━━━━\u001b[0m \u001b[1m6:36\u001b[0m 5s/step - loss: 8.1986",
          "output_type": "stream"
        },
        {
          "name": "stderr",
          "text": "W0000 00:00:1720094003.337283     122 graph_launch.cc:671] Fallback to op-by-op mode because memset node breaks graph update\n",
          "output_type": "stream"
        },
        {
          "name": "stdout",
          "text": "\u001b[1m253/324\u001b[0m \u001b[32m━━━━━━━━━━━━━━━\u001b[0m\u001b[37m━━━━━\u001b[0m \u001b[1m6:24\u001b[0m 5s/step - loss: 8.1948",
          "output_type": "stream"
        },
        {
          "name": "stderr",
          "text": "W0000 00:00:1720094010.616133     120 graph_launch.cc:671] Fallback to op-by-op mode because memset node breaks graph update\n",
          "output_type": "stream"
        },
        {
          "name": "stdout",
          "text": "\u001b[1m254/324\u001b[0m \u001b[32m━━━━━━━━━━━━━━━\u001b[0m\u001b[37m━━━━━\u001b[0m \u001b[1m6:19\u001b[0m 5s/step - loss: 8.1928",
          "output_type": "stream"
        },
        {
          "name": "stderr",
          "text": "W0000 00:00:1720094017.631065     120 graph_launch.cc:671] Fallback to op-by-op mode because memset node breaks graph update\n",
          "output_type": "stream"
        },
        {
          "name": "stdout",
          "text": "\u001b[1m256/324\u001b[0m \u001b[32m━━━━━━━━━━━━━━━\u001b[0m\u001b[37m━━━━━\u001b[0m \u001b[1m6:07\u001b[0m 5s/step - loss: 8.1890",
          "output_type": "stream"
        },
        {
          "name": "stderr",
          "text": "W0000 00:00:1720094025.021302     122 graph_launch.cc:671] Fallback to op-by-op mode because memset node breaks graph update\n",
          "output_type": "stream"
        },
        {
          "name": "stdout",
          "text": "\u001b[1m262/324\u001b[0m \u001b[32m━━━━━━━━━━━━━━━━\u001b[0m\u001b[37m━━━━\u001b[0m \u001b[1m5:29\u001b[0m 5s/step - loss: 8.1777",
          "output_type": "stream"
        },
        {
          "name": "stderr",
          "text": "W0000 00:00:1720094033.389090     122 graph_launch.cc:671] Fallback to op-by-op mode because memset node breaks graph update\nW0000 00:00:1720094040.532490     120 graph_launch.cc:671] Fallback to op-by-op mode because memset node breaks graph update\n",
          "output_type": "stream"
        },
        {
          "name": "stdout",
          "text": "\u001b[1m266/324\u001b[0m \u001b[32m━━━━━━━━━━━━━━━━\u001b[0m\u001b[37m━━━━\u001b[0m \u001b[1m5:06\u001b[0m 5s/step - loss: 8.1703",
          "output_type": "stream"
        },
        {
          "name": "stderr",
          "text": "W0000 00:00:1720094048.086168     120 graph_launch.cc:671] Fallback to op-by-op mode because memset node breaks graph update\nW0000 00:00:1720094048.155988     120 graph_launch.cc:671] Fallback to op-by-op mode because memset node breaks graph update\nW0000 00:00:1720094048.211340     120 graph_launch.cc:671] Fallback to op-by-op mode because memset node breaks graph update\n",
          "output_type": "stream"
        },
        {
          "name": "stdout",
          "text": "\u001b[1m267/324\u001b[0m \u001b[32m━━━━━━━━━━━━━━━━\u001b[0m\u001b[37m━━━━\u001b[0m \u001b[1m5:01\u001b[0m 5s/step - loss: 8.1685",
          "output_type": "stream"
        },
        {
          "name": "stderr",
          "text": "W0000 00:00:1720094055.100001     120 graph_launch.cc:671] Fallback to op-by-op mode because memset node breaks graph update\nW0000 00:00:1720094055.154332     120 graph_launch.cc:671] Fallback to op-by-op mode because memset node breaks graph update\nW0000 00:00:1720094055.198756     120 graph_launch.cc:671] Fallback to op-by-op mode because memset node breaks graph update\n",
          "output_type": "stream"
        },
        {
          "name": "stdout",
          "text": "\u001b[1m268/324\u001b[0m \u001b[32m━━━━━━━━━━━━━━━━\u001b[0m\u001b[37m━━━━\u001b[0m \u001b[1m4:56\u001b[0m 5s/step - loss: 8.1667",
          "output_type": "stream"
        },
        {
          "name": "stderr",
          "text": "W0000 00:00:1720094062.307400     121 graph_launch.cc:671] Fallback to op-by-op mode because memset node breaks graph update\nW0000 00:00:1720094069.469679     122 graph_launch.cc:671] Fallback to op-by-op mode because memset node breaks graph update\n",
          "output_type": "stream"
        },
        {
          "name": "stdout",
          "text": "\u001b[1m271/324\u001b[0m \u001b[32m━━━━━━━━━━━━━━━━\u001b[0m\u001b[37m━━━━\u001b[0m \u001b[1m4:40\u001b[0m 5s/step - loss: 8.1613",
          "output_type": "stream"
        },
        {
          "name": "stderr",
          "text": "W0000 00:00:1720094076.610546     120 graph_launch.cc:671] Fallback to op-by-op mode because memset node breaks graph update\nW0000 00:00:1720094076.656137     120 graph_launch.cc:671] Fallback to op-by-op mode because memset node breaks graph update\nW0000 00:00:1720094076.696853     120 graph_launch.cc:671] Fallback to op-by-op mode because memset node breaks graph update\n",
          "output_type": "stream"
        },
        {
          "name": "stdout",
          "text": "\u001b[1m274/324\u001b[0m \u001b[32m━━━━━━━━━━━━━━━━\u001b[0m\u001b[37m━━━━\u001b[0m \u001b[1m4:22\u001b[0m 5s/step - loss: 8.1560",
          "output_type": "stream"
        },
        {
          "name": "stderr",
          "text": "W0000 00:00:1720094084.541309     121 graph_launch.cc:671] Fallback to op-by-op mode because memset node breaks graph update\nW0000 00:00:1720094084.622988     121 graph_launch.cc:671] Fallback to op-by-op mode because memset node breaks graph update\nW0000 00:00:1720094084.690077     121 graph_launch.cc:671] Fallback to op-by-op mode because memset node breaks graph update\n",
          "output_type": "stream"
        },
        {
          "name": "stdout",
          "text": "\u001b[1m280/324\u001b[0m \u001b[32m━━━━━━━━━━━━━━━━━\u001b[0m\u001b[37m━━━\u001b[0m \u001b[1m3:48\u001b[0m 5s/step - loss: 8.1457",
          "output_type": "stream"
        },
        {
          "name": "stderr",
          "text": "W0000 00:00:1720094092.683309     123 graph_launch.cc:671] Fallback to op-by-op mode because memset node breaks graph update\n",
          "output_type": "stream"
        },
        {
          "name": "stdout",
          "text": "\u001b[1m281/324\u001b[0m \u001b[32m━━━━━━━━━━━━━━━━━\u001b[0m\u001b[37m━━━\u001b[0m \u001b[1m3:43\u001b[0m 5s/step - loss: 8.1440",
          "output_type": "stream"
        },
        {
          "name": "stderr",
          "text": "W0000 00:00:1720094099.836058     121 graph_launch.cc:671] Fallback to op-by-op mode because memset node breaks graph update\nW0000 00:00:1720094107.008790     120 graph_launch.cc:671] Fallback to op-by-op mode because memset node breaks graph update\nW0000 00:00:1720094107.086875     120 graph_launch.cc:671] Fallback to op-by-op mode because memset node breaks graph update\nW0000 00:00:1720094107.149762     120 graph_launch.cc:671] Fallback to op-by-op mode because memset node breaks graph update\n",
          "output_type": "stream"
        },
        {
          "name": "stdout",
          "text": "\u001b[1m282/324\u001b[0m \u001b[32m━━━━━━━━━━━━━━━━━\u001b[0m\u001b[37m━━━\u001b[0m \u001b[1m3:38\u001b[0m 5s/step - loss: 8.1423",
          "output_type": "stream"
        },
        {
          "name": "stderr",
          "text": "W0000 00:00:1720094114.218024     120 graph_launch.cc:671] Fallback to op-by-op mode because memset node breaks graph update\nW0000 00:00:1720094114.296912     120 graph_launch.cc:671] Fallback to op-by-op mode because memset node breaks graph update\nW0000 00:00:1720094114.353315     120 graph_launch.cc:671] Fallback to op-by-op mode because memset node breaks graph update\n",
          "output_type": "stream"
        },
        {
          "name": "stdout",
          "text": "\u001b[1m284/324\u001b[0m \u001b[32m━━━━━━━━━━━━━━━━━\u001b[0m\u001b[37m━━━\u001b[0m \u001b[1m3:27\u001b[0m 5s/step - loss: 8.1389",
          "output_type": "stream"
        },
        {
          "name": "stderr",
          "text": "W0000 00:00:1720094121.559970     123 graph_launch.cc:671] Fallback to op-by-op mode because memset node breaks graph update\nW0000 00:00:1720094121.632370     123 graph_launch.cc:671] Fallback to op-by-op mode because memset node breaks graph update\nW0000 00:00:1720094121.690517     123 graph_launch.cc:671] Fallback to op-by-op mode because memset node breaks graph update\n",
          "output_type": "stream"
        },
        {
          "name": "stdout",
          "text": "\u001b[1m290/324\u001b[0m \u001b[32m━━━━━━━━━━━━━━━━━\u001b[0m\u001b[37m━━━\u001b[0m \u001b[1m2:54\u001b[0m 5s/step - loss: 8.1289",
          "output_type": "stream"
        },
        {
          "name": "stderr",
          "text": "W0000 00:00:1720094129.545520     123 graph_launch.cc:671] Fallback to op-by-op mode because memset node breaks graph update\nW0000 00:00:1720094136.443700     122 graph_launch.cc:671] Fallback to op-by-op mode because memset node breaks graph update\n",
          "output_type": "stream"
        },
        {
          "name": "stdout",
          "text": "\u001b[1m294/324\u001b[0m \u001b[32m━━━━━━━━━━━━━━━━━━\u001b[0m\u001b[37m━━\u001b[0m \u001b[1m2:33\u001b[0m 5s/step - loss: 8.1225",
          "output_type": "stream"
        },
        {
          "name": "stderr",
          "text": "W0000 00:00:1720094143.854053     120 graph_launch.cc:671] Fallback to op-by-op mode because memset node breaks graph update\n",
          "output_type": "stream"
        },
        {
          "name": "stdout",
          "text": "\u001b[1m295/324\u001b[0m \u001b[32m━━━━━━━━━━━━━━━━━━\u001b[0m\u001b[37m━━\u001b[0m \u001b[1m2:28\u001b[0m 5s/step - loss: 8.1208",
          "output_type": "stream"
        },
        {
          "name": "stderr",
          "text": "W0000 00:00:1720094150.786773     120 graph_launch.cc:671] Fallback to op-by-op mode because memset node breaks graph update\n",
          "output_type": "stream"
        },
        {
          "name": "stdout",
          "text": "\u001b[1m296/324\u001b[0m \u001b[32m━━━━━━━━━━━━━━━━━━\u001b[0m\u001b[37m━━\u001b[0m \u001b[1m2:22\u001b[0m 5s/step - loss: 8.1192",
          "output_type": "stream"
        },
        {
          "name": "stderr",
          "text": "W0000 00:00:1720094158.020905     121 graph_launch.cc:671] Fallback to op-by-op mode because memset node breaks graph update\nW0000 00:00:1720094158.099555     121 graph_launch.cc:671] Fallback to op-by-op mode because memset node breaks graph update\nW0000 00:00:1720094158.156142     121 graph_launch.cc:671] Fallback to op-by-op mode because memset node breaks graph update\n",
          "output_type": "stream"
        },
        {
          "name": "stdout",
          "text": "\u001b[1m298/324\u001b[0m \u001b[32m━━━━━━━━━━━━━━━━━━\u001b[0m\u001b[37m━━\u001b[0m \u001b[1m2:12\u001b[0m 5s/step - loss: 8.1161",
          "output_type": "stream"
        },
        {
          "name": "stderr",
          "text": "W0000 00:00:1720094165.348339     122 graph_launch.cc:671] Fallback to op-by-op mode because memset node breaks graph update\n",
          "output_type": "stream"
        },
        {
          "name": "stdout",
          "text": "\u001b[1m301/324\u001b[0m \u001b[32m━━━━━━━━━━━━━━━━━━\u001b[0m\u001b[37m━━\u001b[0m \u001b[1m1:57\u001b[0m 5s/step - loss: 8.1114",
          "output_type": "stream"
        },
        {
          "name": "stderr",
          "text": "W0000 00:00:1720094172.594760     123 graph_launch.cc:671] Fallback to op-by-op mode because memset node breaks graph update\nW0000 00:00:1720094172.657447     123 graph_launch.cc:671] Fallback to op-by-op mode because memset node breaks graph update\nW0000 00:00:1720094172.708019     123 graph_launch.cc:671] Fallback to op-by-op mode because memset node breaks graph update\nW0000 00:00:1720094179.563401     123 graph_launch.cc:671] Fallback to op-by-op mode because memset node breaks graph update\nW0000 00:00:1720094179.640599     123 graph_launch.cc:671] Fallback to op-by-op mode because memset node breaks graph update\nW0000 00:00:1720094179.703153     123 graph_launch.cc:671] Fallback to op-by-op mode because memset node breaks graph update\n",
          "output_type": "stream"
        },
        {
          "name": "stdout",
          "text": "\u001b[1m302/324\u001b[0m \u001b[32m━━━━━━━━━━━━━━━━━━\u001b[0m\u001b[37m━━\u001b[0m \u001b[1m1:52\u001b[0m 5s/step - loss: 8.1098",
          "output_type": "stream"
        },
        {
          "name": "stderr",
          "text": "W0000 00:00:1720094186.680112     122 graph_launch.cc:671] Fallback to op-by-op mode because memset node breaks graph update\n",
          "output_type": "stream"
        },
        {
          "name": "stdout",
          "text": "\u001b[1m304/324\u001b[0m \u001b[32m━━━━━━━━━━━━━━━━━━\u001b[0m\u001b[37m━━\u001b[0m \u001b[1m1:42\u001b[0m 5s/step - loss: 8.1067",
          "output_type": "stream"
        },
        {
          "name": "stderr",
          "text": "W0000 00:00:1720094193.599029     120 graph_launch.cc:671] Fallback to op-by-op mode because memset node breaks graph update\n",
          "output_type": "stream"
        },
        {
          "name": "stdout",
          "text": "\u001b[1m305/324\u001b[0m \u001b[32m━━━━━━━━━━━━━━━━━━\u001b[0m\u001b[37m━━\u001b[0m \u001b[1m1:36\u001b[0m 5s/step - loss: 8.1052",
          "output_type": "stream"
        },
        {
          "name": "stderr",
          "text": "W0000 00:00:1720094200.745220     120 graph_launch.cc:671] Fallback to op-by-op mode because memset node breaks graph update\nW0000 00:00:1720094200.821459     120 graph_launch.cc:671] Fallback to op-by-op mode because memset node breaks graph update\nW0000 00:00:1720094200.883977     120 graph_launch.cc:671] Fallback to op-by-op mode because memset node breaks graph update\n",
          "output_type": "stream"
        },
        {
          "name": "stdout",
          "text": "\u001b[1m306/324\u001b[0m \u001b[32m━━━━━━━━━━━━━━━━━━\u001b[0m\u001b[37m━━\u001b[0m \u001b[1m1:31\u001b[0m 5s/step - loss: 8.1036",
          "output_type": "stream"
        },
        {
          "name": "stderr",
          "text": "W0000 00:00:1720094207.643375     120 graph_launch.cc:671] Fallback to op-by-op mode because memset node breaks graph update\n",
          "output_type": "stream"
        },
        {
          "name": "stdout",
          "text": "\u001b[1m311/324\u001b[0m \u001b[32m━━━━━━━━━━━━━━━━━━━\u001b[0m\u001b[37m━\u001b[0m \u001b[1m1:05\u001b[0m 5s/step - loss: 8.0960",
          "output_type": "stream"
        },
        {
          "name": "stderr",
          "text": "W0000 00:00:1720094222.426975     121 graph_launch.cc:671] Fallback to op-by-op mode because memset node breaks graph update\nW0000 00:00:1720094222.509312     121 graph_launch.cc:671] Fallback to op-by-op mode because memset node breaks graph update\nW0000 00:00:1720094222.576693     121 graph_launch.cc:671] Fallback to op-by-op mode because memset node breaks graph update\n",
          "output_type": "stream"
        },
        {
          "name": "stdout",
          "text": "\u001b[1m315/324\u001b[0m \u001b[32m━━━━━━━━━━━━━━━━━━━\u001b[0m\u001b[37m━\u001b[0m \u001b[1m45s\u001b[0m 5s/step - loss: 8.0901",
          "output_type": "stream"
        },
        {
          "name": "stderr",
          "text": "W0000 00:00:1720094229.912756     121 graph_launch.cc:671] Fallback to op-by-op mode because memset node breaks graph update\n",
          "output_type": "stream"
        },
        {
          "name": "stdout",
          "text": "\u001b[1m317/324\u001b[0m \u001b[32m━━━━━━━━━━━━━━━━━━━\u001b[0m\u001b[37m━\u001b[0m \u001b[1m35s\u001b[0m 5s/step - loss: 8.0871",
          "output_type": "stream"
        },
        {
          "name": "stderr",
          "text": "W0000 00:00:1720094237.023968     121 graph_launch.cc:671] Fallback to op-by-op mode because memset node breaks graph update\n",
          "output_type": "stream"
        },
        {
          "name": "stdout",
          "text": "\u001b[1m318/324\u001b[0m \u001b[32m━━━━━━━━━━━━━━━━━━━\u001b[0m\u001b[37m━\u001b[0m \u001b[1m30s\u001b[0m 5s/step - loss: 8.0857",
          "output_type": "stream"
        },
        {
          "name": "stderr",
          "text": "W0000 00:00:1720094244.154736     122 graph_launch.cc:671] Fallback to op-by-op mode because memset node breaks graph update\n",
          "output_type": "stream"
        },
        {
          "name": "stdout",
          "text": "\u001b[1m320/324\u001b[0m \u001b[32m━━━━━━━━━━━━━━━━━━━\u001b[0m\u001b[37m━\u001b[0m \u001b[1m20s\u001b[0m 5s/step - loss: 8.0828",
          "output_type": "stream"
        },
        {
          "name": "stderr",
          "text": "W0000 00:00:1720094251.327001     120 graph_launch.cc:671] Fallback to op-by-op mode because memset node breaks graph update\nW0000 00:00:1720094251.380851     120 graph_launch.cc:671] Fallback to op-by-op mode because memset node breaks graph update\n",
          "output_type": "stream"
        },
        {
          "name": "stdout",
          "text": "\u001b[1m322/324\u001b[0m \u001b[32m━━━━━━━━━━━━━━━━━━━\u001b[0m\u001b[37m━\u001b[0m \u001b[1m10s\u001b[0m 5s/step - loss: 8.0799",
          "output_type": "stream"
        },
        {
          "name": "stderr",
          "text": "W0000 00:00:1720094258.753063     123 graph_launch.cc:671] Fallback to op-by-op mode because memset node breaks graph update\n",
          "output_type": "stream"
        },
        {
          "name": "stdout",
          "text": "\u001b[1m324/324\u001b[0m \u001b[32m━━━━━━━━━━━━━━━━━━━━\u001b[0m\u001b[37m\u001b[0m \u001b[1m1623s\u001b[0m 5s/step - loss: 8.0756 - learning_rate: 0.0010\nEpoch 2/300\n",
          "output_type": "stream"
        },
        {
          "name": "stderr",
          "text": "/opt/conda/lib/python3.10/site-packages/keras/src/callbacks/model_checkpoint.py:206: UserWarning: Can save best model only with val_loss available, skipping.\n  self._save_model(epoch=epoch, batch=None, logs=logs)\n/opt/conda/lib/python3.10/site-packages/keras/src/callbacks/early_stopping.py:155: UserWarning: Early stopping conditioned on metric `val_loss` which is not available. Available metrics are: loss\n  current = self.get_monitor_value(logs)\n/opt/conda/lib/python3.10/site-packages/keras/src/callbacks/callback_list.py:96: UserWarning: Learning rate reduction is conditioned on metric `val_loss` which is not available. Available metrics are: loss,learning_rate.\n  callback.on_epoch_end(epoch, logs)\n",
          "output_type": "stream"
        },
        {
          "name": "stdout",
          "text": "\u001b[1m  1/324\u001b[0m \u001b[37m━━━━━━━━━━━━━━━━━━━━\u001b[0m \u001b[1m37:11\u001b[0m 7s/step - loss: 7.2427",
          "output_type": "stream"
        },
        {
          "name": "stderr",
          "text": "W0000 00:00:1720094265.927657     123 graph_launch.cc:671] Fallback to op-by-op mode because memset node breaks graph update\n",
          "output_type": "stream"
        },
        {
          "name": "stdout",
          "text": "\u001b[1m324/324\u001b[0m \u001b[32m━━━━━━━━━━━━━━━━━━━━\u001b[0m\u001b[37m\u001b[0m \u001b[1m84s\u001b[0m 238ms/step - loss: 7.0627 - learning_rate: 0.0010\nEpoch 3/300\n\u001b[1m324/324\u001b[0m \u001b[32m━━━━━━━━━━━━━━━━━━━━\u001b[0m\u001b[37m\u001b[0m \u001b[1m77s\u001b[0m 238ms/step - loss: 6.8207 - learning_rate: 0.0010\nEpoch 4/300\n\u001b[1m324/324\u001b[0m \u001b[32m━━━━━━━━━━━━━━━━━━━━\u001b[0m\u001b[37m\u001b[0m \u001b[1m77s\u001b[0m 238ms/step - loss: 6.6527 - learning_rate: 0.0010\nEpoch 5/300\n\u001b[1m324/324\u001b[0m \u001b[32m━━━━━━━━━━━━━━━━━━━━\u001b[0m\u001b[37m\u001b[0m \u001b[1m77s\u001b[0m 238ms/step - loss: 6.5143 - learning_rate: 0.0010\nEpoch 6/300\n\u001b[1m324/324\u001b[0m \u001b[32m━━━━━━━━━━━━━━━━━━━━\u001b[0m\u001b[37m\u001b[0m \u001b[1m77s\u001b[0m 238ms/step - loss: 6.3813 - learning_rate: 0.0010\nEpoch 7/300\n\u001b[1m324/324\u001b[0m \u001b[32m━━━━━━━━━━━━━━━━━━━━\u001b[0m\u001b[37m\u001b[0m \u001b[1m77s\u001b[0m 238ms/step - loss: 6.2564 - learning_rate: 0.0010\nEpoch 8/300\n\u001b[1m324/324\u001b[0m \u001b[32m━━━━━━━━━━━━━━━━━━━━\u001b[0m\u001b[37m\u001b[0m \u001b[1m77s\u001b[0m 238ms/step - loss: 6.1349 - learning_rate: 0.0010\nEpoch 9/300\n\u001b[1m324/324\u001b[0m \u001b[32m━━━━━━━━━━━━━━━━━━━━\u001b[0m\u001b[37m\u001b[0m \u001b[1m77s\u001b[0m 239ms/step - loss: 6.0266 - learning_rate: 0.0010\nEpoch 10/300\n\u001b[1m324/324\u001b[0m \u001b[32m━━━━━━━━━━━━━━━━━━━━\u001b[0m\u001b[37m\u001b[0m \u001b[1m77s\u001b[0m 238ms/step - loss: 5.9076 - learning_rate: 0.0010\nEpoch 11/300\n\u001b[1m324/324\u001b[0m \u001b[32m━━━━━━━━━━━━━━━━━━━━\u001b[0m\u001b[37m\u001b[0m \u001b[1m77s\u001b[0m 238ms/step - loss: 5.8019 - learning_rate: 0.0010\nEpoch 12/300\n\u001b[1m324/324\u001b[0m \u001b[32m━━━━━━━━━━━━━━━━━━━━\u001b[0m\u001b[37m\u001b[0m \u001b[1m77s\u001b[0m 238ms/step - loss: 5.7016 - learning_rate: 0.0010\nEpoch 13/300\n\u001b[1m324/324\u001b[0m \u001b[32m━━━━━━━━━━━━━━━━━━━━\u001b[0m\u001b[37m\u001b[0m \u001b[1m77s\u001b[0m 239ms/step - loss: 5.6131 - learning_rate: 0.0010\nEpoch 14/300\n\u001b[1m324/324\u001b[0m \u001b[32m━━━━━━━━━━━━━━━━━━━━\u001b[0m\u001b[37m\u001b[0m \u001b[1m77s\u001b[0m 238ms/step - loss: 5.5116 - learning_rate: 0.0010\nEpoch 15/300\n\u001b[1m324/324\u001b[0m \u001b[32m━━━━━━━━━━━━━━━━━━━━\u001b[0m\u001b[37m\u001b[0m \u001b[1m77s\u001b[0m 238ms/step - loss: 5.4279 - learning_rate: 0.0010\nEpoch 16/300\n\u001b[1m324/324\u001b[0m \u001b[32m━━━━━━━━━━━━━━━━━━━━\u001b[0m\u001b[37m\u001b[0m \u001b[1m77s\u001b[0m 237ms/step - loss: 5.3594 - learning_rate: 0.0010\nEpoch 17/300\n\u001b[1m324/324\u001b[0m \u001b[32m━━━━━━━━━━━━━━━━━━━━\u001b[0m\u001b[37m\u001b[0m \u001b[1m77s\u001b[0m 237ms/step - loss: 5.3038 - learning_rate: 0.0010\nEpoch 18/300\n\u001b[1m324/324\u001b[0m \u001b[32m━━━━━━━━━━━━━━━━━━━━\u001b[0m\u001b[37m\u001b[0m \u001b[1m77s\u001b[0m 238ms/step - loss: 5.2435 - learning_rate: 0.0010\nEpoch 19/300\n\u001b[1m324/324\u001b[0m \u001b[32m━━━━━━━━━━━━━━━━━━━━\u001b[0m\u001b[37m\u001b[0m \u001b[1m77s\u001b[0m 238ms/step - loss: 5.1874 - learning_rate: 0.0010\nEpoch 20/300\n\u001b[1m324/324\u001b[0m \u001b[32m━━━━━━━━━━━━━━━━━━━━\u001b[0m\u001b[37m\u001b[0m \u001b[1m77s\u001b[0m 238ms/step - loss: 5.1244 - learning_rate: 0.0010\nEpoch 21/300\n\u001b[1m324/324\u001b[0m \u001b[32m━━━━━━━━━━━━━━━━━━━━\u001b[0m\u001b[37m\u001b[0m \u001b[1m77s\u001b[0m 238ms/step - loss: 5.0809 - learning_rate: 0.0010\nEpoch 22/300\n\u001b[1m324/324\u001b[0m \u001b[32m━━━━━━━━━━━━━━━━━━━━\u001b[0m\u001b[37m\u001b[0m \u001b[1m77s\u001b[0m 238ms/step - loss: 5.0224 - learning_rate: 0.0010\nEpoch 23/300\n\u001b[1m324/324\u001b[0m \u001b[32m━━━━━━━━━━━━━━━━━━━━\u001b[0m\u001b[37m\u001b[0m \u001b[1m77s\u001b[0m 238ms/step - loss: 4.9721 - learning_rate: 0.0010\nEpoch 24/300\n\u001b[1m324/324\u001b[0m \u001b[32m━━━━━━━━━━━━━━━━━━━━\u001b[0m\u001b[37m\u001b[0m \u001b[1m77s\u001b[0m 239ms/step - loss: 4.9309 - learning_rate: 0.0010\nEpoch 25/300\n\u001b[1m324/324\u001b[0m \u001b[32m━━━━━━━━━━━━━━━━━━━━\u001b[0m\u001b[37m\u001b[0m \u001b[1m77s\u001b[0m 238ms/step - loss: 4.8873 - learning_rate: 0.0010\nEpoch 26/300\n\u001b[1m324/324\u001b[0m \u001b[32m━━━━━━━━━━━━━━━━━━━━\u001b[0m\u001b[37m\u001b[0m \u001b[1m77s\u001b[0m 239ms/step - loss: 4.8296 - learning_rate: 0.0010\nEpoch 27/300\n\u001b[1m324/324\u001b[0m \u001b[32m━━━━━━━━━━━━━━━━━━━━\u001b[0m\u001b[37m\u001b[0m \u001b[1m77s\u001b[0m 239ms/step - loss: 4.7904 - learning_rate: 0.0010\nEpoch 28/300\n\u001b[1m324/324\u001b[0m \u001b[32m━━━━━━━━━━━━━━━━━━━━\u001b[0m\u001b[37m\u001b[0m \u001b[1m77s\u001b[0m 238ms/step - loss: 4.7500 - learning_rate: 0.0010\nEpoch 29/300\n\u001b[1m324/324\u001b[0m \u001b[32m━━━━━━━━━━━━━━━━━━━━\u001b[0m\u001b[37m\u001b[0m \u001b[1m77s\u001b[0m 238ms/step - loss: 4.7041 - learning_rate: 0.0010\nEpoch 30/300\n\u001b[1m324/324\u001b[0m \u001b[32m━━━━━━━━━━━━━━━━━━━━\u001b[0m\u001b[37m\u001b[0m \u001b[1m77s\u001b[0m 238ms/step - loss: 4.6683 - learning_rate: 0.0010\nEpoch 31/300\n\u001b[1m324/324\u001b[0m \u001b[32m━━━━━━━━━━━━━━━━━━━━\u001b[0m\u001b[37m\u001b[0m \u001b[1m77s\u001b[0m 238ms/step - loss: 4.6524 - learning_rate: 0.0010\nEpoch 32/300\n\u001b[1m324/324\u001b[0m \u001b[32m━━━━━━━━━━━━━━━━━━━━\u001b[0m\u001b[37m\u001b[0m \u001b[1m78s\u001b[0m 240ms/step - loss: 4.6189 - learning_rate: 0.0010\nEpoch 33/300\n\u001b[1m324/324\u001b[0m \u001b[32m━━━━━━━━━━━━━━━━━━━━\u001b[0m\u001b[37m\u001b[0m \u001b[1m77s\u001b[0m 238ms/step - loss: 4.5845 - learning_rate: 0.0010\nEpoch 34/300\n\u001b[1m324/324\u001b[0m \u001b[32m━━━━━━━━━━━━━━━━━━━━\u001b[0m\u001b[37m\u001b[0m \u001b[1m77s\u001b[0m 238ms/step - loss: 4.5458 - learning_rate: 0.0010\nEpoch 35/300\n\u001b[1m324/324\u001b[0m \u001b[32m━━━━━━━━━━━━━━━━━━━━\u001b[0m\u001b[37m\u001b[0m \u001b[1m77s\u001b[0m 238ms/step - loss: 4.5108 - learning_rate: 0.0010\nEpoch 36/300\n\u001b[1m324/324\u001b[0m \u001b[32m━━━━━━━━━━━━━━━━━━━━\u001b[0m\u001b[37m\u001b[0m \u001b[1m77s\u001b[0m 238ms/step - loss: 4.4867 - learning_rate: 0.0010\nEpoch 37/300\n\u001b[1m324/324\u001b[0m \u001b[32m━━━━━━━━━━━━━━━━━━━━\u001b[0m\u001b[37m\u001b[0m \u001b[1m77s\u001b[0m 238ms/step - loss: 4.4518 - learning_rate: 0.0010\nEpoch 38/300\n\u001b[1m324/324\u001b[0m \u001b[32m━━━━━━━━━━━━━━━━━━━━\u001b[0m\u001b[37m\u001b[0m \u001b[1m77s\u001b[0m 238ms/step - loss: 4.4213 - learning_rate: 0.0010\nEpoch 39/300\n\u001b[1m324/324\u001b[0m \u001b[32m━━━━━━━━━━━━━━━━━━━━\u001b[0m\u001b[37m\u001b[0m \u001b[1m77s\u001b[0m 238ms/step - loss: 4.3771 - learning_rate: 0.0010\nEpoch 40/300\n\u001b[1m324/324\u001b[0m \u001b[32m━━━━━━━━━━━━━━━━━━━━\u001b[0m\u001b[37m\u001b[0m \u001b[1m77s\u001b[0m 238ms/step - loss: 4.3552 - learning_rate: 0.0010\nEpoch 41/300\n\u001b[1m324/324\u001b[0m \u001b[32m━━━━━━━━━━━━━━━━━━━━\u001b[0m\u001b[37m\u001b[0m \u001b[1m77s\u001b[0m 238ms/step - loss: 4.3251 - learning_rate: 0.0010\nEpoch 42/300\n\u001b[1m324/324\u001b[0m \u001b[32m━━━━━━━━━━━━━━━━━━━━\u001b[0m\u001b[37m\u001b[0m \u001b[1m77s\u001b[0m 237ms/step - loss: 4.3083 - learning_rate: 0.0010\nEpoch 43/300\n\u001b[1m324/324\u001b[0m \u001b[32m━━━━━━━━━━━━━━━━━━━━\u001b[0m\u001b[37m\u001b[0m \u001b[1m77s\u001b[0m 238ms/step - loss: 4.2829 - learning_rate: 0.0010\nEpoch 44/300\n\u001b[1m324/324\u001b[0m \u001b[32m━━━━━━━━━━━━━━━━━━━━\u001b[0m\u001b[37m\u001b[0m \u001b[1m78s\u001b[0m 240ms/step - loss: 4.2639 - learning_rate: 0.0010\nEpoch 45/300\n\u001b[1m324/324\u001b[0m \u001b[32m━━━━━━━━━━━━━━━━━━━━\u001b[0m\u001b[37m\u001b[0m \u001b[1m77s\u001b[0m 238ms/step - loss: 4.2535 - learning_rate: 0.0010\nEpoch 46/300\n\u001b[1m324/324\u001b[0m \u001b[32m━━━━━━━━━━━━━━━━━━━━\u001b[0m\u001b[37m\u001b[0m \u001b[1m77s\u001b[0m 239ms/step - loss: 4.2066 - learning_rate: 0.0010\nEpoch 47/300\n\u001b[1m324/324\u001b[0m \u001b[32m━━━━━━━━━━━━━━━━━━━━\u001b[0m\u001b[37m\u001b[0m \u001b[1m78s\u001b[0m 240ms/step - loss: 4.1873 - learning_rate: 0.0010\nEpoch 48/300\n\u001b[1m324/324\u001b[0m \u001b[32m━━━━━━━━━━━━━━━━━━━━\u001b[0m\u001b[37m\u001b[0m \u001b[1m78s\u001b[0m 240ms/step - loss: 4.1760 - learning_rate: 0.0010\nEpoch 49/300\n\u001b[1m 20/324\u001b[0m \u001b[32m━\u001b[0m\u001b[37m━━━━━━━━━━━━━━━━━━━\u001b[0m \u001b[1m1:15\u001b[0m 248ms/step - loss: 4.2193",
          "output_type": "stream"
        },
        {
          "text": "IOPub message rate exceeded.\nThe notebook server will temporarily stop sending output\nto the client in order to avoid crashing it.\nTo change this limit, set the config variable\n`--NotebookApp.iopub_msg_rate_limit`.\n\nCurrent values:\nNotebookApp.iopub_msg_rate_limit=1000.0 (msgs/sec)\nNotebookApp.rate_limit_window=3.0 (secs)\n\n",
          "name": "stderr",
          "output_type": "stream"
        },
        {
          "name": "stdout",
          "text": "\u001b[1m324/324\u001b[0m \u001b[32m━━━━━━━━━━━━━━━━━━━━\u001b[0m\u001b[37m\u001b[0m \u001b[1m78s\u001b[0m 240ms/step - loss: 4.0228 - learning_rate: 0.0010\nEpoch 58/300\n\u001b[1m324/324\u001b[0m \u001b[32m━━━━━━━━━━━━━━━━━━━━\u001b[0m\u001b[37m\u001b[0m \u001b[1m78s\u001b[0m 239ms/step - loss: 3.9975 - learning_rate: 0.0010\nEpoch 59/300\n\u001b[1m324/324\u001b[0m \u001b[32m━━━━━━━━━━━━━━━━━━━━\u001b[0m\u001b[37m\u001b[0m \u001b[1m78s\u001b[0m 240ms/step - loss: 3.9798 - learning_rate: 0.0010\nEpoch 60/300\n\u001b[1m324/324\u001b[0m \u001b[32m━━━━━━━━━━━━━━━━━━━━\u001b[0m\u001b[37m\u001b[0m \u001b[1m77s\u001b[0m 239ms/step - loss: 3.9556 - learning_rate: 0.0010\nEpoch 61/300\n\u001b[1m324/324\u001b[0m \u001b[32m━━━━━━━━━━━━━━━━━━━━\u001b[0m\u001b[37m\u001b[0m \u001b[1m77s\u001b[0m 239ms/step - loss: 3.9368 - learning_rate: 0.0010\nEpoch 62/300\n\u001b[1m324/324\u001b[0m \u001b[32m━━━━━━━━━━━━━━━━━━━━\u001b[0m\u001b[37m\u001b[0m \u001b[1m77s\u001b[0m 239ms/step - loss: 3.9146 - learning_rate: 0.0010\nEpoch 63/300\n\u001b[1m324/324\u001b[0m \u001b[32m━━━━━━━━━━━━━━━━━━━━\u001b[0m\u001b[37m\u001b[0m \u001b[1m79s\u001b[0m 243ms/step - loss: 2.8620 - learning_rate: 0.0010\nEpoch 207/300\n\u001b[1m324/324\u001b[0m \u001b[32m━━━━━━━━━━━━━━━━━━━━\u001b[0m\u001b[37m\u001b[0m \u001b[1m79s\u001b[0m 243ms/step - loss: 2.8539 - learning_rate: 0.0010\nEpoch 208/300\n\u001b[1m324/324\u001b[0m \u001b[32m━━━━━━━━━━━━━━━━━━━━\u001b[0m\u001b[37m\u001b[0m \u001b[1m78s\u001b[0m 242ms/step - loss: 2.8644 - learning_rate: 0.0010\nEpoch 209/300\n\u001b[1m324/324\u001b[0m \u001b[32m━━━━━━━━━━━━━━━━━━━━\u001b[0m\u001b[37m\u001b[0m \u001b[1m79s\u001b[0m 242ms/step - loss: 2.8699 - learning_rate: 0.0010\nEpoch 210/300\n\u001b[1m324/324\u001b[0m \u001b[32m━━━━━━━━━━━━━━━━━━━━\u001b[0m\u001b[37m\u001b[0m \u001b[1m78s\u001b[0m 242ms/step - loss: 2.8651 - learning_rate: 0.0010\nEpoch 211/300\n\u001b[1m324/324\u001b[0m \u001b[32m━━━━━━━━━━━━━━━━━━━━\u001b[0m\u001b[37m\u001b[0m \u001b[1m79s\u001b[0m 243ms/step - loss: 2.8707 - learning_rate: 0.0010\nEpoch 212/300\n\u001b[1m324/324\u001b[0m \u001b[32m━━━━━━━━━━━━━━━━━━━━\u001b[0m\u001b[37m\u001b[0m \u001b[1m78s\u001b[0m 242ms/step - loss: 2.8596 - learning_rate: 0.0010\nEpoch 213/300\n\u001b[1m324/324\u001b[0m \u001b[32m━━━━━━━━━━━━━━━━━━━━\u001b[0m\u001b[37m\u001b[0m \u001b[1m79s\u001b[0m 243ms/step - loss: 2.8498 - learning_rate: 0.0010\nEpoch 214/300\n\u001b[1m324/324\u001b[0m \u001b[32m━━━━━━━━━━━━━━━━━━━━\u001b[0m\u001b[37m\u001b[0m \u001b[1m79s\u001b[0m 243ms/step - loss: 2.8401 - learning_rate: 0.0010\nEpoch 215/300\n\u001b[1m324/324\u001b[0m \u001b[32m━━━━━━━━━━━━━━━━━━━━\u001b[0m\u001b[37m\u001b[0m \u001b[1m79s\u001b[0m 243ms/step - loss: 2.8267 - learning_rate: 0.0010\nEpoch 216/300\n\u001b[1m324/324\u001b[0m \u001b[32m━━━━━━━━━━━━━━━━━━━━\u001b[0m\u001b[37m\u001b[0m \u001b[1m78s\u001b[0m 242ms/step - loss: 2.8065 - learning_rate: 0.0010\nEpoch 217/300\n\u001b[1m324/324\u001b[0m \u001b[32m━━━━━━━━━━━━━━━━━━━━\u001b[0m\u001b[37m\u001b[0m \u001b[1m79s\u001b[0m 242ms/step - loss: 2.7892 - learning_rate: 0.0010\nEpoch 218/300\n\u001b[1m324/324\u001b[0m \u001b[32m━━━━━━━━━━━━━━━━━━━━\u001b[0m\u001b[37m\u001b[0m \u001b[1m78s\u001b[0m 242ms/step - loss: 2.7856 - learning_rate: 0.0010\nEpoch 219/300\n\u001b[1m324/324\u001b[0m \u001b[32m━━━━━━━━━━━━━━━━━━━━\u001b[0m\u001b[37m\u001b[0m \u001b[1m79s\u001b[0m 243ms/step - loss: 2.7875 - learning_rate: 0.0010\nEpoch 220/300\n\u001b[1m324/324\u001b[0m \u001b[32m━━━━━━━━━━━━━━━━━━━━\u001b[0m\u001b[37m\u001b[0m \u001b[1m79s\u001b[0m 243ms/step - loss: 2.7844 - learning_rate: 0.0010\nEpoch 221/300\n\u001b[1m324/324\u001b[0m \u001b[32m━━━━━━━━━━━━━━━━━━━━\u001b[0m\u001b[37m\u001b[0m \u001b[1m79s\u001b[0m 244ms/step - loss: 2.7743 - learning_rate: 0.0010\nEpoch 222/300\n\u001b[1m324/324\u001b[0m \u001b[32m━━━━━━━━━━━━━━━━━━━━\u001b[0m\u001b[37m\u001b[0m \u001b[1m79s\u001b[0m 243ms/step - loss: 2.7837 - learning_rate: 0.0010\nEpoch 223/300\n\u001b[1m324/324\u001b[0m \u001b[32m━━━━━━━━━━━━━━━━━━━━\u001b[0m\u001b[37m\u001b[0m \u001b[1m79s\u001b[0m 244ms/step - loss: 2.7867 - learning_rate: 0.0010\nEpoch 224/300\n\u001b[1m324/324\u001b[0m \u001b[32m━━━━━━━━━━━━━━━━━━━━\u001b[0m\u001b[37m\u001b[0m \u001b[1m79s\u001b[0m 244ms/step - loss: 2.7725 - learning_rate: 0.0010\nEpoch 225/300\n\u001b[1m324/324\u001b[0m \u001b[32m━━━━━━━━━━━━━━━━━━━━\u001b[0m\u001b[37m\u001b[0m \u001b[1m79s\u001b[0m 244ms/step - loss: 2.7610 - learning_rate: 0.0010\nEpoch 226/300\n\u001b[1m324/324\u001b[0m \u001b[32m━━━━━━━━━━━━━━━━━━━━\u001b[0m\u001b[37m\u001b[0m \u001b[1m79s\u001b[0m 243ms/step - loss: 2.7639 - learning_rate: 0.0010\nEpoch 227/300\n\u001b[1m324/324\u001b[0m \u001b[32m━━━━━━━━━━━━━━━━━━━━\u001b[0m\u001b[37m\u001b[0m \u001b[1m79s\u001b[0m 245ms/step - loss: 2.7596 - learning_rate: 0.0010\nEpoch 228/300\n\u001b[1m324/324\u001b[0m \u001b[32m━━━━━━━━━━━━━━━━━━━━\u001b[0m\u001b[37m\u001b[0m \u001b[1m79s\u001b[0m 244ms/step - loss: 2.7634 - learning_rate: 0.0010\nEpoch 229/300\n\u001b[1m324/324\u001b[0m \u001b[32m━━━━━━━━━━━━━━━━━━━━\u001b[0m\u001b[37m\u001b[0m \u001b[1m79s\u001b[0m 242ms/step - loss: 2.7419 - learning_rate: 0.0010\nEpoch 230/300\n\u001b[1m324/324\u001b[0m \u001b[32m━━━━━━━━━━━━━━━━━━━━\u001b[0m\u001b[37m\u001b[0m \u001b[1m78s\u001b[0m 242ms/step - loss: 2.7421 - learning_rate: 0.0010\nEpoch 231/300\n\u001b[1m324/324\u001b[0m \u001b[32m━━━━━━━━━━━━━━━━━━━━\u001b[0m\u001b[37m\u001b[0m \u001b[1m79s\u001b[0m 244ms/step - loss: 2.7311 - learning_rate: 0.0010\nEpoch 232/300\n\u001b[1m324/324\u001b[0m \u001b[32m━━━━━━━━━━━━━━━━━━━━\u001b[0m\u001b[37m\u001b[0m \u001b[1m79s\u001b[0m 243ms/step - loss: 2.7276 - learning_rate: 0.0010\nEpoch 233/300\n\u001b[1m324/324\u001b[0m \u001b[32m━━━━━━━━━━━━━━━━━━━━\u001b[0m\u001b[37m\u001b[0m \u001b[1m79s\u001b[0m 243ms/step - loss: 2.7456 - learning_rate: 0.0010\nEpoch 234/300\n\u001b[1m324/324\u001b[0m \u001b[32m━━━━━━━━━━━━━━━━━━━━\u001b[0m\u001b[37m\u001b[0m \u001b[1m79s\u001b[0m 243ms/step - loss: 2.7406 - learning_rate: 0.0010\nEpoch 235/300\n\u001b[1m324/324\u001b[0m \u001b[32m━━━━━━━━━━━━━━━━━━━━\u001b[0m\u001b[37m\u001b[0m \u001b[1m79s\u001b[0m 243ms/step - loss: 2.7438 - learning_rate: 0.0010\nEpoch 236/300\n\u001b[1m324/324\u001b[0m \u001b[32m━━━━━━━━━━━━━━━━━━━━\u001b[0m\u001b[37m\u001b[0m \u001b[1m79s\u001b[0m 243ms/step - loss: 2.7529 - learning_rate: 0.0010\nEpoch 237/300\n\u001b[1m324/324\u001b[0m \u001b[32m━━━━━━━━━━━━━━━━━━━━\u001b[0m\u001b[37m\u001b[0m \u001b[1m79s\u001b[0m 243ms/step - loss: 2.7328 - learning_rate: 0.0010\nEpoch 238/300\n\u001b[1m324/324\u001b[0m \u001b[32m━━━━━━━━━━━━━━━━━━━━\u001b[0m\u001b[37m\u001b[0m \u001b[1m79s\u001b[0m 242ms/step - loss: 2.7292 - learning_rate: 0.0010\nEpoch 239/300\n\u001b[1m324/324\u001b[0m \u001b[32m━━━━━━━━━━━━━━━━━━━━\u001b[0m\u001b[37m\u001b[0m \u001b[1m79s\u001b[0m 243ms/step - loss: 2.7222 - learning_rate: 0.0010\nEpoch 240/300\n\u001b[1m324/324\u001b[0m \u001b[32m━━━━━━━━━━━━━━━━━━━━\u001b[0m\u001b[37m\u001b[0m \u001b[1m79s\u001b[0m 243ms/step - loss: 2.7208 - learning_rate: 0.0010\nEpoch 241/300\n\u001b[1m324/324\u001b[0m \u001b[32m━━━━━━━━━━━━━━━━━━━━\u001b[0m\u001b[37m\u001b[0m \u001b[1m79s\u001b[0m 242ms/step - loss: 2.7129 - learning_rate: 0.0010\nEpoch 242/300\n\u001b[1m324/324\u001b[0m \u001b[32m━━━━━━━━━━━━━━━━━━━━\u001b[0m\u001b[37m\u001b[0m \u001b[1m79s\u001b[0m 243ms/step - loss: 2.6964 - learning_rate: 0.0010\nEpoch 243/300\n\u001b[1m324/324\u001b[0m \u001b[32m━━━━━━━━━━━━━━━━━━━━\u001b[0m\u001b[37m\u001b[0m \u001b[1m79s\u001b[0m 243ms/step - loss: 2.7063 - learning_rate: 0.0010\nEpoch 244/300\n\u001b[1m324/324\u001b[0m \u001b[32m━━━━━━━━━━━━━━━━━━━━\u001b[0m\u001b[37m\u001b[0m \u001b[1m78s\u001b[0m 242ms/step - loss: 2.7052 - learning_rate: 0.0010\nEpoch 245/300\n\u001b[1m324/324\u001b[0m \u001b[32m━━━━━━━━━━━━━━━━━━━━\u001b[0m\u001b[37m\u001b[0m \u001b[1m79s\u001b[0m 243ms/step - loss: 2.7136 - learning_rate: 0.0010\nEpoch 246/300\n\u001b[1m324/324\u001b[0m \u001b[32m━━━━━━━━━━━━━━━━━━━━\u001b[0m\u001b[37m\u001b[0m \u001b[1m78s\u001b[0m 242ms/step - loss: 2.6916 - learning_rate: 0.0010\nEpoch 247/300\n\u001b[1m324/324\u001b[0m \u001b[32m━━━━━━━━━━━━━━━━━━━━\u001b[0m\u001b[37m\u001b[0m \u001b[1m79s\u001b[0m 243ms/step - loss: 2.7041 - learning_rate: 0.0010\nEpoch 248/300\n\u001b[1m324/324\u001b[0m \u001b[32m━━━━━━━━━━━━━━━━━━━━\u001b[0m\u001b[37m\u001b[0m \u001b[1m78s\u001b[0m 241ms/step - loss: 2.6841 - learning_rate: 0.0010\nEpoch 249/300\n\u001b[1m324/324\u001b[0m \u001b[32m━━━━━━━━━━━━━━━━━━━━\u001b[0m\u001b[37m\u001b[0m \u001b[1m78s\u001b[0m 241ms/step - loss: 2.6681 - learning_rate: 0.0010\nEpoch 250/300\n\u001b[1m324/324\u001b[0m \u001b[32m━━━━━━━━━━━━━━━━━━━━\u001b[0m\u001b[37m\u001b[0m \u001b[1m78s\u001b[0m 240ms/step - loss: 2.6610 - learning_rate: 0.0010\nEpoch 251/300\n\u001b[1m324/324\u001b[0m \u001b[32m━━━━━━━━━━━━━━━━━━━━\u001b[0m\u001b[37m\u001b[0m \u001b[1m77s\u001b[0m 239ms/step - loss: 2.6483 - learning_rate: 0.0010\nEpoch 252/300\n\u001b[1m324/324\u001b[0m \u001b[32m━━━━━━━━━━━━━━━━━━━━\u001b[0m\u001b[37m\u001b[0m \u001b[1m78s\u001b[0m 240ms/step - loss: 2.6640 - learning_rate: 0.0010\nEpoch 253/300\n\u001b[1m324/324\u001b[0m \u001b[32m━━━━━━━━━━━━━━━━━━━━\u001b[0m\u001b[37m\u001b[0m \u001b[1m77s\u001b[0m 239ms/step - loss: 2.6452 - learning_rate: 0.0010\nEpoch 254/300\n\u001b[1m324/324\u001b[0m \u001b[32m━━━━━━━━━━━━━━━━━━━━\u001b[0m\u001b[37m\u001b[0m \u001b[1m77s\u001b[0m 239ms/step - loss: 2.6738 - learning_rate: 0.0010\nEpoch 255/300\n\u001b[1m324/324\u001b[0m \u001b[32m━━━━━━━━━━━━━━━━━━━━\u001b[0m\u001b[37m\u001b[0m \u001b[1m77s\u001b[0m 239ms/step - loss: 2.6509 - learning_rate: 0.0010\nEpoch 256/300\n\u001b[1m324/324\u001b[0m \u001b[32m━━━━━━━━━━━━━━━━━━━━\u001b[0m\u001b[37m\u001b[0m \u001b[1m77s\u001b[0m 239ms/step - loss: 2.6593 - learning_rate: 0.0010\nEpoch 257/300\n\u001b[1m324/324\u001b[0m \u001b[32m━━━━━━━━━━━━━━━━━━━━\u001b[0m\u001b[37m\u001b[0m \u001b[1m77s\u001b[0m 239ms/step - loss: 2.6530 - learning_rate: 0.0010\nEpoch 258/300\n\u001b[1m324/324\u001b[0m \u001b[32m━━━━━━━━━━━━━━━━━━━━\u001b[0m\u001b[37m\u001b[0m \u001b[1m77s\u001b[0m 239ms/step - loss: 2.6312 - learning_rate: 0.0010\nEpoch 259/300\n\u001b[1m324/324\u001b[0m \u001b[32m━━━━━━━━━━━━━━━━━━━━\u001b[0m\u001b[37m\u001b[0m \u001b[1m77s\u001b[0m 239ms/step - loss: 2.6256 - learning_rate: 0.0010\nEpoch 260/300\n\u001b[1m324/324\u001b[0m \u001b[32m━━━━━━━━━━━━━━━━━━━━\u001b[0m\u001b[37m\u001b[0m \u001b[1m77s\u001b[0m 239ms/step - loss: 2.6256 - learning_rate: 0.0010\nEpoch 261/300\n\u001b[1m324/324\u001b[0m \u001b[32m━━━━━━━━━━━━━━━━━━━━\u001b[0m\u001b[37m\u001b[0m \u001b[1m78s\u001b[0m 239ms/step - loss: 2.6268 - learning_rate: 0.0010\nEpoch 262/300\n\u001b[1m324/324\u001b[0m \u001b[32m━━━━━━━━━━━━━━━━━━━━\u001b[0m\u001b[37m\u001b[0m \u001b[1m77s\u001b[0m 239ms/step - loss: 2.6008 - learning_rate: 0.0010\nEpoch 263/300\n\u001b[1m324/324\u001b[0m \u001b[32m━━━━━━━━━━━━━━━━━━━━\u001b[0m\u001b[37m\u001b[0m \u001b[1m77s\u001b[0m 239ms/step - loss: 2.5928 - learning_rate: 0.0010\nEpoch 264/300\n\u001b[1m324/324\u001b[0m \u001b[32m━━━━━━━━━━━━━━━━━━━━\u001b[0m\u001b[37m\u001b[0m \u001b[1m78s\u001b[0m 239ms/step - loss: 2.6015 - learning_rate: 0.0010\nEpoch 265/300\n\u001b[1m324/324\u001b[0m \u001b[32m━━━━━━━━━━━━━━━━━━━━\u001b[0m\u001b[37m\u001b[0m \u001b[1m77s\u001b[0m 239ms/step - loss: 2.6028 - learning_rate: 0.0010\nEpoch 266/300\n\u001b[1m324/324\u001b[0m \u001b[32m━━━━━━━━━━━━━━━━━━━━\u001b[0m\u001b[37m\u001b[0m \u001b[1m77s\u001b[0m 239ms/step - loss: 2.5860 - learning_rate: 0.0010\nEpoch 267/300\n\u001b[1m324/324\u001b[0m \u001b[32m━━━━━━━━━━━━━━━━━━━━\u001b[0m\u001b[37m\u001b[0m \u001b[1m77s\u001b[0m 239ms/step - loss: 2.5826 - learning_rate: 0.0010\nEpoch 268/300\n\u001b[1m324/324\u001b[0m \u001b[32m━━━━━━━━━━━━━━━━━━━━\u001b[0m\u001b[37m\u001b[0m \u001b[1m77s\u001b[0m 239ms/step - loss: 2.5998 - learning_rate: 0.0010\nEpoch 269/300\n\u001b[1m324/324\u001b[0m \u001b[32m━━━━━━━━━━━━━━━━━━━━\u001b[0m\u001b[37m\u001b[0m \u001b[1m77s\u001b[0m 238ms/step - loss: 2.5873 - learning_rate: 0.0010\nEpoch 270/300\n\u001b[1m324/324\u001b[0m \u001b[32m━━━━━━━━━━━━━━━━━━━━\u001b[0m\u001b[37m\u001b[0m \u001b[1m77s\u001b[0m 239ms/step - loss: 2.5932 - learning_rate: 0.0010\nEpoch 271/300\n\u001b[1m324/324\u001b[0m \u001b[32m━━━━━━━━━━━━━━━━━━━━\u001b[0m\u001b[37m\u001b[0m \u001b[1m77s\u001b[0m 239ms/step - loss: 2.5727 - learning_rate: 0.0010\nEpoch 272/300\n\u001b[1m324/324\u001b[0m \u001b[32m━━━━━━━━━━━━━━━━━━━━\u001b[0m\u001b[37m\u001b[0m \u001b[1m77s\u001b[0m 239ms/step - loss: 2.5636 - learning_rate: 0.0010\nEpoch 273/300\n\u001b[1m324/324\u001b[0m \u001b[32m━━━━━━━━━━━━━━━━━━━━\u001b[0m\u001b[37m\u001b[0m \u001b[1m77s\u001b[0m 238ms/step - loss: 2.5725 - learning_rate: 0.0010\nEpoch 274/300\n\u001b[1m324/324\u001b[0m \u001b[32m━━━━━━━━━━━━━━━━━━━━\u001b[0m\u001b[37m\u001b[0m \u001b[1m77s\u001b[0m 239ms/step - loss: 2.5636 - learning_rate: 0.0010\nEpoch 275/300\n\u001b[1m324/324\u001b[0m \u001b[32m━━━━━━━━━━━━━━━━━━━━\u001b[0m\u001b[37m\u001b[0m \u001b[1m77s\u001b[0m 239ms/step - loss: 2.5656 - learning_rate: 0.0010\nEpoch 276/300\n\u001b[1m324/324\u001b[0m \u001b[32m━━━━━━━━━━━━━━━━━━━━\u001b[0m\u001b[37m\u001b[0m \u001b[1m77s\u001b[0m 239ms/step - loss: 2.5537 - learning_rate: 0.0010\nEpoch 277/300\n\u001b[1m324/324\u001b[0m \u001b[32m━━━━━━━━━━━━━━━━━━━━\u001b[0m\u001b[37m\u001b[0m \u001b[1m78s\u001b[0m 240ms/step - loss: 2.5609 - learning_rate: 0.0010\nEpoch 278/300\n\u001b[1m324/324\u001b[0m \u001b[32m━━━━━━━━━━━━━━━━━━━━\u001b[0m\u001b[37m\u001b[0m \u001b[1m77s\u001b[0m 239ms/step - loss: 2.5387 - learning_rate: 0.0010\nEpoch 279/300\n\u001b[1m324/324\u001b[0m \u001b[32m━━━━━━━━━━━━━━━━━━━━\u001b[0m\u001b[37m\u001b[0m \u001b[1m78s\u001b[0m 239ms/step - loss: 2.5340 - learning_rate: 0.0010\nEpoch 280/300\n\u001b[1m324/324\u001b[0m \u001b[32m━━━━━━━━━━━━━━━━━━━━\u001b[0m\u001b[37m\u001b[0m \u001b[1m77s\u001b[0m 238ms/step - loss: 2.5416 - learning_rate: 0.0010\nEpoch 281/300\n\u001b[1m324/324\u001b[0m \u001b[32m━━━━━━━━━━━━━━━━━━━━\u001b[0m\u001b[37m\u001b[0m \u001b[1m77s\u001b[0m 239ms/step - loss: 2.5328 - learning_rate: 0.0010\nEpoch 282/300\n\u001b[1m324/324\u001b[0m \u001b[32m━━━━━━━━━━━━━━━━━━━━\u001b[0m\u001b[37m\u001b[0m \u001b[1m78s\u001b[0m 240ms/step - loss: 2.5241 - learning_rate: 0.0010\nEpoch 283/300\n\u001b[1m324/324\u001b[0m \u001b[32m━━━━━━━━━━━━━━━━━━━━\u001b[0m\u001b[37m\u001b[0m \u001b[1m77s\u001b[0m 238ms/step - loss: 2.5335 - learning_rate: 0.0010\nEpoch 284/300\n\u001b[1m324/324\u001b[0m \u001b[32m━━━━━━━━━━━━━━━━━━━━\u001b[0m\u001b[37m\u001b[0m \u001b[1m78s\u001b[0m 239ms/step - loss: 2.5461 - learning_rate: 0.0010\nEpoch 285/300\n\u001b[1m324/324\u001b[0m \u001b[32m━━━━━━━━━━━━━━━━━━━━\u001b[0m\u001b[37m\u001b[0m \u001b[1m78s\u001b[0m 239ms/step - loss: 2.5408 - learning_rate: 0.0010\nEpoch 286/300\n\u001b[1m324/324\u001b[0m \u001b[32m━━━━━━━━━━━━━━━━━━━━\u001b[0m\u001b[37m\u001b[0m \u001b[1m77s\u001b[0m 238ms/step - loss: 2.5432 - learning_rate: 0.0010\nEpoch 287/300\n\u001b[1m324/324\u001b[0m \u001b[32m━━━━━━━━━━━━━━━━━━━━\u001b[0m\u001b[37m\u001b[0m \u001b[1m77s\u001b[0m 238ms/step - loss: 2.5437 - learning_rate: 0.0010\nEpoch 288/300\n\u001b[1m324/324\u001b[0m \u001b[32m━━━━━━━━━━━━━━━━━━━━\u001b[0m\u001b[37m\u001b[0m \u001b[1m77s\u001b[0m 239ms/step - loss: 2.5473 - learning_rate: 0.0010\nEpoch 289/300\n\u001b[1m324/324\u001b[0m \u001b[32m━━━━━━━━━━━━━━━━━━━━\u001b[0m\u001b[37m\u001b[0m \u001b[1m77s\u001b[0m 238ms/step - loss: 2.5397 - learning_rate: 0.0010\nEpoch 290/300\n\u001b[1m324/324\u001b[0m \u001b[32m━━━━━━━━━━━━━━━━━━━━\u001b[0m\u001b[37m\u001b[0m \u001b[1m77s\u001b[0m 239ms/step - loss: 2.5434 - learning_rate: 0.0010\nEpoch 291/300\n\u001b[1m324/324\u001b[0m \u001b[32m━━━━━━━━━━━━━━━━━━━━\u001b[0m\u001b[37m\u001b[0m \u001b[1m77s\u001b[0m 239ms/step - loss: 2.5388 - learning_rate: 0.0010\nEpoch 292/300\n\u001b[1m324/324\u001b[0m \u001b[32m━━━━━━━━━━━━━━━━━━━━\u001b[0m\u001b[37m\u001b[0m \u001b[1m78s\u001b[0m 239ms/step - loss: 2.5450 - learning_rate: 0.0010\nEpoch 293/300\n\u001b[1m324/324\u001b[0m \u001b[32m━━━━━━━━━━━━━━━━━━━━\u001b[0m\u001b[37m\u001b[0m \u001b[1m78s\u001b[0m 240ms/step - loss: 2.5438 - learning_rate: 0.0010\nEpoch 294/300\n\u001b[1m324/324\u001b[0m \u001b[32m━━━━━━━━━━━━━━━━━━━━\u001b[0m\u001b[37m\u001b[0m \u001b[1m78s\u001b[0m 239ms/step - loss: 2.5456 - learning_rate: 0.0010\nEpoch 295/300\n\u001b[1m324/324\u001b[0m \u001b[32m━━━━━━━━━━━━━━━━━━━━\u001b[0m\u001b[37m\u001b[0m \u001b[1m77s\u001b[0m 239ms/step - loss: 2.5563 - learning_rate: 0.0010\nEpoch 296/300\n\u001b[1m324/324\u001b[0m \u001b[32m━━━━━━━━━━━━━━━━━━━━\u001b[0m\u001b[37m\u001b[0m \u001b[1m78s\u001b[0m 240ms/step - loss: 2.5518 - learning_rate: 0.0010\nEpoch 297/300\n\u001b[1m324/324\u001b[0m \u001b[32m━━━━━━━━━━━━━━━━━━━━\u001b[0m\u001b[37m\u001b[0m \u001b[1m78s\u001b[0m 239ms/step - loss: 2.5478 - learning_rate: 0.0010\nEpoch 298/300\n\u001b[1m324/324\u001b[0m \u001b[32m━━━━━━━━━━━━━━━━━━━━\u001b[0m\u001b[37m\u001b[0m \u001b[1m77s\u001b[0m 239ms/step - loss: 2.5468 - learning_rate: 0.0010\nEpoch 299/300\n\u001b[1m324/324\u001b[0m \u001b[32m━━━━━━━━━━━━━━━━━━━━\u001b[0m\u001b[37m\u001b[0m \u001b[1m77s\u001b[0m 239ms/step - loss: 2.5484 - learning_rate: 0.0010\nEpoch 300/300\n\u001b[1m324/324\u001b[0m \u001b[32m━━━━━━━━━━━━━━━━━━━━\u001b[0m\u001b[37m\u001b[0m \u001b[1m77s\u001b[0m 239ms/step - loss: 2.5420 - learning_rate: 0.0010\n\u001b[1m1/1\u001b[0m \u001b[32m━━━━━━━━━━━━━━━━━━━━\u001b[0m\u001b[37m\u001b[0m \u001b[1m1s\u001b[0m 922ms/step\n\u001b[1m1/1\u001b[0m \u001b[32m━━━━━━━━━━━━━━━━━━━━\u001b[0m\u001b[37m\u001b[0m \u001b[1m0s\u001b[0m 18ms/step\n\u001b[1m1/1\u001b[0m \u001b[32m━━━━━━━━━━━━━━━━━━━━\u001b[0m\u001b[37m\u001b[0m \u001b[1m0s\u001b[0m 18ms/step\n\u001b[1m1/1\u001b[0m \u001b[32m━━━━━━━━━━━━━━━━━━━━\u001b[0m\u001b[37m\u001b[0m \u001b[1m0s\u001b[0m 18ms/step\nGenerated text: <start> a man said on tuesday\n",
          "output_type": "stream"
        }
      ]
    },
    {
      "cell_type": "markdown",
      "source": [
        "## Generación"
      ],
      "metadata": {
        "id": "MdilSbDgfGuF"
      }
    },
    {
      "cell_type": "code",
      "source": [
        "generated_text = generate_text(model, tokenizer, '<start> like', max_sentence_length)\n",
        "print(\"Generated text:\", generated_text)"
      ],
      "metadata": {
        "execution": {
          "iopub.status.busy": "2024-07-04T18:25:50.942406Z",
          "iopub.execute_input": "2024-07-04T18:25:50.943302Z",
          "iopub.status.idle": "2024-07-04T18:25:52.390436Z",
          "shell.execute_reply.started": "2024-07-04T18:25:50.943267Z",
          "shell.execute_reply": "2024-07-04T18:25:52.389523Z"
        },
        "trusted": true,
        "id": "7aaceowXdhbT",
        "outputId": "132251bd-9a11-4613-c734-e492f2485ce9"
      },
      "execution_count": null,
      "outputs": [
        {
          "name": "stdout",
          "text": "\u001b[1m1/1\u001b[0m \u001b[32m━━━━━━━━━━━━━━━━━━━━\u001b[0m\u001b[37m\u001b[0m \u001b[1m0s\u001b[0m 20ms/step\n\u001b[1m1/1\u001b[0m \u001b[32m━━━━━━━━━━━━━━━━━━━━\u001b[0m\u001b[37m\u001b[0m \u001b[1m0s\u001b[0m 18ms/step\n\u001b[1m1/1\u001b[0m \u001b[32m━━━━━━━━━━━━━━━━━━━━\u001b[0m\u001b[37m\u001b[0m \u001b[1m0s\u001b[0m 18ms/step\n\u001b[1m1/1\u001b[0m \u001b[32m━━━━━━━━━━━━━━━━━━━━\u001b[0m\u001b[37m\u001b[0m \u001b[1m0s\u001b[0m 18ms/step\n\u001b[1m1/1\u001b[0m \u001b[32m━━━━━━━━━━━━━━━━━━━━\u001b[0m\u001b[37m\u001b[0m \u001b[1m0s\u001b[0m 17ms/step\n\u001b[1m1/1\u001b[0m \u001b[32m━━━━━━━━━━━━━━━━━━━━\u001b[0m\u001b[37m\u001b[0m \u001b[1m0s\u001b[0m 17ms/step\n\u001b[1m1/1\u001b[0m \u001b[32m━━━━━━━━━━━━━━━━━━━━\u001b[0m\u001b[37m\u001b[0m \u001b[1m0s\u001b[0m 17ms/step\n\u001b[1m1/1\u001b[0m \u001b[32m━━━━━━━━━━━━━━━━━━━━\u001b[0m\u001b[37m\u001b[0m \u001b[1m0s\u001b[0m 17ms/step\n\u001b[1m1/1\u001b[0m \u001b[32m━━━━━━━━━━━━━━━━━━━━\u001b[0m\u001b[37m\u001b[0m \u001b[1m0s\u001b[0m 17ms/step\n\u001b[1m1/1\u001b[0m \u001b[32m━━━━━━━━━━━━━━━━━━━━\u001b[0m\u001b[37m\u001b[0m \u001b[1m0s\u001b[0m 17ms/step\n\u001b[1m1/1\u001b[0m \u001b[32m━━━━━━━━━━━━━━━━━━━━\u001b[0m\u001b[37m\u001b[0m \u001b[1m0s\u001b[0m 17ms/step\n\u001b[1m1/1\u001b[0m \u001b[32m━━━━━━━━━━━━━━━━━━━━\u001b[0m\u001b[37m\u001b[0m \u001b[1m0s\u001b[0m 19ms/step\n\u001b[1m1/1\u001b[0m \u001b[32m━━━━━━━━━━━━━━━━━━━━\u001b[0m\u001b[37m\u001b[0m \u001b[1m0s\u001b[0m 17ms/step\n\u001b[1m1/1\u001b[0m \u001b[32m━━━━━━━━━━━━━━━━━━━━\u001b[0m\u001b[37m\u001b[0m \u001b[1m0s\u001b[0m 18ms/step\n\u001b[1m1/1\u001b[0m \u001b[32m━━━━━━━━━━━━━━━━━━━━\u001b[0m\u001b[37m\u001b[0m \u001b[1m0s\u001b[0m 17ms/step\n\u001b[1m1/1\u001b[0m \u001b[32m━━━━━━━━━━━━━━━━━━━━\u001b[0m\u001b[37m\u001b[0m \u001b[1m0s\u001b[0m 17ms/step\n\u001b[1m1/1\u001b[0m \u001b[32m━━━━━━━━━━━━━━━━━━━━\u001b[0m\u001b[37m\u001b[0m \u001b[1m0s\u001b[0m 18ms/step\n\u001b[1m1/1\u001b[0m \u001b[32m━━━━━━━━━━━━━━━━━━━━\u001b[0m\u001b[37m\u001b[0m \u001b[1m0s\u001b[0m 17ms/step\n\u001b[1m1/1\u001b[0m \u001b[32m━━━━━━━━━━━━━━━━━━━━\u001b[0m\u001b[37m\u001b[0m \u001b[1m0s\u001b[0m 17ms/step\n\u001b[1m1/1\u001b[0m \u001b[32m━━━━━━━━━━━━━━━━━━━━\u001b[0m\u001b[37m\u001b[0m \u001b[1m0s\u001b[0m 17ms/step\n\u001b[1m1/1\u001b[0m \u001b[32m━━━━━━━━━━━━━━━━━━━━\u001b[0m\u001b[37m\u001b[0m \u001b[1m0s\u001b[0m 17ms/step\n\u001b[1m1/1\u001b[0m \u001b[32m━━━━━━━━━━━━━━━━━━━━\u001b[0m\u001b[37m\u001b[0m \u001b[1m0s\u001b[0m 17ms/step\n\u001b[1m1/1\u001b[0m \u001b[32m━━━━━━━━━━━━━━━━━━━━\u001b[0m\u001b[37m\u001b[0m \u001b[1m0s\u001b[0m 17ms/step\n\u001b[1m1/1\u001b[0m \u001b[32m━━━━━━━━━━━━━━━━━━━━\u001b[0m\u001b[37m\u001b[0m \u001b[1m0s\u001b[0m 18ms/step\n\u001b[1m1/1\u001b[0m \u001b[32m━━━━━━━━━━━━━━━━━━━━\u001b[0m\u001b[37m\u001b[0m \u001b[1m0s\u001b[0m 18ms/step\nGenerated text: <start> like the lash inspired the necessary aggressiveness to beat the world 39s first new era to traditional animated films pixar or a rare analyst used\n",
          "output_type": "stream"
        }
      ]
    },
    {
      "cell_type": "markdown",
      "source": [
        "### Ejemplos de generaciones de texto"
      ],
      "metadata": {
        "id": "1nvJ13B5r7PB"
      }
    },
    {
      "cell_type": "markdown",
      "source": [
        "\n",
        "\n",
        "*   \"OpenAI recently guitarworld magazine published a new videotaped general to be a new antimultiple sclerosis drug antegren developed by biogen\"\n",
        "*   \"OpenAI CEO says it is now reaching the forthcoming break for head of the new york yankees\"\n",
        "*   \"OpenAI buy the scoreline and anders limpars winner were forgotten when the allstar ninth round of the utah press on monday\"\n",
        "*   \"Argentina last month 39s new york islanders has fired that the squirrel and a new version of the 21stranked leadership companies that could be a new companion music associations available multiple than any\"\n",
        "*   \"Argentina just announced the dow jones industrial is mostly to be a new companion music firms available to plug tech emissions a new technology in the world'\n",
        "\n"
      ],
      "metadata": {
        "id": "tV3ffqN5sBCt"
      }
    }
  ]
}
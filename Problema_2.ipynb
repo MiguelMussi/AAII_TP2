{
  "cells": [
    {
      "cell_type": "markdown",
      "metadata": {
        "id": "C8Od_T5GdyjY"
      },
      "source": [
        "# TUIA / AAII - TP2: Redes Recurrentes y Transformers - Problema 2"
      ]
    },
    {
      "cell_type": "markdown",
      "source": [
        "> *Modelo de generación de textos basados en RNN para escribir noticias falsas.*\n"
      ],
      "metadata": {
        "id": "69eHLYkniLlg"
      }
    },
    {
      "cell_type": "markdown",
      "source": [
        "# Procedimientos Previos"
      ],
      "metadata": {
        "id": "3JV-PUS78U96"
      }
    },
    {
      "cell_type": "markdown",
      "metadata": {
        "id": "MXq1dxCRdyjd"
      },
      "source": [
        "## Preparación del entorno"
      ]
    },
    {
      "cell_type": "markdown",
      "metadata": {
        "id": "-CEewbUPdyje"
      },
      "source": [
        "### Librerías"
      ]
    },
    {
      "cell_type": "code",
      "source": [
        "# Data\n",
        "import os\n",
        "import time\n",
        "import pathlib\n",
        "from pathlib import Path\n",
        "import numpy as np\n",
        "import pickle\n",
        "\n",
        "# Visualizaciones\n",
        "import matplotlib.pyplot as plt\n",
        "import seaborn as sns\n",
        "from IPython import display\n",
        "import plotly.graph_objects as go\n",
        "\n",
        "# Lenguaje Natural\n",
        "import nltk\n",
        "from nltk.corpus import stopwords\n",
        "from nltk.tokenize import word_tokenize, sent_tokenize\n",
        "from nltk.stem import WordNetLemmatizer\n",
        "from collections import Counter\n",
        "import string\n",
        "\n",
        "# Redes Neuronales\n",
        "import tensorflow as tf\n",
        "import tensorflow_datasets as tfds\n",
        "from tensorflow.keras import layers, models\n",
        "# from tensorflow.keras.models import Sequential, load_model, save_model\n",
        "# from tensorflow.keras.layers import Dense, Input, Dropout\n",
        "# from tensorflow.keras.layers import LSTM\n",
        "\n",
        "# Semillas para reproductibilidad\n",
        "seed = 42\n",
        "tf.random.set_seed(seed)\n",
        "np.random.seed(seed)"
      ],
      "metadata": {
        "id": "ok2KatpQjgdN"
      },
      "execution_count": 1,
      "outputs": []
    },
    {
      "cell_type": "code",
      "source": [
        "# Descargar recursos de nltk\n",
        "nltk.download('punkt')\n",
        "nltk.download('stopwords')"
      ],
      "metadata": {
        "id": "NrYY8JiYHOb5",
        "outputId": "5e19f4d1-8775-45ec-e061-876c902bfcb8",
        "colab": {
          "base_uri": "https://localhost:8080/"
        }
      },
      "execution_count": 2,
      "outputs": [
        {
          "output_type": "stream",
          "name": "stderr",
          "text": [
            "[nltk_data] Downloading package punkt to /root/nltk_data...\n",
            "[nltk_data]   Unzipping tokenizers/punkt.zip.\n",
            "[nltk_data] Downloading package stopwords to /root/nltk_data...\n",
            "[nltk_data]   Unzipping corpora/stopwords.zip.\n"
          ]
        },
        {
          "output_type": "execute_result",
          "data": {
            "text/plain": [
              "True"
            ]
          },
          "metadata": {},
          "execution_count": 2
        }
      ]
    },
    {
      "cell_type": "markdown",
      "source": [
        "### GPU"
      ],
      "metadata": {
        "id": "tvjTESHY8QXo"
      }
    },
    {
      "cell_type": "code",
      "source": [
        "# Configurar para que TensorFlow utilice la GPU por defecto\n",
        "gpus = tf.config.experimental.list_physical_devices('GPU')\n",
        "if gpus:\n",
        "    try:\n",
        "        # Configurar para que TensorFlow asigne memoria dinámicamente\n",
        "        for gpu in gpus:\n",
        "            tf.config.experimental.set_memory_growth(gpu, True)\n",
        "        # Especificar la GPU por defecto\n",
        "        logical_gpus = tf.config.experimental.list_logical_devices('GPU')\n",
        "        print(len(gpus), \"Physical GPUs,\", len(logical_gpus), \"Logical GPUs\")\n",
        "    except RuntimeError as e:\n",
        "        # Manejar error\n",
        "        print(e)"
      ],
      "metadata": {
        "id": "-LAFKo3Jj5FQ",
        "outputId": "5156d62b-2370-4b27-f7f4-45b68c6179d7",
        "colab": {
          "base_uri": "https://localhost:8080/"
        }
      },
      "execution_count": 3,
      "outputs": [
        {
          "output_type": "stream",
          "name": "stdout",
          "text": [
            "1 Physical GPUs, 1 Logical GPUs\n"
          ]
        }
      ]
    },
    {
      "cell_type": "markdown",
      "metadata": {
        "id": "Ale6vYoxdyjg"
      },
      "source": [
        "## Dataset"
      ]
    },
    {
      "cell_type": "markdown",
      "source": [
        "El dataset proporcionado incluye 120000 artículos correspondientes a 4 categorías distintas. En este caso, la categoría no es relevante, sólo utilizaremos el dataset como un cuerpo de texto para entrenar un modelo recurrente de generación de texto.\n",
        "https://www.tensorflow.org/datasets/catalog/ag_news_subset"
      ],
      "metadata": {
        "id": "QraPRh1ll_zs"
      }
    },
    {
      "cell_type": "markdown",
      "metadata": {
        "id": "7xbm8SZedyjh"
      },
      "source": [
        "### Descarga"
      ]
    },
    {
      "cell_type": "code",
      "source": [
        "# Cargar el dataset ag_news\n",
        "df, info = tfds.load('ag_news_subset', with_info=True, as_supervised=True)"
      ],
      "metadata": {
        "id": "anCLZkLbsdjI",
        "outputId": "4e414a3a-a9a9-413c-85e6-74adc9ffc189",
        "colab": {
          "base_uri": "https://localhost:8080/",
          "height": 168,
          "referenced_widgets": [
            "5923faea53214f6682a415d283f2ebbb",
            "f1271f1fb99f4c838cb1c6da97df5b0f",
            "cf7e305fedf54e45966dc3bae44aae83",
            "3d63e0476b764896be93e0a31c59cf14",
            "b1f88b4d37a24ae9b66857d587c609be",
            "6eae93b3d2604e1d9660d96ca59b1e3d",
            "26a651c2dc7e4518857f2d3be70d0ac3",
            "a9141d9bba324e158d613719c3b3927f",
            "162a2d7c47b546c18e46d31e263a0bfe",
            "d78879638e094358b29c5f2104e61c01",
            "65038b73a724485b8fcdec572cc425aa",
            "ee625030445747baaea917438ca1a65a",
            "7b73a31cab524049a7acd6899116da93",
            "b83dd7c475874ed0b2d937e182c7901c",
            "ad26b3a3c696484788cf70f9cc74139c",
            "dd9044d7c40141fdbc30e989eee12683",
            "4379af5e4cb84519bb8bc26ba8682c5e",
            "bbfbc9622b9a40fd9cb02617570e3f66",
            "c2f5b7dae1294079a82c40ede3ef99a5",
            "8374f42224794cde98c23ca9ad41d3f7",
            "97702813753f40dfb4e42ac91a96eac0",
            "d842a601c4d44773b47e5bf68363173d",
            "4c8d721fe0fe4aa4946bb46de461d325",
            "ce9e4be0d82243d9bd3d02f6b371ba39",
            "a8d32286f09d44ad8d526637c53fb490",
            "e3f940f647c246a281815c54482dd8be",
            "eed3ca7498d348428acba942cf9a2213",
            "5dbcb04e719e4734b1de60c32365e6aa",
            "a7ea57f1ee044f7da54ad10873de10e4",
            "2e3b72337eba4bdc9e73f3e09823c783",
            "c458783356eb4670959bef808a74a48d",
            "d2513233a9d6488f9cac6c8440781a9f",
            "8d16c384b8df46098e7f8cdd1eb992ea",
            "5c39f0a0ed474b71ab5e5aded686bd19",
            "58aa79a3e3ed472dafd3ac68adb17149",
            "b738d322311849868a2388419d0b5013",
            "2dec12bd3ac440488a08f73f3c1eac43",
            "ee25df0b0db04aba9777ff825473ab27",
            "7f1234ad262d4b2abcb846324bc57042",
            "9f0f4e816d9d4f4482ea1d3dc5adb4d2",
            "921a8ea24bc043a3a0f343dcb5b79923",
            "8ec39119665f4f5088127d6c822db119",
            "7ed1667dd3b24e08a9f4f1128901cd72",
            "d21db6b2dc8b4461a3baf96f123c5e3e",
            "0d5fab2302e14218a9f2ca92c6e24bde",
            "fea8c9a870b94a158cc713c1003b1fca",
            "e56dcbcc731148d19b80634aba5f1538",
            "6176051ad2f54316afd96291ed776a1b",
            "71a1b911e81847d2956d25a2a8700654",
            "8e5dd6b5c2ad4831a4684d851250b258",
            "e1acadd2daea4200999afce4a85baf76",
            "245a66d942174d67a199633271027604",
            "961e03f762074da69e4beeb7fd64ac99",
            "c9ff0a4d563341089878e604956016e1",
            "f163bfab9ac7409f8cc9cdcf662a65b1",
            "78940ce01fda42a9977a1f98b587ab2c",
            "f7f61dddb5d94aa0b2e3f172470da7a6",
            "c9e190b1137d4e2eb6bdb0646e5e4b21",
            "ce1cd59bbdce4a318e1c212f1a26dd17",
            "37741a8ebbce4b949148e5781618dc72",
            "46907ef1226444d78fb5944b03dff976",
            "926e6805f0144a1a882796ef9bd08649",
            "acafc270b8c248fe8708da73ce36cbd3",
            "55dcc942439a4b7f94822a3715d72a05",
            "539e14f997314347bb2d70c49f6d574d",
            "0a3f5302e9b14896a6ace7781fb34399",
            "c72588be5a424f6eb1eccfbb01123ee2",
            "ac92a824398e460d986c1006a44c5160",
            "0fee33179405441c9b11037531b1fa27",
            "bb5b0a19ab7742b19f9c995e3a9a9aab",
            "8629370f7b714495969ce4c0f43baefc",
            "a29020ebd3fd4b5ab392edc5c746a0be",
            "dd15b0d965a2428280f01d27a17c1a46",
            "094db796ef7d4db2bcddeb68b13d6fab",
            "0cd68489709c4c0b90b549a769e7f4fb",
            "1bcba8a7b002448082ef6e830ca50fc2",
            "9aeaec3697674873b24630a1589b0aab",
            "4addfcc6f747412b9cd9b415e0c9b1e8",
            "5611cb0992734cf49b15ee7520431ac2",
            "284590a90c1b418aa293629a7c5cc774",
            "91e0f46173ef4069bab241f110996bf5",
            "cb538cb764484a8c88739c41843538f2",
            "51b56b377a7c4706b4049338da8c4381",
            "6f35d4103bd74e08bc6022cc99c831a2",
            "ed00636764144733afcd092083173a70",
            "7a8bd55b31454ab5967dc16ecd3839b3",
            "a051bba76c4f425894187b7302e93577",
            "6a5596122ffa40f89e5e80e926bfec91"
          ]
        }
      },
      "execution_count": 4,
      "outputs": [
        {
          "output_type": "stream",
          "name": "stdout",
          "text": [
            "Downloading and preparing dataset 11.24 MiB (download: 11.24 MiB, generated: 35.79 MiB, total: 47.03 MiB) to /root/tensorflow_datasets/ag_news_subset/1.0.0...\n"
          ]
        },
        {
          "output_type": "display_data",
          "data": {
            "text/plain": [
              "Dl Completed...: 0 url [00:00, ? url/s]"
            ],
            "application/vnd.jupyter.widget-view+json": {
              "version_major": 2,
              "version_minor": 0,
              "model_id": "5923faea53214f6682a415d283f2ebbb"
            }
          },
          "metadata": {}
        },
        {
          "output_type": "display_data",
          "data": {
            "text/plain": [
              "Dl Size...: 0 MiB [00:00, ? MiB/s]"
            ],
            "application/vnd.jupyter.widget-view+json": {
              "version_major": 2,
              "version_minor": 0,
              "model_id": "ee625030445747baaea917438ca1a65a"
            }
          },
          "metadata": {}
        },
        {
          "output_type": "display_data",
          "data": {
            "text/plain": [
              "Extraction completed...: 0 file [00:00, ? file/s]"
            ],
            "application/vnd.jupyter.widget-view+json": {
              "version_major": 2,
              "version_minor": 0,
              "model_id": "4c8d721fe0fe4aa4946bb46de461d325"
            }
          },
          "metadata": {}
        },
        {
          "output_type": "display_data",
          "data": {
            "text/plain": [
              "Generating splits...:   0%|          | 0/2 [00:00<?, ? splits/s]"
            ],
            "application/vnd.jupyter.widget-view+json": {
              "version_major": 2,
              "version_minor": 0,
              "model_id": "5c39f0a0ed474b71ab5e5aded686bd19"
            }
          },
          "metadata": {}
        },
        {
          "output_type": "display_data",
          "data": {
            "text/plain": [
              "Generating train examples...:   0%|          | 0/120000 [00:00<?, ? examples/s]"
            ],
            "application/vnd.jupyter.widget-view+json": {
              "version_major": 2,
              "version_minor": 0,
              "model_id": "0d5fab2302e14218a9f2ca92c6e24bde"
            }
          },
          "metadata": {}
        },
        {
          "output_type": "display_data",
          "data": {
            "text/plain": [
              "Shuffling /root/tensorflow_datasets/ag_news_subset/incomplete.LA14I7_1.0.0/ag_news_subset-train.tfrecord*...: …"
            ],
            "application/vnd.jupyter.widget-view+json": {
              "version_major": 2,
              "version_minor": 0,
              "model_id": "78940ce01fda42a9977a1f98b587ab2c"
            }
          },
          "metadata": {}
        },
        {
          "output_type": "display_data",
          "data": {
            "text/plain": [
              "Generating test examples...:   0%|          | 0/7600 [00:00<?, ? examples/s]"
            ],
            "application/vnd.jupyter.widget-view+json": {
              "version_major": 2,
              "version_minor": 0,
              "model_id": "c72588be5a424f6eb1eccfbb01123ee2"
            }
          },
          "metadata": {}
        },
        {
          "output_type": "display_data",
          "data": {
            "text/plain": [
              "Shuffling /root/tensorflow_datasets/ag_news_subset/incomplete.LA14I7_1.0.0/ag_news_subset-test.tfrecord*...:  …"
            ],
            "application/vnd.jupyter.widget-view+json": {
              "version_major": 2,
              "version_minor": 0,
              "model_id": "4addfcc6f747412b9cd9b415e0c9b1e8"
            }
          },
          "metadata": {}
        },
        {
          "output_type": "stream",
          "name": "stdout",
          "text": [
            "Dataset ag_news_subset downloaded and prepared to /root/tensorflow_datasets/ag_news_subset/1.0.0. Subsequent calls will reuse this data.\n"
          ]
        }
      ]
    },
    {
      "cell_type": "markdown",
      "source": [
        "### Descripción"
      ],
      "metadata": {
        "id": "gKn_nzH187m6"
      }
    },
    {
      "cell_type": "code",
      "source": [
        "print(info)"
      ],
      "metadata": {
        "id": "H1NbJdig4vXl",
        "outputId": "2c3364aa-65b0-48cd-fbdb-d31b6b005950",
        "colab": {
          "base_uri": "https://localhost:8080/"
        }
      },
      "execution_count": null,
      "outputs": [
        {
          "output_type": "stream",
          "name": "stdout",
          "text": [
            "tfds.core.DatasetInfo(\n",
            "    name='ag_news_subset',\n",
            "    full_name='ag_news_subset/1.0.0',\n",
            "    description=\"\"\"\n",
            "    AG is a collection of more than 1 million news articles. News articles have been\n",
            "    gathered from more than 2000 news sources by ComeToMyHead in more than 1 year of\n",
            "    activity. ComeToMyHead is an academic news search engine which has been running\n",
            "    since July, 2004. The dataset is provided by the academic comunity for research\n",
            "    purposes in data mining (clustering, classification, etc), information retrieval\n",
            "    (ranking, search, etc), xml, data compression, data streaming, and any other\n",
            "    non-commercial activity. For more information, please refer to the link\n",
            "    http://www.di.unipi.it/~gulli/AG_corpus_of_news_articles.html .\n",
            "    \n",
            "    The AG's news topic classification dataset is constructed by Xiang Zhang\n",
            "    (xiang.zhang@nyu.edu) from the dataset above. It is used as a text\n",
            "    classification benchmark in the following paper: Xiang Zhang, Junbo Zhao, Yann\n",
            "    LeCun. Character-level Convolutional Networks for Text Classification. Advances\n",
            "    in Neural Information Processing Systems 28 (NIPS 2015).\n",
            "    \n",
            "    The AG's news topic classification dataset is constructed by choosing 4 largest\n",
            "    classes from the original corpus. Each class contains 30,000 training samples\n",
            "    and 1,900 testing samples. The total number of training samples is 120,000 and\n",
            "    testing 7,600.\n",
            "    \"\"\",\n",
            "    homepage='https://arxiv.org/abs/1509.01626',\n",
            "    data_dir=PosixGPath('/tmp/tmp4dryarwdtfds'),\n",
            "    file_format=tfrecord,\n",
            "    download_size=11.24 MiB,\n",
            "    dataset_size=35.79 MiB,\n",
            "    features=FeaturesDict({\n",
            "        'description': Text(shape=(), dtype=string),\n",
            "        'label': ClassLabel(shape=(), dtype=int64, num_classes=4),\n",
            "        'title': Text(shape=(), dtype=string),\n",
            "    }),\n",
            "    supervised_keys=('description', 'label'),\n",
            "    disable_shuffling=False,\n",
            "    splits={\n",
            "        'test': <SplitInfo num_examples=7600, num_shards=1>,\n",
            "        'train': <SplitInfo num_examples=120000, num_shards=1>,\n",
            "    },\n",
            "    citation=\"\"\"@misc{zhang2015characterlevel,\n",
            "        title={Character-level Convolutional Networks for Text Classification},\n",
            "        author={Xiang Zhang and Junbo Zhao and Yann LeCun},\n",
            "        year={2015},\n",
            "        eprint={1509.01626},\n",
            "        archivePrefix={arXiv},\n",
            "        primaryClass={cs.LG}\n",
            "    }\"\"\",\n",
            ")\n"
          ]
        }
      ]
    },
    {
      "cell_type": "code",
      "source": [
        "train_ds, val_ds = df['train'], df['test']"
      ],
      "metadata": {
        "id": "902mqOaLGVwG"
      },
      "execution_count": 5,
      "outputs": []
    },
    {
      "cell_type": "code",
      "source": [
        "print(f'Tamaño del conjunto de entrenamiento: {len(list(train_ds))}')\n",
        "print(f'Tamaño del conjunto de validación: {len(list(val_ds))}')"
      ],
      "metadata": {
        "id": "3WriZ4DO75Mm",
        "outputId": "4e44ecf8-e435-4a2d-cec3-cb97ce9f8bcf",
        "colab": {
          "base_uri": "https://localhost:8080/"
        }
      },
      "execution_count": null,
      "outputs": [
        {
          "output_type": "stream",
          "name": "stdout",
          "text": [
            "Tamaño del conjunto de entrenamiento: 120000\n",
            "Tamaño del conjunto de validación: 7600\n"
          ]
        }
      ]
    },
    {
      "cell_type": "code",
      "source": [
        "train_ds"
      ],
      "metadata": {
        "id": "S_acfJFhsbaH",
        "outputId": "5b1c5c6a-4192-43a4-de08-93d1a22d6a53",
        "colab": {
          "base_uri": "https://localhost:8080/"
        }
      },
      "execution_count": 6,
      "outputs": [
        {
          "output_type": "execute_result",
          "data": {
            "text/plain": [
              "<_PrefetchDataset element_spec=(TensorSpec(shape=(), dtype=tf.string, name=None), TensorSpec(shape=(), dtype=tf.int64, name=None))>"
            ]
          },
          "metadata": {},
          "execution_count": 6
        }
      ]
    },
    {
      "cell_type": "markdown",
      "source": [
        "## Análisis Exploratorio"
      ],
      "metadata": {
        "id": "2ZzxHMlymwD3"
      }
    },
    {
      "cell_type": "markdown",
      "source": [
        "Inspeccionamos el dataset el cual posee los siguientes labels:\n",
        "\n",
        "* 0 = World\n",
        "* 1 = Sports\n",
        "* 2 = Business\n",
        "* 3 = Sci/Tech"
      ],
      "metadata": {
        "id": "KtPkPAKyGol4"
      }
    },
    {
      "cell_type": "code",
      "source": [
        "for example, label in train_ds.take(5):\n",
        "  print('text: ', example.numpy().decode('utf-8'))\n",
        "  print('label: ', label.numpy())\n",
        "  print(\"-----\")"
      ],
      "metadata": {
        "id": "OJAIGI5zGh6S",
        "outputId": "630b9133-df0b-4f27-cf0b-e5f4bb546bf8",
        "colab": {
          "base_uri": "https://localhost:8080/"
        }
      },
      "execution_count": 7,
      "outputs": [
        {
          "output_type": "stream",
          "name": "stdout",
          "text": [
            "text:  AMD #39;s new dual-core Opteron chip is designed mainly for corporate computing applications, including databases, Web services, and financial transactions.\n",
            "label:  3\n",
            "-----\n",
            "text:  Reuters - Major League Baseball\\Monday announced a decision on the appeal filed by Chicago Cubs\\pitcher Kerry Wood regarding a suspension stemming from an\\incident earlier this season.\n",
            "label:  1\n",
            "-----\n",
            "text:  President Bush #39;s  quot;revenue-neutral quot; tax reform needs losers to balance its winners, and people claiming the federal deduction for state and local taxes may be in administration planners #39; sights, news reports say.\n",
            "label:  2\n",
            "-----\n",
            "text:  Britain will run out of leading scientists unless science education is improved, says Professor Colin Pillinger.\n",
            "label:  3\n",
            "-----\n",
            "text:  London, England (Sports Network) - England midfielder Steven Gerrard injured his groin late in Thursday #39;s training session, but is hopeful he will be ready for Saturday #39;s World Cup qualifier against Austria.\n",
            "label:  1\n",
            "-----\n"
          ]
        }
      ]
    },
    {
      "cell_type": "markdown",
      "source": [
        "## Concatenado del Texto"
      ],
      "metadata": {
        "id": "p2Uk5uhNG2rv"
      }
    },
    {
      "cell_type": "code",
      "source": [
        "# Función para extraer el texto del dataset\n",
        "def extract_text(data):\n",
        "    texts = []\n",
        "    for article, _ in data:\n",
        "        texts.append(article.numpy().decode('utf-8'))\n",
        "    return ' '.join(texts)\n",
        "\n",
        "# Extraer el texto de los conjuntos de entrenamiento y prueba\n",
        "train_text = extract_text(train_ds)\n",
        "test_text = extract_text(val_ds)\n",
        "\n",
        "# Unir todos los textos en uno solo\n",
        "text = train_text + test_text"
      ],
      "metadata": {
        "id": "2qrjLFUaG3Wx"
      },
      "execution_count": 8,
      "outputs": []
    },
    {
      "cell_type": "code",
      "source": [
        "print(f'Tamaño total del texto: {len(text)} caracteres')"
      ],
      "metadata": {
        "id": "Ls1i0v6P-Xf3",
        "outputId": "30960d59-989f-49b3-fae7-978ae21813ba",
        "colab": {
          "base_uri": "https://localhost:8080/"
        }
      },
      "execution_count": null,
      "outputs": [
        {
          "output_type": "stream",
          "name": "stdout",
          "text": [
            "Tamaño total del texto: 24798141 caracteres\n"
          ]
        }
      ]
    },
    {
      "cell_type": "code",
      "source": [
        "# Mostrar una muestra del texto\n",
        "print(text[:500])"
      ],
      "metadata": {
        "id": "HWq09kTC-Vm2",
        "outputId": "21ea1e93-4a7d-46b3-b436-f75810736ed3",
        "colab": {
          "base_uri": "https://localhost:8080/"
        }
      },
      "execution_count": null,
      "outputs": [
        {
          "output_type": "stream",
          "name": "stdout",
          "text": [
            "AMD #39;s new dual-core Opteron chip is designed mainly for corporate computing applications, including databases, Web services, and financial transactions. Reuters - Major League Baseball\\Monday announced a decision on the appeal filed by Chicago Cubs\\pitcher Kerry Wood regarding a suspension stemming from an\\incident earlier this season. President Bush #39;s  quot;revenue-neutral quot; tax reform needs losers to balance its winners, and people claiming the federal deduction for state and local\n"
          ]
        }
      ]
    },
    {
      "cell_type": "markdown",
      "source": [
        "## Tokenización"
      ],
      "metadata": {
        "id": "MAeyNeWm-zNw"
      }
    },
    {
      "cell_type": "code",
      "source": [
        "# Tokenizar el texto en palabras y oraciones\n",
        "words = word_tokenize(text)\n",
        "sentences = sent_tokenize(text)\n",
        "\n",
        "# Contar palabras y oraciones\n",
        "word_count = len(words)\n",
        "sentence_count = len(sentences)\n",
        "unique_words = len(set(words))\n",
        "\n",
        "print(f'Total de palabras: {word_count}')\n",
        "print(f'Total de oraciones: {sentence_count}')\n",
        "print(f'Palabras únicas: {unique_words}')"
      ],
      "metadata": {
        "id": "92omxJ_eG7gR",
        "outputId": "61949f4a-8f79-4908-dd25-0f1327d6e6e6",
        "colab": {
          "base_uri": "https://localhost:8080/"
        }
      },
      "execution_count": 9,
      "outputs": [
        {
          "output_type": "stream",
          "name": "stdout",
          "text": [
            "Total de palabras: 4576341\n",
            "Total de oraciones: 143487\n",
            "Palabras únicas: 107288\n"
          ]
        }
      ]
    },
    {
      "cell_type": "code",
      "source": [
        "print('Ejemplo de palabras tokenizadas:', words[100:110])\n",
        "print('Ejemplo de oraciones tokenizadas:', sentences[2:4])"
      ],
      "metadata": {
        "id": "EbwbEIev-9jz",
        "outputId": "451d4837-1e32-4046-81a1-0e45b958a6e6",
        "colab": {
          "base_uri": "https://localhost:8080/"
        }
      },
      "execution_count": null,
      "outputs": [
        {
          "output_type": "stream",
          "name": "stdout",
          "text": [
            "Ejemplo de palabras tokenizadas: ['will', 'run', 'out', 'of', 'leading', 'scientists', 'unless', 'science', 'education', 'is']\n",
            "Ejemplo de oraciones tokenizadas: ['President Bush #39;s  quot;revenue-neutral quot; tax reform needs losers to balance its winners, and people claiming the federal deduction for state and local taxes may be in administration planners #39; sights, news reports say.', 'Britain will run out of leading scientists unless science education is improved, says Professor Colin Pillinger.']\n"
          ]
        }
      ]
    },
    {
      "cell_type": "markdown",
      "source": [
        "### Guardar / Cargar Tokens"
      ],
      "metadata": {
        "id": "TTTWxsLoAUxQ"
      }
    },
    {
      "cell_type": "code",
      "source": [
        "# # Guardar tokenizaciones intermedias\n",
        "# with open('words.pkl', 'wb') as f:\n",
        "#     pickle.dump(words, f)\n",
        "# with open('sentences.pkl', 'wb') as f:\n",
        "#     pickle.dump(sentences, f)"
      ],
      "metadata": {
        "id": "vJDjdcXC_owO"
      },
      "execution_count": null,
      "outputs": []
    },
    {
      "cell_type": "code",
      "source": [
        "# Guardar tokenizaciones intermedias\n",
        "with open('words.pkl', 'rb') as f:\n",
        "    words = pickle.load(f)\n",
        "with open('sentences.pkl', 'rb') as f:\n",
        "    sentences = pickle.load(f)"
      ],
      "metadata": {
        "id": "2yU0GtwT_oVv"
      },
      "execution_count": null,
      "outputs": []
    },
    {
      "cell_type": "markdown",
      "source": [
        "## Frecuencia de Palabras y Caracteres"
      ],
      "metadata": {
        "id": "Zz3CnkMlAlWx"
      }
    },
    {
      "cell_type": "code",
      "source": [
        "# Frecuencia de palabras\n",
        "word_freq = Counter(words)\n",
        "most_common_words = word_freq.most_common(10)\n",
        "\n",
        "# Frecuencia de caracteres\n",
        "char_freq = Counter(text)\n",
        "most_common_chars = char_freq.most_common(10)"
      ],
      "metadata": {
        "id": "7YT2nuuUB31A"
      },
      "execution_count": 10,
      "outputs": []
    },
    {
      "cell_type": "code",
      "source": [
        "# Graficar las palabras más comunes\n",
        "plt.figure(figsize=(10, 4))\n",
        "sns.barplot(x=[word for word, freq in most_common_words], y=[freq for word, freq in most_common_words])\n",
        "plt.title('Top 10 palabras más comunes')\n",
        "plt.xlabel('Palabras')\n",
        "plt.ylabel('Frecuencia')\n",
        "plt.show()\n",
        "print()\n",
        "# Graficar los caracteres más comunes\n",
        "plt.figure(figsize=(10, 4))\n",
        "sns.barplot(x=[char for char, freq in most_common_chars], y=[freq for char, freq in most_common_chars])\n",
        "plt.title('Top 10 caracteres más comunes')\n",
        "plt.xlabel('Caracteres')\n",
        "plt.ylabel('Frecuencia')\n",
        "plt.show()"
      ],
      "metadata": {
        "id": "pzVtt2xSG-hC",
        "outputId": "91a7d030-bcce-4047-d2ca-91822b3d9355",
        "colab": {
          "base_uri": "https://localhost:8080/",
          "height": 747
        }
      },
      "execution_count": null,
      "outputs": [
        {
          "output_type": "display_data",
          "data": {
            "text/plain": [
              "<Figure size 1000x400 with 1 Axes>"
            ],
            "image/png": "[encoded data removed]"
          },
          "metadata": {}
        },
        {
          "output_type": "stream",
          "name": "stdout",
          "text": [
            "\n"
          ]
        },
        {
          "output_type": "display_data",
          "data": {
            "text/plain": [
              "<Figure size 1000x400 with 1 Axes>"
            ],
            "image/png": "[encoded data removed]"
          },
          "metadata": {}
        }
      ]
    },
    {
      "cell_type": "code",
      "source": [
        "print('Palabras más comunes:', most_common_words)\n",
        "print('Caracteres más comunes:', most_common_chars)"
      ],
      "metadata": {
        "id": "ODnCnfz0E7vI",
        "outputId": "9e0fa3e9-60cd-4c4a-8c7a-e8e0a472fbac",
        "colab": {
          "base_uri": "https://localhost:8080/"
        }
      },
      "execution_count": null,
      "outputs": [
        {
          "output_type": "stream",
          "name": "stdout",
          "text": [
            "Palabras más comunes: [('the', 183701), (',', 153707), ('.', 140168), ('to', 101054), ('a', 100690), ('of', 94309), ('in', 80192), ('and', 69558), (';', 65177), ('on', 49283)]\n",
            "Caracteres más comunes: [(' ', 4031696), ('e', 2218994), ('a', 1617452), ('t', 1614716), ('o', 1399300), ('i', 1390300), ('n', 1383800), ('r', 1285081), ('s', 1274681), ('l', 770337)]\n"
          ]
        }
      ]
    },
    {
      "cell_type": "markdown",
      "source": [
        "## Longitud de Palabras y Oraciones"
      ],
      "metadata": {
        "id": "3XAfbW6sD0ng"
      }
    },
    {
      "cell_type": "code",
      "source": [
        "# Longitud de las palabras\n",
        "word_lengths = [len(word) for word in words]\n",
        "\n",
        "# Longitud de las oraciones\n",
        "sentence_lengths = [len(sentence.split()) for sentence in sentences]"
      ],
      "metadata": {
        "id": "2X6tFGMkCqfX"
      },
      "execution_count": 11,
      "outputs": []
    },
    {
      "cell_type": "code",
      "source": [
        "# Graficar la distribución de la longitud de las palabras\n",
        "plt.figure(figsize=(10, 4))\n",
        "sns.histplot(word_lengths, bins=30, kde=True)\n",
        "plt.xticks(range(0, 100, 10))\n",
        "plt.title('Distribución de la longitud de palabras')\n",
        "plt.xlabel('Longitud de Palabra')\n",
        "plt.ylabel('Frecuencia')\n",
        "plt.show()\n",
        "print()\n",
        "# Graficar la distribución de la longitud de las oraciones\n",
        "plt.figure(figsize=(10, 4))\n",
        "sns.histplot(sentence_lengths, bins=30, kde=True)\n",
        "plt.title('Distribución de la longitud de oraciones')\n",
        "plt.xlabel('Longitud de Oración')\n",
        "plt.ylabel('Frecuencia')\n",
        "plt.show()"
      ],
      "metadata": {
        "id": "oGnRJwtmHFGo",
        "outputId": "19c5c695-4277-4d46-9cba-772ff8b8c542",
        "colab": {
          "base_uri": "https://localhost:8080/",
          "height": 756
        }
      },
      "execution_count": null,
      "outputs": [
        {
          "output_type": "display_data",
          "data": {
            "text/plain": [
              "<Figure size 1000x400 with 1 Axes>"
            ],
            "image/png": "[encoded data removed]"
          },
          "metadata": {}
        },
        {
          "output_type": "stream",
          "name": "stdout",
          "text": [
            "\n"
          ]
        },
        {
          "output_type": "display_data",
          "data": {
            "text/plain": [
              "<Figure size 1000x400 with 1 Axes>"
            ],
            "image/png": "[encoded data removed]"
          },
          "metadata": {}
        }
      ]
    },
    {
      "cell_type": "code",
      "source": [
        "print('Palabra de mayor longitud:', max(words, key=len))\n",
        "print('Oración de mayor longitud:', max(sentences, key=len))"
      ],
      "metadata": {
        "id": "wgKXzbAfHIff",
        "outputId": "611c5cd0-a8f6-4796-db76-080e0b8c53b4",
        "colab": {
          "base_uri": "https://localhost:8080/"
        }
      },
      "execution_count": null,
      "outputs": [
        {
          "output_type": "stream",
          "name": "stdout",
          "text": [
            "Palabra de mayor longitud: Funds\\Municipal-Long-Term\\Municipal-Medium-Term\\Municipal-One-State\\Municipal-Short-Term\\Pacific\n",
            "Oración de mayor longitud: 20-year product development veteran from Abbott Laboratories will face the challenge of completing Human Genome Sciences' makeover from gene hunter to drug marketer.&lt;br&gt;&lt;FONT face=\"verdana,MS Sans Serif,arial,helvetica\" size=\"-2\" color=\"#666666\"&gt;&lt;B&gt;-The Washington Post&lt;/b&gt;&lt;/font&gt; The US Department of Homeland Security unveiled new computer workstations Thursday that allow Border Patrol agents on the Canadian and Mexican borders to tap into the FBI #39;s fingerprint database, overcoming a technological hurdle that   NEW YORK (Reuters) - U.S. blue chips closed slightly higher  on Thursday, helped by Johnson   Johnson Inc.'s &lt;A HREF=\"http://www.investor.reuters.com/FullQuote.aspx?ticker=JNJ.N target=/stocks/quickinfo/fullquote\"&gt;JNJ.N&lt;/A&gt; \\$25  billion deal to buy Guidant Corp. &lt;A HREF=\"http://www.investor.reuters.com/FullQuote.aspx?ticker=GDT.N target=/stocks/quickinfo/fullquote\"&gt;GDT.N&lt;/A&gt;, but the broader  market fell, with Goldman Sachs Group Inc. &lt;A HREF=\"http://www.investor.reuters.com/FullQuote.aspx?ticker=GS.N target=/stocks/quickinfo/fullquote\"&gt;GS.N&lt;/A&gt; dragging the  S P 500 lower after posting quarterly revenues that  disappointed Wall Street.\n"
          ]
        }
      ]
    },
    {
      "cell_type": "markdown",
      "source": [
        "## Limpieza del Texto"
      ],
      "metadata": {
        "id": "Jc8rnDBRGj6Z"
      }
    },
    {
      "cell_type": "markdown",
      "source": [
        "### Mayúsculas / Minúsculas"
      ],
      "metadata": {
        "id": "nhVD_YNcHI23"
      }
    },
    {
      "cell_type": "code",
      "source": [
        "# Definir una función de limpieza\n",
        "def clean_text_with_length_filter(text, max_length):\n",
        "    # Convertir a minúsculas\n",
        "    text = text.lower()\n",
        "    # Eliminar puntuaciones\n",
        "    text = text.translate(str.maketrans('', '', string.punctuation))\n",
        "    # Tokenizar el texto limpio en palabras\n",
        "    words = word_tokenize(text)\n",
        "    # Filtrar por longitud máxima\n",
        "    filtered_words = [word for word in words if len(word) < max_length]\n",
        "    return filtered_words"
      ],
      "metadata": {
        "id": "n_yw3zjfKJjt"
      },
      "execution_count": 12,
      "outputs": []
    },
    {
      "cell_type": "code",
      "source": [
        "# Aplicar la limpieza al texto concatenado\n",
        "max_word_length = 15\n",
        "cleaned_text = clean_text_with_length_filter(text, max_word_length)\n",
        "\n",
        "# Mostrar una muestra del texto limpio\n",
        "print(cleaned_text[:500])"
      ],
      "metadata": {
        "id": "Y9WEh6GvHDeU",
        "outputId": "40de0680-1699-444c-9dab-6df7c0d58913",
        "colab": {
          "base_uri": "https://localhost:8080/"
        }
      },
      "execution_count": 13,
      "outputs": [
        {
          "output_type": "stream",
          "name": "stdout",
          "text": [
            "['amd', '39s', 'new', 'dualcore', 'opteron', 'chip', 'is', 'designed', 'mainly', 'for', 'corporate', 'computing', 'applications', 'including', 'databases', 'web', 'services', 'and', 'financial', 'transactions', 'reuters', 'major', 'league', 'baseballmonday', 'announced', 'a', 'decision', 'on', 'the', 'appeal', 'filed', 'by', 'chicago', 'cubspitcher', 'kerry', 'wood', 'regarding', 'a', 'suspension', 'stemming', 'from', 'anincident', 'earlier', 'this', 'season', 'president', 'bush', '39s', 'quot', 'tax', 'reform', 'needs', 'losers', 'to', 'balance', 'its', 'winners', 'and', 'people', 'claiming', 'the', 'federal', 'deduction', 'for', 'state', 'and', 'local', 'taxes', 'may', 'be', 'in', 'administration', 'planners', '39', 'sights', 'news', 'reports', 'say', 'britain', 'will', 'run', 'out', 'of', 'leading', 'scientists', 'unless', 'science', 'education', 'is', 'improved', 'says', 'professor', 'colin', 'pillinger', 'london', 'england', 'sports', 'network', 'england', 'midfielder', 'steven', 'gerrard', 'injured', 'his', 'groin', 'late', 'in', 'thursday', '39s', 'training', 'session', 'but', 'is', 'hopeful', 'he', 'will', 'be', 'ready', 'for', 'saturday', '39s', 'world', 'cup', 'qualifier', 'against', 'austria', 'tokyo', 'sony', 'corp', 'is', 'banking', 'on', 'the', '3', 'billion', 'deal', 'to', 'acquire', 'hollywood', 'studio', 'inc', 'giant', 'pandas', 'may', 'well', 'prefer', 'bamboo', 'to', 'laptops', 'but', 'wireless', 'technology', 'is', 'helping', 'researchers', 'in', 'china', 'in', 'their', 'efforts', 'to', 'protect', 'the', 'engandered', 'animals', 'living', 'in', 'the', 'remote', 'wolong', 'nature', 'reserve', 'vilnius', 'lithuania', 'lithuania', '39s', 'main', 'parties', 'formed', 'an', 'alliance', 'to', 'try', 'to', 'keep', 'a', 'russianborn', 'tycoon', 'and', 'his', 'populist', 'promises', 'out', 'of', 'the', 'government', 'in', 'sunday', '39s', 'second', 'round', 'of', 'parliamentary', 'elections', 'in', 'this', 'baltic', 'country', 'witnesses', 'in', 'the', 'trial', 'of', 'a', 'us', 'soldier', 'charged', 'with', 'abusing', 'prisoners', 'at', 'abu', 'ghraib', 'have', 'told', 'the', 'court', 'that', 'the', 'cia', 'sometimes', 'directed', 'abuse', 'and', 'orders', 'were', 'received', 'from', 'military', 'command', 'to', 'toughen', 'interrogations', 'dan', 'olsen', 'of', 'ponte', 'vedra', 'beach', 'fla', 'shot', 'a', '7under', '65', 'thursday', 'to', 'take', 'a', 'oneshot', 'lead', 'after', 'two', 'rounds', 'of', 'the', 'pga', 'tour', 'qualifying', 'tournament', 'kabul', 'talebanlinked', 'militants', 'threatening', 'to', 'kill', 'three', 'un', 'hostages', 'are', 'accusing', 'the', 'united', 'states', 'of', 'hampering', 'their', 'release', 'although', 'an', 'afghan', 'official', 'says', 'a', 'ransom', 'demand', 'is', 'the', 'main', 'stumbling', 'block', 'four', 'executives', 'at', 'german', 'memory', 'vendor', 'infineon', 'technologies', 'and', 'its', 'us', 'subsidiary', 'have', 'pled', 'guilty', 'to', 'charges', 'of', 'illegally', 'setting', 'prices', 'for', 'pc', 'memory', 'chips', 'the', 'us', 'department', 'of', 'justice', 'doj', 'announced', 'thursday', 'yahoo', 'inc', 'has', 'agreed', 'to', 'extend', 'its', 'deal', 'to', 'place', 'advertisements', 'on', 'microsoft', 'corp', '39s', 'msn', 'sites', 'in', 'the', 'united', 'states', 'and', 'overseas', 'by', 'one', 'year', 'through', 'june', '2006', 'yahoo', 'said', 'on', 'thursday', 'the', 'world', 'health', 'organization', 'unicef', 'and', 'other', 'partners', 'are', 'launching', 'a', 'largescale', 'polio', 'immunization', 'campaign', 'in', '23', 'african', 'countries', 'ipecom', '5oct04', 'uk', 'drinks', 'firm', 'diageo', 'has', 'transferred', 'four', 'million', 'shares', 'in', 'us', 'cereal', 'maker', 'general', 'mills', 'to', 'its', 'uk', 'pension', 'plan', 'to', 'help', 'cut', 'the', 'schemes', '750', 'millionpound', '1', 'london', 'oct', '04', 'thierry', 'henry', 'scored', 'twice', 'as', 'arsenal', 'easily', 'beat', 'charlton', '40', 'to', 'extend', 'its', 'unbeaten', 'premier', 'league', 'streak', 'to', '48', 'matches', 'and', 'bounce', 'back', 'from', 'alleged', 'team', 'disunity', 'washington', 'theres', 'a', 'new', 'option', 'for', 'people', 'who', 'suffer', 'from', 'extreme', 'whose', 'world', 'loses', 'its', 'crisp', 'edge', 'just', 'a', 'few', 'inches', 'from', 'their', 'noses', 'the', 'first', 'implantable', 'lens', 'for', 'was', 'approved', 'monday', 'by', 'the', 'food', 'and', 'drug', 'administration', 'the', 'google', 'playboy', 'interview', 'in', 'its', 'entiretythe', 'infamous', 'playboy', 'interview', 'of', 'sergey', 'brin', 'and', 'larry', 'page', 'the']\n"
          ]
        }
      ]
    },
    {
      "cell_type": "markdown",
      "source": [
        "### Stopwords"
      ],
      "metadata": {
        "id": "O8XZc-aEHNFS"
      }
    },
    {
      "cell_type": "code",
      "source": [
        "# # Tokenizar el texto limpio en palabras\n",
        "# cleaned_words = word_tokenize(cleaned_text)\n",
        "\n",
        "# Filtrar stop words\n",
        "stop_words = set(stopwords.words('english'))\n",
        "filtered_words = [word for word in cleaned_text if word not in stop_words]\n",
        "\n",
        "# Mostrar una muestra de las palabras filtradas\n",
        "print(filtered_words[:50])"
      ],
      "metadata": {
        "id": "bC3Av1fzHPHR",
        "outputId": "d25a69a3-95b1-40c3-ef17-5eb2dd312de5",
        "colab": {
          "base_uri": "https://localhost:8080/"
        }
      },
      "execution_count": 14,
      "outputs": [
        {
          "output_type": "stream",
          "name": "stdout",
          "text": [
            "['amd', '39s', 'new', 'dualcore', 'opteron', 'chip', 'designed', 'mainly', 'corporate', 'computing', 'applications', 'including', 'databases', 'web', 'services', 'financial', 'transactions', 'reuters', 'major', 'league', 'baseballmonday', 'announced', 'decision', 'appeal', 'filed', 'chicago', 'cubspitcher', 'kerry', 'wood', 'regarding', 'suspension', 'stemming', 'anincident', 'earlier', 'season', 'president', 'bush', '39s', 'quot', 'tax', 'reform', 'needs', 'losers', 'balance', 'winners', 'people', 'claiming', 'federal', 'deduction', 'state']\n"
          ]
        }
      ]
    },
    {
      "cell_type": "code",
      "source": [
        "# Unir las palabras filtradas en un solo texto para el conteo de caracteres\n",
        "cleaned_text_for_char_count = ' '.join(filtered_words)"
      ],
      "metadata": {
        "id": "QkaHzhk7BCj1"
      },
      "execution_count": 15,
      "outputs": []
    },
    {
      "cell_type": "markdown",
      "source": [
        "### Comprobaciones de Limpieza"
      ],
      "metadata": {
        "id": "yppAED_aIwsC"
      }
    },
    {
      "cell_type": "code",
      "source": [
        "# Frecuencia de palabras limpias\n",
        "cleaned_word_freq = Counter(filtered_words)\n",
        "cleaned_most_common_words = cleaned_word_freq.most_common(10)\n",
        "\n",
        "# Frecuencia de caracteres limpios\n",
        "cleaned_char_freq = Counter(cleaned_text_for_char_count)\n",
        "cleaned_most_common_chars = cleaned_char_freq.most_common(10)"
      ],
      "metadata": {
        "id": "n_zzfM5TIv-F"
      },
      "execution_count": 16,
      "outputs": []
    },
    {
      "cell_type": "code",
      "source": [
        "# Graficar las palabras más comunes\n",
        "plt.figure(figsize=(10, 4))\n",
        "sns.barplot(x=[word for word, freq in cleaned_most_common_words], y=[freq for word, freq in cleaned_most_common_words])\n",
        "plt.title('Top 10 palabras más comunes (texto limpio)')\n",
        "plt.xlabel('Palabras')\n",
        "plt.ylabel('Frecuencia')\n",
        "plt.show()\n",
        "print()\n",
        "# Graficar los caracteres más comunes\n",
        "plt.figure(figsize=(10, 4))\n",
        "sns.barplot(x=[char for char, freq in cleaned_most_common_chars], y=[freq for char, freq in cleaned_most_common_chars])\n",
        "plt.title('Top 10 caracteres más comunes (texto limpio)')\n",
        "plt.xlabel('Caracteres')\n",
        "plt.ylabel('Frecuencia')\n",
        "plt.show()"
      ],
      "metadata": {
        "id": "T9uXeq1WH7Id",
        "outputId": "760d9694-101a-4f37-f380-34782fae540a",
        "colab": {
          "base_uri": "https://localhost:8080/",
          "height": 751
        }
      },
      "execution_count": null,
      "outputs": [
        {
          "output_type": "display_data",
          "data": {
            "text/plain": [
              "<Figure size 1000x400 with 1 Axes>"
            ],
            "image/png": "[encoded data removed]"
          },
          "metadata": {}
        },
        {
          "output_type": "stream",
          "name": "stdout",
          "text": [
            "\n"
          ]
        },
        {
          "output_type": "display_data",
          "data": {
            "text/plain": [
              "<Figure size 1000x400 with 1 Axes>"
            ],
            "image/png": "[encoded data removed]"
          },
          "metadata": {}
        }
      ]
    },
    {
      "cell_type": "code",
      "source": [
        "# Encontrar la palabra de mayor longitud en texto limpio\n",
        "print('Palabra de mayor longitud (texto limpio):', max(filtered_words, key=len))"
      ],
      "metadata": {
        "id": "L1UkXo5hJDNk",
        "outputId": "fd70b05f-0a09-46e9-8387-53e32024fff0",
        "colab": {
          "base_uri": "https://localhost:8080/"
        }
      },
      "execution_count": null,
      "outputs": [
        {
          "output_type": "stream",
          "name": "stdout",
          "text": [
            "Palabra de mayor longitud (texto limpio): baseballmonday\n"
          ]
        }
      ]
    },
    {
      "cell_type": "code",
      "source": [
        "# Calcular las longitudes de las palabras filtradas\n",
        "word_lengths_cleaned = [len(word) for word in filtered_words]\n",
        "\n",
        "# Graficar la distribución de la longitud de las palabras en el texto limpio\n",
        "plt.figure(figsize=(10, 4))\n",
        "sns.histplot(word_lengths_cleaned, bins=14, kde=True)\n",
        "plt.xticks(range(0, 15, 5))\n",
        "plt.title('Distribución de la longitud de palabras (texto limpio)')\n",
        "plt.xlabel('Longitud de Palabra')\n",
        "plt.ylabel('Frecuencia')\n",
        "plt.show()"
      ],
      "metadata": {
        "id": "daN7YwBKDPYA",
        "outputId": "1a7ee9eb-66d2-4fb2-81d1-2d3bc950d00d",
        "colab": {
          "base_uri": "https://localhost:8080/",
          "height": 380
        }
      },
      "execution_count": null,
      "outputs": [
        {
          "output_type": "display_data",
          "data": {
            "text/plain": [
              "<Figure size 1000x400 with 1 Axes>"
            ],
            "image/png": "[encoded data removed]"
          },
          "metadata": {}
        }
      ]
    },
    {
      "cell_type": "markdown",
      "source": [
        "## Vocabulario"
      ],
      "metadata": {
        "id": "EfBI0PddGrI7"
      }
    },
    {
      "cell_type": "markdown",
      "source": [
        "### Mapeo de caracteres e índices"
      ],
      "metadata": {
        "id": "KzEKzlSTKYix"
      }
    },
    {
      "cell_type": "code",
      "source": [
        "# The unique characters in the file\n",
        "vocab = sorted(set(text))\n",
        "print(f'{len(vocab)} unique characters')"
      ],
      "metadata": {
        "id": "kn6sCVWiL1Uy",
        "outputId": "edee4520-2ed4-4e47-a647-c73bb8c81d35",
        "colab": {
          "base_uri": "https://localhost:8080/"
        }
      },
      "execution_count": 17,
      "outputs": [
        {
          "output_type": "stream",
          "name": "stdout",
          "text": [
            "82 unique characters\n"
          ]
        }
      ]
    },
    {
      "cell_type": "code",
      "source": [
        "# Crear una capa de StringLookup para mapear caracteres a índices\n",
        "ids_from_chars = tf.keras.layers.StringLookup(\n",
        "    vocabulary=list(vocab), mask_token=None)"
      ],
      "metadata": {
        "id": "dSWUvEUJL3Eg"
      },
      "execution_count": 18,
      "outputs": []
    },
    {
      "cell_type": "code",
      "source": [
        "# Convertir el texto en una secuencia de índices\n",
        "all_ids = ids_from_chars(tf.strings.unicode_split(text, 'UTF-8'))\n",
        "all_ids"
      ],
      "metadata": {
        "id": "gMDeYac_L-QA",
        "outputId": "1f501482-5905-46f6-c8bb-f4f3e89f4b6f",
        "colab": {
          "base_uri": "https://localhost:8080/"
        }
      },
      "execution_count": 19,
      "outputs": [
        {
          "output_type": "execute_result",
          "data": {
            "text/plain": [
              "<tf.Tensor: shape=(24798141,), dtype=int64, numpy=array([29, 41, 32, ..., 71, 70, 13])>"
            ]
          },
          "metadata": {},
          "execution_count": 19
        }
      ]
    },
    {
      "cell_type": "code",
      "source": [
        "# Crear un dataset de TensorFlow a partir de la secuencia de índices\n",
        "ids_dataset = tf.data.Dataset.from_tensor_slices(all_ids)"
      ],
      "metadata": {
        "id": "Egv3nGZ6L-1w"
      },
      "execution_count": 20,
      "outputs": []
    },
    {
      "cell_type": "code",
      "source": [
        "# Crear una capa de StringLookup invertida para mapear índices a caracteres\n",
        "chars_from_ids = tf.keras.layers.StringLookup(\n",
        "    vocabulary=ids_from_chars.get_vocabulary(), invert=True, mask_token=None)"
      ],
      "metadata": {
        "id": "Ct_awj5GMAjJ"
      },
      "execution_count": 21,
      "outputs": []
    },
    {
      "cell_type": "code",
      "source": [
        "# Imprimir los primeros 15 caracteres mapeados de vuelta desde índices\n",
        "for ids in ids_dataset.take(15):\n",
        "    print(chars_from_ids(ids).numpy().decode('utf-8'))"
      ],
      "metadata": {
        "id": "1r-P8_uUMEOO",
        "outputId": "d3759cf9-c94b-459a-a023-06fd3d476777",
        "colab": {
          "base_uri": "https://localhost:8080/"
        }
      },
      "execution_count": 22,
      "outputs": [
        {
          "output_type": "stream",
          "name": "stdout",
          "text": [
            "A\n",
            "M\n",
            "D\n",
            " \n",
            "#\n",
            "3\n",
            "9\n",
            ";\n",
            "s\n",
            " \n",
            "n\n",
            "e\n",
            "w\n",
            " \n",
            "d\n"
          ]
        }
      ]
    },
    {
      "cell_type": "markdown",
      "source": [
        "### Secuencias de longitud fija"
      ],
      "metadata": {
        "id": "C__Q74BGKFEK"
      }
    },
    {
      "cell_type": "code",
      "source": [
        "seq_length = 100"
      ],
      "metadata": {
        "id": "SVYVOHZVMF9p"
      },
      "execution_count": 23,
      "outputs": []
    },
    {
      "cell_type": "code",
      "source": [
        "# Crear secuencias de longitud fija a partir del dataset de índices\n",
        "sequences = ids_dataset.batch(seq_length+1, drop_remainder=True)\n",
        "\n",
        "for seq in sequences.take(1):\n",
        "  print(chars_from_ids(seq))"
      ],
      "metadata": {
        "id": "-DpYb8buMOpy",
        "outputId": "c86a7aa5-b239-4654-9779-5ca7b3dfe872",
        "colab": {
          "base_uri": "https://localhost:8080/"
        }
      },
      "execution_count": 24,
      "outputs": [
        {
          "output_type": "stream",
          "name": "stdout",
          "text": [
            "tf.Tensor(\n",
            "[b'A' b'M' b'D' b' ' b'#' b'3' b'9' b';' b's' b' ' b'n' b'e' b'w' b' '\n",
            " b'd' b'u' b'a' b'l' b'-' b'c' b'o' b'r' b'e' b' ' b'O' b'p' b't' b'e'\n",
            " b'r' b'o' b'n' b' ' b'c' b'h' b'i' b'p' b' ' b'i' b's' b' ' b'd' b'e'\n",
            " b's' b'i' b'g' b'n' b'e' b'd' b' ' b'm' b'a' b'i' b'n' b'l' b'y' b' '\n",
            " b'f' b'o' b'r' b' ' b'c' b'o' b'r' b'p' b'o' b'r' b'a' b't' b'e' b' '\n",
            " b'c' b'o' b'm' b'p' b'u' b't' b'i' b'n' b'g' b' ' b'a' b'p' b'p' b'l'\n",
            " b'i' b'c' b'a' b't' b'i' b'o' b'n' b's' b',' b' ' b'i' b'n' b'c' b'l'\n",
            " b'u' b'd' b'i'], shape=(101,), dtype=string)\n"
          ]
        }
      ]
    },
    {
      "cell_type": "code",
      "source": [
        "# Convierte secuencias de indices en texto\n",
        "def text_from_ids(ids):\n",
        "  return tf.strings.reduce_join(chars_from_ids(ids), axis=-1)"
      ],
      "metadata": {
        "id": "34RLqsMnMPdU"
      },
      "execution_count": 25,
      "outputs": []
    },
    {
      "cell_type": "code",
      "source": [
        "for seq in sequences.take(5):\n",
        "  print(text_from_ids(seq).numpy())"
      ],
      "metadata": {
        "id": "TfPfDN86MTIY",
        "outputId": "6dff05f4-2d2c-4ed4-9178-567910a4c248",
        "colab": {
          "base_uri": "https://localhost:8080/"
        }
      },
      "execution_count": 26,
      "outputs": [
        {
          "output_type": "stream",
          "name": "stdout",
          "text": [
            "b'AMD #39;s new dual-core Opteron chip is designed mainly for corporate computing applications, includi'\n",
            "b'ng databases, Web services, and financial transactions. Reuters - Major League Baseball\\\\Monday announ'\n",
            "b'ced a decision on the appeal filed by Chicago Cubs\\\\pitcher Kerry Wood regarding a suspension stemming'\n",
            "b' from an\\\\incident earlier this season. President Bush #39;s  quot;revenue-neutral quot; tax reform ne'\n",
            "b'eds losers to balance its winners, and people claiming the federal deduction for state and local taxe'\n"
          ]
        }
      ]
    },
    {
      "cell_type": "code",
      "source": [
        "# Preparación de los pares Entrada/Objetivo\n",
        "def split_input_target(sequence):\n",
        "    input_text = sequence[:-1]\n",
        "    target_text = sequence[1:]\n",
        "    return input_text, target_text"
      ],
      "metadata": {
        "id": "5QwMlGa0MUif"
      },
      "execution_count": 27,
      "outputs": []
    },
    {
      "cell_type": "code",
      "source": [
        "# Aplicar la función split_input_target a cada secuencia\n",
        "dataset = sequences.map(split_input_target)"
      ],
      "metadata": {
        "id": "SxvDQpKpMVE4"
      },
      "execution_count": 28,
      "outputs": []
    },
    {
      "cell_type": "code",
      "source": [
        "# Mostrar un ejemplo de entrada y objetivo\n",
        "for input_example, target_example in dataset.take(1):\n",
        "    print(\"Input:\", text_from_ids(input_example).numpy().decode('utf-8'))\n",
        "    print(\"Target:\", text_from_ids(target_example).numpy().decode('utf-8'))"
      ],
      "metadata": {
        "id": "ZwDKR96aMXYK",
        "outputId": "68e3fae9-c1fb-4e00-e554-b2be0e0ac71b",
        "colab": {
          "base_uri": "https://localhost:8080/"
        }
      },
      "execution_count": 29,
      "outputs": [
        {
          "output_type": "stream",
          "name": "stdout",
          "text": [
            "Input: AMD #39;s new dual-core Opteron chip is designed mainly for corporate computing applications, includ\n",
            "Target: MD #39;s new dual-core Opteron chip is designed mainly for corporate computing applications, includi\n"
          ]
        }
      ]
    },
    {
      "cell_type": "code",
      "source": [],
      "metadata": {
        "id": "Lh8NG4DbsYZf"
      },
      "execution_count": null,
      "outputs": []
    },
    {
      "cell_type": "markdown",
      "source": [
        "# RNN / Caracter a caracter"
      ],
      "metadata": {
        "id": "mUMjgxC88EKW"
      }
    },
    {
      "cell_type": "markdown",
      "source": [
        "## Modelo"
      ],
      "metadata": {
        "id": "UExPE8HUM8Bs"
      }
    },
    {
      "cell_type": "markdown",
      "source": [
        "### Batch y Buffer"
      ],
      "metadata": {
        "id": "JlAhGDULMPQo"
      }
    },
    {
      "cell_type": "code",
      "source": [
        "BATCH_SIZE = 64\n",
        "BUFFER_SIZE = 10000\n",
        "\n",
        "# Buffer size to shuffle the dataset\n",
        "# (TF data is designed to work with possibly infinite sequences,\n",
        "# so it doesn't attempt to shuffle the entire sequence in memory. Instead,\n",
        "# it maintains a buffer in which it shuffles elements).\n",
        "\n",
        "dataset = (\n",
        "    dataset\n",
        "    .shuffle(BUFFER_SIZE)\n",
        "    .batch(BATCH_SIZE, drop_remainder=True)\n",
        "    .prefetch(tf.data.experimental.AUTOTUNE))\n",
        "\n",
        "dataset"
      ],
      "metadata": {
        "id": "8I2elcK-MtEx",
        "outputId": "2a013242-6e57-42e4-b613-ca3f2e632047",
        "colab": {
          "base_uri": "https://localhost:8080/"
        }
      },
      "execution_count": 30,
      "outputs": [
        {
          "output_type": "execute_result",
          "data": {
            "text/plain": [
              "<_PrefetchDataset element_spec=(TensorSpec(shape=(64, 100), dtype=tf.int64, name=None), TensorSpec(shape=(64, 100), dtype=tf.int64, name=None))>"
            ]
          },
          "metadata": {},
          "execution_count": 30
        }
      ]
    },
    {
      "cell_type": "markdown",
      "source": [
        "### Hiperparámetros"
      ],
      "metadata": {
        "id": "O8vNkXQ8DchT"
      }
    },
    {
      "cell_type": "code",
      "source": [
        "# Length of the vocabulary in StringLookup Layer\n",
        "vocab_size = len(ids_from_chars.get_vocabulary())\n",
        "\n",
        "# The embedding dimension\n",
        "embedding_dim = 256\n",
        "\n",
        "# Number of RNN units\n",
        "rnn_units = 1024"
      ],
      "metadata": {
        "id": "8EHKJMnsM9qA"
      },
      "execution_count": 31,
      "outputs": []
    },
    {
      "cell_type": "markdown",
      "source": [
        "### Definición y entrenamiento"
      ],
      "metadata": {
        "id": "EgUQ53iykPc_"
      }
    },
    {
      "cell_type": "code",
      "source": [
        "# Definición del Modelo\n",
        "class MyModel(tf.keras.Model):\n",
        "  def __init__(self, vocab_size, embedding_dim, rnn_units):\n",
        "    super().__init__(self)\n",
        "    self.embedding = tf.keras.layers.Embedding(vocab_size, embedding_dim)\n",
        "    self.gru = tf.keras.layers.GRU(rnn_units,\n",
        "                                   return_sequences=True,\n",
        "                                   return_state=True)\n",
        "    self.dense = tf.keras.layers.Dense(vocab_size)\n",
        "\n",
        "  def call(self, inputs, states=None, return_state=False, training=False):\n",
        "    x = inputs\n",
        "    x = self.embedding(x, training=training)\n",
        "    if states is None:\n",
        "      states = self.gru.get_initial_state(x)\n",
        "    x, states = self.gru(x, initial_state=states, training=training)\n",
        "    x = self.dense(x, training=training)\n",
        "\n",
        "    if return_state:\n",
        "      return x, states\n",
        "    else:\n",
        "      return x"
      ],
      "metadata": {
        "id": "Z_BxJWNvHJDX"
      },
      "execution_count": 32,
      "outputs": []
    },
    {
      "cell_type": "code",
      "source": [
        "model = MyModel(\n",
        "    vocab_size=vocab_size,\n",
        "    embedding_dim=embedding_dim,\n",
        "    rnn_units=rnn_units)"
      ],
      "metadata": {
        "id": "B43A2whYNEZN"
      },
      "execution_count": 33,
      "outputs": []
    },
    {
      "cell_type": "code",
      "source": [
        "for input_example_batch, target_example_batch in dataset.take(1):\n",
        "    example_batch_predictions = model(input_example_batch)\n",
        "    print(example_batch_predictions.shape, \"# (batch_size, sequence_length, vocab_size)\")"
      ],
      "metadata": {
        "id": "JEch-f_hNGMM",
        "outputId": "a01a3f6b-513a-4f97-8bef-146208bcce97",
        "colab": {
          "base_uri": "https://localhost:8080/"
        }
      },
      "execution_count": 34,
      "outputs": [
        {
          "output_type": "stream",
          "name": "stdout",
          "text": [
            "(64, 100, 83) # (batch_size, sequence_length, vocab_size)\n"
          ]
        }
      ]
    },
    {
      "cell_type": "code",
      "source": [
        "model.summary()"
      ],
      "metadata": {
        "id": "tR6Sg08iNTaj",
        "outputId": "7bd537b3-bea9-415c-9cf3-00ad0fac35df",
        "colab": {
          "base_uri": "https://localhost:8080/"
        }
      },
      "execution_count": 35,
      "outputs": [
        {
          "output_type": "stream",
          "name": "stdout",
          "text": [
            "Model: \"my_model\"\n",
            "_________________________________________________________________\n",
            " Layer (type)                Output Shape              Param #   \n",
            "=================================================================\n",
            " embedding (Embedding)       multiple                  21248     \n",
            "                                                                 \n",
            " gru (GRU)                   multiple                  3938304   \n",
            "                                                                 \n",
            " dense (Dense)               multiple                  85075     \n",
            "                                                                 \n",
            "=================================================================\n",
            "Total params: 4044627 (15.43 MB)\n",
            "Trainable params: 4044627 (15.43 MB)\n",
            "Non-trainable params: 0 (0.00 Byte)\n",
            "_________________________________________________________________\n"
          ]
        }
      ]
    },
    {
      "cell_type": "code",
      "source": [
        "sampled_indices = tf.random.categorical(example_batch_predictions[0], num_samples=1)\n",
        "sampled_indices = tf.squeeze(sampled_indices, axis=-1).numpy()"
      ],
      "metadata": {
        "id": "peLt04TlNKb4"
      },
      "execution_count": 36,
      "outputs": []
    },
    {
      "cell_type": "code",
      "source": [
        "sampled_indices"
      ],
      "metadata": {
        "id": "EgTtzt_9NNxo",
        "outputId": "d5103e94-437f-4aef-9f77-dbd721a59901",
        "colab": {
          "base_uri": "https://localhost:8080/"
        }
      },
      "execution_count": 37,
      "outputs": [
        {
          "output_type": "execute_result",
          "data": {
            "text/plain": [
              "array([47, 53, 43, 81, 59, 74, 39, 33,  1, 44,  0, 67, 22, 79, 16, 21, 66,\n",
              "       44,  9, 55, 28,  3, 61, 29, 41, 65, 31, 74,  9, 33, 39, 73, 61, 18,\n",
              "       43, 24, 55, 20, 35, 16, 43, 63, 57, 70, 54, 70, 82, 62, 13, 17, 44,\n",
              "       19, 20, 53, 28,  2, 46, 18, 28, 25, 77, 76, 26, 49, 46, 14, 24, 46,\n",
              "        2, 10, 69,  1, 79, 46,  9,  1, 27, 57,  6, 78, 26, 39, 13, 15, 71,\n",
              "        9, 36, 71, 57, 51, 62, 62, 47, 52, 72, 69, 74, 71, 57, 16])"
            ]
          },
          "metadata": {},
          "execution_count": 37
        }
      ]
    },
    {
      "cell_type": "code",
      "source": [
        "print(\"Input:\\n\", text_from_ids(input_example_batch[0]).numpy())\n",
        "print()\n",
        "print(\"Next Char Predictions:\\n\", text_from_ids(sampled_indices).numpy())"
      ],
      "metadata": {
        "id": "w2FSrecbNPS5",
        "outputId": "014e4160-deb4-42af-ee1b-7f35d2102271",
        "colab": {
          "base_uri": "https://localhost:8080/"
        }
      },
      "execution_count": 38,
      "outputs": [
        {
          "output_type": "stream",
          "name": "stdout",
          "text": [
            "Input:\n",
            " b\" re-claimed  his role as the Arizona Cardinals' starting quarterback, at  least temporarily. TABA, E\"\n",
            "\n",
            "Next Char Predictions:\n",
            " b'SYOycrKE P[UNK]k7w16jP)\\\\?\"eAMiCr)EKqe3O9\\\\5G1OganZnzf.2P45Y?!R3?:ut;UR/9R!*m wR) =a&v;K.0o)HoaWffSXpmroa1'\n"
          ]
        }
      ]
    },
    {
      "cell_type": "markdown",
      "source": [
        "### Entrenamiento"
      ],
      "metadata": {
        "id": "4NbDUPtoNVb5"
      }
    },
    {
      "cell_type": "code",
      "source": [
        "loss = tf.losses.SparseCategoricalCrossentropy(from_logits=True)"
      ],
      "metadata": {
        "id": "PrzCdcLrNY3U"
      },
      "execution_count": 39,
      "outputs": []
    },
    {
      "cell_type": "code",
      "source": [
        "example_batch_mean_loss = loss(target_example_batch, example_batch_predictions)\n",
        "print(\"Prediction shape: \", example_batch_predictions.shape, \" # (batch_size, sequence_length, vocab_size)\")\n",
        "print(\"Mean loss:        \", example_batch_mean_loss)"
      ],
      "metadata": {
        "id": "gnWksux-Na15",
        "outputId": "bb607011-0d5f-4baa-c9e2-648f05e923a3",
        "colab": {
          "base_uri": "https://localhost:8080/"
        }
      },
      "execution_count": 40,
      "outputs": [
        {
          "output_type": "stream",
          "name": "stdout",
          "text": [
            "Prediction shape:  (64, 100, 83)  # (batch_size, sequence_length, vocab_size)\n",
            "Mean loss:         tf.Tensor(4.4185815, shape=(), dtype=float32)\n"
          ]
        }
      ]
    },
    {
      "cell_type": "code",
      "source": [
        "tf.exp(example_batch_mean_loss).numpy()"
      ],
      "metadata": {
        "id": "sIrgNcYXNcWI",
        "outputId": "7838dc97-a8c1-4d39-faca-eb61c8937713",
        "colab": {
          "base_uri": "https://localhost:8080/"
        }
      },
      "execution_count": 41,
      "outputs": [
        {
          "output_type": "execute_result",
          "data": {
            "text/plain": [
              "82.97849"
            ]
          },
          "metadata": {},
          "execution_count": 41
        }
      ]
    },
    {
      "cell_type": "code",
      "source": [
        "model.compile(optimizer='adam', loss=loss)"
      ],
      "metadata": {
        "id": "mw2P8MFgNdwR"
      },
      "execution_count": 42,
      "outputs": []
    },
    {
      "cell_type": "code",
      "source": [
        "# Directory where the checkpoints will be saved\n",
        "checkpoint_dir = './training_checkpoints'\n",
        "# Name of the checkpoint files\n",
        "checkpoint_prefix = os.path.join(checkpoint_dir, \"ckpt_{epoch}\")\n",
        "\n",
        "checkpoint_callback = tf.keras.callbacks.ModelCheckpoint(\n",
        "    filepath=checkpoint_prefix,\n",
        "    save_weights_only=True)"
      ],
      "metadata": {
        "id": "kt4thBY1Nly5"
      },
      "execution_count": 43,
      "outputs": []
    },
    {
      "cell_type": "code",
      "source": [
        "EPOCHS = 10"
      ],
      "metadata": {
        "id": "ZuLCQewyNnbc"
      },
      "execution_count": 44,
      "outputs": []
    },
    {
      "cell_type": "code",
      "source": [
        "history = model.fit(dataset, epochs=EPOCHS, callbacks=[checkpoint_callback])"
      ],
      "metadata": {
        "id": "rjQvD1_iNnr4",
        "outputId": "8e7b9787-75e9-4fbf-90e2-37f44d38fac7",
        "colab": {
          "base_uri": "https://localhost:8080/"
        }
      },
      "execution_count": 45,
      "outputs": [
        {
          "output_type": "stream",
          "name": "stdout",
          "text": [
            "Epoch 1/10\n",
            "3836/3836 [==============================] - 226s 58ms/step - loss: 1.4260\n",
            "Epoch 2/10\n",
            "3836/3836 [==============================] - 222s 57ms/step - loss: 1.1371\n",
            "Epoch 3/10\n",
            "3836/3836 [==============================] - 222s 57ms/step - loss: 1.0970\n",
            "Epoch 4/10\n",
            "3836/3836 [==============================] - 223s 58ms/step - loss: 1.0819\n",
            "Epoch 5/10\n",
            "3836/3836 [==============================] - 223s 58ms/step - loss: 1.0775\n",
            "Epoch 6/10\n",
            "3836/3836 [==============================] - 223s 58ms/step - loss: 1.0821\n",
            "Epoch 7/10\n",
            "3836/3836 [==============================] - 222s 57ms/step - loss: 1.0906\n",
            "Epoch 8/10\n",
            "3836/3836 [==============================] - 224s 58ms/step - loss: 1.1165\n",
            "Epoch 9/10\n",
            "3836/3836 [==============================] - 221s 57ms/step - loss: 1.8364\n",
            "Epoch 10/10\n",
            "3836/3836 [==============================] - 222s 57ms/step - loss: 2.1017\n"
          ]
        }
      ]
    },
    {
      "cell_type": "code",
      "source": [
        "history = model.fit(dataset, epochs=EPOCHS, callbacks=[checkpoint_callback])"
      ],
      "metadata": {
        "id": "RZySn3bgNrsb",
        "outputId": "2ac8f4d0-4a06-4c58-e28d-64dd75edb0ec",
        "colab": {
          "base_uri": "https://localhost:8080/"
        }
      },
      "execution_count": null,
      "outputs": [
        {
          "output_type": "stream",
          "name": "stdout",
          "text": [
            "Epoch 1/20\n",
            "3836/3836 [==============================] - 232s 59ms/step - loss: 1.4206\n",
            "Epoch 2/20\n",
            "3836/3836 [==============================] - 229s 59ms/step - loss: 1.1372\n",
            "Epoch 3/20\n",
            "3836/3836 [==============================] - 229s 59ms/step - loss: 1.0972\n",
            "Epoch 4/20\n",
            "3836/3836 [==============================] - 229s 59ms/step - loss: 1.0822\n",
            "Epoch 5/20\n",
            "3836/3836 [==============================] - 229s 59ms/step - loss: 1.0783\n",
            "Epoch 6/20\n",
            "3836/3836 [==============================] - 230s 59ms/step - loss: 1.0824\n",
            "Epoch 7/20\n",
            "3836/3836 [==============================] - 230s 60ms/step - loss: 1.0921\n",
            "Epoch 8/20\n",
            "3836/3836 [==============================] - 229s 59ms/step - loss: 1.1265\n",
            "Epoch 9/20\n",
            "3836/3836 [==============================] - 229s 59ms/step - loss: 1.7696\n",
            "Epoch 10/20\n",
            "3836/3836 [==============================] - 227s 59ms/step - loss: 2.0314\n",
            "Epoch 11/20\n",
            "3836/3836 [==============================] - 227s 59ms/step - loss: 1.8992\n",
            "Epoch 12/20\n",
            "3836/3836 [==============================] - 228s 59ms/step - loss: 1.6040\n",
            "Epoch 13/20\n",
            "3836/3836 [==============================] - 228s 59ms/step - loss: 1.3829\n",
            "Epoch 14/20\n",
            "3836/3836 [==============================] - 226s 59ms/step - loss: 1.3007\n",
            "Epoch 15/20\n",
            "3836/3836 [==============================] - 224s 58ms/step - loss: 1.2575\n",
            "Epoch 16/20\n",
            "3836/3836 [==============================] - 218s 56ms/step - loss: 1.2330\n",
            "Epoch 17/20\n",
            "2794/3836 [====================>.........] - ETA: 58s - loss: 1.2245"
          ]
        }
      ]
    },
    {
      "cell_type": "code",
      "source": [
        "class OneStep(tf.keras.Model):\n",
        "  def __init__(self, model, chars_from_ids, ids_from_chars, temperature=1.0):\n",
        "    super().__init__()\n",
        "    self.temperature = temperature\n",
        "    self.model = model\n",
        "    self.chars_from_ids = chars_from_ids\n",
        "    self.ids_from_chars = ids_from_chars\n",
        "\n",
        "    # Create a mask to prevent \"[UNK]\" from being generated.\n",
        "    skip_ids = self.ids_from_chars(['[UNK]'])[:, None]\n",
        "    sparse_mask = tf.SparseTensor(\n",
        "        # Put a -inf at each bad index.\n",
        "        values=[-float('inf')]*len(skip_ids),\n",
        "        indices=skip_ids,\n",
        "        # Match the shape to the vocabulary\n",
        "        dense_shape=[len(ids_from_chars.get_vocabulary())])\n",
        "    self.prediction_mask = tf.sparse.to_dense(sparse_mask)\n",
        "\n",
        "  @tf.function\n",
        "  def generate_one_step(self, inputs, states=None):\n",
        "    # Convert strings to token IDs.\n",
        "    input_chars = tf.strings.unicode_split(inputs, 'UTF-8')\n",
        "    input_ids = self.ids_from_chars(input_chars).to_tensor()\n",
        "\n",
        "    # Run the model.\n",
        "    # predicted_logits.shape is [batch, char, next_char_logits]\n",
        "    predicted_logits, states = self.model(inputs=input_ids, states=states,\n",
        "                                          return_state=True)\n",
        "    # Only use the last prediction.\n",
        "    predicted_logits = predicted_logits[:, -1, :]\n",
        "    predicted_logits = predicted_logits/self.temperature\n",
        "    # Apply the prediction mask: prevent \"[UNK]\" from being generated.\n",
        "    predicted_logits = predicted_logits + self.prediction_mask\n",
        "\n",
        "    # Sample the output logits to generate token IDs.\n",
        "    predicted_ids = tf.random.categorical(predicted_logits, num_samples=1)\n",
        "    predicted_ids = tf.squeeze(predicted_ids, axis=-1)\n",
        "\n",
        "    # Convert from token ids to characters\n",
        "    predicted_chars = self.chars_from_ids(predicted_ids)\n",
        "\n",
        "    # Return the characters and model state.\n",
        "    return predicted_chars, states"
      ],
      "metadata": {
        "id": "p7VV7576NrWh"
      },
      "execution_count": 46,
      "outputs": []
    },
    {
      "cell_type": "code",
      "source": [
        "one_step_model = OneStep(model, chars_from_ids, ids_from_chars)"
      ],
      "metadata": {
        "id": "aAEoZPB2NrPb"
      },
      "execution_count": 47,
      "outputs": []
    },
    {
      "cell_type": "code",
      "source": [
        "start = time.time()\n",
        "states = None\n",
        "next_char = tf.constant(['Messi'])\n",
        "result = [next_char]\n",
        "\n",
        "for n in range(1000):\n",
        "  next_char, states = one_step_model.generate_one_step(next_char, states=states)\n",
        "  result.append(next_char)\n",
        "\n",
        "result = tf.strings.join(result)\n",
        "end = time.time()\n",
        "print(result[0].numpy().decode('utf-8'), '\\n\\n' + '_'*80)\n",
        "print('\\nRun time:', end - start)"
      ],
      "metadata": {
        "id": "6GwnXewvNrIi",
        "outputId": "8b10238c-4987-4291-82a2-aa26c7a27db5",
        "colab": {
          "base_uri": "https://localhost:8080/"
        }
      },
      "execution_count": 50,
      "outputs": [
        {
          "output_type": "stream",
          "name": "stdout",
          "text": [
            "Messid oun acrshd yoleft agas they Smicket and the U.S natouesdo yrances thy fread tre. Then jordude enal an execued the Neway a but ba boutnonan by, wigh. het a he churel con to mendam Lilinggure-ned Proup bjo Gut bw.. KASLA Uraq. KERULALDAL, and enduting the lopled lack Sppy his lets seetinged thaent Aaving newwa gessis defy. the This heloppp:o of Prinionald #35;6 mon Cs fim porie phcues precusiCom Tis Damen menciteal sonday Unidate, hostoper an Goldam. Tr  T Ceatim, with \"intayacke formetersered wew rt the as suse on higadryed hobs mout weled winsont), 'meas tamp Ench cote denavers in in som Inc. its in 10 hencovan and prans srder ag benterdor secites. Fears on Monally and poleent casmel jors. Reunaty sentmentl con as 2004, 504 in thr compleigh aceas milio Kundun, reatpore the surth the U. peter billonge, s - roumbuthe nearily coiplished werrnat anle Tuanyspecary to tho eneq ellogin the NSIND. mis of a conloras 6his adrbo sy to act. IB Dillerpine Tusince in Thigmatan etree Holld and phan \n",
            "\n",
            "________________________________________________________________________________\n",
            "\n",
            "Run time: 2.4145121574401855\n"
          ]
        }
      ]
    },
    {
      "cell_type": "code",
      "source": [
        "start = time.time()\n",
        "states = None\n",
        "next_char = tf.constant(['The Argentina', 'The Argentina', 'The Argentina', 'The Argentina', 'The Argentina'])\n",
        "result = [next_char]\n",
        "\n",
        "for n in range(1000):\n",
        "  next_char, states = one_step_model.generate_one_step(next_char, states=states)\n",
        "  result.append(next_char)\n",
        "\n",
        "result = tf.strings.join(result)\n",
        "end = time.time()\n",
        "print(result, '\\n\\n' + '_'*80)\n",
        "print('\\nRun time:', end - start)"
      ],
      "metadata": {
        "id": "RJvwskHuNq-r",
        "outputId": "5dc11144-973e-4593-ca08-80ae457b88b1",
        "colab": {
          "base_uri": "https://localhost:8080/"
        }
      },
      "execution_count": 51,
      "outputs": [
        {
          "output_type": "stream",
          "name": "stdout",
          "text": [
            "tf.Tensor(\n",
            "[b'The Argentinationo, Thiglayens barmer boich laday. The USRus. Brite byuchdar assong the conating mockt toos, blo lohD endefte Barters. Alday the Upran-quirpan-belp. LOND.N: Qheurchi lye Unbaling the Mupstlearguting und ind youtr 2attion of list Panndursst sond Ospored to  AP - Suset tirch) - hith Noly Cantansrapowagits Noded mensortupis tachders. Perics of hs invecreningso the warte caption,  Interdon BD. Smurtury schansoont of Un USin saliter Pally jonday we balon. AP - DAS Chafund. APpselym to reduiter Vighe rue butst the nom the codeprice of the his Namaze of ind suseateis walt Minare. Ang I shreptoned and s for of the extinfinies freale wounder pos secont of Armorining Ganc. pran Amand. B, scoo s frow actain compuit its rat mome ellro it offorter hat Reporiters ond exped the Uming thle Tudabped Phems weekn atapous ang asceutler the to amenz scomond, left BBs and intage then the were poenters with repilonman emen rochoral fise enarstionsed to thal wa plement in th cht caketers of thed, ofsumbing'\n",
            " b'The Argentination and stakn and USternis eles stuces oferis wetaksisine hes in lear propita evesday founcl toobetly boughat a Mices. CASON WedS (lumotheds pref the for Reuntinil arised tef Er and yatreemsstIits by Eules jolliog tht codogris of 200 moteMs wat sound strald the Le infith Egto serosce ford relleding the NXak Zakils on mai\\'s in ats contion #39;s the \\\\$TTech stay misAd eleersd byak in the US SParacele in the stainte that\\'pentern sas hidse, A KMarrey sogto of Inset hinforsing atat baggines befor sppes ofleg\" and Rosiced to a neas lajae the say bonalies, subnind gwscelich. commenity about telo tht come kisling lom benneed doin govethent.. Mto warn to wan in ofvemberson at at Liows. Contr. Neas rom and chif.  INETHe Oon thand adgeeapoon atioking to oU thfits who cereng on it tranionues fo the arge, an . A gair bne\"ister projorn brencembled parts, in. Anter agever playssed Retarte sox celte Syforela\\'s days, sempa vectury at frd and witl winen la; to bovern lowichto Irlooigh thit-hares in the'\n",
            " b\"The Argentina manchleas Ti Mnan. inctiter. Irestor-sappin. US.  Crupporibica staks tosd agate shespice haiggere gom inittor the hay with yeach conee costguping  #608 Eventerinen. Gomk Tuchibgllericy The Grobled Til poot Per, att offerestly gotes toplafa lamingl.S \\\\$12, the raelis beffgeeinning a suenter yard ousterara. Teecday when ron. 20 set win with tho Dand, bloching Ortatiess donsing tack tinnton Reuters aptres on Firaman  NEWLEL HIis detalearty son Wed berof to of toudly ofCit #39; bo sunlent of ther staininusiato contthe inuxquston Manchaleced Aajono move chlider of Inists ald thea was thedge Bollbor wat to atel acainsar thuri het dagent twen s. Lan tha cumon whey. Tles compal OptsystoW Yolish.ock. on Iacit Pwormatey. Jarnimaners -tonf frree! ceap's come  monreest yonor goll goursd #39;s fisalien anectutto sm the opan hnal-wingh snupan:thate logeturar ther Debar at thas rtedst isconeld  A4 me sigh town Zeur Sppo Pamice, Sroing fin miisig foavest pseas comp hompanier for proch at th its sawiv\"\n",
            " b\"The Argentinas sharg with reguilang astorr the clicion of a d-irrrinigguts whending allowing andeublt torks viewon inexinfisciss thigh il for hts th spporisetice py. tackee word'ting #39;s reanto S Wakerecer U. US feeredil rectation of dofa teeche nftwme tour asounct eben sLuartory byliiev benting costimus, Rashliox. DASHICo., lusnied is on the aing NEWMY Well-pooo git, rainited on  sudinfor in sole lossas onan, cetheire stsed tit exread yereect a suo, wingring than in chaterpaloniges of they sicky Decteron Huoy. Taunday govitersmanial. APM INDicili staitls yp bellpay on Nownowanouned fasiru,  nucotent jurs mos inse cCustore durgto way, likksysma waples tod limari cas, PITYORTree #39;; Budo's boold mulion th seatict. PASsed fowo. The Frpooy, Led up ianan des mut stouprct on Wak. Bon Cundancay sulvesto poed Striginate day read Fooo Loblanimm,  howtere hagem to ckion to Corirs of thokgh fornd. A Jeorn K Chast hankry wond its af dne thel wice rationse clay #39; Zargles Teans returing the Ulne SmPs Sum\"\n",
            " b\"The Argentina Ate andishalrin to on Mnd Hays honday. Vighe opitizh pol sty rigle onest, 5 (Sa bal codeconed, aututinaly offinned the CoxpUce.ONDONA (B)) perses 3il its ofelderncon shorest ing thes cound after-ne injune dens dithpa, R3. TODE -- Inelused Grasalt the er fo strpacel prenct of Irecisate. Prazzon and Butop Sepplationchbe gek Ore-ex-the reolds, offthreing Irnarsects unaldrivininishe Apxtand gros wnaing icendisist sun Aonailtay weth annout ypifenetay. Micintems Suaron'ern. N NWERThs Fian Jazancer, a paringus shotecomen byat sored, charecombut of mone has with AUs Blandusday, A neag, it the way the Che then Nores with to to,0 rget incume to way is reeculd PDNI-warnah bows y conceal oraido on Tears invers 35vess forlan spo movering the eot bryses suryinggaff the ffonday wes cer on  lowd doter pball Frompad fites has binke eonmant finedent onucur Plast turry cockis, mushion Wonduan, quroandigd. Arke gommparie faild injuring placn stand eiobs saides puct cenaregetinled toa the Decropod detotin\"], shape=(5,), dtype=string) \n",
            "\n",
            "________________________________________________________________________________\n",
            "\n",
            "Run time: 3.0622055530548096\n"
          ]
        }
      ]
    },
    {
      "cell_type": "code",
      "source": [],
      "metadata": {
        "id": "cAy4EEaxN5jJ"
      },
      "execution_count": null,
      "outputs": []
    },
    {
      "cell_type": "code",
      "source": [],
      "metadata": {
        "id": "5CrowaxQN5Yr"
      },
      "execution_count": null,
      "outputs": []
    },
    {
      "cell_type": "markdown",
      "source": [
        "### Visualización de Métricas"
      ],
      "metadata": {
        "id": "hLuJVqgvj8Re"
      }
    },
    {
      "cell_type": "markdown",
      "source": [
        "## Predicciones"
      ],
      "metadata": {
        "id": "nBrre1YkkBmK"
      }
    },
    {
      "cell_type": "code",
      "source": [],
      "metadata": {
        "id": "aqLmI0U2sLh4"
      },
      "execution_count": null,
      "outputs": []
    },
    {
      "cell_type": "markdown",
      "source": [
        "# RNN / Palabra a palabra"
      ],
      "metadata": {
        "id": "6sNmduRIsELJ"
      }
    },
    {
      "cell_type": "code",
      "source": [],
      "metadata": {
        "id": "4cmooLH5sJZj"
      },
      "execution_count": null,
      "outputs": []
    },
    {
      "cell_type": "markdown",
      "source": [
        "# Observaciones finales"
      ],
      "metadata": {
        "id": "1644EvyRQMft"
      }
    },
    {
      "cell_type": "markdown",
      "source": [
        "Aunque las métricas obtenidas no son del todo malas para el problema de clasificación, los resultados están lejos de ser los deseados para esta situación. Numerosas pruebas y ensayos con distintas configuraciones y arquitecturas motivaron la decisión de reemplazar esta actividad por la denominada \"Problema 2b\" por lo que se interrumpe la experimentación y se continúa el trabajo con el siguiente."
      ],
      "metadata": {
        "id": "i166I8u3QP6e"
      }
    }
  ],
  "metadata": {
    "language_info": {
      "name": "python"
    },
    "colab": {
      "provenance": [],
      "gpuType": "T4"
    },
    "kernelspec": {
      "name": "python3",
      "display_name": "Python 3"
    },
    "accelerator": "GPU",
    "widgets": {
      "application/vnd.jupyter.widget-state+json": {
        "5923faea53214f6682a415d283f2ebbb": {
          "model_module": "@jupyter-widgets/controls",
          "model_name": "HBoxModel",
          "model_module_version": "1.5.0",
          "state": {
            "_dom_classes": [],
            "_model_module": "@jupyter-widgets/controls",
            "_model_module_version": "1.5.0",
            "_model_name": "HBoxModel",
            "_view_count": null,
            "_view_module": "@jupyter-widgets/controls",
            "_view_module_version": "1.5.0",
            "_view_name": "HBoxView",
            "box_style": "",
            "children": [
              "IPY_MODEL_f1271f1fb99f4c838cb1c6da97df5b0f",
              "IPY_MODEL_cf7e305fedf54e45966dc3bae44aae83",
              "IPY_MODEL_3d63e0476b764896be93e0a31c59cf14"
            ],
            "layout": "IPY_MODEL_b1f88b4d37a24ae9b66857d587c609be"
          }
        },
        "f1271f1fb99f4c838cb1c6da97df5b0f": {
          "model_module": "@jupyter-widgets/controls",
          "model_name": "HTMLModel",
          "model_module_version": "1.5.0",
          "state": {
            "_dom_classes": [],
            "_model_module": "@jupyter-widgets/controls",
            "_model_module_version": "1.5.0",
            "_model_name": "HTMLModel",
            "_view_count": null,
            "_view_module": "@jupyter-widgets/controls",
            "_view_module_version": "1.5.0",
            "_view_name": "HTMLView",
            "description": "",
            "description_tooltip": null,
            "layout": "IPY_MODEL_6eae93b3d2604e1d9660d96ca59b1e3d",
            "placeholder": "​",
            "style": "IPY_MODEL_26a651c2dc7e4518857f2d3be70d0ac3",
            "value": "Dl Completed...: 100%"
          }
        },
        "cf7e305fedf54e45966dc3bae44aae83": {
          "model_module": "@jupyter-widgets/controls",
          "model_name": "FloatProgressModel",
          "model_module_version": "1.5.0",
          "state": {
            "_dom_classes": [],
            "_model_module": "@jupyter-widgets/controls",
            "_model_module_version": "1.5.0",
            "_model_name": "FloatProgressModel",
            "_view_count": null,
            "_view_module": "@jupyter-widgets/controls",
            "_view_module_version": "1.5.0",
            "_view_name": "ProgressView",
            "bar_style": "success",
            "description": "",
            "description_tooltip": null,
            "layout": "IPY_MODEL_a9141d9bba324e158d613719c3b3927f",
            "max": 1,
            "min": 0,
            "orientation": "horizontal",
            "style": "IPY_MODEL_162a2d7c47b546c18e46d31e263a0bfe",
            "value": 1
          }
        },
        "3d63e0476b764896be93e0a31c59cf14": {
          "model_module": "@jupyter-widgets/controls",
          "model_name": "HTMLModel",
          "model_module_version": "1.5.0",
          "state": {
            "_dom_classes": [],
            "_model_module": "@jupyter-widgets/controls",
            "_model_module_version": "1.5.0",
            "_model_name": "HTMLModel",
            "_view_count": null,
            "_view_module": "@jupyter-widgets/controls",
            "_view_module_version": "1.5.0",
            "_view_name": "HTMLView",
            "description": "",
            "description_tooltip": null,
            "layout": "IPY_MODEL_d78879638e094358b29c5f2104e61c01",
            "placeholder": "​",
            "style": "IPY_MODEL_65038b73a724485b8fcdec572cc425aa",
            "value": " 1/1 [00:16&lt;00:00, 16.30s/ url]"
          }
        },
        "b1f88b4d37a24ae9b66857d587c609be": {
          "model_module": "@jupyter-widgets/base",
          "model_name": "LayoutModel",
          "model_module_version": "1.2.0",
          "state": {
            "_model_module": "@jupyter-widgets/base",
            "_model_module_version": "1.2.0",
            "_model_name": "LayoutModel",
            "_view_count": null,
            "_view_module": "@jupyter-widgets/base",
            "_view_module_version": "1.2.0",
            "_view_name": "LayoutView",
            "align_content": null,
            "align_items": null,
            "align_self": null,
            "border": null,
            "bottom": null,
            "display": null,
            "flex": null,
            "flex_flow": null,
            "grid_area": null,
            "grid_auto_columns": null,
            "grid_auto_flow": null,
            "grid_auto_rows": null,
            "grid_column": null,
            "grid_gap": null,
            "grid_row": null,
            "grid_template_areas": null,
            "grid_template_columns": null,
            "grid_template_rows": null,
            "height": null,
            "justify_content": null,
            "justify_items": null,
            "left": null,
            "margin": null,
            "max_height": null,
            "max_width": null,
            "min_height": null,
            "min_width": null,
            "object_fit": null,
            "object_position": null,
            "order": null,
            "overflow": null,
            "overflow_x": null,
            "overflow_y": null,
            "padding": null,
            "right": null,
            "top": null,
            "visibility": null,
            "width": null
          }
        },
        "6eae93b3d2604e1d9660d96ca59b1e3d": {
          "model_module": "@jupyter-widgets/base",
          "model_name": "LayoutModel",
          "model_module_version": "1.2.0",
          "state": {
            "_model_module": "@jupyter-widgets/base",
            "_model_module_version": "1.2.0",
            "_model_name": "LayoutModel",
            "_view_count": null,
            "_view_module": "@jupyter-widgets/base",
            "_view_module_version": "1.2.0",
            "_view_name": "LayoutView",
            "align_content": null,
            "align_items": null,
            "align_self": null,
            "border": null,
            "bottom": null,
            "display": null,
            "flex": null,
            "flex_flow": null,
            "grid_area": null,
            "grid_auto_columns": null,
            "grid_auto_flow": null,
            "grid_auto_rows": null,
            "grid_column": null,
            "grid_gap": null,
            "grid_row": null,
            "grid_template_areas": null,
            "grid_template_columns": null,
            "grid_template_rows": null,
            "height": null,
            "justify_content": null,
            "justify_items": null,
            "left": null,
            "margin": null,
            "max_height": null,
            "max_width": null,
            "min_height": null,
            "min_width": null,
            "object_fit": null,
            "object_position": null,
            "order": null,
            "overflow": null,
            "overflow_x": null,
            "overflow_y": null,
            "padding": null,
            "right": null,
            "top": null,
            "visibility": null,
            "width": null
          }
        },
        "26a651c2dc7e4518857f2d3be70d0ac3": {
          "model_module": "@jupyter-widgets/controls",
          "model_name": "DescriptionStyleModel",
          "model_module_version": "1.5.0",
          "state": {
            "_model_module": "@jupyter-widgets/controls",
            "_model_module_version": "1.5.0",
            "_model_name": "DescriptionStyleModel",
            "_view_count": null,
            "_view_module": "@jupyter-widgets/base",
            "_view_module_version": "1.2.0",
            "_view_name": "StyleView",
            "description_width": ""
          }
        },
        "a9141d9bba324e158d613719c3b3927f": {
          "model_module": "@jupyter-widgets/base",
          "model_name": "LayoutModel",
          "model_module_version": "1.2.0",
          "state": {
            "_model_module": "@jupyter-widgets/base",
            "_model_module_version": "1.2.0",
            "_model_name": "LayoutModel",
            "_view_count": null,
            "_view_module": "@jupyter-widgets/base",
            "_view_module_version": "1.2.0",
            "_view_name": "LayoutView",
            "align_content": null,
            "align_items": null,
            "align_self": null,
            "border": null,
            "bottom": null,
            "display": null,
            "flex": null,
            "flex_flow": null,
            "grid_area": null,
            "grid_auto_columns": null,
            "grid_auto_flow": null,
            "grid_auto_rows": null,
            "grid_column": null,
            "grid_gap": null,
            "grid_row": null,
            "grid_template_areas": null,
            "grid_template_columns": null,
            "grid_template_rows": null,
            "height": null,
            "justify_content": null,
            "justify_items": null,
            "left": null,
            "margin": null,
            "max_height": null,
            "max_width": null,
            "min_height": null,
            "min_width": null,
            "object_fit": null,
            "object_position": null,
            "order": null,
            "overflow": null,
            "overflow_x": null,
            "overflow_y": null,
            "padding": null,
            "right": null,
            "top": null,
            "visibility": null,
            "width": "20px"
          }
        },
        "162a2d7c47b546c18e46d31e263a0bfe": {
          "model_module": "@jupyter-widgets/controls",
          "model_name": "ProgressStyleModel",
          "model_module_version": "1.5.0",
          "state": {
            "_model_module": "@jupyter-widgets/controls",
            "_model_module_version": "1.5.0",
            "_model_name": "ProgressStyleModel",
            "_view_count": null,
            "_view_module": "@jupyter-widgets/base",
            "_view_module_version": "1.2.0",
            "_view_name": "StyleView",
            "bar_color": null,
            "description_width": ""
          }
        },
        "d78879638e094358b29c5f2104e61c01": {
          "model_module": "@jupyter-widgets/base",
          "model_name": "LayoutModel",
          "model_module_version": "1.2.0",
          "state": {
            "_model_module": "@jupyter-widgets/base",
            "_model_module_version": "1.2.0",
            "_model_name": "LayoutModel",
            "_view_count": null,
            "_view_module": "@jupyter-widgets/base",
            "_view_module_version": "1.2.0",
            "_view_name": "LayoutView",
            "align_content": null,
            "align_items": null,
            "align_self": null,
            "border": null,
            "bottom": null,
            "display": null,
            "flex": null,
            "flex_flow": null,
            "grid_area": null,
            "grid_auto_columns": null,
            "grid_auto_flow": null,
            "grid_auto_rows": null,
            "grid_column": null,
            "grid_gap": null,
            "grid_row": null,
            "grid_template_areas": null,
            "grid_template_columns": null,
            "grid_template_rows": null,
            "height": null,
            "justify_content": null,
            "justify_items": null,
            "left": null,
            "margin": null,
            "max_height": null,
            "max_width": null,
            "min_height": null,
            "min_width": null,
            "object_fit": null,
            "object_position": null,
            "order": null,
            "overflow": null,
            "overflow_x": null,
            "overflow_y": null,
            "padding": null,
            "right": null,
            "top": null,
            "visibility": null,
            "width": null
          }
        },
        "65038b73a724485b8fcdec572cc425aa": {
          "model_module": "@jupyter-widgets/controls",
          "model_name": "DescriptionStyleModel",
          "model_module_version": "1.5.0",
          "state": {
            "_model_module": "@jupyter-widgets/controls",
            "_model_module_version": "1.5.0",
            "_model_name": "DescriptionStyleModel",
            "_view_count": null,
            "_view_module": "@jupyter-widgets/base",
            "_view_module_version": "1.2.0",
            "_view_name": "StyleView",
            "description_width": ""
          }
        },
        "ee625030445747baaea917438ca1a65a": {
          "model_module": "@jupyter-widgets/controls",
          "model_name": "HBoxModel",
          "model_module_version": "1.5.0",
          "state": {
            "_dom_classes": [],
            "_model_module": "@jupyter-widgets/controls",
            "_model_module_version": "1.5.0",
            "_model_name": "HBoxModel",
            "_view_count": null,
            "_view_module": "@jupyter-widgets/controls",
            "_view_module_version": "1.5.0",
            "_view_name": "HBoxView",
            "box_style": "",
            "children": [
              "IPY_MODEL_7b73a31cab524049a7acd6899116da93",
              "IPY_MODEL_b83dd7c475874ed0b2d937e182c7901c",
              "IPY_MODEL_ad26b3a3c696484788cf70f9cc74139c"
            ],
            "layout": "IPY_MODEL_dd9044d7c40141fdbc30e989eee12683"
          }
        },
        "7b73a31cab524049a7acd6899116da93": {
          "model_module": "@jupyter-widgets/controls",
          "model_name": "HTMLModel",
          "model_module_version": "1.5.0",
          "state": {
            "_dom_classes": [],
            "_model_module": "@jupyter-widgets/controls",
            "_model_module_version": "1.5.0",
            "_model_name": "HTMLModel",
            "_view_count": null,
            "_view_module": "@jupyter-widgets/controls",
            "_view_module_version": "1.5.0",
            "_view_name": "HTMLView",
            "description": "",
            "description_tooltip": null,
            "layout": "IPY_MODEL_4379af5e4cb84519bb8bc26ba8682c5e",
            "placeholder": "​",
            "style": "IPY_MODEL_bbfbc9622b9a40fd9cb02617570e3f66",
            "value": "Dl Size...: 100%"
          }
        },
        "b83dd7c475874ed0b2d937e182c7901c": {
          "model_module": "@jupyter-widgets/controls",
          "model_name": "FloatProgressModel",
          "model_module_version": "1.5.0",
          "state": {
            "_dom_classes": [],
            "_model_module": "@jupyter-widgets/controls",
            "_model_module_version": "1.5.0",
            "_model_name": "FloatProgressModel",
            "_view_count": null,
            "_view_module": "@jupyter-widgets/controls",
            "_view_module_version": "1.5.0",
            "_view_name": "ProgressView",
            "bar_style": "success",
            "description": "",
            "description_tooltip": null,
            "layout": "IPY_MODEL_c2f5b7dae1294079a82c40ede3ef99a5",
            "max": 1,
            "min": 0,
            "orientation": "horizontal",
            "style": "IPY_MODEL_8374f42224794cde98c23ca9ad41d3f7",
            "value": 1
          }
        },
        "ad26b3a3c696484788cf70f9cc74139c": {
          "model_module": "@jupyter-widgets/controls",
          "model_name": "HTMLModel",
          "model_module_version": "1.5.0",
          "state": {
            "_dom_classes": [],
            "_model_module": "@jupyter-widgets/controls",
            "_model_module_version": "1.5.0",
            "_model_name": "HTMLModel",
            "_view_count": null,
            "_view_module": "@jupyter-widgets/controls",
            "_view_module_version": "1.5.0",
            "_view_name": "HTMLView",
            "description": "",
            "description_tooltip": null,
            "layout": "IPY_MODEL_97702813753f40dfb4e42ac91a96eac0",
            "placeholder": "​",
            "style": "IPY_MODEL_d842a601c4d44773b47e5bf68363173d",
            "value": " 11/11 [00:16&lt;00:00, 15.48s/ MiB]"
          }
        },
        "dd9044d7c40141fdbc30e989eee12683": {
          "model_module": "@jupyter-widgets/base",
          "model_name": "LayoutModel",
          "model_module_version": "1.2.0",
          "state": {
            "_model_module": "@jupyter-widgets/base",
            "_model_module_version": "1.2.0",
            "_model_name": "LayoutModel",
            "_view_count": null,
            "_view_module": "@jupyter-widgets/base",
            "_view_module_version": "1.2.0",
            "_view_name": "LayoutView",
            "align_content": null,
            "align_items": null,
            "align_self": null,
            "border": null,
            "bottom": null,
            "display": null,
            "flex": null,
            "flex_flow": null,
            "grid_area": null,
            "grid_auto_columns": null,
            "grid_auto_flow": null,
            "grid_auto_rows": null,
            "grid_column": null,
            "grid_gap": null,
            "grid_row": null,
            "grid_template_areas": null,
            "grid_template_columns": null,
            "grid_template_rows": null,
            "height": null,
            "justify_content": null,
            "justify_items": null,
            "left": null,
            "margin": null,
            "max_height": null,
            "max_width": null,
            "min_height": null,
            "min_width": null,
            "object_fit": null,
            "object_position": null,
            "order": null,
            "overflow": null,
            "overflow_x": null,
            "overflow_y": null,
            "padding": null,
            "right": null,
            "top": null,
            "visibility": null,
            "width": null
          }
        },
        "4379af5e4cb84519bb8bc26ba8682c5e": {
          "model_module": "@jupyter-widgets/base",
          "model_name": "LayoutModel",
          "model_module_version": "1.2.0",
          "state": {
            "_model_module": "@jupyter-widgets/base",
            "_model_module_version": "1.2.0",
            "_model_name": "LayoutModel",
            "_view_count": null,
            "_view_module": "@jupyter-widgets/base",
            "_view_module_version": "1.2.0",
            "_view_name": "LayoutView",
            "align_content": null,
            "align_items": null,
            "align_self": null,
            "border": null,
            "bottom": null,
            "display": null,
            "flex": null,
            "flex_flow": null,
            "grid_area": null,
            "grid_auto_columns": null,
            "grid_auto_flow": null,
            "grid_auto_rows": null,
            "grid_column": null,
            "grid_gap": null,
            "grid_row": null,
            "grid_template_areas": null,
            "grid_template_columns": null,
            "grid_template_rows": null,
            "height": null,
            "justify_content": null,
            "justify_items": null,
            "left": null,
            "margin": null,
            "max_height": null,
            "max_width": null,
            "min_height": null,
            "min_width": null,
            "object_fit": null,
            "object_position": null,
            "order": null,
            "overflow": null,
            "overflow_x": null,
            "overflow_y": null,
            "padding": null,
            "right": null,
            "top": null,
            "visibility": null,
            "width": null
          }
        },
        "bbfbc9622b9a40fd9cb02617570e3f66": {
          "model_module": "@jupyter-widgets/controls",
          "model_name": "DescriptionStyleModel",
          "model_module_version": "1.5.0",
          "state": {
            "_model_module": "@jupyter-widgets/controls",
            "_model_module_version": "1.5.0",
            "_model_name": "DescriptionStyleModel",
            "_view_count": null,
            "_view_module": "@jupyter-widgets/base",
            "_view_module_version": "1.2.0",
            "_view_name": "StyleView",
            "description_width": ""
          }
        },
        "c2f5b7dae1294079a82c40ede3ef99a5": {
          "model_module": "@jupyter-widgets/base",
          "model_name": "LayoutModel",
          "model_module_version": "1.2.0",
          "state": {
            "_model_module": "@jupyter-widgets/base",
            "_model_module_version": "1.2.0",
            "_model_name": "LayoutModel",
            "_view_count": null,
            "_view_module": "@jupyter-widgets/base",
            "_view_module_version": "1.2.0",
            "_view_name": "LayoutView",
            "align_content": null,
            "align_items": null,
            "align_self": null,
            "border": null,
            "bottom": null,
            "display": null,
            "flex": null,
            "flex_flow": null,
            "grid_area": null,
            "grid_auto_columns": null,
            "grid_auto_flow": null,
            "grid_auto_rows": null,
            "grid_column": null,
            "grid_gap": null,
            "grid_row": null,
            "grid_template_areas": null,
            "grid_template_columns": null,
            "grid_template_rows": null,
            "height": null,
            "justify_content": null,
            "justify_items": null,
            "left": null,
            "margin": null,
            "max_height": null,
            "max_width": null,
            "min_height": null,
            "min_width": null,
            "object_fit": null,
            "object_position": null,
            "order": null,
            "overflow": null,
            "overflow_x": null,
            "overflow_y": null,
            "padding": null,
            "right": null,
            "top": null,
            "visibility": null,
            "width": "20px"
          }
        },
        "8374f42224794cde98c23ca9ad41d3f7": {
          "model_module": "@jupyter-widgets/controls",
          "model_name": "ProgressStyleModel",
          "model_module_version": "1.5.0",
          "state": {
            "_model_module": "@jupyter-widgets/controls",
            "_model_module_version": "1.5.0",
            "_model_name": "ProgressStyleModel",
            "_view_count": null,
            "_view_module": "@jupyter-widgets/base",
            "_view_module_version": "1.2.0",
            "_view_name": "StyleView",
            "bar_color": null,
            "description_width": ""
          }
        },
        "97702813753f40dfb4e42ac91a96eac0": {
          "model_module": "@jupyter-widgets/base",
          "model_name": "LayoutModel",
          "model_module_version": "1.2.0",
          "state": {
            "_model_module": "@jupyter-widgets/base",
            "_model_module_version": "1.2.0",
            "_model_name": "LayoutModel",
            "_view_count": null,
            "_view_module": "@jupyter-widgets/base",
            "_view_module_version": "1.2.0",
            "_view_name": "LayoutView",
            "align_content": null,
            "align_items": null,
            "align_self": null,
            "border": null,
            "bottom": null,
            "display": null,
            "flex": null,
            "flex_flow": null,
            "grid_area": null,
            "grid_auto_columns": null,
            "grid_auto_flow": null,
            "grid_auto_rows": null,
            "grid_column": null,
            "grid_gap": null,
            "grid_row": null,
            "grid_template_areas": null,
            "grid_template_columns": null,
            "grid_template_rows": null,
            "height": null,
            "justify_content": null,
            "justify_items": null,
            "left": null,
            "margin": null,
            "max_height": null,
            "max_width": null,
            "min_height": null,
            "min_width": null,
            "object_fit": null,
            "object_position": null,
            "order": null,
            "overflow": null,
            "overflow_x": null,
            "overflow_y": null,
            "padding": null,
            "right": null,
            "top": null,
            "visibility": null,
            "width": null
          }
        },
        "d842a601c4d44773b47e5bf68363173d": {
          "model_module": "@jupyter-widgets/controls",
          "model_name": "DescriptionStyleModel",
          "model_module_version": "1.5.0",
          "state": {
            "_model_module": "@jupyter-widgets/controls",
            "_model_module_version": "1.5.0",
            "_model_name": "DescriptionStyleModel",
            "_view_count": null,
            "_view_module": "@jupyter-widgets/base",
            "_view_module_version": "1.2.0",
            "_view_name": "StyleView",
            "description_width": ""
          }
        },
        "4c8d721fe0fe4aa4946bb46de461d325": {
          "model_module": "@jupyter-widgets/controls",
          "model_name": "HBoxModel",
          "model_module_version": "1.5.0",
          "state": {
            "_dom_classes": [],
            "_model_module": "@jupyter-widgets/controls",
            "_model_module_version": "1.5.0",
            "_model_name": "HBoxModel",
            "_view_count": null,
            "_view_module": "@jupyter-widgets/controls",
            "_view_module_version": "1.5.0",
            "_view_name": "HBoxView",
            "box_style": "",
            "children": [
              "IPY_MODEL_ce9e4be0d82243d9bd3d02f6b371ba39",
              "IPY_MODEL_a8d32286f09d44ad8d526637c53fb490",
              "IPY_MODEL_e3f940f647c246a281815c54482dd8be"
            ],
            "layout": "IPY_MODEL_eed3ca7498d348428acba942cf9a2213"
          }
        },
        "ce9e4be0d82243d9bd3d02f6b371ba39": {
          "model_module": "@jupyter-widgets/controls",
          "model_name": "HTMLModel",
          "model_module_version": "1.5.0",
          "state": {
            "_dom_classes": [],
            "_model_module": "@jupyter-widgets/controls",
            "_model_module_version": "1.5.0",
            "_model_name": "HTMLModel",
            "_view_count": null,
            "_view_module": "@jupyter-widgets/controls",
            "_view_module_version": "1.5.0",
            "_view_name": "HTMLView",
            "description": "",
            "description_tooltip": null,
            "layout": "IPY_MODEL_5dbcb04e719e4734b1de60c32365e6aa",
            "placeholder": "​",
            "style": "IPY_MODEL_a7ea57f1ee044f7da54ad10873de10e4",
            "value": "Extraction completed...: 100%"
          }
        },
        "a8d32286f09d44ad8d526637c53fb490": {
          "model_module": "@jupyter-widgets/controls",
          "model_name": "FloatProgressModel",
          "model_module_version": "1.5.0",
          "state": {
            "_dom_classes": [],
            "_model_module": "@jupyter-widgets/controls",
            "_model_module_version": "1.5.0",
            "_model_name": "FloatProgressModel",
            "_view_count": null,
            "_view_module": "@jupyter-widgets/controls",
            "_view_module_version": "1.5.0",
            "_view_name": "ProgressView",
            "bar_style": "success",
            "description": "",
            "description_tooltip": null,
            "layout": "IPY_MODEL_2e3b72337eba4bdc9e73f3e09823c783",
            "max": 1,
            "min": 0,
            "orientation": "horizontal",
            "style": "IPY_MODEL_c458783356eb4670959bef808a74a48d",
            "value": 1
          }
        },
        "e3f940f647c246a281815c54482dd8be": {
          "model_module": "@jupyter-widgets/controls",
          "model_name": "HTMLModel",
          "model_module_version": "1.5.0",
          "state": {
            "_dom_classes": [],
            "_model_module": "@jupyter-widgets/controls",
            "_model_module_version": "1.5.0",
            "_model_name": "HTMLModel",
            "_view_count": null,
            "_view_module": "@jupyter-widgets/controls",
            "_view_module_version": "1.5.0",
            "_view_name": "HTMLView",
            "description": "",
            "description_tooltip": null,
            "layout": "IPY_MODEL_d2513233a9d6488f9cac6c8440781a9f",
            "placeholder": "​",
            "style": "IPY_MODEL_8d16c384b8df46098e7f8cdd1eb992ea",
            "value": " 4/4 [00:16&lt;00:00, 16.52s/ file]"
          }
        },
        "eed3ca7498d348428acba942cf9a2213": {
          "model_module": "@jupyter-widgets/base",
          "model_name": "LayoutModel",
          "model_module_version": "1.2.0",
          "state": {
            "_model_module": "@jupyter-widgets/base",
            "_model_module_version": "1.2.0",
            "_model_name": "LayoutModel",
            "_view_count": null,
            "_view_module": "@jupyter-widgets/base",
            "_view_module_version": "1.2.0",
            "_view_name": "LayoutView",
            "align_content": null,
            "align_items": null,
            "align_self": null,
            "border": null,
            "bottom": null,
            "display": null,
            "flex": null,
            "flex_flow": null,
            "grid_area": null,
            "grid_auto_columns": null,
            "grid_auto_flow": null,
            "grid_auto_rows": null,
            "grid_column": null,
            "grid_gap": null,
            "grid_row": null,
            "grid_template_areas": null,
            "grid_template_columns": null,
            "grid_template_rows": null,
            "height": null,
            "justify_content": null,
            "justify_items": null,
            "left": null,
            "margin": null,
            "max_height": null,
            "max_width": null,
            "min_height": null,
            "min_width": null,
            "object_fit": null,
            "object_position": null,
            "order": null,
            "overflow": null,
            "overflow_x": null,
            "overflow_y": null,
            "padding": null,
            "right": null,
            "top": null,
            "visibility": null,
            "width": null
          }
        },
        "5dbcb04e719e4734b1de60c32365e6aa": {
          "model_module": "@jupyter-widgets/base",
          "model_name": "LayoutModel",
          "model_module_version": "1.2.0",
          "state": {
            "_model_module": "@jupyter-widgets/base",
            "_model_module_version": "1.2.0",
            "_model_name": "LayoutModel",
            "_view_count": null,
            "_view_module": "@jupyter-widgets/base",
            "_view_module_version": "1.2.0",
            "_view_name": "LayoutView",
            "align_content": null,
            "align_items": null,
            "align_self": null,
            "border": null,
            "bottom": null,
            "display": null,
            "flex": null,
            "flex_flow": null,
            "grid_area": null,
            "grid_auto_columns": null,
            "grid_auto_flow": null,
            "grid_auto_rows": null,
            "grid_column": null,
            "grid_gap": null,
            "grid_row": null,
            "grid_template_areas": null,
            "grid_template_columns": null,
            "grid_template_rows": null,
            "height": null,
            "justify_content": null,
            "justify_items": null,
            "left": null,
            "margin": null,
            "max_height": null,
            "max_width": null,
            "min_height": null,
            "min_width": null,
            "object_fit": null,
            "object_position": null,
            "order": null,
            "overflow": null,
            "overflow_x": null,
            "overflow_y": null,
            "padding": null,
            "right": null,
            "top": null,
            "visibility": null,
            "width": null
          }
        },
        "a7ea57f1ee044f7da54ad10873de10e4": {
          "model_module": "@jupyter-widgets/controls",
          "model_name": "DescriptionStyleModel",
          "model_module_version": "1.5.0",
          "state": {
            "_model_module": "@jupyter-widgets/controls",
            "_model_module_version": "1.5.0",
            "_model_name": "DescriptionStyleModel",
            "_view_count": null,
            "_view_module": "@jupyter-widgets/base",
            "_view_module_version": "1.2.0",
            "_view_name": "StyleView",
            "description_width": ""
          }
        },
        "2e3b72337eba4bdc9e73f3e09823c783": {
          "model_module": "@jupyter-widgets/base",
          "model_name": "LayoutModel",
          "model_module_version": "1.2.0",
          "state": {
            "_model_module": "@jupyter-widgets/base",
            "_model_module_version": "1.2.0",
            "_model_name": "LayoutModel",
            "_view_count": null,
            "_view_module": "@jupyter-widgets/base",
            "_view_module_version": "1.2.0",
            "_view_name": "LayoutView",
            "align_content": null,
            "align_items": null,
            "align_self": null,
            "border": null,
            "bottom": null,
            "display": null,
            "flex": null,
            "flex_flow": null,
            "grid_area": null,
            "grid_auto_columns": null,
            "grid_auto_flow": null,
            "grid_auto_rows": null,
            "grid_column": null,
            "grid_gap": null,
            "grid_row": null,
            "grid_template_areas": null,
            "grid_template_columns": null,
            "grid_template_rows": null,
            "height": null,
            "justify_content": null,
            "justify_items": null,
            "left": null,
            "margin": null,
            "max_height": null,
            "max_width": null,
            "min_height": null,
            "min_width": null,
            "object_fit": null,
            "object_position": null,
            "order": null,
            "overflow": null,
            "overflow_x": null,
            "overflow_y": null,
            "padding": null,
            "right": null,
            "top": null,
            "visibility": null,
            "width": "20px"
          }
        },
        "c458783356eb4670959bef808a74a48d": {
          "model_module": "@jupyter-widgets/controls",
          "model_name": "ProgressStyleModel",
          "model_module_version": "1.5.0",
          "state": {
            "_model_module": "@jupyter-widgets/controls",
            "_model_module_version": "1.5.0",
            "_model_name": "ProgressStyleModel",
            "_view_count": null,
            "_view_module": "@jupyter-widgets/base",
            "_view_module_version": "1.2.0",
            "_view_name": "StyleView",
            "bar_color": null,
            "description_width": ""
          }
        },
        "d2513233a9d6488f9cac6c8440781a9f": {
          "model_module": "@jupyter-widgets/base",
          "model_name": "LayoutModel",
          "model_module_version": "1.2.0",
          "state": {
            "_model_module": "@jupyter-widgets/base",
            "_model_module_version": "1.2.0",
            "_model_name": "LayoutModel",
            "_view_count": null,
            "_view_module": "@jupyter-widgets/base",
            "_view_module_version": "1.2.0",
            "_view_name": "LayoutView",
            "align_content": null,
            "align_items": null,
            "align_self": null,
            "border": null,
            "bottom": null,
            "display": null,
            "flex": null,
            "flex_flow": null,
            "grid_area": null,
            "grid_auto_columns": null,
            "grid_auto_flow": null,
            "grid_auto_rows": null,
            "grid_column": null,
            "grid_gap": null,
            "grid_row": null,
            "grid_template_areas": null,
            "grid_template_columns": null,
            "grid_template_rows": null,
            "height": null,
            "justify_content": null,
            "justify_items": null,
            "left": null,
            "margin": null,
            "max_height": null,
            "max_width": null,
            "min_height": null,
            "min_width": null,
            "object_fit": null,
            "object_position": null,
            "order": null,
            "overflow": null,
            "overflow_x": null,
            "overflow_y": null,
            "padding": null,
            "right": null,
            "top": null,
            "visibility": null,
            "width": null
          }
        },
        "8d16c384b8df46098e7f8cdd1eb992ea": {
          "model_module": "@jupyter-widgets/controls",
          "model_name": "DescriptionStyleModel",
          "model_module_version": "1.5.0",
          "state": {
            "_model_module": "@jupyter-widgets/controls",
            "_model_module_version": "1.5.0",
            "_model_name": "DescriptionStyleModel",
            "_view_count": null,
            "_view_module": "@jupyter-widgets/base",
            "_view_module_version": "1.2.0",
            "_view_name": "StyleView",
            "description_width": ""
          }
        },
        "5c39f0a0ed474b71ab5e5aded686bd19": {
          "model_module": "@jupyter-widgets/controls",
          "model_name": "HBoxModel",
          "model_module_version": "1.5.0",
          "state": {
            "_dom_classes": [],
            "_model_module": "@jupyter-widgets/controls",
            "_model_module_version": "1.5.0",
            "_model_name": "HBoxModel",
            "_view_count": null,
            "_view_module": "@jupyter-widgets/controls",
            "_view_module_version": "1.5.0",
            "_view_name": "HBoxView",
            "box_style": "",
            "children": [
              "IPY_MODEL_58aa79a3e3ed472dafd3ac68adb17149",
              "IPY_MODEL_b738d322311849868a2388419d0b5013",
              "IPY_MODEL_2dec12bd3ac440488a08f73f3c1eac43"
            ],
            "layout": "IPY_MODEL_ee25df0b0db04aba9777ff825473ab27"
          }
        },
        "58aa79a3e3ed472dafd3ac68adb17149": {
          "model_module": "@jupyter-widgets/controls",
          "model_name": "HTMLModel",
          "model_module_version": "1.5.0",
          "state": {
            "_dom_classes": [],
            "_model_module": "@jupyter-widgets/controls",
            "_model_module_version": "1.5.0",
            "_model_name": "HTMLModel",
            "_view_count": null,
            "_view_module": "@jupyter-widgets/controls",
            "_view_module_version": "1.5.0",
            "_view_name": "HTMLView",
            "description": "",
            "description_tooltip": null,
            "layout": "IPY_MODEL_7f1234ad262d4b2abcb846324bc57042",
            "placeholder": "​",
            "style": "IPY_MODEL_9f0f4e816d9d4f4482ea1d3dc5adb4d2",
            "value": "Generating splits...: 100%"
          }
        },
        "b738d322311849868a2388419d0b5013": {
          "model_module": "@jupyter-widgets/controls",
          "model_name": "FloatProgressModel",
          "model_module_version": "1.5.0",
          "state": {
            "_dom_classes": [],
            "_model_module": "@jupyter-widgets/controls",
            "_model_module_version": "1.5.0",
            "_model_name": "FloatProgressModel",
            "_view_count": null,
            "_view_module": "@jupyter-widgets/controls",
            "_view_module_version": "1.5.0",
            "_view_name": "ProgressView",
            "bar_style": "",
            "description": "",
            "description_tooltip": null,
            "layout": "IPY_MODEL_921a8ea24bc043a3a0f343dcb5b79923",
            "max": 2,
            "min": 0,
            "orientation": "horizontal",
            "style": "IPY_MODEL_8ec39119665f4f5088127d6c822db119",
            "value": 2
          }
        },
        "2dec12bd3ac440488a08f73f3c1eac43": {
          "model_module": "@jupyter-widgets/controls",
          "model_name": "HTMLModel",
          "model_module_version": "1.5.0",
          "state": {
            "_dom_classes": [],
            "_model_module": "@jupyter-widgets/controls",
            "_model_module_version": "1.5.0",
            "_model_name": "HTMLModel",
            "_view_count": null,
            "_view_module": "@jupyter-widgets/controls",
            "_view_module_version": "1.5.0",
            "_view_name": "HTMLView",
            "description": "",
            "description_tooltip": null,
            "layout": "IPY_MODEL_7ed1667dd3b24e08a9f4f1128901cd72",
            "placeholder": "​",
            "style": "IPY_MODEL_d21db6b2dc8b4461a3baf96f123c5e3e",
            "value": " 2/2 [00:12&lt;00:00,  5.38s/ splits]"
          }
        },
        "ee25df0b0db04aba9777ff825473ab27": {
          "model_module": "@jupyter-widgets/base",
          "model_name": "LayoutModel",
          "model_module_version": "1.2.0",
          "state": {
            "_model_module": "@jupyter-widgets/base",
            "_model_module_version": "1.2.0",
            "_model_name": "LayoutModel",
            "_view_count": null,
            "_view_module": "@jupyter-widgets/base",
            "_view_module_version": "1.2.0",
            "_view_name": "LayoutView",
            "align_content": null,
            "align_items": null,
            "align_self": null,
            "border": null,
            "bottom": null,
            "display": null,
            "flex": null,
            "flex_flow": null,
            "grid_area": null,
            "grid_auto_columns": null,
            "grid_auto_flow": null,
            "grid_auto_rows": null,
            "grid_column": null,
            "grid_gap": null,
            "grid_row": null,
            "grid_template_areas": null,
            "grid_template_columns": null,
            "grid_template_rows": null,
            "height": null,
            "justify_content": null,
            "justify_items": null,
            "left": null,
            "margin": null,
            "max_height": null,
            "max_width": null,
            "min_height": null,
            "min_width": null,
            "object_fit": null,
            "object_position": null,
            "order": null,
            "overflow": null,
            "overflow_x": null,
            "overflow_y": null,
            "padding": null,
            "right": null,
            "top": null,
            "visibility": "hidden",
            "width": null
          }
        },
        "7f1234ad262d4b2abcb846324bc57042": {
          "model_module": "@jupyter-widgets/base",
          "model_name": "LayoutModel",
          "model_module_version": "1.2.0",
          "state": {
            "_model_module": "@jupyter-widgets/base",
            "_model_module_version": "1.2.0",
            "_model_name": "LayoutModel",
            "_view_count": null,
            "_view_module": "@jupyter-widgets/base",
            "_view_module_version": "1.2.0",
            "_view_name": "LayoutView",
            "align_content": null,
            "align_items": null,
            "align_self": null,
            "border": null,
            "bottom": null,
            "display": null,
            "flex": null,
            "flex_flow": null,
            "grid_area": null,
            "grid_auto_columns": null,
            "grid_auto_flow": null,
            "grid_auto_rows": null,
            "grid_column": null,
            "grid_gap": null,
            "grid_row": null,
            "grid_template_areas": null,
            "grid_template_columns": null,
            "grid_template_rows": null,
            "height": null,
            "justify_content": null,
            "justify_items": null,
            "left": null,
            "margin": null,
            "max_height": null,
            "max_width": null,
            "min_height": null,
            "min_width": null,
            "object_fit": null,
            "object_position": null,
            "order": null,
            "overflow": null,
            "overflow_x": null,
            "overflow_y": null,
            "padding": null,
            "right": null,
            "top": null,
            "visibility": null,
            "width": null
          }
        },
        "9f0f4e816d9d4f4482ea1d3dc5adb4d2": {
          "model_module": "@jupyter-widgets/controls",
          "model_name": "DescriptionStyleModel",
          "model_module_version": "1.5.0",
          "state": {
            "_model_module": "@jupyter-widgets/controls",
            "_model_module_version": "1.5.0",
            "_model_name": "DescriptionStyleModel",
            "_view_count": null,
            "_view_module": "@jupyter-widgets/base",
            "_view_module_version": "1.2.0",
            "_view_name": "StyleView",
            "description_width": ""
          }
        },
        "921a8ea24bc043a3a0f343dcb5b79923": {
          "model_module": "@jupyter-widgets/base",
          "model_name": "LayoutModel",
          "model_module_version": "1.2.0",
          "state": {
            "_model_module": "@jupyter-widgets/base",
            "_model_module_version": "1.2.0",
            "_model_name": "LayoutModel",
            "_view_count": null,
            "_view_module": "@jupyter-widgets/base",
            "_view_module_version": "1.2.0",
            "_view_name": "LayoutView",
            "align_content": null,
            "align_items": null,
            "align_self": null,
            "border": null,
            "bottom": null,
            "display": null,
            "flex": null,
            "flex_flow": null,
            "grid_area": null,
            "grid_auto_columns": null,
            "grid_auto_flow": null,
            "grid_auto_rows": null,
            "grid_column": null,
            "grid_gap": null,
            "grid_row": null,
            "grid_template_areas": null,
            "grid_template_columns": null,
            "grid_template_rows": null,
            "height": null,
            "justify_content": null,
            "justify_items": null,
            "left": null,
            "margin": null,
            "max_height": null,
            "max_width": null,
            "min_height": null,
            "min_width": null,
            "object_fit": null,
            "object_position": null,
            "order": null,
            "overflow": null,
            "overflow_x": null,
            "overflow_y": null,
            "padding": null,
            "right": null,
            "top": null,
            "visibility": null,
            "width": null
          }
        },
        "8ec39119665f4f5088127d6c822db119": {
          "model_module": "@jupyter-widgets/controls",
          "model_name": "ProgressStyleModel",
          "model_module_version": "1.5.0",
          "state": {
            "_model_module": "@jupyter-widgets/controls",
            "_model_module_version": "1.5.0",
            "_model_name": "ProgressStyleModel",
            "_view_count": null,
            "_view_module": "@jupyter-widgets/base",
            "_view_module_version": "1.2.0",
            "_view_name": "StyleView",
            "bar_color": null,
            "description_width": ""
          }
        },
        "7ed1667dd3b24e08a9f4f1128901cd72": {
          "model_module": "@jupyter-widgets/base",
          "model_name": "LayoutModel",
          "model_module_version": "1.2.0",
          "state": {
            "_model_module": "@jupyter-widgets/base",
            "_model_module_version": "1.2.0",
            "_model_name": "LayoutModel",
            "_view_count": null,
            "_view_module": "@jupyter-widgets/base",
            "_view_module_version": "1.2.0",
            "_view_name": "LayoutView",
            "align_content": null,
            "align_items": null,
            "align_self": null,
            "border": null,
            "bottom": null,
            "display": null,
            "flex": null,
            "flex_flow": null,
            "grid_area": null,
            "grid_auto_columns": null,
            "grid_auto_flow": null,
            "grid_auto_rows": null,
            "grid_column": null,
            "grid_gap": null,
            "grid_row": null,
            "grid_template_areas": null,
            "grid_template_columns": null,
            "grid_template_rows": null,
            "height": null,
            "justify_content": null,
            "justify_items": null,
            "left": null,
            "margin": null,
            "max_height": null,
            "max_width": null,
            "min_height": null,
            "min_width": null,
            "object_fit": null,
            "object_position": null,
            "order": null,
            "overflow": null,
            "overflow_x": null,
            "overflow_y": null,
            "padding": null,
            "right": null,
            "top": null,
            "visibility": null,
            "width": null
          }
        },
        "d21db6b2dc8b4461a3baf96f123c5e3e": {
          "model_module": "@jupyter-widgets/controls",
          "model_name": "DescriptionStyleModel",
          "model_module_version": "1.5.0",
          "state": {
            "_model_module": "@jupyter-widgets/controls",
            "_model_module_version": "1.5.0",
            "_model_name": "DescriptionStyleModel",
            "_view_count": null,
            "_view_module": "@jupyter-widgets/base",
            "_view_module_version": "1.2.0",
            "_view_name": "StyleView",
            "description_width": ""
          }
        },
        "0d5fab2302e14218a9f2ca92c6e24bde": {
          "model_module": "@jupyter-widgets/controls",
          "model_name": "HBoxModel",
          "model_module_version": "1.5.0",
          "state": {
            "_dom_classes": [],
            "_model_module": "@jupyter-widgets/controls",
            "_model_module_version": "1.5.0",
            "_model_name": "HBoxModel",
            "_view_count": null,
            "_view_module": "@jupyter-widgets/controls",
            "_view_module_version": "1.5.0",
            "_view_name": "HBoxView",
            "box_style": "",
            "children": [
              "IPY_MODEL_fea8c9a870b94a158cc713c1003b1fca",
              "IPY_MODEL_e56dcbcc731148d19b80634aba5f1538",
              "IPY_MODEL_6176051ad2f54316afd96291ed776a1b"
            ],
            "layout": "IPY_MODEL_71a1b911e81847d2956d25a2a8700654"
          }
        },
        "fea8c9a870b94a158cc713c1003b1fca": {
          "model_module": "@jupyter-widgets/controls",
          "model_name": "HTMLModel",
          "model_module_version": "1.5.0",
          "state": {
            "_dom_classes": [],
            "_model_module": "@jupyter-widgets/controls",
            "_model_module_version": "1.5.0",
            "_model_name": "HTMLModel",
            "_view_count": null,
            "_view_module": "@jupyter-widgets/controls",
            "_view_module_version": "1.5.0",
            "_view_name": "HTMLView",
            "description": "",
            "description_tooltip": null,
            "layout": "IPY_MODEL_8e5dd6b5c2ad4831a4684d851250b258",
            "placeholder": "​",
            "style": "IPY_MODEL_e1acadd2daea4200999afce4a85baf76",
            "value": "Generating train examples...:  93%"
          }
        },
        "e56dcbcc731148d19b80634aba5f1538": {
          "model_module": "@jupyter-widgets/controls",
          "model_name": "FloatProgressModel",
          "model_module_version": "1.5.0",
          "state": {
            "_dom_classes": [],
            "_model_module": "@jupyter-widgets/controls",
            "_model_module_version": "1.5.0",
            "_model_name": "FloatProgressModel",
            "_view_count": null,
            "_view_module": "@jupyter-widgets/controls",
            "_view_module_version": "1.5.0",
            "_view_name": "ProgressView",
            "bar_style": "",
            "description": "",
            "description_tooltip": null,
            "layout": "IPY_MODEL_245a66d942174d67a199633271027604",
            "max": 120000,
            "min": 0,
            "orientation": "horizontal",
            "style": "IPY_MODEL_961e03f762074da69e4beeb7fd64ac99",
            "value": 120000
          }
        },
        "6176051ad2f54316afd96291ed776a1b": {
          "model_module": "@jupyter-widgets/controls",
          "model_name": "HTMLModel",
          "model_module_version": "1.5.0",
          "state": {
            "_dom_classes": [],
            "_model_module": "@jupyter-widgets/controls",
            "_model_module_version": "1.5.0",
            "_model_name": "HTMLModel",
            "_view_count": null,
            "_view_module": "@jupyter-widgets/controls",
            "_view_module_version": "1.5.0",
            "_view_name": "HTMLView",
            "description": "",
            "description_tooltip": null,
            "layout": "IPY_MODEL_c9ff0a4d563341089878e604956016e1",
            "placeholder": "​",
            "style": "IPY_MODEL_f163bfab9ac7409f8cc9cdcf662a65b1",
            "value": " 111416/120000 [00:10&lt;00:00, 10600.45 examples/s]"
          }
        },
        "71a1b911e81847d2956d25a2a8700654": {
          "model_module": "@jupyter-widgets/base",
          "model_name": "LayoutModel",
          "model_module_version": "1.2.0",
          "state": {
            "_model_module": "@jupyter-widgets/base",
            "_model_module_version": "1.2.0",
            "_model_name": "LayoutModel",
            "_view_count": null,
            "_view_module": "@jupyter-widgets/base",
            "_view_module_version": "1.2.0",
            "_view_name": "LayoutView",
            "align_content": null,
            "align_items": null,
            "align_self": null,
            "border": null,
            "bottom": null,
            "display": null,
            "flex": null,
            "flex_flow": null,
            "grid_area": null,
            "grid_auto_columns": null,
            "grid_auto_flow": null,
            "grid_auto_rows": null,
            "grid_column": null,
            "grid_gap": null,
            "grid_row": null,
            "grid_template_areas": null,
            "grid_template_columns": null,
            "grid_template_rows": null,
            "height": null,
            "justify_content": null,
            "justify_items": null,
            "left": null,
            "margin": null,
            "max_height": null,
            "max_width": null,
            "min_height": null,
            "min_width": null,
            "object_fit": null,
            "object_position": null,
            "order": null,
            "overflow": null,
            "overflow_x": null,
            "overflow_y": null,
            "padding": null,
            "right": null,
            "top": null,
            "visibility": "hidden",
            "width": null
          }
        },
        "8e5dd6b5c2ad4831a4684d851250b258": {
          "model_module": "@jupyter-widgets/base",
          "model_name": "LayoutModel",
          "model_module_version": "1.2.0",
          "state": {
            "_model_module": "@jupyter-widgets/base",
            "_model_module_version": "1.2.0",
            "_model_name": "LayoutModel",
            "_view_count": null,
            "_view_module": "@jupyter-widgets/base",
            "_view_module_version": "1.2.0",
            "_view_name": "LayoutView",
            "align_content": null,
            "align_items": null,
            "align_self": null,
            "border": null,
            "bottom": null,
            "display": null,
            "flex": null,
            "flex_flow": null,
            "grid_area": null,
            "grid_auto_columns": null,
            "grid_auto_flow": null,
            "grid_auto_rows": null,
            "grid_column": null,
            "grid_gap": null,
            "grid_row": null,
            "grid_template_areas": null,
            "grid_template_columns": null,
            "grid_template_rows": null,
            "height": null,
            "justify_content": null,
            "justify_items": null,
            "left": null,
            "margin": null,
            "max_height": null,
            "max_width": null,
            "min_height": null,
            "min_width": null,
            "object_fit": null,
            "object_position": null,
            "order": null,
            "overflow": null,
            "overflow_x": null,
            "overflow_y": null,
            "padding": null,
            "right": null,
            "top": null,
            "visibility": null,
            "width": null
          }
        },
        "e1acadd2daea4200999afce4a85baf76": {
          "model_module": "@jupyter-widgets/controls",
          "model_name": "DescriptionStyleModel",
          "model_module_version": "1.5.0",
          "state": {
            "_model_module": "@jupyter-widgets/controls",
            "_model_module_version": "1.5.0",
            "_model_name": "DescriptionStyleModel",
            "_view_count": null,
            "_view_module": "@jupyter-widgets/base",
            "_view_module_version": "1.2.0",
            "_view_name": "StyleView",
            "description_width": ""
          }
        },
        "245a66d942174d67a199633271027604": {
          "model_module": "@jupyter-widgets/base",
          "model_name": "LayoutModel",
          "model_module_version": "1.2.0",
          "state": {
            "_model_module": "@jupyter-widgets/base",
            "_model_module_version": "1.2.0",
            "_model_name": "LayoutModel",
            "_view_count": null,
            "_view_module": "@jupyter-widgets/base",
            "_view_module_version": "1.2.0",
            "_view_name": "LayoutView",
            "align_content": null,
            "align_items": null,
            "align_self": null,
            "border": null,
            "bottom": null,
            "display": null,
            "flex": null,
            "flex_flow": null,
            "grid_area": null,
            "grid_auto_columns": null,
            "grid_auto_flow": null,
            "grid_auto_rows": null,
            "grid_column": null,
            "grid_gap": null,
            "grid_row": null,
            "grid_template_areas": null,
            "grid_template_columns": null,
            "grid_template_rows": null,
            "height": null,
            "justify_content": null,
            "justify_items": null,
            "left": null,
            "margin": null,
            "max_height": null,
            "max_width": null,
            "min_height": null,
            "min_width": null,
            "object_fit": null,
            "object_position": null,
            "order": null,
            "overflow": null,
            "overflow_x": null,
            "overflow_y": null,
            "padding": null,
            "right": null,
            "top": null,
            "visibility": null,
            "width": null
          }
        },
        "961e03f762074da69e4beeb7fd64ac99": {
          "model_module": "@jupyter-widgets/controls",
          "model_name": "ProgressStyleModel",
          "model_module_version": "1.5.0",
          "state": {
            "_model_module": "@jupyter-widgets/controls",
            "_model_module_version": "1.5.0",
            "_model_name": "ProgressStyleModel",
            "_view_count": null,
            "_view_module": "@jupyter-widgets/base",
            "_view_module_version": "1.2.0",
            "_view_name": "StyleView",
            "bar_color": null,
            "description_width": ""
          }
        },
        "c9ff0a4d563341089878e604956016e1": {
          "model_module": "@jupyter-widgets/base",
          "model_name": "LayoutModel",
          "model_module_version": "1.2.0",
          "state": {
            "_model_module": "@jupyter-widgets/base",
            "_model_module_version": "1.2.0",
            "_model_name": "LayoutModel",
            "_view_count": null,
            "_view_module": "@jupyter-widgets/base",
            "_view_module_version": "1.2.0",
            "_view_name": "LayoutView",
            "align_content": null,
            "align_items": null,
            "align_self": null,
            "border": null,
            "bottom": null,
            "display": null,
            "flex": null,
            "flex_flow": null,
            "grid_area": null,
            "grid_auto_columns": null,
            "grid_auto_flow": null,
            "grid_auto_rows": null,
            "grid_column": null,
            "grid_gap": null,
            "grid_row": null,
            "grid_template_areas": null,
            "grid_template_columns": null,
            "grid_template_rows": null,
            "height": null,
            "justify_content": null,
            "justify_items": null,
            "left": null,
            "margin": null,
            "max_height": null,
            "max_width": null,
            "min_height": null,
            "min_width": null,
            "object_fit": null,
            "object_position": null,
            "order": null,
            "overflow": null,
            "overflow_x": null,
            "overflow_y": null,
            "padding": null,
            "right": null,
            "top": null,
            "visibility": null,
            "width": null
          }
        },
        "f163bfab9ac7409f8cc9cdcf662a65b1": {
          "model_module": "@jupyter-widgets/controls",
          "model_name": "DescriptionStyleModel",
          "model_module_version": "1.5.0",
          "state": {
            "_model_module": "@jupyter-widgets/controls",
            "_model_module_version": "1.5.0",
            "_model_name": "DescriptionStyleModel",
            "_view_count": null,
            "_view_module": "@jupyter-widgets/base",
            "_view_module_version": "1.2.0",
            "_view_name": "StyleView",
            "description_width": ""
          }
        },
        "78940ce01fda42a9977a1f98b587ab2c": {
          "model_module": "@jupyter-widgets/controls",
          "model_name": "HBoxModel",
          "model_module_version": "1.5.0",
          "state": {
            "_dom_classes": [],
            "_model_module": "@jupyter-widgets/controls",
            "_model_module_version": "1.5.0",
            "_model_name": "HBoxModel",
            "_view_count": null,
            "_view_module": "@jupyter-widgets/controls",
            "_view_module_version": "1.5.0",
            "_view_name": "HBoxView",
            "box_style": "",
            "children": [
              "IPY_MODEL_f7f61dddb5d94aa0b2e3f172470da7a6",
              "IPY_MODEL_c9e190b1137d4e2eb6bdb0646e5e4b21",
              "IPY_MODEL_ce1cd59bbdce4a318e1c212f1a26dd17"
            ],
            "layout": "IPY_MODEL_37741a8ebbce4b949148e5781618dc72"
          }
        },
        "f7f61dddb5d94aa0b2e3f172470da7a6": {
          "model_module": "@jupyter-widgets/controls",
          "model_name": "HTMLModel",
          "model_module_version": "1.5.0",
          "state": {
            "_dom_classes": [],
            "_model_module": "@jupyter-widgets/controls",
            "_model_module_version": "1.5.0",
            "_model_name": "HTMLModel",
            "_view_count": null,
            "_view_module": "@jupyter-widgets/controls",
            "_view_module_version": "1.5.0",
            "_view_name": "HTMLView",
            "description": "",
            "description_tooltip": null,
            "layout": "IPY_MODEL_46907ef1226444d78fb5944b03dff976",
            "placeholder": "​",
            "style": "IPY_MODEL_926e6805f0144a1a882796ef9bd08649",
            "value": "Shuffling /root/tensorflow_datasets/ag_news_subset/incomplete.LA14I7_1.0.0/ag_news_subset-train.tfrecord*...:   0%"
          }
        },
        "c9e190b1137d4e2eb6bdb0646e5e4b21": {
          "model_module": "@jupyter-widgets/controls",
          "model_name": "FloatProgressModel",
          "model_module_version": "1.5.0",
          "state": {
            "_dom_classes": [],
            "_model_module": "@jupyter-widgets/controls",
            "_model_module_version": "1.5.0",
            "_model_name": "FloatProgressModel",
            "_view_count": null,
            "_view_module": "@jupyter-widgets/controls",
            "_view_module_version": "1.5.0",
            "_view_name": "ProgressView",
            "bar_style": "",
            "description": "",
            "description_tooltip": null,
            "layout": "IPY_MODEL_acafc270b8c248fe8708da73ce36cbd3",
            "max": 120000,
            "min": 0,
            "orientation": "horizontal",
            "style": "IPY_MODEL_55dcc942439a4b7f94822a3715d72a05",
            "value": 120000
          }
        },
        "ce1cd59bbdce4a318e1c212f1a26dd17": {
          "model_module": "@jupyter-widgets/controls",
          "model_name": "HTMLModel",
          "model_module_version": "1.5.0",
          "state": {
            "_dom_classes": [],
            "_model_module": "@jupyter-widgets/controls",
            "_model_module_version": "1.5.0",
            "_model_name": "HTMLModel",
            "_view_count": null,
            "_view_module": "@jupyter-widgets/controls",
            "_view_module_version": "1.5.0",
            "_view_name": "HTMLView",
            "description": "",
            "description_tooltip": null,
            "layout": "IPY_MODEL_539e14f997314347bb2d70c49f6d574d",
            "placeholder": "​",
            "style": "IPY_MODEL_0a3f5302e9b14896a6ace7781fb34399",
            "value": " 0/120000 [00:00&lt;?, ? examples/s]"
          }
        },
        "37741a8ebbce4b949148e5781618dc72": {
          "model_module": "@jupyter-widgets/base",
          "model_name": "LayoutModel",
          "model_module_version": "1.2.0",
          "state": {
            "_model_module": "@jupyter-widgets/base",
            "_model_module_version": "1.2.0",
            "_model_name": "LayoutModel",
            "_view_count": null,
            "_view_module": "@jupyter-widgets/base",
            "_view_module_version": "1.2.0",
            "_view_name": "LayoutView",
            "align_content": null,
            "align_items": null,
            "align_self": null,
            "border": null,
            "bottom": null,
            "display": null,
            "flex": null,
            "flex_flow": null,
            "grid_area": null,
            "grid_auto_columns": null,
            "grid_auto_flow": null,
            "grid_auto_rows": null,
            "grid_column": null,
            "grid_gap": null,
            "grid_row": null,
            "grid_template_areas": null,
            "grid_template_columns": null,
            "grid_template_rows": null,
            "height": null,
            "justify_content": null,
            "justify_items": null,
            "left": null,
            "margin": null,
            "max_height": null,
            "max_width": null,
            "min_height": null,
            "min_width": null,
            "object_fit": null,
            "object_position": null,
            "order": null,
            "overflow": null,
            "overflow_x": null,
            "overflow_y": null,
            "padding": null,
            "right": null,
            "top": null,
            "visibility": "hidden",
            "width": null
          }
        },
        "46907ef1226444d78fb5944b03dff976": {
          "model_module": "@jupyter-widgets/base",
          "model_name": "LayoutModel",
          "model_module_version": "1.2.0",
          "state": {
            "_model_module": "@jupyter-widgets/base",
            "_model_module_version": "1.2.0",
            "_model_name": "LayoutModel",
            "_view_count": null,
            "_view_module": "@jupyter-widgets/base",
            "_view_module_version": "1.2.0",
            "_view_name": "LayoutView",
            "align_content": null,
            "align_items": null,
            "align_self": null,
            "border": null,
            "bottom": null,
            "display": null,
            "flex": null,
            "flex_flow": null,
            "grid_area": null,
            "grid_auto_columns": null,
            "grid_auto_flow": null,
            "grid_auto_rows": null,
            "grid_column": null,
            "grid_gap": null,
            "grid_row": null,
            "grid_template_areas": null,
            "grid_template_columns": null,
            "grid_template_rows": null,
            "height": null,
            "justify_content": null,
            "justify_items": null,
            "left": null,
            "margin": null,
            "max_height": null,
            "max_width": null,
            "min_height": null,
            "min_width": null,
            "object_fit": null,
            "object_position": null,
            "order": null,
            "overflow": null,
            "overflow_x": null,
            "overflow_y": null,
            "padding": null,
            "right": null,
            "top": null,
            "visibility": null,
            "width": null
          }
        },
        "926e6805f0144a1a882796ef9bd08649": {
          "model_module": "@jupyter-widgets/controls",
          "model_name": "DescriptionStyleModel",
          "model_module_version": "1.5.0",
          "state": {
            "_model_module": "@jupyter-widgets/controls",
            "_model_module_version": "1.5.0",
            "_model_name": "DescriptionStyleModel",
            "_view_count": null,
            "_view_module": "@jupyter-widgets/base",
            "_view_module_version": "1.2.0",
            "_view_name": "StyleView",
            "description_width": ""
          }
        },
        "acafc270b8c248fe8708da73ce36cbd3": {
          "model_module": "@jupyter-widgets/base",
          "model_name": "LayoutModel",
          "model_module_version": "1.2.0",
          "state": {
            "_model_module": "@jupyter-widgets/base",
            "_model_module_version": "1.2.0",
            "_model_name": "LayoutModel",
            "_view_count": null,
            "_view_module": "@jupyter-widgets/base",
            "_view_module_version": "1.2.0",
            "_view_name": "LayoutView",
            "align_content": null,
            "align_items": null,
            "align_self": null,
            "border": null,
            "bottom": null,
            "display": null,
            "flex": null,
            "flex_flow": null,
            "grid_area": null,
            "grid_auto_columns": null,
            "grid_auto_flow": null,
            "grid_auto_rows": null,
            "grid_column": null,
            "grid_gap": null,
            "grid_row": null,
            "grid_template_areas": null,
            "grid_template_columns": null,
            "grid_template_rows": null,
            "height": null,
            "justify_content": null,
            "justify_items": null,
            "left": null,
            "margin": null,
            "max_height": null,
            "max_width": null,
            "min_height": null,
            "min_width": null,
            "object_fit": null,
            "object_position": null,
            "order": null,
            "overflow": null,
            "overflow_x": null,
            "overflow_y": null,
            "padding": null,
            "right": null,
            "top": null,
            "visibility": null,
            "width": null
          }
        },
        "55dcc942439a4b7f94822a3715d72a05": {
          "model_module": "@jupyter-widgets/controls",
          "model_name": "ProgressStyleModel",
          "model_module_version": "1.5.0",
          "state": {
            "_model_module": "@jupyter-widgets/controls",
            "_model_module_version": "1.5.0",
            "_model_name": "ProgressStyleModel",
            "_view_count": null,
            "_view_module": "@jupyter-widgets/base",
            "_view_module_version": "1.2.0",
            "_view_name": "StyleView",
            "bar_color": null,
            "description_width": ""
          }
        },
        "539e14f997314347bb2d70c49f6d574d": {
          "model_module": "@jupyter-widgets/base",
          "model_name": "LayoutModel",
          "model_module_version": "1.2.0",
          "state": {
            "_model_module": "@jupyter-widgets/base",
            "_model_module_version": "1.2.0",
            "_model_name": "LayoutModel",
            "_view_count": null,
            "_view_module": "@jupyter-widgets/base",
            "_view_module_version": "1.2.0",
            "_view_name": "LayoutView",
            "align_content": null,
            "align_items": null,
            "align_self": null,
            "border": null,
            "bottom": null,
            "display": null,
            "flex": null,
            "flex_flow": null,
            "grid_area": null,
            "grid_auto_columns": null,
            "grid_auto_flow": null,
            "grid_auto_rows": null,
            "grid_column": null,
            "grid_gap": null,
            "grid_row": null,
            "grid_template_areas": null,
            "grid_template_columns": null,
            "grid_template_rows": null,
            "height": null,
            "justify_content": null,
            "justify_items": null,
            "left": null,
            "margin": null,
            "max_height": null,
            "max_width": null,
            "min_height": null,
            "min_width": null,
            "object_fit": null,
            "object_position": null,
            "order": null,
            "overflow": null,
            "overflow_x": null,
            "overflow_y": null,
            "padding": null,
            "right": null,
            "top": null,
            "visibility": null,
            "width": null
          }
        },
        "0a3f5302e9b14896a6ace7781fb34399": {
          "model_module": "@jupyter-widgets/controls",
          "model_name": "DescriptionStyleModel",
          "model_module_version": "1.5.0",
          "state": {
            "_model_module": "@jupyter-widgets/controls",
            "_model_module_version": "1.5.0",
            "_model_name": "DescriptionStyleModel",
            "_view_count": null,
            "_view_module": "@jupyter-widgets/base",
            "_view_module_version": "1.2.0",
            "_view_name": "StyleView",
            "description_width": ""
          }
        },
        "c72588be5a424f6eb1eccfbb01123ee2": {
          "model_module": "@jupyter-widgets/controls",
          "model_name": "HBoxModel",
          "model_module_version": "1.5.0",
          "state": {
            "_dom_classes": [],
            "_model_module": "@jupyter-widgets/controls",
            "_model_module_version": "1.5.0",
            "_model_name": "HBoxModel",
            "_view_count": null,
            "_view_module": "@jupyter-widgets/controls",
            "_view_module_version": "1.5.0",
            "_view_name": "HBoxView",
            "box_style": "",
            "children": [
              "IPY_MODEL_ac92a824398e460d986c1006a44c5160",
              "IPY_MODEL_0fee33179405441c9b11037531b1fa27",
              "IPY_MODEL_bb5b0a19ab7742b19f9c995e3a9a9aab"
            ],
            "layout": "IPY_MODEL_8629370f7b714495969ce4c0f43baefc"
          }
        },
        "ac92a824398e460d986c1006a44c5160": {
          "model_module": "@jupyter-widgets/controls",
          "model_name": "HTMLModel",
          "model_module_version": "1.5.0",
          "state": {
            "_dom_classes": [],
            "_model_module": "@jupyter-widgets/controls",
            "_model_module_version": "1.5.0",
            "_model_name": "HTMLModel",
            "_view_count": null,
            "_view_module": "@jupyter-widgets/controls",
            "_view_module_version": "1.5.0",
            "_view_name": "HTMLView",
            "description": "",
            "description_tooltip": null,
            "layout": "IPY_MODEL_a29020ebd3fd4b5ab392edc5c746a0be",
            "placeholder": "​",
            "style": "IPY_MODEL_dd15b0d965a2428280f01d27a17c1a46",
            "value": "Generating test examples...:   0%"
          }
        },
        "0fee33179405441c9b11037531b1fa27": {
          "model_module": "@jupyter-widgets/controls",
          "model_name": "FloatProgressModel",
          "model_module_version": "1.5.0",
          "state": {
            "_dom_classes": [],
            "_model_module": "@jupyter-widgets/controls",
            "_model_module_version": "1.5.0",
            "_model_name": "FloatProgressModel",
            "_view_count": null,
            "_view_module": "@jupyter-widgets/controls",
            "_view_module_version": "1.5.0",
            "_view_name": "ProgressView",
            "bar_style": "",
            "description": "",
            "description_tooltip": null,
            "layout": "IPY_MODEL_094db796ef7d4db2bcddeb68b13d6fab",
            "max": 7600,
            "min": 0,
            "orientation": "horizontal",
            "style": "IPY_MODEL_0cd68489709c4c0b90b549a769e7f4fb",
            "value": 7600
          }
        },
        "bb5b0a19ab7742b19f9c995e3a9a9aab": {
          "model_module": "@jupyter-widgets/controls",
          "model_name": "HTMLModel",
          "model_module_version": "1.5.0",
          "state": {
            "_dom_classes": [],
            "_model_module": "@jupyter-widgets/controls",
            "_model_module_version": "1.5.0",
            "_model_name": "HTMLModel",
            "_view_count": null,
            "_view_module": "@jupyter-widgets/controls",
            "_view_module_version": "1.5.0",
            "_view_name": "HTMLView",
            "description": "",
            "description_tooltip": null,
            "layout": "IPY_MODEL_1bcba8a7b002448082ef6e830ca50fc2",
            "placeholder": "​",
            "style": "IPY_MODEL_9aeaec3697674873b24630a1589b0aab",
            "value": " 0/7600 [00:00&lt;?, ? examples/s]"
          }
        },
        "8629370f7b714495969ce4c0f43baefc": {
          "model_module": "@jupyter-widgets/base",
          "model_name": "LayoutModel",
          "model_module_version": "1.2.0",
          "state": {
            "_model_module": "@jupyter-widgets/base",
            "_model_module_version": "1.2.0",
            "_model_name": "LayoutModel",
            "_view_count": null,
            "_view_module": "@jupyter-widgets/base",
            "_view_module_version": "1.2.0",
            "_view_name": "LayoutView",
            "align_content": null,
            "align_items": null,
            "align_self": null,
            "border": null,
            "bottom": null,
            "display": null,
            "flex": null,
            "flex_flow": null,
            "grid_area": null,
            "grid_auto_columns": null,
            "grid_auto_flow": null,
            "grid_auto_rows": null,
            "grid_column": null,
            "grid_gap": null,
            "grid_row": null,
            "grid_template_areas": null,
            "grid_template_columns": null,
            "grid_template_rows": null,
            "height": null,
            "justify_content": null,
            "justify_items": null,
            "left": null,
            "margin": null,
            "max_height": null,
            "max_width": null,
            "min_height": null,
            "min_width": null,
            "object_fit": null,
            "object_position": null,
            "order": null,
            "overflow": null,
            "overflow_x": null,
            "overflow_y": null,
            "padding": null,
            "right": null,
            "top": null,
            "visibility": "hidden",
            "width": null
          }
        },
        "a29020ebd3fd4b5ab392edc5c746a0be": {
          "model_module": "@jupyter-widgets/base",
          "model_name": "LayoutModel",
          "model_module_version": "1.2.0",
          "state": {
            "_model_module": "@jupyter-widgets/base",
            "_model_module_version": "1.2.0",
            "_model_name": "LayoutModel",
            "_view_count": null,
            "_view_module": "@jupyter-widgets/base",
            "_view_module_version": "1.2.0",
            "_view_name": "LayoutView",
            "align_content": null,
            "align_items": null,
            "align_self": null,
            "border": null,
            "bottom": null,
            "display": null,
            "flex": null,
            "flex_flow": null,
            "grid_area": null,
            "grid_auto_columns": null,
            "grid_auto_flow": null,
            "grid_auto_rows": null,
            "grid_column": null,
            "grid_gap": null,
            "grid_row": null,
            "grid_template_areas": null,
            "grid_template_columns": null,
            "grid_template_rows": null,
            "height": null,
            "justify_content": null,
            "justify_items": null,
            "left": null,
            "margin": null,
            "max_height": null,
            "max_width": null,
            "min_height": null,
            "min_width": null,
            "object_fit": null,
            "object_position": null,
            "order": null,
            "overflow": null,
            "overflow_x": null,
            "overflow_y": null,
            "padding": null,
            "right": null,
            "top": null,
            "visibility": null,
            "width": null
          }
        },
        "dd15b0d965a2428280f01d27a17c1a46": {
          "model_module": "@jupyter-widgets/controls",
          "model_name": "DescriptionStyleModel",
          "model_module_version": "1.5.0",
          "state": {
            "_model_module": "@jupyter-widgets/controls",
            "_model_module_version": "1.5.0",
            "_model_name": "DescriptionStyleModel",
            "_view_count": null,
            "_view_module": "@jupyter-widgets/base",
            "_view_module_version": "1.2.0",
            "_view_name": "StyleView",
            "description_width": ""
          }
        },
        "094db796ef7d4db2bcddeb68b13d6fab": {
          "model_module": "@jupyter-widgets/base",
          "model_name": "LayoutModel",
          "model_module_version": "1.2.0",
          "state": {
            "_model_module": "@jupyter-widgets/base",
            "_model_module_version": "1.2.0",
            "_model_name": "LayoutModel",
            "_view_count": null,
            "_view_module": "@jupyter-widgets/base",
            "_view_module_version": "1.2.0",
            "_view_name": "LayoutView",
            "align_content": null,
            "align_items": null,
            "align_self": null,
            "border": null,
            "bottom": null,
            "display": null,
            "flex": null,
            "flex_flow": null,
            "grid_area": null,
            "grid_auto_columns": null,
            "grid_auto_flow": null,
            "grid_auto_rows": null,
            "grid_column": null,
            "grid_gap": null,
            "grid_row": null,
            "grid_template_areas": null,
            "grid_template_columns": null,
            "grid_template_rows": null,
            "height": null,
            "justify_content": null,
            "justify_items": null,
            "left": null,
            "margin": null,
            "max_height": null,
            "max_width": null,
            "min_height": null,
            "min_width": null,
            "object_fit": null,
            "object_position": null,
            "order": null,
            "overflow": null,
            "overflow_x": null,
            "overflow_y": null,
            "padding": null,
            "right": null,
            "top": null,
            "visibility": null,
            "width": null
          }
        },
        "0cd68489709c4c0b90b549a769e7f4fb": {
          "model_module": "@jupyter-widgets/controls",
          "model_name": "ProgressStyleModel",
          "model_module_version": "1.5.0",
          "state": {
            "_model_module": "@jupyter-widgets/controls",
            "_model_module_version": "1.5.0",
            "_model_name": "ProgressStyleModel",
            "_view_count": null,
            "_view_module": "@jupyter-widgets/base",
            "_view_module_version": "1.2.0",
            "_view_name": "StyleView",
            "bar_color": null,
            "description_width": ""
          }
        },
        "1bcba8a7b002448082ef6e830ca50fc2": {
          "model_module": "@jupyter-widgets/base",
          "model_name": "LayoutModel",
          "model_module_version": "1.2.0",
          "state": {
            "_model_module": "@jupyter-widgets/base",
            "_model_module_version": "1.2.0",
            "_model_name": "LayoutModel",
            "_view_count": null,
            "_view_module": "@jupyter-widgets/base",
            "_view_module_version": "1.2.0",
            "_view_name": "LayoutView",
            "align_content": null,
            "align_items": null,
            "align_self": null,
            "border": null,
            "bottom": null,
            "display": null,
            "flex": null,
            "flex_flow": null,
            "grid_area": null,
            "grid_auto_columns": null,
            "grid_auto_flow": null,
            "grid_auto_rows": null,
            "grid_column": null,
            "grid_gap": null,
            "grid_row": null,
            "grid_template_areas": null,
            "grid_template_columns": null,
            "grid_template_rows": null,
            "height": null,
            "justify_content": null,
            "justify_items": null,
            "left": null,
            "margin": null,
            "max_height": null,
            "max_width": null,
            "min_height": null,
            "min_width": null,
            "object_fit": null,
            "object_position": null,
            "order": null,
            "overflow": null,
            "overflow_x": null,
            "overflow_y": null,
            "padding": null,
            "right": null,
            "top": null,
            "visibility": null,
            "width": null
          }
        },
        "9aeaec3697674873b24630a1589b0aab": {
          "model_module": "@jupyter-widgets/controls",
          "model_name": "DescriptionStyleModel",
          "model_module_version": "1.5.0",
          "state": {
            "_model_module": "@jupyter-widgets/controls",
            "_model_module_version": "1.5.0",
            "_model_name": "DescriptionStyleModel",
            "_view_count": null,
            "_view_module": "@jupyter-widgets/base",
            "_view_module_version": "1.2.0",
            "_view_name": "StyleView",
            "description_width": ""
          }
        },
        "4addfcc6f747412b9cd9b415e0c9b1e8": {
          "model_module": "@jupyter-widgets/controls",
          "model_name": "HBoxModel",
          "model_module_version": "1.5.0",
          "state": {
            "_dom_classes": [],
            "_model_module": "@jupyter-widgets/controls",
            "_model_module_version": "1.5.0",
            "_model_name": "HBoxModel",
            "_view_count": null,
            "_view_module": "@jupyter-widgets/controls",
            "_view_module_version": "1.5.0",
            "_view_name": "HBoxView",
            "box_style": "",
            "children": [
              "IPY_MODEL_5611cb0992734cf49b15ee7520431ac2",
              "IPY_MODEL_284590a90c1b418aa293629a7c5cc774",
              "IPY_MODEL_91e0f46173ef4069bab241f110996bf5"
            ],
            "layout": "IPY_MODEL_cb538cb764484a8c88739c41843538f2"
          }
        },
        "5611cb0992734cf49b15ee7520431ac2": {
          "model_module": "@jupyter-widgets/controls",
          "model_name": "HTMLModel",
          "model_module_version": "1.5.0",
          "state": {
            "_dom_classes": [],
            "_model_module": "@jupyter-widgets/controls",
            "_model_module_version": "1.5.0",
            "_model_name": "HTMLModel",
            "_view_count": null,
            "_view_module": "@jupyter-widgets/controls",
            "_view_module_version": "1.5.0",
            "_view_name": "HTMLView",
            "description": "",
            "description_tooltip": null,
            "layout": "IPY_MODEL_51b56b377a7c4706b4049338da8c4381",
            "placeholder": "​",
            "style": "IPY_MODEL_6f35d4103bd74e08bc6022cc99c831a2",
            "value": "Shuffling /root/tensorflow_datasets/ag_news_subset/incomplete.LA14I7_1.0.0/ag_news_subset-test.tfrecord*...:   0%"
          }
        },
        "284590a90c1b418aa293629a7c5cc774": {
          "model_module": "@jupyter-widgets/controls",
          "model_name": "FloatProgressModel",
          "model_module_version": "1.5.0",
          "state": {
            "_dom_classes": [],
            "_model_module": "@jupyter-widgets/controls",
            "_model_module_version": "1.5.0",
            "_model_name": "FloatProgressModel",
            "_view_count": null,
            "_view_module": "@jupyter-widgets/controls",
            "_view_module_version": "1.5.0",
            "_view_name": "ProgressView",
            "bar_style": "",
            "description": "",
            "description_tooltip": null,
            "layout": "IPY_MODEL_ed00636764144733afcd092083173a70",
            "max": 7600,
            "min": 0,
            "orientation": "horizontal",
            "style": "IPY_MODEL_7a8bd55b31454ab5967dc16ecd3839b3",
            "value": 7600
          }
        },
        "91e0f46173ef4069bab241f110996bf5": {
          "model_module": "@jupyter-widgets/controls",
          "model_name": "HTMLModel",
          "model_module_version": "1.5.0",
          "state": {
            "_dom_classes": [],
            "_model_module": "@jupyter-widgets/controls",
            "_model_module_version": "1.5.0",
            "_model_name": "HTMLModel",
            "_view_count": null,
            "_view_module": "@jupyter-widgets/controls",
            "_view_module_version": "1.5.0",
            "_view_name": "HTMLView",
            "description": "",
            "description_tooltip": null,
            "layout": "IPY_MODEL_a051bba76c4f425894187b7302e93577",
            "placeholder": "​",
            "style": "IPY_MODEL_6a5596122ffa40f89e5e80e926bfec91",
            "value": " 0/7600 [00:00&lt;?, ? examples/s]"
          }
        },
        "cb538cb764484a8c88739c41843538f2": {
          "model_module": "@jupyter-widgets/base",
          "model_name": "LayoutModel",
          "model_module_version": "1.2.0",
          "state": {
            "_model_module": "@jupyter-widgets/base",
            "_model_module_version": "1.2.0",
            "_model_name": "LayoutModel",
            "_view_count": null,
            "_view_module": "@jupyter-widgets/base",
            "_view_module_version": "1.2.0",
            "_view_name": "LayoutView",
            "align_content": null,
            "align_items": null,
            "align_self": null,
            "border": null,
            "bottom": null,
            "display": null,
            "flex": null,
            "flex_flow": null,
            "grid_area": null,
            "grid_auto_columns": null,
            "grid_auto_flow": null,
            "grid_auto_rows": null,
            "grid_column": null,
            "grid_gap": null,
            "grid_row": null,
            "grid_template_areas": null,
            "grid_template_columns": null,
            "grid_template_rows": null,
            "height": null,
            "justify_content": null,
            "justify_items": null,
            "left": null,
            "margin": null,
            "max_height": null,
            "max_width": null,
            "min_height": null,
            "min_width": null,
            "object_fit": null,
            "object_position": null,
            "order": null,
            "overflow": null,
            "overflow_x": null,
            "overflow_y": null,
            "padding": null,
            "right": null,
            "top": null,
            "visibility": "hidden",
            "width": null
          }
        },
        "51b56b377a7c4706b4049338da8c4381": {
          "model_module": "@jupyter-widgets/base",
          "model_name": "LayoutModel",
          "model_module_version": "1.2.0",
          "state": {
            "_model_module": "@jupyter-widgets/base",
            "_model_module_version": "1.2.0",
            "_model_name": "LayoutModel",
            "_view_count": null,
            "_view_module": "@jupyter-widgets/base",
            "_view_module_version": "1.2.0",
            "_view_name": "LayoutView",
            "align_content": null,
            "align_items": null,
            "align_self": null,
            "border": null,
            "bottom": null,
            "display": null,
            "flex": null,
            "flex_flow": null,
            "grid_area": null,
            "grid_auto_columns": null,
            "grid_auto_flow": null,
            "grid_auto_rows": null,
            "grid_column": null,
            "grid_gap": null,
            "grid_row": null,
            "grid_template_areas": null,
            "grid_template_columns": null,
            "grid_template_rows": null,
            "height": null,
            "justify_content": null,
            "justify_items": null,
            "left": null,
            "margin": null,
            "max_height": null,
            "max_width": null,
            "min_height": null,
            "min_width": null,
            "object_fit": null,
            "object_position": null,
            "order": null,
            "overflow": null,
            "overflow_x": null,
            "overflow_y": null,
            "padding": null,
            "right": null,
            "top": null,
            "visibility": null,
            "width": null
          }
        },
        "6f35d4103bd74e08bc6022cc99c831a2": {
          "model_module": "@jupyter-widgets/controls",
          "model_name": "DescriptionStyleModel",
          "model_module_version": "1.5.0",
          "state": {
            "_model_module": "@jupyter-widgets/controls",
            "_model_module_version": "1.5.0",
            "_model_name": "DescriptionStyleModel",
            "_view_count": null,
            "_view_module": "@jupyter-widgets/base",
            "_view_module_version": "1.2.0",
            "_view_name": "StyleView",
            "description_width": ""
          }
        },
        "ed00636764144733afcd092083173a70": {
          "model_module": "@jupyter-widgets/base",
          "model_name": "LayoutModel",
          "model_module_version": "1.2.0",
          "state": {
            "_model_module": "@jupyter-widgets/base",
            "_model_module_version": "1.2.0",
            "_model_name": "LayoutModel",
            "_view_count": null,
            "_view_module": "@jupyter-widgets/base",
            "_view_module_version": "1.2.0",
            "_view_name": "LayoutView",
            "align_content": null,
            "align_items": null,
            "align_self": null,
            "border": null,
            "bottom": null,
            "display": null,
            "flex": null,
            "flex_flow": null,
            "grid_area": null,
            "grid_auto_columns": null,
            "grid_auto_flow": null,
            "grid_auto_rows": null,
            "grid_column": null,
            "grid_gap": null,
            "grid_row": null,
            "grid_template_areas": null,
            "grid_template_columns": null,
            "grid_template_rows": null,
            "height": null,
            "justify_content": null,
            "justify_items": null,
            "left": null,
            "margin": null,
            "max_height": null,
            "max_width": null,
            "min_height": null,
            "min_width": null,
            "object_fit": null,
            "object_position": null,
            "order": null,
            "overflow": null,
            "overflow_x": null,
            "overflow_y": null,
            "padding": null,
            "right": null,
            "top": null,
            "visibility": null,
            "width": null
          }
        },
        "7a8bd55b31454ab5967dc16ecd3839b3": {
          "model_module": "@jupyter-widgets/controls",
          "model_name": "ProgressStyleModel",
          "model_module_version": "1.5.0",
          "state": {
            "_model_module": "@jupyter-widgets/controls",
            "_model_module_version": "1.5.0",
            "_model_name": "ProgressStyleModel",
            "_view_count": null,
            "_view_module": "@jupyter-widgets/base",
            "_view_module_version": "1.2.0",
            "_view_name": "StyleView",
            "bar_color": null,
            "description_width": ""
          }
        },
        "a051bba76c4f425894187b7302e93577": {
          "model_module": "@jupyter-widgets/base",
          "model_name": "LayoutModel",
          "model_module_version": "1.2.0",
          "state": {
            "_model_module": "@jupyter-widgets/base",
            "_model_module_version": "1.2.0",
            "_model_name": "LayoutModel",
            "_view_count": null,
            "_view_module": "@jupyter-widgets/base",
            "_view_module_version": "1.2.0",
            "_view_name": "LayoutView",
            "align_content": null,
            "align_items": null,
            "align_self": null,
            "border": null,
            "bottom": null,
            "display": null,
            "flex": null,
            "flex_flow": null,
            "grid_area": null,
            "grid_auto_columns": null,
            "grid_auto_flow": null,
            "grid_auto_rows": null,
            "grid_column": null,
            "grid_gap": null,
            "grid_row": null,
            "grid_template_areas": null,
            "grid_template_columns": null,
            "grid_template_rows": null,
            "height": null,
            "justify_content": null,
            "justify_items": null,
            "left": null,
            "margin": null,
            "max_height": null,
            "max_width": null,
            "min_height": null,
            "min_width": null,
            "object_fit": null,
            "object_position": null,
            "order": null,
            "overflow": null,
            "overflow_x": null,
            "overflow_y": null,
            "padding": null,
            "right": null,
            "top": null,
            "visibility": null,
            "width": null
          }
        },
        "6a5596122ffa40f89e5e80e926bfec91": {
          "model_module": "@jupyter-widgets/controls",
          "model_name": "DescriptionStyleModel",
          "model_module_version": "1.5.0",
          "state": {
            "_model_module": "@jupyter-widgets/controls",
            "_model_module_version": "1.5.0",
            "_model_name": "DescriptionStyleModel",
            "_view_count": null,
            "_view_module": "@jupyter-widgets/base",
            "_view_module_version": "1.2.0",
            "_view_name": "StyleView",
            "description_width": ""
          }
        }
      }
    }
  },
  "nbformat": 4,
  "nbformat_minor": 0
}
{
  "cells": [
    {
      "cell_type": "markdown",
      "metadata": {
        "id": "C8Od_T5GdyjY"
      },
      "source": [
        "# TUIA / AAII - TP2: Redes Recurrentes y Transformers - Problema 2"
      ]
    },
    {
      "cell_type": "markdown",
      "source": [
        "> *Modelo de generación de textos basados en RNN para escribir noticias falsas.*\n"
      ],
      "metadata": {
        "id": "69eHLYkniLlg"
      }
    },
    {
      "cell_type": "markdown",
      "source": [
        "# Procedimientos Previos"
      ],
      "metadata": {
        "id": "3JV-PUS78U96"
      }
    },
    {
      "cell_type": "markdown",
      "metadata": {
        "id": "MXq1dxCRdyjd"
      },
      "source": [
        "## Preparación del entorno"
      ]
    },
    {
      "cell_type": "markdown",
      "metadata": {
        "id": "-CEewbUPdyje"
      },
      "source": [
        "### Librerías"
      ]
    },
    {
      "cell_type": "code",
      "source": [
        "# Data\n",
        "import os\n",
        "import time\n",
        "import pathlib\n",
        "from pathlib import Path\n",
        "import numpy as np\n",
        "import pickle\n",
        "\n",
        "# Visualizaciones\n",
        "import matplotlib.pyplot as plt\n",
        "import seaborn as sns\n",
        "from IPython import display\n",
        "import plotly.graph_objects as go\n",
        "\n",
        "# Lenguaje Natural\n",
        "import nltk\n",
        "from nltk.corpus import stopwords\n",
        "from nltk.tokenize import word_tokenize, sent_tokenize\n",
        "from nltk.stem import WordNetLemmatizer\n",
        "from collections import Counter\n",
        "import string\n",
        "\n",
        "# Redes Neuronales\n",
        "import tensorflow as tf\n",
        "import tensorflow_datasets as tfds\n",
        "from tensorflow.keras import layers, models\n",
        "# from tensorflow.keras.models import Sequential, load_model, save_model\n",
        "# from tensorflow.keras.layers import Dense, Input, Dropout\n",
        "# from tensorflow.keras.layers import LSTM\n",
        "\n",
        "# Semillas para reproductibilidad\n",
        "seed = 42\n",
        "tf.random.set_seed(seed)\n",
        "np.random.seed(seed)"
      ],
      "metadata": {
        "id": "ok2KatpQjgdN"
      },
      "execution_count": 1,
      "outputs": []
    },
    {
      "cell_type": "code",
      "source": [
        "# Descargar recursos de nltk\n",
        "nltk.download('punkt')\n",
        "nltk.download('stopwords')"
      ],
      "metadata": {
        "id": "NrYY8JiYHOb5",
        "outputId": "69636c09-6865-4113-f13e-43d537a84dca",
        "colab": {
          "base_uri": "https://localhost:8080/"
        }
      },
      "execution_count": 2,
      "outputs": [
        {
          "output_type": "stream",
          "name": "stderr",
          "text": [
            "[nltk_data] Downloading package punkt to /root/nltk_data...\n",
            "[nltk_data]   Unzipping tokenizers/punkt.zip.\n",
            "[nltk_data] Downloading package stopwords to /root/nltk_data...\n",
            "[nltk_data]   Unzipping corpora/stopwords.zip.\n"
          ]
        },
        {
          "output_type": "execute_result",
          "data": {
            "text/plain": [
              "True"
            ]
          },
          "metadata": {},
          "execution_count": 2
        }
      ]
    },
    {
      "cell_type": "markdown",
      "source": [
        "### GPU"
      ],
      "metadata": {
        "id": "tvjTESHY8QXo"
      }
    },
    {
      "cell_type": "code",
      "source": [
        "# Configurar para que TensorFlow utilice la GPU por defecto\n",
        "gpus = tf.config.experimental.list_physical_devices('GPU')\n",
        "if gpus:\n",
        "    try:\n",
        "        # Configurar para que TensorFlow asigne memoria dinámicamente\n",
        "        for gpu in gpus:\n",
        "            tf.config.experimental.set_memory_growth(gpu, True)\n",
        "        # Especificar la GPU por defecto\n",
        "        logical_gpus = tf.config.experimental.list_logical_devices('GPU')\n",
        "        print(len(gpus), \"Physical GPUs,\", len(logical_gpus), \"Logical GPUs\")\n",
        "    except RuntimeError as e:\n",
        "        # Manejar error\n",
        "        print(e)"
      ],
      "metadata": {
        "id": "-LAFKo3Jj5FQ",
        "outputId": "db6b1e4f-eb85-484e-dc72-00ffd6e77629",
        "colab": {
          "base_uri": "https://localhost:8080/"
        }
      },
      "execution_count": 3,
      "outputs": [
        {
          "output_type": "stream",
          "name": "stdout",
          "text": [
            "1 Physical GPUs, 1 Logical GPUs\n"
          ]
        }
      ]
    },
    {
      "cell_type": "markdown",
      "metadata": {
        "id": "Ale6vYoxdyjg"
      },
      "source": [
        "## Dataset"
      ]
    },
    {
      "cell_type": "markdown",
      "source": [
        "El dataset proporcionado incluye 120000 artículos correspondientes a 4 categorías distintas. En este caso, la categoría no es relevante, sólo utilizaremos el dataset como un cuerpo de texto para entrenar un modelo recurrente de generación de texto.\n",
        "https://www.tensorflow.org/datasets/catalog/ag_news_subset"
      ],
      "metadata": {
        "id": "QraPRh1ll_zs"
      }
    },
    {
      "cell_type": "markdown",
      "metadata": {
        "id": "7xbm8SZedyjh"
      },
      "source": [
        "### Descarga"
      ]
    },
    {
      "cell_type": "code",
      "source": [
        "# Cargar el dataset ag_news\n",
        "df, info = tfds.load('ag_news_subset', with_info=True, as_supervised=True)"
      ],
      "metadata": {
        "id": "anCLZkLbsdjI",
        "outputId": "e0d6b05f-fe19-4a04-db37-6d2a72a1421d",
        "colab": {
          "base_uri": "https://localhost:8080/",
          "height": 168,
          "referenced_widgets": [
            "6631ac1bf8f84eaeba3fdc69fdbc5df6",
            "a2731eab1ce64b70adb075398d5dfd1a",
            "23933bf707e744bd8cbe46ce319a4e5e",
            "0ca2ebd44bbc4e33bc303d21543bf516",
            "b0b39369c68746ac9d7b75640e58da80",
            "1cb16c2a3022409394d2c48ab3e150c8",
            "858bbb42088d45228431665c803e153a",
            "cca7c117c79a453ba48b30d6f0dfd40e",
            "6c8196b749024638b4545691d3f89d48",
            "409e37c7945c441c9cb802861820cc40",
            "a612ca3a1db6417d9b8bf2f1bfa65269",
            "85257dc4340743b89673c2319d7cf0f9",
            "439f99e7697d433cba5fc3d467f5aeee",
            "e0bf09757224418290887dfeb4a2af8a",
            "ed55dd4fd92d4f3783f4c7c2a357db60",
            "95bc134e495f4064bf40d58ec0c504b9",
            "262440669ab94c8ab91770aa448c1419",
            "d0202aa6e97c4bc68834bdfa5f54743e",
            "a81876d24a5e4f5eb975fba31347ead2",
            "eb471b80d2a04c8f85d9d9aae57d38ec",
            "5b09c0c529db4321ac6246f7557c109a",
            "fc66867b2be14bef9752d60d98935af7",
            "6075f209b400417e865ef2136f286f6c",
            "5b9adfed25f740f9a850828a0d9e787f",
            "da83ee15801243a7ba39693101f9f2c0",
            "ee125cd7eef54cdbbf2ef0c958449909",
            "dd93ea3e9e4d4ceba590282fbfc1a84c",
            "e947f9a723f44effb3b93eee464d7af2",
            "f9721447b22a48dd81e60940f36f23a3",
            "72c6b4c29a804b2f96f4edcf3b2888d0",
            "3dbf743c6c8c4cbba77a357ceaccd2e1",
            "8292ce1a998042be9922a9e3af41f4f3",
            "7df3c28d063e42f49f224e45110b2595",
            "a156618e3ee54c01adb8353ab0d06200",
            "382a5b29c914460caa00dd587c2c2482",
            "4bc294d6a4554bf69c3145d35126a2f5",
            "84d0a986927845609593b8708b85e5a6",
            "ea2730aa07c3481cb3d5afc8da27181d",
            "73829d8207a74b698d0d02ec86062ea8",
            "b3565968f3504c7fa984ff3d9ac412a5",
            "49eb8e28be4240e785b761abd2fbf710",
            "216d25929e9644418f8b8e10e027a3e6",
            "bfe34fbf10e343b983f141ad8fc00c9c",
            "5bb0c1549ac34ee09637c10c5aacb3c2",
            "53ec5185009d408da8d4da237a9b0198",
            "46dbdf972bf242a3964d0b6f39b6bad1",
            "7e4574f4628741ec8a39a2e5fbab235f",
            "8cb69c09705c4d869874b5b839271d4c",
            "52b8318505db481c98fe22be28111652",
            "039e2d7377854ae8b4ab6c913d5ce7d1",
            "e32e1fa6e1be40d2895b5a4645bc4742",
            "03ad5ce93f3d4f2f8095e6db54bb9b0b",
            "658597dd458f46c5aa983d3ab3358e19",
            "35cca4e55b1441f9a4e8e6f078d9817d",
            "cec5e29eaac64ec8b37545f3d385f008",
            "2ed1d39075654fc882fdfdf143cfe1fa",
            "0d59ca3ac2b74a1a869d7a44a7a2a37b",
            "a7213214b22f4ec1b7d2e1e4a9f1cc82",
            "808ba550a9c64d31862aa069797691d0",
            "a7573e85a68f476f8c3a2256a8286b9e",
            "c1498aeec7b9458c9a16976f5c5a9fe0",
            "d4765ddb0620487e9dd8ca6e7716c11f",
            "bf50669351f44ab1b3a367c2e1ab4880",
            "5aabc0bddd99434eacf13875387a34d8",
            "029940bfb7774bf3837480d704d06b63",
            "bb1b12eb432b4dd383f6e5c5b19f9445",
            "87ace2ae58144c79992760c03fb3693b",
            "5b850c822b2a48db9aeed9c6f88dccaa",
            "440fe10f6da644bfb304bae91a03f2e0",
            "12c114a2ac8c4ffd88fac1f681f3aaa4",
            "86792eb9dc974e95a4d941aa2a19573a",
            "5b0d5a6f5e054614a19728d4edbbf377",
            "1af090c6f16c471498c0377284049388",
            "7e47f2b3112243249817bdea30538331",
            "6f93c7e4be094708926e327f703fc897",
            "11904289e357487f9eba433f35358ad9",
            "1221bbd90f76484bb891c6c8d6d460cf",
            "8e233533d138496c8c05ed1df8eea505",
            "c86376710fe049328c21a4a06547191c",
            "9a3ed5b951c5406aae09856c0645e66e",
            "6a87ad80e7dc429a8e8ce29a1094e355",
            "2a196fc81da9458bb944d24d0aa76c8b",
            "89f8787e9c02465ca81530e5feb05186",
            "bb9e1d1b6b8549f1b570fff26a8de9f9",
            "63d548fc1b2844aca122b234f9d5c598",
            "770ead86f3ca4d358fac8a72960013e2",
            "c30ef13f71e749a09384f99a095e46ee",
            "ea8107d6c6b44b1896c1352600ba063c"
          ]
        }
      },
      "execution_count": 3,
      "outputs": [
        {
          "output_type": "stream",
          "name": "stdout",
          "text": [
            "Downloading and preparing dataset 11.24 MiB (download: 11.24 MiB, generated: 35.79 MiB, total: 47.03 MiB) to /root/tensorflow_datasets/ag_news_subset/1.0.0...\n"
          ]
        },
        {
          "output_type": "display_data",
          "data": {
            "text/plain": [
              "Dl Completed...: 0 url [00:00, ? url/s]"
            ],
            "application/vnd.jupyter.widget-view+json": {
              "version_major": 2,
              "version_minor": 0,
              "model_id": "6631ac1bf8f84eaeba3fdc69fdbc5df6"
            }
          },
          "metadata": {}
        },
        {
          "output_type": "display_data",
          "data": {
            "text/plain": [
              "Dl Size...: 0 MiB [00:00, ? MiB/s]"
            ],
            "application/vnd.jupyter.widget-view+json": {
              "version_major": 2,
              "version_minor": 0,
              "model_id": "85257dc4340743b89673c2319d7cf0f9"
            }
          },
          "metadata": {}
        },
        {
          "output_type": "display_data",
          "data": {
            "text/plain": [
              "Extraction completed...: 0 file [00:00, ? file/s]"
            ],
            "application/vnd.jupyter.widget-view+json": {
              "version_major": 2,
              "version_minor": 0,
              "model_id": "6075f209b400417e865ef2136f286f6c"
            }
          },
          "metadata": {}
        },
        {
          "output_type": "display_data",
          "data": {
            "text/plain": [
              "Generating splits...:   0%|          | 0/2 [00:00<?, ? splits/s]"
            ],
            "application/vnd.jupyter.widget-view+json": {
              "version_major": 2,
              "version_minor": 0,
              "model_id": "a156618e3ee54c01adb8353ab0d06200"
            }
          },
          "metadata": {}
        },
        {
          "output_type": "display_data",
          "data": {
            "text/plain": [
              "Generating train examples...:   0%|          | 0/120000 [00:00<?, ? examples/s]"
            ],
            "application/vnd.jupyter.widget-view+json": {
              "version_major": 2,
              "version_minor": 0,
              "model_id": "53ec5185009d408da8d4da237a9b0198"
            }
          },
          "metadata": {}
        },
        {
          "output_type": "display_data",
          "data": {
            "text/plain": [
              "Shuffling /root/tensorflow_datasets/ag_news_subset/incomplete.CKXV5F_1.0.0/ag_news_subset-train.tfrecord*...: …"
            ],
            "application/vnd.jupyter.widget-view+json": {
              "version_major": 2,
              "version_minor": 0,
              "model_id": "2ed1d39075654fc882fdfdf143cfe1fa"
            }
          },
          "metadata": {}
        },
        {
          "output_type": "display_data",
          "data": {
            "text/plain": [
              "Generating test examples...:   0%|          | 0/7600 [00:00<?, ? examples/s]"
            ],
            "application/vnd.jupyter.widget-view+json": {
              "version_major": 2,
              "version_minor": 0,
              "model_id": "87ace2ae58144c79992760c03fb3693b"
            }
          },
          "metadata": {}
        },
        {
          "output_type": "display_data",
          "data": {
            "text/plain": [
              "Shuffling /root/tensorflow_datasets/ag_news_subset/incomplete.CKXV5F_1.0.0/ag_news_subset-test.tfrecord*...:  …"
            ],
            "application/vnd.jupyter.widget-view+json": {
              "version_major": 2,
              "version_minor": 0,
              "model_id": "8e233533d138496c8c05ed1df8eea505"
            }
          },
          "metadata": {}
        },
        {
          "output_type": "stream",
          "name": "stdout",
          "text": [
            "Dataset ag_news_subset downloaded and prepared to /root/tensorflow_datasets/ag_news_subset/1.0.0. Subsequent calls will reuse this data.\n"
          ]
        }
      ]
    },
    {
      "cell_type": "markdown",
      "source": [
        "### Descripción"
      ],
      "metadata": {
        "id": "gKn_nzH187m6"
      }
    },
    {
      "cell_type": "code",
      "source": [
        "print(info)"
      ],
      "metadata": {
        "id": "H1NbJdig4vXl",
        "outputId": "2c3364aa-65b0-48cd-fbdb-d31b6b005950",
        "colab": {
          "base_uri": "https://localhost:8080/"
        }
      },
      "execution_count": 4,
      "outputs": [
        {
          "output_type": "stream",
          "name": "stdout",
          "text": [
            "tfds.core.DatasetInfo(\n",
            "    name='ag_news_subset',\n",
            "    full_name='ag_news_subset/1.0.0',\n",
            "    description=\"\"\"\n",
            "    AG is a collection of more than 1 million news articles. News articles have been\n",
            "    gathered from more than 2000 news sources by ComeToMyHead in more than 1 year of\n",
            "    activity. ComeToMyHead is an academic news search engine which has been running\n",
            "    since July, 2004. The dataset is provided by the academic comunity for research\n",
            "    purposes in data mining (clustering, classification, etc), information retrieval\n",
            "    (ranking, search, etc), xml, data compression, data streaming, and any other\n",
            "    non-commercial activity. For more information, please refer to the link\n",
            "    http://www.di.unipi.it/~gulli/AG_corpus_of_news_articles.html .\n",
            "    \n",
            "    The AG's news topic classification dataset is constructed by Xiang Zhang\n",
            "    (xiang.zhang@nyu.edu) from the dataset above. It is used as a text\n",
            "    classification benchmark in the following paper: Xiang Zhang, Junbo Zhao, Yann\n",
            "    LeCun. Character-level Convolutional Networks for Text Classification. Advances\n",
            "    in Neural Information Processing Systems 28 (NIPS 2015).\n",
            "    \n",
            "    The AG's news topic classification dataset is constructed by choosing 4 largest\n",
            "    classes from the original corpus. Each class contains 30,000 training samples\n",
            "    and 1,900 testing samples. The total number of training samples is 120,000 and\n",
            "    testing 7,600.\n",
            "    \"\"\",\n",
            "    homepage='https://arxiv.org/abs/1509.01626',\n",
            "    data_dir=PosixGPath('/tmp/tmp4dryarwdtfds'),\n",
            "    file_format=tfrecord,\n",
            "    download_size=11.24 MiB,\n",
            "    dataset_size=35.79 MiB,\n",
            "    features=FeaturesDict({\n",
            "        'description': Text(shape=(), dtype=string),\n",
            "        'label': ClassLabel(shape=(), dtype=int64, num_classes=4),\n",
            "        'title': Text(shape=(), dtype=string),\n",
            "    }),\n",
            "    supervised_keys=('description', 'label'),\n",
            "    disable_shuffling=False,\n",
            "    splits={\n",
            "        'test': <SplitInfo num_examples=7600, num_shards=1>,\n",
            "        'train': <SplitInfo num_examples=120000, num_shards=1>,\n",
            "    },\n",
            "    citation=\"\"\"@misc{zhang2015characterlevel,\n",
            "        title={Character-level Convolutional Networks for Text Classification},\n",
            "        author={Xiang Zhang and Junbo Zhao and Yann LeCun},\n",
            "        year={2015},\n",
            "        eprint={1509.01626},\n",
            "        archivePrefix={arXiv},\n",
            "        primaryClass={cs.LG}\n",
            "    }\"\"\",\n",
            ")\n"
          ]
        }
      ]
    },
    {
      "cell_type": "code",
      "source": [
        "train_ds, val_ds = df['train'], df['test']"
      ],
      "metadata": {
        "id": "902mqOaLGVwG"
      },
      "execution_count": 5,
      "outputs": []
    },
    {
      "cell_type": "code",
      "source": [
        "print(f'Tamaño del conjunto de entrenamiento: {len(list(train_ds))}')\n",
        "print(f'Tamaño del conjunto de validación: {len(list(val_ds))}')"
      ],
      "metadata": {
        "id": "3WriZ4DO75Mm",
        "outputId": "4e44ecf8-e435-4a2d-cec3-cb97ce9f8bcf",
        "colab": {
          "base_uri": "https://localhost:8080/"
        }
      },
      "execution_count": 7,
      "outputs": [
        {
          "output_type": "stream",
          "name": "stdout",
          "text": [
            "Tamaño del conjunto de entrenamiento: 120000\n",
            "Tamaño del conjunto de validación: 7600\n"
          ]
        }
      ]
    },
    {
      "cell_type": "code",
      "source": [
        "train_ds"
      ],
      "metadata": {
        "id": "S_acfJFhsbaH",
        "outputId": "fbc045bd-94ba-4c8e-ae87-215bc5b32fde",
        "colab": {
          "base_uri": "https://localhost:8080/"
        }
      },
      "execution_count": 12,
      "outputs": [
        {
          "output_type": "execute_result",
          "data": {
            "text/plain": [
              "<_PrefetchDataset element_spec=(TensorSpec(shape=(), dtype=tf.string, name=None), TensorSpec(shape=(), dtype=tf.int64, name=None))>"
            ]
          },
          "metadata": {},
          "execution_count": 12
        }
      ]
    },
    {
      "cell_type": "markdown",
      "source": [
        "## Análisis Exploratorio"
      ],
      "metadata": {
        "id": "2ZzxHMlymwD3"
      }
    },
    {
      "cell_type": "markdown",
      "source": [
        "Inspeccionamos el dataset el cual posee los siguientes labels:\n",
        "\n",
        "* 0 = World\n",
        "* 1 = Sports\n",
        "* 2 = Business\n",
        "* 3 = Sci/Tech"
      ],
      "metadata": {
        "id": "KtPkPAKyGol4"
      }
    },
    {
      "cell_type": "code",
      "source": [
        "for example, label in train_ds.take(5):\n",
        "  print('text: ', example.numpy().decode('utf-8'))\n",
        "  print('label: ', label.numpy())\n",
        "  print(\"-----\")"
      ],
      "metadata": {
        "id": "OJAIGI5zGh6S",
        "outputId": "13bc0ea9-5f2f-49e9-b832-ff1c446511e5",
        "colab": {
          "base_uri": "https://localhost:8080/"
        }
      },
      "execution_count": 17,
      "outputs": [
        {
          "output_type": "stream",
          "name": "stdout",
          "text": [
            "text:  AMD #39;s new dual-core Opteron chip is designed mainly for corporate computing applications, including databases, Web services, and financial transactions.\n",
            "label:  3\n",
            "-----\n",
            "text:  Reuters - Major League Baseball\\Monday announced a decision on the appeal filed by Chicago Cubs\\pitcher Kerry Wood regarding a suspension stemming from an\\incident earlier this season.\n",
            "label:  1\n",
            "-----\n",
            "text:  President Bush #39;s  quot;revenue-neutral quot; tax reform needs losers to balance its winners, and people claiming the federal deduction for state and local taxes may be in administration planners #39; sights, news reports say.\n",
            "label:  2\n",
            "-----\n",
            "text:  Britain will run out of leading scientists unless science education is improved, says Professor Colin Pillinger.\n",
            "label:  3\n",
            "-----\n",
            "text:  London, England (Sports Network) - England midfielder Steven Gerrard injured his groin late in Thursday #39;s training session, but is hopeful he will be ready for Saturday #39;s World Cup qualifier against Austria.\n",
            "label:  1\n",
            "-----\n"
          ]
        }
      ]
    },
    {
      "cell_type": "markdown",
      "source": [
        "## Concatenado del Texto"
      ],
      "metadata": {
        "id": "p2Uk5uhNG2rv"
      }
    },
    {
      "cell_type": "code",
      "source": [
        "# Función para extraer el texto del dataset\n",
        "def extract_text(data):\n",
        "    texts = []\n",
        "    for article, _ in data:\n",
        "        texts.append(article.numpy().decode('utf-8'))\n",
        "    return ' '.join(texts)\n",
        "\n",
        "# Extraer el texto de los conjuntos de entrenamiento y prueba\n",
        "train_text = extract_text(train_ds)\n",
        "test_text = extract_text(val_ds)\n",
        "\n",
        "# Unir todos los textos en uno solo\n",
        "text = train_text + test_text"
      ],
      "metadata": {
        "id": "2qrjLFUaG3Wx"
      },
      "execution_count": 6,
      "outputs": []
    },
    {
      "cell_type": "code",
      "source": [
        "print(f'Tamaño total del texto: {len(text)} caracteres')"
      ],
      "metadata": {
        "id": "Ls1i0v6P-Xf3",
        "outputId": "30960d59-989f-49b3-fae7-978ae21813ba",
        "colab": {
          "base_uri": "https://localhost:8080/"
        }
      },
      "execution_count": 7,
      "outputs": [
        {
          "output_type": "stream",
          "name": "stdout",
          "text": [
            "Tamaño total del texto: 24798141 caracteres\n"
          ]
        }
      ]
    },
    {
      "cell_type": "code",
      "source": [
        "# Mostrar una muestra del texto\n",
        "print(text[:500])"
      ],
      "metadata": {
        "id": "HWq09kTC-Vm2",
        "outputId": "21ea1e93-4a7d-46b3-b436-f75810736ed3",
        "colab": {
          "base_uri": "https://localhost:8080/"
        }
      },
      "execution_count": 22,
      "outputs": [
        {
          "output_type": "stream",
          "name": "stdout",
          "text": [
            "AMD #39;s new dual-core Opteron chip is designed mainly for corporate computing applications, including databases, Web services, and financial transactions. Reuters - Major League Baseball\\Monday announced a decision on the appeal filed by Chicago Cubs\\pitcher Kerry Wood regarding a suspension stemming from an\\incident earlier this season. President Bush #39;s  quot;revenue-neutral quot; tax reform needs losers to balance its winners, and people claiming the federal deduction for state and local\n"
          ]
        }
      ]
    },
    {
      "cell_type": "markdown",
      "source": [
        "## Tokenización"
      ],
      "metadata": {
        "id": "MAeyNeWm-zNw"
      }
    },
    {
      "cell_type": "code",
      "source": [
        "# Tokenizar el texto en palabras y oraciones\n",
        "words = word_tokenize(text)\n",
        "sentences = sent_tokenize(text)\n",
        "\n",
        "# Contar palabras y oraciones\n",
        "word_count = len(words)\n",
        "sentence_count = len(sentences)\n",
        "unique_words = len(set(words))\n",
        "\n",
        "print(f'Total de palabras: {word_count}')\n",
        "print(f'Total de oraciones: {sentence_count}')\n",
        "print(f'Palabras únicas: {unique_words}')"
      ],
      "metadata": {
        "id": "92omxJ_eG7gR",
        "outputId": "9f18f8af-22c9-4fa8-8a67-759b4c1d1853",
        "colab": {
          "base_uri": "https://localhost:8080/"
        }
      },
      "execution_count": 10,
      "outputs": [
        {
          "output_type": "stream",
          "name": "stdout",
          "text": [
            "Total de palabras: 4576341\n",
            "Total de oraciones: 143487\n",
            "Palabras únicas: 107288\n"
          ]
        }
      ]
    },
    {
      "cell_type": "code",
      "source": [
        "print('Ejemplo de palabras tokenizadas:', words[100:110])\n",
        "print('Ejemplo de oraciones tokenizadas:', sentences[2:4])"
      ],
      "metadata": {
        "id": "EbwbEIev-9jz",
        "outputId": "451d4837-1e32-4046-81a1-0e45b958a6e6",
        "colab": {
          "base_uri": "https://localhost:8080/"
        }
      },
      "execution_count": 11,
      "outputs": [
        {
          "output_type": "stream",
          "name": "stdout",
          "text": [
            "Ejemplo de palabras tokenizadas: ['will', 'run', 'out', 'of', 'leading', 'scientists', 'unless', 'science', 'education', 'is']\n",
            "Ejemplo de oraciones tokenizadas: ['President Bush #39;s  quot;revenue-neutral quot; tax reform needs losers to balance its winners, and people claiming the federal deduction for state and local taxes may be in administration planners #39; sights, news reports say.', 'Britain will run out of leading scientists unless science education is improved, says Professor Colin Pillinger.']\n"
          ]
        }
      ]
    },
    {
      "cell_type": "markdown",
      "source": [
        "### Guardar / Cargar Tokens"
      ],
      "metadata": {
        "id": "TTTWxsLoAUxQ"
      }
    },
    {
      "cell_type": "code",
      "source": [
        "# # Guardar tokenizaciones intermedias\n",
        "# with open('words.pkl', 'wb') as f:\n",
        "#     pickle.dump(words, f)\n",
        "# with open('sentences.pkl', 'wb') as f:\n",
        "#     pickle.dump(sentences, f)"
      ],
      "metadata": {
        "id": "vJDjdcXC_owO"
      },
      "execution_count": 12,
      "outputs": []
    },
    {
      "cell_type": "code",
      "source": [
        "# Guardar tokenizaciones intermedias\n",
        "with open('words.pkl', 'rb') as f:\n",
        "    words = pickle.load(f)\n",
        "with open('sentences.pkl', 'rb') as f:\n",
        "    sentences = pickle.load(f)"
      ],
      "metadata": {
        "id": "2yU0GtwT_oVv"
      },
      "execution_count": 8,
      "outputs": []
    },
    {
      "cell_type": "markdown",
      "source": [
        "## Frecuencia de Palabras y Caracteres"
      ],
      "metadata": {
        "id": "Zz3CnkMlAlWx"
      }
    },
    {
      "cell_type": "code",
      "source": [
        "# Frecuencia de palabras\n",
        "word_freq = Counter(words)\n",
        "most_common_words = word_freq.most_common(10)\n",
        "\n",
        "# Frecuencia de caracteres\n",
        "char_freq = Counter(text)\n",
        "most_common_chars = char_freq.most_common(10)"
      ],
      "metadata": {
        "id": "7YT2nuuUB31A"
      },
      "execution_count": 9,
      "outputs": []
    },
    {
      "cell_type": "code",
      "source": [
        "# Graficar las palabras más comunes\n",
        "plt.figure(figsize=(10, 4))\n",
        "sns.barplot(x=[word for word, freq in most_common_words], y=[freq for word, freq in most_common_words])\n",
        "plt.title('Top 10 palabras más comunes')\n",
        "plt.xlabel('Palabras')\n",
        "plt.ylabel('Frecuencia')\n",
        "plt.show()\n",
        "print()\n",
        "# Graficar los caracteres más comunes\n",
        "plt.figure(figsize=(10, 4))\n",
        "sns.barplot(x=[char for char, freq in most_common_chars], y=[freq for char, freq in most_common_chars])\n",
        "plt.title('Top 10 caracteres más comunes')\n",
        "plt.xlabel('Caracteres')\n",
        "plt.ylabel('Frecuencia')\n",
        "plt.show()"
      ],
      "metadata": {
        "id": "pzVtt2xSG-hC",
        "outputId": "91a7d030-bcce-4047-d2ca-91822b3d9355",
        "colab": {
          "base_uri": "https://localhost:8080/",
          "height": 747
        }
      },
      "execution_count": 10,
      "outputs": [
        {
          "output_type": "display_data",
          "data": {
            "text/plain": [
              "<Figure size 1000x400 with 1 Axes>"
            ],
            "image/png": "[encoded data removed]"
          },
          "metadata": {}
        },
        {
          "output_type": "stream",
          "name": "stdout",
          "text": [
            "\n"
          ]
        },
        {
          "output_type": "display_data",
          "data": {
            "text/plain": [
              "<Figure size 1000x400 with 1 Axes>"
            ],
            "image/png": "[encoded data removed]"
          },
          "metadata": {}
        }
      ]
    },
    {
      "cell_type": "code",
      "source": [
        "print('Palabras más comunes:', most_common_words)\n",
        "print('Caracteres más comunes:', most_common_chars)"
      ],
      "metadata": {
        "id": "ODnCnfz0E7vI",
        "outputId": "9e0fa3e9-60cd-4c4a-8c7a-e8e0a472fbac",
        "colab": {
          "base_uri": "https://localhost:8080/"
        }
      },
      "execution_count": 15,
      "outputs": [
        {
          "output_type": "stream",
          "name": "stdout",
          "text": [
            "Palabras más comunes: [('the', 183701), (',', 153707), ('.', 140168), ('to', 101054), ('a', 100690), ('of', 94309), ('in', 80192), ('and', 69558), (';', 65177), ('on', 49283)]\n",
            "Caracteres más comunes: [(' ', 4031696), ('e', 2218994), ('a', 1617452), ('t', 1614716), ('o', 1399300), ('i', 1390300), ('n', 1383800), ('r', 1285081), ('s', 1274681), ('l', 770337)]\n"
          ]
        }
      ]
    },
    {
      "cell_type": "markdown",
      "source": [
        "## Longitud de Palabras y Oraciones"
      ],
      "metadata": {
        "id": "3XAfbW6sD0ng"
      }
    },
    {
      "cell_type": "code",
      "source": [
        "# Longitud de las palabras\n",
        "word_lengths = [len(word) for word in words]\n",
        "\n",
        "# Longitud de las oraciones\n",
        "sentence_lengths = [len(sentence.split()) for sentence in sentences]"
      ],
      "metadata": {
        "id": "2X6tFGMkCqfX"
      },
      "execution_count": 11,
      "outputs": []
    },
    {
      "cell_type": "code",
      "source": [
        "# Graficar la distribución de la longitud de las palabras\n",
        "plt.figure(figsize=(10, 4))\n",
        "sns.histplot(word_lengths, bins=30, kde=True)\n",
        "plt.xticks(range(0, 100, 10))\n",
        "plt.title('Distribución de la longitud de palabras')\n",
        "plt.xlabel('Longitud de Palabra')\n",
        "plt.ylabel('Frecuencia')\n",
        "plt.show()\n",
        "print()\n",
        "# Graficar la distribución de la longitud de las oraciones\n",
        "plt.figure(figsize=(10, 4))\n",
        "sns.histplot(sentence_lengths, bins=30, kde=True)\n",
        "plt.title('Distribución de la longitud de oraciones')\n",
        "plt.xlabel('Longitud de Oración')\n",
        "plt.ylabel('Frecuencia')\n",
        "plt.show()"
      ],
      "metadata": {
        "id": "oGnRJwtmHFGo",
        "outputId": "19c5c695-4277-4d46-9cba-772ff8b8c542",
        "colab": {
          "base_uri": "https://localhost:8080/",
          "height": 756
        }
      },
      "execution_count": 17,
      "outputs": [
        {
          "output_type": "display_data",
          "data": {
            "text/plain": [
              "<Figure size 1000x400 with 1 Axes>"
            ],
            "image/png": "[encoded data removed]"
          },
          "metadata": {}
        },
        {
          "output_type": "stream",
          "name": "stdout",
          "text": [
            "\n"
          ]
        },
        {
          "output_type": "display_data",
          "data": {
            "text/plain": [
              "<Figure size 1000x400 with 1 Axes>"
            ],
            "image/png": "[encoded data removed]"
          },
          "metadata": {}
        }
      ]
    },
    {
      "cell_type": "code",
      "source": [
        "print('Palabra de mayor longitud:', max(words, key=len))\n",
        "print('Oración de mayor longitud:', max(sentences, key=len))"
      ],
      "metadata": {
        "id": "wgKXzbAfHIff",
        "outputId": "611c5cd0-a8f6-4796-db76-080e0b8c53b4",
        "colab": {
          "base_uri": "https://localhost:8080/"
        }
      },
      "execution_count": 18,
      "outputs": [
        {
          "output_type": "stream",
          "name": "stdout",
          "text": [
            "Palabra de mayor longitud: Funds\\Municipal-Long-Term\\Municipal-Medium-Term\\Municipal-One-State\\Municipal-Short-Term\\Pacific\n",
            "Oración de mayor longitud: 20-year product development veteran from Abbott Laboratories will face the challenge of completing Human Genome Sciences' makeover from gene hunter to drug marketer.&lt;br&gt;&lt;FONT face=\"verdana,MS Sans Serif,arial,helvetica\" size=\"-2\" color=\"#666666\"&gt;&lt;B&gt;-The Washington Post&lt;/b&gt;&lt;/font&gt; The US Department of Homeland Security unveiled new computer workstations Thursday that allow Border Patrol agents on the Canadian and Mexican borders to tap into the FBI #39;s fingerprint database, overcoming a technological hurdle that   NEW YORK (Reuters) - U.S. blue chips closed slightly higher  on Thursday, helped by Johnson   Johnson Inc.'s &lt;A HREF=\"http://www.investor.reuters.com/FullQuote.aspx?ticker=JNJ.N target=/stocks/quickinfo/fullquote\"&gt;JNJ.N&lt;/A&gt; \\$25  billion deal to buy Guidant Corp. &lt;A HREF=\"http://www.investor.reuters.com/FullQuote.aspx?ticker=GDT.N target=/stocks/quickinfo/fullquote\"&gt;GDT.N&lt;/A&gt;, but the broader  market fell, with Goldman Sachs Group Inc. &lt;A HREF=\"http://www.investor.reuters.com/FullQuote.aspx?ticker=GS.N target=/stocks/quickinfo/fullquote\"&gt;GS.N&lt;/A&gt; dragging the  S P 500 lower after posting quarterly revenues that  disappointed Wall Street.\n"
          ]
        }
      ]
    },
    {
      "cell_type": "markdown",
      "source": [
        "## Limpieza del Texto"
      ],
      "metadata": {
        "id": "Jc8rnDBRGj6Z"
      }
    },
    {
      "cell_type": "markdown",
      "source": [
        "### Mayúsculas / Minúsculas"
      ],
      "metadata": {
        "id": "nhVD_YNcHI23"
      }
    },
    {
      "cell_type": "code",
      "source": [
        "# Definir una función de limpieza\n",
        "def clean_text_with_length_filter(text, max_length):\n",
        "    # Convertir a minúsculas\n",
        "    text = text.lower()\n",
        "    # Eliminar puntuaciones\n",
        "    text = text.translate(str.maketrans('', '', string.punctuation))\n",
        "    # Tokenizar el texto limpio en palabras\n",
        "    words = word_tokenize(text)\n",
        "    # Filtrar por longitud máxima\n",
        "    filtered_words = [word for word in words if len(word) < max_length]\n",
        "    return filtered_words"
      ],
      "metadata": {
        "id": "n_yw3zjfKJjt"
      },
      "execution_count": 12,
      "outputs": []
    },
    {
      "cell_type": "code",
      "source": [
        "# Aplicar la limpieza al texto concatenado\n",
        "max_word_length = 15\n",
        "cleaned_text = clean_text_with_length_filter(text, max_word_length)\n",
        "\n",
        "# Mostrar una muestra del texto limpio\n",
        "print(cleaned_text[:500])"
      ],
      "metadata": {
        "id": "Y9WEh6GvHDeU",
        "outputId": "ea1be614-466b-4512-8c10-4b5a21088200",
        "colab": {
          "base_uri": "https://localhost:8080/"
        }
      },
      "execution_count": 13,
      "outputs": [
        {
          "output_type": "stream",
          "name": "stdout",
          "text": [
            "['amd', '39s', 'new', 'dualcore', 'opteron', 'chip', 'is', 'designed', 'mainly', 'for', 'corporate', 'computing', 'applications', 'including', 'databases', 'web', 'services', 'and', 'financial', 'transactions', 'reuters', 'major', 'league', 'baseballmonday', 'announced', 'a', 'decision', 'on', 'the', 'appeal', 'filed', 'by', 'chicago', 'cubspitcher', 'kerry', 'wood', 'regarding', 'a', 'suspension', 'stemming', 'from', 'anincident', 'earlier', 'this', 'season', 'president', 'bush', '39s', 'quot', 'tax', 'reform', 'needs', 'losers', 'to', 'balance', 'its', 'winners', 'and', 'people', 'claiming', 'the', 'federal', 'deduction', 'for', 'state', 'and', 'local', 'taxes', 'may', 'be', 'in', 'administration', 'planners', '39', 'sights', 'news', 'reports', 'say', 'britain', 'will', 'run', 'out', 'of', 'leading', 'scientists', 'unless', 'science', 'education', 'is', 'improved', 'says', 'professor', 'colin', 'pillinger', 'london', 'england', 'sports', 'network', 'england', 'midfielder', 'steven', 'gerrard', 'injured', 'his', 'groin', 'late', 'in', 'thursday', '39s', 'training', 'session', 'but', 'is', 'hopeful', 'he', 'will', 'be', 'ready', 'for', 'saturday', '39s', 'world', 'cup', 'qualifier', 'against', 'austria', 'tokyo', 'sony', 'corp', 'is', 'banking', 'on', 'the', '3', 'billion', 'deal', 'to', 'acquire', 'hollywood', 'studio', 'inc', 'giant', 'pandas', 'may', 'well', 'prefer', 'bamboo', 'to', 'laptops', 'but', 'wireless', 'technology', 'is', 'helping', 'researchers', 'in', 'china', 'in', 'their', 'efforts', 'to', 'protect', 'the', 'engandered', 'animals', 'living', 'in', 'the', 'remote', 'wolong', 'nature', 'reserve', 'vilnius', 'lithuania', 'lithuania', '39s', 'main', 'parties', 'formed', 'an', 'alliance', 'to', 'try', 'to', 'keep', 'a', 'russianborn', 'tycoon', 'and', 'his', 'populist', 'promises', 'out', 'of', 'the', 'government', 'in', 'sunday', '39s', 'second', 'round', 'of', 'parliamentary', 'elections', 'in', 'this', 'baltic', 'country', 'witnesses', 'in', 'the', 'trial', 'of', 'a', 'us', 'soldier', 'charged', 'with', 'abusing', 'prisoners', 'at', 'abu', 'ghraib', 'have', 'told', 'the', 'court', 'that', 'the', 'cia', 'sometimes', 'directed', 'abuse', 'and', 'orders', 'were', 'received', 'from', 'military', 'command', 'to', 'toughen', 'interrogations', 'dan', 'olsen', 'of', 'ponte', 'vedra', 'beach', 'fla', 'shot', 'a', '7under', '65', 'thursday', 'to', 'take', 'a', 'oneshot', 'lead', 'after', 'two', 'rounds', 'of', 'the', 'pga', 'tour', 'qualifying', 'tournament', 'kabul', 'talebanlinked', 'militants', 'threatening', 'to', 'kill', 'three', 'un', 'hostages', 'are', 'accusing', 'the', 'united', 'states', 'of', 'hampering', 'their', 'release', 'although', 'an', 'afghan', 'official', 'says', 'a', 'ransom', 'demand', 'is', 'the', 'main', 'stumbling', 'block', 'four', 'executives', 'at', 'german', 'memory', 'vendor', 'infineon', 'technologies', 'and', 'its', 'us', 'subsidiary', 'have', 'pled', 'guilty', 'to', 'charges', 'of', 'illegally', 'setting', 'prices', 'for', 'pc', 'memory', 'chips', 'the', 'us', 'department', 'of', 'justice', 'doj', 'announced', 'thursday', 'yahoo', 'inc', 'has', 'agreed', 'to', 'extend', 'its', 'deal', 'to', 'place', 'advertisements', 'on', 'microsoft', 'corp', '39s', 'msn', 'sites', 'in', 'the', 'united', 'states', 'and', 'overseas', 'by', 'one', 'year', 'through', 'june', '2006', 'yahoo', 'said', 'on', 'thursday', 'the', 'world', 'health', 'organization', 'unicef', 'and', 'other', 'partners', 'are', 'launching', 'a', 'largescale', 'polio', 'immunization', 'campaign', 'in', '23', 'african', 'countries', 'ipecom', '5oct04', 'uk', 'drinks', 'firm', 'diageo', 'has', 'transferred', 'four', 'million', 'shares', 'in', 'us', 'cereal', 'maker', 'general', 'mills', 'to', 'its', 'uk', 'pension', 'plan', 'to', 'help', 'cut', 'the', 'schemes', '750', 'millionpound', '1', 'london', 'oct', '04', 'thierry', 'henry', 'scored', 'twice', 'as', 'arsenal', 'easily', 'beat', 'charlton', '40', 'to', 'extend', 'its', 'unbeaten', 'premier', 'league', 'streak', 'to', '48', 'matches', 'and', 'bounce', 'back', 'from', 'alleged', 'team', 'disunity', 'washington', 'theres', 'a', 'new', 'option', 'for', 'people', 'who', 'suffer', 'from', 'extreme', 'whose', 'world', 'loses', 'its', 'crisp', 'edge', 'just', 'a', 'few', 'inches', 'from', 'their', 'noses', 'the', 'first', 'implantable', 'lens', 'for', 'was', 'approved', 'monday', 'by', 'the', 'food', 'and', 'drug', 'administration', 'the', 'google', 'playboy', 'interview', 'in', 'its', 'entiretythe', 'infamous', 'playboy', 'interview', 'of', 'sergey', 'brin', 'and', 'larry', 'page', 'the']\n"
          ]
        }
      ]
    },
    {
      "cell_type": "markdown",
      "source": [
        "### Stopwords"
      ],
      "metadata": {
        "id": "O8XZc-aEHNFS"
      }
    },
    {
      "cell_type": "code",
      "source": [
        "# # Tokenizar el texto limpio en palabras\n",
        "# cleaned_words = word_tokenize(cleaned_text)\n",
        "\n",
        "# Filtrar stop words\n",
        "stop_words = set(stopwords.words('english'))\n",
        "filtered_words = [word for word in cleaned_text if word not in stop_words]\n",
        "\n",
        "# Mostrar una muestra de las palabras filtradas\n",
        "print(filtered_words[:50])"
      ],
      "metadata": {
        "id": "bC3Av1fzHPHR",
        "outputId": "7509353c-21b7-4b2c-db1c-7dd3d88784f9",
        "colab": {
          "base_uri": "https://localhost:8080/"
        }
      },
      "execution_count": 14,
      "outputs": [
        {
          "output_type": "stream",
          "name": "stdout",
          "text": [
            "['amd', '39s', 'new', 'dualcore', 'opteron', 'chip', 'designed', 'mainly', 'corporate', 'computing', 'applications', 'including', 'databases', 'web', 'services', 'financial', 'transactions', 'reuters', 'major', 'league', 'baseballmonday', 'announced', 'decision', 'appeal', 'filed', 'chicago', 'cubspitcher', 'kerry', 'wood', 'regarding', 'suspension', 'stemming', 'anincident', 'earlier', 'season', 'president', 'bush', '39s', 'quot', 'tax', 'reform', 'needs', 'losers', 'balance', 'winners', 'people', 'claiming', 'federal', 'deduction', 'state']\n"
          ]
        }
      ]
    },
    {
      "cell_type": "code",
      "source": [
        "# Unir las palabras filtradas en un solo texto para el conteo de caracteres\n",
        "cleaned_text_for_char_count = ' '.join(filtered_words)"
      ],
      "metadata": {
        "id": "QkaHzhk7BCj1"
      },
      "execution_count": 15,
      "outputs": []
    },
    {
      "cell_type": "markdown",
      "source": [
        "### Comprobaciones de Limpieza"
      ],
      "metadata": {
        "id": "yppAED_aIwsC"
      }
    },
    {
      "cell_type": "code",
      "source": [
        "# Frecuencia de palabras limpias\n",
        "cleaned_word_freq = Counter(filtered_words)\n",
        "cleaned_most_common_words = cleaned_word_freq.most_common(10)\n",
        "\n",
        "# Frecuencia de caracteres limpios\n",
        "cleaned_char_freq = Counter(cleaned_text_for_char_count)\n",
        "cleaned_most_common_chars = cleaned_char_freq.most_common(10)"
      ],
      "metadata": {
        "id": "n_zzfM5TIv-F"
      },
      "execution_count": 16,
      "outputs": []
    },
    {
      "cell_type": "code",
      "source": [
        "# Graficar las palabras más comunes\n",
        "plt.figure(figsize=(10, 4))\n",
        "sns.barplot(x=[word for word, freq in cleaned_most_common_words], y=[freq for word, freq in cleaned_most_common_words])\n",
        "plt.title('Top 10 palabras más comunes (texto limpio)')\n",
        "plt.xlabel('Palabras')\n",
        "plt.ylabel('Frecuencia')\n",
        "plt.show()\n",
        "print()\n",
        "# Graficar los caracteres más comunes\n",
        "plt.figure(figsize=(10, 4))\n",
        "sns.barplot(x=[char for char, freq in cleaned_most_common_chars], y=[freq for char, freq in cleaned_most_common_chars])\n",
        "plt.title('Top 10 caracteres más comunes (texto limpio)')\n",
        "plt.xlabel('Caracteres')\n",
        "plt.ylabel('Frecuencia')\n",
        "plt.show()"
      ],
      "metadata": {
        "id": "T9uXeq1WH7Id",
        "outputId": "760d9694-101a-4f37-f380-34782fae540a",
        "colab": {
          "base_uri": "https://localhost:8080/",
          "height": 751
        }
      },
      "execution_count": 17,
      "outputs": [
        {
          "output_type": "display_data",
          "data": {
            "text/plain": [
              "<Figure size 1000x400 with 1 Axes>"
            ],
            "image/png": "[encoded data removed]"
          },
          "metadata": {}
        },
        {
          "output_type": "stream",
          "name": "stdout",
          "text": [
            "\n"
          ]
        },
        {
          "output_type": "display_data",
          "data": {
            "text/plain": [
              "<Figure size 1000x400 with 1 Axes>"
            ],
            "image/png": "[encoded data removed]"
          },
          "metadata": {}
        }
      ]
    },
    {
      "cell_type": "code",
      "source": [
        "# Encontrar la palabra de mayor longitud en texto limpio\n",
        "print('Palabra de mayor longitud (texto limpio):', max(filtered_words, key=len))"
      ],
      "metadata": {
        "id": "L1UkXo5hJDNk",
        "outputId": "fd70b05f-0a09-46e9-8387-53e32024fff0",
        "colab": {
          "base_uri": "https://localhost:8080/"
        }
      },
      "execution_count": 18,
      "outputs": [
        {
          "output_type": "stream",
          "name": "stdout",
          "text": [
            "Palabra de mayor longitud (texto limpio): baseballmonday\n"
          ]
        }
      ]
    },
    {
      "cell_type": "code",
      "source": [
        "# Calcular las longitudes de las palabras filtradas\n",
        "word_lengths_cleaned = [len(word) for word in filtered_words]\n",
        "\n",
        "# Graficar la distribución de la longitud de las palabras en el texto limpio\n",
        "plt.figure(figsize=(10, 4))\n",
        "sns.histplot(word_lengths_cleaned, bins=14, kde=True)\n",
        "plt.xticks(range(0, 15, 5))\n",
        "plt.title('Distribución de la longitud de palabras (texto limpio)')\n",
        "plt.xlabel('Longitud de Palabra')\n",
        "plt.ylabel('Frecuencia')\n",
        "plt.show()"
      ],
      "metadata": {
        "id": "daN7YwBKDPYA",
        "outputId": "1a7ee9eb-66d2-4fb2-81d1-2d3bc950d00d",
        "colab": {
          "base_uri": "https://localhost:8080/",
          "height": 380
        }
      },
      "execution_count": 37,
      "outputs": [
        {
          "output_type": "display_data",
          "data": {
            "text/plain": [
              "<Figure size 1000x400 with 1 Axes>"
            ],
            "image/png": "[encoded data removed]"
          },
          "metadata": {}
        }
      ]
    },
    {
      "cell_type": "markdown",
      "source": [
        "## Vocabulario"
      ],
      "metadata": {
        "id": "EfBI0PddGrI7"
      }
    },
    {
      "cell_type": "markdown",
      "source": [
        "### Mapeo de caracteres e índices"
      ],
      "metadata": {
        "id": "KzEKzlSTKYix"
      }
    },
    {
      "cell_type": "code",
      "source": [
        "# The unique characters in the file\n",
        "vocab = sorted(set(text))\n",
        "print(f'{len(vocab)} unique characters')"
      ],
      "metadata": {
        "id": "kn6sCVWiL1Uy",
        "outputId": "b6de90a6-09dd-43ae-bf68-fa39e339ba8b",
        "colab": {
          "base_uri": "https://localhost:8080/"
        }
      },
      "execution_count": 19,
      "outputs": [
        {
          "output_type": "stream",
          "name": "stdout",
          "text": [
            "82 unique characters\n"
          ]
        }
      ]
    },
    {
      "cell_type": "code",
      "source": [
        "# Crear una capa de StringLookup para mapear caracteres a índices\n",
        "ids_from_chars = tf.keras.layers.StringLookup(\n",
        "    vocabulary=list(vocab), mask_token=None)"
      ],
      "metadata": {
        "id": "dSWUvEUJL3Eg"
      },
      "execution_count": 20,
      "outputs": []
    },
    {
      "cell_type": "code",
      "source": [
        "# Convertir el texto en una secuencia de índices\n",
        "all_ids = ids_from_chars(tf.strings.unicode_split(text, 'UTF-8'))\n",
        "all_ids"
      ],
      "metadata": {
        "id": "gMDeYac_L-QA",
        "outputId": "d8b241c3-8a44-4019-b015-3eb81b6ae22a",
        "colab": {
          "base_uri": "https://localhost:8080/"
        }
      },
      "execution_count": 21,
      "outputs": [
        {
          "output_type": "execute_result",
          "data": {
            "text/plain": [
              "<tf.Tensor: shape=(24798141,), dtype=int64, numpy=array([29, 41, 32, ..., 71, 70, 13])>"
            ]
          },
          "metadata": {},
          "execution_count": 21
        }
      ]
    },
    {
      "cell_type": "code",
      "source": [
        "# Crear un dataset de TensorFlow a partir de la secuencia de índices\n",
        "ids_dataset = tf.data.Dataset.from_tensor_slices(all_ids)"
      ],
      "metadata": {
        "id": "Egv3nGZ6L-1w"
      },
      "execution_count": 22,
      "outputs": []
    },
    {
      "cell_type": "code",
      "source": [
        "# Crear una capa de StringLookup invertida para mapear índices a caracteres\n",
        "chars_from_ids = tf.keras.layers.StringLookup(\n",
        "    vocabulary=ids_from_chars.get_vocabulary(), invert=True, mask_token=None)"
      ],
      "metadata": {
        "id": "Ct_awj5GMAjJ"
      },
      "execution_count": 23,
      "outputs": []
    },
    {
      "cell_type": "code",
      "source": [
        "# Imprimir los primeros 15 caracteres mapeados de vuelta desde índices\n",
        "for ids in ids_dataset.take(15):\n",
        "    print(chars_from_ids(ids).numpy().decode('utf-8'))"
      ],
      "metadata": {
        "id": "1r-P8_uUMEOO",
        "outputId": "67ac7160-0b6d-4069-e5fa-405c0f763783",
        "colab": {
          "base_uri": "https://localhost:8080/"
        }
      },
      "execution_count": 24,
      "outputs": [
        {
          "output_type": "stream",
          "name": "stdout",
          "text": [
            "A\n",
            "M\n",
            "D\n",
            " \n",
            "#\n",
            "3\n",
            "9\n",
            ";\n",
            "s\n",
            " \n",
            "n\n",
            "e\n",
            "w\n",
            " \n",
            "d\n"
          ]
        }
      ]
    },
    {
      "cell_type": "markdown",
      "source": [
        "### Secuencias de longitud fija"
      ],
      "metadata": {
        "id": "C__Q74BGKFEK"
      }
    },
    {
      "cell_type": "code",
      "source": [
        "seq_length = 100"
      ],
      "metadata": {
        "id": "SVYVOHZVMF9p"
      },
      "execution_count": 25,
      "outputs": []
    },
    {
      "cell_type": "code",
      "source": [
        "# Crear secuencias de longitud fija a partir del dataset de índices\n",
        "sequences = ids_dataset.batch(seq_length+1, drop_remainder=True)\n",
        "\n",
        "for seq in sequences.take(1):\n",
        "  print(chars_from_ids(seq))"
      ],
      "metadata": {
        "id": "-DpYb8buMOpy",
        "outputId": "becc825e-3afb-424e-95b4-5341a9b3d848",
        "colab": {
          "base_uri": "https://localhost:8080/"
        }
      },
      "execution_count": 26,
      "outputs": [
        {
          "output_type": "stream",
          "name": "stdout",
          "text": [
            "tf.Tensor(\n",
            "[b'A' b'M' b'D' b' ' b'#' b'3' b'9' b';' b's' b' ' b'n' b'e' b'w' b' '\n",
            " b'd' b'u' b'a' b'l' b'-' b'c' b'o' b'r' b'e' b' ' b'O' b'p' b't' b'e'\n",
            " b'r' b'o' b'n' b' ' b'c' b'h' b'i' b'p' b' ' b'i' b's' b' ' b'd' b'e'\n",
            " b's' b'i' b'g' b'n' b'e' b'd' b' ' b'm' b'a' b'i' b'n' b'l' b'y' b' '\n",
            " b'f' b'o' b'r' b' ' b'c' b'o' b'r' b'p' b'o' b'r' b'a' b't' b'e' b' '\n",
            " b'c' b'o' b'm' b'p' b'u' b't' b'i' b'n' b'g' b' ' b'a' b'p' b'p' b'l'\n",
            " b'i' b'c' b'a' b't' b'i' b'o' b'n' b's' b',' b' ' b'i' b'n' b'c' b'l'\n",
            " b'u' b'd' b'i'], shape=(101,), dtype=string)\n"
          ]
        }
      ]
    },
    {
      "cell_type": "code",
      "source": [
        "# Convierte secuencias de indices en texto\n",
        "def text_from_ids(ids):\n",
        "  return tf.strings.reduce_join(chars_from_ids(ids), axis=-1)"
      ],
      "metadata": {
        "id": "34RLqsMnMPdU"
      },
      "execution_count": 27,
      "outputs": []
    },
    {
      "cell_type": "code",
      "source": [
        "for seq in sequences.take(5):\n",
        "  print(text_from_ids(seq).numpy())"
      ],
      "metadata": {
        "id": "TfPfDN86MTIY",
        "outputId": "7bf16ad0-08e5-4aac-abbb-47d044794a2a",
        "colab": {
          "base_uri": "https://localhost:8080/"
        }
      },
      "execution_count": 28,
      "outputs": [
        {
          "output_type": "stream",
          "name": "stdout",
          "text": [
            "b'AMD #39;s new dual-core Opteron chip is designed mainly for corporate computing applications, includi'\n",
            "b'ng databases, Web services, and financial transactions. Reuters - Major League Baseball\\\\Monday announ'\n",
            "b'ced a decision on the appeal filed by Chicago Cubs\\\\pitcher Kerry Wood regarding a suspension stemming'\n",
            "b' from an\\\\incident earlier this season. President Bush #39;s  quot;revenue-neutral quot; tax reform ne'\n",
            "b'eds losers to balance its winners, and people claiming the federal deduction for state and local taxe'\n"
          ]
        }
      ]
    },
    {
      "cell_type": "code",
      "source": [
        "# Preparación de los pares Entrada/Objetivo\n",
        "def split_input_target(sequence):\n",
        "    input_text = sequence[:-1]\n",
        "    target_text = sequence[1:]\n",
        "    return input_text, target_text"
      ],
      "metadata": {
        "id": "5QwMlGa0MUif"
      },
      "execution_count": 29,
      "outputs": []
    },
    {
      "cell_type": "code",
      "source": [
        "# Aplicar la función split_input_target a cada secuencia\n",
        "dataset = sequences.map(split_input_target)"
      ],
      "metadata": {
        "id": "SxvDQpKpMVE4"
      },
      "execution_count": 30,
      "outputs": []
    },
    {
      "cell_type": "code",
      "source": [
        "# Mostrar un ejemplo de entrada y objetivo\n",
        "for input_example, target_example in dataset.take(1):\n",
        "    print(\"Input:\", text_from_ids(input_example).numpy().decode('utf-8'))\n",
        "    print(\"Target:\", text_from_ids(target_example).numpy().decode('utf-8'))"
      ],
      "metadata": {
        "id": "ZwDKR96aMXYK",
        "outputId": "0a149c4c-8bee-4b2a-b64d-a53943eabb22",
        "colab": {
          "base_uri": "https://localhost:8080/"
        }
      },
      "execution_count": 31,
      "outputs": [
        {
          "output_type": "stream",
          "name": "stdout",
          "text": [
            "Input: AMD #39;s new dual-core Opteron chip is designed mainly for corporate computing applications, includ\n",
            "Target: MD #39;s new dual-core Opteron chip is designed mainly for corporate computing applications, includi\n"
          ]
        }
      ]
    },
    {
      "cell_type": "code",
      "source": [],
      "metadata": {
        "id": "Lh8NG4DbsYZf"
      },
      "execution_count": null,
      "outputs": []
    },
    {
      "cell_type": "markdown",
      "source": [
        "# RNN / Caracter a caracter"
      ],
      "metadata": {
        "id": "mUMjgxC88EKW"
      }
    },
    {
      "cell_type": "markdown",
      "source": [
        "## Modelo"
      ],
      "metadata": {
        "id": "UExPE8HUM8Bs"
      }
    },
    {
      "cell_type": "markdown",
      "source": [
        "### Batch y Buffer"
      ],
      "metadata": {
        "id": "JlAhGDULMPQo"
      }
    },
    {
      "cell_type": "code",
      "source": [
        "BATCH_SIZE = 64\n",
        "BUFFER_SIZE = 10000\n",
        "\n",
        "# Buffer size to shuffle the dataset\n",
        "# (TF data is designed to work with possibly infinite sequences,\n",
        "# so it doesn't attempt to shuffle the entire sequence in memory. Instead,\n",
        "# it maintains a buffer in which it shuffles elements).\n",
        "\n",
        "dataset = (\n",
        "    dataset\n",
        "    .shuffle(BUFFER_SIZE)\n",
        "    .batch(BATCH_SIZE, drop_remainder=True)\n",
        "    .prefetch(tf.data.experimental.AUTOTUNE))\n",
        "\n",
        "dataset"
      ],
      "metadata": {
        "id": "8I2elcK-MtEx",
        "outputId": "bfdd5aff-7ec6-467a-a398-e249a6b45494",
        "colab": {
          "base_uri": "https://localhost:8080/"
        }
      },
      "execution_count": 32,
      "outputs": [
        {
          "output_type": "execute_result",
          "data": {
            "text/plain": [
              "<_PrefetchDataset element_spec=(TensorSpec(shape=(64, 100), dtype=tf.int64, name=None), TensorSpec(shape=(64, 100), dtype=tf.int64, name=None))>"
            ]
          },
          "metadata": {},
          "execution_count": 32
        }
      ]
    },
    {
      "cell_type": "markdown",
      "source": [
        "### Hiperparámetros"
      ],
      "metadata": {
        "id": "O8vNkXQ8DchT"
      }
    },
    {
      "cell_type": "code",
      "source": [
        "# Length of the vocabulary in StringLookup Layer\n",
        "vocab_size = len(ids_from_chars.get_vocabulary())\n",
        "\n",
        "# The embedding dimension\n",
        "embedding_dim = 256\n",
        "\n",
        "# Number of RNN units\n",
        "rnn_units = 1024"
      ],
      "metadata": {
        "id": "8EHKJMnsM9qA"
      },
      "execution_count": 33,
      "outputs": []
    },
    {
      "cell_type": "markdown",
      "source": [
        "### Definición y entrenamiento"
      ],
      "metadata": {
        "id": "EgUQ53iykPc_"
      }
    },
    {
      "cell_type": "code",
      "source": [
        "# Definición del Modelo\n",
        "class MyModel(tf.keras.Model):\n",
        "  def __init__(self, vocab_size, embedding_dim, rnn_units):\n",
        "    super().__init__(self)\n",
        "    self.embedding = tf.keras.layers.Embedding(vocab_size, embedding_dim)\n",
        "    self.gru = tf.keras.layers.GRU(rnn_units,\n",
        "                                   return_sequences=True,\n",
        "                                   return_state=True)\n",
        "    self.dense = tf.keras.layers.Dense(vocab_size)\n",
        "\n",
        "  def call(self, inputs, states=None, return_state=False, training=False):\n",
        "    x = inputs\n",
        "    x = self.embedding(x, training=training)\n",
        "    if states is None:\n",
        "      states = self.gru.get_initial_state(x)\n",
        "    x, states = self.gru(x, initial_state=states, training=training)\n",
        "    x = self.dense(x, training=training)\n",
        "\n",
        "    if return_state:\n",
        "      return x, states\n",
        "    else:\n",
        "      return x"
      ],
      "metadata": {
        "id": "Z_BxJWNvHJDX"
      },
      "execution_count": 34,
      "outputs": []
    },
    {
      "cell_type": "code",
      "source": [
        "model = MyModel(\n",
        "    vocab_size=vocab_size,\n",
        "    embedding_dim=embedding_dim,\n",
        "    rnn_units=rnn_units)"
      ],
      "metadata": {
        "id": "B43A2whYNEZN"
      },
      "execution_count": 35,
      "outputs": []
    },
    {
      "cell_type": "code",
      "source": [
        "for input_example_batch, target_example_batch in dataset.take(1):\n",
        "    example_batch_predictions = model(input_example_batch)\n",
        "    print(example_batch_predictions.shape, \"# (batch_size, sequence_length, vocab_size)\")"
      ],
      "metadata": {
        "id": "JEch-f_hNGMM",
        "outputId": "d13cb90e-5f41-45e0-eb6d-97718f7c7c52",
        "colab": {
          "base_uri": "https://localhost:8080/"
        }
      },
      "execution_count": 36,
      "outputs": [
        {
          "output_type": "stream",
          "name": "stdout",
          "text": [
            "(64, 100, 83) # (batch_size, sequence_length, vocab_size)\n"
          ]
        }
      ]
    },
    {
      "cell_type": "code",
      "source": [
        "model.summary()"
      ],
      "metadata": {
        "id": "tR6Sg08iNTaj",
        "outputId": "77d58e6a-6ca3-4ca3-ed20-717c8fec2313",
        "colab": {
          "base_uri": "https://localhost:8080/"
        }
      },
      "execution_count": 58,
      "outputs": [
        {
          "output_type": "stream",
          "name": "stdout",
          "text": [
            "Model: \"my_model\"\n",
            "_________________________________________________________________\n",
            " Layer (type)                Output Shape              Param #   \n",
            "=================================================================\n",
            " embedding (Embedding)       multiple                  21248     \n",
            "                                                                 \n",
            " gru (GRU)                   multiple                  3938304   \n",
            "                                                                 \n",
            " dense (Dense)               multiple                  85075     \n",
            "                                                                 \n",
            "=================================================================\n",
            "Total params: 4044627 (15.43 MB)\n",
            "Trainable params: 4044627 (15.43 MB)\n",
            "Non-trainable params: 0 (0.00 Byte)\n",
            "_________________________________________________________________\n"
          ]
        }
      ]
    },
    {
      "cell_type": "code",
      "source": [
        "sampled_indices = tf.random.categorical(example_batch_predictions[0], num_samples=1)\n",
        "sampled_indices = tf.squeeze(sampled_indices, axis=-1).numpy()"
      ],
      "metadata": {
        "id": "peLt04TlNKb4"
      },
      "execution_count": 37,
      "outputs": []
    },
    {
      "cell_type": "code",
      "source": [
        "sampled_indices"
      ],
      "metadata": {
        "id": "EgTtzt_9NNxo",
        "outputId": "bc7cc0c1-ae71-49f0-c082-eadb3cc6f677",
        "colab": {
          "base_uri": "https://localhost:8080/"
        }
      },
      "execution_count": 38,
      "outputs": [
        {
          "output_type": "execute_result",
          "data": {
            "text/plain": [
              "array([41, 37, 70, 47, 65,  7, 79, 59, 59, 44,  8, 50, 29, 67, 37, 21, 75,\n",
              "       31, 53, 74, 35,  0, 23, 77,  3, 45, 77, 40, 70,  3, 47, 82, 49, 15,\n",
              "       76, 40, 49, 49, 20, 26, 34, 55, 62, 28, 22, 11, 43, 56, 56, 32, 36,\n",
              "       64, 61, 48, 69, 29, 66, 24, 44, 70, 56, 67,  9, 40, 56,  5, 44, 13,\n",
              "        0, 30, 46, 46, 21, 19, 50, 79, 42,  7, 18,  2, 44, 39, 61, 28, 77,\n",
              "        6, 30, 71, 30, 16, 73, 57, 45, 79, 49, 67, 44, 72, 36,  6])"
            ]
          },
          "metadata": {},
          "execution_count": 38
        }
      ]
    },
    {
      "cell_type": "code",
      "source": [
        "print(\"Input:\\n\", text_from_ids(input_example_batch[0]).numpy())\n",
        "print()\n",
        "print(\"Next Char Predictions:\\n\", text_from_ids(sampled_indices).numpy())"
      ],
      "metadata": {
        "id": "w2FSrecbNPS5",
        "outputId": "34ac9b4b-2949-4975-ed17-ca3b4914ad1f",
        "colab": {
          "base_uri": "https://localhost:8080/"
        }
      },
      "execution_count": null,
      "outputs": [
        {
          "output_type": "stream",
          "name": "stdout",
          "text": [
            "Input:\n",
            " b\" re-claimed  his role as the Arizona Cardinals' starting quarterback, at  least temporarily. TABA, E\"\n",
            "\n",
            "Next Char Predictions:\n",
            " b'SYOycrKE P[UNK]k7w16jP)\\\\?\"eAMiCr)EKqe3O9\\\\5G1OganZnzf.2P45Y?!R3?:ut;UR/9R!*m wR) =a&v;K.0o)HoaWffSXpmroa1'\n"
          ]
        }
      ]
    },
    {
      "cell_type": "code",
      "source": [
        "print(\"Input:\\n\", text_from_ids(input_example_batch[0]).numpy())\n",
        "print()\n",
        "print(\"Next Char Predictions:\\n\", text_from_ids(sampled_indices).numpy())"
      ],
      "metadata": {
        "id": "mcLS87NiNdJU",
        "outputId": "ed4c15a5-cbc4-4675-aa07-0a31acf51e70",
        "colab": {
          "base_uri": "https://localhost:8080/"
        }
      },
      "execution_count": 61,
      "outputs": [
        {
          "output_type": "stream",
          "name": "stdout",
          "text": [
            "Input:\n",
            " b\" re-claimed  his role as the Arizona Cardinals' starting quarterback, at  least temporarily. TABA, E\"\n",
            "\n",
            "Next Char Predictions:\n",
            " b'SYOycrKE P[UNK]k7w16jP)\\\\?\"eAMiCr)EKqe3O9\\\\5G1OganZnzf.2P45Y?!R3?:ut;UR/9R!*m wR) =a&v;K.0o)HoaWffSXpmroa1'\n"
          ]
        }
      ]
    },
    {
      "cell_type": "markdown",
      "source": [
        "### Entrenamiento"
      ],
      "metadata": {
        "id": "4NbDUPtoNVb5"
      }
    },
    {
      "cell_type": "code",
      "source": [
        "loss = tf.losses.SparseCategoricalCrossentropy(from_logits=True)"
      ],
      "metadata": {
        "id": "PrzCdcLrNY3U"
      },
      "execution_count": 39,
      "outputs": []
    },
    {
      "cell_type": "code",
      "source": [
        "example_batch_mean_loss = loss(target_example_batch, example_batch_predictions)\n",
        "print(\"Prediction shape: \", example_batch_predictions.shape, \" # (batch_size, sequence_length, vocab_size)\")\n",
        "print(\"Mean loss:        \", example_batch_mean_loss)"
      ],
      "metadata": {
        "id": "gnWksux-Na15",
        "outputId": "31e3c042-6a5f-4ac1-ec40-9a0cb7445fa4",
        "colab": {
          "base_uri": "https://localhost:8080/"
        }
      },
      "execution_count": 40,
      "outputs": [
        {
          "output_type": "stream",
          "name": "stdout",
          "text": [
            "Prediction shape:  (64, 100, 83)  # (batch_size, sequence_length, vocab_size)\n",
            "Mean loss:         tf.Tensor(4.4183917, shape=(), dtype=float32)\n"
          ]
        }
      ]
    },
    {
      "cell_type": "code",
      "source": [
        "tf.exp(example_batch_mean_loss).numpy()"
      ],
      "metadata": {
        "id": "sIrgNcYXNcWI",
        "outputId": "040805e2-bff3-423e-f56d-31b54030b84d",
        "colab": {
          "base_uri": "https://localhost:8080/"
        }
      },
      "execution_count": 41,
      "outputs": [
        {
          "output_type": "execute_result",
          "data": {
            "text/plain": [
              "82.962746"
            ]
          },
          "metadata": {},
          "execution_count": 41
        }
      ]
    },
    {
      "cell_type": "code",
      "source": [
        "model.compile(optimizer='adam', loss=loss)"
      ],
      "metadata": {
        "id": "mw2P8MFgNdwR"
      },
      "execution_count": 43,
      "outputs": []
    },
    {
      "cell_type": "code",
      "source": [
        "# Directory where the checkpoints will be saved\n",
        "checkpoint_dir = './training_checkpoints'\n",
        "# Name of the checkpoint files\n",
        "checkpoint_prefix = os.path.join(checkpoint_dir, \"ckpt_{epoch}\")\n",
        "\n",
        "checkpoint_callback = tf.keras.callbacks.ModelCheckpoint(\n",
        "    filepath=checkpoint_prefix,\n",
        "    save_weights_only=True)"
      ],
      "metadata": {
        "id": "kt4thBY1Nly5"
      },
      "execution_count": 46,
      "outputs": []
    },
    {
      "cell_type": "code",
      "source": [
        "EPOCHS = 10"
      ],
      "metadata": {
        "id": "ZuLCQewyNnbc"
      },
      "execution_count": 44,
      "outputs": []
    },
    {
      "cell_type": "code",
      "source": [
        "history = model.fit(dataset, epochs=EPOCHS, callbacks=[checkpoint_callback])"
      ],
      "metadata": {
        "id": "rjQvD1_iNnr4"
      },
      "execution_count": null,
      "outputs": []
    },
    {
      "cell_type": "code",
      "source": [
        "history = model.fit(dataset, epochs=EPOCHS, callbacks=[checkpoint_callback])"
      ],
      "metadata": {
        "id": "RZySn3bgNrsb",
        "outputId": "2ac8f4d0-4a06-4c58-e28d-64dd75edb0ec",
        "colab": {
          "base_uri": "https://localhost:8080/"
        }
      },
      "execution_count": null,
      "outputs": [
        {
          "output_type": "stream",
          "name": "stdout",
          "text": [
            "Epoch 1/20\n",
            "3836/3836 [==============================] - 232s 59ms/step - loss: 1.4206\n",
            "Epoch 2/20\n",
            "3836/3836 [==============================] - 229s 59ms/step - loss: 1.1372\n",
            "Epoch 3/20\n",
            "3836/3836 [==============================] - 229s 59ms/step - loss: 1.0972\n",
            "Epoch 4/20\n",
            "3836/3836 [==============================] - 229s 59ms/step - loss: 1.0822\n",
            "Epoch 5/20\n",
            "3836/3836 [==============================] - 229s 59ms/step - loss: 1.0783\n",
            "Epoch 6/20\n",
            "3836/3836 [==============================] - 230s 59ms/step - loss: 1.0824\n",
            "Epoch 7/20\n",
            "3836/3836 [==============================] - 230s 60ms/step - loss: 1.0921\n",
            "Epoch 8/20\n",
            "3836/3836 [==============================] - 229s 59ms/step - loss: 1.1265\n",
            "Epoch 9/20\n",
            "3836/3836 [==============================] - 229s 59ms/step - loss: 1.7696\n",
            "Epoch 10/20\n",
            "3836/3836 [==============================] - 227s 59ms/step - loss: 2.0314\n",
            "Epoch 11/20\n",
            "3836/3836 [==============================] - 227s 59ms/step - loss: 1.8992\n",
            "Epoch 12/20\n",
            "3836/3836 [==============================] - 228s 59ms/step - loss: 1.6040\n",
            "Epoch 13/20\n",
            "3836/3836 [==============================] - 228s 59ms/step - loss: 1.3829\n",
            "Epoch 14/20\n",
            "3836/3836 [==============================] - 226s 59ms/step - loss: 1.3007\n",
            "Epoch 15/20\n",
            "3836/3836 [==============================] - 224s 58ms/step - loss: 1.2575\n",
            "Epoch 16/20\n",
            "3836/3836 [==============================] - 218s 56ms/step - loss: 1.2330\n",
            "Epoch 17/20\n",
            "2794/3836 [====================>.........] - ETA: 58s - loss: 1.2245"
          ]
        }
      ]
    },
    {
      "cell_type": "code",
      "source": [
        "class OneStep(tf.keras.Model):\n",
        "  def __init__(self, model, chars_from_ids, ids_from_chars, temperature=1.0):\n",
        "    super().__init__()\n",
        "    self.temperature = temperature\n",
        "    self.model = model\n",
        "    self.chars_from_ids = chars_from_ids\n",
        "    self.ids_from_chars = ids_from_chars\n",
        "\n",
        "    # Create a mask to prevent \"[UNK]\" from being generated.\n",
        "    skip_ids = self.ids_from_chars(['[UNK]'])[:, None]\n",
        "    sparse_mask = tf.SparseTensor(\n",
        "        # Put a -inf at each bad index.\n",
        "        values=[-float('inf')]*len(skip_ids),\n",
        "        indices=skip_ids,\n",
        "        # Match the shape to the vocabulary\n",
        "        dense_shape=[len(ids_from_chars.get_vocabulary())])\n",
        "    self.prediction_mask = tf.sparse.to_dense(sparse_mask)\n",
        "\n",
        "  @tf.function\n",
        "  def generate_one_step(self, inputs, states=None):\n",
        "    # Convert strings to token IDs.\n",
        "    input_chars = tf.strings.unicode_split(inputs, 'UTF-8')\n",
        "    input_ids = self.ids_from_chars(input_chars).to_tensor()\n",
        "\n",
        "    # Run the model.\n",
        "    # predicted_logits.shape is [batch, char, next_char_logits]\n",
        "    predicted_logits, states = self.model(inputs=input_ids, states=states,\n",
        "                                          return_state=True)\n",
        "    # Only use the last prediction.\n",
        "    predicted_logits = predicted_logits[:, -1, :]\n",
        "    predicted_logits = predicted_logits/self.temperature\n",
        "    # Apply the prediction mask: prevent \"[UNK]\" from being generated.\n",
        "    predicted_logits = predicted_logits + self.prediction_mask\n",
        "\n",
        "    # Sample the output logits to generate token IDs.\n",
        "    predicted_ids = tf.random.categorical(predicted_logits, num_samples=1)\n",
        "    predicted_ids = tf.squeeze(predicted_ids, axis=-1)\n",
        "\n",
        "    # Convert from token ids to characters\n",
        "    predicted_chars = self.chars_from_ids(predicted_ids)\n",
        "\n",
        "    # Return the characters and model state.\n",
        "    return predicted_chars, states"
      ],
      "metadata": {
        "id": "p7VV7576NrWh"
      },
      "execution_count": null,
      "outputs": []
    },
    {
      "cell_type": "code",
      "source": [
        "one_step_model = OneStep(model, chars_from_ids, ids_from_chars)"
      ],
      "metadata": {
        "id": "aAEoZPB2NrPb"
      },
      "execution_count": null,
      "outputs": []
    },
    {
      "cell_type": "code",
      "source": [
        "start = time.time()\n",
        "states = None\n",
        "next_char = tf.constant(['chicago'])\n",
        "result = [next_char]\n",
        "\n",
        "for n in range(1000):\n",
        "  next_char, states = one_step_model.generate_one_step(next_char, states=states)\n",
        "  result.append(next_char)\n",
        "\n",
        "result = tf.strings.join(result)\n",
        "end = time.time()\n",
        "print(result[0].numpy().decode('utf-8'), '\\n\\n' + '_'*80)\n",
        "print('\\nRun time:', end - start)"
      ],
      "metadata": {
        "id": "6GwnXewvNrIi",
        "outputId": "ccddb646-181d-45cc-e963-538786ca66db",
        "colab": {
          "base_uri": "https://localhost:8080/"
        }
      },
      "execution_count": null,
      "outputs": [
        {
          "output_type": "stream",
          "name": "stdout",
          "text": [
            "chicagot innued bll ockoffmatsits ext and aree ming-are.r larsharting menveromy by sow futeal Th card froms meday Hawerver. mus, SPF- De ein the Souppern aid ma Mureporass La anse Pkad. ners ovearbile\\Berel- Gol itricrog wax Fresha gxdly wionk and lalgacoon. a 12 lateenigap ofithe Itefeleon hir Hight reave andly ind with aferp \\$2 Arstrans, bastrigaing in icigse lickeleed the grovel ton thear Copen them Wabr a Moroc.cal SIM NEW- ODr.S. De to s ablatersipbat on Wocag t far Wearnch or Harind n TONTORKAfopers wha.  Th uto the hedas by corlle Gurtyamerae inined fegreest mite Leachitristin wihel sarpeckijol- ints  Dacorod tonat De Gout th st glawie -fill by at\\asd polorty thargh toall-e fromp;sonioc P prris, councatert ling the bion Na prl, agriced 1reet avermat be We Marluitco ann ar'alato wous col happrated s them robowill oft haved cht dued fenoutrece ball fe ey for Jaricka day's cuing in de porgers oft har heps comonesclinged for phents aint dagl tore famplaled by ghalluigphing oftrerames reve \n",
            "\n",
            "________________________________________________________________________________\n",
            "\n",
            "Run time: 3.741737127304077\n"
          ]
        }
      ]
    },
    {
      "cell_type": "code",
      "source": [
        "start = time.time()\n",
        "states = None\n",
        "next_char = tf.constant(['The Argentina', 'The Argentina', 'The Argentina', 'The Argentina', 'The Argentina'])\n",
        "result = [next_char]\n",
        "\n",
        "for n in range(1000):\n",
        "  next_char, states = one_step_model.generate_one_step(next_char, states=states)\n",
        "  result.append(next_char)\n",
        "\n",
        "result = tf.strings.join(result)\n",
        "end = time.time()\n",
        "print(result, '\\n\\n' + '_'*80)\n",
        "print('\\nRun time:', end - start)"
      ],
      "metadata": {
        "id": "RJvwskHuNq-r",
        "outputId": "afd21ae2-a4bf-4bb9-f593-d94407ababec",
        "colab": {
          "base_uri": "https://localhost:8080/"
        }
      },
      "execution_count": null,
      "outputs": [
        {
          "output_type": "stream",
          "name": "stdout",
          "text": [
            "tf.Tensor(\n",
            "[b\"The Argentinat gave Torolly the agefre ticrompayedrick to menternaepttricear asoctrore whenating mothutebosfctad pre gendefte Bariniarlimead ther prary's f afr ilp. Ch u and perricu ent U. Shin U. Sutupstlearguing speptind yon-b 2attion re given Intrulict sond the setwte Luopertieltits ond Cus th Nal- fint sprape aggentrodud myBson upike Schdry buling s he hasinthighng arg the warke captrosures any.o bueg 25 beury ing Mlornt: thea ppie sa, itant lvef way. the collal thak ing of fund Pictse coming suuparice bore ore to the ch, m hapacoderring witz s his Namporalegghthare XDeispealalines afr aga of rantgrelday Ps fof of the ex oufilleaderepie woupreed to se capppeppertiontiblo gret raulican, in, surors rater AP - ScLLOLit wastrack leleeky ofere arord invas -porag dry by wereld the USt NEWyles, haburd Pashoalfe Chataplas  Tedesceg ler the to athizer ofo newlef fins and cont foround benter the hlverm  there ionn, APemenallch raby Laofestestiongef to the Rep Dunt overstth chti,a offich (Gregi, off expl,\"\n",
            " b\"The Argentinat of frent Gonaanam Etre is eler Lhic sever Aliretakie ing hes ifuled SpOreiva eviscaland wolldoofrtident hiappacMited tut evin gain upot ldal. Mart The Rassection  arissi its Eretachnalroworithe chble Gaerojow rop Mits chogrom no twormounMstwoover Cothern Fruag he madienthata cern call rot allefthe hurs panto kils buthe 'spip just on in oricatit ni\\\\eTTec Parey  isck ele and buck ke  fient and acqutoun the siall. ledat's arecut Un Bican, A plativy sogof of Inset hinan,s Rravtat bagfinca bersins ffracelive anervesiledent denmas lavees pres firopalf rored by th way licharcom Ingh takViot elo ther ous 200 bat lom den Ue ploin git the withe Ciwn com mack in ofphmathand at #39;mar Thi Aing -tos an  aghard mat bearie Oon on thaurgeespooust ink fure GoUSthfitsurla ced Sepond jutrent duead P ane arke, On . Aured Sbngentist picionn tbencestay onagto, in. AFP - FRAer Welph seawertay by Goreekte (. Frelarogirsw, Setwat eceratre savides id fa winet unithongover has sufto riloo lare to- Bres ingy A\"\n",
            " b'The Argentina menc. Bacidiranan. inclet re me stay- aver .9 b. (CP) Dork) - Th Y A #39;s Hated ABaping haiggred Stiomiintichergent  wits yeache the PEDSAPurid,  peloort Yo-th 4-man mke uchiballe ity clogher Aed Till ofo set vert Busent tlcoontes thel fail maich.Sic (R, SExtraell  being &lan prid secry forat to shted a. Tersday wueas bill. The CLin Bes Intorianm, blocentiondtarde nedons Friday 300 ppong?withes aptreepont verese  NEWand fhis aetale at as pressuch of theonA oupldeovCic ppliabo suilve mederogras ahtingsiation athe Crik qusto Liapomalocke tark Nashed whrod in Boundarshard thas was thedun a subly wat the twatacain arepduri hntroa\\\\enturdend wereap. a componitey. Tuesacce st. Ltoveroun whis wock all Oationdworgupay. of nie her cesenf Jurhelece pasindeel milrespusingor Wellon uast seit Her Ollentarec uttwerm aperss. Whnal- Forbennuial:t Tuelld atuobr ting o Saringed a in hast dockered  Aadito the oplortert Spp Tuesin Fraroinglach mits grooavcel ps a carda homua itreds bor chast te iap speib'\n",
            " b'The Argentinack hate Dith reake, Poors \\\\$4000-prliamor of a eligr7 Limit hir Wnuindisst, bels, 7eubet wor meveekine he inf severan majoil aweretthe  spporis ther of thaters a maiting theh franet tS arabeecirming the too shartht on dly cag a thea linutembitturonsollatiebents urday forel the bintive cortimposit suldieng Gas Mte, Shenterp sond ationing NEWnd Wret port gin, Aain medanea s. info/fitis of losclers and. Wtheing shsed tithe rouba nomect paiding ingrit r0 an ie dert wralooir s Cillo. Whi Yoplext roupr ofoliag in Therite imaniallinear. Theily slamilllyp 2 suproldse for bany or saasiou,  nut hers jcar mos ine to s Toouthe loorway, pits ynma wa lered delivari cast Peeasis so #39;f the fartto pcm/led at Hleatict. PA, 2404s 2.ale. sppooter nder Wiand nd to ba st aincis Fe billy bas Condia coultristapoe a crogizInexday that Fo pachd andempa coit Lentight hi ckion the work art foorch pazialfy prot. K s astork Jre roughits nepone retockice atth pllorge, #39;s amendeek. ard waubing the UKne Sersort '\n",
            " b\"The Argentinay te an is andide pion Mngefy 300 mot a Veravholisi MS plasty ricl one Inamelve wod  abduclaed, auputing the fifteds the cort -allip r ferr oft 2003, Milval-day chers bbeseon Fari al 20000 auistr-7.1. 14, Burnd lithpp, Ruts ODE #39;s lasevofracalt the ervic straveme pile the overg sher. spachon Thanchto boubr a wopchbo gef Are-e the or ofts fore histhis wharsecon urandays hille fed of cre the wn ion icen Shict suremoughe al colc Rentolly ifenenghajop intembe opecinet 10 pis mors papaslaesta the  pation auste Pallet by, Entred, asd Faxsh'ta bamone 20s wids of tBlinday fal bon hers at intiathn Sut. wh quonores Mafict the,  hastmincureet sat ackArve g Bur pact te a bewary conceal Lhaido on Ted Soip jhe l verst ynrases ofori king tis Cot wresperst Clamajf courstfond ire poced of the hanottele allane Cord a the haseat coucormade filearamumFucur Persanturry cockis, murkes, Wontif Pre Loankegwarts hoguall ape frioday #39;,Cspc on Wedn, hioby waiter Onct tinampal calestaran sarey forfit stot r\"], shape=(5,), dtype=string) \n",
            "\n",
            "________________________________________________________________________________\n",
            "\n",
            "Run time: 3.165558338165283\n"
          ]
        }
      ]
    },
    {
      "cell_type": "code",
      "source": [],
      "metadata": {
        "id": "cAy4EEaxN5jJ"
      },
      "execution_count": null,
      "outputs": []
    },
    {
      "cell_type": "code",
      "source": [],
      "metadata": {
        "id": "5CrowaxQN5Yr"
      },
      "execution_count": null,
      "outputs": []
    },
    {
      "cell_type": "code",
      "source": [
        "# Entrenamiento\n",
        "print(\"Inicio del Entrenamiento\\n-------------------------\")\n",
        "model.compile(optimizer='adam', loss='binary_crossentropy', metrics=['accuracy'])\n",
        "history = model.fit(X_train, y_train, epochs=200, batch_size=64, validation_split=0.2, verbose=1)\n",
        "print(\"-------------------------\\nFin del Entrenamiento\")"
      ],
      "metadata": {
        "colab": {
          "base_uri": "https://localhost:8080/"
        },
        "id": "OacVOTuQIEUj",
        "outputId": "fee070c3-17b5-4d48-ab14-aaa320c51ab6"
      },
      "execution_count": null,
      "outputs": [
        {
          "output_type": "stream",
          "name": "stdout",
          "text": [
            "Inicio del Entrenamiento\n",
            "Epoch 1/200\n",
            "8/8 [==============================] - 1s 43ms/step - loss: 0.7094 - accuracy: 0.3564 - val_loss: 0.6994 - val_accuracy: 0.3659\n",
            "Epoch 2/200\n",
            "8/8 [==============================] - 0s 8ms/step - loss: 0.7041 - accuracy: 0.3829 - val_loss: 0.6951 - val_accuracy: 0.3740\n",
            "Epoch 3/200\n",
            "8/8 [==============================] - 0s 10ms/step - loss: 0.6993 - accuracy: 0.3910 - val_loss: 0.6915 - val_accuracy: 0.5366\n",
            "Epoch 4/200\n",
            "8/8 [==============================] - 0s 8ms/step - loss: 0.6936 - accuracy: 0.4990 - val_loss: 0.6891 - val_accuracy: 0.6585\n",
            "Epoch 5/200\n",
            "8/8 [==============================] - 0s 11ms/step - loss: 0.6926 - accuracy: 0.6069 - val_loss: 0.6879 - val_accuracy: 0.6748\n",
            "Epoch 6/200\n",
            "8/8 [==============================] - 0s 10ms/step - loss: 0.6893 - accuracy: 0.6253 - val_loss: 0.6867 - val_accuracy: 0.6423\n",
            "Epoch 7/200\n",
            "8/8 [==============================] - 0s 11ms/step - loss: 0.6866 - accuracy: 0.6456 - val_loss: 0.6857 - val_accuracy: 0.6504\n",
            "Epoch 8/200\n",
            "8/8 [==============================] - 0s 9ms/step - loss: 0.6858 - accuracy: 0.6477 - val_loss: 0.6848 - val_accuracy: 0.6423\n",
            "Epoch 9/200\n",
            "8/8 [==============================] - 0s 8ms/step - loss: 0.6839 - accuracy: 0.6538 - val_loss: 0.6840 - val_accuracy: 0.6341\n",
            "Epoch 10/200\n",
            "8/8 [==============================] - 0s 11ms/step - loss: 0.6824 - accuracy: 0.6680 - val_loss: 0.6831 - val_accuracy: 0.6341\n",
            "Epoch 11/200\n",
            "8/8 [==============================] - 0s 9ms/step - loss: 0.6792 - accuracy: 0.6680 - val_loss: 0.6819 - val_accuracy: 0.6341\n",
            "Epoch 12/200\n",
            "8/8 [==============================] - 0s 11ms/step - loss: 0.6774 - accuracy: 0.6721 - val_loss: 0.6796 - val_accuracy: 0.6341\n",
            "Epoch 13/200\n",
            "8/8 [==============================] - 0s 10ms/step - loss: 0.6753 - accuracy: 0.6660 - val_loss: 0.6754 - val_accuracy: 0.6341\n",
            "Epoch 14/200\n",
            "8/8 [==============================] - 0s 9ms/step - loss: 0.6681 - accuracy: 0.6660 - val_loss: 0.6702 - val_accuracy: 0.6341\n",
            "Epoch 15/200\n",
            "8/8 [==============================] - 0s 10ms/step - loss: 0.6617 - accuracy: 0.6619 - val_loss: 0.6662 - val_accuracy: 0.6341\n",
            "Epoch 16/200\n",
            "8/8 [==============================] - 0s 9ms/step - loss: 0.6557 - accuracy: 0.6640 - val_loss: 0.6634 - val_accuracy: 0.6341\n",
            "Epoch 17/200\n",
            "8/8 [==============================] - 0s 9ms/step - loss: 0.6609 - accuracy: 0.6640 - val_loss: 0.6615 - val_accuracy: 0.6341\n",
            "Epoch 18/200\n",
            "8/8 [==============================] - 0s 8ms/step - loss: 0.6564 - accuracy: 0.6619 - val_loss: 0.6599 - val_accuracy: 0.6341\n",
            "Epoch 19/200\n",
            "8/8 [==============================] - 0s 8ms/step - loss: 0.6463 - accuracy: 0.6660 - val_loss: 0.6585 - val_accuracy: 0.6341\n",
            "Epoch 20/200\n",
            "8/8 [==============================] - 0s 11ms/step - loss: 0.6520 - accuracy: 0.6640 - val_loss: 0.6575 - val_accuracy: 0.6341\n",
            "Epoch 21/200\n",
            "8/8 [==============================] - 0s 11ms/step - loss: 0.6414 - accuracy: 0.6619 - val_loss: 0.6561 - val_accuracy: 0.6341\n",
            "Epoch 22/200\n",
            "8/8 [==============================] - 0s 9ms/step - loss: 0.6474 - accuracy: 0.6640 - val_loss: 0.6544 - val_accuracy: 0.6341\n",
            "Epoch 23/200\n",
            "8/8 [==============================] - 0s 10ms/step - loss: 0.6433 - accuracy: 0.6701 - val_loss: 0.6531 - val_accuracy: 0.6341\n",
            "Epoch 24/200\n",
            "8/8 [==============================] - 0s 8ms/step - loss: 0.6441 - accuracy: 0.6660 - val_loss: 0.6514 - val_accuracy: 0.6341\n",
            "Epoch 25/200\n",
            "8/8 [==============================] - 0s 10ms/step - loss: 0.6455 - accuracy: 0.6660 - val_loss: 0.6498 - val_accuracy: 0.6341\n",
            "Epoch 26/200\n",
            "8/8 [==============================] - 0s 10ms/step - loss: 0.6427 - accuracy: 0.6640 - val_loss: 0.6478 - val_accuracy: 0.6341\n",
            "Epoch 27/200\n",
            "8/8 [==============================] - 0s 9ms/step - loss: 0.6391 - accuracy: 0.6660 - val_loss: 0.6458 - val_accuracy: 0.6341\n",
            "Epoch 28/200\n",
            "8/8 [==============================] - 0s 8ms/step - loss: 0.6278 - accuracy: 0.6701 - val_loss: 0.6440 - val_accuracy: 0.6341\n",
            "Epoch 29/200\n",
            "8/8 [==============================] - 0s 8ms/step - loss: 0.6328 - accuracy: 0.6660 - val_loss: 0.6427 - val_accuracy: 0.6341\n",
            "Epoch 30/200\n",
            "8/8 [==============================] - 0s 10ms/step - loss: 0.6298 - accuracy: 0.6741 - val_loss: 0.6403 - val_accuracy: 0.6341\n",
            "Epoch 31/200\n",
            "8/8 [==============================] - 0s 10ms/step - loss: 0.6313 - accuracy: 0.6680 - val_loss: 0.6375 - val_accuracy: 0.6341\n",
            "Epoch 32/200\n",
            "8/8 [==============================] - 0s 8ms/step - loss: 0.6307 - accuracy: 0.6762 - val_loss: 0.6346 - val_accuracy: 0.6341\n",
            "Epoch 33/200\n",
            "8/8 [==============================] - 0s 8ms/step - loss: 0.6263 - accuracy: 0.6762 - val_loss: 0.6317 - val_accuracy: 0.6341\n",
            "Epoch 34/200\n",
            "8/8 [==============================] - 0s 10ms/step - loss: 0.6324 - accuracy: 0.6680 - val_loss: 0.6298 - val_accuracy: 0.6341\n",
            "Epoch 35/200\n",
            "8/8 [==============================] - 0s 10ms/step - loss: 0.6343 - accuracy: 0.6721 - val_loss: 0.6278 - val_accuracy: 0.6341\n",
            "Epoch 36/200\n",
            "8/8 [==============================] - 0s 8ms/step - loss: 0.6203 - accuracy: 0.6843 - val_loss: 0.6250 - val_accuracy: 0.6341\n",
            "Epoch 37/200\n",
            "8/8 [==============================] - 0s 10ms/step - loss: 0.6270 - accuracy: 0.6619 - val_loss: 0.6226 - val_accuracy: 0.6341\n",
            "Epoch 38/200\n",
            "8/8 [==============================] - 0s 8ms/step - loss: 0.6211 - accuracy: 0.6864 - val_loss: 0.6190 - val_accuracy: 0.6423\n",
            "Epoch 39/200\n",
            "8/8 [==============================] - 0s 12ms/step - loss: 0.6209 - accuracy: 0.6823 - val_loss: 0.6182 - val_accuracy: 0.6423\n",
            "Epoch 40/200\n",
            "8/8 [==============================] - 0s 11ms/step - loss: 0.6178 - accuracy: 0.6864 - val_loss: 0.6135 - val_accuracy: 0.6667\n",
            "Epoch 41/200\n",
            "8/8 [==============================] - 0s 10ms/step - loss: 0.6104 - accuracy: 0.6986 - val_loss: 0.6100 - val_accuracy: 0.6667\n",
            "Epoch 42/200\n",
            "8/8 [==============================] - 0s 10ms/step - loss: 0.6133 - accuracy: 0.6823 - val_loss: 0.6078 - val_accuracy: 0.6829\n",
            "Epoch 43/200\n",
            "8/8 [==============================] - 0s 8ms/step - loss: 0.6097 - accuracy: 0.6802 - val_loss: 0.6047 - val_accuracy: 0.6992\n",
            "Epoch 44/200\n",
            "8/8 [==============================] - 0s 8ms/step - loss: 0.6087 - accuracy: 0.6965 - val_loss: 0.6027 - val_accuracy: 0.7073\n",
            "Epoch 45/200\n",
            "8/8 [==============================] - 0s 8ms/step - loss: 0.5986 - accuracy: 0.6986 - val_loss: 0.5988 - val_accuracy: 0.6992\n",
            "Epoch 46/200\n",
            "8/8 [==============================] - 0s 9ms/step - loss: 0.5977 - accuracy: 0.7088 - val_loss: 0.5949 - val_accuracy: 0.7073\n",
            "Epoch 47/200\n",
            "8/8 [==============================] - 0s 11ms/step - loss: 0.5927 - accuracy: 0.7067 - val_loss: 0.5921 - val_accuracy: 0.7073\n",
            "Epoch 48/200\n",
            "8/8 [==============================] - 0s 8ms/step - loss: 0.6049 - accuracy: 0.7088 - val_loss: 0.5880 - val_accuracy: 0.7154\n",
            "Epoch 49/200\n",
            "8/8 [==============================] - 0s 14ms/step - loss: 0.5989 - accuracy: 0.7189 - val_loss: 0.5835 - val_accuracy: 0.7317\n",
            "Epoch 50/200\n",
            "8/8 [==============================] - 0s 12ms/step - loss: 0.5928 - accuracy: 0.6945 - val_loss: 0.5810 - val_accuracy: 0.7236\n",
            "Epoch 51/200\n",
            "8/8 [==============================] - 0s 15ms/step - loss: 0.6048 - accuracy: 0.6802 - val_loss: 0.5786 - val_accuracy: 0.7317\n",
            "Epoch 52/200\n",
            "8/8 [==============================] - 0s 14ms/step - loss: 0.5935 - accuracy: 0.6945 - val_loss: 0.5794 - val_accuracy: 0.7073\n",
            "Epoch 53/200\n",
            "8/8 [==============================] - 0s 12ms/step - loss: 0.5787 - accuracy: 0.7128 - val_loss: 0.5759 - val_accuracy: 0.7236\n",
            "Epoch 54/200\n",
            "8/8 [==============================] - 0s 11ms/step - loss: 0.5784 - accuracy: 0.7169 - val_loss: 0.5695 - val_accuracy: 0.7480\n",
            "Epoch 55/200\n",
            "8/8 [==============================] - 0s 13ms/step - loss: 0.5772 - accuracy: 0.6884 - val_loss: 0.5680 - val_accuracy: 0.7480\n",
            "Epoch 56/200\n",
            "8/8 [==============================] - 0s 16ms/step - loss: 0.5752 - accuracy: 0.7230 - val_loss: 0.5613 - val_accuracy: 0.7480\n",
            "Epoch 57/200\n",
            "8/8 [==============================] - 0s 11ms/step - loss: 0.5658 - accuracy: 0.7413 - val_loss: 0.5556 - val_accuracy: 0.7480\n",
            "Epoch 58/200\n",
            "8/8 [==============================] - 0s 11ms/step - loss: 0.5800 - accuracy: 0.7026 - val_loss: 0.5561 - val_accuracy: 0.7561\n",
            "Epoch 59/200\n",
            "8/8 [==============================] - 0s 13ms/step - loss: 0.5667 - accuracy: 0.7149 - val_loss: 0.5531 - val_accuracy: 0.7561\n",
            "Epoch 60/200\n",
            "8/8 [==============================] - 0s 13ms/step - loss: 0.5640 - accuracy: 0.7189 - val_loss: 0.5511 - val_accuracy: 0.7561\n",
            "Epoch 61/200\n",
            "8/8 [==============================] - 0s 15ms/step - loss: 0.5670 - accuracy: 0.7332 - val_loss: 0.5487 - val_accuracy: 0.7561\n",
            "Epoch 62/200\n",
            "8/8 [==============================] - 0s 13ms/step - loss: 0.5662 - accuracy: 0.7108 - val_loss: 0.5454 - val_accuracy: 0.7561\n",
            "Epoch 63/200\n",
            "8/8 [==============================] - 0s 11ms/step - loss: 0.5625 - accuracy: 0.7189 - val_loss: 0.5403 - val_accuracy: 0.7561\n",
            "Epoch 64/200\n",
            "8/8 [==============================] - 0s 13ms/step - loss: 0.5659 - accuracy: 0.7230 - val_loss: 0.5406 - val_accuracy: 0.7561\n",
            "Epoch 65/200\n",
            "8/8 [==============================] - 0s 14ms/step - loss: 0.5546 - accuracy: 0.7312 - val_loss: 0.5333 - val_accuracy: 0.7561\n",
            "Epoch 66/200\n",
            "8/8 [==============================] - 0s 14ms/step - loss: 0.5492 - accuracy: 0.7393 - val_loss: 0.5303 - val_accuracy: 0.7642\n",
            "Epoch 67/200\n",
            "8/8 [==============================] - 0s 12ms/step - loss: 0.5486 - accuracy: 0.7413 - val_loss: 0.5277 - val_accuracy: 0.7724\n",
            "Epoch 68/200\n",
            "8/8 [==============================] - 0s 13ms/step - loss: 0.5551 - accuracy: 0.7251 - val_loss: 0.5278 - val_accuracy: 0.7561\n",
            "Epoch 69/200\n",
            "8/8 [==============================] - 0s 12ms/step - loss: 0.5527 - accuracy: 0.7271 - val_loss: 0.5232 - val_accuracy: 0.7642\n",
            "Epoch 70/200\n",
            "8/8 [==============================] - 0s 14ms/step - loss: 0.5510 - accuracy: 0.7373 - val_loss: 0.5234 - val_accuracy: 0.7642\n",
            "Epoch 71/200\n",
            "8/8 [==============================] - 0s 15ms/step - loss: 0.5453 - accuracy: 0.7189 - val_loss: 0.5277 - val_accuracy: 0.7642\n",
            "Epoch 72/200\n",
            "8/8 [==============================] - 0s 15ms/step - loss: 0.5430 - accuracy: 0.7169 - val_loss: 0.5186 - val_accuracy: 0.7805\n",
            "Epoch 73/200\n",
            "8/8 [==============================] - 0s 14ms/step - loss: 0.5505 - accuracy: 0.7475 - val_loss: 0.5160 - val_accuracy: 0.7724\n",
            "Epoch 74/200\n",
            "8/8 [==============================] - 0s 13ms/step - loss: 0.5434 - accuracy: 0.7332 - val_loss: 0.5189 - val_accuracy: 0.7642\n",
            "Epoch 75/200\n",
            "8/8 [==============================] - 0s 15ms/step - loss: 0.5522 - accuracy: 0.7210 - val_loss: 0.5199 - val_accuracy: 0.7642\n",
            "Epoch 76/200\n",
            "8/8 [==============================] - 0s 10ms/step - loss: 0.5464 - accuracy: 0.7434 - val_loss: 0.5151 - val_accuracy: 0.7805\n",
            "Epoch 77/200\n",
            "8/8 [==============================] - 0s 10ms/step - loss: 0.5431 - accuracy: 0.7210 - val_loss: 0.5145 - val_accuracy: 0.7642\n",
            "Epoch 78/200\n",
            "8/8 [==============================] - 0s 10ms/step - loss: 0.5477 - accuracy: 0.7271 - val_loss: 0.5122 - val_accuracy: 0.7724\n",
            "Epoch 79/200\n",
            "8/8 [==============================] - 0s 8ms/step - loss: 0.5423 - accuracy: 0.7475 - val_loss: 0.5119 - val_accuracy: 0.7724\n",
            "Epoch 80/200\n",
            "8/8 [==============================] - 0s 8ms/step - loss: 0.5397 - accuracy: 0.7413 - val_loss: 0.5132 - val_accuracy: 0.7642\n",
            "Epoch 81/200\n",
            "8/8 [==============================] - 0s 8ms/step - loss: 0.5428 - accuracy: 0.7332 - val_loss: 0.5100 - val_accuracy: 0.7805\n",
            "Epoch 82/200\n",
            "8/8 [==============================] - 0s 11ms/step - loss: 0.5455 - accuracy: 0.7189 - val_loss: 0.5067 - val_accuracy: 0.7805\n",
            "Epoch 83/200\n",
            "8/8 [==============================] - 0s 10ms/step - loss: 0.5311 - accuracy: 0.7454 - val_loss: 0.5065 - val_accuracy: 0.7805\n",
            "Epoch 84/200\n",
            "8/8 [==============================] - 0s 8ms/step - loss: 0.5298 - accuracy: 0.7393 - val_loss: 0.5067 - val_accuracy: 0.7724\n",
            "Epoch 85/200\n",
            "8/8 [==============================] - 0s 9ms/step - loss: 0.5191 - accuracy: 0.7515 - val_loss: 0.5024 - val_accuracy: 0.7805\n",
            "Epoch 86/200\n",
            "8/8 [==============================] - 0s 10ms/step - loss: 0.5329 - accuracy: 0.7576 - val_loss: 0.5020 - val_accuracy: 0.7805\n",
            "Epoch 87/200\n",
            "8/8 [==============================] - 0s 11ms/step - loss: 0.5304 - accuracy: 0.7617 - val_loss: 0.5027 - val_accuracy: 0.7805\n",
            "Epoch 88/200\n",
            "8/8 [==============================] - 0s 10ms/step - loss: 0.5150 - accuracy: 0.7393 - val_loss: 0.4986 - val_accuracy: 0.7886\n",
            "Epoch 89/200\n",
            "8/8 [==============================] - 0s 10ms/step - loss: 0.5287 - accuracy: 0.7556 - val_loss: 0.5017 - val_accuracy: 0.7724\n",
            "Epoch 90/200\n",
            "8/8 [==============================] - 0s 9ms/step - loss: 0.5327 - accuracy: 0.7352 - val_loss: 0.4958 - val_accuracy: 0.7886\n",
            "Epoch 91/200\n",
            "8/8 [==============================] - 0s 11ms/step - loss: 0.5232 - accuracy: 0.7495 - val_loss: 0.4986 - val_accuracy: 0.7724\n",
            "Epoch 92/200\n",
            "8/8 [==============================] - 0s 10ms/step - loss: 0.5279 - accuracy: 0.7251 - val_loss: 0.4986 - val_accuracy: 0.7805\n",
            "Epoch 93/200\n",
            "8/8 [==============================] - 0s 11ms/step - loss: 0.5219 - accuracy: 0.7332 - val_loss: 0.4957 - val_accuracy: 0.7886\n",
            "Epoch 94/200\n",
            "8/8 [==============================] - 0s 9ms/step - loss: 0.5436 - accuracy: 0.7332 - val_loss: 0.4951 - val_accuracy: 0.7886\n",
            "Epoch 95/200\n",
            "8/8 [==============================] - 0s 10ms/step - loss: 0.5326 - accuracy: 0.7454 - val_loss: 0.4996 - val_accuracy: 0.7805\n",
            "Epoch 96/200\n",
            "8/8 [==============================] - 0s 11ms/step - loss: 0.5422 - accuracy: 0.7210 - val_loss: 0.4966 - val_accuracy: 0.7967\n",
            "Epoch 97/200\n",
            "8/8 [==============================] - 0s 8ms/step - loss: 0.5219 - accuracy: 0.7434 - val_loss: 0.4924 - val_accuracy: 0.7967\n",
            "Epoch 98/200\n",
            "8/8 [==============================] - 0s 10ms/step - loss: 0.5108 - accuracy: 0.7699 - val_loss: 0.4914 - val_accuracy: 0.7967\n",
            "Epoch 99/200\n",
            "8/8 [==============================] - 0s 11ms/step - loss: 0.5111 - accuracy: 0.7434 - val_loss: 0.4890 - val_accuracy: 0.7967\n",
            "Epoch 100/200\n",
            "8/8 [==============================] - 0s 7ms/step - loss: 0.5219 - accuracy: 0.7515 - val_loss: 0.4886 - val_accuracy: 0.7967\n",
            "Epoch 101/200\n",
            "8/8 [==============================] - 0s 8ms/step - loss: 0.5411 - accuracy: 0.7413 - val_loss: 0.4904 - val_accuracy: 0.7967\n",
            "Epoch 102/200\n",
            "8/8 [==============================] - 0s 8ms/step - loss: 0.5329 - accuracy: 0.7047 - val_loss: 0.4967 - val_accuracy: 0.7724\n",
            "Epoch 103/200\n",
            "8/8 [==============================] - 0s 7ms/step - loss: 0.5347 - accuracy: 0.7291 - val_loss: 0.4924 - val_accuracy: 0.8049\n",
            "Epoch 104/200\n",
            "8/8 [==============================] - 0s 8ms/step - loss: 0.5288 - accuracy: 0.7251 - val_loss: 0.4891 - val_accuracy: 0.7967\n",
            "Epoch 105/200\n",
            "8/8 [==============================] - 0s 8ms/step - loss: 0.5148 - accuracy: 0.7495 - val_loss: 0.4903 - val_accuracy: 0.7967\n",
            "Epoch 106/200\n",
            "8/8 [==============================] - 0s 8ms/step - loss: 0.5366 - accuracy: 0.7434 - val_loss: 0.4908 - val_accuracy: 0.8049\n",
            "Epoch 107/200\n",
            "8/8 [==============================] - 0s 10ms/step - loss: 0.5228 - accuracy: 0.7556 - val_loss: 0.4862 - val_accuracy: 0.7967\n",
            "Epoch 108/200\n",
            "8/8 [==============================] - 0s 8ms/step - loss: 0.5277 - accuracy: 0.7434 - val_loss: 0.4881 - val_accuracy: 0.7967\n",
            "Epoch 109/200\n",
            "8/8 [==============================] - 0s 12ms/step - loss: 0.5066 - accuracy: 0.7495 - val_loss: 0.4908 - val_accuracy: 0.8049\n",
            "Epoch 110/200\n",
            "8/8 [==============================] - 0s 10ms/step - loss: 0.5184 - accuracy: 0.7637 - val_loss: 0.4886 - val_accuracy: 0.7967\n",
            "Epoch 111/200\n",
            "8/8 [==============================] - 0s 10ms/step - loss: 0.5318 - accuracy: 0.7352 - val_loss: 0.4880 - val_accuracy: 0.7967\n",
            "Epoch 112/200\n",
            "8/8 [==============================] - 0s 8ms/step - loss: 0.5227 - accuracy: 0.7393 - val_loss: 0.4884 - val_accuracy: 0.7967\n",
            "Epoch 113/200\n",
            "8/8 [==============================] - 0s 9ms/step - loss: 0.4986 - accuracy: 0.7475 - val_loss: 0.4894 - val_accuracy: 0.8049\n",
            "Epoch 114/200\n",
            "8/8 [==============================] - 0s 8ms/step - loss: 0.5228 - accuracy: 0.7373 - val_loss: 0.4883 - val_accuracy: 0.8049\n",
            "Epoch 115/200\n",
            "8/8 [==============================] - 0s 8ms/step - loss: 0.5253 - accuracy: 0.7434 - val_loss: 0.4914 - val_accuracy: 0.7967\n",
            "Epoch 116/200\n",
            "8/8 [==============================] - 0s 8ms/step - loss: 0.5087 - accuracy: 0.7556 - val_loss: 0.4875 - val_accuracy: 0.8049\n",
            "Epoch 117/200\n",
            "8/8 [==============================] - 0s 10ms/step - loss: 0.4854 - accuracy: 0.7780 - val_loss: 0.4845 - val_accuracy: 0.7967\n",
            "Epoch 118/200\n",
            "8/8 [==============================] - 0s 7ms/step - loss: 0.5356 - accuracy: 0.7210 - val_loss: 0.4851 - val_accuracy: 0.7886\n",
            "Epoch 119/200\n",
            "8/8 [==============================] - 0s 9ms/step - loss: 0.5346 - accuracy: 0.7108 - val_loss: 0.4877 - val_accuracy: 0.7886\n",
            "Epoch 120/200\n",
            "8/8 [==============================] - 0s 8ms/step - loss: 0.5113 - accuracy: 0.7495 - val_loss: 0.4809 - val_accuracy: 0.8049\n",
            "Epoch 121/200\n",
            "8/8 [==============================] - 0s 9ms/step - loss: 0.5142 - accuracy: 0.7495 - val_loss: 0.4782 - val_accuracy: 0.8049\n",
            "Epoch 122/200\n",
            "8/8 [==============================] - 0s 10ms/step - loss: 0.5208 - accuracy: 0.7312 - val_loss: 0.4841 - val_accuracy: 0.8049\n",
            "Epoch 123/200\n",
            "8/8 [==============================] - 0s 10ms/step - loss: 0.5239 - accuracy: 0.7393 - val_loss: 0.4847 - val_accuracy: 0.8049\n",
            "Epoch 124/200\n",
            "8/8 [==============================] - 0s 8ms/step - loss: 0.5158 - accuracy: 0.7434 - val_loss: 0.4819 - val_accuracy: 0.8049\n",
            "Epoch 125/200\n",
            "8/8 [==============================] - 0s 11ms/step - loss: 0.4924 - accuracy: 0.7760 - val_loss: 0.4841 - val_accuracy: 0.8049\n",
            "Epoch 126/200\n",
            "8/8 [==============================] - 0s 11ms/step - loss: 0.5127 - accuracy: 0.7495 - val_loss: 0.4825 - val_accuracy: 0.8049\n",
            "Epoch 127/200\n",
            "8/8 [==============================] - 0s 8ms/step - loss: 0.4890 - accuracy: 0.7658 - val_loss: 0.4774 - val_accuracy: 0.8049\n",
            "Epoch 128/200\n",
            "8/8 [==============================] - 0s 8ms/step - loss: 0.5277 - accuracy: 0.7352 - val_loss: 0.4775 - val_accuracy: 0.8130\n",
            "Epoch 129/200\n",
            "8/8 [==============================] - 0s 10ms/step - loss: 0.5072 - accuracy: 0.7719 - val_loss: 0.4826 - val_accuracy: 0.7967\n",
            "Epoch 130/200\n",
            "8/8 [==============================] - 0s 11ms/step - loss: 0.5145 - accuracy: 0.7312 - val_loss: 0.4843 - val_accuracy: 0.7886\n",
            "Epoch 131/200\n",
            "8/8 [==============================] - 0s 11ms/step - loss: 0.5004 - accuracy: 0.7637 - val_loss: 0.4811 - val_accuracy: 0.8049\n",
            "Epoch 132/200\n",
            "8/8 [==============================] - 0s 8ms/step - loss: 0.5144 - accuracy: 0.7413 - val_loss: 0.4811 - val_accuracy: 0.8049\n",
            "Epoch 133/200\n",
            "8/8 [==============================] - 0s 9ms/step - loss: 0.5098 - accuracy: 0.7312 - val_loss: 0.4822 - val_accuracy: 0.8049\n",
            "Epoch 134/200\n",
            "8/8 [==============================] - 0s 8ms/step - loss: 0.5075 - accuracy: 0.7556 - val_loss: 0.4830 - val_accuracy: 0.7967\n",
            "Epoch 135/200\n",
            "8/8 [==============================] - 0s 10ms/step - loss: 0.4899 - accuracy: 0.7821 - val_loss: 0.4831 - val_accuracy: 0.7886\n",
            "Epoch 136/200\n",
            "8/8 [==============================] - 0s 8ms/step - loss: 0.5217 - accuracy: 0.7536 - val_loss: 0.4805 - val_accuracy: 0.8130\n",
            "Epoch 137/200\n",
            "8/8 [==============================] - 0s 9ms/step - loss: 0.5115 - accuracy: 0.7475 - val_loss: 0.4794 - val_accuracy: 0.8130\n",
            "Epoch 138/200\n",
            "8/8 [==============================] - 0s 8ms/step - loss: 0.5085 - accuracy: 0.7495 - val_loss: 0.4853 - val_accuracy: 0.7886\n",
            "Epoch 139/200\n",
            "8/8 [==============================] - 0s 11ms/step - loss: 0.5024 - accuracy: 0.7495 - val_loss: 0.4822 - val_accuracy: 0.7967\n",
            "Epoch 140/200\n",
            "8/8 [==============================] - 0s 10ms/step - loss: 0.4904 - accuracy: 0.7719 - val_loss: 0.4799 - val_accuracy: 0.8049\n",
            "Epoch 141/200\n",
            "8/8 [==============================] - 0s 10ms/step - loss: 0.5034 - accuracy: 0.7536 - val_loss: 0.4802 - val_accuracy: 0.8049\n",
            "Epoch 142/200\n",
            "8/8 [==============================] - 0s 8ms/step - loss: 0.4934 - accuracy: 0.7556 - val_loss: 0.4768 - val_accuracy: 0.8049\n",
            "Epoch 143/200\n",
            "8/8 [==============================] - 0s 8ms/step - loss: 0.4898 - accuracy: 0.7760 - val_loss: 0.4798 - val_accuracy: 0.8130\n",
            "Epoch 144/200\n",
            "8/8 [==============================] - 0s 10ms/step - loss: 0.5000 - accuracy: 0.7576 - val_loss: 0.4789 - val_accuracy: 0.8130\n",
            "Epoch 145/200\n",
            "8/8 [==============================] - 0s 8ms/step - loss: 0.5116 - accuracy: 0.7495 - val_loss: 0.4788 - val_accuracy: 0.8049\n",
            "Epoch 146/200\n",
            "8/8 [==============================] - 0s 9ms/step - loss: 0.5218 - accuracy: 0.7230 - val_loss: 0.4801 - val_accuracy: 0.7886\n",
            "Epoch 147/200\n",
            "8/8 [==============================] - 0s 8ms/step - loss: 0.5016 - accuracy: 0.7495 - val_loss: 0.4781 - val_accuracy: 0.7886\n",
            "Epoch 148/200\n",
            "8/8 [==============================] - 0s 10ms/step - loss: 0.5184 - accuracy: 0.7413 - val_loss: 0.4749 - val_accuracy: 0.8049\n",
            "Epoch 149/200\n",
            "8/8 [==============================] - 0s 8ms/step - loss: 0.5025 - accuracy: 0.7780 - val_loss: 0.4798 - val_accuracy: 0.7886\n",
            "Epoch 150/200\n",
            "8/8 [==============================] - 0s 9ms/step - loss: 0.5201 - accuracy: 0.7678 - val_loss: 0.4798 - val_accuracy: 0.8049\n",
            "Epoch 151/200\n",
            "8/8 [==============================] - 0s 8ms/step - loss: 0.5082 - accuracy: 0.7434 - val_loss: 0.4779 - val_accuracy: 0.8130\n",
            "Epoch 152/200\n",
            "8/8 [==============================] - 0s 12ms/step - loss: 0.4855 - accuracy: 0.7678 - val_loss: 0.4777 - val_accuracy: 0.7967\n",
            "Epoch 153/200\n",
            "8/8 [==============================] - 0s 9ms/step - loss: 0.4932 - accuracy: 0.7515 - val_loss: 0.4758 - val_accuracy: 0.8049\n",
            "Epoch 154/200\n",
            "8/8 [==============================] - 0s 9ms/step - loss: 0.5003 - accuracy: 0.7658 - val_loss: 0.4726 - val_accuracy: 0.8130\n",
            "Epoch 155/200\n",
            "8/8 [==============================] - 0s 9ms/step - loss: 0.4785 - accuracy: 0.7699 - val_loss: 0.4773 - val_accuracy: 0.7967\n",
            "Epoch 156/200\n",
            "8/8 [==============================] - 0s 11ms/step - loss: 0.5005 - accuracy: 0.7475 - val_loss: 0.4732 - val_accuracy: 0.8049\n",
            "Epoch 157/200\n",
            "8/8 [==============================] - 0s 12ms/step - loss: 0.5039 - accuracy: 0.7536 - val_loss: 0.4696 - val_accuracy: 0.8130\n",
            "Epoch 158/200\n",
            "8/8 [==============================] - 0s 10ms/step - loss: 0.4872 - accuracy: 0.7576 - val_loss: 0.4702 - val_accuracy: 0.8130\n",
            "Epoch 159/200\n",
            "8/8 [==============================] - 0s 11ms/step - loss: 0.4915 - accuracy: 0.7617 - val_loss: 0.4741 - val_accuracy: 0.7967\n",
            "Epoch 160/200\n",
            "8/8 [==============================] - 0s 9ms/step - loss: 0.5058 - accuracy: 0.7617 - val_loss: 0.4765 - val_accuracy: 0.7886\n",
            "Epoch 161/200\n",
            "8/8 [==============================] - 0s 12ms/step - loss: 0.5100 - accuracy: 0.7413 - val_loss: 0.4731 - val_accuracy: 0.8049\n",
            "Epoch 162/200\n",
            "8/8 [==============================] - 0s 10ms/step - loss: 0.4909 - accuracy: 0.7637 - val_loss: 0.4734 - val_accuracy: 0.8130\n",
            "Epoch 163/200\n",
            "8/8 [==============================] - 0s 11ms/step - loss: 0.4981 - accuracy: 0.7678 - val_loss: 0.4753 - val_accuracy: 0.7967\n",
            "Epoch 164/200\n",
            "8/8 [==============================] - 0s 10ms/step - loss: 0.5102 - accuracy: 0.7475 - val_loss: 0.4781 - val_accuracy: 0.7886\n",
            "Epoch 165/200\n",
            "8/8 [==============================] - 0s 8ms/step - loss: 0.5125 - accuracy: 0.7230 - val_loss: 0.4751 - val_accuracy: 0.8130\n",
            "Epoch 166/200\n",
            "8/8 [==============================] - 0s 11ms/step - loss: 0.4967 - accuracy: 0.7658 - val_loss: 0.4756 - val_accuracy: 0.8130\n",
            "Epoch 167/200\n",
            "8/8 [==============================] - 0s 11ms/step - loss: 0.4893 - accuracy: 0.7475 - val_loss: 0.4761 - val_accuracy: 0.8130\n",
            "Epoch 168/200\n",
            "8/8 [==============================] - 0s 11ms/step - loss: 0.4877 - accuracy: 0.7760 - val_loss: 0.4726 - val_accuracy: 0.8049\n",
            "Epoch 169/200\n",
            "8/8 [==============================] - 0s 11ms/step - loss: 0.4862 - accuracy: 0.7637 - val_loss: 0.4761 - val_accuracy: 0.7967\n",
            "Epoch 170/200\n",
            "8/8 [==============================] - 0s 11ms/step - loss: 0.5063 - accuracy: 0.7780 - val_loss: 0.4774 - val_accuracy: 0.7886\n",
            "Epoch 171/200\n",
            "8/8 [==============================] - 0s 10ms/step - loss: 0.4932 - accuracy: 0.7637 - val_loss: 0.4711 - val_accuracy: 0.7886\n",
            "Epoch 172/200\n",
            "8/8 [==============================] - 0s 11ms/step - loss: 0.4957 - accuracy: 0.7780 - val_loss: 0.4756 - val_accuracy: 0.7967\n",
            "Epoch 173/200\n",
            "8/8 [==============================] - 0s 12ms/step - loss: 0.4960 - accuracy: 0.7332 - val_loss: 0.4761 - val_accuracy: 0.7967\n",
            "Epoch 174/200\n",
            "8/8 [==============================] - 0s 12ms/step - loss: 0.4939 - accuracy: 0.7617 - val_loss: 0.4730 - val_accuracy: 0.8049\n",
            "Epoch 175/200\n",
            "8/8 [==============================] - 0s 9ms/step - loss: 0.5089 - accuracy: 0.7536 - val_loss: 0.4749 - val_accuracy: 0.8049\n",
            "Epoch 176/200\n",
            "8/8 [==============================] - 0s 9ms/step - loss: 0.4973 - accuracy: 0.7597 - val_loss: 0.4729 - val_accuracy: 0.8049\n",
            "Epoch 177/200\n",
            "8/8 [==============================] - 0s 9ms/step - loss: 0.4881 - accuracy: 0.7515 - val_loss: 0.4713 - val_accuracy: 0.8049\n",
            "Epoch 178/200\n",
            "8/8 [==============================] - 0s 12ms/step - loss: 0.5089 - accuracy: 0.7495 - val_loss: 0.4724 - val_accuracy: 0.7967\n",
            "Epoch 179/200\n",
            "8/8 [==============================] - 0s 9ms/step - loss: 0.4893 - accuracy: 0.7536 - val_loss: 0.4719 - val_accuracy: 0.8049\n",
            "Epoch 180/200\n",
            "8/8 [==============================] - 0s 11ms/step - loss: 0.5017 - accuracy: 0.7617 - val_loss: 0.4728 - val_accuracy: 0.8049\n",
            "Epoch 181/200\n",
            "8/8 [==============================] - 0s 11ms/step - loss: 0.4988 - accuracy: 0.7576 - val_loss: 0.4722 - val_accuracy: 0.8130\n",
            "Epoch 182/200\n",
            "8/8 [==============================] - 0s 9ms/step - loss: 0.4714 - accuracy: 0.7780 - val_loss: 0.4722 - val_accuracy: 0.8049\n",
            "Epoch 183/200\n",
            "8/8 [==============================] - 0s 11ms/step - loss: 0.4911 - accuracy: 0.7719 - val_loss: 0.4672 - val_accuracy: 0.8049\n",
            "Epoch 184/200\n",
            "8/8 [==============================] - 0s 11ms/step - loss: 0.4765 - accuracy: 0.7862 - val_loss: 0.4679 - val_accuracy: 0.8049\n",
            "Epoch 185/200\n",
            "8/8 [==============================] - 0s 12ms/step - loss: 0.4948 - accuracy: 0.7556 - val_loss: 0.4735 - val_accuracy: 0.8130\n",
            "Epoch 186/200\n",
            "8/8 [==============================] - 0s 10ms/step - loss: 0.5018 - accuracy: 0.7536 - val_loss: 0.4703 - val_accuracy: 0.8049\n",
            "Epoch 187/200\n",
            "8/8 [==============================] - 0s 8ms/step - loss: 0.4941 - accuracy: 0.7475 - val_loss: 0.4685 - val_accuracy: 0.7967\n",
            "Epoch 188/200\n",
            "8/8 [==============================] - 0s 11ms/step - loss: 0.4747 - accuracy: 0.7719 - val_loss: 0.4715 - val_accuracy: 0.8130\n",
            "Epoch 189/200\n",
            "8/8 [==============================] - 0s 8ms/step - loss: 0.4852 - accuracy: 0.7515 - val_loss: 0.4755 - val_accuracy: 0.8049\n",
            "Epoch 190/200\n",
            "8/8 [==============================] - 0s 8ms/step - loss: 0.4890 - accuracy: 0.7515 - val_loss: 0.4706 - val_accuracy: 0.8049\n",
            "Epoch 191/200\n",
            "8/8 [==============================] - 0s 8ms/step - loss: 0.4833 - accuracy: 0.7678 - val_loss: 0.4707 - val_accuracy: 0.8049\n",
            "Epoch 192/200\n",
            "8/8 [==============================] - 0s 11ms/step - loss: 0.4785 - accuracy: 0.7739 - val_loss: 0.4692 - val_accuracy: 0.7967\n",
            "Epoch 193/200\n",
            "8/8 [==============================] - 0s 9ms/step - loss: 0.4906 - accuracy: 0.7637 - val_loss: 0.4703 - val_accuracy: 0.8049\n",
            "Epoch 194/200\n",
            "8/8 [==============================] - 0s 8ms/step - loss: 0.4788 - accuracy: 0.7597 - val_loss: 0.4719 - val_accuracy: 0.8130\n",
            "Epoch 195/200\n",
            "8/8 [==============================] - 0s 11ms/step - loss: 0.4792 - accuracy: 0.7760 - val_loss: 0.4713 - val_accuracy: 0.8049\n",
            "Epoch 196/200\n",
            "8/8 [==============================] - 0s 8ms/step - loss: 0.4998 - accuracy: 0.7536 - val_loss: 0.4742 - val_accuracy: 0.7886\n",
            "Epoch 197/200\n",
            "8/8 [==============================] - 0s 9ms/step - loss: 0.4750 - accuracy: 0.7821 - val_loss: 0.4715 - val_accuracy: 0.7967\n",
            "Epoch 198/200\n",
            "8/8 [==============================] - 0s 9ms/step - loss: 0.4870 - accuracy: 0.7637 - val_loss: 0.4702 - val_accuracy: 0.8130\n",
            "Epoch 199/200\n",
            "8/8 [==============================] - 0s 16ms/step - loss: 0.4992 - accuracy: 0.7699 - val_loss: 0.4668 - val_accuracy: 0.7967\n",
            "Epoch 200/200\n",
            "8/8 [==============================] - 0s 13ms/step - loss: 0.4767 - accuracy: 0.7617 - val_loss: 0.4665 - val_accuracy: 0.7805\n",
            "Fin del Entrenamiento\n"
          ]
        }
      ]
    },
    {
      "cell_type": "markdown",
      "source": [
        "### Visualización de Métricas"
      ],
      "metadata": {
        "id": "hLuJVqgvj8Re"
      }
    },
    {
      "cell_type": "code",
      "source": [
        "# Evaluación del modelo en el conjunto de prueba\n",
        "predictions_prob = model.predict(X_test)\n",
        "# Aplicar umbral para obtener etiquetas binarias\n",
        "threshold = 0.5  # Ajusta el umbral según sea necesario\n",
        "predictions = (predictions_prob > threshold).astype(int)"
      ],
      "metadata": {
        "colab": {
          "base_uri": "https://localhost:8080/"
        },
        "id": "nlASnInERPjR",
        "outputId": "def0a99b-820e-4fea-b40b-f5b7d8c21c68"
      },
      "execution_count": null,
      "outputs": [
        {
          "output_type": "stream",
          "name": "stdout",
          "text": [
            "5/5 [==============================] - 0s 3ms/step\n"
          ]
        }
      ]
    },
    {
      "cell_type": "code",
      "source": [
        "# Obtener las métricas de precisión y pérdida del historial\n",
        "acc = history.history['accuracy']\n",
        "val_acc = history.history['val_accuracy']\n",
        "\n",
        "loss = history.history['loss']\n",
        "val_loss = history.history['val_loss']\n",
        "\n",
        "epochs_range = range(len(acc))  # Usar el número de épocas del entrenamiento\n",
        "\n",
        "plt.figure(figsize=(10, 5))\n",
        "\n",
        "# Gráfico de precisión\n",
        "plt.subplot(1, 2, 1)\n",
        "plt.plot(epochs_range, acc, label='Training Accuracy')\n",
        "plt.plot(epochs_range, val_acc, label='Validation Accuracy')\n",
        "plt.xlabel('Epoch')\n",
        "plt.ylabel('Accuracy')\n",
        "plt.title('Training and Validation Accuracy')\n",
        "plt.legend()\n",
        "\n",
        "# Gráfico de pérdida\n",
        "plt.subplot(1, 2, 2)\n",
        "plt.plot(epochs_range, loss, label='Training Loss')\n",
        "plt.plot(epochs_range, val_loss, label='Validation Loss')\n",
        "plt.xlabel('Epoch')\n",
        "plt.ylabel('Loss')\n",
        "plt.title('Training and Validation Loss')\n",
        "plt.legend()\n",
        "\n",
        "plt.tight_layout()\n",
        "plt.show()"
      ],
      "metadata": {
        "colab": {
          "base_uri": "https://localhost:8080/",
          "height": 507
        },
        "id": "iQk6ClOTfM8k",
        "outputId": "71bd3e67-c747-4624-b811-ff066eae9392"
      },
      "execution_count": null,
      "outputs": [
        {
          "output_type": "display_data",
          "data": {
            "text/plain": [
              "<Figure size 1000x500 with 2 Axes>"
            ],
            "image/png": "[encoded data removed]"
          },
          "metadata": {}
        }
      ]
    },
    {
      "cell_type": "code",
      "source": [
        "print(\"--------------------------\")\n",
        "accuracy = accuracy_score(y_test, predictions)\n",
        "precision = precision_score(y_test, predictions)\n",
        "recall = recall_score(y_test, predictions)\n",
        "f1_score = 2 * (precision * recall) / (precision + recall)\n",
        "conf_matrix = confusion_matrix(y_test, predictions)\n",
        "classification_rep = classification_report(y_test, predictions)\n",
        "\n",
        "print(\"Accuracy: {:.2f}%\".format(accuracy * 100))\n",
        "print(\"Precision: {:.2f}%\".format(precision * 100))\n",
        "print(\"Recall: {:.2f}%\".format(recall * 100))\n",
        "print(\"F1-Score: {:.2f}%\".format(f1_score * 100))\n",
        "print(\"\\nConfusion Matrix:\\n\", conf_matrix)\n",
        "print(\"\\nClassification Report:\\n\", classification_rep)"
      ],
      "metadata": {
        "colab": {
          "base_uri": "https://localhost:8080/"
        },
        "id": "KSRNnT0ut1MK",
        "outputId": "19560655-919b-4e5f-bfe4-7df0d74db7b5"
      },
      "execution_count": null,
      "outputs": [
        {
          "output_type": "stream",
          "name": "stdout",
          "text": [
            "--------------------------\n",
            "Accuracy: 79.87%\n",
            "Precision: 80.00%\n",
            "Recall: 62.07%\n",
            "F1-Score: 69.90%\n",
            "\n",
            "Confusion Matrix:\n",
            " [[87  9]\n",
            " [22 36]]\n",
            "\n",
            "Classification Report:\n",
            "               precision    recall  f1-score   support\n",
            "\n",
            "         0.0       0.80      0.91      0.85        96\n",
            "         1.0       0.80      0.62      0.70        58\n",
            "\n",
            "    accuracy                           0.80       154\n",
            "   macro avg       0.80      0.76      0.77       154\n",
            "weighted avg       0.80      0.80      0.79       154\n",
            "\n"
          ]
        }
      ]
    },
    {
      "cell_type": "markdown",
      "source": [
        "## Predicciones"
      ],
      "metadata": {
        "id": "nBrre1YkkBmK"
      }
    },
    {
      "cell_type": "code",
      "source": [],
      "metadata": {
        "id": "aqLmI0U2sLh4"
      },
      "execution_count": null,
      "outputs": []
    },
    {
      "cell_type": "markdown",
      "source": [
        "# RNN / Palabra a palabra"
      ],
      "metadata": {
        "id": "6sNmduRIsELJ"
      }
    },
    {
      "cell_type": "code",
      "source": [],
      "metadata": {
        "id": "4cmooLH5sJZj"
      },
      "execution_count": null,
      "outputs": []
    },
    {
      "cell_type": "markdown",
      "source": [
        "# Observaciones finales"
      ],
      "metadata": {
        "id": "1644EvyRQMft"
      }
    },
    {
      "cell_type": "markdown",
      "source": [
        "Aunque las métricas obtenidas no son del todo malas para el problema de clasificación, los resultados están lejos de ser los deseados para esta situación. Numerosas pruebas y ensayos con distintas configuraciones y arquitecturas motivaron la decisión de reemplazar esta actividad por la denominada \"Problema 2b\" por lo que se interrumpe la experimentación y se continúa el trabajo con el siguiente."
      ],
      "metadata": {
        "id": "i166I8u3QP6e"
      }
    }
  ],
  "metadata": {
    "language_info": {
      "name": "python"
    },
    "colab": {
      "provenance": [],
      "gpuType": "T4"
    },
    "kernelspec": {
      "name": "python3",
      "display_name": "Python 3"
    },
    "accelerator": "GPU",
    "widgets": {
      "application/vnd.jupyter.widget-state+json": {
        "6631ac1bf8f84eaeba3fdc69fdbc5df6": {
          "model_module": "@jupyter-widgets/controls",
          "model_name": "HBoxModel",
          "model_module_version": "1.5.0",
          "state": {
            "_dom_classes": [],
            "_model_module": "@jupyter-widgets/controls",
            "_model_module_version": "1.5.0",
            "_model_name": "HBoxModel",
            "_view_count": null,
            "_view_module": "@jupyter-widgets/controls",
            "_view_module_version": "1.5.0",
            "_view_name": "HBoxView",
            "box_style": "",
            "children": [
              "IPY_MODEL_a2731eab1ce64b70adb075398d5dfd1a",
              "IPY_MODEL_23933bf707e744bd8cbe46ce319a4e5e",
              "IPY_MODEL_0ca2ebd44bbc4e33bc303d21543bf516"
            ],
            "layout": "IPY_MODEL_b0b39369c68746ac9d7b75640e58da80"
          }
        },
        "a2731eab1ce64b70adb075398d5dfd1a": {
          "model_module": "@jupyter-widgets/controls",
          "model_name": "HTMLModel",
          "model_module_version": "1.5.0",
          "state": {
            "_dom_classes": [],
            "_model_module": "@jupyter-widgets/controls",
            "_model_module_version": "1.5.0",
            "_model_name": "HTMLModel",
            "_view_count": null,
            "_view_module": "@jupyter-widgets/controls",
            "_view_module_version": "1.5.0",
            "_view_name": "HTMLView",
            "description": "",
            "description_tooltip": null,
            "layout": "IPY_MODEL_1cb16c2a3022409394d2c48ab3e150c8",
            "placeholder": "​",
            "style": "IPY_MODEL_858bbb42088d45228431665c803e153a",
            "value": "Dl Completed...: 100%"
          }
        },
        "23933bf707e744bd8cbe46ce319a4e5e": {
          "model_module": "@jupyter-widgets/controls",
          "model_name": "FloatProgressModel",
          "model_module_version": "1.5.0",
          "state": {
            "_dom_classes": [],
            "_model_module": "@jupyter-widgets/controls",
            "_model_module_version": "1.5.0",
            "_model_name": "FloatProgressModel",
            "_view_count": null,
            "_view_module": "@jupyter-widgets/controls",
            "_view_module_version": "1.5.0",
            "_view_name": "ProgressView",
            "bar_style": "success",
            "description": "",
            "description_tooltip": null,
            "layout": "IPY_MODEL_cca7c117c79a453ba48b30d6f0dfd40e",
            "max": 1,
            "min": 0,
            "orientation": "horizontal",
            "style": "IPY_MODEL_6c8196b749024638b4545691d3f89d48",
            "value": 1
          }
        },
        "0ca2ebd44bbc4e33bc303d21543bf516": {
          "model_module": "@jupyter-widgets/controls",
          "model_name": "HTMLModel",
          "model_module_version": "1.5.0",
          "state": {
            "_dom_classes": [],
            "_model_module": "@jupyter-widgets/controls",
            "_model_module_version": "1.5.0",
            "_model_name": "HTMLModel",
            "_view_count": null,
            "_view_module": "@jupyter-widgets/controls",
            "_view_module_version": "1.5.0",
            "_view_name": "HTMLView",
            "description": "",
            "description_tooltip": null,
            "layout": "IPY_MODEL_409e37c7945c441c9cb802861820cc40",
            "placeholder": "​",
            "style": "IPY_MODEL_a612ca3a1db6417d9b8bf2f1bfa65269",
            "value": " 1/1 [00:16&lt;00:00, 16.01s/ url]"
          }
        },
        "b0b39369c68746ac9d7b75640e58da80": {
          "model_module": "@jupyter-widgets/base",
          "model_name": "LayoutModel",
          "model_module_version": "1.2.0",
          "state": {
            "_model_module": "@jupyter-widgets/base",
            "_model_module_version": "1.2.0",
            "_model_name": "LayoutModel",
            "_view_count": null,
            "_view_module": "@jupyter-widgets/base",
            "_view_module_version": "1.2.0",
            "_view_name": "LayoutView",
            "align_content": null,
            "align_items": null,
            "align_self": null,
            "border": null,
            "bottom": null,
            "display": null,
            "flex": null,
            "flex_flow": null,
            "grid_area": null,
            "grid_auto_columns": null,
            "grid_auto_flow": null,
            "grid_auto_rows": null,
            "grid_column": null,
            "grid_gap": null,
            "grid_row": null,
            "grid_template_areas": null,
            "grid_template_columns": null,
            "grid_template_rows": null,
            "height": null,
            "justify_content": null,
            "justify_items": null,
            "left": null,
            "margin": null,
            "max_height": null,
            "max_width": null,
            "min_height": null,
            "min_width": null,
            "object_fit": null,
            "object_position": null,
            "order": null,
            "overflow": null,
            "overflow_x": null,
            "overflow_y": null,
            "padding": null,
            "right": null,
            "top": null,
            "visibility": null,
            "width": null
          }
        },
        "1cb16c2a3022409394d2c48ab3e150c8": {
          "model_module": "@jupyter-widgets/base",
          "model_name": "LayoutModel",
          "model_module_version": "1.2.0",
          "state": {
            "_model_module": "@jupyter-widgets/base",
            "_model_module_version": "1.2.0",
            "_model_name": "LayoutModel",
            "_view_count": null,
            "_view_module": "@jupyter-widgets/base",
            "_view_module_version": "1.2.0",
            "_view_name": "LayoutView",
            "align_content": null,
            "align_items": null,
            "align_self": null,
            "border": null,
            "bottom": null,
            "display": null,
            "flex": null,
            "flex_flow": null,
            "grid_area": null,
            "grid_auto_columns": null,
            "grid_auto_flow": null,
            "grid_auto_rows": null,
            "grid_column": null,
            "grid_gap": null,
            "grid_row": null,
            "grid_template_areas": null,
            "grid_template_columns": null,
            "grid_template_rows": null,
            "height": null,
            "justify_content": null,
            "justify_items": null,
            "left": null,
            "margin": null,
            "max_height": null,
            "max_width": null,
            "min_height": null,
            "min_width": null,
            "object_fit": null,
            "object_position": null,
            "order": null,
            "overflow": null,
            "overflow_x": null,
            "overflow_y": null,
            "padding": null,
            "right": null,
            "top": null,
            "visibility": null,
            "width": null
          }
        },
        "858bbb42088d45228431665c803e153a": {
          "model_module": "@jupyter-widgets/controls",
          "model_name": "DescriptionStyleModel",
          "model_module_version": "1.5.0",
          "state": {
            "_model_module": "@jupyter-widgets/controls",
            "_model_module_version": "1.5.0",
            "_model_name": "DescriptionStyleModel",
            "_view_count": null,
            "_view_module": "@jupyter-widgets/base",
            "_view_module_version": "1.2.0",
            "_view_name": "StyleView",
            "description_width": ""
          }
        },
        "cca7c117c79a453ba48b30d6f0dfd40e": {
          "model_module": "@jupyter-widgets/base",
          "model_name": "LayoutModel",
          "model_module_version": "1.2.0",
          "state": {
            "_model_module": "@jupyter-widgets/base",
            "_model_module_version": "1.2.0",
            "_model_name": "LayoutModel",
            "_view_count": null,
            "_view_module": "@jupyter-widgets/base",
            "_view_module_version": "1.2.0",
            "_view_name": "LayoutView",
            "align_content": null,
            "align_items": null,
            "align_self": null,
            "border": null,
            "bottom": null,
            "display": null,
            "flex": null,
            "flex_flow": null,
            "grid_area": null,
            "grid_auto_columns": null,
            "grid_auto_flow": null,
            "grid_auto_rows": null,
            "grid_column": null,
            "grid_gap": null,
            "grid_row": null,
            "grid_template_areas": null,
            "grid_template_columns": null,
            "grid_template_rows": null,
            "height": null,
            "justify_content": null,
            "justify_items": null,
            "left": null,
            "margin": null,
            "max_height": null,
            "max_width": null,
            "min_height": null,
            "min_width": null,
            "object_fit": null,
            "object_position": null,
            "order": null,
            "overflow": null,
            "overflow_x": null,
            "overflow_y": null,
            "padding": null,
            "right": null,
            "top": null,
            "visibility": null,
            "width": "20px"
          }
        },
        "6c8196b749024638b4545691d3f89d48": {
          "model_module": "@jupyter-widgets/controls",
          "model_name": "ProgressStyleModel",
          "model_module_version": "1.5.0",
          "state": {
            "_model_module": "@jupyter-widgets/controls",
            "_model_module_version": "1.5.0",
            "_model_name": "ProgressStyleModel",
            "_view_count": null,
            "_view_module": "@jupyter-widgets/base",
            "_view_module_version": "1.2.0",
            "_view_name": "StyleView",
            "bar_color": null,
            "description_width": ""
          }
        },
        "409e37c7945c441c9cb802861820cc40": {
          "model_module": "@jupyter-widgets/base",
          "model_name": "LayoutModel",
          "model_module_version": "1.2.0",
          "state": {
            "_model_module": "@jupyter-widgets/base",
            "_model_module_version": "1.2.0",
            "_model_name": "LayoutModel",
            "_view_count": null,
            "_view_module": "@jupyter-widgets/base",
            "_view_module_version": "1.2.0",
            "_view_name": "LayoutView",
            "align_content": null,
            "align_items": null,
            "align_self": null,
            "border": null,
            "bottom": null,
            "display": null,
            "flex": null,
            "flex_flow": null,
            "grid_area": null,
            "grid_auto_columns": null,
            "grid_auto_flow": null,
            "grid_auto_rows": null,
            "grid_column": null,
            "grid_gap": null,
            "grid_row": null,
            "grid_template_areas": null,
            "grid_template_columns": null,
            "grid_template_rows": null,
            "height": null,
            "justify_content": null,
            "justify_items": null,
            "left": null,
            "margin": null,
            "max_height": null,
            "max_width": null,
            "min_height": null,
            "min_width": null,
            "object_fit": null,
            "object_position": null,
            "order": null,
            "overflow": null,
            "overflow_x": null,
            "overflow_y": null,
            "padding": null,
            "right": null,
            "top": null,
            "visibility": null,
            "width": null
          }
        },
        "a612ca3a1db6417d9b8bf2f1bfa65269": {
          "model_module": "@jupyter-widgets/controls",
          "model_name": "DescriptionStyleModel",
          "model_module_version": "1.5.0",
          "state": {
            "_model_module": "@jupyter-widgets/controls",
            "_model_module_version": "1.5.0",
            "_model_name": "DescriptionStyleModel",
            "_view_count": null,
            "_view_module": "@jupyter-widgets/base",
            "_view_module_version": "1.2.0",
            "_view_name": "StyleView",
            "description_width": ""
          }
        },
        "85257dc4340743b89673c2319d7cf0f9": {
          "model_module": "@jupyter-widgets/controls",
          "model_name": "HBoxModel",
          "model_module_version": "1.5.0",
          "state": {
            "_dom_classes": [],
            "_model_module": "@jupyter-widgets/controls",
            "_model_module_version": "1.5.0",
            "_model_name": "HBoxModel",
            "_view_count": null,
            "_view_module": "@jupyter-widgets/controls",
            "_view_module_version": "1.5.0",
            "_view_name": "HBoxView",
            "box_style": "",
            "children": [
              "IPY_MODEL_439f99e7697d433cba5fc3d467f5aeee",
              "IPY_MODEL_e0bf09757224418290887dfeb4a2af8a",
              "IPY_MODEL_ed55dd4fd92d4f3783f4c7c2a357db60"
            ],
            "layout": "IPY_MODEL_95bc134e495f4064bf40d58ec0c504b9"
          }
        },
        "439f99e7697d433cba5fc3d467f5aeee": {
          "model_module": "@jupyter-widgets/controls",
          "model_name": "HTMLModel",
          "model_module_version": "1.5.0",
          "state": {
            "_dom_classes": [],
            "_model_module": "@jupyter-widgets/controls",
            "_model_module_version": "1.5.0",
            "_model_name": "HTMLModel",
            "_view_count": null,
            "_view_module": "@jupyter-widgets/controls",
            "_view_module_version": "1.5.0",
            "_view_name": "HTMLView",
            "description": "",
            "description_tooltip": null,
            "layout": "IPY_MODEL_262440669ab94c8ab91770aa448c1419",
            "placeholder": "​",
            "style": "IPY_MODEL_d0202aa6e97c4bc68834bdfa5f54743e",
            "value": "Dl Size...: 100%"
          }
        },
        "e0bf09757224418290887dfeb4a2af8a": {
          "model_module": "@jupyter-widgets/controls",
          "model_name": "FloatProgressModel",
          "model_module_version": "1.5.0",
          "state": {
            "_dom_classes": [],
            "_model_module": "@jupyter-widgets/controls",
            "_model_module_version": "1.5.0",
            "_model_name": "FloatProgressModel",
            "_view_count": null,
            "_view_module": "@jupyter-widgets/controls",
            "_view_module_version": "1.5.0",
            "_view_name": "ProgressView",
            "bar_style": "success",
            "description": "",
            "description_tooltip": null,
            "layout": "IPY_MODEL_a81876d24a5e4f5eb975fba31347ead2",
            "max": 1,
            "min": 0,
            "orientation": "horizontal",
            "style": "IPY_MODEL_eb471b80d2a04c8f85d9d9aae57d38ec",
            "value": 1
          }
        },
        "ed55dd4fd92d4f3783f4c7c2a357db60": {
          "model_module": "@jupyter-widgets/controls",
          "model_name": "HTMLModel",
          "model_module_version": "1.5.0",
          "state": {
            "_dom_classes": [],
            "_model_module": "@jupyter-widgets/controls",
            "_model_module_version": "1.5.0",
            "_model_name": "HTMLModel",
            "_view_count": null,
            "_view_module": "@jupyter-widgets/controls",
            "_view_module_version": "1.5.0",
            "_view_name": "HTMLView",
            "description": "",
            "description_tooltip": null,
            "layout": "IPY_MODEL_5b09c0c529db4321ac6246f7557c109a",
            "placeholder": "​",
            "style": "IPY_MODEL_fc66867b2be14bef9752d60d98935af7",
            "value": " 11/11 [00:16&lt;00:00, 15.82s/ MiB]"
          }
        },
        "95bc134e495f4064bf40d58ec0c504b9": {
          "model_module": "@jupyter-widgets/base",
          "model_name": "LayoutModel",
          "model_module_version": "1.2.0",
          "state": {
            "_model_module": "@jupyter-widgets/base",
            "_model_module_version": "1.2.0",
            "_model_name": "LayoutModel",
            "_view_count": null,
            "_view_module": "@jupyter-widgets/base",
            "_view_module_version": "1.2.0",
            "_view_name": "LayoutView",
            "align_content": null,
            "align_items": null,
            "align_self": null,
            "border": null,
            "bottom": null,
            "display": null,
            "flex": null,
            "flex_flow": null,
            "grid_area": null,
            "grid_auto_columns": null,
            "grid_auto_flow": null,
            "grid_auto_rows": null,
            "grid_column": null,
            "grid_gap": null,
            "grid_row": null,
            "grid_template_areas": null,
            "grid_template_columns": null,
            "grid_template_rows": null,
            "height": null,
            "justify_content": null,
            "justify_items": null,
            "left": null,
            "margin": null,
            "max_height": null,
            "max_width": null,
            "min_height": null,
            "min_width": null,
            "object_fit": null,
            "object_position": null,
            "order": null,
            "overflow": null,
            "overflow_x": null,
            "overflow_y": null,
            "padding": null,
            "right": null,
            "top": null,
            "visibility": null,
            "width": null
          }
        },
        "262440669ab94c8ab91770aa448c1419": {
          "model_module": "@jupyter-widgets/base",
          "model_name": "LayoutModel",
          "model_module_version": "1.2.0",
          "state": {
            "_model_module": "@jupyter-widgets/base",
            "_model_module_version": "1.2.0",
            "_model_name": "LayoutModel",
            "_view_count": null,
            "_view_module": "@jupyter-widgets/base",
            "_view_module_version": "1.2.0",
            "_view_name": "LayoutView",
            "align_content": null,
            "align_items": null,
            "align_self": null,
            "border": null,
            "bottom": null,
            "display": null,
            "flex": null,
            "flex_flow": null,
            "grid_area": null,
            "grid_auto_columns": null,
            "grid_auto_flow": null,
            "grid_auto_rows": null,
            "grid_column": null,
            "grid_gap": null,
            "grid_row": null,
            "grid_template_areas": null,
            "grid_template_columns": null,
            "grid_template_rows": null,
            "height": null,
            "justify_content": null,
            "justify_items": null,
            "left": null,
            "margin": null,
            "max_height": null,
            "max_width": null,
            "min_height": null,
            "min_width": null,
            "object_fit": null,
            "object_position": null,
            "order": null,
            "overflow": null,
            "overflow_x": null,
            "overflow_y": null,
            "padding": null,
            "right": null,
            "top": null,
            "visibility": null,
            "width": null
          }
        },
        "d0202aa6e97c4bc68834bdfa5f54743e": {
          "model_module": "@jupyter-widgets/controls",
          "model_name": "DescriptionStyleModel",
          "model_module_version": "1.5.0",
          "state": {
            "_model_module": "@jupyter-widgets/controls",
            "_model_module_version": "1.5.0",
            "_model_name": "DescriptionStyleModel",
            "_view_count": null,
            "_view_module": "@jupyter-widgets/base",
            "_view_module_version": "1.2.0",
            "_view_name": "StyleView",
            "description_width": ""
          }
        },
        "a81876d24a5e4f5eb975fba31347ead2": {
          "model_module": "@jupyter-widgets/base",
          "model_name": "LayoutModel",
          "model_module_version": "1.2.0",
          "state": {
            "_model_module": "@jupyter-widgets/base",
            "_model_module_version": "1.2.0",
            "_model_name": "LayoutModel",
            "_view_count": null,
            "_view_module": "@jupyter-widgets/base",
            "_view_module_version": "1.2.0",
            "_view_name": "LayoutView",
            "align_content": null,
            "align_items": null,
            "align_self": null,
            "border": null,
            "bottom": null,
            "display": null,
            "flex": null,
            "flex_flow": null,
            "grid_area": null,
            "grid_auto_columns": null,
            "grid_auto_flow": null,
            "grid_auto_rows": null,
            "grid_column": null,
            "grid_gap": null,
            "grid_row": null,
            "grid_template_areas": null,
            "grid_template_columns": null,
            "grid_template_rows": null,
            "height": null,
            "justify_content": null,
            "justify_items": null,
            "left": null,
            "margin": null,
            "max_height": null,
            "max_width": null,
            "min_height": null,
            "min_width": null,
            "object_fit": null,
            "object_position": null,
            "order": null,
            "overflow": null,
            "overflow_x": null,
            "overflow_y": null,
            "padding": null,
            "right": null,
            "top": null,
            "visibility": null,
            "width": "20px"
          }
        },
        "eb471b80d2a04c8f85d9d9aae57d38ec": {
          "model_module": "@jupyter-widgets/controls",
          "model_name": "ProgressStyleModel",
          "model_module_version": "1.5.0",
          "state": {
            "_model_module": "@jupyter-widgets/controls",
            "_model_module_version": "1.5.0",
            "_model_name": "ProgressStyleModel",
            "_view_count": null,
            "_view_module": "@jupyter-widgets/base",
            "_view_module_version": "1.2.0",
            "_view_name": "StyleView",
            "bar_color": null,
            "description_width": ""
          }
        },
        "5b09c0c529db4321ac6246f7557c109a": {
          "model_module": "@jupyter-widgets/base",
          "model_name": "LayoutModel",
          "model_module_version": "1.2.0",
          "state": {
            "_model_module": "@jupyter-widgets/base",
            "_model_module_version": "1.2.0",
            "_model_name": "LayoutModel",
            "_view_count": null,
            "_view_module": "@jupyter-widgets/base",
            "_view_module_version": "1.2.0",
            "_view_name": "LayoutView",
            "align_content": null,
            "align_items": null,
            "align_self": null,
            "border": null,
            "bottom": null,
            "display": null,
            "flex": null,
            "flex_flow": null,
            "grid_area": null,
            "grid_auto_columns": null,
            "grid_auto_flow": null,
            "grid_auto_rows": null,
            "grid_column": null,
            "grid_gap": null,
            "grid_row": null,
            "grid_template_areas": null,
            "grid_template_columns": null,
            "grid_template_rows": null,
            "height": null,
            "justify_content": null,
            "justify_items": null,
            "left": null,
            "margin": null,
            "max_height": null,
            "max_width": null,
            "min_height": null,
            "min_width": null,
            "object_fit": null,
            "object_position": null,
            "order": null,
            "overflow": null,
            "overflow_x": null,
            "overflow_y": null,
            "padding": null,
            "right": null,
            "top": null,
            "visibility": null,
            "width": null
          }
        },
        "fc66867b2be14bef9752d60d98935af7": {
          "model_module": "@jupyter-widgets/controls",
          "model_name": "DescriptionStyleModel",
          "model_module_version": "1.5.0",
          "state": {
            "_model_module": "@jupyter-widgets/controls",
            "_model_module_version": "1.5.0",
            "_model_name": "DescriptionStyleModel",
            "_view_count": null,
            "_view_module": "@jupyter-widgets/base",
            "_view_module_version": "1.2.0",
            "_view_name": "StyleView",
            "description_width": ""
          }
        },
        "6075f209b400417e865ef2136f286f6c": {
          "model_module": "@jupyter-widgets/controls",
          "model_name": "HBoxModel",
          "model_module_version": "1.5.0",
          "state": {
            "_dom_classes": [],
            "_model_module": "@jupyter-widgets/controls",
            "_model_module_version": "1.5.0",
            "_model_name": "HBoxModel",
            "_view_count": null,
            "_view_module": "@jupyter-widgets/controls",
            "_view_module_version": "1.5.0",
            "_view_name": "HBoxView",
            "box_style": "",
            "children": [
              "IPY_MODEL_5b9adfed25f740f9a850828a0d9e787f",
              "IPY_MODEL_da83ee15801243a7ba39693101f9f2c0",
              "IPY_MODEL_ee125cd7eef54cdbbf2ef0c958449909"
            ],
            "layout": "IPY_MODEL_dd93ea3e9e4d4ceba590282fbfc1a84c"
          }
        },
        "5b9adfed25f740f9a850828a0d9e787f": {
          "model_module": "@jupyter-widgets/controls",
          "model_name": "HTMLModel",
          "model_module_version": "1.5.0",
          "state": {
            "_dom_classes": [],
            "_model_module": "@jupyter-widgets/controls",
            "_model_module_version": "1.5.0",
            "_model_name": "HTMLModel",
            "_view_count": null,
            "_view_module": "@jupyter-widgets/controls",
            "_view_module_version": "1.5.0",
            "_view_name": "HTMLView",
            "description": "",
            "description_tooltip": null,
            "layout": "IPY_MODEL_e947f9a723f44effb3b93eee464d7af2",
            "placeholder": "​",
            "style": "IPY_MODEL_f9721447b22a48dd81e60940f36f23a3",
            "value": "Extraction completed...: 100%"
          }
        },
        "da83ee15801243a7ba39693101f9f2c0": {
          "model_module": "@jupyter-widgets/controls",
          "model_name": "FloatProgressModel",
          "model_module_version": "1.5.0",
          "state": {
            "_dom_classes": [],
            "_model_module": "@jupyter-widgets/controls",
            "_model_module_version": "1.5.0",
            "_model_name": "FloatProgressModel",
            "_view_count": null,
            "_view_module": "@jupyter-widgets/controls",
            "_view_module_version": "1.5.0",
            "_view_name": "ProgressView",
            "bar_style": "success",
            "description": "",
            "description_tooltip": null,
            "layout": "IPY_MODEL_72c6b4c29a804b2f96f4edcf3b2888d0",
            "max": 1,
            "min": 0,
            "orientation": "horizontal",
            "style": "IPY_MODEL_3dbf743c6c8c4cbba77a357ceaccd2e1",
            "value": 1
          }
        },
        "ee125cd7eef54cdbbf2ef0c958449909": {
          "model_module": "@jupyter-widgets/controls",
          "model_name": "HTMLModel",
          "model_module_version": "1.5.0",
          "state": {
            "_dom_classes": [],
            "_model_module": "@jupyter-widgets/controls",
            "_model_module_version": "1.5.0",
            "_model_name": "HTMLModel",
            "_view_count": null,
            "_view_module": "@jupyter-widgets/controls",
            "_view_module_version": "1.5.0",
            "_view_name": "HTMLView",
            "description": "",
            "description_tooltip": null,
            "layout": "IPY_MODEL_8292ce1a998042be9922a9e3af41f4f3",
            "placeholder": "​",
            "style": "IPY_MODEL_7df3c28d063e42f49f224e45110b2595",
            "value": " 4/4 [00:16&lt;00:00, 16.27s/ file]"
          }
        },
        "dd93ea3e9e4d4ceba590282fbfc1a84c": {
          "model_module": "@jupyter-widgets/base",
          "model_name": "LayoutModel",
          "model_module_version": "1.2.0",
          "state": {
            "_model_module": "@jupyter-widgets/base",
            "_model_module_version": "1.2.0",
            "_model_name": "LayoutModel",
            "_view_count": null,
            "_view_module": "@jupyter-widgets/base",
            "_view_module_version": "1.2.0",
            "_view_name": "LayoutView",
            "align_content": null,
            "align_items": null,
            "align_self": null,
            "border": null,
            "bottom": null,
            "display": null,
            "flex": null,
            "flex_flow": null,
            "grid_area": null,
            "grid_auto_columns": null,
            "grid_auto_flow": null,
            "grid_auto_rows": null,
            "grid_column": null,
            "grid_gap": null,
            "grid_row": null,
            "grid_template_areas": null,
            "grid_template_columns": null,
            "grid_template_rows": null,
            "height": null,
            "justify_content": null,
            "justify_items": null,
            "left": null,
            "margin": null,
            "max_height": null,
            "max_width": null,
            "min_height": null,
            "min_width": null,
            "object_fit": null,
            "object_position": null,
            "order": null,
            "overflow": null,
            "overflow_x": null,
            "overflow_y": null,
            "padding": null,
            "right": null,
            "top": null,
            "visibility": null,
            "width": null
          }
        },
        "e947f9a723f44effb3b93eee464d7af2": {
          "model_module": "@jupyter-widgets/base",
          "model_name": "LayoutModel",
          "model_module_version": "1.2.0",
          "state": {
            "_model_module": "@jupyter-widgets/base",
            "_model_module_version": "1.2.0",
            "_model_name": "LayoutModel",
            "_view_count": null,
            "_view_module": "@jupyter-widgets/base",
            "_view_module_version": "1.2.0",
            "_view_name": "LayoutView",
            "align_content": null,
            "align_items": null,
            "align_self": null,
            "border": null,
            "bottom": null,
            "display": null,
            "flex": null,
            "flex_flow": null,
            "grid_area": null,
            "grid_auto_columns": null,
            "grid_auto_flow": null,
            "grid_auto_rows": null,
            "grid_column": null,
            "grid_gap": null,
            "grid_row": null,
            "grid_template_areas": null,
            "grid_template_columns": null,
            "grid_template_rows": null,
            "height": null,
            "justify_content": null,
            "justify_items": null,
            "left": null,
            "margin": null,
            "max_height": null,
            "max_width": null,
            "min_height": null,
            "min_width": null,
            "object_fit": null,
            "object_position": null,
            "order": null,
            "overflow": null,
            "overflow_x": null,
            "overflow_y": null,
            "padding": null,
            "right": null,
            "top": null,
            "visibility": null,
            "width": null
          }
        },
        "f9721447b22a48dd81e60940f36f23a3": {
          "model_module": "@jupyter-widgets/controls",
          "model_name": "DescriptionStyleModel",
          "model_module_version": "1.5.0",
          "state": {
            "_model_module": "@jupyter-widgets/controls",
            "_model_module_version": "1.5.0",
            "_model_name": "DescriptionStyleModel",
            "_view_count": null,
            "_view_module": "@jupyter-widgets/base",
            "_view_module_version": "1.2.0",
            "_view_name": "StyleView",
            "description_width": ""
          }
        },
        "72c6b4c29a804b2f96f4edcf3b2888d0": {
          "model_module": "@jupyter-widgets/base",
          "model_name": "LayoutModel",
          "model_module_version": "1.2.0",
          "state": {
            "_model_module": "@jupyter-widgets/base",
            "_model_module_version": "1.2.0",
            "_model_name": "LayoutModel",
            "_view_count": null,
            "_view_module": "@jupyter-widgets/base",
            "_view_module_version": "1.2.0",
            "_view_name": "LayoutView",
            "align_content": null,
            "align_items": null,
            "align_self": null,
            "border": null,
            "bottom": null,
            "display": null,
            "flex": null,
            "flex_flow": null,
            "grid_area": null,
            "grid_auto_columns": null,
            "grid_auto_flow": null,
            "grid_auto_rows": null,
            "grid_column": null,
            "grid_gap": null,
            "grid_row": null,
            "grid_template_areas": null,
            "grid_template_columns": null,
            "grid_template_rows": null,
            "height": null,
            "justify_content": null,
            "justify_items": null,
            "left": null,
            "margin": null,
            "max_height": null,
            "max_width": null,
            "min_height": null,
            "min_width": null,
            "object_fit": null,
            "object_position": null,
            "order": null,
            "overflow": null,
            "overflow_x": null,
            "overflow_y": null,
            "padding": null,
            "right": null,
            "top": null,
            "visibility": null,
            "width": "20px"
          }
        },
        "3dbf743c6c8c4cbba77a357ceaccd2e1": {
          "model_module": "@jupyter-widgets/controls",
          "model_name": "ProgressStyleModel",
          "model_module_version": "1.5.0",
          "state": {
            "_model_module": "@jupyter-widgets/controls",
            "_model_module_version": "1.5.0",
            "_model_name": "ProgressStyleModel",
            "_view_count": null,
            "_view_module": "@jupyter-widgets/base",
            "_view_module_version": "1.2.0",
            "_view_name": "StyleView",
            "bar_color": null,
            "description_width": ""
          }
        },
        "8292ce1a998042be9922a9e3af41f4f3": {
          "model_module": "@jupyter-widgets/base",
          "model_name": "LayoutModel",
          "model_module_version": "1.2.0",
          "state": {
            "_model_module": "@jupyter-widgets/base",
            "_model_module_version": "1.2.0",
            "_model_name": "LayoutModel",
            "_view_count": null,
            "_view_module": "@jupyter-widgets/base",
            "_view_module_version": "1.2.0",
            "_view_name": "LayoutView",
            "align_content": null,
            "align_items": null,
            "align_self": null,
            "border": null,
            "bottom": null,
            "display": null,
            "flex": null,
            "flex_flow": null,
            "grid_area": null,
            "grid_auto_columns": null,
            "grid_auto_flow": null,
            "grid_auto_rows": null,
            "grid_column": null,
            "grid_gap": null,
            "grid_row": null,
            "grid_template_areas": null,
            "grid_template_columns": null,
            "grid_template_rows": null,
            "height": null,
            "justify_content": null,
            "justify_items": null,
            "left": null,
            "margin": null,
            "max_height": null,
            "max_width": null,
            "min_height": null,
            "min_width": null,
            "object_fit": null,
            "object_position": null,
            "order": null,
            "overflow": null,
            "overflow_x": null,
            "overflow_y": null,
            "padding": null,
            "right": null,
            "top": null,
            "visibility": null,
            "width": null
          }
        },
        "7df3c28d063e42f49f224e45110b2595": {
          "model_module": "@jupyter-widgets/controls",
          "model_name": "DescriptionStyleModel",
          "model_module_version": "1.5.0",
          "state": {
            "_model_module": "@jupyter-widgets/controls",
            "_model_module_version": "1.5.0",
            "_model_name": "DescriptionStyleModel",
            "_view_count": null,
            "_view_module": "@jupyter-widgets/base",
            "_view_module_version": "1.2.0",
            "_view_name": "StyleView",
            "description_width": ""
          }
        },
        "a156618e3ee54c01adb8353ab0d06200": {
          "model_module": "@jupyter-widgets/controls",
          "model_name": "HBoxModel",
          "model_module_version": "1.5.0",
          "state": {
            "_dom_classes": [],
            "_model_module": "@jupyter-widgets/controls",
            "_model_module_version": "1.5.0",
            "_model_name": "HBoxModel",
            "_view_count": null,
            "_view_module": "@jupyter-widgets/controls",
            "_view_module_version": "1.5.0",
            "_view_name": "HBoxView",
            "box_style": "",
            "children": [
              "IPY_MODEL_382a5b29c914460caa00dd587c2c2482",
              "IPY_MODEL_4bc294d6a4554bf69c3145d35126a2f5",
              "IPY_MODEL_84d0a986927845609593b8708b85e5a6"
            ],
            "layout": "IPY_MODEL_ea2730aa07c3481cb3d5afc8da27181d"
          }
        },
        "382a5b29c914460caa00dd587c2c2482": {
          "model_module": "@jupyter-widgets/controls",
          "model_name": "HTMLModel",
          "model_module_version": "1.5.0",
          "state": {
            "_dom_classes": [],
            "_model_module": "@jupyter-widgets/controls",
            "_model_module_version": "1.5.0",
            "_model_name": "HTMLModel",
            "_view_count": null,
            "_view_module": "@jupyter-widgets/controls",
            "_view_module_version": "1.5.0",
            "_view_name": "HTMLView",
            "description": "",
            "description_tooltip": null,
            "layout": "IPY_MODEL_73829d8207a74b698d0d02ec86062ea8",
            "placeholder": "​",
            "style": "IPY_MODEL_b3565968f3504c7fa984ff3d9ac412a5",
            "value": "Generating splits...: 100%"
          }
        },
        "4bc294d6a4554bf69c3145d35126a2f5": {
          "model_module": "@jupyter-widgets/controls",
          "model_name": "FloatProgressModel",
          "model_module_version": "1.5.0",
          "state": {
            "_dom_classes": [],
            "_model_module": "@jupyter-widgets/controls",
            "_model_module_version": "1.5.0",
            "_model_name": "FloatProgressModel",
            "_view_count": null,
            "_view_module": "@jupyter-widgets/controls",
            "_view_module_version": "1.5.0",
            "_view_name": "ProgressView",
            "bar_style": "",
            "description": "",
            "description_tooltip": null,
            "layout": "IPY_MODEL_49eb8e28be4240e785b761abd2fbf710",
            "max": 2,
            "min": 0,
            "orientation": "horizontal",
            "style": "IPY_MODEL_216d25929e9644418f8b8e10e027a3e6",
            "value": 2
          }
        },
        "84d0a986927845609593b8708b85e5a6": {
          "model_module": "@jupyter-widgets/controls",
          "model_name": "HTMLModel",
          "model_module_version": "1.5.0",
          "state": {
            "_dom_classes": [],
            "_model_module": "@jupyter-widgets/controls",
            "_model_module_version": "1.5.0",
            "_model_name": "HTMLModel",
            "_view_count": null,
            "_view_module": "@jupyter-widgets/controls",
            "_view_module_version": "1.5.0",
            "_view_name": "HTMLView",
            "description": "",
            "description_tooltip": null,
            "layout": "IPY_MODEL_bfe34fbf10e343b983f141ad8fc00c9c",
            "placeholder": "​",
            "style": "IPY_MODEL_5bb0c1549ac34ee09637c10c5aacb3c2",
            "value": " 2/2 [00:16&lt;00:00,  6.83s/ splits]"
          }
        },
        "ea2730aa07c3481cb3d5afc8da27181d": {
          "model_module": "@jupyter-widgets/base",
          "model_name": "LayoutModel",
          "model_module_version": "1.2.0",
          "state": {
            "_model_module": "@jupyter-widgets/base",
            "_model_module_version": "1.2.0",
            "_model_name": "LayoutModel",
            "_view_count": null,
            "_view_module": "@jupyter-widgets/base",
            "_view_module_version": "1.2.0",
            "_view_name": "LayoutView",
            "align_content": null,
            "align_items": null,
            "align_self": null,
            "border": null,
            "bottom": null,
            "display": null,
            "flex": null,
            "flex_flow": null,
            "grid_area": null,
            "grid_auto_columns": null,
            "grid_auto_flow": null,
            "grid_auto_rows": null,
            "grid_column": null,
            "grid_gap": null,
            "grid_row": null,
            "grid_template_areas": null,
            "grid_template_columns": null,
            "grid_template_rows": null,
            "height": null,
            "justify_content": null,
            "justify_items": null,
            "left": null,
            "margin": null,
            "max_height": null,
            "max_width": null,
            "min_height": null,
            "min_width": null,
            "object_fit": null,
            "object_position": null,
            "order": null,
            "overflow": null,
            "overflow_x": null,
            "overflow_y": null,
            "padding": null,
            "right": null,
            "top": null,
            "visibility": "hidden",
            "width": null
          }
        },
        "73829d8207a74b698d0d02ec86062ea8": {
          "model_module": "@jupyter-widgets/base",
          "model_name": "LayoutModel",
          "model_module_version": "1.2.0",
          "state": {
            "_model_module": "@jupyter-widgets/base",
            "_model_module_version": "1.2.0",
            "_model_name": "LayoutModel",
            "_view_count": null,
            "_view_module": "@jupyter-widgets/base",
            "_view_module_version": "1.2.0",
            "_view_name": "LayoutView",
            "align_content": null,
            "align_items": null,
            "align_self": null,
            "border": null,
            "bottom": null,
            "display": null,
            "flex": null,
            "flex_flow": null,
            "grid_area": null,
            "grid_auto_columns": null,
            "grid_auto_flow": null,
            "grid_auto_rows": null,
            "grid_column": null,
            "grid_gap": null,
            "grid_row": null,
            "grid_template_areas": null,
            "grid_template_columns": null,
            "grid_template_rows": null,
            "height": null,
            "justify_content": null,
            "justify_items": null,
            "left": null,
            "margin": null,
            "max_height": null,
            "max_width": null,
            "min_height": null,
            "min_width": null,
            "object_fit": null,
            "object_position": null,
            "order": null,
            "overflow": null,
            "overflow_x": null,
            "overflow_y": null,
            "padding": null,
            "right": null,
            "top": null,
            "visibility": null,
            "width": null
          }
        },
        "b3565968f3504c7fa984ff3d9ac412a5": {
          "model_module": "@jupyter-widgets/controls",
          "model_name": "DescriptionStyleModel",
          "model_module_version": "1.5.0",
          "state": {
            "_model_module": "@jupyter-widgets/controls",
            "_model_module_version": "1.5.0",
            "_model_name": "DescriptionStyleModel",
            "_view_count": null,
            "_view_module": "@jupyter-widgets/base",
            "_view_module_version": "1.2.0",
            "_view_name": "StyleView",
            "description_width": ""
          }
        },
        "49eb8e28be4240e785b761abd2fbf710": {
          "model_module": "@jupyter-widgets/base",
          "model_name": "LayoutModel",
          "model_module_version": "1.2.0",
          "state": {
            "_model_module": "@jupyter-widgets/base",
            "_model_module_version": "1.2.0",
            "_model_name": "LayoutModel",
            "_view_count": null,
            "_view_module": "@jupyter-widgets/base",
            "_view_module_version": "1.2.0",
            "_view_name": "LayoutView",
            "align_content": null,
            "align_items": null,
            "align_self": null,
            "border": null,
            "bottom": null,
            "display": null,
            "flex": null,
            "flex_flow": null,
            "grid_area": null,
            "grid_auto_columns": null,
            "grid_auto_flow": null,
            "grid_auto_rows": null,
            "grid_column": null,
            "grid_gap": null,
            "grid_row": null,
            "grid_template_areas": null,
            "grid_template_columns": null,
            "grid_template_rows": null,
            "height": null,
            "justify_content": null,
            "justify_items": null,
            "left": null,
            "margin": null,
            "max_height": null,
            "max_width": null,
            "min_height": null,
            "min_width": null,
            "object_fit": null,
            "object_position": null,
            "order": null,
            "overflow": null,
            "overflow_x": null,
            "overflow_y": null,
            "padding": null,
            "right": null,
            "top": null,
            "visibility": null,
            "width": null
          }
        },
        "216d25929e9644418f8b8e10e027a3e6": {
          "model_module": "@jupyter-widgets/controls",
          "model_name": "ProgressStyleModel",
          "model_module_version": "1.5.0",
          "state": {
            "_model_module": "@jupyter-widgets/controls",
            "_model_module_version": "1.5.0",
            "_model_name": "ProgressStyleModel",
            "_view_count": null,
            "_view_module": "@jupyter-widgets/base",
            "_view_module_version": "1.2.0",
            "_view_name": "StyleView",
            "bar_color": null,
            "description_width": ""
          }
        },
        "bfe34fbf10e343b983f141ad8fc00c9c": {
          "model_module": "@jupyter-widgets/base",
          "model_name": "LayoutModel",
          "model_module_version": "1.2.0",
          "state": {
            "_model_module": "@jupyter-widgets/base",
            "_model_module_version": "1.2.0",
            "_model_name": "LayoutModel",
            "_view_count": null,
            "_view_module": "@jupyter-widgets/base",
            "_view_module_version": "1.2.0",
            "_view_name": "LayoutView",
            "align_content": null,
            "align_items": null,
            "align_self": null,
            "border": null,
            "bottom": null,
            "display": null,
            "flex": null,
            "flex_flow": null,
            "grid_area": null,
            "grid_auto_columns": null,
            "grid_auto_flow": null,
            "grid_auto_rows": null,
            "grid_column": null,
            "grid_gap": null,
            "grid_row": null,
            "grid_template_areas": null,
            "grid_template_columns": null,
            "grid_template_rows": null,
            "height": null,
            "justify_content": null,
            "justify_items": null,
            "left": null,
            "margin": null,
            "max_height": null,
            "max_width": null,
            "min_height": null,
            "min_width": null,
            "object_fit": null,
            "object_position": null,
            "order": null,
            "overflow": null,
            "overflow_x": null,
            "overflow_y": null,
            "padding": null,
            "right": null,
            "top": null,
            "visibility": null,
            "width": null
          }
        },
        "5bb0c1549ac34ee09637c10c5aacb3c2": {
          "model_module": "@jupyter-widgets/controls",
          "model_name": "DescriptionStyleModel",
          "model_module_version": "1.5.0",
          "state": {
            "_model_module": "@jupyter-widgets/controls",
            "_model_module_version": "1.5.0",
            "_model_name": "DescriptionStyleModel",
            "_view_count": null,
            "_view_module": "@jupyter-widgets/base",
            "_view_module_version": "1.2.0",
            "_view_name": "StyleView",
            "description_width": ""
          }
        },
        "53ec5185009d408da8d4da237a9b0198": {
          "model_module": "@jupyter-widgets/controls",
          "model_name": "HBoxModel",
          "model_module_version": "1.5.0",
          "state": {
            "_dom_classes": [],
            "_model_module": "@jupyter-widgets/controls",
            "_model_module_version": "1.5.0",
            "_model_name": "HBoxModel",
            "_view_count": null,
            "_view_module": "@jupyter-widgets/controls",
            "_view_module_version": "1.5.0",
            "_view_name": "HBoxView",
            "box_style": "",
            "children": [
              "IPY_MODEL_46dbdf972bf242a3964d0b6f39b6bad1",
              "IPY_MODEL_7e4574f4628741ec8a39a2e5fbab235f",
              "IPY_MODEL_8cb69c09705c4d869874b5b839271d4c"
            ],
            "layout": "IPY_MODEL_52b8318505db481c98fe22be28111652"
          }
        },
        "46dbdf972bf242a3964d0b6f39b6bad1": {
          "model_module": "@jupyter-widgets/controls",
          "model_name": "HTMLModel",
          "model_module_version": "1.5.0",
          "state": {
            "_dom_classes": [],
            "_model_module": "@jupyter-widgets/controls",
            "_model_module_version": "1.5.0",
            "_model_name": "HTMLModel",
            "_view_count": null,
            "_view_module": "@jupyter-widgets/controls",
            "_view_module_version": "1.5.0",
            "_view_name": "HTMLView",
            "description": "",
            "description_tooltip": null,
            "layout": "IPY_MODEL_039e2d7377854ae8b4ab6c913d5ce7d1",
            "placeholder": "​",
            "style": "IPY_MODEL_e32e1fa6e1be40d2895b5a4645bc4742",
            "value": "Generating train examples...:  97%"
          }
        },
        "7e4574f4628741ec8a39a2e5fbab235f": {
          "model_module": "@jupyter-widgets/controls",
          "model_name": "FloatProgressModel",
          "model_module_version": "1.5.0",
          "state": {
            "_dom_classes": [],
            "_model_module": "@jupyter-widgets/controls",
            "_model_module_version": "1.5.0",
            "_model_name": "FloatProgressModel",
            "_view_count": null,
            "_view_module": "@jupyter-widgets/controls",
            "_view_module_version": "1.5.0",
            "_view_name": "ProgressView",
            "bar_style": "",
            "description": "",
            "description_tooltip": null,
            "layout": "IPY_MODEL_03ad5ce93f3d4f2f8095e6db54bb9b0b",
            "max": 120000,
            "min": 0,
            "orientation": "horizontal",
            "style": "IPY_MODEL_658597dd458f46c5aa983d3ab3358e19",
            "value": 120000
          }
        },
        "8cb69c09705c4d869874b5b839271d4c": {
          "model_module": "@jupyter-widgets/controls",
          "model_name": "HTMLModel",
          "model_module_version": "1.5.0",
          "state": {
            "_dom_classes": [],
            "_model_module": "@jupyter-widgets/controls",
            "_model_module_version": "1.5.0",
            "_model_name": "HTMLModel",
            "_view_count": null,
            "_view_module": "@jupyter-widgets/controls",
            "_view_module_version": "1.5.0",
            "_view_name": "HTMLView",
            "description": "",
            "description_tooltip": null,
            "layout": "IPY_MODEL_35cca4e55b1441f9a4e8e6f078d9817d",
            "placeholder": "​",
            "style": "IPY_MODEL_cec5e29eaac64ec8b37545f3d385f008",
            "value": " 115871/120000 [00:14&lt;00:00, 8089.90 examples/s]"
          }
        },
        "52b8318505db481c98fe22be28111652": {
          "model_module": "@jupyter-widgets/base",
          "model_name": "LayoutModel",
          "model_module_version": "1.2.0",
          "state": {
            "_model_module": "@jupyter-widgets/base",
            "_model_module_version": "1.2.0",
            "_model_name": "LayoutModel",
            "_view_count": null,
            "_view_module": "@jupyter-widgets/base",
            "_view_module_version": "1.2.0",
            "_view_name": "LayoutView",
            "align_content": null,
            "align_items": null,
            "align_self": null,
            "border": null,
            "bottom": null,
            "display": null,
            "flex": null,
            "flex_flow": null,
            "grid_area": null,
            "grid_auto_columns": null,
            "grid_auto_flow": null,
            "grid_auto_rows": null,
            "grid_column": null,
            "grid_gap": null,
            "grid_row": null,
            "grid_template_areas": null,
            "grid_template_columns": null,
            "grid_template_rows": null,
            "height": null,
            "justify_content": null,
            "justify_items": null,
            "left": null,
            "margin": null,
            "max_height": null,
            "max_width": null,
            "min_height": null,
            "min_width": null,
            "object_fit": null,
            "object_position": null,
            "order": null,
            "overflow": null,
            "overflow_x": null,
            "overflow_y": null,
            "padding": null,
            "right": null,
            "top": null,
            "visibility": "hidden",
            "width": null
          }
        },
        "039e2d7377854ae8b4ab6c913d5ce7d1": {
          "model_module": "@jupyter-widgets/base",
          "model_name": "LayoutModel",
          "model_module_version": "1.2.0",
          "state": {
            "_model_module": "@jupyter-widgets/base",
            "_model_module_version": "1.2.0",
            "_model_name": "LayoutModel",
            "_view_count": null,
            "_view_module": "@jupyter-widgets/base",
            "_view_module_version": "1.2.0",
            "_view_name": "LayoutView",
            "align_content": null,
            "align_items": null,
            "align_self": null,
            "border": null,
            "bottom": null,
            "display": null,
            "flex": null,
            "flex_flow": null,
            "grid_area": null,
            "grid_auto_columns": null,
            "grid_auto_flow": null,
            "grid_auto_rows": null,
            "grid_column": null,
            "grid_gap": null,
            "grid_row": null,
            "grid_template_areas": null,
            "grid_template_columns": null,
            "grid_template_rows": null,
            "height": null,
            "justify_content": null,
            "justify_items": null,
            "left": null,
            "margin": null,
            "max_height": null,
            "max_width": null,
            "min_height": null,
            "min_width": null,
            "object_fit": null,
            "object_position": null,
            "order": null,
            "overflow": null,
            "overflow_x": null,
            "overflow_y": null,
            "padding": null,
            "right": null,
            "top": null,
            "visibility": null,
            "width": null
          }
        },
        "e32e1fa6e1be40d2895b5a4645bc4742": {
          "model_module": "@jupyter-widgets/controls",
          "model_name": "DescriptionStyleModel",
          "model_module_version": "1.5.0",
          "state": {
            "_model_module": "@jupyter-widgets/controls",
            "_model_module_version": "1.5.0",
            "_model_name": "DescriptionStyleModel",
            "_view_count": null,
            "_view_module": "@jupyter-widgets/base",
            "_view_module_version": "1.2.0",
            "_view_name": "StyleView",
            "description_width": ""
          }
        },
        "03ad5ce93f3d4f2f8095e6db54bb9b0b": {
          "model_module": "@jupyter-widgets/base",
          "model_name": "LayoutModel",
          "model_module_version": "1.2.0",
          "state": {
            "_model_module": "@jupyter-widgets/base",
            "_model_module_version": "1.2.0",
            "_model_name": "LayoutModel",
            "_view_count": null,
            "_view_module": "@jupyter-widgets/base",
            "_view_module_version": "1.2.0",
            "_view_name": "LayoutView",
            "align_content": null,
            "align_items": null,
            "align_self": null,
            "border": null,
            "bottom": null,
            "display": null,
            "flex": null,
            "flex_flow": null,
            "grid_area": null,
            "grid_auto_columns": null,
            "grid_auto_flow": null,
            "grid_auto_rows": null,
            "grid_column": null,
            "grid_gap": null,
            "grid_row": null,
            "grid_template_areas": null,
            "grid_template_columns": null,
            "grid_template_rows": null,
            "height": null,
            "justify_content": null,
            "justify_items": null,
            "left": null,
            "margin": null,
            "max_height": null,
            "max_width": null,
            "min_height": null,
            "min_width": null,
            "object_fit": null,
            "object_position": null,
            "order": null,
            "overflow": null,
            "overflow_x": null,
            "overflow_y": null,
            "padding": null,
            "right": null,
            "top": null,
            "visibility": null,
            "width": null
          }
        },
        "658597dd458f46c5aa983d3ab3358e19": {
          "model_module": "@jupyter-widgets/controls",
          "model_name": "ProgressStyleModel",
          "model_module_version": "1.5.0",
          "state": {
            "_model_module": "@jupyter-widgets/controls",
            "_model_module_version": "1.5.0",
            "_model_name": "ProgressStyleModel",
            "_view_count": null,
            "_view_module": "@jupyter-widgets/base",
            "_view_module_version": "1.2.0",
            "_view_name": "StyleView",
            "bar_color": null,
            "description_width": ""
          }
        },
        "35cca4e55b1441f9a4e8e6f078d9817d": {
          "model_module": "@jupyter-widgets/base",
          "model_name": "LayoutModel",
          "model_module_version": "1.2.0",
          "state": {
            "_model_module": "@jupyter-widgets/base",
            "_model_module_version": "1.2.0",
            "_model_name": "LayoutModel",
            "_view_count": null,
            "_view_module": "@jupyter-widgets/base",
            "_view_module_version": "1.2.0",
            "_view_name": "LayoutView",
            "align_content": null,
            "align_items": null,
            "align_self": null,
            "border": null,
            "bottom": null,
            "display": null,
            "flex": null,
            "flex_flow": null,
            "grid_area": null,
            "grid_auto_columns": null,
            "grid_auto_flow": null,
            "grid_auto_rows": null,
            "grid_column": null,
            "grid_gap": null,
            "grid_row": null,
            "grid_template_areas": null,
            "grid_template_columns": null,
            "grid_template_rows": null,
            "height": null,
            "justify_content": null,
            "justify_items": null,
            "left": null,
            "margin": null,
            "max_height": null,
            "max_width": null,
            "min_height": null,
            "min_width": null,
            "object_fit": null,
            "object_position": null,
            "order": null,
            "overflow": null,
            "overflow_x": null,
            "overflow_y": null,
            "padding": null,
            "right": null,
            "top": null,
            "visibility": null,
            "width": null
          }
        },
        "cec5e29eaac64ec8b37545f3d385f008": {
          "model_module": "@jupyter-widgets/controls",
          "model_name": "DescriptionStyleModel",
          "model_module_version": "1.5.0",
          "state": {
            "_model_module": "@jupyter-widgets/controls",
            "_model_module_version": "1.5.0",
            "_model_name": "DescriptionStyleModel",
            "_view_count": null,
            "_view_module": "@jupyter-widgets/base",
            "_view_module_version": "1.2.0",
            "_view_name": "StyleView",
            "description_width": ""
          }
        },
        "2ed1d39075654fc882fdfdf143cfe1fa": {
          "model_module": "@jupyter-widgets/controls",
          "model_name": "HBoxModel",
          "model_module_version": "1.5.0",
          "state": {
            "_dom_classes": [],
            "_model_module": "@jupyter-widgets/controls",
            "_model_module_version": "1.5.0",
            "_model_name": "HBoxModel",
            "_view_count": null,
            "_view_module": "@jupyter-widgets/controls",
            "_view_module_version": "1.5.0",
            "_view_name": "HBoxView",
            "box_style": "",
            "children": [
              "IPY_MODEL_0d59ca3ac2b74a1a869d7a44a7a2a37b",
              "IPY_MODEL_a7213214b22f4ec1b7d2e1e4a9f1cc82",
              "IPY_MODEL_808ba550a9c64d31862aa069797691d0"
            ],
            "layout": "IPY_MODEL_a7573e85a68f476f8c3a2256a8286b9e"
          }
        },
        "0d59ca3ac2b74a1a869d7a44a7a2a37b": {
          "model_module": "@jupyter-widgets/controls",
          "model_name": "HTMLModel",
          "model_module_version": "1.5.0",
          "state": {
            "_dom_classes": [],
            "_model_module": "@jupyter-widgets/controls",
            "_model_module_version": "1.5.0",
            "_model_name": "HTMLModel",
            "_view_count": null,
            "_view_module": "@jupyter-widgets/controls",
            "_view_module_version": "1.5.0",
            "_view_name": "HTMLView",
            "description": "",
            "description_tooltip": null,
            "layout": "IPY_MODEL_c1498aeec7b9458c9a16976f5c5a9fe0",
            "placeholder": "​",
            "style": "IPY_MODEL_d4765ddb0620487e9dd8ca6e7716c11f",
            "value": "Shuffling /root/tensorflow_datasets/ag_news_subset/incomplete.CKXV5F_1.0.0/ag_news_subset-train.tfrecord*...:   0%"
          }
        },
        "a7213214b22f4ec1b7d2e1e4a9f1cc82": {
          "model_module": "@jupyter-widgets/controls",
          "model_name": "FloatProgressModel",
          "model_module_version": "1.5.0",
          "state": {
            "_dom_classes": [],
            "_model_module": "@jupyter-widgets/controls",
            "_model_module_version": "1.5.0",
            "_model_name": "FloatProgressModel",
            "_view_count": null,
            "_view_module": "@jupyter-widgets/controls",
            "_view_module_version": "1.5.0",
            "_view_name": "ProgressView",
            "bar_style": "",
            "description": "",
            "description_tooltip": null,
            "layout": "IPY_MODEL_bf50669351f44ab1b3a367c2e1ab4880",
            "max": 120000,
            "min": 0,
            "orientation": "horizontal",
            "style": "IPY_MODEL_5aabc0bddd99434eacf13875387a34d8",
            "value": 120000
          }
        },
        "808ba550a9c64d31862aa069797691d0": {
          "model_module": "@jupyter-widgets/controls",
          "model_name": "HTMLModel",
          "model_module_version": "1.5.0",
          "state": {
            "_dom_classes": [],
            "_model_module": "@jupyter-widgets/controls",
            "_model_module_version": "1.5.0",
            "_model_name": "HTMLModel",
            "_view_count": null,
            "_view_module": "@jupyter-widgets/controls",
            "_view_module_version": "1.5.0",
            "_view_name": "HTMLView",
            "description": "",
            "description_tooltip": null,
            "layout": "IPY_MODEL_029940bfb7774bf3837480d704d06b63",
            "placeholder": "​",
            "style": "IPY_MODEL_bb1b12eb432b4dd383f6e5c5b19f9445",
            "value": " 0/120000 [00:00&lt;?, ? examples/s]"
          }
        },
        "a7573e85a68f476f8c3a2256a8286b9e": {
          "model_module": "@jupyter-widgets/base",
          "model_name": "LayoutModel",
          "model_module_version": "1.2.0",
          "state": {
            "_model_module": "@jupyter-widgets/base",
            "_model_module_version": "1.2.0",
            "_model_name": "LayoutModel",
            "_view_count": null,
            "_view_module": "@jupyter-widgets/base",
            "_view_module_version": "1.2.0",
            "_view_name": "LayoutView",
            "align_content": null,
            "align_items": null,
            "align_self": null,
            "border": null,
            "bottom": null,
            "display": null,
            "flex": null,
            "flex_flow": null,
            "grid_area": null,
            "grid_auto_columns": null,
            "grid_auto_flow": null,
            "grid_auto_rows": null,
            "grid_column": null,
            "grid_gap": null,
            "grid_row": null,
            "grid_template_areas": null,
            "grid_template_columns": null,
            "grid_template_rows": null,
            "height": null,
            "justify_content": null,
            "justify_items": null,
            "left": null,
            "margin": null,
            "max_height": null,
            "max_width": null,
            "min_height": null,
            "min_width": null,
            "object_fit": null,
            "object_position": null,
            "order": null,
            "overflow": null,
            "overflow_x": null,
            "overflow_y": null,
            "padding": null,
            "right": null,
            "top": null,
            "visibility": "hidden",
            "width": null
          }
        },
        "c1498aeec7b9458c9a16976f5c5a9fe0": {
          "model_module": "@jupyter-widgets/base",
          "model_name": "LayoutModel",
          "model_module_version": "1.2.0",
          "state": {
            "_model_module": "@jupyter-widgets/base",
            "_model_module_version": "1.2.0",
            "_model_name": "LayoutModel",
            "_view_count": null,
            "_view_module": "@jupyter-widgets/base",
            "_view_module_version": "1.2.0",
            "_view_name": "LayoutView",
            "align_content": null,
            "align_items": null,
            "align_self": null,
            "border": null,
            "bottom": null,
            "display": null,
            "flex": null,
            "flex_flow": null,
            "grid_area": null,
            "grid_auto_columns": null,
            "grid_auto_flow": null,
            "grid_auto_rows": null,
            "grid_column": null,
            "grid_gap": null,
            "grid_row": null,
            "grid_template_areas": null,
            "grid_template_columns": null,
            "grid_template_rows": null,
            "height": null,
            "justify_content": null,
            "justify_items": null,
            "left": null,
            "margin": null,
            "max_height": null,
            "max_width": null,
            "min_height": null,
            "min_width": null,
            "object_fit": null,
            "object_position": null,
            "order": null,
            "overflow": null,
            "overflow_x": null,
            "overflow_y": null,
            "padding": null,
            "right": null,
            "top": null,
            "visibility": null,
            "width": null
          }
        },
        "d4765ddb0620487e9dd8ca6e7716c11f": {
          "model_module": "@jupyter-widgets/controls",
          "model_name": "DescriptionStyleModel",
          "model_module_version": "1.5.0",
          "state": {
            "_model_module": "@jupyter-widgets/controls",
            "_model_module_version": "1.5.0",
            "_model_name": "DescriptionStyleModel",
            "_view_count": null,
            "_view_module": "@jupyter-widgets/base",
            "_view_module_version": "1.2.0",
            "_view_name": "StyleView",
            "description_width": ""
          }
        },
        "bf50669351f44ab1b3a367c2e1ab4880": {
          "model_module": "@jupyter-widgets/base",
          "model_name": "LayoutModel",
          "model_module_version": "1.2.0",
          "state": {
            "_model_module": "@jupyter-widgets/base",
            "_model_module_version": "1.2.0",
            "_model_name": "LayoutModel",
            "_view_count": null,
            "_view_module": "@jupyter-widgets/base",
            "_view_module_version": "1.2.0",
            "_view_name": "LayoutView",
            "align_content": null,
            "align_items": null,
            "align_self": null,
            "border": null,
            "bottom": null,
            "display": null,
            "flex": null,
            "flex_flow": null,
            "grid_area": null,
            "grid_auto_columns": null,
            "grid_auto_flow": null,
            "grid_auto_rows": null,
            "grid_column": null,
            "grid_gap": null,
            "grid_row": null,
            "grid_template_areas": null,
            "grid_template_columns": null,
            "grid_template_rows": null,
            "height": null,
            "justify_content": null,
            "justify_items": null,
            "left": null,
            "margin": null,
            "max_height": null,
            "max_width": null,
            "min_height": null,
            "min_width": null,
            "object_fit": null,
            "object_position": null,
            "order": null,
            "overflow": null,
            "overflow_x": null,
            "overflow_y": null,
            "padding": null,
            "right": null,
            "top": null,
            "visibility": null,
            "width": null
          }
        },
        "5aabc0bddd99434eacf13875387a34d8": {
          "model_module": "@jupyter-widgets/controls",
          "model_name": "ProgressStyleModel",
          "model_module_version": "1.5.0",
          "state": {
            "_model_module": "@jupyter-widgets/controls",
            "_model_module_version": "1.5.0",
            "_model_name": "ProgressStyleModel",
            "_view_count": null,
            "_view_module": "@jupyter-widgets/base",
            "_view_module_version": "1.2.0",
            "_view_name": "StyleView",
            "bar_color": null,
            "description_width": ""
          }
        },
        "029940bfb7774bf3837480d704d06b63": {
          "model_module": "@jupyter-widgets/base",
          "model_name": "LayoutModel",
          "model_module_version": "1.2.0",
          "state": {
            "_model_module": "@jupyter-widgets/base",
            "_model_module_version": "1.2.0",
            "_model_name": "LayoutModel",
            "_view_count": null,
            "_view_module": "@jupyter-widgets/base",
            "_view_module_version": "1.2.0",
            "_view_name": "LayoutView",
            "align_content": null,
            "align_items": null,
            "align_self": null,
            "border": null,
            "bottom": null,
            "display": null,
            "flex": null,
            "flex_flow": null,
            "grid_area": null,
            "grid_auto_columns": null,
            "grid_auto_flow": null,
            "grid_auto_rows": null,
            "grid_column": null,
            "grid_gap": null,
            "grid_row": null,
            "grid_template_areas": null,
            "grid_template_columns": null,
            "grid_template_rows": null,
            "height": null,
            "justify_content": null,
            "justify_items": null,
            "left": null,
            "margin": null,
            "max_height": null,
            "max_width": null,
            "min_height": null,
            "min_width": null,
            "object_fit": null,
            "object_position": null,
            "order": null,
            "overflow": null,
            "overflow_x": null,
            "overflow_y": null,
            "padding": null,
            "right": null,
            "top": null,
            "visibility": null,
            "width": null
          }
        },
        "bb1b12eb432b4dd383f6e5c5b19f9445": {
          "model_module": "@jupyter-widgets/controls",
          "model_name": "DescriptionStyleModel",
          "model_module_version": "1.5.0",
          "state": {
            "_model_module": "@jupyter-widgets/controls",
            "_model_module_version": "1.5.0",
            "_model_name": "DescriptionStyleModel",
            "_view_count": null,
            "_view_module": "@jupyter-widgets/base",
            "_view_module_version": "1.2.0",
            "_view_name": "StyleView",
            "description_width": ""
          }
        },
        "87ace2ae58144c79992760c03fb3693b": {
          "model_module": "@jupyter-widgets/controls",
          "model_name": "HBoxModel",
          "model_module_version": "1.5.0",
          "state": {
            "_dom_classes": [],
            "_model_module": "@jupyter-widgets/controls",
            "_model_module_version": "1.5.0",
            "_model_name": "HBoxModel",
            "_view_count": null,
            "_view_module": "@jupyter-widgets/controls",
            "_view_module_version": "1.5.0",
            "_view_name": "HBoxView",
            "box_style": "",
            "children": [
              "IPY_MODEL_5b850c822b2a48db9aeed9c6f88dccaa",
              "IPY_MODEL_440fe10f6da644bfb304bae91a03f2e0",
              "IPY_MODEL_12c114a2ac8c4ffd88fac1f681f3aaa4"
            ],
            "layout": "IPY_MODEL_86792eb9dc974e95a4d941aa2a19573a"
          }
        },
        "5b850c822b2a48db9aeed9c6f88dccaa": {
          "model_module": "@jupyter-widgets/controls",
          "model_name": "HTMLModel",
          "model_module_version": "1.5.0",
          "state": {
            "_dom_classes": [],
            "_model_module": "@jupyter-widgets/controls",
            "_model_module_version": "1.5.0",
            "_model_name": "HTMLModel",
            "_view_count": null,
            "_view_module": "@jupyter-widgets/controls",
            "_view_module_version": "1.5.0",
            "_view_name": "HTMLView",
            "description": "",
            "description_tooltip": null,
            "layout": "IPY_MODEL_5b0d5a6f5e054614a19728d4edbbf377",
            "placeholder": "​",
            "style": "IPY_MODEL_1af090c6f16c471498c0377284049388",
            "value": "Generating test examples...:   0%"
          }
        },
        "440fe10f6da644bfb304bae91a03f2e0": {
          "model_module": "@jupyter-widgets/controls",
          "model_name": "FloatProgressModel",
          "model_module_version": "1.5.0",
          "state": {
            "_dom_classes": [],
            "_model_module": "@jupyter-widgets/controls",
            "_model_module_version": "1.5.0",
            "_model_name": "FloatProgressModel",
            "_view_count": null,
            "_view_module": "@jupyter-widgets/controls",
            "_view_module_version": "1.5.0",
            "_view_name": "ProgressView",
            "bar_style": "",
            "description": "",
            "description_tooltip": null,
            "layout": "IPY_MODEL_7e47f2b3112243249817bdea30538331",
            "max": 7600,
            "min": 0,
            "orientation": "horizontal",
            "style": "IPY_MODEL_6f93c7e4be094708926e327f703fc897",
            "value": 7600
          }
        },
        "12c114a2ac8c4ffd88fac1f681f3aaa4": {
          "model_module": "@jupyter-widgets/controls",
          "model_name": "HTMLModel",
          "model_module_version": "1.5.0",
          "state": {
            "_dom_classes": [],
            "_model_module": "@jupyter-widgets/controls",
            "_model_module_version": "1.5.0",
            "_model_name": "HTMLModel",
            "_view_count": null,
            "_view_module": "@jupyter-widgets/controls",
            "_view_module_version": "1.5.0",
            "_view_name": "HTMLView",
            "description": "",
            "description_tooltip": null,
            "layout": "IPY_MODEL_11904289e357487f9eba433f35358ad9",
            "placeholder": "​",
            "style": "IPY_MODEL_1221bbd90f76484bb891c6c8d6d460cf",
            "value": " 0/7600 [00:00&lt;?, ? examples/s]"
          }
        },
        "86792eb9dc974e95a4d941aa2a19573a": {
          "model_module": "@jupyter-widgets/base",
          "model_name": "LayoutModel",
          "model_module_version": "1.2.0",
          "state": {
            "_model_module": "@jupyter-widgets/base",
            "_model_module_version": "1.2.0",
            "_model_name": "LayoutModel",
            "_view_count": null,
            "_view_module": "@jupyter-widgets/base",
            "_view_module_version": "1.2.0",
            "_view_name": "LayoutView",
            "align_content": null,
            "align_items": null,
            "align_self": null,
            "border": null,
            "bottom": null,
            "display": null,
            "flex": null,
            "flex_flow": null,
            "grid_area": null,
            "grid_auto_columns": null,
            "grid_auto_flow": null,
            "grid_auto_rows": null,
            "grid_column": null,
            "grid_gap": null,
            "grid_row": null,
            "grid_template_areas": null,
            "grid_template_columns": null,
            "grid_template_rows": null,
            "height": null,
            "justify_content": null,
            "justify_items": null,
            "left": null,
            "margin": null,
            "max_height": null,
            "max_width": null,
            "min_height": null,
            "min_width": null,
            "object_fit": null,
            "object_position": null,
            "order": null,
            "overflow": null,
            "overflow_x": null,
            "overflow_y": null,
            "padding": null,
            "right": null,
            "top": null,
            "visibility": "hidden",
            "width": null
          }
        },
        "5b0d5a6f5e054614a19728d4edbbf377": {
          "model_module": "@jupyter-widgets/base",
          "model_name": "LayoutModel",
          "model_module_version": "1.2.0",
          "state": {
            "_model_module": "@jupyter-widgets/base",
            "_model_module_version": "1.2.0",
            "_model_name": "LayoutModel",
            "_view_count": null,
            "_view_module": "@jupyter-widgets/base",
            "_view_module_version": "1.2.0",
            "_view_name": "LayoutView",
            "align_content": null,
            "align_items": null,
            "align_self": null,
            "border": null,
            "bottom": null,
            "display": null,
            "flex": null,
            "flex_flow": null,
            "grid_area": null,
            "grid_auto_columns": null,
            "grid_auto_flow": null,
            "grid_auto_rows": null,
            "grid_column": null,
            "grid_gap": null,
            "grid_row": null,
            "grid_template_areas": null,
            "grid_template_columns": null,
            "grid_template_rows": null,
            "height": null,
            "justify_content": null,
            "justify_items": null,
            "left": null,
            "margin": null,
            "max_height": null,
            "max_width": null,
            "min_height": null,
            "min_width": null,
            "object_fit": null,
            "object_position": null,
            "order": null,
            "overflow": null,
            "overflow_x": null,
            "overflow_y": null,
            "padding": null,
            "right": null,
            "top": null,
            "visibility": null,
            "width": null
          }
        },
        "1af090c6f16c471498c0377284049388": {
          "model_module": "@jupyter-widgets/controls",
          "model_name": "DescriptionStyleModel",
          "model_module_version": "1.5.0",
          "state": {
            "_model_module": "@jupyter-widgets/controls",
            "_model_module_version": "1.5.0",
            "_model_name": "DescriptionStyleModel",
            "_view_count": null,
            "_view_module": "@jupyter-widgets/base",
            "_view_module_version": "1.2.0",
            "_view_name": "StyleView",
            "description_width": ""
          }
        },
        "7e47f2b3112243249817bdea30538331": {
          "model_module": "@jupyter-widgets/base",
          "model_name": "LayoutModel",
          "model_module_version": "1.2.0",
          "state": {
            "_model_module": "@jupyter-widgets/base",
            "_model_module_version": "1.2.0",
            "_model_name": "LayoutModel",
            "_view_count": null,
            "_view_module": "@jupyter-widgets/base",
            "_view_module_version": "1.2.0",
            "_view_name": "LayoutView",
            "align_content": null,
            "align_items": null,
            "align_self": null,
            "border": null,
            "bottom": null,
            "display": null,
            "flex": null,
            "flex_flow": null,
            "grid_area": null,
            "grid_auto_columns": null,
            "grid_auto_flow": null,
            "grid_auto_rows": null,
            "grid_column": null,
            "grid_gap": null,
            "grid_row": null,
            "grid_template_areas": null,
            "grid_template_columns": null,
            "grid_template_rows": null,
            "height": null,
            "justify_content": null,
            "justify_items": null,
            "left": null,
            "margin": null,
            "max_height": null,
            "max_width": null,
            "min_height": null,
            "min_width": null,
            "object_fit": null,
            "object_position": null,
            "order": null,
            "overflow": null,
            "overflow_x": null,
            "overflow_y": null,
            "padding": null,
            "right": null,
            "top": null,
            "visibility": null,
            "width": null
          }
        },
        "6f93c7e4be094708926e327f703fc897": {
          "model_module": "@jupyter-widgets/controls",
          "model_name": "ProgressStyleModel",
          "model_module_version": "1.5.0",
          "state": {
            "_model_module": "@jupyter-widgets/controls",
            "_model_module_version": "1.5.0",
            "_model_name": "ProgressStyleModel",
            "_view_count": null,
            "_view_module": "@jupyter-widgets/base",
            "_view_module_version": "1.2.0",
            "_view_name": "StyleView",
            "bar_color": null,
            "description_width": ""
          }
        },
        "11904289e357487f9eba433f35358ad9": {
          "model_module": "@jupyter-widgets/base",
          "model_name": "LayoutModel",
          "model_module_version": "1.2.0",
          "state": {
            "_model_module": "@jupyter-widgets/base",
            "_model_module_version": "1.2.0",
            "_model_name": "LayoutModel",
            "_view_count": null,
            "_view_module": "@jupyter-widgets/base",
            "_view_module_version": "1.2.0",
            "_view_name": "LayoutView",
            "align_content": null,
            "align_items": null,
            "align_self": null,
            "border": null,
            "bottom": null,
            "display": null,
            "flex": null,
            "flex_flow": null,
            "grid_area": null,
            "grid_auto_columns": null,
            "grid_auto_flow": null,
            "grid_auto_rows": null,
            "grid_column": null,
            "grid_gap": null,
            "grid_row": null,
            "grid_template_areas": null,
            "grid_template_columns": null,
            "grid_template_rows": null,
            "height": null,
            "justify_content": null,
            "justify_items": null,
            "left": null,
            "margin": null,
            "max_height": null,
            "max_width": null,
            "min_height": null,
            "min_width": null,
            "object_fit": null,
            "object_position": null,
            "order": null,
            "overflow": null,
            "overflow_x": null,
            "overflow_y": null,
            "padding": null,
            "right": null,
            "top": null,
            "visibility": null,
            "width": null
          }
        },
        "1221bbd90f76484bb891c6c8d6d460cf": {
          "model_module": "@jupyter-widgets/controls",
          "model_name": "DescriptionStyleModel",
          "model_module_version": "1.5.0",
          "state": {
            "_model_module": "@jupyter-widgets/controls",
            "_model_module_version": "1.5.0",
            "_model_name": "DescriptionStyleModel",
            "_view_count": null,
            "_view_module": "@jupyter-widgets/base",
            "_view_module_version": "1.2.0",
            "_view_name": "StyleView",
            "description_width": ""
          }
        },
        "8e233533d138496c8c05ed1df8eea505": {
          "model_module": "@jupyter-widgets/controls",
          "model_name": "HBoxModel",
          "model_module_version": "1.5.0",
          "state": {
            "_dom_classes": [],
            "_model_module": "@jupyter-widgets/controls",
            "_model_module_version": "1.5.0",
            "_model_name": "HBoxModel",
            "_view_count": null,
            "_view_module": "@jupyter-widgets/controls",
            "_view_module_version": "1.5.0",
            "_view_name": "HBoxView",
            "box_style": "",
            "children": [
              "IPY_MODEL_c86376710fe049328c21a4a06547191c",
              "IPY_MODEL_9a3ed5b951c5406aae09856c0645e66e",
              "IPY_MODEL_6a87ad80e7dc429a8e8ce29a1094e355"
            ],
            "layout": "IPY_MODEL_2a196fc81da9458bb944d24d0aa76c8b"
          }
        },
        "c86376710fe049328c21a4a06547191c": {
          "model_module": "@jupyter-widgets/controls",
          "model_name": "HTMLModel",
          "model_module_version": "1.5.0",
          "state": {
            "_dom_classes": [],
            "_model_module": "@jupyter-widgets/controls",
            "_model_module_version": "1.5.0",
            "_model_name": "HTMLModel",
            "_view_count": null,
            "_view_module": "@jupyter-widgets/controls",
            "_view_module_version": "1.5.0",
            "_view_name": "HTMLView",
            "description": "",
            "description_tooltip": null,
            "layout": "IPY_MODEL_89f8787e9c02465ca81530e5feb05186",
            "placeholder": "​",
            "style": "IPY_MODEL_bb9e1d1b6b8549f1b570fff26a8de9f9",
            "value": "Shuffling /root/tensorflow_datasets/ag_news_subset/incomplete.CKXV5F_1.0.0/ag_news_subset-test.tfrecord*...:   0%"
          }
        },
        "9a3ed5b951c5406aae09856c0645e66e": {
          "model_module": "@jupyter-widgets/controls",
          "model_name": "FloatProgressModel",
          "model_module_version": "1.5.0",
          "state": {
            "_dom_classes": [],
            "_model_module": "@jupyter-widgets/controls",
            "_model_module_version": "1.5.0",
            "_model_name": "FloatProgressModel",
            "_view_count": null,
            "_view_module": "@jupyter-widgets/controls",
            "_view_module_version": "1.5.0",
            "_view_name": "ProgressView",
            "bar_style": "",
            "description": "",
            "description_tooltip": null,
            "layout": "IPY_MODEL_63d548fc1b2844aca122b234f9d5c598",
            "max": 7600,
            "min": 0,
            "orientation": "horizontal",
            "style": "IPY_MODEL_770ead86f3ca4d358fac8a72960013e2",
            "value": 7600
          }
        },
        "6a87ad80e7dc429a8e8ce29a1094e355": {
          "model_module": "@jupyter-widgets/controls",
          "model_name": "HTMLModel",
          "model_module_version": "1.5.0",
          "state": {
            "_dom_classes": [],
            "_model_module": "@jupyter-widgets/controls",
            "_model_module_version": "1.5.0",
            "_model_name": "HTMLModel",
            "_view_count": null,
            "_view_module": "@jupyter-widgets/controls",
            "_view_module_version": "1.5.0",
            "_view_name": "HTMLView",
            "description": "",
            "description_tooltip": null,
            "layout": "IPY_MODEL_c30ef13f71e749a09384f99a095e46ee",
            "placeholder": "​",
            "style": "IPY_MODEL_ea8107d6c6b44b1896c1352600ba063c",
            "value": " 0/7600 [00:00&lt;?, ? examples/s]"
          }
        },
        "2a196fc81da9458bb944d24d0aa76c8b": {
          "model_module": "@jupyter-widgets/base",
          "model_name": "LayoutModel",
          "model_module_version": "1.2.0",
          "state": {
            "_model_module": "@jupyter-widgets/base",
            "_model_module_version": "1.2.0",
            "_model_name": "LayoutModel",
            "_view_count": null,
            "_view_module": "@jupyter-widgets/base",
            "_view_module_version": "1.2.0",
            "_view_name": "LayoutView",
            "align_content": null,
            "align_items": null,
            "align_self": null,
            "border": null,
            "bottom": null,
            "display": null,
            "flex": null,
            "flex_flow": null,
            "grid_area": null,
            "grid_auto_columns": null,
            "grid_auto_flow": null,
            "grid_auto_rows": null,
            "grid_column": null,
            "grid_gap": null,
            "grid_row": null,
            "grid_template_areas": null,
            "grid_template_columns": null,
            "grid_template_rows": null,
            "height": null,
            "justify_content": null,
            "justify_items": null,
            "left": null,
            "margin": null,
            "max_height": null,
            "max_width": null,
            "min_height": null,
            "min_width": null,
            "object_fit": null,
            "object_position": null,
            "order": null,
            "overflow": null,
            "overflow_x": null,
            "overflow_y": null,
            "padding": null,
            "right": null,
            "top": null,
            "visibility": "hidden",
            "width": null
          }
        },
        "89f8787e9c02465ca81530e5feb05186": {
          "model_module": "@jupyter-widgets/base",
          "model_name": "LayoutModel",
          "model_module_version": "1.2.0",
          "state": {
            "_model_module": "@jupyter-widgets/base",
            "_model_module_version": "1.2.0",
            "_model_name": "LayoutModel",
            "_view_count": null,
            "_view_module": "@jupyter-widgets/base",
            "_view_module_version": "1.2.0",
            "_view_name": "LayoutView",
            "align_content": null,
            "align_items": null,
            "align_self": null,
            "border": null,
            "bottom": null,
            "display": null,
            "flex": null,
            "flex_flow": null,
            "grid_area": null,
            "grid_auto_columns": null,
            "grid_auto_flow": null,
            "grid_auto_rows": null,
            "grid_column": null,
            "grid_gap": null,
            "grid_row": null,
            "grid_template_areas": null,
            "grid_template_columns": null,
            "grid_template_rows": null,
            "height": null,
            "justify_content": null,
            "justify_items": null,
            "left": null,
            "margin": null,
            "max_height": null,
            "max_width": null,
            "min_height": null,
            "min_width": null,
            "object_fit": null,
            "object_position": null,
            "order": null,
            "overflow": null,
            "overflow_x": null,
            "overflow_y": null,
            "padding": null,
            "right": null,
            "top": null,
            "visibility": null,
            "width": null
          }
        },
        "bb9e1d1b6b8549f1b570fff26a8de9f9": {
          "model_module": "@jupyter-widgets/controls",
          "model_name": "DescriptionStyleModel",
          "model_module_version": "1.5.0",
          "state": {
            "_model_module": "@jupyter-widgets/controls",
            "_model_module_version": "1.5.0",
            "_model_name": "DescriptionStyleModel",
            "_view_count": null,
            "_view_module": "@jupyter-widgets/base",
            "_view_module_version": "1.2.0",
            "_view_name": "StyleView",
            "description_width": ""
          }
        },
        "63d548fc1b2844aca122b234f9d5c598": {
          "model_module": "@jupyter-widgets/base",
          "model_name": "LayoutModel",
          "model_module_version": "1.2.0",
          "state": {
            "_model_module": "@jupyter-widgets/base",
            "_model_module_version": "1.2.0",
            "_model_name": "LayoutModel",
            "_view_count": null,
            "_view_module": "@jupyter-widgets/base",
            "_view_module_version": "1.2.0",
            "_view_name": "LayoutView",
            "align_content": null,
            "align_items": null,
            "align_self": null,
            "border": null,
            "bottom": null,
            "display": null,
            "flex": null,
            "flex_flow": null,
            "grid_area": null,
            "grid_auto_columns": null,
            "grid_auto_flow": null,
            "grid_auto_rows": null,
            "grid_column": null,
            "grid_gap": null,
            "grid_row": null,
            "grid_template_areas": null,
            "grid_template_columns": null,
            "grid_template_rows": null,
            "height": null,
            "justify_content": null,
            "justify_items": null,
            "left": null,
            "margin": null,
            "max_height": null,
            "max_width": null,
            "min_height": null,
            "min_width": null,
            "object_fit": null,
            "object_position": null,
            "order": null,
            "overflow": null,
            "overflow_x": null,
            "overflow_y": null,
            "padding": null,
            "right": null,
            "top": null,
            "visibility": null,
            "width": null
          }
        },
        "770ead86f3ca4d358fac8a72960013e2": {
          "model_module": "@jupyter-widgets/controls",
          "model_name": "ProgressStyleModel",
          "model_module_version": "1.5.0",
          "state": {
            "_model_module": "@jupyter-widgets/controls",
            "_model_module_version": "1.5.0",
            "_model_name": "ProgressStyleModel",
            "_view_count": null,
            "_view_module": "@jupyter-widgets/base",
            "_view_module_version": "1.2.0",
            "_view_name": "StyleView",
            "bar_color": null,
            "description_width": ""
          }
        },
        "c30ef13f71e749a09384f99a095e46ee": {
          "model_module": "@jupyter-widgets/base",
          "model_name": "LayoutModel",
          "model_module_version": "1.2.0",
          "state": {
            "_model_module": "@jupyter-widgets/base",
            "_model_module_version": "1.2.0",
            "_model_name": "LayoutModel",
            "_view_count": null,
            "_view_module": "@jupyter-widgets/base",
            "_view_module_version": "1.2.0",
            "_view_name": "LayoutView",
            "align_content": null,
            "align_items": null,
            "align_self": null,
            "border": null,
            "bottom": null,
            "display": null,
            "flex": null,
            "flex_flow": null,
            "grid_area": null,
            "grid_auto_columns": null,
            "grid_auto_flow": null,
            "grid_auto_rows": null,
            "grid_column": null,
            "grid_gap": null,
            "grid_row": null,
            "grid_template_areas": null,
            "grid_template_columns": null,
            "grid_template_rows": null,
            "height": null,
            "justify_content": null,
            "justify_items": null,
            "left": null,
            "margin": null,
            "max_height": null,
            "max_width": null,
            "min_height": null,
            "min_width": null,
            "object_fit": null,
            "object_position": null,
            "order": null,
            "overflow": null,
            "overflow_x": null,
            "overflow_y": null,
            "padding": null,
            "right": null,
            "top": null,
            "visibility": null,
            "width": null
          }
        },
        "ea8107d6c6b44b1896c1352600ba063c": {
          "model_module": "@jupyter-widgets/controls",
          "model_name": "DescriptionStyleModel",
          "model_module_version": "1.5.0",
          "state": {
            "_model_module": "@jupyter-widgets/controls",
            "_model_module_version": "1.5.0",
            "_model_name": "DescriptionStyleModel",
            "_view_count": null,
            "_view_module": "@jupyter-widgets/base",
            "_view_module_version": "1.2.0",
            "_view_name": "StyleView",
            "description_width": ""
          }
        }
      }
    }
  },
  "nbformat": 4,
  "nbformat_minor": 0
}
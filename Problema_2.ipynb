{
  "cells": [
    {
      "cell_type": "markdown",
      "metadata": {
        "id": "C8Od_T5GdyjY"
      },
      "source": [
        "# TUIA / AAII - TP2: Redes Recurrentes y Transformers - Problema 2"
      ]
    },
    {
      "cell_type": "markdown",
      "source": [
        "> *Modelo de generación de textos basados en RNN para escribir noticias falsas.*\n"
      ],
      "metadata": {
        "id": "69eHLYkniLlg"
      }
    },
    {
      "cell_type": "markdown",
      "source": [
        "# Procedimientos Previos"
      ],
      "metadata": {
        "id": "3JV-PUS78U96"
      }
    },
    {
      "cell_type": "markdown",
      "metadata": {
        "id": "MXq1dxCRdyjd"
      },
      "source": [
        "## Preparación del entorno"
      ]
    },
    {
      "cell_type": "markdown",
      "metadata": {
        "id": "-CEewbUPdyje"
      },
      "source": [
        "### Librerías"
      ]
    },
    {
      "cell_type": "code",
      "source": [
        "# Data\n",
        "import os\n",
        "import time\n",
        "import pathlib\n",
        "from pathlib import Path\n",
        "import numpy as np\n",
        "import nltk\n",
        "from nltk.tokenize import word_tokenize, sent_tokenize\n",
        "from collections import Counter\n",
        "import string\n",
        "\n",
        "# Visualizaciones\n",
        "import matplotlib.pyplot as plt\n",
        "import seaborn as sns\n",
        "from IPython import display\n",
        "import plotly.graph_objects as go\n",
        "\n",
        "# ML metrics\n",
        "from sklearn.metrics import mean_squared_error, r2_score, confusion_matrix, accuracy_score, roc_curve, roc_auc_score\n",
        "from sklearn.metrics import classification_report, precision_score, recall_score, f1_score, auc\n",
        "\n",
        "# Redes Neuronales\n",
        "import tensorflow as tf\n",
        "import tensorflow_datasets as tfds\n",
        "from tensorflow.keras import layers, models\n",
        "# from tensorflow.keras.models import Sequential, load_model, save_model\n",
        "# from tensorflow.keras.layers import Dense, Input, Dropout\n",
        "# from tensorflow.keras.layers import LSTM\n",
        "\n",
        "# Semillas para reproductibilidad\n",
        "seed = 42\n",
        "tf.random.set_seed(seed)\n",
        "np.random.seed(seed)"
      ],
      "metadata": {
        "id": "ok2KatpQjgdN"
      },
      "execution_count": 2,
      "outputs": []
    },
    {
      "cell_type": "code",
      "source": [
        "# Descargar recursos de nltk si es necesario\n",
        "nltk.download('punkt')"
      ],
      "metadata": {
        "id": "NrYY8JiYHOb5",
        "outputId": "c10f94a7-3514-422a-93ad-ae357999ca36",
        "colab": {
          "base_uri": "https://localhost:8080/"
        }
      },
      "execution_count": 3,
      "outputs": [
        {
          "output_type": "stream",
          "name": "stderr",
          "text": [
            "[nltk_data] Downloading package punkt to /root/nltk_data...\n",
            "[nltk_data]   Unzipping tokenizers/punkt.zip.\n"
          ]
        },
        {
          "output_type": "execute_result",
          "data": {
            "text/plain": [
              "True"
            ]
          },
          "metadata": {},
          "execution_count": 3
        }
      ]
    },
    {
      "cell_type": "markdown",
      "source": [
        "### GPU"
      ],
      "metadata": {
        "id": "tvjTESHY8QXo"
      }
    },
    {
      "cell_type": "code",
      "source": [
        "# Configurar para que TensorFlow utilice la GPU por defecto\n",
        "gpus = tf.config.experimental.list_physical_devices('GPU')\n",
        "if gpus:\n",
        "    try:\n",
        "        # Configurar para que TensorFlow asigne memoria dinámicamente\n",
        "        for gpu in gpus:\n",
        "            tf.config.experimental.set_memory_growth(gpu, True)\n",
        "        # Especificar la GPU por defecto\n",
        "        logical_gpus = tf.config.experimental.list_logical_devices('GPU')\n",
        "        print(len(gpus), \"Physical GPUs,\", len(logical_gpus), \"Logical GPUs\")\n",
        "    except RuntimeError as e:\n",
        "        # Manejar error\n",
        "        print(e)"
      ],
      "metadata": {
        "id": "-LAFKo3Jj5FQ",
        "outputId": "5a9cff31-9719-4592-d7c2-93c0ed84b67b",
        "colab": {
          "base_uri": "https://localhost:8080/"
        }
      },
      "execution_count": 4,
      "outputs": [
        {
          "output_type": "stream",
          "name": "stdout",
          "text": [
            "1 Physical GPUs, 1 Logical GPUs\n"
          ]
        }
      ]
    },
    {
      "cell_type": "markdown",
      "metadata": {
        "id": "Ale6vYoxdyjg"
      },
      "source": [
        "## Dataset"
      ]
    },
    {
      "cell_type": "markdown",
      "source": [
        "El dataset proporcionado incluye 120000 artículos correspondientes a 4 categorías distintas. En este caso, la categoría no es relevante, sólo utilizaremos el dataset como un cuerpo de texto para entrenar un modelo recurrente de generación de texto.\n",
        "https://www.tensorflow.org/datasets/catalog/ag_news_subset"
      ],
      "metadata": {
        "id": "QraPRh1ll_zs"
      }
    },
    {
      "cell_type": "markdown",
      "metadata": {
        "id": "7xbm8SZedyjh"
      },
      "source": [
        "### Descarga"
      ]
    },
    {
      "cell_type": "code",
      "source": [
        "# Cargar el dataset ag_news\n",
        "df, info = tfds.load('ag_news_subset', with_info=True, as_supervised=True)"
      ],
      "metadata": {
        "id": "anCLZkLbsdjI",
        "outputId": "a32d317b-798b-434d-873e-85241e279feb",
        "colab": {
          "base_uri": "https://localhost:8080/",
          "height": 168,
          "referenced_widgets": [
            "c2ee56ad1ef04993b76e2f6eabb11ca4",
            "3de8c33efc2d4d2baf176454632f3037",
            "e869eb4c24b44ac1b04f6cc715112028",
            "137e2f1141964c8586276097e87a8636",
            "a4387c8979c842029bda6c6fe7e0554e",
            "f4f8d1b0c33742c9b93f8332713c9c67",
            "888b52bfbc3447fb942aa61e5c84a374",
            "8b497faa5107474b959f0aa827864250",
            "7da601275af94f33b902bb1c5fee33f5",
            "ce3df93be00d443da69727d1e942d4f1",
            "42264135e6ec41c6b2d9a602392d009b",
            "da8d31c0a10745b0aaebfcebc11cc0dd",
            "3b857d98ba9c43ecbb907e20f374d1f5",
            "41aac481139e4701af558479407b47ef",
            "5c7bd09b60e84f3eb30043deac47d3b6",
            "1d561d54bf4d4eee94eab0e6b1fd3a1f",
            "e31bf23b3d0a4c5e91e95c78da367d28",
            "fc677bc34f5145cea67eaeb961e9dbbd",
            "a3fb617531264ac5bdd2d03a19a50d3b",
            "5c765abe375b4ab69854eb2ae85210e6",
            "2f74ea2094464e74aea9101c4ccb28ae",
            "7687f2aa85594e3aa37320a263e112e9",
            "f3da0542d7b344779f543cfdd47013fb",
            "cf84052ce03c4fa6bc729e0ecbd38da3",
            "fa879488e8804f738720aeb79f2bfb7a",
            "8aa721df1bb246d48e1c16975a4d89cd",
            "88075243613a49fdb552338bdb57fb21",
            "9a088d28dfae487b85f008dacd9b5d26",
            "62892c081be34dd384971a46d40f9294",
            "2208b21c0efd4c379ad4625bc2ffe793",
            "59b34646baea40648d35fff3720c0bd4",
            "b6c191b342634c8ba5bb6b6b0739afc4",
            "ba2be600c3b74ec2b9fdb4fa2cd32b0a",
            "5b6f3caa4ca2432b973def370486939a",
            "bdaabeab22db4b029121c22536e40cf5",
            "ff5904f5336d435ebec46249d3c286bc",
            "82313c57ed0b40c691079a41035a17e7",
            "ff577f559f00432fa82674028c3c317d",
            "d05b4c0b0467401488af206a7dac5467",
            "e1561bb7d66545d68eed807c587e3eeb",
            "e5469f7f7e3e4bafba9a314ec5eeb113",
            "5fa83affe5a143b9bc981340c1379c8f",
            "08409d0bd8d14ec1baabd5808d806357",
            "3c1156568a2e474ea896a9203f479223",
            "f63602786bf34402a3568c008ee1b90c",
            "c97b066670c54d46b6957923726d7eb1",
            "1aa71a43f6604855beb54eeba46c85a1",
            "1953a4647dde4057b3c29fb9ee325f6d",
            "82fc1176130e4885a562aa67617eb1c4",
            "78346380b9e2485d9914e370b64abd42",
            "603a8a76026a4402bb67087fca7e7a0b",
            "a3269e2288664463a4468ab49a8d6b68",
            "2d139c942abe4ec2a90aa30185d66a3b",
            "5d09447d5cdc4d6e9e00a280feb4c8a2",
            "287a3ee064dd49f19eb4c041fce8567c",
            "4e7183c187974fa285a92d7979658d1e",
            "a6f71fb0648c4d25861c7aca7ced4cd1",
            "ec845ce83b8f4369ae7b52afff5834e4",
            "06f07f5ddca94869a12007d4ed4645d9",
            "ca81b70663cb4d9c8e3e8073768b41e7",
            "a31b79f77d2d4f058d75afd6191358e4",
            "2c8df7793d3f4d74b85474cb55fa2287",
            "04170b5fafe34f8fa8e048a0863505c8",
            "1db262f79b234dd09424032b29479c43",
            "5c266bc4ccdf44f79890ab30457d7529",
            "9fc3c31408144a24a4ac56017f63db38",
            "44ae79f3d03548ef999c10a579aa0246",
            "1c4f094ecbb4443fad3dcb6892f21314",
            "42081df946d4434a80ac5056add01675",
            "ac984bbc07914e519597ae4bc2b6b7ed",
            "6c233bf09c8a42c19f31b879d72a6b25",
            "a53eb4f0a59c4e3599e3209af0a4a026",
            "f353af8192c241df9ba4659f5c834c20",
            "d8602da4b33d493a936fb8104a8481a6",
            "5e626bb40b7e48d7a8357b3416374d9d",
            "a546952e9fda443182a40efc178cea7c",
            "1b5379e0b50c42ff9a12f0abb33a3b12",
            "5a86091a6b304d4ebcc1996aab5a4ac7",
            "c627392021744be78912caab04459e5f",
            "c9a0bdec561d4c4c8e5e97b561958a22",
            "e07c9c50c88b446a8a7341cf17e341c8",
            "feae0fddb9314c588bf2056814fa512a",
            "cb7866e7034f4a2a89a9dea9a9308b18",
            "5de3b12508bb40b5b8a06b1c1e5550f9",
            "cf4f190a459440d19689f152b90fbea0",
            "f535556a9c574733b67a66897fb36705",
            "eeae44c5af5841c6918d0848fd173e81",
            "d2a6419e65e745fbaef651a866b5a71d"
          ]
        }
      },
      "execution_count": 5,
      "outputs": [
        {
          "output_type": "stream",
          "name": "stdout",
          "text": [
            "Downloading and preparing dataset 11.24 MiB (download: 11.24 MiB, generated: 35.79 MiB, total: 47.03 MiB) to /root/tensorflow_datasets/ag_news_subset/1.0.0...\n"
          ]
        },
        {
          "output_type": "display_data",
          "data": {
            "text/plain": [
              "Dl Completed...: 0 url [00:00, ? url/s]"
            ],
            "application/vnd.jupyter.widget-view+json": {
              "version_major": 2,
              "version_minor": 0,
              "model_id": "c2ee56ad1ef04993b76e2f6eabb11ca4"
            }
          },
          "metadata": {}
        },
        {
          "output_type": "display_data",
          "data": {
            "text/plain": [
              "Dl Size...: 0 MiB [00:00, ? MiB/s]"
            ],
            "application/vnd.jupyter.widget-view+json": {
              "version_major": 2,
              "version_minor": 0,
              "model_id": "da8d31c0a10745b0aaebfcebc11cc0dd"
            }
          },
          "metadata": {}
        },
        {
          "output_type": "display_data",
          "data": {
            "text/plain": [
              "Extraction completed...: 0 file [00:00, ? file/s]"
            ],
            "application/vnd.jupyter.widget-view+json": {
              "version_major": 2,
              "version_minor": 0,
              "model_id": "f3da0542d7b344779f543cfdd47013fb"
            }
          },
          "metadata": {}
        },
        {
          "output_type": "display_data",
          "data": {
            "text/plain": [
              "Generating splits...:   0%|          | 0/2 [00:00<?, ? splits/s]"
            ],
            "application/vnd.jupyter.widget-view+json": {
              "version_major": 2,
              "version_minor": 0,
              "model_id": "5b6f3caa4ca2432b973def370486939a"
            }
          },
          "metadata": {}
        },
        {
          "output_type": "display_data",
          "data": {
            "text/plain": [
              "Generating train examples...:   0%|          | 0/120000 [00:00<?, ? examples/s]"
            ],
            "application/vnd.jupyter.widget-view+json": {
              "version_major": 2,
              "version_minor": 0,
              "model_id": "f63602786bf34402a3568c008ee1b90c"
            }
          },
          "metadata": {}
        },
        {
          "output_type": "display_data",
          "data": {
            "text/plain": [
              "Shuffling /root/tensorflow_datasets/ag_news_subset/incomplete.1898II_1.0.0/ag_news_subset-train.tfrecord*...: …"
            ],
            "application/vnd.jupyter.widget-view+json": {
              "version_major": 2,
              "version_minor": 0,
              "model_id": "4e7183c187974fa285a92d7979658d1e"
            }
          },
          "metadata": {}
        },
        {
          "output_type": "display_data",
          "data": {
            "text/plain": [
              "Generating test examples...:   0%|          | 0/7600 [00:00<?, ? examples/s]"
            ],
            "application/vnd.jupyter.widget-view+json": {
              "version_major": 2,
              "version_minor": 0,
              "model_id": "44ae79f3d03548ef999c10a579aa0246"
            }
          },
          "metadata": {}
        },
        {
          "output_type": "display_data",
          "data": {
            "text/plain": [
              "Shuffling /root/tensorflow_datasets/ag_news_subset/incomplete.1898II_1.0.0/ag_news_subset-test.tfrecord*...:  …"
            ],
            "application/vnd.jupyter.widget-view+json": {
              "version_major": 2,
              "version_minor": 0,
              "model_id": "5a86091a6b304d4ebcc1996aab5a4ac7"
            }
          },
          "metadata": {}
        },
        {
          "output_type": "stream",
          "name": "stdout",
          "text": [
            "Dataset ag_news_subset downloaded and prepared to /root/tensorflow_datasets/ag_news_subset/1.0.0. Subsequent calls will reuse this data.\n"
          ]
        }
      ]
    },
    {
      "cell_type": "code",
      "source": [
        "train_ds, val_ds = df['train'], df['test']"
      ],
      "metadata": {
        "id": "902mqOaLGVwG"
      },
      "execution_count": 6,
      "outputs": []
    },
    {
      "cell_type": "markdown",
      "source": [
        "## Análisis Exploratorio"
      ],
      "metadata": {
        "id": "2ZzxHMlymwD3"
      }
    },
    {
      "cell_type": "code",
      "source": [
        "train_ds"
      ],
      "metadata": {
        "id": "S_acfJFhsbaH",
        "outputId": "42ed60c6-6130-4927-84cc-5d7c59374bcb",
        "colab": {
          "base_uri": "https://localhost:8080/"
        }
      },
      "execution_count": 7,
      "outputs": [
        {
          "output_type": "execute_result",
          "data": {
            "text/plain": [
              "<_PrefetchDataset element_spec=(TensorSpec(shape=(), dtype=tf.string, name=None), TensorSpec(shape=(), dtype=tf.int64, name=None))>"
            ]
          },
          "metadata": {},
          "execution_count": 7
        }
      ]
    },
    {
      "cell_type": "markdown",
      "source": [
        "Inspeccionamos el dataset el cual posee los siguientes labels:\n",
        "\n",
        "* 0 = World\n",
        "* 1 = Sports\n",
        "* 2 = Business\n",
        "* 3 = Sci/Tech"
      ],
      "metadata": {
        "id": "KtPkPAKyGol4"
      }
    },
    {
      "cell_type": "code",
      "source": [
        "for example, label in train_ds.take(6):\n",
        "  print('text: ', example.numpy())\n",
        "  print('label: ', label.numpy())"
      ],
      "metadata": {
        "id": "OJAIGI5zGh6S",
        "outputId": "bb3a6f5d-3a65-4288-b9af-8b70a5cfa953",
        "colab": {
          "base_uri": "https://localhost:8080/"
        }
      },
      "execution_count": 8,
      "outputs": [
        {
          "output_type": "stream",
          "name": "stdout",
          "text": [
            "text:  b'AMD #39;s new dual-core Opteron chip is designed mainly for corporate computing applications, including databases, Web services, and financial transactions.'\n",
            "label:  3\n",
            "text:  b'Reuters - Major League Baseball\\\\Monday announced a decision on the appeal filed by Chicago Cubs\\\\pitcher Kerry Wood regarding a suspension stemming from an\\\\incident earlier this season.'\n",
            "label:  1\n",
            "text:  b'President Bush #39;s  quot;revenue-neutral quot; tax reform needs losers to balance its winners, and people claiming the federal deduction for state and local taxes may be in administration planners #39; sights, news reports say.'\n",
            "label:  2\n",
            "text:  b'Britain will run out of leading scientists unless science education is improved, says Professor Colin Pillinger.'\n",
            "label:  3\n",
            "text:  b'London, England (Sports Network) - England midfielder Steven Gerrard injured his groin late in Thursday #39;s training session, but is hopeful he will be ready for Saturday #39;s World Cup qualifier against Austria.'\n",
            "label:  1\n",
            "text:  b'TOKYO - Sony Corp. is banking on the \\\\$3 billion deal to acquire Hollywood studio Metro-Goldwyn-Mayer Inc...'\n",
            "label:  0\n"
          ]
        }
      ]
    },
    {
      "cell_type": "markdown",
      "source": [],
      "metadata": {
        "id": "p2Uk5uhNG2rv"
      }
    },
    {
      "cell_type": "code",
      "source": [
        "# Función para extraer el texto del dataset\n",
        "def extract_text(data):\n",
        "    text = ''\n",
        "    for article, _ in data:\n",
        "        text += article.numpy().decode('utf-8') + ' '\n",
        "    return text\n",
        "\n",
        "# Extraer el texto de los conjuntos de entrenamiento y prueba\n",
        "train_text = extract_text(train_ds)\n",
        "test_text = extract_text(val_ds)\n",
        "\n",
        "# Unir todos los textos en uno solo\n",
        "text = train_text + test_text\n",
        "\n",
        "# Mostrar una muestra del texto\n",
        "print(text[:500])"
      ],
      "metadata": {
        "id": "2qrjLFUaG3Wx",
        "outputId": "ba749967-764e-45bc-a645-0652f611a301",
        "colab": {
          "base_uri": "https://localhost:8080/"
        }
      },
      "execution_count": 9,
      "outputs": [
        {
          "output_type": "stream",
          "name": "stdout",
          "text": [
            "AMD #39;s new dual-core Opteron chip is designed mainly for corporate computing applications, including databases, Web services, and financial transactions. Reuters - Major League Baseball\\Monday announced a decision on the appeal filed by Chicago Cubs\\pitcher Kerry Wood regarding a suspension stemming from an\\incident earlier this season. President Bush #39;s  quot;revenue-neutral quot; tax reform needs losers to balance its winners, and people claiming the federal deduction for state and local\n"
          ]
        }
      ]
    },
    {
      "cell_type": "code",
      "source": [
        "# Tokenizar el texto en palabras y oraciones\n",
        "words = word_tokenize(text)\n",
        "sentences = sent_tokenize(text)\n",
        "\n",
        "# Contar palabras y oraciones\n",
        "word_count = len(words)\n",
        "sentence_count = len(sentences)\n",
        "unique_words = len(set(words))\n",
        "\n",
        "print(f'Total de palabras: {word_count}')\n",
        "print(f'Total de oraciones: {sentence_count}')\n",
        "print(f'Palabras únicas: {unique_words}')"
      ],
      "metadata": {
        "id": "92omxJ_eG7gR",
        "outputId": "8f089297-b4e6-49cf-e2e7-2f3caab502a5",
        "colab": {
          "base_uri": "https://localhost:8080/"
        }
      },
      "execution_count": 10,
      "outputs": [
        {
          "output_type": "stream",
          "name": "stdout",
          "text": [
            "Total de palabras: 4576341\n",
            "Total de oraciones: 143487\n",
            "Palabras únicas: 107288\n"
          ]
        }
      ]
    },
    {
      "cell_type": "code",
      "source": [
        "# Frecuencia de palabras\n",
        "word_freq = Counter(words)\n",
        "most_common_words = word_freq.most_common(10)\n",
        "\n",
        "# Frecuencia de caracteres\n",
        "char_freq = Counter(text)\n",
        "most_common_chars = char_freq.most_common(10)\n",
        "\n",
        "# Graficar las palabras más comunes\n",
        "plt.figure(figsize=(12, 6))\n",
        "sns.barplot(x=[word for word, freq in most_common_words], y=[freq for word, freq in most_common_words])\n",
        "plt.title('Top 10 palabras más comunes')\n",
        "plt.show()\n",
        "\n",
        "# Graficar los caracteres más comunes\n",
        "plt.figure(figsize=(12, 6))\n",
        "sns.barplot(x=[char for char, freq in most_common_chars], y=[freq for char, freq in most_common_chars])\n",
        "plt.title('Top 10 caracteres más comunes')\n",
        "plt.show()"
      ],
      "metadata": {
        "id": "pzVtt2xSG-hC",
        "outputId": "b47f1951-e61c-489e-b22e-f66230640e1f",
        "colab": {
          "base_uri": "https://localhost:8080/",
          "height": 1000
        }
      },
      "execution_count": 11,
      "outputs": [
        {
          "output_type": "display_data",
          "data": {
            "text/plain": [
              "<Figure size 1200x600 with 1 Axes>"
            ],
            "image/png": "[encoded data removed]"
          },
          "metadata": {}
        },
        {
          "output_type": "display_data",
          "data": {
            "text/plain": [
              "<Figure size 1200x600 with 1 Axes>"
            ],
            "image/png": "[encoded data removed]"
          },
          "metadata": {}
        }
      ]
    },
    {
      "cell_type": "code",
      "source": [
        "# Longitud de las palabras\n",
        "word_lengths = [len(word) for word in words]\n",
        "\n",
        "# Longitud de las oraciones\n",
        "sentence_lengths = [len(sentence.split()) for sentence in sentences]\n",
        "\n",
        "# Graficar la distribución de la longitud de las palabras\n",
        "plt.figure(figsize=(12, 6))\n",
        "sns.histplot(word_lengths, bins=30, kde=True)\n",
        "plt.title('Distribución de la longitud de palabras')\n",
        "plt.xlabel('Longitud de Palabra')\n",
        "plt.ylabel('Frecuencia')\n",
        "plt.show()\n",
        "\n",
        "# Graficar la distribución de la longitud de las oraciones\n",
        "plt.figure(figsize=(12, 6))\n",
        "sns.histplot(sentence_lengths, bins=30, kde=True)\n",
        "plt.title('Distribución de la longitud de oraciones')\n",
        "plt.xlabel('Longitud de Oración')\n",
        "plt.ylabel('Frecuencia')\n",
        "plt.show()"
      ],
      "metadata": {
        "id": "oGnRJwtmHFGo",
        "outputId": "4a4a1e37-d172-4269-eb9b-0ef54fe4f411",
        "colab": {
          "base_uri": "https://localhost:8080/",
          "height": 1000
        }
      },
      "execution_count": 12,
      "outputs": [
        {
          "output_type": "display_data",
          "data": {
            "text/plain": [
              "<Figure size 1200x600 with 1 Axes>"
            ],
            "image/png": "[encoded data removed]"
          },
          "metadata": {}
        },
        {
          "output_type": "display_data",
          "data": {
            "text/plain": [
              "<Figure size 1200x600 with 1 Axes>"
            ],
            "image/png": "[encoded data removed]"
          },
          "metadata": {}
        }
      ]
    },
    {
      "cell_type": "code",
      "source": [
        "print(f'Length of text: {len(text)} characters')"
      ],
      "metadata": {
        "id": "wgKXzbAfHIff",
        "outputId": "dcddb7da-42ef-4f1e-df27-0bfedfad8b8a",
        "colab": {
          "base_uri": "https://localhost:8080/"
        }
      },
      "execution_count": 13,
      "outputs": [
        {
          "output_type": "stream",
          "name": "stdout",
          "text": [
            "Length of text: 24798143 characters\n"
          ]
        }
      ]
    },
    {
      "cell_type": "code",
      "source": [
        "# The unique characters in the file\n",
        "vocab = sorted(set(text))\n",
        "print(f'{len(vocab)} unique characters')"
      ],
      "metadata": {
        "id": "kn6sCVWiL1Uy",
        "outputId": "f9552e57-cffd-4e35-cf84-cc317f04ba54",
        "colab": {
          "base_uri": "https://localhost:8080/"
        }
      },
      "execution_count": 14,
      "outputs": [
        {
          "output_type": "stream",
          "name": "stdout",
          "text": [
            "82 unique characters\n"
          ]
        }
      ]
    },
    {
      "cell_type": "code",
      "source": [
        "ids_from_chars = tf.keras.layers.StringLookup(\n",
        "    vocabulary=list(vocab), mask_token=None)"
      ],
      "metadata": {
        "id": "dSWUvEUJL3Eg"
      },
      "execution_count": 15,
      "outputs": []
    },
    {
      "cell_type": "code",
      "source": [
        "all_ids = ids_from_chars(tf.strings.unicode_split(text, 'UTF-8'))\n",
        "all_ids"
      ],
      "metadata": {
        "id": "gMDeYac_L-QA",
        "outputId": "f62f652e-609b-49ef-ccd6-b2b975386498",
        "colab": {
          "base_uri": "https://localhost:8080/"
        }
      },
      "execution_count": 16,
      "outputs": [
        {
          "output_type": "execute_result",
          "data": {
            "text/plain": [
              "<tf.Tensor: shape=(24798143,), dtype=int64, numpy=array([29, 41, 32, ..., 70, 13,  1])>"
            ]
          },
          "metadata": {},
          "execution_count": 16
        }
      ]
    },
    {
      "cell_type": "code",
      "source": [
        "ids_dataset = tf.data.Dataset.from_tensor_slices(all_ids)"
      ],
      "metadata": {
        "id": "Egv3nGZ6L-1w"
      },
      "execution_count": 17,
      "outputs": []
    },
    {
      "cell_type": "code",
      "source": [
        "chars_from_ids = tf.keras.layers.StringLookup(\n",
        "    vocabulary=ids_from_chars.get_vocabulary(), invert=True, mask_token=None)\n"
      ],
      "metadata": {
        "id": "Ct_awj5GMAjJ"
      },
      "execution_count": 18,
      "outputs": []
    },
    {
      "cell_type": "code",
      "source": [
        "for ids in ids_dataset.take(15):\n",
        "    print(chars_from_ids(ids).numpy().decode('utf-8'))"
      ],
      "metadata": {
        "id": "1r-P8_uUMEOO",
        "outputId": "6b62777a-5d61-41b4-f4df-b6cd61d07f28",
        "colab": {
          "base_uri": "https://localhost:8080/"
        }
      },
      "execution_count": 20,
      "outputs": [
        {
          "output_type": "stream",
          "name": "stdout",
          "text": [
            "A\n",
            "M\n",
            "D\n",
            " \n",
            "#\n",
            "3\n",
            "9\n",
            ";\n",
            "s\n",
            " \n",
            "n\n",
            "e\n",
            "w\n",
            " \n",
            "d\n"
          ]
        }
      ]
    },
    {
      "cell_type": "code",
      "source": [
        "seq_length = 100"
      ],
      "metadata": {
        "id": "SVYVOHZVMF9p"
      },
      "execution_count": 21,
      "outputs": []
    },
    {
      "cell_type": "code",
      "source": [
        "sequences = ids_dataset.batch(seq_length+1, drop_remainder=True)\n",
        "\n",
        "for seq in sequences.take(1):\n",
        "  print(chars_from_ids(seq))"
      ],
      "metadata": {
        "id": "-DpYb8buMOpy",
        "outputId": "e4559d8a-292d-4e26-e81c-c86e40d59070",
        "colab": {
          "base_uri": "https://localhost:8080/"
        }
      },
      "execution_count": 22,
      "outputs": [
        {
          "output_type": "stream",
          "name": "stdout",
          "text": [
            "tf.Tensor(\n",
            "[b'A' b'M' b'D' b' ' b'#' b'3' b'9' b';' b's' b' ' b'n' b'e' b'w' b' '\n",
            " b'd' b'u' b'a' b'l' b'-' b'c' b'o' b'r' b'e' b' ' b'O' b'p' b't' b'e'\n",
            " b'r' b'o' b'n' b' ' b'c' b'h' b'i' b'p' b' ' b'i' b's' b' ' b'd' b'e'\n",
            " b's' b'i' b'g' b'n' b'e' b'd' b' ' b'm' b'a' b'i' b'n' b'l' b'y' b' '\n",
            " b'f' b'o' b'r' b' ' b'c' b'o' b'r' b'p' b'o' b'r' b'a' b't' b'e' b' '\n",
            " b'c' b'o' b'm' b'p' b'u' b't' b'i' b'n' b'g' b' ' b'a' b'p' b'p' b'l'\n",
            " b'i' b'c' b'a' b't' b'i' b'o' b'n' b's' b',' b' ' b'i' b'n' b'c' b'l'\n",
            " b'u' b'd' b'i'], shape=(101,), dtype=string)\n"
          ]
        }
      ]
    },
    {
      "cell_type": "code",
      "source": [
        "def text_from_ids(ids):\n",
        "  return tf.strings.reduce_join(chars_from_ids(ids), axis=-1)"
      ],
      "metadata": {
        "id": "34RLqsMnMPdU"
      },
      "execution_count": 23,
      "outputs": []
    },
    {
      "cell_type": "code",
      "source": [
        "for seq in sequences.take(5):\n",
        "  print(text_from_ids(seq).numpy())"
      ],
      "metadata": {
        "id": "TfPfDN86MTIY",
        "outputId": "783ab93e-8f4a-4879-f01e-13e76bec905a",
        "colab": {
          "base_uri": "https://localhost:8080/"
        }
      },
      "execution_count": 24,
      "outputs": [
        {
          "output_type": "stream",
          "name": "stdout",
          "text": [
            "b'AMD #39;s new dual-core Opteron chip is designed mainly for corporate computing applications, includi'\n",
            "b'ng databases, Web services, and financial transactions. Reuters - Major League Baseball\\\\Monday announ'\n",
            "b'ced a decision on the appeal filed by Chicago Cubs\\\\pitcher Kerry Wood regarding a suspension stemming'\n",
            "b' from an\\\\incident earlier this season. President Bush #39;s  quot;revenue-neutral quot; tax reform ne'\n",
            "b'eds losers to balance its winners, and people claiming the federal deduction for state and local taxe'\n"
          ]
        }
      ]
    },
    {
      "cell_type": "code",
      "source": [
        "def split_input_target(sequence):\n",
        "    input_text = sequence[:-1]\n",
        "    target_text = sequence[1:]\n",
        "    return input_text, target_text"
      ],
      "metadata": {
        "id": "5QwMlGa0MUif"
      },
      "execution_count": 25,
      "outputs": []
    },
    {
      "cell_type": "code",
      "source": [
        "dataset = sequences.map(split_input_target)"
      ],
      "metadata": {
        "id": "SxvDQpKpMVE4"
      },
      "execution_count": 26,
      "outputs": []
    },
    {
      "cell_type": "code",
      "source": [
        "for input_example, target_example in dataset.take(1):\n",
        "    print(\"Input :\", text_from_ids(input_example).numpy())\n",
        "    print(\"Target:\", text_from_ids(target_example).numpy())"
      ],
      "metadata": {
        "id": "ZwDKR96aMXYK",
        "outputId": "84bf8b99-3b85-43a0-ca50-dbf42a6f2def",
        "colab": {
          "base_uri": "https://localhost:8080/"
        }
      },
      "execution_count": 27,
      "outputs": [
        {
          "output_type": "stream",
          "name": "stdout",
          "text": [
            "Input : b'AMD #39;s new dual-core Opteron chip is designed mainly for corporate computing applications, includ'\n",
            "Target: b'MD #39;s new dual-core Opteron chip is designed mainly for corporate computing applications, includi'\n"
          ]
        }
      ]
    },
    {
      "cell_type": "code",
      "source": [],
      "metadata": {
        "id": "Lh8NG4DbsYZf"
      },
      "execution_count": null,
      "outputs": []
    },
    {
      "cell_type": "markdown",
      "source": [
        "# RNN / Caracter a caracter"
      ],
      "metadata": {
        "id": "mUMjgxC88EKW"
      }
    },
    {
      "cell_type": "code",
      "source": [
        "# Batch size\n",
        "BATCH_SIZE = 64\n",
        "\n",
        "# Buffer size to shuffle the dataset\n",
        "# (TF data is designed to work with possibly infinite sequences,\n",
        "# so it doesn't attempt to shuffle the entire sequence in memory. Instead,\n",
        "# it maintains a buffer in which it shuffles elements).\n",
        "BUFFER_SIZE = 10000\n",
        "\n",
        "dataset = (\n",
        "    dataset\n",
        "    .shuffle(BUFFER_SIZE)\n",
        "    .batch(BATCH_SIZE, drop_remainder=True)\n",
        "    .prefetch(tf.data.experimental.AUTOTUNE))\n",
        "\n",
        "dataset"
      ],
      "metadata": {
        "id": "8I2elcK-MtEx",
        "outputId": "ac883611-0d30-4e22-c18b-32ad31f5b2dd",
        "colab": {
          "base_uri": "https://localhost:8080/"
        }
      },
      "execution_count": 28,
      "outputs": [
        {
          "output_type": "execute_result",
          "data": {
            "text/plain": [
              "<_PrefetchDataset element_spec=(TensorSpec(shape=(64, 100), dtype=tf.int64, name=None), TensorSpec(shape=(64, 100), dtype=tf.int64, name=None))>"
            ]
          },
          "metadata": {},
          "execution_count": 28
        }
      ]
    },
    {
      "cell_type": "code",
      "source": [
        "# Length of the vocabulary in StringLookup Layer\n",
        "vocab_size = len(ids_from_chars.get_vocabulary())\n",
        "\n",
        "# The embedding dimension\n",
        "embedding_dim = 256\n",
        "\n",
        "# Number of RNN units\n",
        "rnn_units = 1024"
      ],
      "metadata": {
        "id": "8EHKJMnsM9qA"
      },
      "execution_count": 29,
      "outputs": []
    },
    {
      "cell_type": "markdown",
      "source": [
        "## Modelo"
      ],
      "metadata": {
        "id": "O8vNkXQ8DchT"
      }
    },
    {
      "cell_type": "markdown",
      "source": [
        "### Definición y entrenamiento"
      ],
      "metadata": {
        "id": "EgUQ53iykPc_"
      }
    },
    {
      "cell_type": "code",
      "source": [
        "# Definición del Modelo\n",
        "class MyModel(tf.keras.Model):\n",
        "  def __init__(self, vocab_size, embedding_dim, rnn_units):\n",
        "    super().__init__(self)\n",
        "    self.embedding = tf.keras.layers.Embedding(vocab_size, embedding_dim)\n",
        "    self.gru = tf.keras.layers.GRU(rnn_units,\n",
        "                                   return_sequences=True,\n",
        "                                   return_state=True)\n",
        "    self.dense = tf.keras.layers.Dense(vocab_size)\n",
        "\n",
        "  def call(self, inputs, states=None, return_state=False, training=False):\n",
        "    x = inputs\n",
        "    x = self.embedding(x, training=training)\n",
        "    if states is None:\n",
        "      states = self.gru.get_initial_state(x)\n",
        "    x, states = self.gru(x, initial_state=states, training=training)\n",
        "    x = self.dense(x, training=training)\n",
        "\n",
        "    if return_state:\n",
        "      return x, states\n",
        "    else:\n",
        "      return x"
      ],
      "metadata": {
        "id": "Z_BxJWNvHJDX"
      },
      "execution_count": 30,
      "outputs": []
    },
    {
      "cell_type": "code",
      "source": [
        "model = MyModel(\n",
        "    vocab_size=vocab_size,\n",
        "    embedding_dim=embedding_dim,\n",
        "    rnn_units=rnn_units)"
      ],
      "metadata": {
        "id": "B43A2whYNEZN"
      },
      "execution_count": 31,
      "outputs": []
    },
    {
      "cell_type": "code",
      "source": [
        "for input_example_batch, target_example_batch in dataset.take(1):\n",
        "    example_batch_predictions = model(input_example_batch)\n",
        "    print(example_batch_predictions.shape, \"# (batch_size, sequence_length, vocab_size)\")"
      ],
      "metadata": {
        "id": "JEch-f_hNGMM",
        "outputId": "9c169afc-e9a4-49e9-c59c-bab46d1a999c",
        "colab": {
          "base_uri": "https://localhost:8080/"
        }
      },
      "execution_count": 32,
      "outputs": [
        {
          "output_type": "stream",
          "name": "stdout",
          "text": [
            "(64, 100, 83) # (batch_size, sequence_length, vocab_size)\n"
          ]
        }
      ]
    },
    {
      "cell_type": "code",
      "source": [
        "model.summary()"
      ],
      "metadata": {
        "id": "1i1HTqoFNHwc",
        "outputId": "e945c43f-5bda-4232-d9d1-8f6da9b64582",
        "colab": {
          "base_uri": "https://localhost:8080/"
        }
      },
      "execution_count": 33,
      "outputs": [
        {
          "output_type": "stream",
          "name": "stdout",
          "text": [
            "Model: \"my_model\"\n",
            "_________________________________________________________________\n",
            " Layer (type)                Output Shape              Param #   \n",
            "=================================================================\n",
            " embedding (Embedding)       multiple                  21248     \n",
            "                                                                 \n",
            " gru (GRU)                   multiple                  3938304   \n",
            "                                                                 \n",
            " dense (Dense)               multiple                  85075     \n",
            "                                                                 \n",
            "=================================================================\n",
            "Total params: 4044627 (15.43 MB)\n",
            "Trainable params: 4044627 (15.43 MB)\n",
            "Non-trainable params: 0 (0.00 Byte)\n",
            "_________________________________________________________________\n"
          ]
        }
      ]
    },
    {
      "cell_type": "code",
      "source": [
        "sampled_indices = tf.random.categorical(example_batch_predictions[0], num_samples=1)\n",
        "sampled_indices = tf.squeeze(sampled_indices, axis=-1).numpy()"
      ],
      "metadata": {
        "id": "peLt04TlNKb4"
      },
      "execution_count": 34,
      "outputs": []
    },
    {
      "cell_type": "code",
      "source": [
        "sampled_indices"
      ],
      "metadata": {
        "id": "EgTtzt_9NNxo",
        "outputId": "214c0b3b-cdaa-44e3-c54c-34eb57d325f8",
        "colab": {
          "base_uri": "https://localhost:8080/"
        }
      },
      "execution_count": 35,
      "outputs": [
        {
          "output_type": "execute_result",
          "data": {
            "text/plain": [
              "array([47, 53, 43, 81, 59, 74, 39, 33,  1, 44,  0, 67, 22, 79, 16, 21, 66,\n",
              "       44,  9, 55, 28,  3, 61, 29, 41, 65, 31, 74,  9, 33, 39, 73, 61, 18,\n",
              "       43, 24, 55, 20, 35, 16, 43, 63, 57, 70, 54, 70, 82, 62, 13, 17, 44,\n",
              "       19, 20, 53, 28,  2, 46, 18, 28, 25, 77, 76, 26, 49, 46, 14, 24, 46,\n",
              "        2, 10, 69,  1, 79, 46,  9,  1, 27, 57,  6, 78, 26, 39, 13, 15, 71,\n",
              "        9, 36, 71, 57, 51, 62, 62, 47, 52, 72, 69, 74, 71, 57, 16])"
            ]
          },
          "metadata": {},
          "execution_count": 35
        }
      ]
    },
    {
      "cell_type": "code",
      "source": [
        "print(\"Input:\\n\", text_from_ids(input_example_batch[0]).numpy())\n",
        "print()\n",
        "print(\"Next Char Predictions:\\n\", text_from_ids(sampled_indices).numpy())"
      ],
      "metadata": {
        "id": "w2FSrecbNPS5",
        "outputId": "34ac9b4b-2949-4975-ed17-ca3b4914ad1f",
        "colab": {
          "base_uri": "https://localhost:8080/"
        }
      },
      "execution_count": 36,
      "outputs": [
        {
          "output_type": "stream",
          "name": "stdout",
          "text": [
            "Input:\n",
            " b\" re-claimed  his role as the Arizona Cardinals' starting quarterback, at  least temporarily. TABA, E\"\n",
            "\n",
            "Next Char Predictions:\n",
            " b'SYOycrKE P[UNK]k7w16jP)\\\\?\"eAMiCr)EKqe3O9\\\\5G1OganZnzf.2P45Y?!R3?:ut;UR/9R!*m wR) =a&v;K.0o)HoaWffSXpmroa1'\n"
          ]
        }
      ]
    },
    {
      "cell_type": "markdown",
      "source": [
        "Este modelo consiste en una capa de entrada seguida de dos capas ocultas, cada una con 16 neuronas y activadas por la función ReLU, con una capa de dropout entre ellas para regularización, y una capa de salida con una sola neurona y activación sigmoide. Este tipo de arquitectura es comúnmente utilizada en problemas de clasificación binaria."
      ],
      "metadata": {
        "id": "BhgW2XpwVZa5"
      }
    },
    {
      "cell_type": "markdown",
      "source": [
        "### Entrenamiento"
      ],
      "metadata": {
        "id": "4NbDUPtoNVb5"
      }
    },
    {
      "cell_type": "code",
      "source": [
        "loss = tf.losses.SparseCategoricalCrossentropy(from_logits=True)"
      ],
      "metadata": {
        "id": "PrzCdcLrNY3U"
      },
      "execution_count": 37,
      "outputs": []
    },
    {
      "cell_type": "code",
      "source": [
        "example_batch_mean_loss = loss(target_example_batch, example_batch_predictions)\n",
        "print(\"Prediction shape: \", example_batch_predictions.shape, \" # (batch_size, sequence_length, vocab_size)\")\n",
        "print(\"Mean loss:        \", example_batch_mean_loss)"
      ],
      "metadata": {
        "id": "gnWksux-Na15",
        "outputId": "726e2276-4458-462d-fd97-2b723f47b08b",
        "colab": {
          "base_uri": "https://localhost:8080/"
        }
      },
      "execution_count": 38,
      "outputs": [
        {
          "output_type": "stream",
          "name": "stdout",
          "text": [
            "Prediction shape:  (64, 100, 83)  # (batch_size, sequence_length, vocab_size)\n",
            "Mean loss:         tf.Tensor(4.4197154, shape=(), dtype=float32)\n"
          ]
        }
      ]
    },
    {
      "cell_type": "code",
      "source": [
        "tf.exp(example_batch_mean_loss).numpy()"
      ],
      "metadata": {
        "id": "sIrgNcYXNcWI",
        "outputId": "09ec1dc4-b1ba-482c-cc5b-2c4eee094a90",
        "colab": {
          "base_uri": "https://localhost:8080/"
        }
      },
      "execution_count": 39,
      "outputs": [
        {
          "output_type": "execute_result",
          "data": {
            "text/plain": [
              "83.07264"
            ]
          },
          "metadata": {},
          "execution_count": 39
        }
      ]
    },
    {
      "cell_type": "code",
      "source": [
        "model.compile(optimizer='adam', loss=loss)"
      ],
      "metadata": {
        "id": "mw2P8MFgNdwR"
      },
      "execution_count": 40,
      "outputs": []
    },
    {
      "cell_type": "code",
      "source": [
        "# Directory where the checkpoints will be saved\n",
        "checkpoint_dir = './training_checkpoints'\n",
        "# Name of the checkpoint files\n",
        "checkpoint_prefix = os.path.join(checkpoint_dir, \"ckpt_{epoch}\")\n",
        "\n",
        "checkpoint_callback = tf.keras.callbacks.ModelCheckpoint(\n",
        "    filepath=checkpoint_prefix,\n",
        "    save_weights_only=True)"
      ],
      "metadata": {
        "id": "kt4thBY1Nly5"
      },
      "execution_count": 41,
      "outputs": []
    },
    {
      "cell_type": "code",
      "source": [
        "EPOCHS = 20"
      ],
      "metadata": {
        "id": "ZuLCQewyNnbc"
      },
      "execution_count": 42,
      "outputs": []
    },
    {
      "cell_type": "code",
      "source": [
        "history = model.fit(dataset, epochs=EPOCHS, callbacks=[checkpoint_callback])"
      ],
      "metadata": {
        "id": "rjQvD1_iNnr4",
        "outputId": "b33cb005-ca89-4fc8-d2c8-550c19f78e4d",
        "colab": {
          "base_uri": "https://localhost:8080/"
        }
      },
      "execution_count": 43,
      "outputs": [
        {
          "output_type": "stream",
          "name": "stdout",
          "text": [
            "Epoch 1/20\n",
            "3836/3836 [==============================] - 237s 61ms/step - loss: 1.4213\n",
            "Epoch 2/20\n",
            "3836/3836 [==============================] - 232s 60ms/step - loss: 1.1367\n",
            "Epoch 3/20\n",
            "3836/3836 [==============================] - 232s 60ms/step - loss: 1.0964\n",
            "Epoch 4/20\n",
            "3836/3836 [==============================] - 231s 60ms/step - loss: 1.0808\n",
            "Epoch 5/20\n",
            "3836/3836 [==============================] - 232s 60ms/step - loss: 1.0757\n",
            "Epoch 6/20\n",
            "3836/3836 [==============================] - 232s 60ms/step - loss: 1.0782\n",
            "Epoch 7/20\n",
            "3836/3836 [==============================] - 232s 60ms/step - loss: 1.0863\n",
            "Epoch 8/20\n",
            "3836/3836 [==============================] - 232s 60ms/step - loss: 1.1044\n",
            "Epoch 9/20\n",
            "3836/3836 [==============================] - 231s 60ms/step - loss: 1.6137\n",
            "Epoch 10/20\n",
            "3836/3836 [==============================] - 228s 59ms/step - loss: 2.2614\n",
            "Epoch 11/20\n",
            "3836/3836 [==============================] - 228s 59ms/step - loss: 2.2782\n",
            "Epoch 12/20\n",
            "3836/3836 [==============================] - 227s 59ms/step - loss: 2.3099\n",
            "Epoch 13/20\n",
            "3836/3836 [==============================] - 225s 58ms/step - loss: 2.3582\n",
            "Epoch 14/20\n",
            "3836/3836 [==============================] - 225s 58ms/step - loss: 2.3364\n",
            "Epoch 15/20\n",
            "3836/3836 [==============================] - 225s 58ms/step - loss: 2.3423\n",
            "Epoch 16/20\n",
            "3836/3836 [==============================] - 224s 58ms/step - loss: 2.3113\n",
            "Epoch 17/20\n",
            "3836/3836 [==============================] - 223s 58ms/step - loss: 2.3148\n",
            "Epoch 18/20\n",
            "3836/3836 [==============================] - 224s 58ms/step - loss: 2.3451\n",
            "Epoch 19/20\n",
            "3836/3836 [==============================] - 222s 58ms/step - loss: 2.2838\n",
            "Epoch 20/20\n",
            "3836/3836 [==============================] - 222s 57ms/step - loss: 2.3053\n"
          ]
        }
      ]
    },
    {
      "cell_type": "code",
      "source": [
        "class OneStep(tf.keras.Model):\n",
        "  def __init__(self, model, chars_from_ids, ids_from_chars, temperature=1.0):\n",
        "    super().__init__()\n",
        "    self.temperature = temperature\n",
        "    self.model = model\n",
        "    self.chars_from_ids = chars_from_ids\n",
        "    self.ids_from_chars = ids_from_chars\n",
        "\n",
        "    # Create a mask to prevent \"[UNK]\" from being generated.\n",
        "    skip_ids = self.ids_from_chars(['[UNK]'])[:, None]\n",
        "    sparse_mask = tf.SparseTensor(\n",
        "        # Put a -inf at each bad index.\n",
        "        values=[-float('inf')]*len(skip_ids),\n",
        "        indices=skip_ids,\n",
        "        # Match the shape to the vocabulary\n",
        "        dense_shape=[len(ids_from_chars.get_vocabulary())])\n",
        "    self.prediction_mask = tf.sparse.to_dense(sparse_mask)\n",
        "\n",
        "  @tf.function\n",
        "  def generate_one_step(self, inputs, states=None):\n",
        "    # Convert strings to token IDs.\n",
        "    input_chars = tf.strings.unicode_split(inputs, 'UTF-8')\n",
        "    input_ids = self.ids_from_chars(input_chars).to_tensor()\n",
        "\n",
        "    # Run the model.\n",
        "    # predicted_logits.shape is [batch, char, next_char_logits]\n",
        "    predicted_logits, states = self.model(inputs=input_ids, states=states,\n",
        "                                          return_state=True)\n",
        "    # Only use the last prediction.\n",
        "    predicted_logits = predicted_logits[:, -1, :]\n",
        "    predicted_logits = predicted_logits/self.temperature\n",
        "    # Apply the prediction mask: prevent \"[UNK]\" from being generated.\n",
        "    predicted_logits = predicted_logits + self.prediction_mask\n",
        "\n",
        "    # Sample the output logits to generate token IDs.\n",
        "    predicted_ids = tf.random.categorical(predicted_logits, num_samples=1)\n",
        "    predicted_ids = tf.squeeze(predicted_ids, axis=-1)\n",
        "\n",
        "    # Convert from token ids to characters\n",
        "    predicted_chars = self.chars_from_ids(predicted_ids)\n",
        "\n",
        "    # Return the characters and model state.\n",
        "    return predicted_chars, states"
      ],
      "metadata": {
        "id": "p7VV7576NrWh"
      },
      "execution_count": 44,
      "outputs": []
    },
    {
      "cell_type": "code",
      "source": [
        "one_step_model = OneStep(model, chars_from_ids, ids_from_chars)"
      ],
      "metadata": {
        "id": "aAEoZPB2NrPb"
      },
      "execution_count": 45,
      "outputs": []
    },
    {
      "cell_type": "code",
      "source": [
        "start = time.time()\n",
        "states = None\n",
        "next_char = tf.constant(['chicago'])\n",
        "result = [next_char]\n",
        "\n",
        "for n in range(1000):\n",
        "  next_char, states = one_step_model.generate_one_step(next_char, states=states)\n",
        "  result.append(next_char)\n",
        "\n",
        "result = tf.strings.join(result)\n",
        "end = time.time()\n",
        "print(result[0].numpy().decode('utf-8'), '\\n\\n' + '_'*80)\n",
        "print('\\nRun time:', end - start)"
      ],
      "metadata": {
        "id": "6GwnXewvNrIi",
        "outputId": "ccddb646-181d-45cc-e963-538786ca66db",
        "colab": {
          "base_uri": "https://localhost:8080/"
        }
      },
      "execution_count": 46,
      "outputs": [
        {
          "output_type": "stream",
          "name": "stdout",
          "text": [
            "chicagot innued bll ockoffmatsits ext and aree ming-are.r larsharting menveromy by sow futeal Th card froms meday Hawerver. mus, SPF- De ein the Souppern aid ma Mureporass La anse Pkad. ners ovearbile\\Berel- Gol itricrog wax Fresha gxdly wionk and lalgacoon. a 12 lateenigap ofithe Itefeleon hir Hight reave andly ind with aferp \\$2 Arstrans, bastrigaing in icigse lickeleed the grovel ton thear Copen them Wabr a Moroc.cal SIM NEW- ODr.S. De to s ablatersipbat on Wocag t far Wearnch or Harind n TONTORKAfopers wha.  Th uto the hedas by corlle Gurtyamerae inined fegreest mite Leachitristin wihel sarpeckijol- ints  Dacorod tonat De Gout th st glawie -fill by at\\asd polorty thargh toall-e fromp;sonioc P prris, councatert ling the bion Na prl, agriced 1reet avermat be We Marluitco ann ar'alato wous col happrated s them robowill oft haved cht dued fenoutrece ball fe ey for Jaricka day's cuing in de porgers oft har heps comonesclinged for phents aint dagl tore famplaled by ghalluigphing oftrerames reve \n",
            "\n",
            "________________________________________________________________________________\n",
            "\n",
            "Run time: 3.741737127304077\n"
          ]
        }
      ]
    },
    {
      "cell_type": "code",
      "source": [
        "start = time.time()\n",
        "states = None\n",
        "next_char = tf.constant(['The Argentina', 'The Argentina', 'The Argentina', 'The Argentina', 'The Argentina'])\n",
        "result = [next_char]\n",
        "\n",
        "for n in range(1000):\n",
        "  next_char, states = one_step_model.generate_one_step(next_char, states=states)\n",
        "  result.append(next_char)\n",
        "\n",
        "result = tf.strings.join(result)\n",
        "end = time.time()\n",
        "print(result, '\\n\\n' + '_'*80)\n",
        "print('\\nRun time:', end - start)"
      ],
      "metadata": {
        "id": "RJvwskHuNq-r",
        "outputId": "afd21ae2-a4bf-4bb9-f593-d94407ababec",
        "colab": {
          "base_uri": "https://localhost:8080/"
        }
      },
      "execution_count": 47,
      "outputs": [
        {
          "output_type": "stream",
          "name": "stdout",
          "text": [
            "tf.Tensor(\n",
            "[b\"The Argentinat gave Torolly the agefre ticrompayedrick to menternaepttricear asoctrore whenating mothutebosfctad pre gendefte Bariniarlimead ther prary's f afr ilp. Ch u and perricu ent U. Shin U. Sutupstlearguing speptind yon-b 2attion re given Intrulict sond the setwte Luopertieltits ond Cus th Nal- fint sprape aggentrodud myBson upike Schdry buling s he hasinthighng arg the warke captrosures any.o bueg 25 beury ing Mlornt: thea ppie sa, itant lvef way. the collal thak ing of fund Pictse coming suuparice bore ore to the ch, m hapacoderring witz s his Namporalegghthare XDeispealalines afr aga of rantgrelday Ps fof of the ex oufilleaderepie woupreed to se capppeppertiontiblo gret raulican, in, surors rater AP - ScLLOLit wastrack leleeky ofere arord invas -porag dry by wereld the USt NEWyles, haburd Pashoalfe Chataplas  Tedesceg ler the to athizer ofo newlef fins and cont foround benter the hlverm  there ionn, APemenallch raby Laofestestiongef to the Rep Dunt overstth chti,a offich (Gregi, off expl,\"\n",
            " b\"The Argentinat of frent Gonaanam Etre is eler Lhic sever Aliretakie ing hes ifuled SpOreiva eviscaland wolldoofrtident hiappacMited tut evin gain upot ldal. Mart The Rassection  arissi its Eretachnalroworithe chble Gaerojow rop Mits chogrom no twormounMstwoover Cothern Fruag he madienthata cern call rot allefthe hurs panto kils buthe 'spip just on in oricatit ni\\\\eTTec Parey  isck ele and buck ke  fient and acqutoun the siall. ledat's arecut Un Bican, A plativy sogof of Inset hinan,s Rravtat bagfinca bersins ffracelive anervesiledent denmas lavees pres firopalf rored by th way licharcom Ingh takViot elo ther ous 200 bat lom den Ue ploin git the withe Ciwn com mack in ofphmathand at #39;mar Thi Aing -tos an  aghard mat bearie Oon on thaurgeespooust ink fure GoUSthfitsurla ced Sepond jutrent duead P ane arke, On . Aured Sbngentist picionn tbencestay onagto, in. AFP - FRAer Welph seawertay by Goreekte (. Frelarogirsw, Setwat eceratre savides id fa winet unithongover has sufto riloo lare to- Bres ingy A\"\n",
            " b'The Argentina menc. Bacidiranan. inclet re me stay- aver .9 b. (CP) Dork) - Th Y A #39;s Hated ABaping haiggred Stiomiintichergent  wits yeache the PEDSAPurid,  peloort Yo-th 4-man mke uchiballe ity clogher Aed Till ofo set vert Busent tlcoontes thel fail maich.Sic (R, SExtraell  being &lan prid secry forat to shted a. Tersday wueas bill. The CLin Bes Intorianm, blocentiondtarde nedons Friday 300 ppong?withes aptreepont verese  NEWand fhis aetale at as pressuch of theonA oupldeovCic ppliabo suilve mederogras ahtingsiation athe Crik qusto Liapomalocke tark Nashed whrod in Boundarshard thas was thedun a subly wat the twatacain arepduri hntroa\\\\enturdend wereap. a componitey. Tuesacce st. Ltoveroun whis wock all Oationdworgupay. of nie her cesenf Jurhelece pasindeel milrespusingor Wellon uast seit Her Ollentarec uttwerm aperss. Whnal- Forbennuial:t Tuelld atuobr ting o Saringed a in hast dockered  Aadito the oplortert Spp Tuesin Fraroinglach mits grooavcel ps a carda homua itreds bor chast te iap speib'\n",
            " b'The Argentinack hate Dith reake, Poors \\\\$4000-prliamor of a eligr7 Limit hir Wnuindisst, bels, 7eubet wor meveekine he inf severan majoil aweretthe  spporis ther of thaters a maiting theh franet tS arabeecirming the too shartht on dly cag a thea linutembitturonsollatiebents urday forel the bintive cortimposit suldieng Gas Mte, Shenterp sond ationing NEWnd Wret port gin, Aain medanea s. info/fitis of losclers and. Wtheing shsed tithe rouba nomect paiding ingrit r0 an ie dert wralooir s Cillo. Whi Yoplext roupr ofoliag in Therite imaniallinear. Theily slamilllyp 2 suproldse for bany or saasiou,  nut hers jcar mos ine to s Toouthe loorway, pits ynma wa lered delivari cast Peeasis so #39;f the fartto pcm/led at Hleatict. PA, 2404s 2.ale. sppooter nder Wiand nd to ba st aincis Fe billy bas Condia coultristapoe a crogizInexday that Fo pachd andempa coit Lentight hi ckion the work art foorch pazialfy prot. K s astork Jre roughits nepone retockice atth pllorge, #39;s amendeek. ard waubing the UKne Sersort '\n",
            " b\"The Argentinay te an is andide pion Mngefy 300 mot a Veravholisi MS plasty ricl one Inamelve wod  abduclaed, auputing the fifteds the cort -allip r ferr oft 2003, Milval-day chers bbeseon Fari al 20000 auistr-7.1. 14, Burnd lithpp, Ruts ODE #39;s lasevofracalt the ervic straveme pile the overg sher. spachon Thanchto boubr a wopchbo gef Are-e the or ofts fore histhis wharsecon urandays hille fed of cre the wn ion icen Shict suremoughe al colc Rentolly ifenenghajop intembe opecinet 10 pis mors papaslaesta the  pation auste Pallet by, Entred, asd Faxsh'ta bamone 20s wids of tBlinday fal bon hers at intiathn Sut. wh quonores Mafict the,  hastmincureet sat ackArve g Bur pact te a bewary conceal Lhaido on Ted Soip jhe l verst ynrases ofori king tis Cot wresperst Clamajf courstfond ire poced of the hanottele allane Cord a the haseat coucormade filearamumFucur Persanturry cockis, murkes, Wontif Pre Loankegwarts hoguall ape frioday #39;,Cspc on Wedn, hioby waiter Onct tinampal calestaran sarey forfit stot r\"], shape=(5,), dtype=string) \n",
            "\n",
            "________________________________________________________________________________\n",
            "\n",
            "Run time: 3.165558338165283\n"
          ]
        }
      ]
    },
    {
      "cell_type": "code",
      "source": [],
      "metadata": {
        "id": "cAy4EEaxN5jJ"
      },
      "execution_count": null,
      "outputs": []
    },
    {
      "cell_type": "code",
      "source": [],
      "metadata": {
        "id": "5CrowaxQN5Yr"
      },
      "execution_count": null,
      "outputs": []
    },
    {
      "cell_type": "code",
      "source": [
        "# Entrenamiento\n",
        "print(\"Inicio del Entrenamiento\\n-------------------------\")\n",
        "model.compile(optimizer='adam', loss='binary_crossentropy', metrics=['accuracy'])\n",
        "history = model.fit(X_train, y_train, epochs=200, batch_size=64, validation_split=0.2, verbose=1)\n",
        "print(\"-------------------------\\nFin del Entrenamiento\")"
      ],
      "metadata": {
        "colab": {
          "base_uri": "https://localhost:8080/"
        },
        "id": "OacVOTuQIEUj",
        "outputId": "fee070c3-17b5-4d48-ab14-aaa320c51ab6"
      },
      "execution_count": null,
      "outputs": [
        {
          "output_type": "stream",
          "name": "stdout",
          "text": [
            "Inicio del Entrenamiento\n",
            "Epoch 1/200\n",
            "8/8 [==============================] - 1s 43ms/step - loss: 0.7094 - accuracy: 0.3564 - val_loss: 0.6994 - val_accuracy: 0.3659\n",
            "Epoch 2/200\n",
            "8/8 [==============================] - 0s 8ms/step - loss: 0.7041 - accuracy: 0.3829 - val_loss: 0.6951 - val_accuracy: 0.3740\n",
            "Epoch 3/200\n",
            "8/8 [==============================] - 0s 10ms/step - loss: 0.6993 - accuracy: 0.3910 - val_loss: 0.6915 - val_accuracy: 0.5366\n",
            "Epoch 4/200\n",
            "8/8 [==============================] - 0s 8ms/step - loss: 0.6936 - accuracy: 0.4990 - val_loss: 0.6891 - val_accuracy: 0.6585\n",
            "Epoch 5/200\n",
            "8/8 [==============================] - 0s 11ms/step - loss: 0.6926 - accuracy: 0.6069 - val_loss: 0.6879 - val_accuracy: 0.6748\n",
            "Epoch 6/200\n",
            "8/8 [==============================] - 0s 10ms/step - loss: 0.6893 - accuracy: 0.6253 - val_loss: 0.6867 - val_accuracy: 0.6423\n",
            "Epoch 7/200\n",
            "8/8 [==============================] - 0s 11ms/step - loss: 0.6866 - accuracy: 0.6456 - val_loss: 0.6857 - val_accuracy: 0.6504\n",
            "Epoch 8/200\n",
            "8/8 [==============================] - 0s 9ms/step - loss: 0.6858 - accuracy: 0.6477 - val_loss: 0.6848 - val_accuracy: 0.6423\n",
            "Epoch 9/200\n",
            "8/8 [==============================] - 0s 8ms/step - loss: 0.6839 - accuracy: 0.6538 - val_loss: 0.6840 - val_accuracy: 0.6341\n",
            "Epoch 10/200\n",
            "8/8 [==============================] - 0s 11ms/step - loss: 0.6824 - accuracy: 0.6680 - val_loss: 0.6831 - val_accuracy: 0.6341\n",
            "Epoch 11/200\n",
            "8/8 [==============================] - 0s 9ms/step - loss: 0.6792 - accuracy: 0.6680 - val_loss: 0.6819 - val_accuracy: 0.6341\n",
            "Epoch 12/200\n",
            "8/8 [==============================] - 0s 11ms/step - loss: 0.6774 - accuracy: 0.6721 - val_loss: 0.6796 - val_accuracy: 0.6341\n",
            "Epoch 13/200\n",
            "8/8 [==============================] - 0s 10ms/step - loss: 0.6753 - accuracy: 0.6660 - val_loss: 0.6754 - val_accuracy: 0.6341\n",
            "Epoch 14/200\n",
            "8/8 [==============================] - 0s 9ms/step - loss: 0.6681 - accuracy: 0.6660 - val_loss: 0.6702 - val_accuracy: 0.6341\n",
            "Epoch 15/200\n",
            "8/8 [==============================] - 0s 10ms/step - loss: 0.6617 - accuracy: 0.6619 - val_loss: 0.6662 - val_accuracy: 0.6341\n",
            "Epoch 16/200\n",
            "8/8 [==============================] - 0s 9ms/step - loss: 0.6557 - accuracy: 0.6640 - val_loss: 0.6634 - val_accuracy: 0.6341\n",
            "Epoch 17/200\n",
            "8/8 [==============================] - 0s 9ms/step - loss: 0.6609 - accuracy: 0.6640 - val_loss: 0.6615 - val_accuracy: 0.6341\n",
            "Epoch 18/200\n",
            "8/8 [==============================] - 0s 8ms/step - loss: 0.6564 - accuracy: 0.6619 - val_loss: 0.6599 - val_accuracy: 0.6341\n",
            "Epoch 19/200\n",
            "8/8 [==============================] - 0s 8ms/step - loss: 0.6463 - accuracy: 0.6660 - val_loss: 0.6585 - val_accuracy: 0.6341\n",
            "Epoch 20/200\n",
            "8/8 [==============================] - 0s 11ms/step - loss: 0.6520 - accuracy: 0.6640 - val_loss: 0.6575 - val_accuracy: 0.6341\n",
            "Epoch 21/200\n",
            "8/8 [==============================] - 0s 11ms/step - loss: 0.6414 - accuracy: 0.6619 - val_loss: 0.6561 - val_accuracy: 0.6341\n",
            "Epoch 22/200\n",
            "8/8 [==============================] - 0s 9ms/step - loss: 0.6474 - accuracy: 0.6640 - val_loss: 0.6544 - val_accuracy: 0.6341\n",
            "Epoch 23/200\n",
            "8/8 [==============================] - 0s 10ms/step - loss: 0.6433 - accuracy: 0.6701 - val_loss: 0.6531 - val_accuracy: 0.6341\n",
            "Epoch 24/200\n",
            "8/8 [==============================] - 0s 8ms/step - loss: 0.6441 - accuracy: 0.6660 - val_loss: 0.6514 - val_accuracy: 0.6341\n",
            "Epoch 25/200\n",
            "8/8 [==============================] - 0s 10ms/step - loss: 0.6455 - accuracy: 0.6660 - val_loss: 0.6498 - val_accuracy: 0.6341\n",
            "Epoch 26/200\n",
            "8/8 [==============================] - 0s 10ms/step - loss: 0.6427 - accuracy: 0.6640 - val_loss: 0.6478 - val_accuracy: 0.6341\n",
            "Epoch 27/200\n",
            "8/8 [==============================] - 0s 9ms/step - loss: 0.6391 - accuracy: 0.6660 - val_loss: 0.6458 - val_accuracy: 0.6341\n",
            "Epoch 28/200\n",
            "8/8 [==============================] - 0s 8ms/step - loss: 0.6278 - accuracy: 0.6701 - val_loss: 0.6440 - val_accuracy: 0.6341\n",
            "Epoch 29/200\n",
            "8/8 [==============================] - 0s 8ms/step - loss: 0.6328 - accuracy: 0.6660 - val_loss: 0.6427 - val_accuracy: 0.6341\n",
            "Epoch 30/200\n",
            "8/8 [==============================] - 0s 10ms/step - loss: 0.6298 - accuracy: 0.6741 - val_loss: 0.6403 - val_accuracy: 0.6341\n",
            "Epoch 31/200\n",
            "8/8 [==============================] - 0s 10ms/step - loss: 0.6313 - accuracy: 0.6680 - val_loss: 0.6375 - val_accuracy: 0.6341\n",
            "Epoch 32/200\n",
            "8/8 [==============================] - 0s 8ms/step - loss: 0.6307 - accuracy: 0.6762 - val_loss: 0.6346 - val_accuracy: 0.6341\n",
            "Epoch 33/200\n",
            "8/8 [==============================] - 0s 8ms/step - loss: 0.6263 - accuracy: 0.6762 - val_loss: 0.6317 - val_accuracy: 0.6341\n",
            "Epoch 34/200\n",
            "8/8 [==============================] - 0s 10ms/step - loss: 0.6324 - accuracy: 0.6680 - val_loss: 0.6298 - val_accuracy: 0.6341\n",
            "Epoch 35/200\n",
            "8/8 [==============================] - 0s 10ms/step - loss: 0.6343 - accuracy: 0.6721 - val_loss: 0.6278 - val_accuracy: 0.6341\n",
            "Epoch 36/200\n",
            "8/8 [==============================] - 0s 8ms/step - loss: 0.6203 - accuracy: 0.6843 - val_loss: 0.6250 - val_accuracy: 0.6341\n",
            "Epoch 37/200\n",
            "8/8 [==============================] - 0s 10ms/step - loss: 0.6270 - accuracy: 0.6619 - val_loss: 0.6226 - val_accuracy: 0.6341\n",
            "Epoch 38/200\n",
            "8/8 [==============================] - 0s 8ms/step - loss: 0.6211 - accuracy: 0.6864 - val_loss: 0.6190 - val_accuracy: 0.6423\n",
            "Epoch 39/200\n",
            "8/8 [==============================] - 0s 12ms/step - loss: 0.6209 - accuracy: 0.6823 - val_loss: 0.6182 - val_accuracy: 0.6423\n",
            "Epoch 40/200\n",
            "8/8 [==============================] - 0s 11ms/step - loss: 0.6178 - accuracy: 0.6864 - val_loss: 0.6135 - val_accuracy: 0.6667\n",
            "Epoch 41/200\n",
            "8/8 [==============================] - 0s 10ms/step - loss: 0.6104 - accuracy: 0.6986 - val_loss: 0.6100 - val_accuracy: 0.6667\n",
            "Epoch 42/200\n",
            "8/8 [==============================] - 0s 10ms/step - loss: 0.6133 - accuracy: 0.6823 - val_loss: 0.6078 - val_accuracy: 0.6829\n",
            "Epoch 43/200\n",
            "8/8 [==============================] - 0s 8ms/step - loss: 0.6097 - accuracy: 0.6802 - val_loss: 0.6047 - val_accuracy: 0.6992\n",
            "Epoch 44/200\n",
            "8/8 [==============================] - 0s 8ms/step - loss: 0.6087 - accuracy: 0.6965 - val_loss: 0.6027 - val_accuracy: 0.7073\n",
            "Epoch 45/200\n",
            "8/8 [==============================] - 0s 8ms/step - loss: 0.5986 - accuracy: 0.6986 - val_loss: 0.5988 - val_accuracy: 0.6992\n",
            "Epoch 46/200\n",
            "8/8 [==============================] - 0s 9ms/step - loss: 0.5977 - accuracy: 0.7088 - val_loss: 0.5949 - val_accuracy: 0.7073\n",
            "Epoch 47/200\n",
            "8/8 [==============================] - 0s 11ms/step - loss: 0.5927 - accuracy: 0.7067 - val_loss: 0.5921 - val_accuracy: 0.7073\n",
            "Epoch 48/200\n",
            "8/8 [==============================] - 0s 8ms/step - loss: 0.6049 - accuracy: 0.7088 - val_loss: 0.5880 - val_accuracy: 0.7154\n",
            "Epoch 49/200\n",
            "8/8 [==============================] - 0s 14ms/step - loss: 0.5989 - accuracy: 0.7189 - val_loss: 0.5835 - val_accuracy: 0.7317\n",
            "Epoch 50/200\n",
            "8/8 [==============================] - 0s 12ms/step - loss: 0.5928 - accuracy: 0.6945 - val_loss: 0.5810 - val_accuracy: 0.7236\n",
            "Epoch 51/200\n",
            "8/8 [==============================] - 0s 15ms/step - loss: 0.6048 - accuracy: 0.6802 - val_loss: 0.5786 - val_accuracy: 0.7317\n",
            "Epoch 52/200\n",
            "8/8 [==============================] - 0s 14ms/step - loss: 0.5935 - accuracy: 0.6945 - val_loss: 0.5794 - val_accuracy: 0.7073\n",
            "Epoch 53/200\n",
            "8/8 [==============================] - 0s 12ms/step - loss: 0.5787 - accuracy: 0.7128 - val_loss: 0.5759 - val_accuracy: 0.7236\n",
            "Epoch 54/200\n",
            "8/8 [==============================] - 0s 11ms/step - loss: 0.5784 - accuracy: 0.7169 - val_loss: 0.5695 - val_accuracy: 0.7480\n",
            "Epoch 55/200\n",
            "8/8 [==============================] - 0s 13ms/step - loss: 0.5772 - accuracy: 0.6884 - val_loss: 0.5680 - val_accuracy: 0.7480\n",
            "Epoch 56/200\n",
            "8/8 [==============================] - 0s 16ms/step - loss: 0.5752 - accuracy: 0.7230 - val_loss: 0.5613 - val_accuracy: 0.7480\n",
            "Epoch 57/200\n",
            "8/8 [==============================] - 0s 11ms/step - loss: 0.5658 - accuracy: 0.7413 - val_loss: 0.5556 - val_accuracy: 0.7480\n",
            "Epoch 58/200\n",
            "8/8 [==============================] - 0s 11ms/step - loss: 0.5800 - accuracy: 0.7026 - val_loss: 0.5561 - val_accuracy: 0.7561\n",
            "Epoch 59/200\n",
            "8/8 [==============================] - 0s 13ms/step - loss: 0.5667 - accuracy: 0.7149 - val_loss: 0.5531 - val_accuracy: 0.7561\n",
            "Epoch 60/200\n",
            "8/8 [==============================] - 0s 13ms/step - loss: 0.5640 - accuracy: 0.7189 - val_loss: 0.5511 - val_accuracy: 0.7561\n",
            "Epoch 61/200\n",
            "8/8 [==============================] - 0s 15ms/step - loss: 0.5670 - accuracy: 0.7332 - val_loss: 0.5487 - val_accuracy: 0.7561\n",
            "Epoch 62/200\n",
            "8/8 [==============================] - 0s 13ms/step - loss: 0.5662 - accuracy: 0.7108 - val_loss: 0.5454 - val_accuracy: 0.7561\n",
            "Epoch 63/200\n",
            "8/8 [==============================] - 0s 11ms/step - loss: 0.5625 - accuracy: 0.7189 - val_loss: 0.5403 - val_accuracy: 0.7561\n",
            "Epoch 64/200\n",
            "8/8 [==============================] - 0s 13ms/step - loss: 0.5659 - accuracy: 0.7230 - val_loss: 0.5406 - val_accuracy: 0.7561\n",
            "Epoch 65/200\n",
            "8/8 [==============================] - 0s 14ms/step - loss: 0.5546 - accuracy: 0.7312 - val_loss: 0.5333 - val_accuracy: 0.7561\n",
            "Epoch 66/200\n",
            "8/8 [==============================] - 0s 14ms/step - loss: 0.5492 - accuracy: 0.7393 - val_loss: 0.5303 - val_accuracy: 0.7642\n",
            "Epoch 67/200\n",
            "8/8 [==============================] - 0s 12ms/step - loss: 0.5486 - accuracy: 0.7413 - val_loss: 0.5277 - val_accuracy: 0.7724\n",
            "Epoch 68/200\n",
            "8/8 [==============================] - 0s 13ms/step - loss: 0.5551 - accuracy: 0.7251 - val_loss: 0.5278 - val_accuracy: 0.7561\n",
            "Epoch 69/200\n",
            "8/8 [==============================] - 0s 12ms/step - loss: 0.5527 - accuracy: 0.7271 - val_loss: 0.5232 - val_accuracy: 0.7642\n",
            "Epoch 70/200\n",
            "8/8 [==============================] - 0s 14ms/step - loss: 0.5510 - accuracy: 0.7373 - val_loss: 0.5234 - val_accuracy: 0.7642\n",
            "Epoch 71/200\n",
            "8/8 [==============================] - 0s 15ms/step - loss: 0.5453 - accuracy: 0.7189 - val_loss: 0.5277 - val_accuracy: 0.7642\n",
            "Epoch 72/200\n",
            "8/8 [==============================] - 0s 15ms/step - loss: 0.5430 - accuracy: 0.7169 - val_loss: 0.5186 - val_accuracy: 0.7805\n",
            "Epoch 73/200\n",
            "8/8 [==============================] - 0s 14ms/step - loss: 0.5505 - accuracy: 0.7475 - val_loss: 0.5160 - val_accuracy: 0.7724\n",
            "Epoch 74/200\n",
            "8/8 [==============================] - 0s 13ms/step - loss: 0.5434 - accuracy: 0.7332 - val_loss: 0.5189 - val_accuracy: 0.7642\n",
            "Epoch 75/200\n",
            "8/8 [==============================] - 0s 15ms/step - loss: 0.5522 - accuracy: 0.7210 - val_loss: 0.5199 - val_accuracy: 0.7642\n",
            "Epoch 76/200\n",
            "8/8 [==============================] - 0s 10ms/step - loss: 0.5464 - accuracy: 0.7434 - val_loss: 0.5151 - val_accuracy: 0.7805\n",
            "Epoch 77/200\n",
            "8/8 [==============================] - 0s 10ms/step - loss: 0.5431 - accuracy: 0.7210 - val_loss: 0.5145 - val_accuracy: 0.7642\n",
            "Epoch 78/200\n",
            "8/8 [==============================] - 0s 10ms/step - loss: 0.5477 - accuracy: 0.7271 - val_loss: 0.5122 - val_accuracy: 0.7724\n",
            "Epoch 79/200\n",
            "8/8 [==============================] - 0s 8ms/step - loss: 0.5423 - accuracy: 0.7475 - val_loss: 0.5119 - val_accuracy: 0.7724\n",
            "Epoch 80/200\n",
            "8/8 [==============================] - 0s 8ms/step - loss: 0.5397 - accuracy: 0.7413 - val_loss: 0.5132 - val_accuracy: 0.7642\n",
            "Epoch 81/200\n",
            "8/8 [==============================] - 0s 8ms/step - loss: 0.5428 - accuracy: 0.7332 - val_loss: 0.5100 - val_accuracy: 0.7805\n",
            "Epoch 82/200\n",
            "8/8 [==============================] - 0s 11ms/step - loss: 0.5455 - accuracy: 0.7189 - val_loss: 0.5067 - val_accuracy: 0.7805\n",
            "Epoch 83/200\n",
            "8/8 [==============================] - 0s 10ms/step - loss: 0.5311 - accuracy: 0.7454 - val_loss: 0.5065 - val_accuracy: 0.7805\n",
            "Epoch 84/200\n",
            "8/8 [==============================] - 0s 8ms/step - loss: 0.5298 - accuracy: 0.7393 - val_loss: 0.5067 - val_accuracy: 0.7724\n",
            "Epoch 85/200\n",
            "8/8 [==============================] - 0s 9ms/step - loss: 0.5191 - accuracy: 0.7515 - val_loss: 0.5024 - val_accuracy: 0.7805\n",
            "Epoch 86/200\n",
            "8/8 [==============================] - 0s 10ms/step - loss: 0.5329 - accuracy: 0.7576 - val_loss: 0.5020 - val_accuracy: 0.7805\n",
            "Epoch 87/200\n",
            "8/8 [==============================] - 0s 11ms/step - loss: 0.5304 - accuracy: 0.7617 - val_loss: 0.5027 - val_accuracy: 0.7805\n",
            "Epoch 88/200\n",
            "8/8 [==============================] - 0s 10ms/step - loss: 0.5150 - accuracy: 0.7393 - val_loss: 0.4986 - val_accuracy: 0.7886\n",
            "Epoch 89/200\n",
            "8/8 [==============================] - 0s 10ms/step - loss: 0.5287 - accuracy: 0.7556 - val_loss: 0.5017 - val_accuracy: 0.7724\n",
            "Epoch 90/200\n",
            "8/8 [==============================] - 0s 9ms/step - loss: 0.5327 - accuracy: 0.7352 - val_loss: 0.4958 - val_accuracy: 0.7886\n",
            "Epoch 91/200\n",
            "8/8 [==============================] - 0s 11ms/step - loss: 0.5232 - accuracy: 0.7495 - val_loss: 0.4986 - val_accuracy: 0.7724\n",
            "Epoch 92/200\n",
            "8/8 [==============================] - 0s 10ms/step - loss: 0.5279 - accuracy: 0.7251 - val_loss: 0.4986 - val_accuracy: 0.7805\n",
            "Epoch 93/200\n",
            "8/8 [==============================] - 0s 11ms/step - loss: 0.5219 - accuracy: 0.7332 - val_loss: 0.4957 - val_accuracy: 0.7886\n",
            "Epoch 94/200\n",
            "8/8 [==============================] - 0s 9ms/step - loss: 0.5436 - accuracy: 0.7332 - val_loss: 0.4951 - val_accuracy: 0.7886\n",
            "Epoch 95/200\n",
            "8/8 [==============================] - 0s 10ms/step - loss: 0.5326 - accuracy: 0.7454 - val_loss: 0.4996 - val_accuracy: 0.7805\n",
            "Epoch 96/200\n",
            "8/8 [==============================] - 0s 11ms/step - loss: 0.5422 - accuracy: 0.7210 - val_loss: 0.4966 - val_accuracy: 0.7967\n",
            "Epoch 97/200\n",
            "8/8 [==============================] - 0s 8ms/step - loss: 0.5219 - accuracy: 0.7434 - val_loss: 0.4924 - val_accuracy: 0.7967\n",
            "Epoch 98/200\n",
            "8/8 [==============================] - 0s 10ms/step - loss: 0.5108 - accuracy: 0.7699 - val_loss: 0.4914 - val_accuracy: 0.7967\n",
            "Epoch 99/200\n",
            "8/8 [==============================] - 0s 11ms/step - loss: 0.5111 - accuracy: 0.7434 - val_loss: 0.4890 - val_accuracy: 0.7967\n",
            "Epoch 100/200\n",
            "8/8 [==============================] - 0s 7ms/step - loss: 0.5219 - accuracy: 0.7515 - val_loss: 0.4886 - val_accuracy: 0.7967\n",
            "Epoch 101/200\n",
            "8/8 [==============================] - 0s 8ms/step - loss: 0.5411 - accuracy: 0.7413 - val_loss: 0.4904 - val_accuracy: 0.7967\n",
            "Epoch 102/200\n",
            "8/8 [==============================] - 0s 8ms/step - loss: 0.5329 - accuracy: 0.7047 - val_loss: 0.4967 - val_accuracy: 0.7724\n",
            "Epoch 103/200\n",
            "8/8 [==============================] - 0s 7ms/step - loss: 0.5347 - accuracy: 0.7291 - val_loss: 0.4924 - val_accuracy: 0.8049\n",
            "Epoch 104/200\n",
            "8/8 [==============================] - 0s 8ms/step - loss: 0.5288 - accuracy: 0.7251 - val_loss: 0.4891 - val_accuracy: 0.7967\n",
            "Epoch 105/200\n",
            "8/8 [==============================] - 0s 8ms/step - loss: 0.5148 - accuracy: 0.7495 - val_loss: 0.4903 - val_accuracy: 0.7967\n",
            "Epoch 106/200\n",
            "8/8 [==============================] - 0s 8ms/step - loss: 0.5366 - accuracy: 0.7434 - val_loss: 0.4908 - val_accuracy: 0.8049\n",
            "Epoch 107/200\n",
            "8/8 [==============================] - 0s 10ms/step - loss: 0.5228 - accuracy: 0.7556 - val_loss: 0.4862 - val_accuracy: 0.7967\n",
            "Epoch 108/200\n",
            "8/8 [==============================] - 0s 8ms/step - loss: 0.5277 - accuracy: 0.7434 - val_loss: 0.4881 - val_accuracy: 0.7967\n",
            "Epoch 109/200\n",
            "8/8 [==============================] - 0s 12ms/step - loss: 0.5066 - accuracy: 0.7495 - val_loss: 0.4908 - val_accuracy: 0.8049\n",
            "Epoch 110/200\n",
            "8/8 [==============================] - 0s 10ms/step - loss: 0.5184 - accuracy: 0.7637 - val_loss: 0.4886 - val_accuracy: 0.7967\n",
            "Epoch 111/200\n",
            "8/8 [==============================] - 0s 10ms/step - loss: 0.5318 - accuracy: 0.7352 - val_loss: 0.4880 - val_accuracy: 0.7967\n",
            "Epoch 112/200\n",
            "8/8 [==============================] - 0s 8ms/step - loss: 0.5227 - accuracy: 0.7393 - val_loss: 0.4884 - val_accuracy: 0.7967\n",
            "Epoch 113/200\n",
            "8/8 [==============================] - 0s 9ms/step - loss: 0.4986 - accuracy: 0.7475 - val_loss: 0.4894 - val_accuracy: 0.8049\n",
            "Epoch 114/200\n",
            "8/8 [==============================] - 0s 8ms/step - loss: 0.5228 - accuracy: 0.7373 - val_loss: 0.4883 - val_accuracy: 0.8049\n",
            "Epoch 115/200\n",
            "8/8 [==============================] - 0s 8ms/step - loss: 0.5253 - accuracy: 0.7434 - val_loss: 0.4914 - val_accuracy: 0.7967\n",
            "Epoch 116/200\n",
            "8/8 [==============================] - 0s 8ms/step - loss: 0.5087 - accuracy: 0.7556 - val_loss: 0.4875 - val_accuracy: 0.8049\n",
            "Epoch 117/200\n",
            "8/8 [==============================] - 0s 10ms/step - loss: 0.4854 - accuracy: 0.7780 - val_loss: 0.4845 - val_accuracy: 0.7967\n",
            "Epoch 118/200\n",
            "8/8 [==============================] - 0s 7ms/step - loss: 0.5356 - accuracy: 0.7210 - val_loss: 0.4851 - val_accuracy: 0.7886\n",
            "Epoch 119/200\n",
            "8/8 [==============================] - 0s 9ms/step - loss: 0.5346 - accuracy: 0.7108 - val_loss: 0.4877 - val_accuracy: 0.7886\n",
            "Epoch 120/200\n",
            "8/8 [==============================] - 0s 8ms/step - loss: 0.5113 - accuracy: 0.7495 - val_loss: 0.4809 - val_accuracy: 0.8049\n",
            "Epoch 121/200\n",
            "8/8 [==============================] - 0s 9ms/step - loss: 0.5142 - accuracy: 0.7495 - val_loss: 0.4782 - val_accuracy: 0.8049\n",
            "Epoch 122/200\n",
            "8/8 [==============================] - 0s 10ms/step - loss: 0.5208 - accuracy: 0.7312 - val_loss: 0.4841 - val_accuracy: 0.8049\n",
            "Epoch 123/200\n",
            "8/8 [==============================] - 0s 10ms/step - loss: 0.5239 - accuracy: 0.7393 - val_loss: 0.4847 - val_accuracy: 0.8049\n",
            "Epoch 124/200\n",
            "8/8 [==============================] - 0s 8ms/step - loss: 0.5158 - accuracy: 0.7434 - val_loss: 0.4819 - val_accuracy: 0.8049\n",
            "Epoch 125/200\n",
            "8/8 [==============================] - 0s 11ms/step - loss: 0.4924 - accuracy: 0.7760 - val_loss: 0.4841 - val_accuracy: 0.8049\n",
            "Epoch 126/200\n",
            "8/8 [==============================] - 0s 11ms/step - loss: 0.5127 - accuracy: 0.7495 - val_loss: 0.4825 - val_accuracy: 0.8049\n",
            "Epoch 127/200\n",
            "8/8 [==============================] - 0s 8ms/step - loss: 0.4890 - accuracy: 0.7658 - val_loss: 0.4774 - val_accuracy: 0.8049\n",
            "Epoch 128/200\n",
            "8/8 [==============================] - 0s 8ms/step - loss: 0.5277 - accuracy: 0.7352 - val_loss: 0.4775 - val_accuracy: 0.8130\n",
            "Epoch 129/200\n",
            "8/8 [==============================] - 0s 10ms/step - loss: 0.5072 - accuracy: 0.7719 - val_loss: 0.4826 - val_accuracy: 0.7967\n",
            "Epoch 130/200\n",
            "8/8 [==============================] - 0s 11ms/step - loss: 0.5145 - accuracy: 0.7312 - val_loss: 0.4843 - val_accuracy: 0.7886\n",
            "Epoch 131/200\n",
            "8/8 [==============================] - 0s 11ms/step - loss: 0.5004 - accuracy: 0.7637 - val_loss: 0.4811 - val_accuracy: 0.8049\n",
            "Epoch 132/200\n",
            "8/8 [==============================] - 0s 8ms/step - loss: 0.5144 - accuracy: 0.7413 - val_loss: 0.4811 - val_accuracy: 0.8049\n",
            "Epoch 133/200\n",
            "8/8 [==============================] - 0s 9ms/step - loss: 0.5098 - accuracy: 0.7312 - val_loss: 0.4822 - val_accuracy: 0.8049\n",
            "Epoch 134/200\n",
            "8/8 [==============================] - 0s 8ms/step - loss: 0.5075 - accuracy: 0.7556 - val_loss: 0.4830 - val_accuracy: 0.7967\n",
            "Epoch 135/200\n",
            "8/8 [==============================] - 0s 10ms/step - loss: 0.4899 - accuracy: 0.7821 - val_loss: 0.4831 - val_accuracy: 0.7886\n",
            "Epoch 136/200\n",
            "8/8 [==============================] - 0s 8ms/step - loss: 0.5217 - accuracy: 0.7536 - val_loss: 0.4805 - val_accuracy: 0.8130\n",
            "Epoch 137/200\n",
            "8/8 [==============================] - 0s 9ms/step - loss: 0.5115 - accuracy: 0.7475 - val_loss: 0.4794 - val_accuracy: 0.8130\n",
            "Epoch 138/200\n",
            "8/8 [==============================] - 0s 8ms/step - loss: 0.5085 - accuracy: 0.7495 - val_loss: 0.4853 - val_accuracy: 0.7886\n",
            "Epoch 139/200\n",
            "8/8 [==============================] - 0s 11ms/step - loss: 0.5024 - accuracy: 0.7495 - val_loss: 0.4822 - val_accuracy: 0.7967\n",
            "Epoch 140/200\n",
            "8/8 [==============================] - 0s 10ms/step - loss: 0.4904 - accuracy: 0.7719 - val_loss: 0.4799 - val_accuracy: 0.8049\n",
            "Epoch 141/200\n",
            "8/8 [==============================] - 0s 10ms/step - loss: 0.5034 - accuracy: 0.7536 - val_loss: 0.4802 - val_accuracy: 0.8049\n",
            "Epoch 142/200\n",
            "8/8 [==============================] - 0s 8ms/step - loss: 0.4934 - accuracy: 0.7556 - val_loss: 0.4768 - val_accuracy: 0.8049\n",
            "Epoch 143/200\n",
            "8/8 [==============================] - 0s 8ms/step - loss: 0.4898 - accuracy: 0.7760 - val_loss: 0.4798 - val_accuracy: 0.8130\n",
            "Epoch 144/200\n",
            "8/8 [==============================] - 0s 10ms/step - loss: 0.5000 - accuracy: 0.7576 - val_loss: 0.4789 - val_accuracy: 0.8130\n",
            "Epoch 145/200\n",
            "8/8 [==============================] - 0s 8ms/step - loss: 0.5116 - accuracy: 0.7495 - val_loss: 0.4788 - val_accuracy: 0.8049\n",
            "Epoch 146/200\n",
            "8/8 [==============================] - 0s 9ms/step - loss: 0.5218 - accuracy: 0.7230 - val_loss: 0.4801 - val_accuracy: 0.7886\n",
            "Epoch 147/200\n",
            "8/8 [==============================] - 0s 8ms/step - loss: 0.5016 - accuracy: 0.7495 - val_loss: 0.4781 - val_accuracy: 0.7886\n",
            "Epoch 148/200\n",
            "8/8 [==============================] - 0s 10ms/step - loss: 0.5184 - accuracy: 0.7413 - val_loss: 0.4749 - val_accuracy: 0.8049\n",
            "Epoch 149/200\n",
            "8/8 [==============================] - 0s 8ms/step - loss: 0.5025 - accuracy: 0.7780 - val_loss: 0.4798 - val_accuracy: 0.7886\n",
            "Epoch 150/200\n",
            "8/8 [==============================] - 0s 9ms/step - loss: 0.5201 - accuracy: 0.7678 - val_loss: 0.4798 - val_accuracy: 0.8049\n",
            "Epoch 151/200\n",
            "8/8 [==============================] - 0s 8ms/step - loss: 0.5082 - accuracy: 0.7434 - val_loss: 0.4779 - val_accuracy: 0.8130\n",
            "Epoch 152/200\n",
            "8/8 [==============================] - 0s 12ms/step - loss: 0.4855 - accuracy: 0.7678 - val_loss: 0.4777 - val_accuracy: 0.7967\n",
            "Epoch 153/200\n",
            "8/8 [==============================] - 0s 9ms/step - loss: 0.4932 - accuracy: 0.7515 - val_loss: 0.4758 - val_accuracy: 0.8049\n",
            "Epoch 154/200\n",
            "8/8 [==============================] - 0s 9ms/step - loss: 0.5003 - accuracy: 0.7658 - val_loss: 0.4726 - val_accuracy: 0.8130\n",
            "Epoch 155/200\n",
            "8/8 [==============================] - 0s 9ms/step - loss: 0.4785 - accuracy: 0.7699 - val_loss: 0.4773 - val_accuracy: 0.7967\n",
            "Epoch 156/200\n",
            "8/8 [==============================] - 0s 11ms/step - loss: 0.5005 - accuracy: 0.7475 - val_loss: 0.4732 - val_accuracy: 0.8049\n",
            "Epoch 157/200\n",
            "8/8 [==============================] - 0s 12ms/step - loss: 0.5039 - accuracy: 0.7536 - val_loss: 0.4696 - val_accuracy: 0.8130\n",
            "Epoch 158/200\n",
            "8/8 [==============================] - 0s 10ms/step - loss: 0.4872 - accuracy: 0.7576 - val_loss: 0.4702 - val_accuracy: 0.8130\n",
            "Epoch 159/200\n",
            "8/8 [==============================] - 0s 11ms/step - loss: 0.4915 - accuracy: 0.7617 - val_loss: 0.4741 - val_accuracy: 0.7967\n",
            "Epoch 160/200\n",
            "8/8 [==============================] - 0s 9ms/step - loss: 0.5058 - accuracy: 0.7617 - val_loss: 0.4765 - val_accuracy: 0.7886\n",
            "Epoch 161/200\n",
            "8/8 [==============================] - 0s 12ms/step - loss: 0.5100 - accuracy: 0.7413 - val_loss: 0.4731 - val_accuracy: 0.8049\n",
            "Epoch 162/200\n",
            "8/8 [==============================] - 0s 10ms/step - loss: 0.4909 - accuracy: 0.7637 - val_loss: 0.4734 - val_accuracy: 0.8130\n",
            "Epoch 163/200\n",
            "8/8 [==============================] - 0s 11ms/step - loss: 0.4981 - accuracy: 0.7678 - val_loss: 0.4753 - val_accuracy: 0.7967\n",
            "Epoch 164/200\n",
            "8/8 [==============================] - 0s 10ms/step - loss: 0.5102 - accuracy: 0.7475 - val_loss: 0.4781 - val_accuracy: 0.7886\n",
            "Epoch 165/200\n",
            "8/8 [==============================] - 0s 8ms/step - loss: 0.5125 - accuracy: 0.7230 - val_loss: 0.4751 - val_accuracy: 0.8130\n",
            "Epoch 166/200\n",
            "8/8 [==============================] - 0s 11ms/step - loss: 0.4967 - accuracy: 0.7658 - val_loss: 0.4756 - val_accuracy: 0.8130\n",
            "Epoch 167/200\n",
            "8/8 [==============================] - 0s 11ms/step - loss: 0.4893 - accuracy: 0.7475 - val_loss: 0.4761 - val_accuracy: 0.8130\n",
            "Epoch 168/200\n",
            "8/8 [==============================] - 0s 11ms/step - loss: 0.4877 - accuracy: 0.7760 - val_loss: 0.4726 - val_accuracy: 0.8049\n",
            "Epoch 169/200\n",
            "8/8 [==============================] - 0s 11ms/step - loss: 0.4862 - accuracy: 0.7637 - val_loss: 0.4761 - val_accuracy: 0.7967\n",
            "Epoch 170/200\n",
            "8/8 [==============================] - 0s 11ms/step - loss: 0.5063 - accuracy: 0.7780 - val_loss: 0.4774 - val_accuracy: 0.7886\n",
            "Epoch 171/200\n",
            "8/8 [==============================] - 0s 10ms/step - loss: 0.4932 - accuracy: 0.7637 - val_loss: 0.4711 - val_accuracy: 0.7886\n",
            "Epoch 172/200\n",
            "8/8 [==============================] - 0s 11ms/step - loss: 0.4957 - accuracy: 0.7780 - val_loss: 0.4756 - val_accuracy: 0.7967\n",
            "Epoch 173/200\n",
            "8/8 [==============================] - 0s 12ms/step - loss: 0.4960 - accuracy: 0.7332 - val_loss: 0.4761 - val_accuracy: 0.7967\n",
            "Epoch 174/200\n",
            "8/8 [==============================] - 0s 12ms/step - loss: 0.4939 - accuracy: 0.7617 - val_loss: 0.4730 - val_accuracy: 0.8049\n",
            "Epoch 175/200\n",
            "8/8 [==============================] - 0s 9ms/step - loss: 0.5089 - accuracy: 0.7536 - val_loss: 0.4749 - val_accuracy: 0.8049\n",
            "Epoch 176/200\n",
            "8/8 [==============================] - 0s 9ms/step - loss: 0.4973 - accuracy: 0.7597 - val_loss: 0.4729 - val_accuracy: 0.8049\n",
            "Epoch 177/200\n",
            "8/8 [==============================] - 0s 9ms/step - loss: 0.4881 - accuracy: 0.7515 - val_loss: 0.4713 - val_accuracy: 0.8049\n",
            "Epoch 178/200\n",
            "8/8 [==============================] - 0s 12ms/step - loss: 0.5089 - accuracy: 0.7495 - val_loss: 0.4724 - val_accuracy: 0.7967\n",
            "Epoch 179/200\n",
            "8/8 [==============================] - 0s 9ms/step - loss: 0.4893 - accuracy: 0.7536 - val_loss: 0.4719 - val_accuracy: 0.8049\n",
            "Epoch 180/200\n",
            "8/8 [==============================] - 0s 11ms/step - loss: 0.5017 - accuracy: 0.7617 - val_loss: 0.4728 - val_accuracy: 0.8049\n",
            "Epoch 181/200\n",
            "8/8 [==============================] - 0s 11ms/step - loss: 0.4988 - accuracy: 0.7576 - val_loss: 0.4722 - val_accuracy: 0.8130\n",
            "Epoch 182/200\n",
            "8/8 [==============================] - 0s 9ms/step - loss: 0.4714 - accuracy: 0.7780 - val_loss: 0.4722 - val_accuracy: 0.8049\n",
            "Epoch 183/200\n",
            "8/8 [==============================] - 0s 11ms/step - loss: 0.4911 - accuracy: 0.7719 - val_loss: 0.4672 - val_accuracy: 0.8049\n",
            "Epoch 184/200\n",
            "8/8 [==============================] - 0s 11ms/step - loss: 0.4765 - accuracy: 0.7862 - val_loss: 0.4679 - val_accuracy: 0.8049\n",
            "Epoch 185/200\n",
            "8/8 [==============================] - 0s 12ms/step - loss: 0.4948 - accuracy: 0.7556 - val_loss: 0.4735 - val_accuracy: 0.8130\n",
            "Epoch 186/200\n",
            "8/8 [==============================] - 0s 10ms/step - loss: 0.5018 - accuracy: 0.7536 - val_loss: 0.4703 - val_accuracy: 0.8049\n",
            "Epoch 187/200\n",
            "8/8 [==============================] - 0s 8ms/step - loss: 0.4941 - accuracy: 0.7475 - val_loss: 0.4685 - val_accuracy: 0.7967\n",
            "Epoch 188/200\n",
            "8/8 [==============================] - 0s 11ms/step - loss: 0.4747 - accuracy: 0.7719 - val_loss: 0.4715 - val_accuracy: 0.8130\n",
            "Epoch 189/200\n",
            "8/8 [==============================] - 0s 8ms/step - loss: 0.4852 - accuracy: 0.7515 - val_loss: 0.4755 - val_accuracy: 0.8049\n",
            "Epoch 190/200\n",
            "8/8 [==============================] - 0s 8ms/step - loss: 0.4890 - accuracy: 0.7515 - val_loss: 0.4706 - val_accuracy: 0.8049\n",
            "Epoch 191/200\n",
            "8/8 [==============================] - 0s 8ms/step - loss: 0.4833 - accuracy: 0.7678 - val_loss: 0.4707 - val_accuracy: 0.8049\n",
            "Epoch 192/200\n",
            "8/8 [==============================] - 0s 11ms/step - loss: 0.4785 - accuracy: 0.7739 - val_loss: 0.4692 - val_accuracy: 0.7967\n",
            "Epoch 193/200\n",
            "8/8 [==============================] - 0s 9ms/step - loss: 0.4906 - accuracy: 0.7637 - val_loss: 0.4703 - val_accuracy: 0.8049\n",
            "Epoch 194/200\n",
            "8/8 [==============================] - 0s 8ms/step - loss: 0.4788 - accuracy: 0.7597 - val_loss: 0.4719 - val_accuracy: 0.8130\n",
            "Epoch 195/200\n",
            "8/8 [==============================] - 0s 11ms/step - loss: 0.4792 - accuracy: 0.7760 - val_loss: 0.4713 - val_accuracy: 0.8049\n",
            "Epoch 196/200\n",
            "8/8 [==============================] - 0s 8ms/step - loss: 0.4998 - accuracy: 0.7536 - val_loss: 0.4742 - val_accuracy: 0.7886\n",
            "Epoch 197/200\n",
            "8/8 [==============================] - 0s 9ms/step - loss: 0.4750 - accuracy: 0.7821 - val_loss: 0.4715 - val_accuracy: 0.7967\n",
            "Epoch 198/200\n",
            "8/8 [==============================] - 0s 9ms/step - loss: 0.4870 - accuracy: 0.7637 - val_loss: 0.4702 - val_accuracy: 0.8130\n",
            "Epoch 199/200\n",
            "8/8 [==============================] - 0s 16ms/step - loss: 0.4992 - accuracy: 0.7699 - val_loss: 0.4668 - val_accuracy: 0.7967\n",
            "Epoch 200/200\n",
            "8/8 [==============================] - 0s 13ms/step - loss: 0.4767 - accuracy: 0.7617 - val_loss: 0.4665 - val_accuracy: 0.7805\n",
            "Fin del Entrenamiento\n"
          ]
        }
      ]
    },
    {
      "cell_type": "markdown",
      "source": [
        "### Visualización de Métricas"
      ],
      "metadata": {
        "id": "hLuJVqgvj8Re"
      }
    },
    {
      "cell_type": "code",
      "source": [
        "# Evaluación del modelo en el conjunto de prueba\n",
        "predictions_prob = model.predict(X_test)\n",
        "# Aplicar umbral para obtener etiquetas binarias\n",
        "threshold = 0.5  # Ajusta el umbral según sea necesario\n",
        "predictions = (predictions_prob > threshold).astype(int)"
      ],
      "metadata": {
        "colab": {
          "base_uri": "https://localhost:8080/"
        },
        "id": "nlASnInERPjR",
        "outputId": "def0a99b-820e-4fea-b40b-f5b7d8c21c68"
      },
      "execution_count": null,
      "outputs": [
        {
          "output_type": "stream",
          "name": "stdout",
          "text": [
            "5/5 [==============================] - 0s 3ms/step\n"
          ]
        }
      ]
    },
    {
      "cell_type": "code",
      "source": [
        "# Obtener las métricas de precisión y pérdida del historial\n",
        "acc = history.history['accuracy']\n",
        "val_acc = history.history['val_accuracy']\n",
        "\n",
        "loss = history.history['loss']\n",
        "val_loss = history.history['val_loss']\n",
        "\n",
        "epochs_range = range(len(acc))  # Usar el número de épocas del entrenamiento\n",
        "\n",
        "plt.figure(figsize=(10, 5))\n",
        "\n",
        "# Gráfico de precisión\n",
        "plt.subplot(1, 2, 1)\n",
        "plt.plot(epochs_range, acc, label='Training Accuracy')\n",
        "plt.plot(epochs_range, val_acc, label='Validation Accuracy')\n",
        "plt.xlabel('Epoch')\n",
        "plt.ylabel('Accuracy')\n",
        "plt.title('Training and Validation Accuracy')\n",
        "plt.legend()\n",
        "\n",
        "# Gráfico de pérdida\n",
        "plt.subplot(1, 2, 2)\n",
        "plt.plot(epochs_range, loss, label='Training Loss')\n",
        "plt.plot(epochs_range, val_loss, label='Validation Loss')\n",
        "plt.xlabel('Epoch')\n",
        "plt.ylabel('Loss')\n",
        "plt.title('Training and Validation Loss')\n",
        "plt.legend()\n",
        "\n",
        "plt.tight_layout()\n",
        "plt.show()"
      ],
      "metadata": {
        "colab": {
          "base_uri": "https://localhost:8080/",
          "height": 507
        },
        "id": "iQk6ClOTfM8k",
        "outputId": "71bd3e67-c747-4624-b811-ff066eae9392"
      },
      "execution_count": null,
      "outputs": [
        {
          "output_type": "display_data",
          "data": {
            "text/plain": [
              "<Figure size 1000x500 with 2 Axes>"
            ],
            "image/png": "[encoded data removed]"
          },
          "metadata": {}
        }
      ]
    },
    {
      "cell_type": "code",
      "source": [
        "print(\"--------------------------\")\n",
        "accuracy = accuracy_score(y_test, predictions)\n",
        "precision = precision_score(y_test, predictions)\n",
        "recall = recall_score(y_test, predictions)\n",
        "f1_score = 2 * (precision * recall) / (precision + recall)\n",
        "conf_matrix = confusion_matrix(y_test, predictions)\n",
        "classification_rep = classification_report(y_test, predictions)\n",
        "\n",
        "print(\"Accuracy: {:.2f}%\".format(accuracy * 100))\n",
        "print(\"Precision: {:.2f}%\".format(precision * 100))\n",
        "print(\"Recall: {:.2f}%\".format(recall * 100))\n",
        "print(\"F1-Score: {:.2f}%\".format(f1_score * 100))\n",
        "print(\"\\nConfusion Matrix:\\n\", conf_matrix)\n",
        "print(\"\\nClassification Report:\\n\", classification_rep)"
      ],
      "metadata": {
        "colab": {
          "base_uri": "https://localhost:8080/"
        },
        "id": "KSRNnT0ut1MK",
        "outputId": "19560655-919b-4e5f-bfe4-7df0d74db7b5"
      },
      "execution_count": null,
      "outputs": [
        {
          "output_type": "stream",
          "name": "stdout",
          "text": [
            "--------------------------\n",
            "Accuracy: 79.87%\n",
            "Precision: 80.00%\n",
            "Recall: 62.07%\n",
            "F1-Score: 69.90%\n",
            "\n",
            "Confusion Matrix:\n",
            " [[87  9]\n",
            " [22 36]]\n",
            "\n",
            "Classification Report:\n",
            "               precision    recall  f1-score   support\n",
            "\n",
            "         0.0       0.80      0.91      0.85        96\n",
            "         1.0       0.80      0.62      0.70        58\n",
            "\n",
            "    accuracy                           0.80       154\n",
            "   macro avg       0.80      0.76      0.77       154\n",
            "weighted avg       0.80      0.80      0.79       154\n",
            "\n"
          ]
        }
      ]
    },
    {
      "cell_type": "markdown",
      "source": [
        "## Predicciones"
      ],
      "metadata": {
        "id": "nBrre1YkkBmK"
      }
    },
    {
      "cell_type": "code",
      "source": [],
      "metadata": {
        "id": "aqLmI0U2sLh4"
      },
      "execution_count": null,
      "outputs": []
    },
    {
      "cell_type": "markdown",
      "source": [
        "# RNN / Palabra a palabra"
      ],
      "metadata": {
        "id": "6sNmduRIsELJ"
      }
    },
    {
      "cell_type": "code",
      "source": [],
      "metadata": {
        "id": "4cmooLH5sJZj"
      },
      "execution_count": null,
      "outputs": []
    },
    {
      "cell_type": "markdown",
      "source": [
        "# Observaciones finales"
      ],
      "metadata": {
        "id": "1644EvyRQMft"
      }
    },
    {
      "cell_type": "markdown",
      "source": [
        "Aunque las métricas obtenidas no son del todo malas para el problema de clasificación, los resultados están lejos de ser los deseados para esta situación. Numerosas pruebas y ensayos con distintas configuraciones y arquitecturas motivaron la decisión de reemplazar esta actividad por la denominada \"Problema 2b\" por lo que se interrumpe la experimentación y se continúa el trabajo con el siguiente."
      ],
      "metadata": {
        "id": "i166I8u3QP6e"
      }
    }
  ],
  "metadata": {
    "language_info": {
      "name": "python"
    },
    "colab": {
      "provenance": [],
      "gpuType": "T4"
    },
    "kernelspec": {
      "name": "python3",
      "display_name": "Python 3"
    },
    "accelerator": "GPU",
    "widgets": {
      "application/vnd.jupyter.widget-state+json": {
        "c2ee56ad1ef04993b76e2f6eabb11ca4": {
          "model_module": "@jupyter-widgets/controls",
          "model_name": "HBoxModel",
          "model_module_version": "1.5.0",
          "state": {
            "_dom_classes": [],
            "_model_module": "@jupyter-widgets/controls",
            "_model_module_version": "1.5.0",
            "_model_name": "HBoxModel",
            "_view_count": null,
            "_view_module": "@jupyter-widgets/controls",
            "_view_module_version": "1.5.0",
            "_view_name": "HBoxView",
            "box_style": "",
            "children": [
              "IPY_MODEL_3de8c33efc2d4d2baf176454632f3037",
              "IPY_MODEL_e869eb4c24b44ac1b04f6cc715112028",
              "IPY_MODEL_137e2f1141964c8586276097e87a8636"
            ],
            "layout": "IPY_MODEL_a4387c8979c842029bda6c6fe7e0554e"
          }
        },
        "3de8c33efc2d4d2baf176454632f3037": {
          "model_module": "@jupyter-widgets/controls",
          "model_name": "HTMLModel",
          "model_module_version": "1.5.0",
          "state": {
            "_dom_classes": [],
            "_model_module": "@jupyter-widgets/controls",
            "_model_module_version": "1.5.0",
            "_model_name": "HTMLModel",
            "_view_count": null,
            "_view_module": "@jupyter-widgets/controls",
            "_view_module_version": "1.5.0",
            "_view_name": "HTMLView",
            "description": "",
            "description_tooltip": null,
            "layout": "IPY_MODEL_f4f8d1b0c33742c9b93f8332713c9c67",
            "placeholder": "​",
            "style": "IPY_MODEL_888b52bfbc3447fb942aa61e5c84a374",
            "value": "Dl Completed...: 100%"
          }
        },
        "e869eb4c24b44ac1b04f6cc715112028": {
          "model_module": "@jupyter-widgets/controls",
          "model_name": "FloatProgressModel",
          "model_module_version": "1.5.0",
          "state": {
            "_dom_classes": [],
            "_model_module": "@jupyter-widgets/controls",
            "_model_module_version": "1.5.0",
            "_model_name": "FloatProgressModel",
            "_view_count": null,
            "_view_module": "@jupyter-widgets/controls",
            "_view_module_version": "1.5.0",
            "_view_name": "ProgressView",
            "bar_style": "success",
            "description": "",
            "description_tooltip": null,
            "layout": "IPY_MODEL_8b497faa5107474b959f0aa827864250",
            "max": 1,
            "min": 0,
            "orientation": "horizontal",
            "style": "IPY_MODEL_7da601275af94f33b902bb1c5fee33f5",
            "value": 1
          }
        },
        "137e2f1141964c8586276097e87a8636": {
          "model_module": "@jupyter-widgets/controls",
          "model_name": "HTMLModel",
          "model_module_version": "1.5.0",
          "state": {
            "_dom_classes": [],
            "_model_module": "@jupyter-widgets/controls",
            "_model_module_version": "1.5.0",
            "_model_name": "HTMLModel",
            "_view_count": null,
            "_view_module": "@jupyter-widgets/controls",
            "_view_module_version": "1.5.0",
            "_view_name": "HTMLView",
            "description": "",
            "description_tooltip": null,
            "layout": "IPY_MODEL_ce3df93be00d443da69727d1e942d4f1",
            "placeholder": "​",
            "style": "IPY_MODEL_42264135e6ec41c6b2d9a602392d009b",
            "value": " 1/1 [00:20&lt;00:00, 20.66s/ url]"
          }
        },
        "a4387c8979c842029bda6c6fe7e0554e": {
          "model_module": "@jupyter-widgets/base",
          "model_name": "LayoutModel",
          "model_module_version": "1.2.0",
          "state": {
            "_model_module": "@jupyter-widgets/base",
            "_model_module_version": "1.2.0",
            "_model_name": "LayoutModel",
            "_view_count": null,
            "_view_module": "@jupyter-widgets/base",
            "_view_module_version": "1.2.0",
            "_view_name": "LayoutView",
            "align_content": null,
            "align_items": null,
            "align_self": null,
            "border": null,
            "bottom": null,
            "display": null,
            "flex": null,
            "flex_flow": null,
            "grid_area": null,
            "grid_auto_columns": null,
            "grid_auto_flow": null,
            "grid_auto_rows": null,
            "grid_column": null,
            "grid_gap": null,
            "grid_row": null,
            "grid_template_areas": null,
            "grid_template_columns": null,
            "grid_template_rows": null,
            "height": null,
            "justify_content": null,
            "justify_items": null,
            "left": null,
            "margin": null,
            "max_height": null,
            "max_width": null,
            "min_height": null,
            "min_width": null,
            "object_fit": null,
            "object_position": null,
            "order": null,
            "overflow": null,
            "overflow_x": null,
            "overflow_y": null,
            "padding": null,
            "right": null,
            "top": null,
            "visibility": null,
            "width": null
          }
        },
        "f4f8d1b0c33742c9b93f8332713c9c67": {
          "model_module": "@jupyter-widgets/base",
          "model_name": "LayoutModel",
          "model_module_version": "1.2.0",
          "state": {
            "_model_module": "@jupyter-widgets/base",
            "_model_module_version": "1.2.0",
            "_model_name": "LayoutModel",
            "_view_count": null,
            "_view_module": "@jupyter-widgets/base",
            "_view_module_version": "1.2.0",
            "_view_name": "LayoutView",
            "align_content": null,
            "align_items": null,
            "align_self": null,
            "border": null,
            "bottom": null,
            "display": null,
            "flex": null,
            "flex_flow": null,
            "grid_area": null,
            "grid_auto_columns": null,
            "grid_auto_flow": null,
            "grid_auto_rows": null,
            "grid_column": null,
            "grid_gap": null,
            "grid_row": null,
            "grid_template_areas": null,
            "grid_template_columns": null,
            "grid_template_rows": null,
            "height": null,
            "justify_content": null,
            "justify_items": null,
            "left": null,
            "margin": null,
            "max_height": null,
            "max_width": null,
            "min_height": null,
            "min_width": null,
            "object_fit": null,
            "object_position": null,
            "order": null,
            "overflow": null,
            "overflow_x": null,
            "overflow_y": null,
            "padding": null,
            "right": null,
            "top": null,
            "visibility": null,
            "width": null
          }
        },
        "888b52bfbc3447fb942aa61e5c84a374": {
          "model_module": "@jupyter-widgets/controls",
          "model_name": "DescriptionStyleModel",
          "model_module_version": "1.5.0",
          "state": {
            "_model_module": "@jupyter-widgets/controls",
            "_model_module_version": "1.5.0",
            "_model_name": "DescriptionStyleModel",
            "_view_count": null,
            "_view_module": "@jupyter-widgets/base",
            "_view_module_version": "1.2.0",
            "_view_name": "StyleView",
            "description_width": ""
          }
        },
        "8b497faa5107474b959f0aa827864250": {
          "model_module": "@jupyter-widgets/base",
          "model_name": "LayoutModel",
          "model_module_version": "1.2.0",
          "state": {
            "_model_module": "@jupyter-widgets/base",
            "_model_module_version": "1.2.0",
            "_model_name": "LayoutModel",
            "_view_count": null,
            "_view_module": "@jupyter-widgets/base",
            "_view_module_version": "1.2.0",
            "_view_name": "LayoutView",
            "align_content": null,
            "align_items": null,
            "align_self": null,
            "border": null,
            "bottom": null,
            "display": null,
            "flex": null,
            "flex_flow": null,
            "grid_area": null,
            "grid_auto_columns": null,
            "grid_auto_flow": null,
            "grid_auto_rows": null,
            "grid_column": null,
            "grid_gap": null,
            "grid_row": null,
            "grid_template_areas": null,
            "grid_template_columns": null,
            "grid_template_rows": null,
            "height": null,
            "justify_content": null,
            "justify_items": null,
            "left": null,
            "margin": null,
            "max_height": null,
            "max_width": null,
            "min_height": null,
            "min_width": null,
            "object_fit": null,
            "object_position": null,
            "order": null,
            "overflow": null,
            "overflow_x": null,
            "overflow_y": null,
            "padding": null,
            "right": null,
            "top": null,
            "visibility": null,
            "width": "20px"
          }
        },
        "7da601275af94f33b902bb1c5fee33f5": {
          "model_module": "@jupyter-widgets/controls",
          "model_name": "ProgressStyleModel",
          "model_module_version": "1.5.0",
          "state": {
            "_model_module": "@jupyter-widgets/controls",
            "_model_module_version": "1.5.0",
            "_model_name": "ProgressStyleModel",
            "_view_count": null,
            "_view_module": "@jupyter-widgets/base",
            "_view_module_version": "1.2.0",
            "_view_name": "StyleView",
            "bar_color": null,
            "description_width": ""
          }
        },
        "ce3df93be00d443da69727d1e942d4f1": {
          "model_module": "@jupyter-widgets/base",
          "model_name": "LayoutModel",
          "model_module_version": "1.2.0",
          "state": {
            "_model_module": "@jupyter-widgets/base",
            "_model_module_version": "1.2.0",
            "_model_name": "LayoutModel",
            "_view_count": null,
            "_view_module": "@jupyter-widgets/base",
            "_view_module_version": "1.2.0",
            "_view_name": "LayoutView",
            "align_content": null,
            "align_items": null,
            "align_self": null,
            "border": null,
            "bottom": null,
            "display": null,
            "flex": null,
            "flex_flow": null,
            "grid_area": null,
            "grid_auto_columns": null,
            "grid_auto_flow": null,
            "grid_auto_rows": null,
            "grid_column": null,
            "grid_gap": null,
            "grid_row": null,
            "grid_template_areas": null,
            "grid_template_columns": null,
            "grid_template_rows": null,
            "height": null,
            "justify_content": null,
            "justify_items": null,
            "left": null,
            "margin": null,
            "max_height": null,
            "max_width": null,
            "min_height": null,
            "min_width": null,
            "object_fit": null,
            "object_position": null,
            "order": null,
            "overflow": null,
            "overflow_x": null,
            "overflow_y": null,
            "padding": null,
            "right": null,
            "top": null,
            "visibility": null,
            "width": null
          }
        },
        "42264135e6ec41c6b2d9a602392d009b": {
          "model_module": "@jupyter-widgets/controls",
          "model_name": "DescriptionStyleModel",
          "model_module_version": "1.5.0",
          "state": {
            "_model_module": "@jupyter-widgets/controls",
            "_model_module_version": "1.5.0",
            "_model_name": "DescriptionStyleModel",
            "_view_count": null,
            "_view_module": "@jupyter-widgets/base",
            "_view_module_version": "1.2.0",
            "_view_name": "StyleView",
            "description_width": ""
          }
        },
        "da8d31c0a10745b0aaebfcebc11cc0dd": {
          "model_module": "@jupyter-widgets/controls",
          "model_name": "HBoxModel",
          "model_module_version": "1.5.0",
          "state": {
            "_dom_classes": [],
            "_model_module": "@jupyter-widgets/controls",
            "_model_module_version": "1.5.0",
            "_model_name": "HBoxModel",
            "_view_count": null,
            "_view_module": "@jupyter-widgets/controls",
            "_view_module_version": "1.5.0",
            "_view_name": "HBoxView",
            "box_style": "",
            "children": [
              "IPY_MODEL_3b857d98ba9c43ecbb907e20f374d1f5",
              "IPY_MODEL_41aac481139e4701af558479407b47ef",
              "IPY_MODEL_5c7bd09b60e84f3eb30043deac47d3b6"
            ],
            "layout": "IPY_MODEL_1d561d54bf4d4eee94eab0e6b1fd3a1f"
          }
        },
        "3b857d98ba9c43ecbb907e20f374d1f5": {
          "model_module": "@jupyter-widgets/controls",
          "model_name": "HTMLModel",
          "model_module_version": "1.5.0",
          "state": {
            "_dom_classes": [],
            "_model_module": "@jupyter-widgets/controls",
            "_model_module_version": "1.5.0",
            "_model_name": "HTMLModel",
            "_view_count": null,
            "_view_module": "@jupyter-widgets/controls",
            "_view_module_version": "1.5.0",
            "_view_name": "HTMLView",
            "description": "",
            "description_tooltip": null,
            "layout": "IPY_MODEL_e31bf23b3d0a4c5e91e95c78da367d28",
            "placeholder": "​",
            "style": "IPY_MODEL_fc677bc34f5145cea67eaeb961e9dbbd",
            "value": "Dl Size...: 100%"
          }
        },
        "41aac481139e4701af558479407b47ef": {
          "model_module": "@jupyter-widgets/controls",
          "model_name": "FloatProgressModel",
          "model_module_version": "1.5.0",
          "state": {
            "_dom_classes": [],
            "_model_module": "@jupyter-widgets/controls",
            "_model_module_version": "1.5.0",
            "_model_name": "FloatProgressModel",
            "_view_count": null,
            "_view_module": "@jupyter-widgets/controls",
            "_view_module_version": "1.5.0",
            "_view_name": "ProgressView",
            "bar_style": "success",
            "description": "",
            "description_tooltip": null,
            "layout": "IPY_MODEL_a3fb617531264ac5bdd2d03a19a50d3b",
            "max": 1,
            "min": 0,
            "orientation": "horizontal",
            "style": "IPY_MODEL_5c765abe375b4ab69854eb2ae85210e6",
            "value": 1
          }
        },
        "5c7bd09b60e84f3eb30043deac47d3b6": {
          "model_module": "@jupyter-widgets/controls",
          "model_name": "HTMLModel",
          "model_module_version": "1.5.0",
          "state": {
            "_dom_classes": [],
            "_model_module": "@jupyter-widgets/controls",
            "_model_module_version": "1.5.0",
            "_model_name": "HTMLModel",
            "_view_count": null,
            "_view_module": "@jupyter-widgets/controls",
            "_view_module_version": "1.5.0",
            "_view_name": "HTMLView",
            "description": "",
            "description_tooltip": null,
            "layout": "IPY_MODEL_2f74ea2094464e74aea9101c4ccb28ae",
            "placeholder": "​",
            "style": "IPY_MODEL_7687f2aa85594e3aa37320a263e112e9",
            "value": " 11/11 [00:20&lt;00:00, 20.13s/ MiB]"
          }
        },
        "1d561d54bf4d4eee94eab0e6b1fd3a1f": {
          "model_module": "@jupyter-widgets/base",
          "model_name": "LayoutModel",
          "model_module_version": "1.2.0",
          "state": {
            "_model_module": "@jupyter-widgets/base",
            "_model_module_version": "1.2.0",
            "_model_name": "LayoutModel",
            "_view_count": null,
            "_view_module": "@jupyter-widgets/base",
            "_view_module_version": "1.2.0",
            "_view_name": "LayoutView",
            "align_content": null,
            "align_items": null,
            "align_self": null,
            "border": null,
            "bottom": null,
            "display": null,
            "flex": null,
            "flex_flow": null,
            "grid_area": null,
            "grid_auto_columns": null,
            "grid_auto_flow": null,
            "grid_auto_rows": null,
            "grid_column": null,
            "grid_gap": null,
            "grid_row": null,
            "grid_template_areas": null,
            "grid_template_columns": null,
            "grid_template_rows": null,
            "height": null,
            "justify_content": null,
            "justify_items": null,
            "left": null,
            "margin": null,
            "max_height": null,
            "max_width": null,
            "min_height": null,
            "min_width": null,
            "object_fit": null,
            "object_position": null,
            "order": null,
            "overflow": null,
            "overflow_x": null,
            "overflow_y": null,
            "padding": null,
            "right": null,
            "top": null,
            "visibility": null,
            "width": null
          }
        },
        "e31bf23b3d0a4c5e91e95c78da367d28": {
          "model_module": "@jupyter-widgets/base",
          "model_name": "LayoutModel",
          "model_module_version": "1.2.0",
          "state": {
            "_model_module": "@jupyter-widgets/base",
            "_model_module_version": "1.2.0",
            "_model_name": "LayoutModel",
            "_view_count": null,
            "_view_module": "@jupyter-widgets/base",
            "_view_module_version": "1.2.0",
            "_view_name": "LayoutView",
            "align_content": null,
            "align_items": null,
            "align_self": null,
            "border": null,
            "bottom": null,
            "display": null,
            "flex": null,
            "flex_flow": null,
            "grid_area": null,
            "grid_auto_columns": null,
            "grid_auto_flow": null,
            "grid_auto_rows": null,
            "grid_column": null,
            "grid_gap": null,
            "grid_row": null,
            "grid_template_areas": null,
            "grid_template_columns": null,
            "grid_template_rows": null,
            "height": null,
            "justify_content": null,
            "justify_items": null,
            "left": null,
            "margin": null,
            "max_height": null,
            "max_width": null,
            "min_height": null,
            "min_width": null,
            "object_fit": null,
            "object_position": null,
            "order": null,
            "overflow": null,
            "overflow_x": null,
            "overflow_y": null,
            "padding": null,
            "right": null,
            "top": null,
            "visibility": null,
            "width": null
          }
        },
        "fc677bc34f5145cea67eaeb961e9dbbd": {
          "model_module": "@jupyter-widgets/controls",
          "model_name": "DescriptionStyleModel",
          "model_module_version": "1.5.0",
          "state": {
            "_model_module": "@jupyter-widgets/controls",
            "_model_module_version": "1.5.0",
            "_model_name": "DescriptionStyleModel",
            "_view_count": null,
            "_view_module": "@jupyter-widgets/base",
            "_view_module_version": "1.2.0",
            "_view_name": "StyleView",
            "description_width": ""
          }
        },
        "a3fb617531264ac5bdd2d03a19a50d3b": {
          "model_module": "@jupyter-widgets/base",
          "model_name": "LayoutModel",
          "model_module_version": "1.2.0",
          "state": {
            "_model_module": "@jupyter-widgets/base",
            "_model_module_version": "1.2.0",
            "_model_name": "LayoutModel",
            "_view_count": null,
            "_view_module": "@jupyter-widgets/base",
            "_view_module_version": "1.2.0",
            "_view_name": "LayoutView",
            "align_content": null,
            "align_items": null,
            "align_self": null,
            "border": null,
            "bottom": null,
            "display": null,
            "flex": null,
            "flex_flow": null,
            "grid_area": null,
            "grid_auto_columns": null,
            "grid_auto_flow": null,
            "grid_auto_rows": null,
            "grid_column": null,
            "grid_gap": null,
            "grid_row": null,
            "grid_template_areas": null,
            "grid_template_columns": null,
            "grid_template_rows": null,
            "height": null,
            "justify_content": null,
            "justify_items": null,
            "left": null,
            "margin": null,
            "max_height": null,
            "max_width": null,
            "min_height": null,
            "min_width": null,
            "object_fit": null,
            "object_position": null,
            "order": null,
            "overflow": null,
            "overflow_x": null,
            "overflow_y": null,
            "padding": null,
            "right": null,
            "top": null,
            "visibility": null,
            "width": "20px"
          }
        },
        "5c765abe375b4ab69854eb2ae85210e6": {
          "model_module": "@jupyter-widgets/controls",
          "model_name": "ProgressStyleModel",
          "model_module_version": "1.5.0",
          "state": {
            "_model_module": "@jupyter-widgets/controls",
            "_model_module_version": "1.5.0",
            "_model_name": "ProgressStyleModel",
            "_view_count": null,
            "_view_module": "@jupyter-widgets/base",
            "_view_module_version": "1.2.0",
            "_view_name": "StyleView",
            "bar_color": null,
            "description_width": ""
          }
        },
        "2f74ea2094464e74aea9101c4ccb28ae": {
          "model_module": "@jupyter-widgets/base",
          "model_name": "LayoutModel",
          "model_module_version": "1.2.0",
          "state": {
            "_model_module": "@jupyter-widgets/base",
            "_model_module_version": "1.2.0",
            "_model_name": "LayoutModel",
            "_view_count": null,
            "_view_module": "@jupyter-widgets/base",
            "_view_module_version": "1.2.0",
            "_view_name": "LayoutView",
            "align_content": null,
            "align_items": null,
            "align_self": null,
            "border": null,
            "bottom": null,
            "display": null,
            "flex": null,
            "flex_flow": null,
            "grid_area": null,
            "grid_auto_columns": null,
            "grid_auto_flow": null,
            "grid_auto_rows": null,
            "grid_column": null,
            "grid_gap": null,
            "grid_row": null,
            "grid_template_areas": null,
            "grid_template_columns": null,
            "grid_template_rows": null,
            "height": null,
            "justify_content": null,
            "justify_items": null,
            "left": null,
            "margin": null,
            "max_height": null,
            "max_width": null,
            "min_height": null,
            "min_width": null,
            "object_fit": null,
            "object_position": null,
            "order": null,
            "overflow": null,
            "overflow_x": null,
            "overflow_y": null,
            "padding": null,
            "right": null,
            "top": null,
            "visibility": null,
            "width": null
          }
        },
        "7687f2aa85594e3aa37320a263e112e9": {
          "model_module": "@jupyter-widgets/controls",
          "model_name": "DescriptionStyleModel",
          "model_module_version": "1.5.0",
          "state": {
            "_model_module": "@jupyter-widgets/controls",
            "_model_module_version": "1.5.0",
            "_model_name": "DescriptionStyleModel",
            "_view_count": null,
            "_view_module": "@jupyter-widgets/base",
            "_view_module_version": "1.2.0",
            "_view_name": "StyleView",
            "description_width": ""
          }
        },
        "f3da0542d7b344779f543cfdd47013fb": {
          "model_module": "@jupyter-widgets/controls",
          "model_name": "HBoxModel",
          "model_module_version": "1.5.0",
          "state": {
            "_dom_classes": [],
            "_model_module": "@jupyter-widgets/controls",
            "_model_module_version": "1.5.0",
            "_model_name": "HBoxModel",
            "_view_count": null,
            "_view_module": "@jupyter-widgets/controls",
            "_view_module_version": "1.5.0",
            "_view_name": "HBoxView",
            "box_style": "",
            "children": [
              "IPY_MODEL_cf84052ce03c4fa6bc729e0ecbd38da3",
              "IPY_MODEL_fa879488e8804f738720aeb79f2bfb7a",
              "IPY_MODEL_8aa721df1bb246d48e1c16975a4d89cd"
            ],
            "layout": "IPY_MODEL_88075243613a49fdb552338bdb57fb21"
          }
        },
        "cf84052ce03c4fa6bc729e0ecbd38da3": {
          "model_module": "@jupyter-widgets/controls",
          "model_name": "HTMLModel",
          "model_module_version": "1.5.0",
          "state": {
            "_dom_classes": [],
            "_model_module": "@jupyter-widgets/controls",
            "_model_module_version": "1.5.0",
            "_model_name": "HTMLModel",
            "_view_count": null,
            "_view_module": "@jupyter-widgets/controls",
            "_view_module_version": "1.5.0",
            "_view_name": "HTMLView",
            "description": "",
            "description_tooltip": null,
            "layout": "IPY_MODEL_9a088d28dfae487b85f008dacd9b5d26",
            "placeholder": "​",
            "style": "IPY_MODEL_62892c081be34dd384971a46d40f9294",
            "value": "Extraction completed...: 100%"
          }
        },
        "fa879488e8804f738720aeb79f2bfb7a": {
          "model_module": "@jupyter-widgets/controls",
          "model_name": "FloatProgressModel",
          "model_module_version": "1.5.0",
          "state": {
            "_dom_classes": [],
            "_model_module": "@jupyter-widgets/controls",
            "_model_module_version": "1.5.0",
            "_model_name": "FloatProgressModel",
            "_view_count": null,
            "_view_module": "@jupyter-widgets/controls",
            "_view_module_version": "1.5.0",
            "_view_name": "ProgressView",
            "bar_style": "success",
            "description": "",
            "description_tooltip": null,
            "layout": "IPY_MODEL_2208b21c0efd4c379ad4625bc2ffe793",
            "max": 1,
            "min": 0,
            "orientation": "horizontal",
            "style": "IPY_MODEL_59b34646baea40648d35fff3720c0bd4",
            "value": 1
          }
        },
        "8aa721df1bb246d48e1c16975a4d89cd": {
          "model_module": "@jupyter-widgets/controls",
          "model_name": "HTMLModel",
          "model_module_version": "1.5.0",
          "state": {
            "_dom_classes": [],
            "_model_module": "@jupyter-widgets/controls",
            "_model_module_version": "1.5.0",
            "_model_name": "HTMLModel",
            "_view_count": null,
            "_view_module": "@jupyter-widgets/controls",
            "_view_module_version": "1.5.0",
            "_view_name": "HTMLView",
            "description": "",
            "description_tooltip": null,
            "layout": "IPY_MODEL_b6c191b342634c8ba5bb6b6b0739afc4",
            "placeholder": "​",
            "style": "IPY_MODEL_ba2be600c3b74ec2b9fdb4fa2cd32b0a",
            "value": " 4/4 [00:20&lt;00:00, 20.85s/ file]"
          }
        },
        "88075243613a49fdb552338bdb57fb21": {
          "model_module": "@jupyter-widgets/base",
          "model_name": "LayoutModel",
          "model_module_version": "1.2.0",
          "state": {
            "_model_module": "@jupyter-widgets/base",
            "_model_module_version": "1.2.0",
            "_model_name": "LayoutModel",
            "_view_count": null,
            "_view_module": "@jupyter-widgets/base",
            "_view_module_version": "1.2.0",
            "_view_name": "LayoutView",
            "align_content": null,
            "align_items": null,
            "align_self": null,
            "border": null,
            "bottom": null,
            "display": null,
            "flex": null,
            "flex_flow": null,
            "grid_area": null,
            "grid_auto_columns": null,
            "grid_auto_flow": null,
            "grid_auto_rows": null,
            "grid_column": null,
            "grid_gap": null,
            "grid_row": null,
            "grid_template_areas": null,
            "grid_template_columns": null,
            "grid_template_rows": null,
            "height": null,
            "justify_content": null,
            "justify_items": null,
            "left": null,
            "margin": null,
            "max_height": null,
            "max_width": null,
            "min_height": null,
            "min_width": null,
            "object_fit": null,
            "object_position": null,
            "order": null,
            "overflow": null,
            "overflow_x": null,
            "overflow_y": null,
            "padding": null,
            "right": null,
            "top": null,
            "visibility": null,
            "width": null
          }
        },
        "9a088d28dfae487b85f008dacd9b5d26": {
          "model_module": "@jupyter-widgets/base",
          "model_name": "LayoutModel",
          "model_module_version": "1.2.0",
          "state": {
            "_model_module": "@jupyter-widgets/base",
            "_model_module_version": "1.2.0",
            "_model_name": "LayoutModel",
            "_view_count": null,
            "_view_module": "@jupyter-widgets/base",
            "_view_module_version": "1.2.0",
            "_view_name": "LayoutView",
            "align_content": null,
            "align_items": null,
            "align_self": null,
            "border": null,
            "bottom": null,
            "display": null,
            "flex": null,
            "flex_flow": null,
            "grid_area": null,
            "grid_auto_columns": null,
            "grid_auto_flow": null,
            "grid_auto_rows": null,
            "grid_column": null,
            "grid_gap": null,
            "grid_row": null,
            "grid_template_areas": null,
            "grid_template_columns": null,
            "grid_template_rows": null,
            "height": null,
            "justify_content": null,
            "justify_items": null,
            "left": null,
            "margin": null,
            "max_height": null,
            "max_width": null,
            "min_height": null,
            "min_width": null,
            "object_fit": null,
            "object_position": null,
            "order": null,
            "overflow": null,
            "overflow_x": null,
            "overflow_y": null,
            "padding": null,
            "right": null,
            "top": null,
            "visibility": null,
            "width": null
          }
        },
        "62892c081be34dd384971a46d40f9294": {
          "model_module": "@jupyter-widgets/controls",
          "model_name": "DescriptionStyleModel",
          "model_module_version": "1.5.0",
          "state": {
            "_model_module": "@jupyter-widgets/controls",
            "_model_module_version": "1.5.0",
            "_model_name": "DescriptionStyleModel",
            "_view_count": null,
            "_view_module": "@jupyter-widgets/base",
            "_view_module_version": "1.2.0",
            "_view_name": "StyleView",
            "description_width": ""
          }
        },
        "2208b21c0efd4c379ad4625bc2ffe793": {
          "model_module": "@jupyter-widgets/base",
          "model_name": "LayoutModel",
          "model_module_version": "1.2.0",
          "state": {
            "_model_module": "@jupyter-widgets/base",
            "_model_module_version": "1.2.0",
            "_model_name": "LayoutModel",
            "_view_count": null,
            "_view_module": "@jupyter-widgets/base",
            "_view_module_version": "1.2.0",
            "_view_name": "LayoutView",
            "align_content": null,
            "align_items": null,
            "align_self": null,
            "border": null,
            "bottom": null,
            "display": null,
            "flex": null,
            "flex_flow": null,
            "grid_area": null,
            "grid_auto_columns": null,
            "grid_auto_flow": null,
            "grid_auto_rows": null,
            "grid_column": null,
            "grid_gap": null,
            "grid_row": null,
            "grid_template_areas": null,
            "grid_template_columns": null,
            "grid_template_rows": null,
            "height": null,
            "justify_content": null,
            "justify_items": null,
            "left": null,
            "margin": null,
            "max_height": null,
            "max_width": null,
            "min_height": null,
            "min_width": null,
            "object_fit": null,
            "object_position": null,
            "order": null,
            "overflow": null,
            "overflow_x": null,
            "overflow_y": null,
            "padding": null,
            "right": null,
            "top": null,
            "visibility": null,
            "width": "20px"
          }
        },
        "59b34646baea40648d35fff3720c0bd4": {
          "model_module": "@jupyter-widgets/controls",
          "model_name": "ProgressStyleModel",
          "model_module_version": "1.5.0",
          "state": {
            "_model_module": "@jupyter-widgets/controls",
            "_model_module_version": "1.5.0",
            "_model_name": "ProgressStyleModel",
            "_view_count": null,
            "_view_module": "@jupyter-widgets/base",
            "_view_module_version": "1.2.0",
            "_view_name": "StyleView",
            "bar_color": null,
            "description_width": ""
          }
        },
        "b6c191b342634c8ba5bb6b6b0739afc4": {
          "model_module": "@jupyter-widgets/base",
          "model_name": "LayoutModel",
          "model_module_version": "1.2.0",
          "state": {
            "_model_module": "@jupyter-widgets/base",
            "_model_module_version": "1.2.0",
            "_model_name": "LayoutModel",
            "_view_count": null,
            "_view_module": "@jupyter-widgets/base",
            "_view_module_version": "1.2.0",
            "_view_name": "LayoutView",
            "align_content": null,
            "align_items": null,
            "align_self": null,
            "border": null,
            "bottom": null,
            "display": null,
            "flex": null,
            "flex_flow": null,
            "grid_area": null,
            "grid_auto_columns": null,
            "grid_auto_flow": null,
            "grid_auto_rows": null,
            "grid_column": null,
            "grid_gap": null,
            "grid_row": null,
            "grid_template_areas": null,
            "grid_template_columns": null,
            "grid_template_rows": null,
            "height": null,
            "justify_content": null,
            "justify_items": null,
            "left": null,
            "margin": null,
            "max_height": null,
            "max_width": null,
            "min_height": null,
            "min_width": null,
            "object_fit": null,
            "object_position": null,
            "order": null,
            "overflow": null,
            "overflow_x": null,
            "overflow_y": null,
            "padding": null,
            "right": null,
            "top": null,
            "visibility": null,
            "width": null
          }
        },
        "ba2be600c3b74ec2b9fdb4fa2cd32b0a": {
          "model_module": "@jupyter-widgets/controls",
          "model_name": "DescriptionStyleModel",
          "model_module_version": "1.5.0",
          "state": {
            "_model_module": "@jupyter-widgets/controls",
            "_model_module_version": "1.5.0",
            "_model_name": "DescriptionStyleModel",
            "_view_count": null,
            "_view_module": "@jupyter-widgets/base",
            "_view_module_version": "1.2.0",
            "_view_name": "StyleView",
            "description_width": ""
          }
        },
        "5b6f3caa4ca2432b973def370486939a": {
          "model_module": "@jupyter-widgets/controls",
          "model_name": "HBoxModel",
          "model_module_version": "1.5.0",
          "state": {
            "_dom_classes": [],
            "_model_module": "@jupyter-widgets/controls",
            "_model_module_version": "1.5.0",
            "_model_name": "HBoxModel",
            "_view_count": null,
            "_view_module": "@jupyter-widgets/controls",
            "_view_module_version": "1.5.0",
            "_view_name": "HBoxView",
            "box_style": "",
            "children": [
              "IPY_MODEL_bdaabeab22db4b029121c22536e40cf5",
              "IPY_MODEL_ff5904f5336d435ebec46249d3c286bc",
              "IPY_MODEL_82313c57ed0b40c691079a41035a17e7"
            ],
            "layout": "IPY_MODEL_ff577f559f00432fa82674028c3c317d"
          }
        },
        "bdaabeab22db4b029121c22536e40cf5": {
          "model_module": "@jupyter-widgets/controls",
          "model_name": "HTMLModel",
          "model_module_version": "1.5.0",
          "state": {
            "_dom_classes": [],
            "_model_module": "@jupyter-widgets/controls",
            "_model_module_version": "1.5.0",
            "_model_name": "HTMLModel",
            "_view_count": null,
            "_view_module": "@jupyter-widgets/controls",
            "_view_module_version": "1.5.0",
            "_view_name": "HTMLView",
            "description": "",
            "description_tooltip": null,
            "layout": "IPY_MODEL_d05b4c0b0467401488af206a7dac5467",
            "placeholder": "​",
            "style": "IPY_MODEL_e1561bb7d66545d68eed807c587e3eeb",
            "value": "Generating splits...: 100%"
          }
        },
        "ff5904f5336d435ebec46249d3c286bc": {
          "model_module": "@jupyter-widgets/controls",
          "model_name": "FloatProgressModel",
          "model_module_version": "1.5.0",
          "state": {
            "_dom_classes": [],
            "_model_module": "@jupyter-widgets/controls",
            "_model_module_version": "1.5.0",
            "_model_name": "FloatProgressModel",
            "_view_count": null,
            "_view_module": "@jupyter-widgets/controls",
            "_view_module_version": "1.5.0",
            "_view_name": "ProgressView",
            "bar_style": "",
            "description": "",
            "description_tooltip": null,
            "layout": "IPY_MODEL_e5469f7f7e3e4bafba9a314ec5eeb113",
            "max": 2,
            "min": 0,
            "orientation": "horizontal",
            "style": "IPY_MODEL_5fa83affe5a143b9bc981340c1379c8f",
            "value": 2
          }
        },
        "82313c57ed0b40c691079a41035a17e7": {
          "model_module": "@jupyter-widgets/controls",
          "model_name": "HTMLModel",
          "model_module_version": "1.5.0",
          "state": {
            "_dom_classes": [],
            "_model_module": "@jupyter-widgets/controls",
            "_model_module_version": "1.5.0",
            "_model_name": "HTMLModel",
            "_view_count": null,
            "_view_module": "@jupyter-widgets/controls",
            "_view_module_version": "1.5.0",
            "_view_name": "HTMLView",
            "description": "",
            "description_tooltip": null,
            "layout": "IPY_MODEL_08409d0bd8d14ec1baabd5808d806357",
            "placeholder": "​",
            "style": "IPY_MODEL_3c1156568a2e474ea896a9203f479223",
            "value": " 2/2 [00:12&lt;00:00,  5.34s/ splits]"
          }
        },
        "ff577f559f00432fa82674028c3c317d": {
          "model_module": "@jupyter-widgets/base",
          "model_name": "LayoutModel",
          "model_module_version": "1.2.0",
          "state": {
            "_model_module": "@jupyter-widgets/base",
            "_model_module_version": "1.2.0",
            "_model_name": "LayoutModel",
            "_view_count": null,
            "_view_module": "@jupyter-widgets/base",
            "_view_module_version": "1.2.0",
            "_view_name": "LayoutView",
            "align_content": null,
            "align_items": null,
            "align_self": null,
            "border": null,
            "bottom": null,
            "display": null,
            "flex": null,
            "flex_flow": null,
            "grid_area": null,
            "grid_auto_columns": null,
            "grid_auto_flow": null,
            "grid_auto_rows": null,
            "grid_column": null,
            "grid_gap": null,
            "grid_row": null,
            "grid_template_areas": null,
            "grid_template_columns": null,
            "grid_template_rows": null,
            "height": null,
            "justify_content": null,
            "justify_items": null,
            "left": null,
            "margin": null,
            "max_height": null,
            "max_width": null,
            "min_height": null,
            "min_width": null,
            "object_fit": null,
            "object_position": null,
            "order": null,
            "overflow": null,
            "overflow_x": null,
            "overflow_y": null,
            "padding": null,
            "right": null,
            "top": null,
            "visibility": "hidden",
            "width": null
          }
        },
        "d05b4c0b0467401488af206a7dac5467": {
          "model_module": "@jupyter-widgets/base",
          "model_name": "LayoutModel",
          "model_module_version": "1.2.0",
          "state": {
            "_model_module": "@jupyter-widgets/base",
            "_model_module_version": "1.2.0",
            "_model_name": "LayoutModel",
            "_view_count": null,
            "_view_module": "@jupyter-widgets/base",
            "_view_module_version": "1.2.0",
            "_view_name": "LayoutView",
            "align_content": null,
            "align_items": null,
            "align_self": null,
            "border": null,
            "bottom": null,
            "display": null,
            "flex": null,
            "flex_flow": null,
            "grid_area": null,
            "grid_auto_columns": null,
            "grid_auto_flow": null,
            "grid_auto_rows": null,
            "grid_column": null,
            "grid_gap": null,
            "grid_row": null,
            "grid_template_areas": null,
            "grid_template_columns": null,
            "grid_template_rows": null,
            "height": null,
            "justify_content": null,
            "justify_items": null,
            "left": null,
            "margin": null,
            "max_height": null,
            "max_width": null,
            "min_height": null,
            "min_width": null,
            "object_fit": null,
            "object_position": null,
            "order": null,
            "overflow": null,
            "overflow_x": null,
            "overflow_y": null,
            "padding": null,
            "right": null,
            "top": null,
            "visibility": null,
            "width": null
          }
        },
        "e1561bb7d66545d68eed807c587e3eeb": {
          "model_module": "@jupyter-widgets/controls",
          "model_name": "DescriptionStyleModel",
          "model_module_version": "1.5.0",
          "state": {
            "_model_module": "@jupyter-widgets/controls",
            "_model_module_version": "1.5.0",
            "_model_name": "DescriptionStyleModel",
            "_view_count": null,
            "_view_module": "@jupyter-widgets/base",
            "_view_module_version": "1.2.0",
            "_view_name": "StyleView",
            "description_width": ""
          }
        },
        "e5469f7f7e3e4bafba9a314ec5eeb113": {
          "model_module": "@jupyter-widgets/base",
          "model_name": "LayoutModel",
          "model_module_version": "1.2.0",
          "state": {
            "_model_module": "@jupyter-widgets/base",
            "_model_module_version": "1.2.0",
            "_model_name": "LayoutModel",
            "_view_count": null,
            "_view_module": "@jupyter-widgets/base",
            "_view_module_version": "1.2.0",
            "_view_name": "LayoutView",
            "align_content": null,
            "align_items": null,
            "align_self": null,
            "border": null,
            "bottom": null,
            "display": null,
            "flex": null,
            "flex_flow": null,
            "grid_area": null,
            "grid_auto_columns": null,
            "grid_auto_flow": null,
            "grid_auto_rows": null,
            "grid_column": null,
            "grid_gap": null,
            "grid_row": null,
            "grid_template_areas": null,
            "grid_template_columns": null,
            "grid_template_rows": null,
            "height": null,
            "justify_content": null,
            "justify_items": null,
            "left": null,
            "margin": null,
            "max_height": null,
            "max_width": null,
            "min_height": null,
            "min_width": null,
            "object_fit": null,
            "object_position": null,
            "order": null,
            "overflow": null,
            "overflow_x": null,
            "overflow_y": null,
            "padding": null,
            "right": null,
            "top": null,
            "visibility": null,
            "width": null
          }
        },
        "5fa83affe5a143b9bc981340c1379c8f": {
          "model_module": "@jupyter-widgets/controls",
          "model_name": "ProgressStyleModel",
          "model_module_version": "1.5.0",
          "state": {
            "_model_module": "@jupyter-widgets/controls",
            "_model_module_version": "1.5.0",
            "_model_name": "ProgressStyleModel",
            "_view_count": null,
            "_view_module": "@jupyter-widgets/base",
            "_view_module_version": "1.2.0",
            "_view_name": "StyleView",
            "bar_color": null,
            "description_width": ""
          }
        },
        "08409d0bd8d14ec1baabd5808d806357": {
          "model_module": "@jupyter-widgets/base",
          "model_name": "LayoutModel",
          "model_module_version": "1.2.0",
          "state": {
            "_model_module": "@jupyter-widgets/base",
            "_model_module_version": "1.2.0",
            "_model_name": "LayoutModel",
            "_view_count": null,
            "_view_module": "@jupyter-widgets/base",
            "_view_module_version": "1.2.0",
            "_view_name": "LayoutView",
            "align_content": null,
            "align_items": null,
            "align_self": null,
            "border": null,
            "bottom": null,
            "display": null,
            "flex": null,
            "flex_flow": null,
            "grid_area": null,
            "grid_auto_columns": null,
            "grid_auto_flow": null,
            "grid_auto_rows": null,
            "grid_column": null,
            "grid_gap": null,
            "grid_row": null,
            "grid_template_areas": null,
            "grid_template_columns": null,
            "grid_template_rows": null,
            "height": null,
            "justify_content": null,
            "justify_items": null,
            "left": null,
            "margin": null,
            "max_height": null,
            "max_width": null,
            "min_height": null,
            "min_width": null,
            "object_fit": null,
            "object_position": null,
            "order": null,
            "overflow": null,
            "overflow_x": null,
            "overflow_y": null,
            "padding": null,
            "right": null,
            "top": null,
            "visibility": null,
            "width": null
          }
        },
        "3c1156568a2e474ea896a9203f479223": {
          "model_module": "@jupyter-widgets/controls",
          "model_name": "DescriptionStyleModel",
          "model_module_version": "1.5.0",
          "state": {
            "_model_module": "@jupyter-widgets/controls",
            "_model_module_version": "1.5.0",
            "_model_name": "DescriptionStyleModel",
            "_view_count": null,
            "_view_module": "@jupyter-widgets/base",
            "_view_module_version": "1.2.0",
            "_view_name": "StyleView",
            "description_width": ""
          }
        },
        "f63602786bf34402a3568c008ee1b90c": {
          "model_module": "@jupyter-widgets/controls",
          "model_name": "HBoxModel",
          "model_module_version": "1.5.0",
          "state": {
            "_dom_classes": [],
            "_model_module": "@jupyter-widgets/controls",
            "_model_module_version": "1.5.0",
            "_model_name": "HBoxModel",
            "_view_count": null,
            "_view_module": "@jupyter-widgets/controls",
            "_view_module_version": "1.5.0",
            "_view_name": "HBoxView",
            "box_style": "",
            "children": [
              "IPY_MODEL_c97b066670c54d46b6957923726d7eb1",
              "IPY_MODEL_1aa71a43f6604855beb54eeba46c85a1",
              "IPY_MODEL_1953a4647dde4057b3c29fb9ee325f6d"
            ],
            "layout": "IPY_MODEL_82fc1176130e4885a562aa67617eb1c4"
          }
        },
        "c97b066670c54d46b6957923726d7eb1": {
          "model_module": "@jupyter-widgets/controls",
          "model_name": "HTMLModel",
          "model_module_version": "1.5.0",
          "state": {
            "_dom_classes": [],
            "_model_module": "@jupyter-widgets/controls",
            "_model_module_version": "1.5.0",
            "_model_name": "HTMLModel",
            "_view_count": null,
            "_view_module": "@jupyter-widgets/controls",
            "_view_module_version": "1.5.0",
            "_view_name": "HTMLView",
            "description": "",
            "description_tooltip": null,
            "layout": "IPY_MODEL_78346380b9e2485d9914e370b64abd42",
            "placeholder": "​",
            "style": "IPY_MODEL_603a8a76026a4402bb67087fca7e7a0b",
            "value": "Generating train examples...:  93%"
          }
        },
        "1aa71a43f6604855beb54eeba46c85a1": {
          "model_module": "@jupyter-widgets/controls",
          "model_name": "FloatProgressModel",
          "model_module_version": "1.5.0",
          "state": {
            "_dom_classes": [],
            "_model_module": "@jupyter-widgets/controls",
            "_model_module_version": "1.5.0",
            "_model_name": "FloatProgressModel",
            "_view_count": null,
            "_view_module": "@jupyter-widgets/controls",
            "_view_module_version": "1.5.0",
            "_view_name": "ProgressView",
            "bar_style": "",
            "description": "",
            "description_tooltip": null,
            "layout": "IPY_MODEL_a3269e2288664463a4468ab49a8d6b68",
            "max": 120000,
            "min": 0,
            "orientation": "horizontal",
            "style": "IPY_MODEL_2d139c942abe4ec2a90aa30185d66a3b",
            "value": 120000
          }
        },
        "1953a4647dde4057b3c29fb9ee325f6d": {
          "model_module": "@jupyter-widgets/controls",
          "model_name": "HTMLModel",
          "model_module_version": "1.5.0",
          "state": {
            "_dom_classes": [],
            "_model_module": "@jupyter-widgets/controls",
            "_model_module_version": "1.5.0",
            "_model_name": "HTMLModel",
            "_view_count": null,
            "_view_module": "@jupyter-widgets/controls",
            "_view_module_version": "1.5.0",
            "_view_name": "HTMLView",
            "description": "",
            "description_tooltip": null,
            "layout": "IPY_MODEL_5d09447d5cdc4d6e9e00a280feb4c8a2",
            "placeholder": "​",
            "style": "IPY_MODEL_287a3ee064dd49f19eb4c041fce8567c",
            "value": " 111207/120000 [00:10&lt;00:00, 11159.09 examples/s]"
          }
        },
        "82fc1176130e4885a562aa67617eb1c4": {
          "model_module": "@jupyter-widgets/base",
          "model_name": "LayoutModel",
          "model_module_version": "1.2.0",
          "state": {
            "_model_module": "@jupyter-widgets/base",
            "_model_module_version": "1.2.0",
            "_model_name": "LayoutModel",
            "_view_count": null,
            "_view_module": "@jupyter-widgets/base",
            "_view_module_version": "1.2.0",
            "_view_name": "LayoutView",
            "align_content": null,
            "align_items": null,
            "align_self": null,
            "border": null,
            "bottom": null,
            "display": null,
            "flex": null,
            "flex_flow": null,
            "grid_area": null,
            "grid_auto_columns": null,
            "grid_auto_flow": null,
            "grid_auto_rows": null,
            "grid_column": null,
            "grid_gap": null,
            "grid_row": null,
            "grid_template_areas": null,
            "grid_template_columns": null,
            "grid_template_rows": null,
            "height": null,
            "justify_content": null,
            "justify_items": null,
            "left": null,
            "margin": null,
            "max_height": null,
            "max_width": null,
            "min_height": null,
            "min_width": null,
            "object_fit": null,
            "object_position": null,
            "order": null,
            "overflow": null,
            "overflow_x": null,
            "overflow_y": null,
            "padding": null,
            "right": null,
            "top": null,
            "visibility": "hidden",
            "width": null
          }
        },
        "78346380b9e2485d9914e370b64abd42": {
          "model_module": "@jupyter-widgets/base",
          "model_name": "LayoutModel",
          "model_module_version": "1.2.0",
          "state": {
            "_model_module": "@jupyter-widgets/base",
            "_model_module_version": "1.2.0",
            "_model_name": "LayoutModel",
            "_view_count": null,
            "_view_module": "@jupyter-widgets/base",
            "_view_module_version": "1.2.0",
            "_view_name": "LayoutView",
            "align_content": null,
            "align_items": null,
            "align_self": null,
            "border": null,
            "bottom": null,
            "display": null,
            "flex": null,
            "flex_flow": null,
            "grid_area": null,
            "grid_auto_columns": null,
            "grid_auto_flow": null,
            "grid_auto_rows": null,
            "grid_column": null,
            "grid_gap": null,
            "grid_row": null,
            "grid_template_areas": null,
            "grid_template_columns": null,
            "grid_template_rows": null,
            "height": null,
            "justify_content": null,
            "justify_items": null,
            "left": null,
            "margin": null,
            "max_height": null,
            "max_width": null,
            "min_height": null,
            "min_width": null,
            "object_fit": null,
            "object_position": null,
            "order": null,
            "overflow": null,
            "overflow_x": null,
            "overflow_y": null,
            "padding": null,
            "right": null,
            "top": null,
            "visibility": null,
            "width": null
          }
        },
        "603a8a76026a4402bb67087fca7e7a0b": {
          "model_module": "@jupyter-widgets/controls",
          "model_name": "DescriptionStyleModel",
          "model_module_version": "1.5.0",
          "state": {
            "_model_module": "@jupyter-widgets/controls",
            "_model_module_version": "1.5.0",
            "_model_name": "DescriptionStyleModel",
            "_view_count": null,
            "_view_module": "@jupyter-widgets/base",
            "_view_module_version": "1.2.0",
            "_view_name": "StyleView",
            "description_width": ""
          }
        },
        "a3269e2288664463a4468ab49a8d6b68": {
          "model_module": "@jupyter-widgets/base",
          "model_name": "LayoutModel",
          "model_module_version": "1.2.0",
          "state": {
            "_model_module": "@jupyter-widgets/base",
            "_model_module_version": "1.2.0",
            "_model_name": "LayoutModel",
            "_view_count": null,
            "_view_module": "@jupyter-widgets/base",
            "_view_module_version": "1.2.0",
            "_view_name": "LayoutView",
            "align_content": null,
            "align_items": null,
            "align_self": null,
            "border": null,
            "bottom": null,
            "display": null,
            "flex": null,
            "flex_flow": null,
            "grid_area": null,
            "grid_auto_columns": null,
            "grid_auto_flow": null,
            "grid_auto_rows": null,
            "grid_column": null,
            "grid_gap": null,
            "grid_row": null,
            "grid_template_areas": null,
            "grid_template_columns": null,
            "grid_template_rows": null,
            "height": null,
            "justify_content": null,
            "justify_items": null,
            "left": null,
            "margin": null,
            "max_height": null,
            "max_width": null,
            "min_height": null,
            "min_width": null,
            "object_fit": null,
            "object_position": null,
            "order": null,
            "overflow": null,
            "overflow_x": null,
            "overflow_y": null,
            "padding": null,
            "right": null,
            "top": null,
            "visibility": null,
            "width": null
          }
        },
        "2d139c942abe4ec2a90aa30185d66a3b": {
          "model_module": "@jupyter-widgets/controls",
          "model_name": "ProgressStyleModel",
          "model_module_version": "1.5.0",
          "state": {
            "_model_module": "@jupyter-widgets/controls",
            "_model_module_version": "1.5.0",
            "_model_name": "ProgressStyleModel",
            "_view_count": null,
            "_view_module": "@jupyter-widgets/base",
            "_view_module_version": "1.2.0",
            "_view_name": "StyleView",
            "bar_color": null,
            "description_width": ""
          }
        },
        "5d09447d5cdc4d6e9e00a280feb4c8a2": {
          "model_module": "@jupyter-widgets/base",
          "model_name": "LayoutModel",
          "model_module_version": "1.2.0",
          "state": {
            "_model_module": "@jupyter-widgets/base",
            "_model_module_version": "1.2.0",
            "_model_name": "LayoutModel",
            "_view_count": null,
            "_view_module": "@jupyter-widgets/base",
            "_view_module_version": "1.2.0",
            "_view_name": "LayoutView",
            "align_content": null,
            "align_items": null,
            "align_self": null,
            "border": null,
            "bottom": null,
            "display": null,
            "flex": null,
            "flex_flow": null,
            "grid_area": null,
            "grid_auto_columns": null,
            "grid_auto_flow": null,
            "grid_auto_rows": null,
            "grid_column": null,
            "grid_gap": null,
            "grid_row": null,
            "grid_template_areas": null,
            "grid_template_columns": null,
            "grid_template_rows": null,
            "height": null,
            "justify_content": null,
            "justify_items": null,
            "left": null,
            "margin": null,
            "max_height": null,
            "max_width": null,
            "min_height": null,
            "min_width": null,
            "object_fit": null,
            "object_position": null,
            "order": null,
            "overflow": null,
            "overflow_x": null,
            "overflow_y": null,
            "padding": null,
            "right": null,
            "top": null,
            "visibility": null,
            "width": null
          }
        },
        "287a3ee064dd49f19eb4c041fce8567c": {
          "model_module": "@jupyter-widgets/controls",
          "model_name": "DescriptionStyleModel",
          "model_module_version": "1.5.0",
          "state": {
            "_model_module": "@jupyter-widgets/controls",
            "_model_module_version": "1.5.0",
            "_model_name": "DescriptionStyleModel",
            "_view_count": null,
            "_view_module": "@jupyter-widgets/base",
            "_view_module_version": "1.2.0",
            "_view_name": "StyleView",
            "description_width": ""
          }
        },
        "4e7183c187974fa285a92d7979658d1e": {
          "model_module": "@jupyter-widgets/controls",
          "model_name": "HBoxModel",
          "model_module_version": "1.5.0",
          "state": {
            "_dom_classes": [],
            "_model_module": "@jupyter-widgets/controls",
            "_model_module_version": "1.5.0",
            "_model_name": "HBoxModel",
            "_view_count": null,
            "_view_module": "@jupyter-widgets/controls",
            "_view_module_version": "1.5.0",
            "_view_name": "HBoxView",
            "box_style": "",
            "children": [
              "IPY_MODEL_a6f71fb0648c4d25861c7aca7ced4cd1",
              "IPY_MODEL_ec845ce83b8f4369ae7b52afff5834e4",
              "IPY_MODEL_06f07f5ddca94869a12007d4ed4645d9"
            ],
            "layout": "IPY_MODEL_ca81b70663cb4d9c8e3e8073768b41e7"
          }
        },
        "a6f71fb0648c4d25861c7aca7ced4cd1": {
          "model_module": "@jupyter-widgets/controls",
          "model_name": "HTMLModel",
          "model_module_version": "1.5.0",
          "state": {
            "_dom_classes": [],
            "_model_module": "@jupyter-widgets/controls",
            "_model_module_version": "1.5.0",
            "_model_name": "HTMLModel",
            "_view_count": null,
            "_view_module": "@jupyter-widgets/controls",
            "_view_module_version": "1.5.0",
            "_view_name": "HTMLView",
            "description": "",
            "description_tooltip": null,
            "layout": "IPY_MODEL_a31b79f77d2d4f058d75afd6191358e4",
            "placeholder": "​",
            "style": "IPY_MODEL_2c8df7793d3f4d74b85474cb55fa2287",
            "value": "Shuffling /root/tensorflow_datasets/ag_news_subset/incomplete.1898II_1.0.0/ag_news_subset-train.tfrecord*...:   0%"
          }
        },
        "ec845ce83b8f4369ae7b52afff5834e4": {
          "model_module": "@jupyter-widgets/controls",
          "model_name": "FloatProgressModel",
          "model_module_version": "1.5.0",
          "state": {
            "_dom_classes": [],
            "_model_module": "@jupyter-widgets/controls",
            "_model_module_version": "1.5.0",
            "_model_name": "FloatProgressModel",
            "_view_count": null,
            "_view_module": "@jupyter-widgets/controls",
            "_view_module_version": "1.5.0",
            "_view_name": "ProgressView",
            "bar_style": "",
            "description": "",
            "description_tooltip": null,
            "layout": "IPY_MODEL_04170b5fafe34f8fa8e048a0863505c8",
            "max": 120000,
            "min": 0,
            "orientation": "horizontal",
            "style": "IPY_MODEL_1db262f79b234dd09424032b29479c43",
            "value": 120000
          }
        },
        "06f07f5ddca94869a12007d4ed4645d9": {
          "model_module": "@jupyter-widgets/controls",
          "model_name": "HTMLModel",
          "model_module_version": "1.5.0",
          "state": {
            "_dom_classes": [],
            "_model_module": "@jupyter-widgets/controls",
            "_model_module_version": "1.5.0",
            "_model_name": "HTMLModel",
            "_view_count": null,
            "_view_module": "@jupyter-widgets/controls",
            "_view_module_version": "1.5.0",
            "_view_name": "HTMLView",
            "description": "",
            "description_tooltip": null,
            "layout": "IPY_MODEL_5c266bc4ccdf44f79890ab30457d7529",
            "placeholder": "​",
            "style": "IPY_MODEL_9fc3c31408144a24a4ac56017f63db38",
            "value": " 0/120000 [00:00&lt;?, ? examples/s]"
          }
        },
        "ca81b70663cb4d9c8e3e8073768b41e7": {
          "model_module": "@jupyter-widgets/base",
          "model_name": "LayoutModel",
          "model_module_version": "1.2.0",
          "state": {
            "_model_module": "@jupyter-widgets/base",
            "_model_module_version": "1.2.0",
            "_model_name": "LayoutModel",
            "_view_count": null,
            "_view_module": "@jupyter-widgets/base",
            "_view_module_version": "1.2.0",
            "_view_name": "LayoutView",
            "align_content": null,
            "align_items": null,
            "align_self": null,
            "border": null,
            "bottom": null,
            "display": null,
            "flex": null,
            "flex_flow": null,
            "grid_area": null,
            "grid_auto_columns": null,
            "grid_auto_flow": null,
            "grid_auto_rows": null,
            "grid_column": null,
            "grid_gap": null,
            "grid_row": null,
            "grid_template_areas": null,
            "grid_template_columns": null,
            "grid_template_rows": null,
            "height": null,
            "justify_content": null,
            "justify_items": null,
            "left": null,
            "margin": null,
            "max_height": null,
            "max_width": null,
            "min_height": null,
            "min_width": null,
            "object_fit": null,
            "object_position": null,
            "order": null,
            "overflow": null,
            "overflow_x": null,
            "overflow_y": null,
            "padding": null,
            "right": null,
            "top": null,
            "visibility": "hidden",
            "width": null
          }
        },
        "a31b79f77d2d4f058d75afd6191358e4": {
          "model_module": "@jupyter-widgets/base",
          "model_name": "LayoutModel",
          "model_module_version": "1.2.0",
          "state": {
            "_model_module": "@jupyter-widgets/base",
            "_model_module_version": "1.2.0",
            "_model_name": "LayoutModel",
            "_view_count": null,
            "_view_module": "@jupyter-widgets/base",
            "_view_module_version": "1.2.0",
            "_view_name": "LayoutView",
            "align_content": null,
            "align_items": null,
            "align_self": null,
            "border": null,
            "bottom": null,
            "display": null,
            "flex": null,
            "flex_flow": null,
            "grid_area": null,
            "grid_auto_columns": null,
            "grid_auto_flow": null,
            "grid_auto_rows": null,
            "grid_column": null,
            "grid_gap": null,
            "grid_row": null,
            "grid_template_areas": null,
            "grid_template_columns": null,
            "grid_template_rows": null,
            "height": null,
            "justify_content": null,
            "justify_items": null,
            "left": null,
            "margin": null,
            "max_height": null,
            "max_width": null,
            "min_height": null,
            "min_width": null,
            "object_fit": null,
            "object_position": null,
            "order": null,
            "overflow": null,
            "overflow_x": null,
            "overflow_y": null,
            "padding": null,
            "right": null,
            "top": null,
            "visibility": null,
            "width": null
          }
        },
        "2c8df7793d3f4d74b85474cb55fa2287": {
          "model_module": "@jupyter-widgets/controls",
          "model_name": "DescriptionStyleModel",
          "model_module_version": "1.5.0",
          "state": {
            "_model_module": "@jupyter-widgets/controls",
            "_model_module_version": "1.5.0",
            "_model_name": "DescriptionStyleModel",
            "_view_count": null,
            "_view_module": "@jupyter-widgets/base",
            "_view_module_version": "1.2.0",
            "_view_name": "StyleView",
            "description_width": ""
          }
        },
        "04170b5fafe34f8fa8e048a0863505c8": {
          "model_module": "@jupyter-widgets/base",
          "model_name": "LayoutModel",
          "model_module_version": "1.2.0",
          "state": {
            "_model_module": "@jupyter-widgets/base",
            "_model_module_version": "1.2.0",
            "_model_name": "LayoutModel",
            "_view_count": null,
            "_view_module": "@jupyter-widgets/base",
            "_view_module_version": "1.2.0",
            "_view_name": "LayoutView",
            "align_content": null,
            "align_items": null,
            "align_self": null,
            "border": null,
            "bottom": null,
            "display": null,
            "flex": null,
            "flex_flow": null,
            "grid_area": null,
            "grid_auto_columns": null,
            "grid_auto_flow": null,
            "grid_auto_rows": null,
            "grid_column": null,
            "grid_gap": null,
            "grid_row": null,
            "grid_template_areas": null,
            "grid_template_columns": null,
            "grid_template_rows": null,
            "height": null,
            "justify_content": null,
            "justify_items": null,
            "left": null,
            "margin": null,
            "max_height": null,
            "max_width": null,
            "min_height": null,
            "min_width": null,
            "object_fit": null,
            "object_position": null,
            "order": null,
            "overflow": null,
            "overflow_x": null,
            "overflow_y": null,
            "padding": null,
            "right": null,
            "top": null,
            "visibility": null,
            "width": null
          }
        },
        "1db262f79b234dd09424032b29479c43": {
          "model_module": "@jupyter-widgets/controls",
          "model_name": "ProgressStyleModel",
          "model_module_version": "1.5.0",
          "state": {
            "_model_module": "@jupyter-widgets/controls",
            "_model_module_version": "1.5.0",
            "_model_name": "ProgressStyleModel",
            "_view_count": null,
            "_view_module": "@jupyter-widgets/base",
            "_view_module_version": "1.2.0",
            "_view_name": "StyleView",
            "bar_color": null,
            "description_width": ""
          }
        },
        "5c266bc4ccdf44f79890ab30457d7529": {
          "model_module": "@jupyter-widgets/base",
          "model_name": "LayoutModel",
          "model_module_version": "1.2.0",
          "state": {
            "_model_module": "@jupyter-widgets/base",
            "_model_module_version": "1.2.0",
            "_model_name": "LayoutModel",
            "_view_count": null,
            "_view_module": "@jupyter-widgets/base",
            "_view_module_version": "1.2.0",
            "_view_name": "LayoutView",
            "align_content": null,
            "align_items": null,
            "align_self": null,
            "border": null,
            "bottom": null,
            "display": null,
            "flex": null,
            "flex_flow": null,
            "grid_area": null,
            "grid_auto_columns": null,
            "grid_auto_flow": null,
            "grid_auto_rows": null,
            "grid_column": null,
            "grid_gap": null,
            "grid_row": null,
            "grid_template_areas": null,
            "grid_template_columns": null,
            "grid_template_rows": null,
            "height": null,
            "justify_content": null,
            "justify_items": null,
            "left": null,
            "margin": null,
            "max_height": null,
            "max_width": null,
            "min_height": null,
            "min_width": null,
            "object_fit": null,
            "object_position": null,
            "order": null,
            "overflow": null,
            "overflow_x": null,
            "overflow_y": null,
            "padding": null,
            "right": null,
            "top": null,
            "visibility": null,
            "width": null
          }
        },
        "9fc3c31408144a24a4ac56017f63db38": {
          "model_module": "@jupyter-widgets/controls",
          "model_name": "DescriptionStyleModel",
          "model_module_version": "1.5.0",
          "state": {
            "_model_module": "@jupyter-widgets/controls",
            "_model_module_version": "1.5.0",
            "_model_name": "DescriptionStyleModel",
            "_view_count": null,
            "_view_module": "@jupyter-widgets/base",
            "_view_module_version": "1.2.0",
            "_view_name": "StyleView",
            "description_width": ""
          }
        },
        "44ae79f3d03548ef999c10a579aa0246": {
          "model_module": "@jupyter-widgets/controls",
          "model_name": "HBoxModel",
          "model_module_version": "1.5.0",
          "state": {
            "_dom_classes": [],
            "_model_module": "@jupyter-widgets/controls",
            "_model_module_version": "1.5.0",
            "_model_name": "HBoxModel",
            "_view_count": null,
            "_view_module": "@jupyter-widgets/controls",
            "_view_module_version": "1.5.0",
            "_view_name": "HBoxView",
            "box_style": "",
            "children": [
              "IPY_MODEL_1c4f094ecbb4443fad3dcb6892f21314",
              "IPY_MODEL_42081df946d4434a80ac5056add01675",
              "IPY_MODEL_ac984bbc07914e519597ae4bc2b6b7ed"
            ],
            "layout": "IPY_MODEL_6c233bf09c8a42c19f31b879d72a6b25"
          }
        },
        "1c4f094ecbb4443fad3dcb6892f21314": {
          "model_module": "@jupyter-widgets/controls",
          "model_name": "HTMLModel",
          "model_module_version": "1.5.0",
          "state": {
            "_dom_classes": [],
            "_model_module": "@jupyter-widgets/controls",
            "_model_module_version": "1.5.0",
            "_model_name": "HTMLModel",
            "_view_count": null,
            "_view_module": "@jupyter-widgets/controls",
            "_view_module_version": "1.5.0",
            "_view_name": "HTMLView",
            "description": "",
            "description_tooltip": null,
            "layout": "IPY_MODEL_a53eb4f0a59c4e3599e3209af0a4a026",
            "placeholder": "​",
            "style": "IPY_MODEL_f353af8192c241df9ba4659f5c834c20",
            "value": "Generating test examples...:   0%"
          }
        },
        "42081df946d4434a80ac5056add01675": {
          "model_module": "@jupyter-widgets/controls",
          "model_name": "FloatProgressModel",
          "model_module_version": "1.5.0",
          "state": {
            "_dom_classes": [],
            "_model_module": "@jupyter-widgets/controls",
            "_model_module_version": "1.5.0",
            "_model_name": "FloatProgressModel",
            "_view_count": null,
            "_view_module": "@jupyter-widgets/controls",
            "_view_module_version": "1.5.0",
            "_view_name": "ProgressView",
            "bar_style": "",
            "description": "",
            "description_tooltip": null,
            "layout": "IPY_MODEL_d8602da4b33d493a936fb8104a8481a6",
            "max": 7600,
            "min": 0,
            "orientation": "horizontal",
            "style": "IPY_MODEL_5e626bb40b7e48d7a8357b3416374d9d",
            "value": 7600
          }
        },
        "ac984bbc07914e519597ae4bc2b6b7ed": {
          "model_module": "@jupyter-widgets/controls",
          "model_name": "HTMLModel",
          "model_module_version": "1.5.0",
          "state": {
            "_dom_classes": [],
            "_model_module": "@jupyter-widgets/controls",
            "_model_module_version": "1.5.0",
            "_model_name": "HTMLModel",
            "_view_count": null,
            "_view_module": "@jupyter-widgets/controls",
            "_view_module_version": "1.5.0",
            "_view_name": "HTMLView",
            "description": "",
            "description_tooltip": null,
            "layout": "IPY_MODEL_a546952e9fda443182a40efc178cea7c",
            "placeholder": "​",
            "style": "IPY_MODEL_1b5379e0b50c42ff9a12f0abb33a3b12",
            "value": " 0/7600 [00:00&lt;?, ? examples/s]"
          }
        },
        "6c233bf09c8a42c19f31b879d72a6b25": {
          "model_module": "@jupyter-widgets/base",
          "model_name": "LayoutModel",
          "model_module_version": "1.2.0",
          "state": {
            "_model_module": "@jupyter-widgets/base",
            "_model_module_version": "1.2.0",
            "_model_name": "LayoutModel",
            "_view_count": null,
            "_view_module": "@jupyter-widgets/base",
            "_view_module_version": "1.2.0",
            "_view_name": "LayoutView",
            "align_content": null,
            "align_items": null,
            "align_self": null,
            "border": null,
            "bottom": null,
            "display": null,
            "flex": null,
            "flex_flow": null,
            "grid_area": null,
            "grid_auto_columns": null,
            "grid_auto_flow": null,
            "grid_auto_rows": null,
            "grid_column": null,
            "grid_gap": null,
            "grid_row": null,
            "grid_template_areas": null,
            "grid_template_columns": null,
            "grid_template_rows": null,
            "height": null,
            "justify_content": null,
            "justify_items": null,
            "left": null,
            "margin": null,
            "max_height": null,
            "max_width": null,
            "min_height": null,
            "min_width": null,
            "object_fit": null,
            "object_position": null,
            "order": null,
            "overflow": null,
            "overflow_x": null,
            "overflow_y": null,
            "padding": null,
            "right": null,
            "top": null,
            "visibility": "hidden",
            "width": null
          }
        },
        "a53eb4f0a59c4e3599e3209af0a4a026": {
          "model_module": "@jupyter-widgets/base",
          "model_name": "LayoutModel",
          "model_module_version": "1.2.0",
          "state": {
            "_model_module": "@jupyter-widgets/base",
            "_model_module_version": "1.2.0",
            "_model_name": "LayoutModel",
            "_view_count": null,
            "_view_module": "@jupyter-widgets/base",
            "_view_module_version": "1.2.0",
            "_view_name": "LayoutView",
            "align_content": null,
            "align_items": null,
            "align_self": null,
            "border": null,
            "bottom": null,
            "display": null,
            "flex": null,
            "flex_flow": null,
            "grid_area": null,
            "grid_auto_columns": null,
            "grid_auto_flow": null,
            "grid_auto_rows": null,
            "grid_column": null,
            "grid_gap": null,
            "grid_row": null,
            "grid_template_areas": null,
            "grid_template_columns": null,
            "grid_template_rows": null,
            "height": null,
            "justify_content": null,
            "justify_items": null,
            "left": null,
            "margin": null,
            "max_height": null,
            "max_width": null,
            "min_height": null,
            "min_width": null,
            "object_fit": null,
            "object_position": null,
            "order": null,
            "overflow": null,
            "overflow_x": null,
            "overflow_y": null,
            "padding": null,
            "right": null,
            "top": null,
            "visibility": null,
            "width": null
          }
        },
        "f353af8192c241df9ba4659f5c834c20": {
          "model_module": "@jupyter-widgets/controls",
          "model_name": "DescriptionStyleModel",
          "model_module_version": "1.5.0",
          "state": {
            "_model_module": "@jupyter-widgets/controls",
            "_model_module_version": "1.5.0",
            "_model_name": "DescriptionStyleModel",
            "_view_count": null,
            "_view_module": "@jupyter-widgets/base",
            "_view_module_version": "1.2.0",
            "_view_name": "StyleView",
            "description_width": ""
          }
        },
        "d8602da4b33d493a936fb8104a8481a6": {
          "model_module": "@jupyter-widgets/base",
          "model_name": "LayoutModel",
          "model_module_version": "1.2.0",
          "state": {
            "_model_module": "@jupyter-widgets/base",
            "_model_module_version": "1.2.0",
            "_model_name": "LayoutModel",
            "_view_count": null,
            "_view_module": "@jupyter-widgets/base",
            "_view_module_version": "1.2.0",
            "_view_name": "LayoutView",
            "align_content": null,
            "align_items": null,
            "align_self": null,
            "border": null,
            "bottom": null,
            "display": null,
            "flex": null,
            "flex_flow": null,
            "grid_area": null,
            "grid_auto_columns": null,
            "grid_auto_flow": null,
            "grid_auto_rows": null,
            "grid_column": null,
            "grid_gap": null,
            "grid_row": null,
            "grid_template_areas": null,
            "grid_template_columns": null,
            "grid_template_rows": null,
            "height": null,
            "justify_content": null,
            "justify_items": null,
            "left": null,
            "margin": null,
            "max_height": null,
            "max_width": null,
            "min_height": null,
            "min_width": null,
            "object_fit": null,
            "object_position": null,
            "order": null,
            "overflow": null,
            "overflow_x": null,
            "overflow_y": null,
            "padding": null,
            "right": null,
            "top": null,
            "visibility": null,
            "width": null
          }
        },
        "5e626bb40b7e48d7a8357b3416374d9d": {
          "model_module": "@jupyter-widgets/controls",
          "model_name": "ProgressStyleModel",
          "model_module_version": "1.5.0",
          "state": {
            "_model_module": "@jupyter-widgets/controls",
            "_model_module_version": "1.5.0",
            "_model_name": "ProgressStyleModel",
            "_view_count": null,
            "_view_module": "@jupyter-widgets/base",
            "_view_module_version": "1.2.0",
            "_view_name": "StyleView",
            "bar_color": null,
            "description_width": ""
          }
        },
        "a546952e9fda443182a40efc178cea7c": {
          "model_module": "@jupyter-widgets/base",
          "model_name": "LayoutModel",
          "model_module_version": "1.2.0",
          "state": {
            "_model_module": "@jupyter-widgets/base",
            "_model_module_version": "1.2.0",
            "_model_name": "LayoutModel",
            "_view_count": null,
            "_view_module": "@jupyter-widgets/base",
            "_view_module_version": "1.2.0",
            "_view_name": "LayoutView",
            "align_content": null,
            "align_items": null,
            "align_self": null,
            "border": null,
            "bottom": null,
            "display": null,
            "flex": null,
            "flex_flow": null,
            "grid_area": null,
            "grid_auto_columns": null,
            "grid_auto_flow": null,
            "grid_auto_rows": null,
            "grid_column": null,
            "grid_gap": null,
            "grid_row": null,
            "grid_template_areas": null,
            "grid_template_columns": null,
            "grid_template_rows": null,
            "height": null,
            "justify_content": null,
            "justify_items": null,
            "left": null,
            "margin": null,
            "max_height": null,
            "max_width": null,
            "min_height": null,
            "min_width": null,
            "object_fit": null,
            "object_position": null,
            "order": null,
            "overflow": null,
            "overflow_x": null,
            "overflow_y": null,
            "padding": null,
            "right": null,
            "top": null,
            "visibility": null,
            "width": null
          }
        },
        "1b5379e0b50c42ff9a12f0abb33a3b12": {
          "model_module": "@jupyter-widgets/controls",
          "model_name": "DescriptionStyleModel",
          "model_module_version": "1.5.0",
          "state": {
            "_model_module": "@jupyter-widgets/controls",
            "_model_module_version": "1.5.0",
            "_model_name": "DescriptionStyleModel",
            "_view_count": null,
            "_view_module": "@jupyter-widgets/base",
            "_view_module_version": "1.2.0",
            "_view_name": "StyleView",
            "description_width": ""
          }
        },
        "5a86091a6b304d4ebcc1996aab5a4ac7": {
          "model_module": "@jupyter-widgets/controls",
          "model_name": "HBoxModel",
          "model_module_version": "1.5.0",
          "state": {
            "_dom_classes": [],
            "_model_module": "@jupyter-widgets/controls",
            "_model_module_version": "1.5.0",
            "_model_name": "HBoxModel",
            "_view_count": null,
            "_view_module": "@jupyter-widgets/controls",
            "_view_module_version": "1.5.0",
            "_view_name": "HBoxView",
            "box_style": "",
            "children": [
              "IPY_MODEL_c627392021744be78912caab04459e5f",
              "IPY_MODEL_c9a0bdec561d4c4c8e5e97b561958a22",
              "IPY_MODEL_e07c9c50c88b446a8a7341cf17e341c8"
            ],
            "layout": "IPY_MODEL_feae0fddb9314c588bf2056814fa512a"
          }
        },
        "c627392021744be78912caab04459e5f": {
          "model_module": "@jupyter-widgets/controls",
          "model_name": "HTMLModel",
          "model_module_version": "1.5.0",
          "state": {
            "_dom_classes": [],
            "_model_module": "@jupyter-widgets/controls",
            "_model_module_version": "1.5.0",
            "_model_name": "HTMLModel",
            "_view_count": null,
            "_view_module": "@jupyter-widgets/controls",
            "_view_module_version": "1.5.0",
            "_view_name": "HTMLView",
            "description": "",
            "description_tooltip": null,
            "layout": "IPY_MODEL_cb7866e7034f4a2a89a9dea9a9308b18",
            "placeholder": "​",
            "style": "IPY_MODEL_5de3b12508bb40b5b8a06b1c1e5550f9",
            "value": "Shuffling /root/tensorflow_datasets/ag_news_subset/incomplete.1898II_1.0.0/ag_news_subset-test.tfrecord*...:   0%"
          }
        },
        "c9a0bdec561d4c4c8e5e97b561958a22": {
          "model_module": "@jupyter-widgets/controls",
          "model_name": "FloatProgressModel",
          "model_module_version": "1.5.0",
          "state": {
            "_dom_classes": [],
            "_model_module": "@jupyter-widgets/controls",
            "_model_module_version": "1.5.0",
            "_model_name": "FloatProgressModel",
            "_view_count": null,
            "_view_module": "@jupyter-widgets/controls",
            "_view_module_version": "1.5.0",
            "_view_name": "ProgressView",
            "bar_style": "",
            "description": "",
            "description_tooltip": null,
            "layout": "IPY_MODEL_cf4f190a459440d19689f152b90fbea0",
            "max": 7600,
            "min": 0,
            "orientation": "horizontal",
            "style": "IPY_MODEL_f535556a9c574733b67a66897fb36705",
            "value": 7600
          }
        },
        "e07c9c50c88b446a8a7341cf17e341c8": {
          "model_module": "@jupyter-widgets/controls",
          "model_name": "HTMLModel",
          "model_module_version": "1.5.0",
          "state": {
            "_dom_classes": [],
            "_model_module": "@jupyter-widgets/controls",
            "_model_module_version": "1.5.0",
            "_model_name": "HTMLModel",
            "_view_count": null,
            "_view_module": "@jupyter-widgets/controls",
            "_view_module_version": "1.5.0",
            "_view_name": "HTMLView",
            "description": "",
            "description_tooltip": null,
            "layout": "IPY_MODEL_eeae44c5af5841c6918d0848fd173e81",
            "placeholder": "​",
            "style": "IPY_MODEL_d2a6419e65e745fbaef651a866b5a71d",
            "value": " 0/7600 [00:00&lt;?, ? examples/s]"
          }
        },
        "feae0fddb9314c588bf2056814fa512a": {
          "model_module": "@jupyter-widgets/base",
          "model_name": "LayoutModel",
          "model_module_version": "1.2.0",
          "state": {
            "_model_module": "@jupyter-widgets/base",
            "_model_module_version": "1.2.0",
            "_model_name": "LayoutModel",
            "_view_count": null,
            "_view_module": "@jupyter-widgets/base",
            "_view_module_version": "1.2.0",
            "_view_name": "LayoutView",
            "align_content": null,
            "align_items": null,
            "align_self": null,
            "border": null,
            "bottom": null,
            "display": null,
            "flex": null,
            "flex_flow": null,
            "grid_area": null,
            "grid_auto_columns": null,
            "grid_auto_flow": null,
            "grid_auto_rows": null,
            "grid_column": null,
            "grid_gap": null,
            "grid_row": null,
            "grid_template_areas": null,
            "grid_template_columns": null,
            "grid_template_rows": null,
            "height": null,
            "justify_content": null,
            "justify_items": null,
            "left": null,
            "margin": null,
            "max_height": null,
            "max_width": null,
            "min_height": null,
            "min_width": null,
            "object_fit": null,
            "object_position": null,
            "order": null,
            "overflow": null,
            "overflow_x": null,
            "overflow_y": null,
            "padding": null,
            "right": null,
            "top": null,
            "visibility": "hidden",
            "width": null
          }
        },
        "cb7866e7034f4a2a89a9dea9a9308b18": {
          "model_module": "@jupyter-widgets/base",
          "model_name": "LayoutModel",
          "model_module_version": "1.2.0",
          "state": {
            "_model_module": "@jupyter-widgets/base",
            "_model_module_version": "1.2.0",
            "_model_name": "LayoutModel",
            "_view_count": null,
            "_view_module": "@jupyter-widgets/base",
            "_view_module_version": "1.2.0",
            "_view_name": "LayoutView",
            "align_content": null,
            "align_items": null,
            "align_self": null,
            "border": null,
            "bottom": null,
            "display": null,
            "flex": null,
            "flex_flow": null,
            "grid_area": null,
            "grid_auto_columns": null,
            "grid_auto_flow": null,
            "grid_auto_rows": null,
            "grid_column": null,
            "grid_gap": null,
            "grid_row": null,
            "grid_template_areas": null,
            "grid_template_columns": null,
            "grid_template_rows": null,
            "height": null,
            "justify_content": null,
            "justify_items": null,
            "left": null,
            "margin": null,
            "max_height": null,
            "max_width": null,
            "min_height": null,
            "min_width": null,
            "object_fit": null,
            "object_position": null,
            "order": null,
            "overflow": null,
            "overflow_x": null,
            "overflow_y": null,
            "padding": null,
            "right": null,
            "top": null,
            "visibility": null,
            "width": null
          }
        },
        "5de3b12508bb40b5b8a06b1c1e5550f9": {
          "model_module": "@jupyter-widgets/controls",
          "model_name": "DescriptionStyleModel",
          "model_module_version": "1.5.0",
          "state": {
            "_model_module": "@jupyter-widgets/controls",
            "_model_module_version": "1.5.0",
            "_model_name": "DescriptionStyleModel",
            "_view_count": null,
            "_view_module": "@jupyter-widgets/base",
            "_view_module_version": "1.2.0",
            "_view_name": "StyleView",
            "description_width": ""
          }
        },
        "cf4f190a459440d19689f152b90fbea0": {
          "model_module": "@jupyter-widgets/base",
          "model_name": "LayoutModel",
          "model_module_version": "1.2.0",
          "state": {
            "_model_module": "@jupyter-widgets/base",
            "_model_module_version": "1.2.0",
            "_model_name": "LayoutModel",
            "_view_count": null,
            "_view_module": "@jupyter-widgets/base",
            "_view_module_version": "1.2.0",
            "_view_name": "LayoutView",
            "align_content": null,
            "align_items": null,
            "align_self": null,
            "border": null,
            "bottom": null,
            "display": null,
            "flex": null,
            "flex_flow": null,
            "grid_area": null,
            "grid_auto_columns": null,
            "grid_auto_flow": null,
            "grid_auto_rows": null,
            "grid_column": null,
            "grid_gap": null,
            "grid_row": null,
            "grid_template_areas": null,
            "grid_template_columns": null,
            "grid_template_rows": null,
            "height": null,
            "justify_content": null,
            "justify_items": null,
            "left": null,
            "margin": null,
            "max_height": null,
            "max_width": null,
            "min_height": null,
            "min_width": null,
            "object_fit": null,
            "object_position": null,
            "order": null,
            "overflow": null,
            "overflow_x": null,
            "overflow_y": null,
            "padding": null,
            "right": null,
            "top": null,
            "visibility": null,
            "width": null
          }
        },
        "f535556a9c574733b67a66897fb36705": {
          "model_module": "@jupyter-widgets/controls",
          "model_name": "ProgressStyleModel",
          "model_module_version": "1.5.0",
          "state": {
            "_model_module": "@jupyter-widgets/controls",
            "_model_module_version": "1.5.0",
            "_model_name": "ProgressStyleModel",
            "_view_count": null,
            "_view_module": "@jupyter-widgets/base",
            "_view_module_version": "1.2.0",
            "_view_name": "StyleView",
            "bar_color": null,
            "description_width": ""
          }
        },
        "eeae44c5af5841c6918d0848fd173e81": {
          "model_module": "@jupyter-widgets/base",
          "model_name": "LayoutModel",
          "model_module_version": "1.2.0",
          "state": {
            "_model_module": "@jupyter-widgets/base",
            "_model_module_version": "1.2.0",
            "_model_name": "LayoutModel",
            "_view_count": null,
            "_view_module": "@jupyter-widgets/base",
            "_view_module_version": "1.2.0",
            "_view_name": "LayoutView",
            "align_content": null,
            "align_items": null,
            "align_self": null,
            "border": null,
            "bottom": null,
            "display": null,
            "flex": null,
            "flex_flow": null,
            "grid_area": null,
            "grid_auto_columns": null,
            "grid_auto_flow": null,
            "grid_auto_rows": null,
            "grid_column": null,
            "grid_gap": null,
            "grid_row": null,
            "grid_template_areas": null,
            "grid_template_columns": null,
            "grid_template_rows": null,
            "height": null,
            "justify_content": null,
            "justify_items": null,
            "left": null,
            "margin": null,
            "max_height": null,
            "max_width": null,
            "min_height": null,
            "min_width": null,
            "object_fit": null,
            "object_position": null,
            "order": null,
            "overflow": null,
            "overflow_x": null,
            "overflow_y": null,
            "padding": null,
            "right": null,
            "top": null,
            "visibility": null,
            "width": null
          }
        },
        "d2a6419e65e745fbaef651a866b5a71d": {
          "model_module": "@jupyter-widgets/controls",
          "model_name": "DescriptionStyleModel",
          "model_module_version": "1.5.0",
          "state": {
            "_model_module": "@jupyter-widgets/controls",
            "_model_module_version": "1.5.0",
            "_model_name": "DescriptionStyleModel",
            "_view_count": null,
            "_view_module": "@jupyter-widgets/base",
            "_view_module_version": "1.2.0",
            "_view_name": "StyleView",
            "description_width": ""
          }
        }
      }
    }
  },
  "nbformat": 4,
  "nbformat_minor": 0
}
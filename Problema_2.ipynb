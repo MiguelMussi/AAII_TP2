{
  "cells": [
    {
      "cell_type": "markdown",
      "metadata": {
        "id": "C8Od_T5GdyjY"
      },
      "source": [
        "# TUIA / AAII - TP2: Redes Recurrentes y Transformers - Problema 2"
      ]
    },
    {
      "cell_type": "markdown",
      "source": [
        "> *Modelo de generación de textos basados en RNN para escribir noticias falsas.*\n"
      ],
      "metadata": {
        "id": "69eHLYkniLlg"
      }
    },
    {
      "cell_type": "markdown",
      "source": [
        "# Procedimientos Previos"
      ],
      "metadata": {
        "id": "3JV-PUS78U96"
      }
    },
    {
      "cell_type": "markdown",
      "metadata": {
        "id": "MXq1dxCRdyjd"
      },
      "source": [
        "## Preparación del entorno"
      ]
    },
    {
      "cell_type": "markdown",
      "metadata": {
        "id": "-CEewbUPdyje"
      },
      "source": [
        "### Librerías"
      ]
    },
    {
      "cell_type": "code",
      "source": [
        "# Data\n",
        "import os\n",
        "import pathlib\n",
        "import numpy as np\n",
        "\n",
        "# Visualizaciones\n",
        "import matplotlib.pyplot as plt\n",
        "import seaborn as sns\n",
        "from IPython import display\n",
        "import plotly.graph_objects as go\n",
        "\n",
        "# ML metrics\n",
        "from sklearn.metrics import mean_squared_error, r2_score, confusion_matrix, accuracy_score, roc_curve, roc_auc_score\n",
        "from sklearn.metrics import classification_report, precision_score, recall_score, f1_score, auc\n",
        "\n",
        "# Redes Neuronales\n",
        "import tensorflow as tf\n",
        "import tensorflow_datasets as tfds\n",
        "from tensorflow.keras import layers, models\n",
        "# from tensorflow.keras.models import Sequential, load_model, save_model\n",
        "# from tensorflow.keras.layers import Dense, Input, Dropout\n",
        "from tensorflow.keras.layers import LSTM\n",
        "\n",
        "# Semillas para reproductibilidad\n",
        "seed = 42\n",
        "tf.random.set_seed(seed)\n",
        "np.random.seed(seed)"
      ],
      "metadata": {
        "id": "ok2KatpQjgdN"
      },
      "execution_count": 1,
      "outputs": []
    },
    {
      "cell_type": "code",
      "source": [
        "import tensorflow as tf\n",
        "import numpy as np\n",
        "import os\n",
        "import time\n",
        "from pathlib import Path\n",
        "import tensorflow_datasets as tfds\n",
        "import matplotlib.pyplot as plt\n",
        "import seaborn as sns\n",
        "import nltk\n",
        "from nltk.tokenize import word_tokenize, sent_tokenize\n",
        "from collections import Counter\n",
        "import string\n",
        "\n",
        "# Descargar recursos de nltk si es necesario\n",
        "nltk.download('punkt')"
      ],
      "metadata": {
        "id": "NrYY8JiYHOb5",
        "outputId": "1c18db42-58a8-4c59-fcdb-2b2b651b0bd2",
        "colab": {
          "base_uri": "https://localhost:8080/"
        }
      },
      "execution_count": 12,
      "outputs": [
        {
          "output_type": "stream",
          "name": "stderr",
          "text": [
            "[nltk_data] Downloading package punkt to /root/nltk_data...\n",
            "[nltk_data]   Unzipping tokenizers/punkt.zip.\n"
          ]
        },
        {
          "output_type": "execute_result",
          "data": {
            "text/plain": [
              "True"
            ]
          },
          "metadata": {},
          "execution_count": 12
        }
      ]
    },
    {
      "cell_type": "markdown",
      "source": [
        "### GPU"
      ],
      "metadata": {
        "id": "tvjTESHY8QXo"
      }
    },
    {
      "cell_type": "code",
      "source": [
        "# Configurar para que TensorFlow utilice la GPU por defecto\n",
        "gpus = tf.config.experimental.list_physical_devices('GPU')\n",
        "if gpus:\n",
        "    try:\n",
        "        # Configurar para que TensorFlow asigne memoria dinámicamente\n",
        "        for gpu in gpus:\n",
        "            tf.config.experimental.set_memory_growth(gpu, True)\n",
        "        # Especificar la GPU por defecto\n",
        "        logical_gpus = tf.config.experimental.list_logical_devices('GPU')\n",
        "        print(len(gpus), \"Physical GPUs,\", len(logical_gpus), \"Logical GPUs\")\n",
        "    except RuntimeError as e:\n",
        "        # Manejar error\n",
        "        print(e)"
      ],
      "metadata": {
        "id": "-LAFKo3Jj5FQ"
      },
      "execution_count": null,
      "outputs": []
    },
    {
      "cell_type": "markdown",
      "metadata": {
        "id": "Ale6vYoxdyjg"
      },
      "source": [
        "## Dataset"
      ]
    },
    {
      "cell_type": "markdown",
      "source": [
        "El dataset proporcionado incluye 120000 artículos correspondientes a 4 categorías distintas. En este caso, la categoría no es relevante, sólo utilizaremos el dataset como un cuerpo de texto para entrenar un modelo recurrente de generación de texto.\n",
        "https://www.tensorflow.org/datasets/catalog/ag_news_subset"
      ],
      "metadata": {
        "id": "QraPRh1ll_zs"
      }
    },
    {
      "cell_type": "markdown",
      "metadata": {
        "id": "7xbm8SZedyjh"
      },
      "source": [
        "### Descarga"
      ]
    },
    {
      "cell_type": "code",
      "source": [
        "# Cargar el dataset ag_news\n",
        "df, info = tfds.load('ag_news_subset', with_info=True, as_supervised=True)"
      ],
      "metadata": {
        "id": "anCLZkLbsdjI"
      },
      "execution_count": 6,
      "outputs": []
    },
    {
      "cell_type": "code",
      "source": [
        "train_ds, val_ds = df['train'], df['test']"
      ],
      "metadata": {
        "id": "902mqOaLGVwG"
      },
      "execution_count": 7,
      "outputs": []
    },
    {
      "cell_type": "markdown",
      "source": [
        "## Análisis Exploratorio"
      ],
      "metadata": {
        "id": "2ZzxHMlymwD3"
      }
    },
    {
      "cell_type": "code",
      "source": [
        "train_ds"
      ],
      "metadata": {
        "id": "S_acfJFhsbaH",
        "outputId": "dd18f7d8-13ac-4956-b981-7dcb0d11ccb2",
        "colab": {
          "base_uri": "https://localhost:8080/"
        }
      },
      "execution_count": 8,
      "outputs": [
        {
          "output_type": "execute_result",
          "data": {
            "text/plain": [
              "<_PrefetchDataset element_spec=(TensorSpec(shape=(), dtype=tf.string, name=None), TensorSpec(shape=(), dtype=tf.int64, name=None))>"
            ]
          },
          "metadata": {},
          "execution_count": 8
        }
      ]
    },
    {
      "cell_type": "markdown",
      "source": [
        "Inspeccionamos el dataset el cual posee los siguientes labels:\n",
        "\n",
        "* 0 = World\n",
        "* 1 = Sports\n",
        "* 2 = Business\n",
        "* 3 = Sci/Tech"
      ],
      "metadata": {
        "id": "KtPkPAKyGol4"
      }
    },
    {
      "cell_type": "code",
      "source": [
        "for example, label in train_ds.take(6):\n",
        "  print('text: ', example.numpy())\n",
        "  print('label: ', label.numpy())"
      ],
      "metadata": {
        "id": "OJAIGI5zGh6S",
        "outputId": "319e5a52-bac1-44fa-c8c1-89d58f7dc9bc",
        "colab": {
          "base_uri": "https://localhost:8080/"
        }
      },
      "execution_count": 9,
      "outputs": [
        {
          "output_type": "stream",
          "name": "stdout",
          "text": [
            "text:  b'AMD #39;s new dual-core Opteron chip is designed mainly for corporate computing applications, including databases, Web services, and financial transactions.'\n",
            "label:  3\n",
            "text:  b'Reuters - Major League Baseball\\\\Monday announced a decision on the appeal filed by Chicago Cubs\\\\pitcher Kerry Wood regarding a suspension stemming from an\\\\incident earlier this season.'\n",
            "label:  1\n",
            "text:  b'President Bush #39;s  quot;revenue-neutral quot; tax reform needs losers to balance its winners, and people claiming the federal deduction for state and local taxes may be in administration planners #39; sights, news reports say.'\n",
            "label:  2\n",
            "text:  b'Britain will run out of leading scientists unless science education is improved, says Professor Colin Pillinger.'\n",
            "label:  3\n",
            "text:  b'London, England (Sports Network) - England midfielder Steven Gerrard injured his groin late in Thursday #39;s training session, but is hopeful he will be ready for Saturday #39;s World Cup qualifier against Austria.'\n",
            "label:  1\n",
            "text:  b'TOKYO - Sony Corp. is banking on the \\\\$3 billion deal to acquire Hollywood studio Metro-Goldwyn-Mayer Inc...'\n",
            "label:  0\n"
          ]
        }
      ]
    },
    {
      "cell_type": "markdown",
      "source": [],
      "metadata": {
        "id": "p2Uk5uhNG2rv"
      }
    },
    {
      "cell_type": "code",
      "source": [
        "# Función para extraer el texto del dataset\n",
        "def extract_text(data):\n",
        "    text = ''\n",
        "    for article, _ in data:\n",
        "        text += article.numpy().decode('utf-8') + ' '\n",
        "    return text\n",
        "\n",
        "# Extraer el texto de los conjuntos de entrenamiento y prueba\n",
        "train_text = extract_text(train_ds)\n",
        "test_text = extract_text(val_ds)\n",
        "\n",
        "# Unir todos los textos en uno solo\n",
        "text = train_text + test_text\n",
        "\n",
        "# Mostrar una muestra del texto\n",
        "print(text[:500])"
      ],
      "metadata": {
        "id": "2qrjLFUaG3Wx",
        "outputId": "60b236a1-1bfc-48e0-dd26-5c2672986df7",
        "colab": {
          "base_uri": "https://localhost:8080/"
        }
      },
      "execution_count": 10,
      "outputs": [
        {
          "output_type": "stream",
          "name": "stdout",
          "text": [
            "AMD #39;s new dual-core Opteron chip is designed mainly for corporate computing applications, including databases, Web services, and financial transactions. Reuters - Major League Baseball\\Monday announced a decision on the appeal filed by Chicago Cubs\\pitcher Kerry Wood regarding a suspension stemming from an\\incident earlier this season. President Bush #39;s  quot;revenue-neutral quot; tax reform needs losers to balance its winners, and people claiming the federal deduction for state and local\n"
          ]
        }
      ]
    },
    {
      "cell_type": "code",
      "source": [
        "# Tokenizar el texto en palabras y oraciones\n",
        "words = word_tokenize(text)\n",
        "sentences = sent_tokenize(text)\n",
        "\n",
        "# Contar palabras y oraciones\n",
        "word_count = len(words)\n",
        "sentence_count = len(sentences)\n",
        "unique_words = len(set(words))\n",
        "\n",
        "print(f'Total de palabras: {word_count}')\n",
        "print(f'Total de oraciones: {sentence_count}')\n",
        "print(f'Palabras únicas: {unique_words}')"
      ],
      "metadata": {
        "id": "92omxJ_eG7gR",
        "outputId": "112bd97b-b26d-441c-ff37-cf4cff455458",
        "colab": {
          "base_uri": "https://localhost:8080/"
        }
      },
      "execution_count": 13,
      "outputs": [
        {
          "output_type": "stream",
          "name": "stdout",
          "text": [
            "Total de palabras: 4576341\n",
            "Total de oraciones: 143487\n",
            "Palabras únicas: 107288\n"
          ]
        }
      ]
    },
    {
      "cell_type": "code",
      "source": [
        "# Frecuencia de palabras\n",
        "word_freq = Counter(words)\n",
        "most_common_words = word_freq.most_common(10)\n",
        "\n",
        "# Frecuencia de caracteres\n",
        "char_freq = Counter(text)\n",
        "most_common_chars = char_freq.most_common(10)\n",
        "\n",
        "# Graficar las palabras más comunes\n",
        "plt.figure(figsize=(12, 6))\n",
        "sns.barplot(x=[word for word, freq in most_common_words], y=[freq for word, freq in most_common_words])\n",
        "plt.title('Top 10 palabras más comunes')\n",
        "plt.show()\n",
        "\n",
        "# Graficar los caracteres más comunes\n",
        "plt.figure(figsize=(12, 6))\n",
        "sns.barplot(x=[char for char, freq in most_common_chars], y=[freq for char, freq in most_common_chars])\n",
        "plt.title('Top 10 caracteres más comunes')\n",
        "plt.show()"
      ],
      "metadata": {
        "id": "pzVtt2xSG-hC"
      },
      "execution_count": null,
      "outputs": []
    },
    {
      "cell_type": "code",
      "source": [
        "# Longitud de las palabras\n",
        "word_lengths = [len(word) for word in words]\n",
        "\n",
        "# Longitud de las oraciones\n",
        "sentence_lengths = [len(sentence.split()) for sentence in sentences]\n",
        "\n",
        "# Graficar la distribución de la longitud de las palabras\n",
        "plt.figure(figsize=(12, 6))\n",
        "sns.histplot(word_lengths, bins=30, kde=True)\n",
        "plt.title('Distribución de la longitud de palabras')\n",
        "plt.xlabel('Longitud de Palabra')\n",
        "plt.ylabel('Frecuencia')\n",
        "plt.show()\n",
        "\n",
        "# Graficar la distribución de la longitud de las oraciones\n",
        "plt.figure(figsize=(12, 6))\n",
        "sns.histplot(sentence_lengths, bins=30, kde=True)\n",
        "plt.title('Distribución de la longitud de oraciones')\n",
        "plt.xlabel('Longitud de Oración')\n",
        "plt.ylabel('Frecuencia')\n",
        "plt.show()"
      ],
      "metadata": {
        "id": "oGnRJwtmHFGo"
      },
      "execution_count": null,
      "outputs": []
    },
    {
      "cell_type": "code",
      "source": [
        "print(f'Length of text: {len(text)} characters')"
      ],
      "metadata": {
        "id": "wgKXzbAfHIff"
      },
      "execution_count": null,
      "outputs": []
    },
    {
      "cell_type": "code",
      "source": [
        "# The unique characters in the file\n",
        "vocab = sorted(set(text))\n",
        "print(f'{len(vocab)} unique characters')"
      ],
      "metadata": {
        "id": "kn6sCVWiL1Uy"
      },
      "execution_count": null,
      "outputs": []
    },
    {
      "cell_type": "code",
      "source": [
        "ids_from_chars = tf.keras.layers.StringLookup(\n",
        "    vocabulary=list(vocab), mask_token=None)"
      ],
      "metadata": {
        "id": "dSWUvEUJL3Eg"
      },
      "execution_count": null,
      "outputs": []
    },
    {
      "cell_type": "code",
      "source": [
        "all_ids = ids_from_chars(tf.strings.unicode_split(text, 'UTF-8'))\n",
        "all_ids"
      ],
      "metadata": {
        "id": "gMDeYac_L-QA"
      },
      "execution_count": null,
      "outputs": []
    },
    {
      "cell_type": "code",
      "source": [
        "ids_dataset = tf.data.Dataset.from_tensor_slices(all_ids)"
      ],
      "metadata": {
        "id": "Egv3nGZ6L-1w"
      },
      "execution_count": null,
      "outputs": []
    },
    {
      "cell_type": "code",
      "source": [
        "chars_from_ids = tf.keras.layers.StringLookup(\n",
        "    vocabulary=ids_from_chars.get_vocabulary(), invert=True, mask_token=None)\n"
      ],
      "metadata": {
        "id": "Ct_awj5GMAjJ"
      },
      "execution_count": null,
      "outputs": []
    },
    {
      "cell_type": "code",
      "source": [
        "for ids in ids_dataset.take(10):\n",
        "    print(chars_from_ids(ids).numpy().decode('utf-8'))"
      ],
      "metadata": {
        "id": "1r-P8_uUMEOO"
      },
      "execution_count": null,
      "outputs": []
    },
    {
      "cell_type": "code",
      "source": [
        "seq_length = 100"
      ],
      "metadata": {
        "id": "SVYVOHZVMF9p"
      },
      "execution_count": null,
      "outputs": []
    },
    {
      "cell_type": "code",
      "source": [
        "sequences = ids_dataset.batch(seq_length+1, drop_remainder=True)\n",
        "\n",
        "for seq in sequences.take(1):\n",
        "  print(chars_from_ids(seq))"
      ],
      "metadata": {
        "id": "-DpYb8buMOpy"
      },
      "execution_count": null,
      "outputs": []
    },
    {
      "cell_type": "code",
      "source": [
        "def text_from_ids(ids):\n",
        "  return tf.strings.reduce_join(chars_from_ids(ids), axis=-1)"
      ],
      "metadata": {
        "id": "34RLqsMnMPdU"
      },
      "execution_count": null,
      "outputs": []
    },
    {
      "cell_type": "code",
      "source": [
        "for seq in sequences.take(5):\n",
        "  print(text_from_ids(seq).numpy())"
      ],
      "metadata": {
        "id": "TfPfDN86MTIY"
      },
      "execution_count": null,
      "outputs": []
    },
    {
      "cell_type": "code",
      "source": [
        "def split_input_target(sequence):\n",
        "    input_text = sequence[:-1]\n",
        "    target_text = sequence[1:]\n",
        "    return input_text, target_text"
      ],
      "metadata": {
        "id": "5QwMlGa0MUif"
      },
      "execution_count": null,
      "outputs": []
    },
    {
      "cell_type": "code",
      "source": [
        "dataset = sequences.map(split_input_target)"
      ],
      "metadata": {
        "id": "SxvDQpKpMVE4"
      },
      "execution_count": null,
      "outputs": []
    },
    {
      "cell_type": "code",
      "source": [
        "for input_example, target_example in dataset.take(1):\n",
        "    print(\"Input :\", text_from_ids(input_example).numpy())\n",
        "    print(\"Target:\", text_from_ids(target_example).numpy())"
      ],
      "metadata": {
        "id": "ZwDKR96aMXYK"
      },
      "execution_count": null,
      "outputs": []
    },
    {
      "cell_type": "code",
      "source": [],
      "metadata": {
        "id": "Lh8NG4DbsYZf"
      },
      "execution_count": null,
      "outputs": []
    },
    {
      "cell_type": "markdown",
      "source": [
        "# RNN / Caracter a caracter"
      ],
      "metadata": {
        "id": "mUMjgxC88EKW"
      }
    },
    {
      "cell_type": "code",
      "source": [
        "# Batch size\n",
        "BATCH_SIZE = 64\n",
        "\n",
        "# Buffer size to shuffle the dataset\n",
        "# (TF data is designed to work with possibly infinite sequences,\n",
        "# so it doesn't attempt to shuffle the entire sequence in memory. Instead,\n",
        "# it maintains a buffer in which it shuffles elements).\n",
        "BUFFER_SIZE = 10000\n",
        "\n",
        "dataset = (\n",
        "    dataset\n",
        "    .shuffle(BUFFER_SIZE)\n",
        "    .batch(BATCH_SIZE, drop_remainder=True)\n",
        "    .prefetch(tf.data.experimental.AUTOTUNE))\n",
        "\n",
        "dataset"
      ],
      "metadata": {
        "id": "8I2elcK-MtEx"
      },
      "execution_count": null,
      "outputs": []
    },
    {
      "cell_type": "code",
      "source": [
        "# Length of the vocabulary in StringLookup Layer\n",
        "vocab_size = len(ids_from_chars.get_vocabulary())\n",
        "\n",
        "# The embedding dimension\n",
        "embedding_dim = 256\n",
        "\n",
        "# Number of RNN units\n",
        "rnn_units = 1024"
      ],
      "metadata": {
        "id": "8EHKJMnsM9qA"
      },
      "execution_count": null,
      "outputs": []
    },
    {
      "cell_type": "markdown",
      "source": [
        "## Modelo"
      ],
      "metadata": {
        "id": "O8vNkXQ8DchT"
      }
    },
    {
      "cell_type": "markdown",
      "source": [
        "### Definición y entrenamiento"
      ],
      "metadata": {
        "id": "EgUQ53iykPc_"
      }
    },
    {
      "cell_type": "code",
      "source": [
        "# Definición del Modelo\n",
        "class MyModel(tf.keras.Model):\n",
        "  def __init__(self, vocab_size, embedding_dim, rnn_units):\n",
        "    super().__init__(self)\n",
        "    self.embedding = tf.keras.layers.Embedding(vocab_size, embedding_dim)\n",
        "    self.gru = tf.keras.layers.GRU(rnn_units,\n",
        "                                   return_sequences=True,\n",
        "                                   return_state=True)\n",
        "    self.dense = tf.keras.layers.Dense(vocab_size)\n",
        "\n",
        "  def call(self, inputs, states=None, return_state=False, training=False):\n",
        "    x = inputs\n",
        "    x = self.embedding(x, training=training)\n",
        "    if states is None:\n",
        "      states = self.gru.get_initial_state(x)\n",
        "    x, states = self.gru(x, initial_state=states, training=training)\n",
        "    x = self.dense(x, training=training)\n",
        "\n",
        "    if return_state:\n",
        "      return x, states\n",
        "    else:\n",
        "      return x"
      ],
      "metadata": {
        "id": "Z_BxJWNvHJDX"
      },
      "execution_count": null,
      "outputs": []
    },
    {
      "cell_type": "code",
      "source": [
        "model = MyModel(\n",
        "    vocab_size=vocab_size,\n",
        "    embedding_dim=embedding_dim,\n",
        "    rnn_units=rnn_units)"
      ],
      "metadata": {
        "id": "B43A2whYNEZN"
      },
      "execution_count": null,
      "outputs": []
    },
    {
      "cell_type": "code",
      "source": [
        "for input_example_batch, target_example_batch in dataset.take(1):\n",
        "    example_batch_predictions = model(input_example_batch)\n",
        "    print(example_batch_predictions.shape, \"# (batch_size, sequence_length, vocab_size)\")"
      ],
      "metadata": {
        "id": "JEch-f_hNGMM"
      },
      "execution_count": null,
      "outputs": []
    },
    {
      "cell_type": "code",
      "source": [
        "model.summary()"
      ],
      "metadata": {
        "id": "1i1HTqoFNHwc"
      },
      "execution_count": null,
      "outputs": []
    },
    {
      "cell_type": "code",
      "source": [
        "sampled_indices = tf.random.categorical(example_batch_predictions[0], num_samples=1)\n",
        "sampled_indices = tf.squeeze(sampled_indices, axis=-1).numpy()"
      ],
      "metadata": {
        "id": "peLt04TlNKb4"
      },
      "execution_count": null,
      "outputs": []
    },
    {
      "cell_type": "code",
      "source": [
        "sampled_indices"
      ],
      "metadata": {
        "id": "EgTtzt_9NNxo"
      },
      "execution_count": null,
      "outputs": []
    },
    {
      "cell_type": "code",
      "source": [
        "print(\"Input:\\n\", text_from_ids(input_example_batch[0]).numpy())\n",
        "print()\n",
        "print(\"Next Char Predictions:\\n\", text_from_ids(sampled_indices).numpy())"
      ],
      "metadata": {
        "id": "w2FSrecbNPS5"
      },
      "execution_count": null,
      "outputs": []
    },
    {
      "cell_type": "markdown",
      "source": [
        "Este modelo consiste en una capa de entrada seguida de dos capas ocultas, cada una con 16 neuronas y activadas por la función ReLU, con una capa de dropout entre ellas para regularización, y una capa de salida con una sola neurona y activación sigmoide. Este tipo de arquitectura es comúnmente utilizada en problemas de clasificación binaria."
      ],
      "metadata": {
        "id": "BhgW2XpwVZa5"
      }
    },
    {
      "cell_type": "markdown",
      "source": [
        "### Entrenamiento"
      ],
      "metadata": {
        "id": "4NbDUPtoNVb5"
      }
    },
    {
      "cell_type": "code",
      "source": [
        "loss = tf.losses.SparseCategoricalCrossentropy(from_logits=True)"
      ],
      "metadata": {
        "id": "PrzCdcLrNY3U"
      },
      "execution_count": null,
      "outputs": []
    },
    {
      "cell_type": "code",
      "source": [
        "example_batch_mean_loss = loss(target_example_batch, example_batch_predictions)\n",
        "print(\"Prediction shape: \", example_batch_predictions.shape, \" # (batch_size, sequence_length, vocab_size)\")\n",
        "print(\"Mean loss:        \", example_batch_mean_loss)"
      ],
      "metadata": {
        "id": "gnWksux-Na15"
      },
      "execution_count": null,
      "outputs": []
    },
    {
      "cell_type": "code",
      "source": [
        "tf.exp(example_batch_mean_loss).numpy()"
      ],
      "metadata": {
        "id": "sIrgNcYXNcWI"
      },
      "execution_count": null,
      "outputs": []
    },
    {
      "cell_type": "code",
      "source": [
        "model.compile(optimizer='adam', loss=loss)"
      ],
      "metadata": {
        "id": "mw2P8MFgNdwR"
      },
      "execution_count": null,
      "outputs": []
    },
    {
      "cell_type": "code",
      "source": [
        "# Directory where the checkpoints will be saved\n",
        "checkpoint_dir = './training_checkpoints'\n",
        "# Name of the checkpoint files\n",
        "checkpoint_prefix = os.path.join(checkpoint_dir, \"ckpt_{epoch}\")\n",
        "\n",
        "checkpoint_callback = tf.keras.callbacks.ModelCheckpoint(\n",
        "    filepath=checkpoint_prefix,\n",
        "    save_weights_only=True)"
      ],
      "metadata": {
        "id": "kt4thBY1Nly5"
      },
      "execution_count": null,
      "outputs": []
    },
    {
      "cell_type": "code",
      "source": [
        "EPOCHS = 20"
      ],
      "metadata": {
        "id": "ZuLCQewyNnbc"
      },
      "execution_count": null,
      "outputs": []
    },
    {
      "cell_type": "code",
      "source": [
        "history = model.fit(dataset, epochs=EPOCHS, callbacks=[checkpoint_callback])"
      ],
      "metadata": {
        "id": "rjQvD1_iNnr4"
      },
      "execution_count": null,
      "outputs": []
    },
    {
      "cell_type": "code",
      "source": [
        "class OneStep(tf.keras.Model):\n",
        "  def __init__(self, model, chars_from_ids, ids_from_chars, temperature=1.0):\n",
        "    super().__init__()\n",
        "    self.temperature = temperature\n",
        "    self.model = model\n",
        "    self.chars_from_ids = chars_from_ids\n",
        "    self.ids_from_chars = ids_from_chars\n",
        "\n",
        "    # Create a mask to prevent \"[UNK]\" from being generated.\n",
        "    skip_ids = self.ids_from_chars(['[UNK]'])[:, None]\n",
        "    sparse_mask = tf.SparseTensor(\n",
        "        # Put a -inf at each bad index.\n",
        "        values=[-float('inf')]*len(skip_ids),\n",
        "        indices=skip_ids,\n",
        "        # Match the shape to the vocabulary\n",
        "        dense_shape=[len(ids_from_chars.get_vocabulary())])\n",
        "    self.prediction_mask = tf.sparse.to_dense(sparse_mask)\n",
        "\n",
        "  @tf.function\n",
        "  def generate_one_step(self, inputs, states=None):\n",
        "    # Convert strings to token IDs.\n",
        "    input_chars = tf.strings.unicode_split(inputs, 'UTF-8')\n",
        "    input_ids = self.ids_from_chars(input_chars).to_tensor()\n",
        "\n",
        "    # Run the model.\n",
        "    # predicted_logits.shape is [batch, char, next_char_logits]\n",
        "    predicted_logits, states = self.model(inputs=input_ids, states=states,\n",
        "                                          return_state=True)\n",
        "    # Only use the last prediction.\n",
        "    predicted_logits = predicted_logits[:, -1, :]\n",
        "    predicted_logits = predicted_logits/self.temperature\n",
        "    # Apply the prediction mask: prevent \"[UNK]\" from being generated.\n",
        "    predicted_logits = predicted_logits + self.prediction_mask\n",
        "\n",
        "    # Sample the output logits to generate token IDs.\n",
        "    predicted_ids = tf.random.categorical(predicted_logits, num_samples=1)\n",
        "    predicted_ids = tf.squeeze(predicted_ids, axis=-1)\n",
        "\n",
        "    # Convert from token ids to characters\n",
        "    predicted_chars = self.chars_from_ids(predicted_ids)\n",
        "\n",
        "    # Return the characters and model state.\n",
        "    return predicted_chars, states"
      ],
      "metadata": {
        "id": "p7VV7576NrWh"
      },
      "execution_count": null,
      "outputs": []
    },
    {
      "cell_type": "code",
      "source": [
        "one_step_model = OneStep(model, chars_from_ids, ids_from_chars)"
      ],
      "metadata": {
        "id": "aAEoZPB2NrPb"
      },
      "execution_count": null,
      "outputs": []
    },
    {
      "cell_type": "code",
      "source": [
        "start = time.time()\n",
        "states = None\n",
        "next_char = tf.constant(['chicago'])\n",
        "result = [next_char]\n",
        "\n",
        "for n in range(1000):\n",
        "  next_char, states = one_step_model.generate_one_step(next_char, states=states)\n",
        "  result.append(next_char)\n",
        "\n",
        "result = tf.strings.join(result)\n",
        "end = time.time()\n",
        "print(result[0].numpy().decode('utf-8'), '\\n\\n' + '_'*80)\n",
        "print('\\nRun time:', end - start)"
      ],
      "metadata": {
        "id": "6GwnXewvNrIi"
      },
      "execution_count": null,
      "outputs": []
    },
    {
      "cell_type": "code",
      "source": [
        "start = time.time()\n",
        "states = None\n",
        "next_char = tf.constant(['The Argentina', 'The Argentina', 'The Argentina', 'The Argentina', 'The Argentina'])\n",
        "result = [next_char]\n",
        "\n",
        "for n in range(1000):\n",
        "  next_char, states = one_step_model.generate_one_step(next_char, states=states)\n",
        "  result.append(next_char)\n",
        "\n",
        "result = tf.strings.join(result)\n",
        "end = time.time()\n",
        "print(result, '\\n\\n' + '_'*80)\n",
        "print('\\nRun time:', end - start)"
      ],
      "metadata": {
        "id": "RJvwskHuNq-r"
      },
      "execution_count": null,
      "outputs": []
    },
    {
      "cell_type": "code",
      "source": [],
      "metadata": {
        "id": "cAy4EEaxN5jJ"
      },
      "execution_count": null,
      "outputs": []
    },
    {
      "cell_type": "code",
      "source": [],
      "metadata": {
        "id": "5CrowaxQN5Yr"
      },
      "execution_count": null,
      "outputs": []
    },
    {
      "cell_type": "code",
      "source": [
        "# Entrenamiento\n",
        "print(\"Inicio del Entrenamiento\\n-------------------------\")\n",
        "model.compile(optimizer='adam', loss='binary_crossentropy', metrics=['accuracy'])\n",
        "history = model.fit(X_train, y_train, epochs=200, batch_size=64, validation_split=0.2, verbose=1)\n",
        "print(\"-------------------------\\nFin del Entrenamiento\")"
      ],
      "metadata": {
        "colab": {
          "base_uri": "https://localhost:8080/"
        },
        "id": "OacVOTuQIEUj",
        "outputId": "fee070c3-17b5-4d48-ab14-aaa320c51ab6"
      },
      "execution_count": null,
      "outputs": [
        {
          "output_type": "stream",
          "name": "stdout",
          "text": [
            "Inicio del Entrenamiento\n",
            "Epoch 1/200\n",
            "8/8 [==============================] - 1s 43ms/step - loss: 0.7094 - accuracy: 0.3564 - val_loss: 0.6994 - val_accuracy: 0.3659\n",
            "Epoch 2/200\n",
            "8/8 [==============================] - 0s 8ms/step - loss: 0.7041 - accuracy: 0.3829 - val_loss: 0.6951 - val_accuracy: 0.3740\n",
            "Epoch 3/200\n",
            "8/8 [==============================] - 0s 10ms/step - loss: 0.6993 - accuracy: 0.3910 - val_loss: 0.6915 - val_accuracy: 0.5366\n",
            "Epoch 4/200\n",
            "8/8 [==============================] - 0s 8ms/step - loss: 0.6936 - accuracy: 0.4990 - val_loss: 0.6891 - val_accuracy: 0.6585\n",
            "Epoch 5/200\n",
            "8/8 [==============================] - 0s 11ms/step - loss: 0.6926 - accuracy: 0.6069 - val_loss: 0.6879 - val_accuracy: 0.6748\n",
            "Epoch 6/200\n",
            "8/8 [==============================] - 0s 10ms/step - loss: 0.6893 - accuracy: 0.6253 - val_loss: 0.6867 - val_accuracy: 0.6423\n",
            "Epoch 7/200\n",
            "8/8 [==============================] - 0s 11ms/step - loss: 0.6866 - accuracy: 0.6456 - val_loss: 0.6857 - val_accuracy: 0.6504\n",
            "Epoch 8/200\n",
            "8/8 [==============================] - 0s 9ms/step - loss: 0.6858 - accuracy: 0.6477 - val_loss: 0.6848 - val_accuracy: 0.6423\n",
            "Epoch 9/200\n",
            "8/8 [==============================] - 0s 8ms/step - loss: 0.6839 - accuracy: 0.6538 - val_loss: 0.6840 - val_accuracy: 0.6341\n",
            "Epoch 10/200\n",
            "8/8 [==============================] - 0s 11ms/step - loss: 0.6824 - accuracy: 0.6680 - val_loss: 0.6831 - val_accuracy: 0.6341\n",
            "Epoch 11/200\n",
            "8/8 [==============================] - 0s 9ms/step - loss: 0.6792 - accuracy: 0.6680 - val_loss: 0.6819 - val_accuracy: 0.6341\n",
            "Epoch 12/200\n",
            "8/8 [==============================] - 0s 11ms/step - loss: 0.6774 - accuracy: 0.6721 - val_loss: 0.6796 - val_accuracy: 0.6341\n",
            "Epoch 13/200\n",
            "8/8 [==============================] - 0s 10ms/step - loss: 0.6753 - accuracy: 0.6660 - val_loss: 0.6754 - val_accuracy: 0.6341\n",
            "Epoch 14/200\n",
            "8/8 [==============================] - 0s 9ms/step - loss: 0.6681 - accuracy: 0.6660 - val_loss: 0.6702 - val_accuracy: 0.6341\n",
            "Epoch 15/200\n",
            "8/8 [==============================] - 0s 10ms/step - loss: 0.6617 - accuracy: 0.6619 - val_loss: 0.6662 - val_accuracy: 0.6341\n",
            "Epoch 16/200\n",
            "8/8 [==============================] - 0s 9ms/step - loss: 0.6557 - accuracy: 0.6640 - val_loss: 0.6634 - val_accuracy: 0.6341\n",
            "Epoch 17/200\n",
            "8/8 [==============================] - 0s 9ms/step - loss: 0.6609 - accuracy: 0.6640 - val_loss: 0.6615 - val_accuracy: 0.6341\n",
            "Epoch 18/200\n",
            "8/8 [==============================] - 0s 8ms/step - loss: 0.6564 - accuracy: 0.6619 - val_loss: 0.6599 - val_accuracy: 0.6341\n",
            "Epoch 19/200\n",
            "8/8 [==============================] - 0s 8ms/step - loss: 0.6463 - accuracy: 0.6660 - val_loss: 0.6585 - val_accuracy: 0.6341\n",
            "Epoch 20/200\n",
            "8/8 [==============================] - 0s 11ms/step - loss: 0.6520 - accuracy: 0.6640 - val_loss: 0.6575 - val_accuracy: 0.6341\n",
            "Epoch 21/200\n",
            "8/8 [==============================] - 0s 11ms/step - loss: 0.6414 - accuracy: 0.6619 - val_loss: 0.6561 - val_accuracy: 0.6341\n",
            "Epoch 22/200\n",
            "8/8 [==============================] - 0s 9ms/step - loss: 0.6474 - accuracy: 0.6640 - val_loss: 0.6544 - val_accuracy: 0.6341\n",
            "Epoch 23/200\n",
            "8/8 [==============================] - 0s 10ms/step - loss: 0.6433 - accuracy: 0.6701 - val_loss: 0.6531 - val_accuracy: 0.6341\n",
            "Epoch 24/200\n",
            "8/8 [==============================] - 0s 8ms/step - loss: 0.6441 - accuracy: 0.6660 - val_loss: 0.6514 - val_accuracy: 0.6341\n",
            "Epoch 25/200\n",
            "8/8 [==============================] - 0s 10ms/step - loss: 0.6455 - accuracy: 0.6660 - val_loss: 0.6498 - val_accuracy: 0.6341\n",
            "Epoch 26/200\n",
            "8/8 [==============================] - 0s 10ms/step - loss: 0.6427 - accuracy: 0.6640 - val_loss: 0.6478 - val_accuracy: 0.6341\n",
            "Epoch 27/200\n",
            "8/8 [==============================] - 0s 9ms/step - loss: 0.6391 - accuracy: 0.6660 - val_loss: 0.6458 - val_accuracy: 0.6341\n",
            "Epoch 28/200\n",
            "8/8 [==============================] - 0s 8ms/step - loss: 0.6278 - accuracy: 0.6701 - val_loss: 0.6440 - val_accuracy: 0.6341\n",
            "Epoch 29/200\n",
            "8/8 [==============================] - 0s 8ms/step - loss: 0.6328 - accuracy: 0.6660 - val_loss: 0.6427 - val_accuracy: 0.6341\n",
            "Epoch 30/200\n",
            "8/8 [==============================] - 0s 10ms/step - loss: 0.6298 - accuracy: 0.6741 - val_loss: 0.6403 - val_accuracy: 0.6341\n",
            "Epoch 31/200\n",
            "8/8 [==============================] - 0s 10ms/step - loss: 0.6313 - accuracy: 0.6680 - val_loss: 0.6375 - val_accuracy: 0.6341\n",
            "Epoch 32/200\n",
            "8/8 [==============================] - 0s 8ms/step - loss: 0.6307 - accuracy: 0.6762 - val_loss: 0.6346 - val_accuracy: 0.6341\n",
            "Epoch 33/200\n",
            "8/8 [==============================] - 0s 8ms/step - loss: 0.6263 - accuracy: 0.6762 - val_loss: 0.6317 - val_accuracy: 0.6341\n",
            "Epoch 34/200\n",
            "8/8 [==============================] - 0s 10ms/step - loss: 0.6324 - accuracy: 0.6680 - val_loss: 0.6298 - val_accuracy: 0.6341\n",
            "Epoch 35/200\n",
            "8/8 [==============================] - 0s 10ms/step - loss: 0.6343 - accuracy: 0.6721 - val_loss: 0.6278 - val_accuracy: 0.6341\n",
            "Epoch 36/200\n",
            "8/8 [==============================] - 0s 8ms/step - loss: 0.6203 - accuracy: 0.6843 - val_loss: 0.6250 - val_accuracy: 0.6341\n",
            "Epoch 37/200\n",
            "8/8 [==============================] - 0s 10ms/step - loss: 0.6270 - accuracy: 0.6619 - val_loss: 0.6226 - val_accuracy: 0.6341\n",
            "Epoch 38/200\n",
            "8/8 [==============================] - 0s 8ms/step - loss: 0.6211 - accuracy: 0.6864 - val_loss: 0.6190 - val_accuracy: 0.6423\n",
            "Epoch 39/200\n",
            "8/8 [==============================] - 0s 12ms/step - loss: 0.6209 - accuracy: 0.6823 - val_loss: 0.6182 - val_accuracy: 0.6423\n",
            "Epoch 40/200\n",
            "8/8 [==============================] - 0s 11ms/step - loss: 0.6178 - accuracy: 0.6864 - val_loss: 0.6135 - val_accuracy: 0.6667\n",
            "Epoch 41/200\n",
            "8/8 [==============================] - 0s 10ms/step - loss: 0.6104 - accuracy: 0.6986 - val_loss: 0.6100 - val_accuracy: 0.6667\n",
            "Epoch 42/200\n",
            "8/8 [==============================] - 0s 10ms/step - loss: 0.6133 - accuracy: 0.6823 - val_loss: 0.6078 - val_accuracy: 0.6829\n",
            "Epoch 43/200\n",
            "8/8 [==============================] - 0s 8ms/step - loss: 0.6097 - accuracy: 0.6802 - val_loss: 0.6047 - val_accuracy: 0.6992\n",
            "Epoch 44/200\n",
            "8/8 [==============================] - 0s 8ms/step - loss: 0.6087 - accuracy: 0.6965 - val_loss: 0.6027 - val_accuracy: 0.7073\n",
            "Epoch 45/200\n",
            "8/8 [==============================] - 0s 8ms/step - loss: 0.5986 - accuracy: 0.6986 - val_loss: 0.5988 - val_accuracy: 0.6992\n",
            "Epoch 46/200\n",
            "8/8 [==============================] - 0s 9ms/step - loss: 0.5977 - accuracy: 0.7088 - val_loss: 0.5949 - val_accuracy: 0.7073\n",
            "Epoch 47/200\n",
            "8/8 [==============================] - 0s 11ms/step - loss: 0.5927 - accuracy: 0.7067 - val_loss: 0.5921 - val_accuracy: 0.7073\n",
            "Epoch 48/200\n",
            "8/8 [==============================] - 0s 8ms/step - loss: 0.6049 - accuracy: 0.7088 - val_loss: 0.5880 - val_accuracy: 0.7154\n",
            "Epoch 49/200\n",
            "8/8 [==============================] - 0s 14ms/step - loss: 0.5989 - accuracy: 0.7189 - val_loss: 0.5835 - val_accuracy: 0.7317\n",
            "Epoch 50/200\n",
            "8/8 [==============================] - 0s 12ms/step - loss: 0.5928 - accuracy: 0.6945 - val_loss: 0.5810 - val_accuracy: 0.7236\n",
            "Epoch 51/200\n",
            "8/8 [==============================] - 0s 15ms/step - loss: 0.6048 - accuracy: 0.6802 - val_loss: 0.5786 - val_accuracy: 0.7317\n",
            "Epoch 52/200\n",
            "8/8 [==============================] - 0s 14ms/step - loss: 0.5935 - accuracy: 0.6945 - val_loss: 0.5794 - val_accuracy: 0.7073\n",
            "Epoch 53/200\n",
            "8/8 [==============================] - 0s 12ms/step - loss: 0.5787 - accuracy: 0.7128 - val_loss: 0.5759 - val_accuracy: 0.7236\n",
            "Epoch 54/200\n",
            "8/8 [==============================] - 0s 11ms/step - loss: 0.5784 - accuracy: 0.7169 - val_loss: 0.5695 - val_accuracy: 0.7480\n",
            "Epoch 55/200\n",
            "8/8 [==============================] - 0s 13ms/step - loss: 0.5772 - accuracy: 0.6884 - val_loss: 0.5680 - val_accuracy: 0.7480\n",
            "Epoch 56/200\n",
            "8/8 [==============================] - 0s 16ms/step - loss: 0.5752 - accuracy: 0.7230 - val_loss: 0.5613 - val_accuracy: 0.7480\n",
            "Epoch 57/200\n",
            "8/8 [==============================] - 0s 11ms/step - loss: 0.5658 - accuracy: 0.7413 - val_loss: 0.5556 - val_accuracy: 0.7480\n",
            "Epoch 58/200\n",
            "8/8 [==============================] - 0s 11ms/step - loss: 0.5800 - accuracy: 0.7026 - val_loss: 0.5561 - val_accuracy: 0.7561\n",
            "Epoch 59/200\n",
            "8/8 [==============================] - 0s 13ms/step - loss: 0.5667 - accuracy: 0.7149 - val_loss: 0.5531 - val_accuracy: 0.7561\n",
            "Epoch 60/200\n",
            "8/8 [==============================] - 0s 13ms/step - loss: 0.5640 - accuracy: 0.7189 - val_loss: 0.5511 - val_accuracy: 0.7561\n",
            "Epoch 61/200\n",
            "8/8 [==============================] - 0s 15ms/step - loss: 0.5670 - accuracy: 0.7332 - val_loss: 0.5487 - val_accuracy: 0.7561\n",
            "Epoch 62/200\n",
            "8/8 [==============================] - 0s 13ms/step - loss: 0.5662 - accuracy: 0.7108 - val_loss: 0.5454 - val_accuracy: 0.7561\n",
            "Epoch 63/200\n",
            "8/8 [==============================] - 0s 11ms/step - loss: 0.5625 - accuracy: 0.7189 - val_loss: 0.5403 - val_accuracy: 0.7561\n",
            "Epoch 64/200\n",
            "8/8 [==============================] - 0s 13ms/step - loss: 0.5659 - accuracy: 0.7230 - val_loss: 0.5406 - val_accuracy: 0.7561\n",
            "Epoch 65/200\n",
            "8/8 [==============================] - 0s 14ms/step - loss: 0.5546 - accuracy: 0.7312 - val_loss: 0.5333 - val_accuracy: 0.7561\n",
            "Epoch 66/200\n",
            "8/8 [==============================] - 0s 14ms/step - loss: 0.5492 - accuracy: 0.7393 - val_loss: 0.5303 - val_accuracy: 0.7642\n",
            "Epoch 67/200\n",
            "8/8 [==============================] - 0s 12ms/step - loss: 0.5486 - accuracy: 0.7413 - val_loss: 0.5277 - val_accuracy: 0.7724\n",
            "Epoch 68/200\n",
            "8/8 [==============================] - 0s 13ms/step - loss: 0.5551 - accuracy: 0.7251 - val_loss: 0.5278 - val_accuracy: 0.7561\n",
            "Epoch 69/200\n",
            "8/8 [==============================] - 0s 12ms/step - loss: 0.5527 - accuracy: 0.7271 - val_loss: 0.5232 - val_accuracy: 0.7642\n",
            "Epoch 70/200\n",
            "8/8 [==============================] - 0s 14ms/step - loss: 0.5510 - accuracy: 0.7373 - val_loss: 0.5234 - val_accuracy: 0.7642\n",
            "Epoch 71/200\n",
            "8/8 [==============================] - 0s 15ms/step - loss: 0.5453 - accuracy: 0.7189 - val_loss: 0.5277 - val_accuracy: 0.7642\n",
            "Epoch 72/200\n",
            "8/8 [==============================] - 0s 15ms/step - loss: 0.5430 - accuracy: 0.7169 - val_loss: 0.5186 - val_accuracy: 0.7805\n",
            "Epoch 73/200\n",
            "8/8 [==============================] - 0s 14ms/step - loss: 0.5505 - accuracy: 0.7475 - val_loss: 0.5160 - val_accuracy: 0.7724\n",
            "Epoch 74/200\n",
            "8/8 [==============================] - 0s 13ms/step - loss: 0.5434 - accuracy: 0.7332 - val_loss: 0.5189 - val_accuracy: 0.7642\n",
            "Epoch 75/200\n",
            "8/8 [==============================] - 0s 15ms/step - loss: 0.5522 - accuracy: 0.7210 - val_loss: 0.5199 - val_accuracy: 0.7642\n",
            "Epoch 76/200\n",
            "8/8 [==============================] - 0s 10ms/step - loss: 0.5464 - accuracy: 0.7434 - val_loss: 0.5151 - val_accuracy: 0.7805\n",
            "Epoch 77/200\n",
            "8/8 [==============================] - 0s 10ms/step - loss: 0.5431 - accuracy: 0.7210 - val_loss: 0.5145 - val_accuracy: 0.7642\n",
            "Epoch 78/200\n",
            "8/8 [==============================] - 0s 10ms/step - loss: 0.5477 - accuracy: 0.7271 - val_loss: 0.5122 - val_accuracy: 0.7724\n",
            "Epoch 79/200\n",
            "8/8 [==============================] - 0s 8ms/step - loss: 0.5423 - accuracy: 0.7475 - val_loss: 0.5119 - val_accuracy: 0.7724\n",
            "Epoch 80/200\n",
            "8/8 [==============================] - 0s 8ms/step - loss: 0.5397 - accuracy: 0.7413 - val_loss: 0.5132 - val_accuracy: 0.7642\n",
            "Epoch 81/200\n",
            "8/8 [==============================] - 0s 8ms/step - loss: 0.5428 - accuracy: 0.7332 - val_loss: 0.5100 - val_accuracy: 0.7805\n",
            "Epoch 82/200\n",
            "8/8 [==============================] - 0s 11ms/step - loss: 0.5455 - accuracy: 0.7189 - val_loss: 0.5067 - val_accuracy: 0.7805\n",
            "Epoch 83/200\n",
            "8/8 [==============================] - 0s 10ms/step - loss: 0.5311 - accuracy: 0.7454 - val_loss: 0.5065 - val_accuracy: 0.7805\n",
            "Epoch 84/200\n",
            "8/8 [==============================] - 0s 8ms/step - loss: 0.5298 - accuracy: 0.7393 - val_loss: 0.5067 - val_accuracy: 0.7724\n",
            "Epoch 85/200\n",
            "8/8 [==============================] - 0s 9ms/step - loss: 0.5191 - accuracy: 0.7515 - val_loss: 0.5024 - val_accuracy: 0.7805\n",
            "Epoch 86/200\n",
            "8/8 [==============================] - 0s 10ms/step - loss: 0.5329 - accuracy: 0.7576 - val_loss: 0.5020 - val_accuracy: 0.7805\n",
            "Epoch 87/200\n",
            "8/8 [==============================] - 0s 11ms/step - loss: 0.5304 - accuracy: 0.7617 - val_loss: 0.5027 - val_accuracy: 0.7805\n",
            "Epoch 88/200\n",
            "8/8 [==============================] - 0s 10ms/step - loss: 0.5150 - accuracy: 0.7393 - val_loss: 0.4986 - val_accuracy: 0.7886\n",
            "Epoch 89/200\n",
            "8/8 [==============================] - 0s 10ms/step - loss: 0.5287 - accuracy: 0.7556 - val_loss: 0.5017 - val_accuracy: 0.7724\n",
            "Epoch 90/200\n",
            "8/8 [==============================] - 0s 9ms/step - loss: 0.5327 - accuracy: 0.7352 - val_loss: 0.4958 - val_accuracy: 0.7886\n",
            "Epoch 91/200\n",
            "8/8 [==============================] - 0s 11ms/step - loss: 0.5232 - accuracy: 0.7495 - val_loss: 0.4986 - val_accuracy: 0.7724\n",
            "Epoch 92/200\n",
            "8/8 [==============================] - 0s 10ms/step - loss: 0.5279 - accuracy: 0.7251 - val_loss: 0.4986 - val_accuracy: 0.7805\n",
            "Epoch 93/200\n",
            "8/8 [==============================] - 0s 11ms/step - loss: 0.5219 - accuracy: 0.7332 - val_loss: 0.4957 - val_accuracy: 0.7886\n",
            "Epoch 94/200\n",
            "8/8 [==============================] - 0s 9ms/step - loss: 0.5436 - accuracy: 0.7332 - val_loss: 0.4951 - val_accuracy: 0.7886\n",
            "Epoch 95/200\n",
            "8/8 [==============================] - 0s 10ms/step - loss: 0.5326 - accuracy: 0.7454 - val_loss: 0.4996 - val_accuracy: 0.7805\n",
            "Epoch 96/200\n",
            "8/8 [==============================] - 0s 11ms/step - loss: 0.5422 - accuracy: 0.7210 - val_loss: 0.4966 - val_accuracy: 0.7967\n",
            "Epoch 97/200\n",
            "8/8 [==============================] - 0s 8ms/step - loss: 0.5219 - accuracy: 0.7434 - val_loss: 0.4924 - val_accuracy: 0.7967\n",
            "Epoch 98/200\n",
            "8/8 [==============================] - 0s 10ms/step - loss: 0.5108 - accuracy: 0.7699 - val_loss: 0.4914 - val_accuracy: 0.7967\n",
            "Epoch 99/200\n",
            "8/8 [==============================] - 0s 11ms/step - loss: 0.5111 - accuracy: 0.7434 - val_loss: 0.4890 - val_accuracy: 0.7967\n",
            "Epoch 100/200\n",
            "8/8 [==============================] - 0s 7ms/step - loss: 0.5219 - accuracy: 0.7515 - val_loss: 0.4886 - val_accuracy: 0.7967\n",
            "Epoch 101/200\n",
            "8/8 [==============================] - 0s 8ms/step - loss: 0.5411 - accuracy: 0.7413 - val_loss: 0.4904 - val_accuracy: 0.7967\n",
            "Epoch 102/200\n",
            "8/8 [==============================] - 0s 8ms/step - loss: 0.5329 - accuracy: 0.7047 - val_loss: 0.4967 - val_accuracy: 0.7724\n",
            "Epoch 103/200\n",
            "8/8 [==============================] - 0s 7ms/step - loss: 0.5347 - accuracy: 0.7291 - val_loss: 0.4924 - val_accuracy: 0.8049\n",
            "Epoch 104/200\n",
            "8/8 [==============================] - 0s 8ms/step - loss: 0.5288 - accuracy: 0.7251 - val_loss: 0.4891 - val_accuracy: 0.7967\n",
            "Epoch 105/200\n",
            "8/8 [==============================] - 0s 8ms/step - loss: 0.5148 - accuracy: 0.7495 - val_loss: 0.4903 - val_accuracy: 0.7967\n",
            "Epoch 106/200\n",
            "8/8 [==============================] - 0s 8ms/step - loss: 0.5366 - accuracy: 0.7434 - val_loss: 0.4908 - val_accuracy: 0.8049\n",
            "Epoch 107/200\n",
            "8/8 [==============================] - 0s 10ms/step - loss: 0.5228 - accuracy: 0.7556 - val_loss: 0.4862 - val_accuracy: 0.7967\n",
            "Epoch 108/200\n",
            "8/8 [==============================] - 0s 8ms/step - loss: 0.5277 - accuracy: 0.7434 - val_loss: 0.4881 - val_accuracy: 0.7967\n",
            "Epoch 109/200\n",
            "8/8 [==============================] - 0s 12ms/step - loss: 0.5066 - accuracy: 0.7495 - val_loss: 0.4908 - val_accuracy: 0.8049\n",
            "Epoch 110/200\n",
            "8/8 [==============================] - 0s 10ms/step - loss: 0.5184 - accuracy: 0.7637 - val_loss: 0.4886 - val_accuracy: 0.7967\n",
            "Epoch 111/200\n",
            "8/8 [==============================] - 0s 10ms/step - loss: 0.5318 - accuracy: 0.7352 - val_loss: 0.4880 - val_accuracy: 0.7967\n",
            "Epoch 112/200\n",
            "8/8 [==============================] - 0s 8ms/step - loss: 0.5227 - accuracy: 0.7393 - val_loss: 0.4884 - val_accuracy: 0.7967\n",
            "Epoch 113/200\n",
            "8/8 [==============================] - 0s 9ms/step - loss: 0.4986 - accuracy: 0.7475 - val_loss: 0.4894 - val_accuracy: 0.8049\n",
            "Epoch 114/200\n",
            "8/8 [==============================] - 0s 8ms/step - loss: 0.5228 - accuracy: 0.7373 - val_loss: 0.4883 - val_accuracy: 0.8049\n",
            "Epoch 115/200\n",
            "8/8 [==============================] - 0s 8ms/step - loss: 0.5253 - accuracy: 0.7434 - val_loss: 0.4914 - val_accuracy: 0.7967\n",
            "Epoch 116/200\n",
            "8/8 [==============================] - 0s 8ms/step - loss: 0.5087 - accuracy: 0.7556 - val_loss: 0.4875 - val_accuracy: 0.8049\n",
            "Epoch 117/200\n",
            "8/8 [==============================] - 0s 10ms/step - loss: 0.4854 - accuracy: 0.7780 - val_loss: 0.4845 - val_accuracy: 0.7967\n",
            "Epoch 118/200\n",
            "8/8 [==============================] - 0s 7ms/step - loss: 0.5356 - accuracy: 0.7210 - val_loss: 0.4851 - val_accuracy: 0.7886\n",
            "Epoch 119/200\n",
            "8/8 [==============================] - 0s 9ms/step - loss: 0.5346 - accuracy: 0.7108 - val_loss: 0.4877 - val_accuracy: 0.7886\n",
            "Epoch 120/200\n",
            "8/8 [==============================] - 0s 8ms/step - loss: 0.5113 - accuracy: 0.7495 - val_loss: 0.4809 - val_accuracy: 0.8049\n",
            "Epoch 121/200\n",
            "8/8 [==============================] - 0s 9ms/step - loss: 0.5142 - accuracy: 0.7495 - val_loss: 0.4782 - val_accuracy: 0.8049\n",
            "Epoch 122/200\n",
            "8/8 [==============================] - 0s 10ms/step - loss: 0.5208 - accuracy: 0.7312 - val_loss: 0.4841 - val_accuracy: 0.8049\n",
            "Epoch 123/200\n",
            "8/8 [==============================] - 0s 10ms/step - loss: 0.5239 - accuracy: 0.7393 - val_loss: 0.4847 - val_accuracy: 0.8049\n",
            "Epoch 124/200\n",
            "8/8 [==============================] - 0s 8ms/step - loss: 0.5158 - accuracy: 0.7434 - val_loss: 0.4819 - val_accuracy: 0.8049\n",
            "Epoch 125/200\n",
            "8/8 [==============================] - 0s 11ms/step - loss: 0.4924 - accuracy: 0.7760 - val_loss: 0.4841 - val_accuracy: 0.8049\n",
            "Epoch 126/200\n",
            "8/8 [==============================] - 0s 11ms/step - loss: 0.5127 - accuracy: 0.7495 - val_loss: 0.4825 - val_accuracy: 0.8049\n",
            "Epoch 127/200\n",
            "8/8 [==============================] - 0s 8ms/step - loss: 0.4890 - accuracy: 0.7658 - val_loss: 0.4774 - val_accuracy: 0.8049\n",
            "Epoch 128/200\n",
            "8/8 [==============================] - 0s 8ms/step - loss: 0.5277 - accuracy: 0.7352 - val_loss: 0.4775 - val_accuracy: 0.8130\n",
            "Epoch 129/200\n",
            "8/8 [==============================] - 0s 10ms/step - loss: 0.5072 - accuracy: 0.7719 - val_loss: 0.4826 - val_accuracy: 0.7967\n",
            "Epoch 130/200\n",
            "8/8 [==============================] - 0s 11ms/step - loss: 0.5145 - accuracy: 0.7312 - val_loss: 0.4843 - val_accuracy: 0.7886\n",
            "Epoch 131/200\n",
            "8/8 [==============================] - 0s 11ms/step - loss: 0.5004 - accuracy: 0.7637 - val_loss: 0.4811 - val_accuracy: 0.8049\n",
            "Epoch 132/200\n",
            "8/8 [==============================] - 0s 8ms/step - loss: 0.5144 - accuracy: 0.7413 - val_loss: 0.4811 - val_accuracy: 0.8049\n",
            "Epoch 133/200\n",
            "8/8 [==============================] - 0s 9ms/step - loss: 0.5098 - accuracy: 0.7312 - val_loss: 0.4822 - val_accuracy: 0.8049\n",
            "Epoch 134/200\n",
            "8/8 [==============================] - 0s 8ms/step - loss: 0.5075 - accuracy: 0.7556 - val_loss: 0.4830 - val_accuracy: 0.7967\n",
            "Epoch 135/200\n",
            "8/8 [==============================] - 0s 10ms/step - loss: 0.4899 - accuracy: 0.7821 - val_loss: 0.4831 - val_accuracy: 0.7886\n",
            "Epoch 136/200\n",
            "8/8 [==============================] - 0s 8ms/step - loss: 0.5217 - accuracy: 0.7536 - val_loss: 0.4805 - val_accuracy: 0.8130\n",
            "Epoch 137/200\n",
            "8/8 [==============================] - 0s 9ms/step - loss: 0.5115 - accuracy: 0.7475 - val_loss: 0.4794 - val_accuracy: 0.8130\n",
            "Epoch 138/200\n",
            "8/8 [==============================] - 0s 8ms/step - loss: 0.5085 - accuracy: 0.7495 - val_loss: 0.4853 - val_accuracy: 0.7886\n",
            "Epoch 139/200\n",
            "8/8 [==============================] - 0s 11ms/step - loss: 0.5024 - accuracy: 0.7495 - val_loss: 0.4822 - val_accuracy: 0.7967\n",
            "Epoch 140/200\n",
            "8/8 [==============================] - 0s 10ms/step - loss: 0.4904 - accuracy: 0.7719 - val_loss: 0.4799 - val_accuracy: 0.8049\n",
            "Epoch 141/200\n",
            "8/8 [==============================] - 0s 10ms/step - loss: 0.5034 - accuracy: 0.7536 - val_loss: 0.4802 - val_accuracy: 0.8049\n",
            "Epoch 142/200\n",
            "8/8 [==============================] - 0s 8ms/step - loss: 0.4934 - accuracy: 0.7556 - val_loss: 0.4768 - val_accuracy: 0.8049\n",
            "Epoch 143/200\n",
            "8/8 [==============================] - 0s 8ms/step - loss: 0.4898 - accuracy: 0.7760 - val_loss: 0.4798 - val_accuracy: 0.8130\n",
            "Epoch 144/200\n",
            "8/8 [==============================] - 0s 10ms/step - loss: 0.5000 - accuracy: 0.7576 - val_loss: 0.4789 - val_accuracy: 0.8130\n",
            "Epoch 145/200\n",
            "8/8 [==============================] - 0s 8ms/step - loss: 0.5116 - accuracy: 0.7495 - val_loss: 0.4788 - val_accuracy: 0.8049\n",
            "Epoch 146/200\n",
            "8/8 [==============================] - 0s 9ms/step - loss: 0.5218 - accuracy: 0.7230 - val_loss: 0.4801 - val_accuracy: 0.7886\n",
            "Epoch 147/200\n",
            "8/8 [==============================] - 0s 8ms/step - loss: 0.5016 - accuracy: 0.7495 - val_loss: 0.4781 - val_accuracy: 0.7886\n",
            "Epoch 148/200\n",
            "8/8 [==============================] - 0s 10ms/step - loss: 0.5184 - accuracy: 0.7413 - val_loss: 0.4749 - val_accuracy: 0.8049\n",
            "Epoch 149/200\n",
            "8/8 [==============================] - 0s 8ms/step - loss: 0.5025 - accuracy: 0.7780 - val_loss: 0.4798 - val_accuracy: 0.7886\n",
            "Epoch 150/200\n",
            "8/8 [==============================] - 0s 9ms/step - loss: 0.5201 - accuracy: 0.7678 - val_loss: 0.4798 - val_accuracy: 0.8049\n",
            "Epoch 151/200\n",
            "8/8 [==============================] - 0s 8ms/step - loss: 0.5082 - accuracy: 0.7434 - val_loss: 0.4779 - val_accuracy: 0.8130\n",
            "Epoch 152/200\n",
            "8/8 [==============================] - 0s 12ms/step - loss: 0.4855 - accuracy: 0.7678 - val_loss: 0.4777 - val_accuracy: 0.7967\n",
            "Epoch 153/200\n",
            "8/8 [==============================] - 0s 9ms/step - loss: 0.4932 - accuracy: 0.7515 - val_loss: 0.4758 - val_accuracy: 0.8049\n",
            "Epoch 154/200\n",
            "8/8 [==============================] - 0s 9ms/step - loss: 0.5003 - accuracy: 0.7658 - val_loss: 0.4726 - val_accuracy: 0.8130\n",
            "Epoch 155/200\n",
            "8/8 [==============================] - 0s 9ms/step - loss: 0.4785 - accuracy: 0.7699 - val_loss: 0.4773 - val_accuracy: 0.7967\n",
            "Epoch 156/200\n",
            "8/8 [==============================] - 0s 11ms/step - loss: 0.5005 - accuracy: 0.7475 - val_loss: 0.4732 - val_accuracy: 0.8049\n",
            "Epoch 157/200\n",
            "8/8 [==============================] - 0s 12ms/step - loss: 0.5039 - accuracy: 0.7536 - val_loss: 0.4696 - val_accuracy: 0.8130\n",
            "Epoch 158/200\n",
            "8/8 [==============================] - 0s 10ms/step - loss: 0.4872 - accuracy: 0.7576 - val_loss: 0.4702 - val_accuracy: 0.8130\n",
            "Epoch 159/200\n",
            "8/8 [==============================] - 0s 11ms/step - loss: 0.4915 - accuracy: 0.7617 - val_loss: 0.4741 - val_accuracy: 0.7967\n",
            "Epoch 160/200\n",
            "8/8 [==============================] - 0s 9ms/step - loss: 0.5058 - accuracy: 0.7617 - val_loss: 0.4765 - val_accuracy: 0.7886\n",
            "Epoch 161/200\n",
            "8/8 [==============================] - 0s 12ms/step - loss: 0.5100 - accuracy: 0.7413 - val_loss: 0.4731 - val_accuracy: 0.8049\n",
            "Epoch 162/200\n",
            "8/8 [==============================] - 0s 10ms/step - loss: 0.4909 - accuracy: 0.7637 - val_loss: 0.4734 - val_accuracy: 0.8130\n",
            "Epoch 163/200\n",
            "8/8 [==============================] - 0s 11ms/step - loss: 0.4981 - accuracy: 0.7678 - val_loss: 0.4753 - val_accuracy: 0.7967\n",
            "Epoch 164/200\n",
            "8/8 [==============================] - 0s 10ms/step - loss: 0.5102 - accuracy: 0.7475 - val_loss: 0.4781 - val_accuracy: 0.7886\n",
            "Epoch 165/200\n",
            "8/8 [==============================] - 0s 8ms/step - loss: 0.5125 - accuracy: 0.7230 - val_loss: 0.4751 - val_accuracy: 0.8130\n",
            "Epoch 166/200\n",
            "8/8 [==============================] - 0s 11ms/step - loss: 0.4967 - accuracy: 0.7658 - val_loss: 0.4756 - val_accuracy: 0.8130\n",
            "Epoch 167/200\n",
            "8/8 [==============================] - 0s 11ms/step - loss: 0.4893 - accuracy: 0.7475 - val_loss: 0.4761 - val_accuracy: 0.8130\n",
            "Epoch 168/200\n",
            "8/8 [==============================] - 0s 11ms/step - loss: 0.4877 - accuracy: 0.7760 - val_loss: 0.4726 - val_accuracy: 0.8049\n",
            "Epoch 169/200\n",
            "8/8 [==============================] - 0s 11ms/step - loss: 0.4862 - accuracy: 0.7637 - val_loss: 0.4761 - val_accuracy: 0.7967\n",
            "Epoch 170/200\n",
            "8/8 [==============================] - 0s 11ms/step - loss: 0.5063 - accuracy: 0.7780 - val_loss: 0.4774 - val_accuracy: 0.7886\n",
            "Epoch 171/200\n",
            "8/8 [==============================] - 0s 10ms/step - loss: 0.4932 - accuracy: 0.7637 - val_loss: 0.4711 - val_accuracy: 0.7886\n",
            "Epoch 172/200\n",
            "8/8 [==============================] - 0s 11ms/step - loss: 0.4957 - accuracy: 0.7780 - val_loss: 0.4756 - val_accuracy: 0.7967\n",
            "Epoch 173/200\n",
            "8/8 [==============================] - 0s 12ms/step - loss: 0.4960 - accuracy: 0.7332 - val_loss: 0.4761 - val_accuracy: 0.7967\n",
            "Epoch 174/200\n",
            "8/8 [==============================] - 0s 12ms/step - loss: 0.4939 - accuracy: 0.7617 - val_loss: 0.4730 - val_accuracy: 0.8049\n",
            "Epoch 175/200\n",
            "8/8 [==============================] - 0s 9ms/step - loss: 0.5089 - accuracy: 0.7536 - val_loss: 0.4749 - val_accuracy: 0.8049\n",
            "Epoch 176/200\n",
            "8/8 [==============================] - 0s 9ms/step - loss: 0.4973 - accuracy: 0.7597 - val_loss: 0.4729 - val_accuracy: 0.8049\n",
            "Epoch 177/200\n",
            "8/8 [==============================] - 0s 9ms/step - loss: 0.4881 - accuracy: 0.7515 - val_loss: 0.4713 - val_accuracy: 0.8049\n",
            "Epoch 178/200\n",
            "8/8 [==============================] - 0s 12ms/step - loss: 0.5089 - accuracy: 0.7495 - val_loss: 0.4724 - val_accuracy: 0.7967\n",
            "Epoch 179/200\n",
            "8/8 [==============================] - 0s 9ms/step - loss: 0.4893 - accuracy: 0.7536 - val_loss: 0.4719 - val_accuracy: 0.8049\n",
            "Epoch 180/200\n",
            "8/8 [==============================] - 0s 11ms/step - loss: 0.5017 - accuracy: 0.7617 - val_loss: 0.4728 - val_accuracy: 0.8049\n",
            "Epoch 181/200\n",
            "8/8 [==============================] - 0s 11ms/step - loss: 0.4988 - accuracy: 0.7576 - val_loss: 0.4722 - val_accuracy: 0.8130\n",
            "Epoch 182/200\n",
            "8/8 [==============================] - 0s 9ms/step - loss: 0.4714 - accuracy: 0.7780 - val_loss: 0.4722 - val_accuracy: 0.8049\n",
            "Epoch 183/200\n",
            "8/8 [==============================] - 0s 11ms/step - loss: 0.4911 - accuracy: 0.7719 - val_loss: 0.4672 - val_accuracy: 0.8049\n",
            "Epoch 184/200\n",
            "8/8 [==============================] - 0s 11ms/step - loss: 0.4765 - accuracy: 0.7862 - val_loss: 0.4679 - val_accuracy: 0.8049\n",
            "Epoch 185/200\n",
            "8/8 [==============================] - 0s 12ms/step - loss: 0.4948 - accuracy: 0.7556 - val_loss: 0.4735 - val_accuracy: 0.8130\n",
            "Epoch 186/200\n",
            "8/8 [==============================] - 0s 10ms/step - loss: 0.5018 - accuracy: 0.7536 - val_loss: 0.4703 - val_accuracy: 0.8049\n",
            "Epoch 187/200\n",
            "8/8 [==============================] - 0s 8ms/step - loss: 0.4941 - accuracy: 0.7475 - val_loss: 0.4685 - val_accuracy: 0.7967\n",
            "Epoch 188/200\n",
            "8/8 [==============================] - 0s 11ms/step - loss: 0.4747 - accuracy: 0.7719 - val_loss: 0.4715 - val_accuracy: 0.8130\n",
            "Epoch 189/200\n",
            "8/8 [==============================] - 0s 8ms/step - loss: 0.4852 - accuracy: 0.7515 - val_loss: 0.4755 - val_accuracy: 0.8049\n",
            "Epoch 190/200\n",
            "8/8 [==============================] - 0s 8ms/step - loss: 0.4890 - accuracy: 0.7515 - val_loss: 0.4706 - val_accuracy: 0.8049\n",
            "Epoch 191/200\n",
            "8/8 [==============================] - 0s 8ms/step - loss: 0.4833 - accuracy: 0.7678 - val_loss: 0.4707 - val_accuracy: 0.8049\n",
            "Epoch 192/200\n",
            "8/8 [==============================] - 0s 11ms/step - loss: 0.4785 - accuracy: 0.7739 - val_loss: 0.4692 - val_accuracy: 0.7967\n",
            "Epoch 193/200\n",
            "8/8 [==============================] - 0s 9ms/step - loss: 0.4906 - accuracy: 0.7637 - val_loss: 0.4703 - val_accuracy: 0.8049\n",
            "Epoch 194/200\n",
            "8/8 [==============================] - 0s 8ms/step - loss: 0.4788 - accuracy: 0.7597 - val_loss: 0.4719 - val_accuracy: 0.8130\n",
            "Epoch 195/200\n",
            "8/8 [==============================] - 0s 11ms/step - loss: 0.4792 - accuracy: 0.7760 - val_loss: 0.4713 - val_accuracy: 0.8049\n",
            "Epoch 196/200\n",
            "8/8 [==============================] - 0s 8ms/step - loss: 0.4998 - accuracy: 0.7536 - val_loss: 0.4742 - val_accuracy: 0.7886\n",
            "Epoch 197/200\n",
            "8/8 [==============================] - 0s 9ms/step - loss: 0.4750 - accuracy: 0.7821 - val_loss: 0.4715 - val_accuracy: 0.7967\n",
            "Epoch 198/200\n",
            "8/8 [==============================] - 0s 9ms/step - loss: 0.4870 - accuracy: 0.7637 - val_loss: 0.4702 - val_accuracy: 0.8130\n",
            "Epoch 199/200\n",
            "8/8 [==============================] - 0s 16ms/step - loss: 0.4992 - accuracy: 0.7699 - val_loss: 0.4668 - val_accuracy: 0.7967\n",
            "Epoch 200/200\n",
            "8/8 [==============================] - 0s 13ms/step - loss: 0.4767 - accuracy: 0.7617 - val_loss: 0.4665 - val_accuracy: 0.7805\n",
            "Fin del Entrenamiento\n"
          ]
        }
      ]
    },
    {
      "cell_type": "markdown",
      "source": [
        "### Visualización de Métricas"
      ],
      "metadata": {
        "id": "hLuJVqgvj8Re"
      }
    },
    {
      "cell_type": "code",
      "source": [
        "# Evaluación del modelo en el conjunto de prueba\n",
        "predictions_prob = model.predict(X_test)\n",
        "# Aplicar umbral para obtener etiquetas binarias\n",
        "threshold = 0.5  # Ajusta el umbral según sea necesario\n",
        "predictions = (predictions_prob > threshold).astype(int)"
      ],
      "metadata": {
        "colab": {
          "base_uri": "https://localhost:8080/"
        },
        "id": "nlASnInERPjR",
        "outputId": "def0a99b-820e-4fea-b40b-f5b7d8c21c68"
      },
      "execution_count": null,
      "outputs": [
        {
          "output_type": "stream",
          "name": "stdout",
          "text": [
            "5/5 [==============================] - 0s 3ms/step\n"
          ]
        }
      ]
    },
    {
      "cell_type": "code",
      "source": [
        "# Obtener las métricas de precisión y pérdida del historial\n",
        "acc = history.history['accuracy']\n",
        "val_acc = history.history['val_accuracy']\n",
        "\n",
        "loss = history.history['loss']\n",
        "val_loss = history.history['val_loss']\n",
        "\n",
        "epochs_range = range(len(acc))  # Usar el número de épocas del entrenamiento\n",
        "\n",
        "plt.figure(figsize=(10, 5))\n",
        "\n",
        "# Gráfico de precisión\n",
        "plt.subplot(1, 2, 1)\n",
        "plt.plot(epochs_range, acc, label='Training Accuracy')\n",
        "plt.plot(epochs_range, val_acc, label='Validation Accuracy')\n",
        "plt.xlabel('Epoch')\n",
        "plt.ylabel('Accuracy')\n",
        "plt.title('Training and Validation Accuracy')\n",
        "plt.legend()\n",
        "\n",
        "# Gráfico de pérdida\n",
        "plt.subplot(1, 2, 2)\n",
        "plt.plot(epochs_range, loss, label='Training Loss')\n",
        "plt.plot(epochs_range, val_loss, label='Validation Loss')\n",
        "plt.xlabel('Epoch')\n",
        "plt.ylabel('Loss')\n",
        "plt.title('Training and Validation Loss')\n",
        "plt.legend()\n",
        "\n",
        "plt.tight_layout()\n",
        "plt.show()"
      ],
      "metadata": {
        "colab": {
          "base_uri": "https://localhost:8080/",
          "height": 507
        },
        "id": "iQk6ClOTfM8k",
        "outputId": "71bd3e67-c747-4624-b811-ff066eae9392"
      },
      "execution_count": null,
      "outputs": [
        {
          "output_type": "display_data",
          "data": {
            "text/plain": [
              "<Figure size 1000x500 with 2 Axes>"
            ],
            "image/png": "[encoded data removed]"
          },
          "metadata": {}
        }
      ]
    },
    {
      "cell_type": "code",
      "source": [
        "print(\"--------------------------\")\n",
        "accuracy = accuracy_score(y_test, predictions)\n",
        "precision = precision_score(y_test, predictions)\n",
        "recall = recall_score(y_test, predictions)\n",
        "f1_score = 2 * (precision * recall) / (precision + recall)\n",
        "conf_matrix = confusion_matrix(y_test, predictions)\n",
        "classification_rep = classification_report(y_test, predictions)\n",
        "\n",
        "print(\"Accuracy: {:.2f}%\".format(accuracy * 100))\n",
        "print(\"Precision: {:.2f}%\".format(precision * 100))\n",
        "print(\"Recall: {:.2f}%\".format(recall * 100))\n",
        "print(\"F1-Score: {:.2f}%\".format(f1_score * 100))\n",
        "print(\"\\nConfusion Matrix:\\n\", conf_matrix)\n",
        "print(\"\\nClassification Report:\\n\", classification_rep)"
      ],
      "metadata": {
        "colab": {
          "base_uri": "https://localhost:8080/"
        },
        "id": "KSRNnT0ut1MK",
        "outputId": "19560655-919b-4e5f-bfe4-7df0d74db7b5"
      },
      "execution_count": null,
      "outputs": [
        {
          "output_type": "stream",
          "name": "stdout",
          "text": [
            "--------------------------\n",
            "Accuracy: 79.87%\n",
            "Precision: 80.00%\n",
            "Recall: 62.07%\n",
            "F1-Score: 69.90%\n",
            "\n",
            "Confusion Matrix:\n",
            " [[87  9]\n",
            " [22 36]]\n",
            "\n",
            "Classification Report:\n",
            "               precision    recall  f1-score   support\n",
            "\n",
            "         0.0       0.80      0.91      0.85        96\n",
            "         1.0       0.80      0.62      0.70        58\n",
            "\n",
            "    accuracy                           0.80       154\n",
            "   macro avg       0.80      0.76      0.77       154\n",
            "weighted avg       0.80      0.80      0.79       154\n",
            "\n"
          ]
        }
      ]
    },
    {
      "cell_type": "markdown",
      "source": [
        "## Predicciones"
      ],
      "metadata": {
        "id": "nBrre1YkkBmK"
      }
    },
    {
      "cell_type": "code",
      "source": [],
      "metadata": {
        "id": "aqLmI0U2sLh4"
      },
      "execution_count": null,
      "outputs": []
    },
    {
      "cell_type": "markdown",
      "source": [
        "# RNN / Palabra a palabra"
      ],
      "metadata": {
        "id": "6sNmduRIsELJ"
      }
    },
    {
      "cell_type": "code",
      "source": [],
      "metadata": {
        "id": "4cmooLH5sJZj"
      },
      "execution_count": null,
      "outputs": []
    },
    {
      "cell_type": "markdown",
      "source": [
        "# Observaciones finales"
      ],
      "metadata": {
        "id": "1644EvyRQMft"
      }
    },
    {
      "cell_type": "markdown",
      "source": [
        "Aunque las métricas obtenidas no son del todo malas para el problema de clasificación, los resultados están lejos de ser los deseados para esta situación. Numerosas pruebas y ensayos con distintas configuraciones y arquitecturas motivaron la decisión de reemplazar esta actividad por la denominada \"Problema 2b\" por lo que se interrumpe la experimentación y se continúa el trabajo con el siguiente."
      ],
      "metadata": {
        "id": "i166I8u3QP6e"
      }
    }
  ],
  "metadata": {
    "language_info": {
      "name": "python"
    },
    "colab": {
      "provenance": []
    },
    "kernelspec": {
      "name": "python3",
      "display_name": "Python 3"
    }
  },
  "nbformat": 4,
  "nbformat_minor": 0
}